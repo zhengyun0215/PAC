{
 "cells": [
  {
   "cell_type": "markdown",
   "id": "f06641ce-69f7-4c1a-89ba-7d398c7f3572",
   "metadata": {},
   "source": [
    "# LOAD package"
   ]
  },
  {
   "cell_type": "code",
   "execution_count": 2,
   "id": "9af954fc-de4a-4d35-9602-a473baedfdb7",
   "metadata": {
    "execution": {
     "iopub.execute_input": "2022-06-05T16:53:54.952539Z",
     "iopub.status.busy": "2022-06-05T16:53:54.952086Z",
     "iopub.status.idle": "2022-06-05T16:54:00.127723Z",
     "shell.execute_reply": "2022-06-05T16:54:00.126755Z",
     "shell.execute_reply.started": "2022-06-05T16:53:54.952510Z"
    },
    "tags": []
   },
   "outputs": [],
   "source": [
    "# from astropy import table\n",
    "import numpy as np\n",
    "import matplotlib.pyplot as plt\n",
    "import matplotlib as mpl\n",
    "%matplotlib inline\n",
    "from astropy.table import Table,Column,hstack,vstack\n",
    "from astropy.io import fits"
   ]
  },
  {
   "cell_type": "code",
   "execution_count": 3,
   "id": "1d9890b7-3c4a-4f81-a72f-e0e1104e9bf5",
   "metadata": {
    "execution": {
     "iopub.execute_input": "2022-06-05T16:54:00.129167Z",
     "iopub.status.busy": "2022-06-05T16:54:00.128878Z",
     "iopub.status.idle": "2022-06-05T16:54:00.653736Z",
     "shell.execute_reply": "2022-06-05T16:54:00.652445Z",
     "shell.execute_reply.started": "2022-06-05T16:54:00.129145Z"
    },
    "tags": []
   },
   "outputs": [],
   "source": [
    "from astropy.coordinates import SkyCoord\n",
    "from astropy.cosmology import FlatLambdaCDM,z_at_value\n",
    "cosmo = FlatLambdaCDM(H0 = 67.74,Om0 = 0.3089,Ob0 = 0.0486)\n",
    "from scipy.spatial import cKDTree\n",
    "import astropy.units as u"
   ]
  },
  {
   "cell_type": "markdown",
   "id": "993bfae5-680d-452a-9593-7f8e5ba49867",
   "metadata": {},
   "source": [
    "# load decals catalogue"
   ]
  },
  {
   "cell_type": "code",
   "execution_count": 3,
   "id": "c60bb293-ae4b-4205-90c2-cd2ac0a1522a",
   "metadata": {
    "execution": {
     "iopub.execute_input": "2022-05-24T08:21:13.526306Z",
     "iopub.status.busy": "2022-05-24T08:21:13.526139Z",
     "iopub.status.idle": "2022-05-24T08:21:47.111998Z",
     "shell.execute_reply": "2022-05-24T08:21:47.110889Z",
     "shell.execute_reply.started": "2022-05-24T08:21:13.526288Z"
    },
    "tags": []
   },
   "outputs": [],
   "source": [
    "decals = Table.read(\"/home/kunxu/DECaLS/spec/spec_decals.fits\")\n",
    "bass = Table.read(\"/home/kunxu/DECaLS/spec/spec_bass.fits\")"
   ]
  },
  {
   "cell_type": "code",
   "execution_count": 4,
   "id": "8e8d4b77-b966-46ed-b8e9-4daaa3f9f05a",
   "metadata": {
    "collapsed": true,
    "execution": {
     "iopub.execute_input": "2022-05-24T08:21:47.113734Z",
     "iopub.status.busy": "2022-05-24T08:21:47.113317Z",
     "iopub.status.idle": "2022-05-24T08:21:47.202536Z",
     "shell.execute_reply": "2022-05-24T08:21:47.202024Z",
     "shell.execute_reply.started": "2022-05-24T08:21:47.113714Z"
    },
    "jupyter": {
     "outputs_hidden": true
    },
    "tags": []
   },
   "outputs": [
    {
     "data": {
      "text/html": [
       "<div><i>Table length=3558075</i>\n",
       "<table id=\"table47893269688480\" class=\"table-striped table-bordered table-condensed\">\n",
       "<thead><tr><th>RELEASE</th><th>BRICKID</th><th>BRICKNAME</th><th>OBJID</th><th>BRICK_PRIMARY</th><th>MASKBITS</th><th>FITBITS</th><th>TYPE</th><th>RA</th><th>DEC</th><th>RA_IVAR</th><th>DEC_IVAR</th><th>BX</th><th>BY</th><th>DCHISQ [5]</th><th>EBV</th><th>MJD_MIN</th><th>MJD_MAX</th><th>REF_CAT</th><th>REF_ID</th><th>PMRA</th><th>PMDEC</th><th>PARALLAX</th><th>PMRA_IVAR</th><th>PMDEC_IVAR</th><th>PARALLAX_IVAR</th><th>REF_EPOCH</th><th>GAIA_PHOT_G_MEAN_MAG</th><th>GAIA_PHOT_G_MEAN_FLUX_OVER_ERROR</th><th>GAIA_PHOT_G_N_OBS</th><th>GAIA_PHOT_BP_MEAN_MAG</th><th>GAIA_PHOT_BP_MEAN_FLUX_OVER_ERROR</th><th>GAIA_PHOT_BP_N_OBS</th><th>GAIA_PHOT_RP_MEAN_MAG</th><th>GAIA_PHOT_RP_MEAN_FLUX_OVER_ERROR</th><th>GAIA_PHOT_RP_N_OBS</th><th>GAIA_PHOT_VARIABLE_FLAG</th><th>GAIA_ASTROMETRIC_EXCESS_NOISE</th><th>GAIA_ASTROMETRIC_EXCESS_NOISE_SIG</th><th>GAIA_ASTROMETRIC_N_OBS_AL</th><th>GAIA_ASTROMETRIC_N_GOOD_OBS_AL</th><th>GAIA_ASTROMETRIC_WEIGHT_AL</th><th>GAIA_DUPLICATED_SOURCE</th><th>GAIA_A_G_VAL</th><th>GAIA_E_BP_MIN_RP_VAL</th><th>GAIA_PHOT_BP_RP_EXCESS_FACTOR</th><th>GAIA_ASTROMETRIC_SIGMA5D_MAX</th><th>GAIA_ASTROMETRIC_PARAMS_SOLVED</th><th>FLUX_G</th><th>FLUX_R</th><th>FLUX_Z</th><th>FLUX_W1</th><th>FLUX_W2</th><th>FLUX_W3</th><th>FLUX_W4</th><th>FLUX_IVAR_G</th><th>FLUX_IVAR_R</th><th>FLUX_IVAR_Z</th><th>FLUX_IVAR_W1</th><th>FLUX_IVAR_W2</th><th>FLUX_IVAR_W3</th><th>FLUX_IVAR_W4</th><th>FIBERFLUX_G</th><th>FIBERFLUX_R</th><th>FIBERFLUX_Z</th><th>FIBERTOTFLUX_G</th><th>FIBERTOTFLUX_R</th><th>FIBERTOTFLUX_Z</th><th>APFLUX_G [8]</th><th>APFLUX_R [8]</th><th>APFLUX_Z [8]</th><th>APFLUX_RESID_G [8]</th><th>APFLUX_RESID_R [8]</th><th>APFLUX_RESID_Z [8]</th><th>APFLUX_BLOBRESID_G [8]</th><th>APFLUX_BLOBRESID_R [8]</th><th>APFLUX_BLOBRESID_Z [8]</th><th>APFLUX_IVAR_G [8]</th><th>APFLUX_IVAR_R [8]</th><th>APFLUX_IVAR_Z [8]</th><th>APFLUX_MASKED_G [8]</th><th>APFLUX_MASKED_R [8]</th><th>APFLUX_MASKED_Z [8]</th><th>APFLUX_W1 [5]</th><th>APFLUX_W2 [5]</th><th>APFLUX_W3 [5]</th><th>APFLUX_W4 [5]</th><th>APFLUX_RESID_W1 [5]</th><th>APFLUX_RESID_W2 [5]</th><th>APFLUX_RESID_W3 [5]</th><th>APFLUX_RESID_W4 [5]</th><th>APFLUX_IVAR_W1 [5]</th><th>APFLUX_IVAR_W2 [5]</th><th>APFLUX_IVAR_W3 [5]</th><th>APFLUX_IVAR_W4 [5]</th><th>MW_TRANSMISSION_G</th><th>MW_TRANSMISSION_R</th><th>MW_TRANSMISSION_Z</th><th>MW_TRANSMISSION_W1</th><th>MW_TRANSMISSION_W2</th><th>MW_TRANSMISSION_W3</th><th>MW_TRANSMISSION_W4</th><th>NOBS_G</th><th>NOBS_R</th><th>NOBS_Z</th><th>NOBS_W1</th><th>NOBS_W2</th><th>NOBS_W3</th><th>NOBS_W4</th><th>RCHISQ_G</th><th>RCHISQ_R</th><th>RCHISQ_Z</th><th>RCHISQ_W1</th><th>RCHISQ_W2</th><th>RCHISQ_W3</th><th>RCHISQ_W4</th><th>FRACFLUX_G</th><th>FRACFLUX_R</th><th>FRACFLUX_Z</th><th>FRACFLUX_W1</th><th>FRACFLUX_W2</th><th>FRACFLUX_W3</th><th>FRACFLUX_W4</th><th>FRACMASKED_G</th><th>FRACMASKED_R</th><th>FRACMASKED_Z</th><th>FRACIN_G</th><th>FRACIN_R</th><th>FRACIN_Z</th><th>ANYMASK_G</th><th>ANYMASK_R</th><th>ANYMASK_Z</th><th>ALLMASK_G</th><th>ALLMASK_R</th><th>ALLMASK_Z</th><th>WISEMASK_W1</th><th>WISEMASK_W2</th><th>PSFSIZE_G</th><th>PSFSIZE_R</th><th>PSFSIZE_Z</th><th>PSFDEPTH_G</th><th>PSFDEPTH_R</th><th>PSFDEPTH_Z</th><th>GALDEPTH_G</th><th>GALDEPTH_R</th><th>GALDEPTH_Z</th><th>NEA_G</th><th>NEA_R</th><th>NEA_Z</th><th>BLOB_NEA_G</th><th>BLOB_NEA_R</th><th>BLOB_NEA_Z</th><th>PSFDEPTH_W1</th><th>PSFDEPTH_W2</th><th>PSFDEPTH_W3</th><th>PSFDEPTH_W4</th><th>WISE_COADD_ID</th><th>WISE_X</th><th>WISE_Y</th><th>LC_FLUX_W1 [15]</th><th>LC_FLUX_W2 [15]</th><th>LC_FLUX_IVAR_W1 [15]</th><th>LC_FLUX_IVAR_W2 [15]</th><th>LC_NOBS_W1 [15]</th><th>LC_NOBS_W2 [15]</th><th>LC_FRACFLUX_W1 [15]</th><th>LC_FRACFLUX_W2 [15]</th><th>LC_RCHISQ_W1 [15]</th><th>LC_RCHISQ_W2 [15]</th><th>LC_MJD_W1 [15]</th><th>LC_MJD_W2 [15]</th><th>LC_EPOCH_INDEX_W1 [15]</th><th>LC_EPOCH_INDEX_W2 [15]</th><th>SERSIC</th><th>SERSIC_IVAR</th><th>SHAPE_R</th><th>SHAPE_R_IVAR</th><th>SHAPE_E1</th><th>SHAPE_E1_IVAR</th><th>SHAPE_E2</th><th>SHAPE_E2_IVAR</th><th>MJD</th><th>PLATE</th><th>FIBERID</th><th>RUN2D</th><th>SURVEY</th><th>Z</th></tr></thead>\n",
       "<thead><tr><th></th><th></th><th></th><th></th><th></th><th></th><th></th><th></th><th>deg</th><th>deg</th><th>1/deg^2</th><th>1/deg^2</th><th></th><th></th><th></th><th>mag</th><th></th><th></th><th></th><th></th><th>mas / yr</th><th>mas / yr</th><th>mas</th><th>1/(mas/yr)^2</th><th>1/(mas/yr)^2</th><th>1/mas^2</th><th></th><th>mag</th><th></th><th></th><th>mag</th><th></th><th></th><th>mag</th><th></th><th></th><th></th><th></th><th></th><th></th><th></th><th></th><th></th><th></th><th></th><th></th><th></th><th></th><th>nanomaggy</th><th>nanomaggy</th><th>nanomaggy</th><th>nanomaggy</th><th>nanomaggy</th><th>nanomaggy</th><th>nanomaggy</th><th>1/nanomaggy^2</th><th>1/nanomaggy^2</th><th>1/nanomaggy^2</th><th>1/nanomaggy^2</th><th>1/nanomaggy^2</th><th>1/nanomaggy^2</th><th>1/nanomaggy^2</th><th>nanomaggy</th><th>nanomaggy</th><th>nanomaggy</th><th>nanomaggy</th><th>nanomaggy</th><th>nanomaggy</th><th>nanomaggy</th><th>nanomaggy</th><th>nanomaggy</th><th>nanomaggy</th><th>nanomaggy</th><th>nanomaggy</th><th>nanomaggy</th><th>nanomaggy</th><th>nanomaggy</th><th>1/nanomaggy^2</th><th>1/nanomaggy^2</th><th>1/nanomaggy^2</th><th></th><th></th><th></th><th>nanomaggy</th><th>nanomaggy</th><th>nanomaggy</th><th>nanomaggy</th><th>nanomaggy</th><th>nanomaggy</th><th>nanomaggy</th><th>nanomaggy</th><th>1/nanomaggy^2</th><th>1/nanomaggy^2</th><th>1/nanomaggy^2</th><th>1/nanomaggy^2</th><th></th><th></th><th></th><th></th><th></th><th></th><th></th><th></th><th></th><th></th><th></th><th></th><th></th><th></th><th></th><th></th><th></th><th></th><th></th><th></th><th></th><th></th><th></th><th></th><th></th><th></th><th></th><th></th><th></th><th></th><th></th><th></th><th></th><th></th><th></th><th></th><th></th><th></th><th></th><th></th><th></th><th></th><th>arcsec</th><th>arcsec</th><th>arcsec</th><th>1/nanomaggy^2</th><th>1/nanomaggy^2</th><th>1/nanomaggy^2</th><th>1/nanomaggy^2</th><th>1/nanomaggy^2</th><th>1/nanomaggy^2</th><th></th><th></th><th></th><th></th><th></th><th></th><th>1/nanomaggy^2</th><th>1/nanomaggy^2</th><th>1/nanomaggy^2</th><th>1/nanomaggy^2</th><th></th><th></th><th></th><th>nanomaggy</th><th>nanomaggy</th><th>1/nanomaggy^2</th><th>1/nanomaggy^2</th><th></th><th></th><th></th><th></th><th></th><th></th><th></th><th></th><th></th><th></th><th></th><th></th><th>arcsec</th><th>1/arcsec^2</th><th></th><th></th><th></th><th></th><th></th><th></th><th></th><th></th><th></th><th></th></tr></thead>\n",
       "<thead><tr><th>int16</th><th>int32</th><th>bytes8</th><th>int32</th><th>bool</th><th>int16</th><th>int16</th><th>bytes3</th><th>float64</th><th>float64</th><th>float32</th><th>float32</th><th>float32</th><th>float32</th><th>float32</th><th>float32</th><th>float64</th><th>float64</th><th>bytes2</th><th>int64</th><th>float32</th><th>float32</th><th>float32</th><th>float32</th><th>float32</th><th>float32</th><th>float32</th><th>float32</th><th>float32</th><th>int16</th><th>float32</th><th>float32</th><th>int16</th><th>float32</th><th>float32</th><th>int16</th><th>bool</th><th>float32</th><th>float32</th><th>int16</th><th>int16</th><th>float32</th><th>bool</th><th>float32</th><th>float32</th><th>float32</th><th>float32</th><th>uint8</th><th>float32</th><th>float32</th><th>float32</th><th>float32</th><th>float32</th><th>float32</th><th>float32</th><th>float32</th><th>float32</th><th>float32</th><th>float32</th><th>float32</th><th>float32</th><th>float32</th><th>float32</th><th>float32</th><th>float32</th><th>float32</th><th>float32</th><th>float32</th><th>float32</th><th>float32</th><th>float32</th><th>float32</th><th>float32</th><th>float32</th><th>float32</th><th>float32</th><th>float32</th><th>float32</th><th>float32</th><th>float32</th><th>float32</th><th>float32</th><th>float32</th><th>float32</th><th>float32</th><th>float32</th><th>float32</th><th>float32</th><th>float32</th><th>float32</th><th>float32</th><th>float32</th><th>float32</th><th>float32</th><th>float32</th><th>float32</th><th>float32</th><th>float32</th><th>float32</th><th>float32</th><th>float32</th><th>float32</th><th>int16</th><th>int16</th><th>int16</th><th>int16</th><th>int16</th><th>int16</th><th>int16</th><th>float32</th><th>float32</th><th>float32</th><th>float32</th><th>float32</th><th>float32</th><th>float32</th><th>float32</th><th>float32</th><th>float32</th><th>float32</th><th>float32</th><th>float32</th><th>float32</th><th>float32</th><th>float32</th><th>float32</th><th>float32</th><th>float32</th><th>float32</th><th>int16</th><th>int16</th><th>int16</th><th>int16</th><th>int16</th><th>int16</th><th>uint8</th><th>uint8</th><th>float32</th><th>float32</th><th>float32</th><th>float32</th><th>float32</th><th>float32</th><th>float32</th><th>float32</th><th>float32</th><th>float32</th><th>float32</th><th>float32</th><th>float32</th><th>float32</th><th>float32</th><th>float32</th><th>float32</th><th>float32</th><th>float32</th><th>bytes8</th><th>float32</th><th>float32</th><th>float32</th><th>float32</th><th>float32</th><th>float32</th><th>int16</th><th>int16</th><th>float32</th><th>float32</th><th>float32</th><th>float32</th><th>float64</th><th>float64</th><th>int16</th><th>int16</th><th>float32</th><th>float32</th><th>float32</th><th>float32</th><th>float32</th><th>float32</th><th>float32</th><th>float32</th><th>int32</th><th>int32</th><th>int32</th><th>bytes7</th><th>bytes6</th><th>float32</th></tr></thead>\n",
       "<tr><td>9010</td><td>325194</td><td>1466m010</td><td>4875</td><td>True</td><td>4096</td><td>528</td><td>SER</td><td>146.7142089718074</td><td>-1.0412844545329816</td><td>87466730000000.0</td><td>60157065000000.0</td><td>573.92896</td><td>1232.2152</td><td>0.0 .. 0.0</td><td>0.05522543</td><td>57121.053883252585</td><td>58482.268213150746</td><td>L3</td><td>393743</td><td>0.0</td><td>0.0</td><td>0.0</td><td>0.0</td><td>0.0</td><td>0.0</td><td>0.0</td><td>0.0</td><td>0.0</td><td>0</td><td>0.0</td><td>0.0</td><td>0</td><td>0.0</td><td>0.0</td><td>0</td><td>False</td><td>0.0</td><td>0.0</td><td>0</td><td>0</td><td>0.0</td><td>False</td><td>0.0</td><td>0.0</td><td>0.0</td><td>0.0</td><td>0</td><td>697.20605</td><td>1507.5208</td><td>2776.4966</td><td>2187.317</td><td>1306.0398</td><td>3247.0115</td><td>3487.3523</td><td>6.1668973</td><td>2.6627414</td><td>1.0991545</td><td>0.14756681</td><td>0.076546066</td><td>0.00031138764</td><td>5.7780144e-06</td><td>73.39631</td><td>158.6998</td><td>292.28748</td><td>73.39933</td><td>158.70474</td><td>292.29324</td><td>24.3592 .. 475.1429</td><td>56.38506 .. 1021.0374</td><td>131.28276 .. 1864.9087</td><td>-1.3336713 .. 13.181298</td><td>2.5027714 .. 22.816355</td><td>13.373727 .. 9.534977</td><td>-1.3336713 .. 13.181298</td><td>2.5027714 .. 22.816355</td><td>13.373727 .. 9.534977</td><td>323.30786 .. 11.012188</td><td>136.19571 .. 4.9109173</td><td>66.50595 .. 1.5436482</td><td>0.0 .. 0.0</td><td>0.0 .. 0.0</td><td>0.0 .. 0.0</td><td>446.224 .. 1525.6433</td><td>233.02284 .. 856.1437</td><td>335.55615 .. 1504.0476</td><td>134.57637 .. 1121.6664</td><td>45.889156 .. 20.470188</td><td>18.516321 .. -11.353426</td><td>24.896378 .. -58.817505</td><td>-7.708933 .. 57.162384</td><td>1.2220409 .. 0.26520687</td><td>0.8715033 .. 0.13967755</td><td>0.0112336045 .. 0.0008338894</td><td>0.00048755706 .. 3.5569075e-05</td><td>0.84918475</td><td>0.8957252</td><td>0.94026184</td><td>0.99068457</td><td>0.9942688</td><td>0.99877495</td><td>0.9995372</td><td>2</td><td>2</td><td>3</td><td>178</td><td>173</td><td>11</td><td>11</td><td>19.559498</td><td>18.223928</td><td>52.97288</td><td>196.23001</td><td>24.643183</td><td>1.2146238</td><td>0.12939472</td><td>0.0023614774</td><td>0.0059313187</td><td>0.001529991</td><td>0.0070573203</td><td>0.013428104</td><td>0.037980013</td><td>0.28520688</td><td>0.044147536</td><td>0.034881253</td><td>0.03289237</td><td>0.4975242</td><td>0.66802645</td><td>0.7460642</td><td>0</td><td>0</td><td>0</td><td>0</td><td>0</td><td>0</td><td>0</td><td>0</td><td>1.4909737</td><td>1.492395</td><td>1.4196913</td><td>915.86926</td><td>368.55814</td><td>74.079445</td><td>544.9704</td><td>218.26202</td><td>45.01745</td><td>106.68649</td><td>108.3615</td><td>100.505936</td><td>106.323296</td><td>107.3729</td><td>100.32208</td><td>4.092169</td><td>0.7483025</td><td>0.0008076105</td><td>1.0488079e-05</td><td>1467m016</td><td>54.323784</td><td>116.948555</td><td>2394.975 .. 0.0</td><td>1412.0924 .. 0.0</td><td>0.04730541 .. 0.0</td><td>0.017738534 .. 0.0</td><td>11 .. 0</td><td>11 .. 0</td><td>0.00997316 .. 0.0</td><td>0.013667254 .. 0.0</td><td>115.29808 .. 0.0</td><td>7.963929 .. 0.0</td><td>55333.390880785 .. 0.0</td><td>55330.91027784 .. 0.0</td><td>0 .. -1</td><td>0 .. -1</td><td>3.9576385</td><td>174915.08</td><td>5.173608</td><td>249758.88</td><td>0.14564486</td><td>15456940.0</td><td>0.11630628</td><td>14065992.0</td><td>51602</td><td>266</td><td>1</td><td>26</td><td>sdss</td><td>0.021275453</td></tr>\n",
       "<tr><td>9010</td><td>325195</td><td>1468m010</td><td>3377</td><td>True</td><td>0</td><td>8</td><td>SER</td><td>146.91943880835558</td><td>-0.9905002097615121</td><td>3241014500000.0</td><td>3550621500000.0</td><td>1188.9816</td><td>1930.0273</td><td>301563.34 .. 496315.62</td><td>0.059830416</td><td>57123.06167360259</td><td>58482.268213150746</td><td></td><td>0</td><td>0.0</td><td>0.0</td><td>0.0</td><td>0.0</td><td>0.0</td><td>0.0</td><td>0.0</td><td>0.0</td><td>0.0</td><td>0</td><td>0.0</td><td>0.0</td><td>0</td><td>0.0</td><td>0.0</td><td>0</td><td>False</td><td>0.0</td><td>0.0</td><td>0</td><td>0</td><td>0.0</td><td>False</td><td>0.0</td><td>0.0</td><td>0.0</td><td>0.0</td><td>0</td><td>52.00789</td><td>149.40149</td><td>295.5255</td><td>233.11636</td><td>179.59254</td><td>-25.17122</td><td>-10228.439</td><td>30.393204</td><td>10.962836</td><td>1.9332361</td><td>0.39641657</td><td>0.119898476</td><td>0.00023862497</td><td>5.3653357e-06</td><td>5.0236483</td><td>14.431282</td><td>28.545982</td><td>5.0364137</td><td>14.441075</td><td>28.5463</td><td>1.5942643 .. 36.145565</td><td>5.638885 .. 84.52589</td><td>14.437229 .. 148.28696</td><td>-0.26842633 .. -0.032138772</td><td>0.26333985 .. -4.233008</td><td>1.73845 .. -16.034477</td><td>-0.26842633 .. -0.032138772</td><td>0.26333985 .. -4.233008</td><td>1.73845 .. -16.034477</td><td>4294.9263 .. 39.2234</td><td>1345.6162 .. 17.099276</td><td>254.81256 .. 2.2437453</td><td>0.0 .. 0.0</td><td>0.0 .. 0.0</td><td>0.0 .. 0.0</td><td>42.537006 .. 136.77675</td><td>28.428295 .. 101.32797</td><td>34.980812 .. 142.75471</td><td>62.863724 .. 147.28365</td><td>3.5854847 .. -2.7731073</td><td>1.9052037 .. -1.9054148</td><td>4.132823 .. -32.810272</td><td>2.6985044 .. -44.159893</td><td>6.9700017 .. 0.8149795</td><td>2.5993927 .. 0.23960923</td><td>0.012297277 .. 0.00092403434</td><td>0.00061871216 .. 4.4542587e-05</td><td>0.8376875</td><td>0.8875378</td><td>0.9354448</td><td>0.98991174</td><td>0.9937924</td><td>0.99867284</td><td>0.99949867</td><td>3</td><td>3</td><td>3</td><td>172</td><td>166</td><td>12</td><td>15</td><td>2.3023582</td><td>1.850981</td><td>3.3728209</td><td>10.194559</td><td>1.8775457</td><td>0.59964097</td><td>0.10969916</td><td>0.061461125</td><td>0.021545423</td><td>0.0061629345</td><td>0.1499887</td><td>0.14181289</td><td>18.723103</td><td>1.087153</td><td>0.09694542</td><td>0.09757042</td><td>0.117368795</td><td>0.71097744</td><td>0.72102255</td><td>0.613331</td><td>0</td><td>0</td><td>0</td><td>0</td><td>0</td><td>0</td><td>0</td><td>0</td><td>1.4658266</td><td>1.3693875</td><td>1.214276</td><td>1488.4825</td><td>709.281</td><td>95.14916</td><td>914.66364</td><td>409.0551</td><td>49.800262</td><td>121.25201</td><td>121.162704</td><td>134.39732</td><td>144.50482</td><td>140.04338</td><td>125.65632</td><td>4.0710397</td><td>0.75037813</td><td>0.000803881</td><td>1.0480496e-05</td><td>1467m016</td><td>113.687454</td><td>183.4272</td><td>286.09256 .. 0.0</td><td>195.69008 .. 0.0</td><td>0.05359932 .. 0.0</td><td>0.015988963 .. 0.0</td><td>12 .. 0</td><td>12 .. 0</td><td>0.120002225 .. 0.0</td><td>0.165061 .. 0.0</td><td>1.787272 .. 0.0</td><td>0.78346723 .. 0.0</td><td>55333.390880785 .. 0.0</td><td>55330.91027784 .. 0.0</td><td>0 .. -1</td><td>0 .. -1</td><td>6.0</td><td>5773.431</td><td>7.826159</td><td>335314.8</td><td>-0.050300837</td><td>548760.56</td><td>-0.031223709</td><td>478928.44</td><td>51602</td><td>266</td><td>2</td><td>26</td><td>sdss</td><td>0.21392463</td></tr>\n",
       "<tr><td>9010</td><td>325195</td><td>1468m010</td><td>3049</td><td>True</td><td>0</td><td>128</td><td>PSF</td><td>146.90228169572464</td><td>-0.9849207185450679</td><td>81751620000000.0</td><td>51445072000000.0</td><td>1424.6924</td><td>2006.6947</td><td>192764.88 .. 0.0</td><td>0.058730435</td><td>57121.053883252585</td><td>58482.268213150746</td><td>G2</td><td>3827750789217507072</td><td>0.91563344</td><td>0.81099325</td><td>-0.97893107</td><td>1.4802748</td><td>1.7639185</td><td>3.6127012</td><td>2015.5</td><td>19.514137</td><td>124.79263</td><td>131</td><td>19.525167</td><td>17.524433</td><td>14</td><td>18.988834</td><td>26.013699</td><td>14</td><td>False</td><td>0.0</td><td>0.0</td><td>114</td><td>114</td><td>0.1418854</td><td>False</td><td>--</td><td>--</td><td>1.4168689</td><td>0.751392</td><td>31</td><td>14.738728</td><td>16.088465</td><td>16.30217</td><td>72.24521</td><td>101.42046</td><td>176.59494</td><td>712.3976</td><td>437.25977</td><td>278.63687</td><td>96.60335</td><td>1.9615924</td><td>0.48192093</td><td>0.000827615</td><td>1.2010502e-05</td><td>11.473718</td><td>12.524453</td><td>12.690816</td><td>11.473886</td><td>12.524935</td><td>12.691771</td><td>4.071564 .. 15.014223</td><td>4.654188 .. 17.460493</td><td>5.6015425 .. 22.078978</td><td>-0.047757387 .. 0.3960901</td><td>-0.083278775 .. 1.6422652</td><td>-0.2542517 .. 4.615052</td><td>-0.04768055 .. 0.49194506</td><td>-0.08305778 .. 1.787465</td><td>-0.25381655 .. 4.8508687</td><td>2310.252 .. 44.62179</td><td>1510.4697 .. 19.160776</td><td>456.59827 .. 2.865743</td><td>0.0 .. 0.0</td><td>0.0 .. 0.0</td><td>0.0 .. 0.0</td><td>27.873768 .. 78.92729</td><td>33.555416 .. 97.10837</td><td>38.255657 .. 176.37914</td><td>57.465378 .. 418.63895</td><td>0.24235313 .. -0.820272</td><td>0.15889749 .. 0.40136808</td><td>0.84823996 .. -5.774745</td><td>-0.12148181 .. 25.08366</td><td>8.550156 .. 0.91266114</td><td>2.573095 .. 0.24976447</td><td>0.012906868 .. 0.0009524518</td><td>0.0006422827 .. 4.509908e-05</td><td>0.84041953</td><td>0.8894867</td><td>0.9365932</td><td>0.99009633</td><td>0.99390614</td><td>0.9986972</td><td>0.9995079</td><td>3</td><td>3</td><td>4</td><td>176</td><td>171</td><td>12</td><td>15</td><td>16.713163</td><td>14.933258</td><td>5.7675166</td><td>1.4100536</td><td>0.51286155</td><td>0.57319105</td><td>0.103902236</td><td>2.4876825e-05</td><td>2.9377143e-05</td><td>8.8605906e-05</td><td>0.052675594</td><td>0.025275653</td><td>0.4165472</td><td>0.76317644</td><td>0.00554256</td><td>0.0055103</td><td>0.007844141</td><td>0.99963886</td><td>0.9996098</td><td>0.9995163</td><td>0</td><td>0</td><td>0</td><td>0</td><td>0</td><td>0</td><td>0</td><td>0</td><td>1.4658266</td><td>1.3693875</td><td>1.285569</td><td>1488.4825</td><td>709.281</td><td>118.561226</td><td>914.66364</td><td>409.0551</td><td>64.73847</td><td>4.799332</td><td>4.192892</td><td>3.7196577</td><td>4.7994404</td><td>4.192982</td><td>3.7197454</td><td>4.0710397</td><td>0.75037813</td><td>0.000803881</td><td>1.0480496e-05</td><td>1467m016</td><td>136.1449</td><td>190.73318</td><td>78.05307 .. 0.0</td><td>116.993515 .. 0.0</td><td>0.2462497 .. 0.0</td><td>0.06757632 .. 0.0</td><td>12 .. 0</td><td>12 .. 0</td><td>0.0328995 .. 0.0</td><td>0.03452348 .. 0.0</td><td>2.7164595 .. 0.0</td><td>0.658037 .. 0.0</td><td>55333.390880785 .. 0.0</td><td>55330.91027784 .. 0.0</td><td>0 .. -1</td><td>0 .. -1</td><td>0.0</td><td>0.0</td><td>0.0</td><td>0.0</td><td>0.0</td><td>0.0</td><td>0.0</td><td>0.0</td><td>51602</td><td>266</td><td>3</td><td>26</td><td>sdss</td><td>0.65218145</td></tr>\n",
       "<tr><td>9010</td><td>326635</td><td>1468m007</td><td>2260</td><td>True</td><td>0</td><td>0</td><td>SER</td><td>146.85983422140268</td><td>-0.8089103451601436</td><td>12982463000000.0</td><td>8937218000000.0</td><td>2007.8641</td><td>990.0442</td><td>790729.75 .. 1269167.4</td><td>0.056512736</td><td>57121.053883252585</td><td>58482.268213150746</td><td></td><td>0</td><td>0.0</td><td>0.0</td><td>0.0</td><td>0.0</td><td>0.0</td><td>0.0</td><td>0.0</td><td>0.0</td><td>0.0</td><td>0</td><td>0.0</td><td>0.0</td><td>0</td><td>0.0</td><td>0.0</td><td>0</td><td>False</td><td>0.0</td><td>0.0</td><td>0</td><td>0</td><td>0.0</td><td>False</td><td>0.0</td><td>0.0</td><td>0.0</td><td>0.0</td><td>0</td><td>42.526047</td><td>146.14885</td><td>362.0812</td><td>378.7171</td><td>246.65587</td><td>107.290405</td><td>4142.5054</td><td>79.67148</td><td>20.120905</td><td>5.3200293</td><td>0.47724637</td><td>0.17537026</td><td>0.00036738638</td><td>6.5566023e-06</td><td>6.387853</td><td>21.953072</td><td>54.38835</td><td>6.397433</td><td>21.96458</td><td>54.38835</td><td>2.1025574 .. 35.12962</td><td>7.6274524 .. 103.93431</td><td>24.737822 .. 237.84769</td><td>-0.30811107 .. 2.1294951</td><td>-0.24333878 .. -0.37013304</td><td>1.3721168 .. -13.834514</td><td>-0.30811107 .. 2.1294951</td><td>-0.24333878 .. -0.37013304</td><td>1.3721168 .. -13.834514</td><td>5133.895 .. 55.02463</td><td>1059.2996 .. 19.572964</td><td>339.59064 .. 3.1632905</td><td>0.0 .. 0.0</td><td>0.0 .. 0.0</td><td>0.0 .. 0.0</td><td>84.264404 .. 271.45496</td><td>49.103252 .. 180.46754</td><td>16.421505 .. 114.79821</td><td>34.407528 .. 465.38162</td><td>4.642298 .. -5.9147644</td><td>2.1075 .. -5.188155</td><td>4.230005 .. 0.2482707</td><td>20.106028 .. 37.28236</td><td>4.547386 .. 0.6817557</td><td>2.1651347 .. 0.22942321</td><td>0.012194623 .. 0.00090377004</td><td>0.00053016667 .. 3.859041e-05</td><td>0.84595495</td><td>0.89342886</td><td>0.93891275</td><td>0.9904685</td><td>0.9941356</td><td>0.9987464</td><td>0.99952644</td><td>4</td><td>4</td><td>5</td><td>178</td><td>174</td><td>12</td><td>12</td><td>3.7900066</td><td>2.1901088</td><td>5.1338725</td><td>12.8276825</td><td>2.0452125</td><td>0.5206375</td><td>0.12116735</td><td>0.03157664</td><td>0.011492465</td><td>0.0021199759</td><td>0.06065953</td><td>0.08917932</td><td>1.5393195</td><td>1.0269479</td><td>0.0733612</td><td>0.134725</td><td>0.12228319</td><td>0.91530156</td><td>0.9135745</td><td>0.7853685</td><td>0</td><td>1</td><td>0</td><td>0</td><td>0</td><td>0</td><td>0</td><td>0</td><td>1.4056073</td><td>1.31944</td><td>1.270513</td><td>2282.2026</td><td>659.50134</td><td>152.22859</td><td>1367.6951</td><td>386.9967</td><td>83.30256</td><td>64.50161</td><td>62.06131</td><td>60.88641</td><td>65.79984</td><td>43.2514</td><td>61.403347</td><td>4.0631323</td><td>0.75575924</td><td>0.0007362975</td><td>9.582004e-06</td><td>1467m016</td><td>191.69257</td><td>94.177</td><td>406.46674 .. 0.0</td><td>263.79 .. 0.0</td><td>0.08606082 .. 0.0</td><td>0.025870737 .. 0.0</td><td>12 .. 0</td><td>12 .. 0</td><td>0.08760365 .. 0.0</td><td>0.09361372 .. 0.0</td><td>4.207834 .. 0.0</td><td>0.7632668 .. 0.0</td><td>55333.390880785 .. 0.0</td><td>55330.91027784 .. 0.0</td><td>0 .. -1</td><td>0 .. -1</td><td>5.7395473</td><td>8717.754</td><td>4.8233995</td><td>18925.94</td><td>0.2035577</td><td>819169.9</td><td>0.032635443</td><td>447093.97</td><td>51602</td><td>266</td><td>4</td><td>26</td><td>sdss</td><td>0.12655362</td></tr>\n",
       "<tr><td>9010</td><td>326635</td><td>1468m007</td><td>318</td><td>True</td><td>0</td><td>0</td><td>SER</td><td>146.7633686243738</td><td>-0.8104302420145392</td><td>1356880400000.0</td><td>1531353100000.0</td><td>3333.2156</td><td>969.13934</td><td>70311.016 .. 83526.39</td><td>0.060830034</td><td>57354.36008011667</td><td>58482.268213150746</td><td></td><td>0</td><td>0.0</td><td>0.0</td><td>0.0</td><td>0.0</td><td>0.0</td><td>0.0</td><td>0.0</td><td>0.0</td><td>0.0</td><td>0</td><td>0.0</td><td>0.0</td><td>0</td><td>0.0</td><td>0.0</td><td>0</td><td>False</td><td>0.0</td><td>0.0</td><td>0</td><td>0</td><td>0.0</td><td>False</td><td>0.0</td><td>0.0</td><td>0.0</td><td>0.0</td><td>0</td><td>3.0560422</td><td>17.522404</td><td>44.342194</td><td>93.61921</td><td>57.849716</td><td>-56.321236</td><td>-949.354</td><td>461.46057</td><td>104.764114</td><td>23.759</td><td>1.575944</td><td>0.47038403</td><td>0.0007063859</td><td>9.914548e-06</td><td>1.200063</td><td>6.8807917</td><td>17.412529</td><td>1.2001293</td><td>6.8811855</td><td>17.413637</td><td>0.5185841 .. 3.6959755</td><td>3.283578 .. 19.34556</td><td>7.8601694 .. 47.543114</td><td>-0.0033819564 .. 0.24474433</td><td>0.001601373 .. 1.0782026</td><td>-0.0371954 .. 1.939202</td><td>-0.003351028 .. 0.2803836</td><td>0.0017839738 .. 1.2886614</td><td>-0.036669437 .. 2.5068471</td><td>6541.9546 .. 37.113285</td><td>1141.1259 .. 13.634136</td><td>322.81293 .. 2.4327266</td><td>0.0 .. 0.0</td><td>0.0 .. 0.0</td><td>0.0 .. 0.0</td><td>33.316982 .. 106.166214</td><td>17.906847 .. 60.317314</td><td>-0.24203403 .. 68.61602</td><td>-26.766068 .. 40.63126</td><td>0.49268377 .. 1.8832256</td><td>0.22441858 .. 0.116159566</td><td>0.116033375 .. 1.54442</td><td>-15.217711 .. 20.739376</td><td>7.7685328 .. 0.87222385</td><td>2.8772058 .. 0.254435</td><td>0.012198055 .. 0.0008990239</td><td>0.0005302628 .. 3.9425766e-05</td><td>0.83521235</td><td>0.88577044</td><td>0.93440235</td><td>0.98974407</td><td>0.993689</td><td>0.99865067</td><td>0.99949026</td><td>3</td><td>3</td><td>4</td><td>176</td><td>171</td><td>12</td><td>12</td><td>1.1344084</td><td>1.0228213</td><td>0.93722117</td><td>2.1312692</td><td>0.67420137</td><td>0.649557</td><td>0.09316246</td><td>0.00073464896</td><td>0.00026153022</td><td>0.0002624099</td><td>0.071523234</td><td>0.05931256</td><td>1.9287144</td><td>1.3373908</td><td>0.04252191</td><td>0.11712866</td><td>0.11389338</td><td>0.9999549</td><td>0.9999443</td><td>0.9999338</td><td>0</td><td>0</td><td>1</td><td>0</td><td>0</td><td>0</td><td>0</td><td>0</td><td>1.2781657</td><td>1.1757966</td><td>1.2189986</td><td>1913.2744</td><td>796.6707</td><td>85.09047</td><td>1101.5419</td><td>426.9153</td><td>45.776672</td><td>11.940078</td><td>10.904233</td><td>11.585704</td><td>11.940592</td><td>10.904973</td><td>7.818412</td><td>4.0631323</td><td>0.75575924</td><td>0.0007362975</td><td>9.582004e-06</td><td>1467m016</td><td>317.97217</td><td>92.189766</td><td>97.75575 .. 0.0</td><td>62.4773 .. 0.0</td><td>0.21535629 .. 0.0</td><td>0.056984555 .. 0.0</td><td>12 .. 0</td><td>12 .. 0</td><td>0.07311724 .. 0.0</td><td>0.09324974 .. 0.0</td><td>2.5072978 .. 0.0</td><td>1.1674056 .. 0.0</td><td>55333.390880785 .. 0.0</td><td>55330.91027784 .. 0.0</td><td>0 .. -1</td><td>0 .. -1</td><td>5.2547665</td><td>82.020905</td><td>0.91754717</td><td>18594.014</td><td>-0.13323885</td><td>23620.023</td><td>-0.017385658</td><td>12033.4</td><td>51602</td><td>266</td><td>5</td><td>26</td><td>sdss</td><td>0.44864488</td></tr>\n",
       "<tr><td>9010</td><td>328075</td><td>1468m005</td><td>3695</td><td>True</td><td>0</td><td>0</td><td>EXP</td><td>146.96394273613265</td><td>-0.5450604932677102</td><td>1372160100000.0</td><td>1258481800000.0</td><td>577.44</td><td>1180.339</td><td>213644.77 .. 999666.2</td><td>0.11427359</td><td>57121.056884492595</td><td>58466.23590796074</td><td></td><td>0</td><td>0.0</td><td>0.0</td><td>0.0</td><td>0.0</td><td>0.0</td><td>0.0</td><td>0.0</td><td>0.0</td><td>0.0</td><td>0</td><td>0.0</td><td>0.0</td><td>0</td><td>0.0</td><td>0.0</td><td>0</td><td>False</td><td>0.0</td><td>0.0</td><td>0</td><td>0</td><td>0.0</td><td>False</td><td>0.0</td><td>0.0</td><td>0.0</td><td>0.0</td><td>0</td><td>63.005463</td><td>131.74521</td><td>224.28775</td><td>195.69807</td><td>119.31074</td><td>652.8489</td><td>-1815.999</td><td>78.15052</td><td>27.941473</td><td>3.97661</td><td>0.7833169</td><td>0.2438994</td><td>0.00043046975</td><td>7.750321e-06</td><td>2.916984</td><td>6.09945</td><td>10.383922</td><td>2.916992</td><td>6.099464</td><td>10.383941</td><td>1.2824694 .. 52.24057</td><td>2.6327565 .. 107.292984</td><td>5.324509 .. 181.88821</td><td>0.09992625 .. -1.171518</td><td>0.25564003 .. -2.7321017</td><td>0.84250206 .. -4.468366</td><td>0.09992625 .. -1.171518</td><td>0.25564003 .. -2.7321017</td><td>0.84250206 .. -4.468366</td><td>9069.362 .. 74.23735</td><td>3376.8147 .. 26.88121</td><td>532.9608 .. 3.227564</td><td>0.0 .. 0.0</td><td>0.0 .. 0.0</td><td>0.0 .. 0.0</td><td>39.07198 .. 152.08739</td><td>21.218029 .. 85.42305</td><td>67.14837 .. 270.6539</td><td>53.536266 .. 761.58203</td><td>2.1676552 .. -3.7143297</td><td>1.3164948 .. -3.358706</td><td>8.826433 .. -33.993454</td><td>-19.255272 .. 84.02931</td><td>7.1090937 .. 0.8021043</td><td>2.729119 .. 0.24380603</td><td>0.01182928 .. 0.00089287694</td><td>0.0005284353 .. 3.9093775e-05</td><td>0.71300054</td><td>0.796231</td><td>0.88033074</td><td>0.98082036</td><td>0.9881772</td><td>0.9974667</td><td>0.9990427</td><td>4</td><td>4</td><td>5</td><td>174</td><td>165</td><td>12</td><td>12</td><td>1.7346958</td><td>2.0557475</td><td>1.760931</td><td>6.197467</td><td>1.2808595</td><td>0.6860225</td><td>0.13913138</td><td>0.024097394</td><td>0.018103123</td><td>0.010806724</td><td>0.046740204</td><td>0.07663733</td><td>0.23435047</td><td>2.0955126</td><td>0.013382349</td><td>0.01025812</td><td>0.009431223</td><td>0.995667</td><td>0.99545777</td><td>0.9957362</td><td>0</td><td>0</td><td>0</td><td>0</td><td>0</td><td>0</td><td>0</td><td>0</td><td>1.4231536</td><td>1.4953701</td><td>1.1383078</td><td>2967.487</td><td>953.74786</td><td>175.40703</td><td>1820.6031</td><td>582.19086</td><td>88.83608</td><td>120.01184</td><td>122.68874</td><td>116.69095</td><td>120.033005</td><td>122.70216</td><td>116.71259</td><td>4.0488935</td><td>0.7388232</td><td>0.0007326932</td><td>9.549904e-06</td><td>1467p000</td><td>55.391888</td><td>112.95858</td><td>188.48586 .. 0.0</td><td>85.52989 .. 0.0</td><td>0.10550817 .. 0.0</td><td>0.030983511 .. 0.0</td><td>12 .. 0</td><td>12 .. 0</td><td>0.045250904 .. 0.0</td><td>0.07242748 .. 0.0</td><td>1.9086273 .. 0.0</td><td>1.2894721 .. 0.0</td><td>55330.381316269995 .. 0.0</td><td>55330.381316269995 .. 0.0</td><td>0 .. -1</td><td>0 .. -1</td><td>1.0</td><td>0.0</td><td>5.0306635</td><td>44373.266</td><td>0.02870471</td><td>936876.1</td><td>-0.3527008</td><td>2111061.0</td><td>51602</td><td>266</td><td>6</td><td>26</td><td>sdss</td><td>0.055987872</td></tr>\n",
       "<tr><td>9010</td><td>323754</td><td>1466m012</td><td>2082</td><td>True</td><td>0</td><td>128</td><td>SER</td><td>146.6072250353195</td><td>-1.2407778869597124</td><td>1526972500000.0</td><td>2111864600000.0</td><td>2043.679</td><td>1926.2152</td><td>1226424.0 .. 2328854.8</td><td>0.0440153</td><td>57121.053883252585</td><td>58482.268213150746</td><td>G2</td><td>3827716193256088192</td><td>0.0</td><td>0.0</td><td>0.0</td><td>0.0</td><td>0.0</td><td>0.0</td><td>2015.5</td><td>19.365269</td><td>86.39958</td><td>97</td><td>--</td><td>--</td><td>0</td><td>--</td><td>--</td><td>0</td><td>False</td><td>12.63648</td><td>147.68362</td><td>58</td><td>58</td><td>0.005958378</td><td>True</td><td>--</td><td>--</td><td>--</td><td>5.718632</td><td>3</td><td>140.4094</td><td>334.50095</td><td>608.13574</td><td>455.76132</td><td>274.91153</td><td>398.66312</td><td>-2630.2712</td><td>22.644901</td><td>9.139675</td><td>2.5320399</td><td>0.3668503</td><td>0.14060889</td><td>0.00030240574</td><td>5.8635014e-06</td><td>14.393592</td><td>34.29023</td><td>62.340973</td><td>14.395455</td><td>34.29607</td><td>62.353558</td><td>5.3791122 .. 93.236</td><td>12.785404 .. 221.54118</td><td>27.183508 .. 405.62045</td><td>0.03756227 .. 0.34751666</td><td>0.08505682 .. -2.7289188</td><td>0.62324405 .. -10.566058</td><td>0.03756227 .. 0.34751666</td><td>0.08505682 .. -2.7289188</td><td>0.62324405 .. -10.566058</td><td>1820.1729 .. 33.76949</td><td>730.58215 .. 14.056664</td><td>255.99785 .. 2.5264373</td><td>0.0 .. 0.0</td><td>0.0 .. 0.0</td><td>0.0 .. 0.0</td><td>89.64815 .. 342.60925</td><td>49.445786 .. 200.87555</td><td>44.074028 .. 204.00313</td><td>10.131053 .. 177.86787</td><td>4.0879154 .. -0.031327173</td><td>2.2738218 .. -2.9194102</td><td>4.811724 .. -0.2201762</td><td>0.56200016 .. -2.528987</td><td>4.364355 .. 0.6417003</td><td>2.1782637 .. 0.23090763</td><td>0.011908901 .. 0.0008992786</td><td>0.00053199416 .. 3.9442828e-05</td><td>0.8778371</td><td>0.9159732</td><td>0.9520922</td><td>0.9925685</td><td>0.9954295</td><td>0.9990235</td><td>0.99963117</td><td>3</td><td>3</td><td>4</td><td>183</td><td>177</td><td>12</td><td>12</td><td>1.1704469</td><td>1.1846821</td><td>1.3758202</td><td>6.334524</td><td>1.6175132</td><td>0.61610615</td><td>0.08445163</td><td>0.015391291</td><td>0.018346626</td><td>0.020037811</td><td>0.13723968</td><td>0.16793464</td><td>0.33780205</td><td>1.3285708</td><td>0.06947315</td><td>0.06868828</td><td>0.06710912</td><td>0.96918154</td><td>0.9691924</td><td>0.95933867</td><td>0</td><td>0</td><td>0</td><td>0</td><td>0</td><td>0</td><td>0</td><td>0</td><td>1.4242345</td><td>1.3651391</td><td>1.2654557</td><td>1515.1715</td><td>701.8371</td><td>116.51377</td><td>906.26294</td><td>403.81253</td><td>63.152897</td><td>113.15586</td><td>111.24625</td><td>104.80657</td><td>113.32337</td><td>111.38207</td><td>106.818565</td><td>4.1332126</td><td>0.759355</td><td>0.0008076105</td><td>1.0484287e-05</td><td>1467m016</td><td>194.34335</td><td>183.77885</td><td>487.89752 .. 0.0</td><td>282.96912 .. 0.0</td><td>0.06514065 .. 0.0</td><td>0.020263124 .. 0.0</td><td>12 .. 0</td><td>12 .. 0</td><td>0.10975824 .. 0.0</td><td>0.1193054 .. 0.0</td><td>5.4293833 .. 0.0</td><td>0.82242393 .. 0.0</td><td>55333.390880785 .. 0.0</td><td>55330.91027784 .. 0.0</td><td>0 .. -1</td><td>0 .. -1</td><td>4.512774</td><td>31682.385</td><td>5.1711535</td><td>40547.87</td><td>-0.018507944</td><td>1373226.2</td><td>-0.020547284</td><td>1473657.5</td><td>51602</td><td>266</td><td>8</td><td>26</td><td>sdss</td><td>0.09063296</td></tr>\n",
       "<tr><td>9010</td><td>326635</td><td>1468m007</td><td>4078</td><td>True</td><td>0</td><td>128</td><td>PSF</td><td>146.9386205486588</td><td>-0.6870093697327215</td><td>111065740000000.0</td><td>72097920000000.0</td><td>925.3865</td><td>2665.0146</td><td>278097.34 .. 0.0</td><td>0.08074671</td><td>57121.053883252585</td><td>58157.24732726074</td><td>G2</td><td>3827776490302806144</td><td>-0.579164</td><td>1.635087</td><td>-0.39031804</td><td>1.9854115</td><td>1.8858812</td><td>6.4201727</td><td>2015.5</td><td>19.3046</td><td>201.36728</td><td>136</td><td>19.699858</td><td>12.137011</td><td>14</td><td>18.687033</td><td>36.69856</td><td>12</td><td>False</td><td>0.7402655</td><td>0.7776863</td><td>124</td><td>124</td><td>0.16609167</td><td>False</td><td>--</td><td>--</td><td>1.2618535</td><td>0.75481266</td><td>31</td><td>12.781261</td><td>19.236969</td><td>34.6437</td><td>49.58493</td><td>56.618652</td><td>189.22554</td><td>238.37036</td><td>564.2057</td><td>275.9077</td><td>69.92226</td><td>1.9185245</td><td>0.5359064</td><td>0.0012059797</td><td>1.562611e-05</td><td>9.941712</td><td>14.963188</td><td>26.947083</td><td>9.941712</td><td>14.963188</td><td>26.947083</td><td>3.345648 .. 21.050692</td><td>5.2325497 .. 52.74687</td><td>11.946121 .. 198.31422</td><td>-0.016616007 .. -0.08582092</td><td>-0.031861123 .. 0.35354674</td><td>0.0076970933 .. 0.620449</td><td>-0.016616007 .. -0.021964956</td><td>-0.031861123 .. 0.48251322</td><td>0.0076970933 .. 0.93973464</td><td>3373.2205 .. 54.159943</td><td>1719.2083 .. 18.999294</td><td>353.50793 .. 2.5037992</td><td>0.0 .. 0.0</td><td>0.0 .. 0.0</td><td>0.0 .. 0.0</td><td>32.54483 .. 148.05228</td><td>26.680054 .. 113.815575</td><td>38.239864 .. 173.133</td><td>8.772854 .. 210.26262</td><td>0.046181597 .. -0.06020211</td><td>-0.014240149 .. 0.27286914</td><td>-0.20243132 .. -2.1895728</td><td>-12.729775 .. 32.956985</td><td>8.539528 .. 0.8466535</td><td>2.894348 .. 0.25931227</td><td>0.01823873 .. 0.0013530427</td><td>0.00079371105 .. 5.867478e-05</td><td>0.78739387</td><td>0.85128176</td><td>0.9138739</td><td>0.986409</td><td>0.9916313</td><td>0.9982093</td><td>0.9993235</td><td>3</td><td>3</td><td>4</td><td>188</td><td>180</td><td>18</td><td>18</td><td>2.3195531</td><td>1.635836</td><td>1.8687116</td><td>0.97276926</td><td>0.5930392</td><td>0.7845255</td><td>0.11890249</td><td>0.002713062</td><td>0.006699647</td><td>0.014003425</td><td>1.083197</td><td>0.65936404</td><td>0.29542026</td><td>1.6628345</td><td>0.0046108426</td><td>0.006857797</td><td>0.006162651</td><td>0.9992105</td><td>0.9992392</td><td>0.99903363</td><td>0</td><td>0</td><td>0</td><td>0</td><td>0</td><td>0</td><td>0</td><td>0</td><td>1.5107224</td><td>1.4610231</td><td>1.3468764</td><td>1718.0267</td><td>686.87744</td><td>98.93095</td><td>1058.0227</td><td>408.30307</td><td>56.7866</td><td>5.1114326</td><td>4.7635055</td><td>4.0627623</td><td>5.111539</td><td>4.763607</td><td>4.062856</td><td>4.1532245</td><td>0.7712077</td><td>0.00080332917</td><td>1.04503015e-05</td><td>1467p000</td><td>88.54146</td><td>124.11296</td><td>50.890034 .. 0.0</td><td>61.37385 .. 0.0</td><td>0.37048915 .. 0.0</td><td>0.10296607 .. 0.0</td><td>18 .. 0</td><td>18 .. 0</td><td>1.0858331 .. 0.0</td><td>0.67737 .. 0.0</td><td>5.470603 .. 0.0</td><td>0.8557435 .. 0.0</td><td>55330.381316269995 .. 0.0</td><td>55330.381316269995 .. 0.0</td><td>0 .. -1</td><td>0 .. -1</td><td>0.0</td><td>0.0</td><td>0.0</td><td>0.0</td><td>0.0</td><td>0.0</td><td>0.0</td><td>0.0</td><td>51602</td><td>266</td><td>9</td><td>26</td><td>sdss</td><td>2.8305912</td></tr>\n",
       "<tr><td>9010</td><td>328074</td><td>1466m005</td><td>4217</td><td>True</td><td>0</td><td>128</td><td>DEV</td><td>146.72794472025365</td><td>-0.5568503065171991</td><td>5241312400000.0</td><td>3480713000000.0</td><td>385.05698</td><td>1018.33813</td><td>766962.2 .. 1043901.6</td><td>0.09569496</td><td>57354.36337820667</td><td>58466.23590796074</td><td>G2</td><td>3827969149649810560</td><td>0.0</td><td>0.0</td><td>0.0</td><td>0.0</td><td>0.0</td><td>0.0</td><td>2015.5</td><td>19.298779</td><td>108.33535</td><td>135</td><td>18.705055</td><td>41.45016</td><td>11</td><td>17.087427</td><td>159.22545</td><td>11</td><td>False</td><td>9.400613</td><td>98.87756</td><td>107</td><td>106</td><td>0.0101306345</td><td>False</td><td>--</td><td>--</td><td>4.5323653</td><td>3.6563437</td><td>3</td><td>46.124104</td><td>129.48112</td><td>280.87207</td><td>269.03677</td><td>166.39552</td><td>112.60597</td><td>-1430.5165</td><td>76.47098</td><td>18.390099</td><td>7.273643</td><td>0.8737865</td><td>0.3347193</td><td>0.0006696733</td><td>1.1075075e-05</td><td>12.619593</td><td>35.42614</td><td>76.846825</td><td>12.6195965</td><td>35.426147</td><td>76.84684</td><td>4.9905 .. 45.177605</td><td>12.508939 .. 121.59981</td><td>38.601482 .. 258.2713</td><td>-0.019930474 .. 1.3279078</td><td>-0.0037547147 .. 0.79878384</td><td>0.3522708 .. -7.125853</td><td>-0.019930474 .. 1.32791</td><td>-0.0037547147 .. 0.7987908</td><td>0.3522708 .. -7.125835</td><td>1331.2599 .. 32.57795</td><td>334.7914 .. 9.0875635</td><td>138.86893 .. 1.2064353</td><td>0.0 .. 0.0</td><td>0.0 .. 0.0</td><td>0.0 .. 0.0</td><td>80.464905 .. 240.32127</td><td>43.729748 .. 142.19418</td><td>23.131641 .. 112.99515</td><td>18.474228 .. -33.04084</td><td>2.2730663 .. -2.5943885</td><td>1.1498586 .. -1.6123984</td><td>1.277257 .. 0.26170835</td><td>1.0347866 .. -24.283394</td><td>4.9388905 .. 0.73105776</td><td>2.376698 .. 0.24702962</td><td>0.013157356 .. 0.0009772285</td><td>0.00063364935 .. 4.6577676e-05</td><td>0.75331146</td><td>0.8262818</td><td>0.89876336</td><td>0.98391336</td><td>0.9900898</td><td>0.99787813</td><td>0.99919826</td><td>1</td><td>1</td><td>3</td><td>185</td><td>179</td><td>13</td><td>15</td><td>1.9907402</td><td>2.1062696</td><td>2.2801077</td><td>6.705845</td><td>1.4717019</td><td>0.5941901</td><td>0.120308906</td><td>0.013672002</td><td>0.014196923</td><td>0.0035172952</td><td>0.00845739</td><td>0.018348012</td><td>0.75974864</td><td>1.3387278</td><td>0.0045086932</td><td>0.003690681</td><td>0.013503237</td><td>0.3036872</td><td>0.31015632</td><td>0.55082846</td><td>0</td><td>0</td><td>0</td><td>0</td><td>0</td><td>0</td><td>0</td><td>0</td><td>1.3987757</td><td>1.5698949</td><td>1.0787526</td><td>1127.9911</td><td>262.13016</td><td>103.79159</td><td>706.7327</td><td>174.90881</td><td>50.447216</td><td>22.79277</td><td>24.579268</td><td>14.734289</td><td>21.803284</td><td>24.167578</td><td>18.687454</td><td>4.106971</td><td>0.75119096</td><td>0.00079903455</td><td>1.04199735e-05</td><td>1467p000</td><td>36.336597</td><td>97.52951</td><td>281.455 .. 0.0</td><td>181.33615 .. 0.0</td><td>0.15773594 .. 0.0</td><td>0.048535045 .. 0.0</td><td>12 .. 0</td><td>12 .. 0</td><td>0.0133171845 .. 0.0</td><td>0.046193466 .. 0.0</td><td>9.86945 .. 0.0</td><td>0.7729831 .. 0.0</td><td>55330.381316269995 .. 0.0</td><td>55330.381316269995 .. 0.0</td><td>0 .. -1</td><td>0 .. -1</td><td>4.0</td><td>0.0</td><td>1.4743965</td><td>1462792.8</td><td>-0.0060545094</td><td>1819359.9</td><td>-0.089011</td><td>1849796.0</td><td>51602</td><td>266</td><td>10</td><td>26</td><td>sdss</td><td>0.08933747</td></tr>\n",
       "<tr><td>...</td><td>...</td><td>...</td><td>...</td><td>...</td><td>...</td><td>...</td><td>...</td><td>...</td><td>...</td><td>...</td><td>...</td><td>...</td><td>...</td><td>...</td><td>...</td><td>...</td><td>...</td><td>...</td><td>...</td><td>...</td><td>...</td><td>...</td><td>...</td><td>...</td><td>...</td><td>...</td><td>...</td><td>...</td><td>...</td><td>...</td><td>...</td><td>...</td><td>...</td><td>...</td><td>...</td><td>...</td><td>...</td><td>...</td><td>...</td><td>...</td><td>...</td><td>...</td><td>...</td><td>...</td><td>...</td><td>...</td><td>...</td><td>...</td><td>...</td><td>...</td><td>...</td><td>...</td><td>...</td><td>...</td><td>...</td><td>...</td><td>...</td><td>...</td><td>...</td><td>...</td><td>...</td><td>...</td><td>...</td><td>...</td><td>...</td><td>...</td><td>...</td><td>...</td><td>...</td><td>...</td><td>...</td><td>...</td><td>...</td><td>...</td><td>...</td><td>...</td><td>...</td><td>...</td><td>...</td><td>...</td><td>...</td><td>...</td><td>...</td><td>...</td><td>...</td><td>...</td><td>...</td><td>...</td><td>...</td><td>...</td><td>...</td><td>...</td><td>...</td><td>...</td><td>...</td><td>...</td><td>...</td><td>...</td><td>...</td><td>...</td><td>...</td><td>...</td><td>...</td><td>...</td><td>...</td><td>...</td><td>...</td><td>...</td><td>...</td><td>...</td><td>...</td><td>...</td><td>...</td><td>...</td><td>...</td><td>...</td><td>...</td><td>...</td><td>...</td><td>...</td><td>...</td><td>...</td><td>...</td><td>...</td><td>...</td><td>...</td><td>...</td><td>...</td><td>...</td><td>...</td><td>...</td><td>...</td><td>...</td><td>...</td><td>...</td><td>...</td><td>...</td><td>...</td><td>...</td><td>...</td><td>...</td><td>...</td><td>...</td><td>...</td><td>...</td><td>...</td><td>...</td><td>...</td><td>...</td><td>...</td><td>...</td><td>...</td><td>...</td><td>...</td><td>...</td><td>...</td><td>...</td><td>...</td><td>...</td><td>...</td><td>...</td><td>...</td><td>...</td><td>...</td><td>...</td><td>...</td><td>...</td><td>...</td><td>...</td><td>...</td><td>...</td><td>...</td><td>...</td><td>...</td><td>...</td><td>...</td><td>...</td><td>...</td><td>...</td><td>...</td><td>...</td><td>...</td><td>...</td><td>...</td><td>...</td><td>...</td></tr>\n",
       "<tr><td>9010</td><td>487352</td><td>1418p282</td><td>3545</td><td>True</td><td>0</td><td>0</td><td>EXP</td><td>141.9759729045413</td><td>28.256010636975947</td><td>8791548000.0</td><td>10597129000.0</td><td>565.49536</td><td>1882.6086</td><td>1132.2523 .. 1601.2834</td><td>0.021754956</td><td>57019.34992544259</td><td>58193.08765602074</td><td></td><td>0</td><td>0.0</td><td>0.0</td><td>0.0</td><td>0.0</td><td>0.0</td><td>0.0</td><td>0.0</td><td>0.0</td><td>0.0</td><td>0</td><td>0.0</td><td>0.0</td><td>0</td><td>0.0</td><td>0.0</td><td>0</td><td>False</td><td>0.0</td><td>0.0</td><td>0</td><td>0</td><td>0.0</td><td>False</td><td>0.0</td><td>0.0</td><td>0.0</td><td>0.0</td><td>0</td><td>1.1276389</td><td>1.7811981</td><td>3.889793</td><td>6.1259174</td><td>1.6526753</td><td>-41.90917</td><td>330.69305</td><td>395.36368</td><td>198.8181</td><td>31.266521</td><td>2.7651546</td><td>0.61050814</td><td>0.00057145825</td><td>7.998981e-06</td><td>0.2997281</td><td>0.47344515</td><td>1.0339128</td><td>0.29972813</td><td>0.47344518</td><td>1.0339128</td><td>0.099341795 .. 1.4502423</td><td>0.17083746 .. 1.6708585</td><td>0.428425 .. 3.7668872</td><td>-0.0001656726 .. 0.19841012</td><td>-0.0037077426 .. -0.34741426</td><td>0.014320179 .. -0.8999579</td><td>-0.00016565796 .. 0.22116177</td><td>-0.0037077048 .. -0.31087416</td><td>0.01432022 .. -0.8253326</td><td>9752.523 .. 52.083805</td><td>4510.9165 .. 23.774225</td><td>666.7675 .. 3.4542246</td><td>0.0 .. 0.0</td><td>0.0 .. 0.0</td><td>0.0 .. 0.0</td><td>2.3631332 .. 9.354461</td><td>0.57699704 .. 4.6203423</td><td>-2.2417142 .. -66.01634</td><td>26.326338 .. 140.33626</td><td>0.103266045 .. 0.19524239</td><td>0.028121954 .. 1.7438234</td><td>4.0632806 .. -38.26626</td><td>12.407216 .. 18.127785</td><td>13.725652 .. 1.0584145</td><td>3.6955616 .. 0.2727154</td><td>0.009510637 .. 0.0007016673</td><td>0.00042195953 .. 3.078607e-05</td><td>0.9376307</td><td>0.95754725</td><td>0.97602713</td><td>0.99631995</td><td>0.99773836</td><td>0.9995172</td><td>0.99981767</td><td>4</td><td>4</td><td>4</td><td>188</td><td>180</td><td>10</td><td>10</td><td>1.0030708</td><td>0.9089045</td><td>0.93773156</td><td>0.7759914</td><td>0.48613542</td><td>0.41132605</td><td>0.1083599</td><td>0.0010808163</td><td>0.0010562233</td><td>0.001469673</td><td>0.22539024</td><td>0.35754767</td><td>0.5312622</td><td>1.4781829</td><td>0.014750793</td><td>0.013327728</td><td>0.013146651</td><td>0.996832</td><td>0.99658495</td><td>0.9956092</td><td>0</td><td>0</td><td>0</td><td>0</td><td>0</td><td>0</td><td>0</td><td>0</td><td>1.7241045</td><td>1.4952141</td><td>1.3690159</td><td>1188.9384</td><td>720.9365</td><td>124.80524</td><td>837.053</td><td>456.23758</td><td>74.774574</td><td>19.603079</td><td>17.92362</td><td>16.78189</td><td>19.608158</td><td>17.927536</td><td>16.784035</td><td>4.2083044</td><td>0.75240797</td><td>0.00068871194</td><td>9.1452575e-06</td><td>1422p287</td><td>53.99644</td><td>179.27997</td><td>5.2807455 .. 0.0</td><td>5.49299 .. 0.0</td><td>0.21278101 .. 0.0</td><td>0.055007793 .. 0.0</td><td>11 .. 0</td><td>11 .. 0</td><td>0.19957869 .. 0.0</td><td>0.38713422 .. 0.0</td><td>0.53365076 .. 0.0</td><td>0.55428374 .. 0.0</td><td>55317.42003148 .. 0.0</td><td>55317.42003148 .. 0.0</td><td>0 .. -1</td><td>0 .. -1</td><td>1.0</td><td>0.0</td><td>1.3634884</td><td>531.0293</td><td>-0.0936323</td><td>622.27576</td><td>0.26531532</td><td>1187.5743</td><td>58130</td><td>9632</td><td>990</td><td>v5_13_0</td><td>eboss</td><td>-0.0017148925</td></tr>\n",
       "<tr><td>9010</td><td>486079</td><td>1417p280</td><td>2656</td><td>True</td><td>2048</td><td>2</td><td>REX</td><td>141.79385503909515</td><td>28.124019395563582</td><td>2316277500.0</td><td>2063477800.0</td><td>797.21967</td><td>3503.927</td><td>80.66835 .. 0.0</td><td>0.020241862</td><td>57019.34992544259</td><td>58193.08765602074</td><td></td><td>0</td><td>0.0</td><td>0.0</td><td>0.0</td><td>0.0</td><td>0.0</td><td>0.0</td><td>0.0</td><td>0.0</td><td>0.0</td><td>0</td><td>0.0</td><td>0.0</td><td>0</td><td>0.0</td><td>0.0</td><td>0</td><td>False</td><td>0.0</td><td>0.0</td><td>0</td><td>0</td><td>0.0</td><td>False</td><td>0.0</td><td>0.0</td><td>0.0</td><td>0.0</td><td>0</td><td>0.23296829</td><td>0.39458817</td><td>0.7967922</td><td>-5.1195025</td><td>0.49902728</td><td>27.466396</td><td>-393.7265</td><td>719.78784</td><td>424.44293</td><td>64.46085</td><td>2.6636753</td><td>0.6542325</td><td>0.0007352501</td><td>1.0207197e-05</td><td>0.14816779</td><td>0.250958</td><td>0.50675964</td><td>0.14816779</td><td>0.250958</td><td>0.50675964</td><td>0.063269354 .. 0.6928569</td><td>0.08726295 .. 1.0776927</td><td>0.25045237 .. 3.9234915</td><td>0.020580824 .. 0.45837304</td><td>-0.00068834366 .. 0.67967397</td><td>0.043098107 .. 3.1265733</td><td>0.020580824 .. 0.4651396</td><td>-0.0006883477 .. 0.69195503</td><td>0.043098122 .. 3.1480675</td><td>7939.9604 .. 40.467216</td><td>3643.9255 .. 19.001698</td><td>461.93805 .. 2.6054702</td><td>0.0 .. 0.0</td><td>0.0 .. 0.0</td><td>0.0 .. 0.0</td><td>10.47285 .. 317.24643</td><td>7.0712214 .. 215.07538</td><td>5.8338685 .. 115.238525</td><td>-18.432028 .. 130.73293</td><td>0.4705515 .. -9.345311</td><td>-0.037993018 .. -2.2951303</td><td>-2.1536224 .. 3.892382</td><td>-1.6378921 .. 91.978806</td><td>11.607557 .. 0.6891898</td><td>3.5529132 .. 0.23461351</td><td>0.01130211 .. 0.00084281364</td><td>0.00051353493 .. 3.8415725e-05</td><td>0.9418399</td><td>0.9604407</td><td>0.97767574</td><td>0.9965755</td><td>0.9978955</td><td>0.9995508</td><td>0.99983037</td><td>3</td><td>3</td><td>3</td><td>193</td><td>188</td><td>12</td><td>12</td><td>1.0586873</td><td>0.94850683</td><td>0.881202</td><td>7.672307</td><td>0.87052906</td><td>0.54881954</td><td>0.12667024</td><td>0.0</td><td>0.0</td><td>0.0</td><td>19.661757</td><td>138.52718</td><td>3.1103017</td><td>1.4985875</td><td>0.055619527</td><td>0.014648648</td><td>0.112526074</td><td>0.9895962</td><td>0.9887521</td><td>0.98745257</td><td>0</td><td>0</td><td>0</td><td>0</td><td>0</td><td>0</td><td>0</td><td>0</td><td>1.747449</td><td>1.5048897</td><td>1.3376263</td><td>922.7361</td><td>569.17883</td><td>100.32997</td><td>649.77936</td><td>359.38855</td><td>59.134228</td><td>8.474242</td><td>6.752433</td><td>5.5525265</td><td>8.476126</td><td>6.7537913</td><td>5.553156</td><td>4.2118807</td><td>0.7688957</td><td>0.00081259635</td><td>1.0794587e-05</td><td>1422p287</td><td>75.72676</td><td>173.16592</td><td>-3.6007473 .. 0.0</td><td>-3.8772721 .. 0.0</td><td>0.29094037 .. 0.0</td><td>0.07220341 .. 0.0</td><td>13 .. 0</td><td>14 .. 0</td><td>25.625612 .. 0.0</td><td>17.42217 .. 0.0</td><td>169.47778 .. 0.0</td><td>19.771744 .. 0.0</td><td>55317.42003148 .. 0.0</td><td>55317.42003148 .. 0.0</td><td>0 .. -1</td><td>0 .. -1</td><td>1.0</td><td>0.0</td><td>0.32101464</td><td>138.86215</td><td>0.0</td><td>0.0</td><td>0.0</td><td>0.0</td><td>58130</td><td>9632</td><td>991</td><td>v5_13_0</td><td>eboss</td><td>0.91805273</td></tr>\n",
       "<tr><td>9010</td><td>487352</td><td>1418p282</td><td>2006</td><td>True</td><td>0</td><td>0</td><td>EXP</td><td>141.87829988469852</td><td>28.150355280967343</td><td>15302423000.0</td><td>22151748000.0</td><td>1747.597</td><td>430.33545</td><td>1924.2769 .. 2695.94</td><td>0.022174729</td><td>57019.34992544259</td><td>58193.08765602074</td><td></td><td>0</td><td>0.0</td><td>0.0</td><td>0.0</td><td>0.0</td><td>0.0</td><td>0.0</td><td>0.0</td><td>0.0</td><td>0.0</td><td>0</td><td>0.0</td><td>0.0</td><td>0</td><td>0.0</td><td>0.0</td><td>0</td><td>False</td><td>0.0</td><td>0.0</td><td>0</td><td>0</td><td>0.0</td><td>False</td><td>0.0</td><td>0.0</td><td>0.0</td><td>0.0</td><td>0</td><td>1.1978751</td><td>2.3163686</td><td>5.1112638</td><td>9.452608</td><td>4.882144</td><td>36.642685</td><td>958.67914</td><td>412.07565</td><td>219.43881</td><td>35.181614</td><td>2.781999</td><td>0.6340722</td><td>0.00063715415</td><td>8.644932e-06</td><td>0.35785112</td><td>0.6919878</td><td>1.5269299</td><td>0.35785112</td><td>0.6919878</td><td>1.5269299</td><td>0.10400498 .. 1.5282426</td><td>0.21347104 .. 2.368307</td><td>0.6728509 .. 4.062088</td><td>-0.012077929 .. 0.27527678</td><td>-0.03973942 .. -0.07794816</td><td>0.061161038 .. -1.24016</td><td>-0.012077928 .. 0.2996656</td><td>-0.0397394 .. -0.025885195</td><td>0.06116108 .. -1.1356736</td><td>9388.215 .. 45.96312</td><td>4399.831 .. 22.993862</td><td>649.37 .. 3.3293464</td><td>0.0 .. 0.0</td><td>0.0 .. 0.0</td><td>0.0 .. 0.0</td><td>3.510003 .. 9.116972</td><td>1.431912 .. 4.600049</td><td>2.725738 .. 19.419632</td><td>52.08791 .. 403.84338</td><td>0.14919809 .. -1.014285</td><td>-0.08606957 .. -0.63221747</td><td>-3.1864996 .. 3.9298215</td><td>-1.2916844 .. 158.51894</td><td>13.591664 .. 1.0739805</td><td>3.7637088 .. 0.2789768</td><td>0.010461357 .. 0.0007781175</td><td>0.00046382716 .. 3.3460772e-05</td><td>0.93646634</td><td>0.95674604</td><td>0.97557026</td><td>0.9962491</td><td>0.9976948</td><td>0.9995079</td><td>0.99981415</td><td>4</td><td>4</td><td>4</td><td>190</td><td>185</td><td>11</td><td>11</td><td>0.8418966</td><td>1.0318017</td><td>0.9836602</td><td>1.0282612</td><td>0.45536274</td><td>0.6188667</td><td>0.13507548</td><td>0.0001368952</td><td>0.00017445108</td><td>0.00015306924</td><td>0.057470426</td><td>0.088797025</td><td>0.29727113</td><td>0.51979977</td><td>0.0701513</td><td>0.03450048</td><td>0.014310649</td><td>0.9968587</td><td>0.99671197</td><td>0.9958697</td><td>0</td><td>0</td><td>0</td><td>0</td><td>0</td><td>0</td><td>0</td><td>0</td><td>1.7133039</td><td>1.4899489</td><td>1.3651688</td><td>1160.658</td><td>716.92554</td><td>123.64009</td><td>812.5986</td><td>451.9526</td><td>73.844536</td><td>17.51427</td><td>15.748914</td><td>14.564565</td><td>17.517641</td><td>15.751806</td><td>14.566263</td><td>4.2083044</td><td>0.75240797</td><td>0.00068871194</td><td>9.1452575e-06</td><td>1422p287</td><td>167.10464</td><td>41.285793</td><td>6.788666 .. 0.0</td><td>0.9300493 .. 0.0</td><td>0.2295245 .. 0.0</td><td>0.060873516 .. 0.0</td><td>12 .. 0</td><td>12 .. 0</td><td>0.1402996 .. 0.0</td><td>1.768413 .. 0.0</td><td>0.9750542 .. 0.0</td><td>0.59792835 .. 0.0</td><td>55317.42003148 .. 0.0</td><td>55317.42003148 .. 0.0</td><td>0 .. -1</td><td>0 .. -1</td><td>1.0</td><td>0.0</td><td>1.2981199</td><td>884.72644</td><td>-0.20230219</td><td>1111.7229</td><td>0.28995255</td><td>1482.1946</td><td>58130</td><td>9632</td><td>992</td><td>v5_13_0</td><td>eboss</td><td>0.74355674</td></tr>\n",
       "<tr><td>9010</td><td>487352</td><td>1418p282</td><td>1545</td><td>True</td><td>0</td><td>0</td><td>REX</td><td>141.84519617260727</td><td>28.12558932787522</td><td>5597311500.0</td><td>5040221700.0</td><td>2148.7346</td><td>90.0791</td><td>529.30865 .. 0.0</td><td>0.021053307</td><td>57019.34992544259</td><td>58193.08765602074</td><td></td><td>0</td><td>0.0</td><td>0.0</td><td>0.0</td><td>0.0</td><td>0.0</td><td>0.0</td><td>0.0</td><td>0.0</td><td>0.0</td><td>0</td><td>0.0</td><td>0.0</td><td>0</td><td>0.0</td><td>0.0</td><td>0</td><td>False</td><td>0.0</td><td>0.0</td><td>0</td><td>0</td><td>0.0</td><td>False</td><td>0.0</td><td>0.0</td><td>0.0</td><td>0.0</td><td>0</td><td>0.7230506</td><td>0.9903095</td><td>2.193844</td><td>5.80237</td><td>2.345056</td><td>-45.35352</td><td>509.78436</td><td>411.26425</td><td>238.32639</td><td>38.44915</td><td>3.0273075</td><td>0.6487214</td><td>0.00060201064</td><td>7.989848e-06</td><td>0.28189617</td><td>0.38609254</td><td>0.8553153</td><td>0.28189617</td><td>0.38609254</td><td>0.8553153</td><td>0.07396674 .. 1.3314133</td><td>0.12891635 .. 1.3960805</td><td>0.32644245 .. 3.3878925</td><td>-0.014588337 .. 0.5925809</td><td>-0.007966031 .. 0.38329127</td><td>-0.020395271 .. 1.1381279</td><td>-0.014588325 .. 0.6146328</td><td>-0.007966011 .. 0.41493976</td><td>-0.020395165 .. 1.202642</td><td>7071.7017 .. 34.45092</td><td>3618.9453 .. 18.637669</td><td>513.90704 .. 2.3997636</td><td>0.0 .. 0.0</td><td>0.0 .. 0.0</td><td>0.0 .. 0.0</td><td>2.0376523 .. 9.541036</td><td>0.84146893 .. 5.302088</td><td>-8.442134 .. 12.741495</td><td>48.260696 .. 37.680935</td><td>-0.104542024 .. 2.242263</td><td>0.06364274 .. 1.6553352</td><td>-1.2694587 .. 21.49699</td><td>20.611874 .. -93.93796</td><td>13.869544 .. 1.0573262</td><td>3.6449623 .. 0.27622622</td><td>0.009510637 .. 0.0007063154</td><td>0.00040720528 .. 3.0799274e-05</td><td>0.9395802</td><td>0.9588879</td><td>0.97679126</td><td>0.99643844</td><td>0.99781126</td><td>0.9995328</td><td>0.9998236</td><td>3</td><td>3</td><td>3</td><td>186</td><td>180</td><td>10</td><td>10</td><td>0.9657975</td><td>0.83397424</td><td>1.0839556</td><td>0.50199753</td><td>0.9825607</td><td>0.41275316</td><td>0.18452542</td><td>0.0</td><td>0.0</td><td>0.0</td><td>0.062111825</td><td>0.1546068</td><td>0.33511052</td><td>0.39939922</td><td>0.11781536</td><td>0.017680543</td><td>0.012792386</td><td>0.9897383</td><td>0.9923572</td><td>0.97715217</td><td>0</td><td>0</td><td>0</td><td>0</td><td>0</td><td>0</td><td>0</td><td>0</td><td>1.754869</td><td>1.5027983</td><td>1.3323776</td><td>914.94684</td><td>570.76404</td><td>101.12191</td><td>647.8491</td><td>359.3767</td><td>59.383797</td><td>13.488003</td><td>11.952595</td><td>10.288262</td><td>13.596136</td><td>11.955719</td><td>10.522604</td><td>4.2083044</td><td>0.75240797</td><td>0.00068871194</td><td>9.1452575e-06</td><td>1422p287</td><td>205.43808</td><td>8.993885</td><td>1.0008819 .. 0.0</td><td>6.643404 .. 0.0</td><td>0.23618299 .. 0.0</td><td>0.05803729 .. 0.0</td><td>11 .. 0</td><td>11 .. 0</td><td>0.08964286 .. 0.0</td><td>0.10578257 .. 0.0</td><td>0.82482797 .. 0.0</td><td>0.60005546 .. 0.0</td><td>55317.42003148 .. 0.0</td><td>55317.42003148 .. 0.0</td><td>0 .. -1</td><td>0 .. -1</td><td>1.0</td><td>0.0</td><td>0.7194678</td><td>509.2331</td><td>0.0</td><td>0.0</td><td>0.0</td><td>0.0</td><td>58130</td><td>9632</td><td>993</td><td>v5_13_0</td><td>eboss</td><td>1.0088518</td></tr>\n",
       "<tr><td>9010</td><td>486080</td><td>1419p280</td><td>504</td><td>True</td><td>0</td><td>0</td><td>REX</td><td>141.89191252775746</td><td>28.041232791140008</td><td>32062163000.0</td><td>29967477000.0</td><td>3034.174</td><td>2366.5732</td><td>3013.588 .. 0.0</td><td>0.020294875</td><td>57019.34992544259</td><td>58193.08765602074</td><td></td><td>0</td><td>0.0</td><td>0.0</td><td>0.0</td><td>0.0</td><td>0.0</td><td>0.0</td><td>0.0</td><td>0.0</td><td>0.0</td><td>0</td><td>0.0</td><td>0.0</td><td>0</td><td>0.0</td><td>0.0</td><td>0</td><td>False</td><td>0.0</td><td>0.0</td><td>0</td><td>0</td><td>0.0</td><td>False</td><td>0.0</td><td>0.0</td><td>0.0</td><td>0.0</td><td>0</td><td>1.4018457</td><td>2.062944</td><td>4.7508326</td><td>11.065197</td><td>4.8704557</td><td>250.76143</td><td>-215.9366</td><td>561.4615</td><td>302.16913</td><td>49.494926</td><td>2.9661002</td><td>0.6665865</td><td>0.0007553399</td><td>1.0655352e-05</td><td>0.5652074</td><td>0.8317543</td><td>1.9154788</td><td>0.5654087</td><td>0.83189476</td><td>1.9155427</td><td>0.17046542 .. 1.7037406</td><td>0.29717785 .. 2.9654846</td><td>0.8183731 .. 4.2560225</td><td>-0.009461954 .. -0.15702595</td><td>-0.0025005299 .. 0.37925342</td><td>0.055743225 .. -1.4681984</td><td>-0.0094619505 .. -0.1344028</td><td>-0.0025005292 .. 0.40950853</td><td>0.055743232 .. -1.4034517</td><td>8995.449 .. 49.853333</td><td>4286.2173 .. 23.298716</td><td>646.76666 .. 3.3955016</td><td>0.0 .. 0.0</td><td>0.0 .. 0.0</td><td>0.0 .. 0.0</td><td>4.9323583 .. 24.486938</td><td>3.084334 .. 14.312027</td><td>15.55071 .. 56.22411</td><td>15.71524 .. -35.30927</td><td>0.062284067 .. 1.9225405</td><td>0.25980666 .. -1.0101674</td><td>2.9153705 .. 7.604803</td><td>-1.2128053 .. -7.0936255</td><td>13.490412 .. 1.0703405</td><td>3.731369 .. 0.28254142</td><td>0.011926509 .. 0.0009008376</td><td>0.0005477683 .. 4.0585528e-05</td><td>0.94169205</td><td>0.9603392</td><td>0.9776179</td><td>0.99656653</td><td>0.99789</td><td>0.9995496</td><td>0.9998299</td><td>4</td><td>4</td><td>4</td><td>198</td><td>189</td><td>13</td><td>13</td><td>0.97459006</td><td>0.92519885</td><td>1.052772</td><td>1.273294</td><td>0.46240675</td><td>0.76029825</td><td>0.1117865</td><td>0.048831083</td><td>0.018119082</td><td>0.0036864546</td><td>0.3377621</td><td>1.140748</td><td>0.8023119</td><td>3.5873117</td><td>0.0084683085</td><td>0.0073170364</td><td>0.008715628</td><td>0.99847144</td><td>0.9984088</td><td>0.99745274</td><td>0</td><td>0</td><td>0</td><td>0</td><td>0</td><td>0</td><td>0</td><td>0</td><td>1.7181189</td><td>1.4964713</td><td>1.3603053</td><td>1146.5596</td><td>707.74365</td><td>124.36583</td><td>803.7232</td><td>448.5935</td><td>74.06493</td><td>12.857672</td><td>11.305655</td><td>10.322432</td><td>12.858565</td><td>11.306356</td><td>10.322789</td><td>4.2219715</td><td>0.7551972</td><td>0.00068916404</td><td>9.149048e-06</td><td>1422p287</td><td>288.86398</td><td>64.360725</td><td>12.618129 .. 0.0</td><td>16.66939 .. 0.0</td><td>0.29019323 .. 0.0</td><td>0.07545246 .. 0.0</td><td>14 .. 0</td><td>14 .. 0</td><td>0.2136942 .. 0.0</td><td>0.34228843 .. 0.0</td><td>1.0611509 .. 0.0</td><td>0.32229918 .. 0.0</td><td>55317.42003148 .. 0.0</td><td>55317.42003148 .. 0.0</td><td>0 .. -1</td><td>0 .. -1</td><td>1.0</td><td>0.0</td><td>0.6916242</td><td>2888.0195</td><td>0.0</td><td>0.0</td><td>0.0</td><td>0.0</td><td>58130</td><td>9632</td><td>995</td><td>v5_13_0</td><td>eboss</td><td>1.0374706</td></tr>\n",
       "<tr><td>9010</td><td>486079</td><td>1417p280</td><td>3181</td><td>True</td><td>0</td><td>0</td><td>EXP</td><td>141.83233490860226</td><td>28.0144718921632</td><td>22361133000.0</td><td>22465147000.0</td><td>329.41946</td><td>1999.0807</td><td>1755.8398 .. 2114.4263</td><td>0.020006312</td><td>57019.34992544259</td><td>58193.08765602074</td><td></td><td>0</td><td>0.0</td><td>0.0</td><td>0.0</td><td>0.0</td><td>0.0</td><td>0.0</td><td>0.0</td><td>0.0</td><td>0.0</td><td>0</td><td>0.0</td><td>0.0</td><td>0</td><td>0.0</td><td>0.0</td><td>0</td><td>False</td><td>0.0</td><td>0.0</td><td>0</td><td>0</td><td>0.0</td><td>False</td><td>0.0</td><td>0.0</td><td>0.0</td><td>0.0</td><td>0</td><td>1.1907305</td><td>2.201607</td><td>4.7429576</td><td>21.273642</td><td>12.399684</td><td>96.164314</td><td>753.57007</td><td>502.05234</td><td>162.19595</td><td>27.383942</td><td>2.7919815</td><td>0.6504385</td><td>0.0008840038</td><td>1.2088861e-05</td><td>0.5283172</td><td>0.9768347</td><td>2.104411</td><td>0.5283172</td><td>0.9768347</td><td>2.104411</td><td>0.1686374 .. 1.1848499</td><td>0.41064692 .. 2.6211574</td><td>0.782342 .. 4.9204206</td><td>0.009709729 .. -0.17374103</td><td>-0.013357325 .. -0.014099334</td><td>-0.09460845 .. -0.419493</td><td>0.009709729 .. -0.14899948</td><td>-0.013357325 .. 0.005469255</td><td>-0.09460845 .. -0.33819282</td><td>7608.792 .. 34.681767</td><td>1657.8094 .. 9.148202</td><td>304.652 .. 1.5995892</td><td>0.0 .. 0.0</td><td>0.0 .. 0.0</td><td>0.0 .. 0.0</td><td>8.27899 .. 19.78004</td><td>4.58785 .. 11.673073</td><td>19.490236 .. 56.879234</td><td>50.369026 .. 145.33539</td><td>0.09060035 .. 0.3028729</td><td>0.28375697 .. -1.0069087</td><td>2.395977 .. 3.0176928</td><td>17.32722 .. -44.701603</td><td>12.284682 .. 1.0795658</td><td>3.5674412 .. 0.28125665</td><td>0.013732826 .. 0.0010239005</td><td>0.0006310387 .. 4.6584024e-05</td><td>0.9424968</td><td>0.9608919</td><td>0.97793263</td><td>0.9966153</td><td>0.99792</td><td>0.999556</td><td>0.99983233</td><td>3</td><td>2</td><td>2</td><td>199</td><td>186</td><td>15</td><td>15</td><td>0.85166305</td><td>0.96172774</td><td>0.978128</td><td>2.1193662</td><td>0.86365086</td><td>0.5511303</td><td>0.15400843</td><td>0.00040696835</td><td>0.00020012351</td><td>0.00027598994</td><td>4.6956415</td><td>3.7473469</td><td>1.0131724</td><td>2.3628955</td><td>0.013674544</td><td>0.0052764877</td><td>0.009173759</td><td>0.9947167</td><td>0.99726915</td><td>0.99372256</td><td>0</td><td>0</td><td>0</td><td>0</td><td>0</td><td>0</td><td>0</td><td>0</td><td>1.7573137</td><td>1.2629633</td><td>1.2922565</td><td>907.3674</td><td>388.66095</td><td>64.99373</td><td>641.6713</td><td>225.9129</td><td>37.052227</td><td>12.154691</td><td>8.157162</td><td>8.745048</td><td>12.163944</td><td>8.157408</td><td>8.745515</td><td>4.3611507</td><td>0.7785884</td><td>0.0006866945</td><td>9.12648e-06</td><td>1419p272</td><td>31.344118</td><td>190.33194</td><td>16.99698 .. 0.0</td><td>8.9775 .. 0.0</td><td>0.31585437 .. 0.0</td><td>0.08045798 .. 0.0</td><td>15 .. 0</td><td>15 .. 0</td><td>4.0361314 .. 0.0</td><td>18.557165 .. 0.0</td><td>1.3255424 .. 0.0</td><td>0.5107726 .. 0.0</td><td>55317.68432164 .. 0.0</td><td>55317.68432164 .. 0.0</td><td>0 .. -1</td><td>0 .. -1</td><td>1.0</td><td>0.0</td><td>0.7360834</td><td>1406.3127</td><td>-0.042390253</td><td>412.3609</td><td>-0.19530493</td><td>815.1393</td><td>58130</td><td>9632</td><td>996</td><td>v5_13_0</td><td>eboss</td><td>0.74251837</td></tr>\n",
       "<tr><td>9010</td><td>486080</td><td>1419p280</td><td>2119</td><td>True</td><td>0</td><td>0</td><td>DEV</td><td>141.99556401785046</td><td>28.025663410006644</td><td>13704720000.0</td><td>12726536000.0</td><td>1777.1404</td><td>2152.1272</td><td>1279.0919 .. 1485.0242</td><td>0.021118633</td><td>57019.34992544259</td><td>58193.08765602074</td><td></td><td>0</td><td>0.0</td><td>0.0</td><td>0.0</td><td>0.0</td><td>0.0</td><td>0.0</td><td>0.0</td><td>0.0</td><td>0.0</td><td>0</td><td>0.0</td><td>0.0</td><td>0</td><td>0.0</td><td>0.0</td><td>0</td><td>False</td><td>0.0</td><td>0.0</td><td>0</td><td>0</td><td>0.0</td><td>False</td><td>0.0</td><td>0.0</td><td>0.0</td><td>0.0</td><td>0</td><td>1.1398356</td><td>1.9883225</td><td>6.034085</td><td>17.37639</td><td>8.8898535</td><td>121.016426</td><td>7838.7446</td><td>253.84457</td><td>122.78231</td><td>19.989178</td><td>1.8338153</td><td>0.45732456</td><td>0.0005979058</td><td>9.519981e-06</td><td>0.30112216</td><td>0.5252757</td><td>1.5940866</td><td>0.30112222</td><td>0.5252758</td><td>1.5940869</td><td>0.0944852 .. 4.3920302</td><td>0.20569515 .. 13.05974</td><td>0.6963248 .. 52.321987</td><td>-0.0015363059 .. -0.28263453</td><td>0.0089089 .. -0.8895719</td><td>0.015695903 .. -2.769247</td><td>-0.0015349318 .. -0.19302179</td><td>0.008913971 .. -0.72643787</td><td>0.015715273 .. -2.2458725</td><td>9208.781 .. 45.021263</td><td>4219.241 .. 21.037104</td><td>624.14233 .. 3.0731776</td><td>0.0 .. 0.0</td><td>0.0 .. 0.0</td><td>0.0 .. 0.0</td><td>11.579626 .. 44.74556</td><td>7.63794 .. 32.41868</td><td>2.6638005 .. 17.892296</td><td>43.434757 .. 151.40646</td><td>0.24675101 .. 0.50413716</td><td>0.13809137 .. -0.18125895</td><td>-3.4741921 .. 5.8987494</td><td>-3.2470186 .. 41.932087</td><td>10.97902 .. 1.0222665</td><td>3.4078815 .. 0.27850407</td><td>0.011853404 .. 0.00087324536</td><td>0.0005482491 .. 4.0483494e-05</td><td>0.9393985</td><td>0.958763</td><td>0.9767201</td><td>0.9964274</td><td>0.99780446</td><td>0.9995313</td><td>0.99982303</td><td>4</td><td>4</td><td>4</td><td>193</td><td>189</td><td>13</td><td>13</td><td>0.88571453</td><td>0.8816807</td><td>0.8904616</td><td>1.2656916</td><td>0.63007504</td><td>0.58406276</td><td>0.11538483</td><td>0.36311042</td><td>0.546298</td><td>0.6582231</td><td>72.862724</td><td>155.93517</td><td>72.58993</td><td>9.563049</td><td>0.058212087</td><td>0.109852046</td><td>0.11627751</td><td>0.9181682</td><td>0.92569304</td><td>0.9209158</td><td>0</td><td>0</td><td>0</td><td>0</td><td>0</td><td>0</td><td>0</td><td>0</td><td>1.711951</td><td>1.4939175</td><td>1.3537555</td><td>1137.5219</td><td>709.29956</td><td>125.226875</td><td>796.2505</td><td>448.60986</td><td>74.17532</td><td>27.767553</td><td>25.289545</td><td>22.606936</td><td>28.964836</td><td>25.85432</td><td>23.31757</td><td>4.2219715</td><td>0.7551972</td><td>0.00068916404</td><td>9.149048e-06</td><td>1422p287</td><td>169.14046</td><td>43.639057</td><td>10.465447 .. 0.0</td><td>16.177223 .. 0.0</td><td>0.20580555 .. 0.0</td><td>0.053977627 .. 0.0</td><td>14 .. 0</td><td>14 .. 0</td><td>98.60559 .. 0.0</td><td>387.74542 .. 0.0</td><td>0.42048258 .. 0.0</td><td>0.5824705 .. 0.0</td><td>55317.42003148 .. 0.0</td><td>55317.42003148 .. 0.0</td><td>0 .. -1</td><td>0 .. -1</td><td>4.0</td><td>0.0</td><td>1.6378894</td><td>187.59521</td><td>-0.022335786</td><td>258.6686</td><td>-0.14648765</td><td>640.7803</td><td>58130</td><td>9632</td><td>997</td><td>v5_13_0</td><td>eboss</td><td>1.1194048</td></tr>\n",
       "<tr><td>9010</td><td>486080</td><td>1419p280</td><td>950</td><td>True</td><td>0</td><td>0</td><td>REX</td><td>141.92390739329474</td><td>28.0899946455662</td><td>60179116000.0</td><td>55363944000.0</td><td>2645.7737</td><td>3036.3115</td><td>3755.7024 .. 0.0</td><td>0.020583795</td><td>57019.34992544259</td><td>58193.08765602074</td><td></td><td>0</td><td>0.0</td><td>0.0</td><td>0.0</td><td>0.0</td><td>0.0</td><td>0.0</td><td>0.0</td><td>0.0</td><td>0.0</td><td>0</td><td>0.0</td><td>0.0</td><td>0</td><td>0.0</td><td>0.0</td><td>0</td><td>False</td><td>0.0</td><td>0.0</td><td>0</td><td>0</td><td>0.0</td><td>False</td><td>0.0</td><td>0.0</td><td>0.0</td><td>0.0</td><td>0</td><td>1.1251746</td><td>1.812601</td><td>3.82346</td><td>11.135852</td><td>6.3902025</td><td>-28.237226</td><td>-224.06131</td><td>851.1139</td><td>484.32068</td><td>84.8606</td><td>3.0001752</td><td>0.64492923</td><td>0.0006005888</td><td>9.06072e-06</td><td>0.6960556</td><td>1.1213113</td><td>2.365269</td><td>0.6960556</td><td>1.1213113</td><td>2.365269</td><td>0.20135665 .. 1.3833104</td><td>0.3898807 .. 1.7786771</td><td>0.9643382 .. 4.4073772</td><td>-0.0054540727 .. 0.11117831</td><td>-0.007848091 .. -0.29643857</td><td>-0.0012970064 .. -0.014344236</td><td>-0.0054540727 .. 0.12831081</td><td>-0.007848091 .. -0.26443833</td><td>-0.0012970064 .. 0.05797374</td><td>8944.429 .. 50.110825</td><td>4196.9043 .. 22.93246</td><td>642.4459 .. 3.3586807</td><td>0.0 .. 0.0</td><td>0.0 .. 0.0</td><td>0.0 .. 0.0</td><td>4.2006083 .. 31.429575</td><td>3.1610258 .. 23.373596</td><td>9.365896 .. 14.480457</td><td>-25.897131 .. 158.14978</td><td>-0.411879 .. 4.417344</td><td>-0.25875142 .. 3.903352</td><td>2.9871905 .. -24.056072</td><td>-18.612892 .. 38.164665</td><td>13.239445 .. 1.0163924</td><td>3.4685464 .. 0.26702043</td><td>0.008959359 .. 0.00069875136</td><td>0.0004637997 .. 3.3956243e-05</td><td>0.94088703</td><td>0.95978606</td><td>0.97730297</td><td>0.9965177</td><td>0.99786</td><td>0.9995432</td><td>0.9998275</td><td>4</td><td>4</td><td>4</td><td>187</td><td>180</td><td>10</td><td>11</td><td>0.9803647</td><td>1.0178086</td><td>0.78895336</td><td>2.8122191</td><td>1.2788576</td><td>0.60481775</td><td>0.15629089</td><td>0.0016277329</td><td>0.0012701554</td><td>0.0017825246</td><td>0.32631776</td><td>0.9852299</td><td>3.0247586</td><td>3.0929937</td><td>0.008134069</td><td>0.00877793</td><td>0.012393589</td><td>0.99825454</td><td>0.99812144</td><td>0.9974721</td><td>0</td><td>0</td><td>0</td><td>0</td><td>0</td><td>0</td><td>0</td><td>0</td><td>1.7149707</td><td>1.493077</td><td>1.3619052</td><td>1156.0621</td><td>711.33325</td><td>124.27522</td><td>809.5572</td><td>449.97537</td><td>74.05562</td><td>8.395785</td><td>6.8809147</td><td>5.9629173</td><td>8.396184</td><td>6.881247</td><td>5.963121</td><td>4.2219715</td><td>0.7551972</td><td>0.00068916404</td><td>9.149048e-06</td><td>1422p287</td><td>251.69827</td><td>128.0902</td><td>10.983896 .. 0.0</td><td>14.0219755 .. 0.0</td><td>0.24408646 .. 0.0</td><td>0.059360553 .. 0.0</td><td>11 .. 0</td><td>11 .. 0</td><td>0.28952694 .. 0.0</td><td>0.37073687 .. 0.0</td><td>0.76067543 .. 0.0</td><td>1.0665507 .. 0.0</td><td>55317.42003148 .. 0.0</td><td>55317.42003148 .. 0.0</td><td>0 .. -1</td><td>0 .. -1</td><td>1.0</td><td>0.0</td><td>0.3456711</td><td>3736.006</td><td>0.0</td><td>0.0</td><td>0.0</td><td>0.0</td><td>58130</td><td>9632</td><td>998</td><td>v5_13_0</td><td>eboss</td><td>1.056773</td></tr>\n",
       "<tr><td>9010</td><td>486080</td><td>1419p280</td><td>1842</td><td>True</td><td>0</td><td>0</td><td>REX</td><td>141.97963096979458</td><td>27.957645212444127</td><td>91995824000.0</td><td>83265850000.0</td><td>1970.5037</td><td>1217.5355</td><td>5154.204 .. 0.0</td><td>0.02108919</td><td>57019.34992544259</td><td>58193.08765602074</td><td></td><td>0</td><td>0.0</td><td>0.0</td><td>0.0</td><td>0.0</td><td>0.0</td><td>0.0</td><td>0.0</td><td>0.0</td><td>0.0</td><td>0</td><td>0.0</td><td>0.0</td><td>0</td><td>0.0</td><td>0.0</td><td>0</td><td>False</td><td>0.0</td><td>0.0</td><td>0</td><td>0</td><td>0.0</td><td>False</td><td>0.0</td><td>0.0</td><td>0.0</td><td>0.0</td><td>0</td><td>1.3577732</td><td>2.0455253</td><td>5.8019853</td><td>20.01189</td><td>15.015837</td><td>23.004642</td><td>1379.9316</td><td>653.3888</td><td>399.4483</td><td>72.10375</td><td>2.8217225</td><td>0.65526617</td><td>0.00087011274</td><td>1.222648e-05</td><td>0.8738343</td><td>1.316457</td><td>3.7340357</td><td>0.8738343</td><td>1.316457</td><td>3.7340357</td><td>0.24041091 .. 1.4153328</td><td>0.47134763 .. 2.3468015</td><td>1.6260778 .. 5.228678</td><td>-0.009633313 .. -0.0024220664</td><td>0.0090729175 .. 0.23568682</td><td>0.032553334 .. -0.6597841</td><td>-0.00963225 .. 0.021366484</td><td>0.009074879 .. 0.27382872</td><td>0.03255634 .. -0.5792018</td><td>6951.391 .. 38.113937</td><td>3327.9856 .. 18.710394</td><td>489.54156 .. 2.6356442</td><td>0.0 .. 0.0</td><td>0.0 .. 0.0</td><td>0.0 .. 0.0</td><td>7.6066017 .. 19.344303</td><td>4.6860247 .. 11.827682</td><td>3.6101065 .. 36.355118</td><td>77.027336 .. 140.4282</td><td>0.29940853 .. -1.8422645</td><td>-0.018203096 .. -1.5451152</td><td>-1.5024403 .. 0.47935584</td><td>21.652958 .. -119.76834</td><td>12.395211 .. 1.0594193</td><td>3.5637302 .. 0.2749292</td><td>0.013165388 .. 0.0010082617</td><td>0.00063150085 .. 4.5711844e-05</td><td>0.9394804</td><td>0.95881927</td><td>0.9767522</td><td>0.99643236</td><td>0.9978075</td><td>0.999532</td><td>0.9998233</td><td>3</td><td>3</td><td>3</td><td>192</td><td>181</td><td>14</td><td>15</td><td>0.9393297</td><td>1.1470549</td><td>0.96136856</td><td>1.3165872</td><td>0.72575474</td><td>0.43034488</td><td>0.13917744</td><td>0.0</td><td>0.0</td><td>0.0</td><td>0.039827175</td><td>0.060365956</td><td>0.9799257</td><td>0.6354362</td><td>0.010956855</td><td>0.009359705</td><td>0.008819546</td><td>0.995055</td><td>0.99532706</td><td>0.99426806</td><td>0</td><td>0</td><td>0</td><td>0</td><td>0</td><td>0</td><td>0</td><td>0</td><td>1.7523336</td><td>1.5023183</td><td>1.3282248</td><td>858.6181</td><td>563.3854</td><td>100.892715</td><td>605.9017</td><td>354.4164</td><td>58.87836</td><td>8.422</td><td>6.600754</td><td>5.3681097</td><td>8.4225445</td><td>6.6011953</td><td>5.368335</td><td>4.305053</td><td>0.76364136</td><td>0.00081193855</td><td>1.0794801e-05</td><td>1419p272</td><td>188.09427</td><td>115.83604</td><td>19.463455 .. 0.0</td><td>10.324982 .. 0.0</td><td>0.3228268 .. 0.0</td><td>0.08268929 .. 0.0</td><td>15 .. 0</td><td>15 .. 0</td><td>0.06455637 .. 0.0</td><td>0.11842366 .. 0.0</td><td>0.91568565 .. 0.0</td><td>0.9399149 .. 0.0</td><td>55317.68432164 .. 0.0</td><td>55317.68432164 .. 0.0</td><td>0 .. -1</td><td>0 .. -1</td><td>1.0</td><td>0.0</td><td>0.30791917</td><td>5391.8374</td><td>0.0</td><td>0.0</td><td>0.0</td><td>0.0</td><td>58130</td><td>9632</td><td>999</td><td>v5_13_0</td><td>eboss</td><td>1.0125886</td></tr>\n",
       "<tr><td>9010</td><td>486080</td><td>1419p280</td><td>1347</td><td>True</td><td>0</td><td>0</td><td>REX</td><td>141.95138293600485</td><td>28.0720506368334</td><td>11501146000.0</td><td>10657032000.0</td><td>2312.8013</td><td>2789.5986</td><td>1159.7422 .. 0.0</td><td>0.020789126</td><td>57019.36008335259</td><td>58193.08765602074</td><td></td><td>0</td><td>0.0</td><td>0.0</td><td>0.0</td><td>0.0</td><td>0.0</td><td>0.0</td><td>0.0</td><td>0.0</td><td>0.0</td><td>0</td><td>0.0</td><td>0.0</td><td>0</td><td>0.0</td><td>0.0</td><td>0</td><td>False</td><td>0.0</td><td>0.0</td><td>0</td><td>0</td><td>0.0</td><td>False</td><td>0.0</td><td>0.0</td><td>0.0</td><td>0.0</td><td>0</td><td>0.91069365</td><td>1.6168016</td><td>3.1562827</td><td>4.771014</td><td>6.3312035</td><td>-11.400187</td><td>272.3046</td><td>452.2199</td><td>234.25085</td><td>35.869434</td><td>2.9286509</td><td>0.6545749</td><td>0.00071447826</td><td>9.620464e-06</td><td>0.36015004</td><td>0.63939303</td><td>1.2482082</td><td>0.36015058</td><td>0.63939565</td><td>1.2482167</td><td>0.116748884 .. 1.2272458</td><td>0.22561784 .. 3.7623284</td><td>0.5124348 .. 9.4181185</td><td>0.00781847 .. -0.05269858</td><td>0.0043614404 .. 0.3585832</td><td>-0.0015277591 .. 0.45866957</td><td>0.007818475 .. -0.035698492</td><td>0.0043614474 .. 0.3953123</td><td>-0.001527713 .. 0.53106624</td><td>7901.617 .. 42.15475</td><td>3623.531 .. 19.08428</td><td>464.34747 .. 2.3741515</td><td>0.0 .. 0.0</td><td>0.0 .. 0.0</td><td>0.0 .. 0.0</td><td>4.4746723 .. 23.03727</td><td>2.6648676 .. 21.170801</td><td>-0.31132045 .. 14.583161</td><td>-16.916073 .. -44.73428</td><td>0.19561574 .. -1.38747</td><td>-0.35685712 .. 1.7883362</td><td>2.8779213 .. -14.660809</td><td>5.892777 .. 7.781275</td><td>13.317771 .. 1.061518</td><td>3.6852741 .. 0.28206655</td><td>0.011400933 .. 0.00081914733</td><td>0.00047627866 .. 3.693527e-05</td><td>0.9403153</td><td>0.95939314</td><td>0.97707915</td><td>0.9964831</td><td>0.9978387</td><td>0.99953866</td><td>0.9998258</td><td>3</td><td>3</td><td>3</td><td>193</td><td>186</td><td>12</td><td>12</td><td>0.9042087</td><td>0.86951166</td><td>1.0195501</td><td>0.6470423</td><td>1.0045269</td><td>0.536762</td><td>0.07846394</td><td>0.013505266</td><td>0.027933817</td><td>0.029195435</td><td>2.0274231</td><td>0.8468136</td><td>3.9634604</td><td>3.9894295</td><td>0.03881855</td><td>0.038833354</td><td>0.008602435</td><td>0.9964985</td><td>0.99626094</td><td>0.99629635</td><td>0</td><td>0</td><td>0</td><td>0</td><td>0</td><td>0</td><td>0</td><td>0</td><td>1.8075885</td><td>1.5599271</td><td>1.3222446</td><td>884.37616</td><td>543.7254</td><td>93.5376</td><td>641.20776</td><td>352.80066</td><td>54.778255</td><td>13.786355</td><td>12.141506</td><td>10.174992</td><td>13.787812</td><td>12.142809</td><td>10.175434</td><td>4.2219715</td><td>0.7551972</td><td>0.00068916404</td><td>9.149048e-06</td><td>1422p287</td><td>220.03</td><td>104.50534</td><td>5.924763 .. 0.0</td><td>4.7613063 .. 0.0</td><td>0.27333468 .. 0.0</td><td>0.07121741 .. 0.0</td><td>13 .. 0</td><td>13 .. 0</td><td>1.763067 .. 0.0</td><td>1.5675863 .. 0.0</td><td>0.5034934 .. 0.0</td><td>0.40916768 .. 0.0</td><td>55317.42003148 .. 0.0</td><td>55317.42003148 .. 0.0</td><td>0 .. -1</td><td>0 .. -1</td><td>1.0</td><td>0.0</td><td>0.7075547</td><td>1060.6685</td><td>0.0</td><td>0.0</td><td>0.0</td><td>0.0</td><td>58130</td><td>9632</td><td>1000</td><td>v5_13_0</td><td>eboss</td><td>0.81008697</td></tr>\n",
       "</table></div>"
      ],
      "text/plain": [
       "<Table length=3558075>\n",
       "RELEASE BRICKID BRICKNAME OBJID ... FIBERID  RUN2D  SURVEY       Z      \n",
       "                                ...                                     \n",
       " int16   int32    bytes8  int32 ...  int32   bytes7 bytes6    float32   \n",
       "------- ------- --------- ----- ... ------- ------- ------ -------------\n",
       "   9010  325194  1466m010  4875 ...       1      26   sdss   0.021275453\n",
       "   9010  325195  1468m010  3377 ...       2      26   sdss    0.21392463\n",
       "   9010  325195  1468m010  3049 ...       3      26   sdss    0.65218145\n",
       "   9010  326635  1468m007  2260 ...       4      26   sdss    0.12655362\n",
       "   9010  326635  1468m007   318 ...       5      26   sdss    0.44864488\n",
       "   9010  328075  1468m005  3695 ...       6      26   sdss   0.055987872\n",
       "   9010  323754  1466m012  2082 ...       8      26   sdss    0.09063296\n",
       "   9010  326635  1468m007  4078 ...       9      26   sdss     2.8305912\n",
       "   9010  328074  1466m005  4217 ...      10      26   sdss    0.08933747\n",
       "    ...     ...       ...   ... ...     ...     ...    ...           ...\n",
       "   9010  487352  1418p282  3545 ...     990 v5_13_0  eboss -0.0017148925\n",
       "   9010  486079  1417p280  2656 ...     991 v5_13_0  eboss    0.91805273\n",
       "   9010  487352  1418p282  2006 ...     992 v5_13_0  eboss    0.74355674\n",
       "   9010  487352  1418p282  1545 ...     993 v5_13_0  eboss     1.0088518\n",
       "   9010  486080  1419p280   504 ...     995 v5_13_0  eboss     1.0374706\n",
       "   9010  486079  1417p280  3181 ...     996 v5_13_0  eboss    0.74251837\n",
       "   9010  486080  1419p280  2119 ...     997 v5_13_0  eboss     1.1194048\n",
       "   9010  486080  1419p280   950 ...     998 v5_13_0  eboss      1.056773\n",
       "   9010  486080  1419p280  1842 ...     999 v5_13_0  eboss     1.0125886\n",
       "   9010  486080  1419p280  1347 ...    1000 v5_13_0  eboss    0.81008697"
      ]
     },
     "execution_count": 4,
     "metadata": {},
     "output_type": "execute_result"
    }
   ],
   "source": [
    "decals    #3558075"
   ]
  },
  {
   "cell_type": "code",
   "execution_count": 5,
   "id": "2124bd75-917c-4c07-b8eb-b17087438e7d",
   "metadata": {
    "collapsed": true,
    "execution": {
     "iopub.execute_input": "2022-05-24T08:21:47.203432Z",
     "iopub.status.busy": "2022-05-24T08:21:47.203242Z",
     "iopub.status.idle": "2022-05-24T08:21:49.674495Z",
     "shell.execute_reply": "2022-05-24T08:21:49.674056Z",
     "shell.execute_reply.started": "2022-05-24T08:21:47.203416Z"
    },
    "jupyter": {
     "outputs_hidden": true
    },
    "tags": []
   },
   "outputs": [
    {
     "data": {
      "text/html": [
       "<div><i>Table length=2156870</i>\n",
       "<table id=\"table47885662029472\" class=\"table-striped table-bordered table-condensed\">\n",
       "<thead><tr><th>RELEASE</th><th>BRICKID</th><th>BRICKNAME</th><th>OBJID</th><th>BRICK_PRIMARY</th><th>MASKBITS</th><th>FITBITS</th><th>TYPE</th><th>RA</th><th>DEC</th><th>RA_IVAR</th><th>DEC_IVAR</th><th>BX</th><th>BY</th><th>DCHISQ [5]</th><th>EBV</th><th>MJD_MIN</th><th>MJD_MAX</th><th>REF_CAT</th><th>REF_ID</th><th>PMRA</th><th>PMDEC</th><th>PARALLAX</th><th>PMRA_IVAR</th><th>PMDEC_IVAR</th><th>PARALLAX_IVAR</th><th>REF_EPOCH</th><th>GAIA_PHOT_G_MEAN_MAG</th><th>GAIA_PHOT_G_MEAN_FLUX_OVER_ERROR</th><th>GAIA_PHOT_G_N_OBS</th><th>GAIA_PHOT_BP_MEAN_MAG</th><th>GAIA_PHOT_BP_MEAN_FLUX_OVER_ERROR</th><th>GAIA_PHOT_BP_N_OBS</th><th>GAIA_PHOT_RP_MEAN_MAG</th><th>GAIA_PHOT_RP_MEAN_FLUX_OVER_ERROR</th><th>GAIA_PHOT_RP_N_OBS</th><th>GAIA_PHOT_VARIABLE_FLAG</th><th>GAIA_ASTROMETRIC_EXCESS_NOISE</th><th>GAIA_ASTROMETRIC_EXCESS_NOISE_SIG</th><th>GAIA_ASTROMETRIC_N_OBS_AL</th><th>GAIA_ASTROMETRIC_N_GOOD_OBS_AL</th><th>GAIA_ASTROMETRIC_WEIGHT_AL</th><th>GAIA_DUPLICATED_SOURCE</th><th>GAIA_A_G_VAL</th><th>GAIA_E_BP_MIN_RP_VAL</th><th>GAIA_PHOT_BP_RP_EXCESS_FACTOR</th><th>GAIA_ASTROMETRIC_SIGMA5D_MAX</th><th>GAIA_ASTROMETRIC_PARAMS_SOLVED</th><th>FLUX_G</th><th>FLUX_R</th><th>FLUX_Z</th><th>FLUX_W1</th><th>FLUX_W2</th><th>FLUX_W3</th><th>FLUX_W4</th><th>FLUX_IVAR_G</th><th>FLUX_IVAR_R</th><th>FLUX_IVAR_Z</th><th>FLUX_IVAR_W1</th><th>FLUX_IVAR_W2</th><th>FLUX_IVAR_W3</th><th>FLUX_IVAR_W4</th><th>FIBERFLUX_G</th><th>FIBERFLUX_R</th><th>FIBERFLUX_Z</th><th>FIBERTOTFLUX_G</th><th>FIBERTOTFLUX_R</th><th>FIBERTOTFLUX_Z</th><th>APFLUX_G [8]</th><th>APFLUX_R [8]</th><th>APFLUX_Z [8]</th><th>APFLUX_RESID_G [8]</th><th>APFLUX_RESID_R [8]</th><th>APFLUX_RESID_Z [8]</th><th>APFLUX_BLOBRESID_G [8]</th><th>APFLUX_BLOBRESID_R [8]</th><th>APFLUX_BLOBRESID_Z [8]</th><th>APFLUX_IVAR_G [8]</th><th>APFLUX_IVAR_R [8]</th><th>APFLUX_IVAR_Z [8]</th><th>APFLUX_MASKED_G [8]</th><th>APFLUX_MASKED_R [8]</th><th>APFLUX_MASKED_Z [8]</th><th>APFLUX_W1 [5]</th><th>APFLUX_W2 [5]</th><th>APFLUX_W3 [5]</th><th>APFLUX_W4 [5]</th><th>APFLUX_RESID_W1 [5]</th><th>APFLUX_RESID_W2 [5]</th><th>APFLUX_RESID_W3 [5]</th><th>APFLUX_RESID_W4 [5]</th><th>APFLUX_IVAR_W1 [5]</th><th>APFLUX_IVAR_W2 [5]</th><th>APFLUX_IVAR_W3 [5]</th><th>APFLUX_IVAR_W4 [5]</th><th>MW_TRANSMISSION_G</th><th>MW_TRANSMISSION_R</th><th>MW_TRANSMISSION_Z</th><th>MW_TRANSMISSION_W1</th><th>MW_TRANSMISSION_W2</th><th>MW_TRANSMISSION_W3</th><th>MW_TRANSMISSION_W4</th><th>NOBS_G</th><th>NOBS_R</th><th>NOBS_Z</th><th>NOBS_W1</th><th>NOBS_W2</th><th>NOBS_W3</th><th>NOBS_W4</th><th>RCHISQ_G</th><th>RCHISQ_R</th><th>RCHISQ_Z</th><th>RCHISQ_W1</th><th>RCHISQ_W2</th><th>RCHISQ_W3</th><th>RCHISQ_W4</th><th>FRACFLUX_G</th><th>FRACFLUX_R</th><th>FRACFLUX_Z</th><th>FRACFLUX_W1</th><th>FRACFLUX_W2</th><th>FRACFLUX_W3</th><th>FRACFLUX_W4</th><th>FRACMASKED_G</th><th>FRACMASKED_R</th><th>FRACMASKED_Z</th><th>FRACIN_G</th><th>FRACIN_R</th><th>FRACIN_Z</th><th>ANYMASK_G</th><th>ANYMASK_R</th><th>ANYMASK_Z</th><th>ALLMASK_G</th><th>ALLMASK_R</th><th>ALLMASK_Z</th><th>WISEMASK_W1</th><th>WISEMASK_W2</th><th>PSFSIZE_G</th><th>PSFSIZE_R</th><th>PSFSIZE_Z</th><th>PSFDEPTH_G</th><th>PSFDEPTH_R</th><th>PSFDEPTH_Z</th><th>GALDEPTH_G</th><th>GALDEPTH_R</th><th>GALDEPTH_Z</th><th>NEA_G</th><th>NEA_R</th><th>NEA_Z</th><th>BLOB_NEA_G</th><th>BLOB_NEA_R</th><th>BLOB_NEA_Z</th><th>PSFDEPTH_W1</th><th>PSFDEPTH_W2</th><th>PSFDEPTH_W3</th><th>PSFDEPTH_W4</th><th>WISE_COADD_ID</th><th>WISE_X</th><th>WISE_Y</th><th>LC_FLUX_W1 [15]</th><th>LC_FLUX_W2 [15]</th><th>LC_FLUX_IVAR_W1 [15]</th><th>LC_FLUX_IVAR_W2 [15]</th><th>LC_NOBS_W1 [15]</th><th>LC_NOBS_W2 [15]</th><th>LC_FRACFLUX_W1 [15]</th><th>LC_FRACFLUX_W2 [15]</th><th>LC_RCHISQ_W1 [15]</th><th>LC_RCHISQ_W2 [15]</th><th>LC_MJD_W1 [15]</th><th>LC_MJD_W2 [15]</th><th>LC_EPOCH_INDEX_W1 [15]</th><th>LC_EPOCH_INDEX_W2 [15]</th><th>SERSIC</th><th>SERSIC_IVAR</th><th>SHAPE_R</th><th>SHAPE_R_IVAR</th><th>SHAPE_E1</th><th>SHAPE_E1_IVAR</th><th>SHAPE_E2</th><th>SHAPE_E2_IVAR</th><th>MJD</th><th>PLATE</th><th>FIBERID</th><th>RUN2D</th><th>SURVEY</th><th>Z</th></tr></thead>\n",
       "<thead><tr><th></th><th></th><th></th><th></th><th></th><th></th><th></th><th></th><th>deg</th><th>deg</th><th>1/deg^2</th><th>1/deg^2</th><th></th><th></th><th></th><th>mag</th><th></th><th></th><th></th><th></th><th>mas / yr</th><th>mas / yr</th><th>mas</th><th>1/(mas/yr)^2</th><th>1/(mas/yr)^2</th><th>1/mas^2</th><th></th><th>mag</th><th></th><th></th><th>mag</th><th></th><th></th><th>mag</th><th></th><th></th><th></th><th></th><th></th><th></th><th></th><th></th><th></th><th></th><th></th><th></th><th></th><th></th><th>nanomaggy</th><th>nanomaggy</th><th>nanomaggy</th><th>nanomaggy</th><th>nanomaggy</th><th>nanomaggy</th><th>nanomaggy</th><th>1/nanomaggy^2</th><th>1/nanomaggy^2</th><th>1/nanomaggy^2</th><th>1/nanomaggy^2</th><th>1/nanomaggy^2</th><th>1/nanomaggy^2</th><th>1/nanomaggy^2</th><th>nanomaggy</th><th>nanomaggy</th><th>nanomaggy</th><th>nanomaggy</th><th>nanomaggy</th><th>nanomaggy</th><th>nanomaggy</th><th>nanomaggy</th><th>nanomaggy</th><th>nanomaggy</th><th>nanomaggy</th><th>nanomaggy</th><th>nanomaggy</th><th>nanomaggy</th><th>nanomaggy</th><th>1/nanomaggy^2</th><th>1/nanomaggy^2</th><th>1/nanomaggy^2</th><th></th><th></th><th></th><th>nanomaggy</th><th>nanomaggy</th><th>nanomaggy</th><th>nanomaggy</th><th>nanomaggy</th><th>nanomaggy</th><th>nanomaggy</th><th>nanomaggy</th><th>1/nanomaggy^2</th><th>1/nanomaggy^2</th><th>1/nanomaggy^2</th><th>1/nanomaggy^2</th><th></th><th></th><th></th><th></th><th></th><th></th><th></th><th></th><th></th><th></th><th></th><th></th><th></th><th></th><th></th><th></th><th></th><th></th><th></th><th></th><th></th><th></th><th></th><th></th><th></th><th></th><th></th><th></th><th></th><th></th><th></th><th></th><th></th><th></th><th></th><th></th><th></th><th></th><th></th><th></th><th></th><th></th><th>arcsec</th><th>arcsec</th><th>arcsec</th><th>1/nanomaggy^2</th><th>1/nanomaggy^2</th><th>1/nanomaggy^2</th><th>1/nanomaggy^2</th><th>1/nanomaggy^2</th><th>1/nanomaggy^2</th><th></th><th></th><th></th><th></th><th></th><th></th><th>1/nanomaggy^2</th><th>1/nanomaggy^2</th><th>1/nanomaggy^2</th><th>1/nanomaggy^2</th><th></th><th></th><th></th><th>nanomaggy</th><th>nanomaggy</th><th>1/nanomaggy^2</th><th>1/nanomaggy^2</th><th></th><th></th><th></th><th></th><th></th><th></th><th></th><th></th><th></th><th></th><th></th><th></th><th>arcsec</th><th>1/arcsec^2</th><th></th><th></th><th></th><th></th><th></th><th></th><th></th><th></th><th></th><th></th></tr></thead>\n",
       "<thead><tr><th>int16</th><th>int32</th><th>bytes8</th><th>int32</th><th>bool</th><th>int16</th><th>int16</th><th>bytes3</th><th>float64</th><th>float64</th><th>float32</th><th>float32</th><th>float32</th><th>float32</th><th>float32</th><th>float32</th><th>float64</th><th>float64</th><th>bytes2</th><th>int64</th><th>float32</th><th>float32</th><th>float32</th><th>float32</th><th>float32</th><th>float32</th><th>float32</th><th>float32</th><th>float32</th><th>int16</th><th>float32</th><th>float32</th><th>int16</th><th>float32</th><th>float32</th><th>int16</th><th>bool</th><th>float32</th><th>float32</th><th>int16</th><th>int16</th><th>float32</th><th>bool</th><th>float32</th><th>float32</th><th>float32</th><th>float32</th><th>uint8</th><th>float32</th><th>float32</th><th>float32</th><th>float32</th><th>float32</th><th>float32</th><th>float32</th><th>float32</th><th>float32</th><th>float32</th><th>float32</th><th>float32</th><th>float32</th><th>float32</th><th>float32</th><th>float32</th><th>float32</th><th>float32</th><th>float32</th><th>float32</th><th>float32</th><th>float32</th><th>float32</th><th>float32</th><th>float32</th><th>float32</th><th>float32</th><th>float32</th><th>float32</th><th>float32</th><th>float32</th><th>float32</th><th>float32</th><th>float32</th><th>float32</th><th>float32</th><th>float32</th><th>float32</th><th>float32</th><th>float32</th><th>float32</th><th>float32</th><th>float32</th><th>float32</th><th>float32</th><th>float32</th><th>float32</th><th>float32</th><th>float32</th><th>float32</th><th>float32</th><th>float32</th><th>float32</th><th>float32</th><th>int16</th><th>int16</th><th>int16</th><th>int16</th><th>int16</th><th>int16</th><th>int16</th><th>float32</th><th>float32</th><th>float32</th><th>float32</th><th>float32</th><th>float32</th><th>float32</th><th>float32</th><th>float32</th><th>float32</th><th>float32</th><th>float32</th><th>float32</th><th>float32</th><th>float32</th><th>float32</th><th>float32</th><th>float32</th><th>float32</th><th>float32</th><th>int16</th><th>int16</th><th>int16</th><th>int16</th><th>int16</th><th>int16</th><th>uint8</th><th>uint8</th><th>float32</th><th>float32</th><th>float32</th><th>float32</th><th>float32</th><th>float32</th><th>float32</th><th>float32</th><th>float32</th><th>float32</th><th>float32</th><th>float32</th><th>float32</th><th>float32</th><th>float32</th><th>float32</th><th>float32</th><th>float32</th><th>float32</th><th>bytes8</th><th>float32</th><th>float32</th><th>float32</th><th>float32</th><th>float32</th><th>float32</th><th>int16</th><th>int16</th><th>float32</th><th>float32</th><th>float32</th><th>float32</th><th>float64</th><th>float64</th><th>int16</th><th>int16</th><th>float32</th><th>float32</th><th>float32</th><th>float32</th><th>float32</th><th>float32</th><th>float32</th><th>float32</th><th>int32</th><th>int32</th><th>int32</th><th>bytes7</th><th>bytes6</th><th>float32</th></tr></thead>\n",
       "<tr><td>9011</td><td>330955</td><td>1468p000</td><td>679</td><td>True</td><td>0</td><td>0</td><td>REX</td><td>146.9240341675807</td><td>-0.10521636854952537</td><td>2955497700.0</td><td>3094540800.0</td><td>1125.7479</td><td>353.77676</td><td>778.7522 .. 0.0</td><td>0.12170528</td><td>57817.315042238646</td><td>57817.35599095744</td><td></td><td>0</td><td>0.0</td><td>0.0</td><td>0.0</td><td>0.0</td><td>0.0</td><td>0.0</td><td>0.0</td><td>0.0</td><td>0.0</td><td>0</td><td>0.0</td><td>0.0</td><td>0</td><td>0.0</td><td>0.0</td><td>0</td><td>False</td><td>0.0</td><td>0.0</td><td>0</td><td>0</td><td>0.0</td><td>False</td><td>0.0</td><td>0.0</td><td>0.0</td><td>0.0</td><td>0</td><td>4.7080746</td><td>0.0</td><td>0.0</td><td>119.609184</td><td>78.657364</td><td>-50.215515</td><td>258.62503</td><td>42.04979</td><td>0.0</td><td>0.0</td><td>1.4686204</td><td>0.45601112</td><td>0.00067739526</td><td>9.618462e-06</td><td>0.9647918</td><td>0.0</td><td>0.0</td><td>0.9647918</td><td>0.0</td><td>0.0</td><td>0.3300547 .. 6.6484823</td><td>0.0 .. 0.0</td><td>0.0 .. 0.0</td><td>0.060128603 .. 1.856595</td><td>0.0 .. 0.0</td><td>0.0 .. 0.0</td><td>0.060128603 .. 1.9732231</td><td>0.0 .. 0.0</td><td>0.0 .. 0.0</td><td>4574.8477 .. 27.134256</td><td>0.0 .. 0.0</td><td>0.0 .. 0.0</td><td>0.0 .. 0.0</td><td>0.0 .. 0.0</td><td>0.0 .. 0.0</td><td>38.517593 .. 160.35727</td><td>22.860367 .. 96.70168</td><td>-11.304511 .. 1.0694414</td><td>35.046375 .. -83.6694</td><td>-1.6744077 .. 13.465967</td><td>-0.6377486 .. 6.3075824</td><td>-4.4748626 .. 9.786777</td><td>29.358095 .. -20.144077</td><td>7.22509 .. 0.81853265</td><td>2.7784836 .. 0.25001496</td><td>0.01144408 .. 0.0008606511</td><td>0.0004916356 .. 3.850518e-05</td><td>0.69748634</td><td>0.7845186</td><td>0.87306374</td><td>0.9795858</td><td>0.98741317</td><td>0.9973022</td><td>0.99898046</td><td>3</td><td>0</td><td>0</td><td>184</td><td>176</td><td>12</td><td>12</td><td>0.86845666</td><td>0.0</td><td>0.0</td><td>7.4520783</td><td>0.96217173</td><td>0.6350261</td><td>0.12868841</td><td>0.00033941673</td><td>0.0</td><td>0.0</td><td>0.07039625</td><td>0.08504827</td><td>0.46119624</td><td>2.0622342</td><td>0.01690144</td><td>0.0</td><td>0.0</td><td>0.9933064</td><td>0.0</td><td>0.0</td><td>0</td><td>0</td><td>0</td><td>0</td><td>0</td><td>0</td><td>0</td><td>0</td><td>2.1674669</td><td>0.0</td><td>0.0</td><td>144.98064</td><td>0.0</td><td>0.0</td><td>113.97637</td><td>0.0</td><td>0.0</td><td>31.00637</td><td>0.0</td><td>0.0</td><td>31.020842</td><td>0.0</td><td>0.0</td><td>4.1425805</td><td>0.7629259</td><td>0.0007953049</td><td>1.0385852e-05</td><td>1467p000</td><td>107.63661</td><td>33.78135</td><td>122.33024 .. 0.0</td><td>74.89362 .. 0.0</td><td>0.21183279 .. 0.0</td><td>0.059329107 .. 0.0</td><td>12 .. 0</td><td>12 .. 0</td><td>0.07008887 .. 0.0</td><td>0.07951893 .. 0.0</td><td>1.3810127 .. 0.0</td><td>0.40045577 .. 0.0</td><td>55330.381316269995 .. 0.0</td><td>55330.381316269995 .. 0.0</td><td>0 .. -1</td><td>0 .. -1</td><td>1.0</td><td>0.0</td><td>1.3085166</td><td>285.0901</td><td>0.0</td><td>0.0</td><td>0.0</td><td>0.0</td><td>51602</td><td>266</td><td>23</td><td>26</td><td>sdss</td><td>0.32764107</td></tr>\n",
       "<tr><td>9011</td><td>329516</td><td>1471m002</td><td>46</td><td>True</td><td>0</td><td>0</td><td>EXP</td><td>147.0233233454024</td><td>-0.16018100346793585</td><td>20809200000.0</td><td>13258641000.0</td><td>3196.5815</td><td>3033.6516</td><td>7212.0874 .. 17046.727</td><td>0.10255733</td><td>57817.33874003214</td><td>57817.35599095744</td><td></td><td>0</td><td>0.0</td><td>0.0</td><td>0.0</td><td>0.0</td><td>0.0</td><td>0.0</td><td>0.0</td><td>0.0</td><td>0.0</td><td>0</td><td>0.0</td><td>0.0</td><td>0</td><td>0.0</td><td>0.0</td><td>0</td><td>False</td><td>0.0</td><td>0.0</td><td>0</td><td>0</td><td>0.0</td><td>False</td><td>0.0</td><td>0.0</td><td>0.0</td><td>0.0</td><td>0</td><td>36.832016</td><td>0.0</td><td>0.0</td><td>205.96114</td><td>157.64117</td><td>533.6196</td><td>-696.8403</td><td>12.471456</td><td>0.0</td><td>0.0</td><td>0.7872089</td><td>0.2459797</td><td>0.00042634452</td><td>7.3063347e-06</td><td>1.8049299</td><td>0.0</td><td>0.0</td><td>1.8049299</td><td>0.0</td><td>0.0</td><td>0.7070613 .. 31.160084</td><td>0.0 .. 0.0</td><td>0.0 .. 0.0</td><td>0.08529739 .. -0.62838715</td><td>0.0 .. 0.0</td><td>0.0 .. 0.0</td><td>0.08529739 .. -0.62835026</td><td>0.0 .. 0.0</td><td>0.0 .. 0.0</td><td>4969.005 .. 33.93651</td><td>0.0 .. 0.0</td><td>0.0 .. 0.0</td><td>0.0 .. 0.0</td><td>0.0 .. 0.0</td><td>0.0 .. 0.0</td><td>48.155506 .. 158.07271</td><td>33.220703 .. 113.75904</td><td>73.43206 .. 262.57724</td><td>50.99737 .. 133.99548</td><td>7.072233 .. -12.187305</td><td>4.9813743 .. -11.149622</td><td>18.878143 .. -27.847858</td><td>31.671412 .. 13.42861</td><td>6.2579985 .. 0.8019802</td><td>2.4502249 .. 0.24104628</td><td>0.011072292 .. 0.00082292315</td><td>0.0004776575 .. 3.542185e-05</td><td>0.73816305</td><td>0.81505203</td><td>0.8919104</td><td>0.9827697</td><td>0.9893829</td><td>0.99772614</td><td>0.9991408</td><td>3</td><td>0</td><td>0</td><td>178</td><td>170</td><td>11</td><td>11</td><td>1.0131568</td><td>0.0</td><td>0.0</td><td>33.557953</td><td>7.001464</td><td>0.923738</td><td>0.1327042</td><td>0.022345824</td><td>0.0</td><td>0.0</td><td>0.02932071</td><td>0.03809727</td><td>0.098407365</td><td>1.5380485</td><td>0.04400922</td><td>0.0</td><td>0.0</td><td>0.9736503</td><td>0.0</td><td>0.0</td><td>0</td><td>0</td><td>0</td><td>0</td><td>0</td><td>0</td><td>0</td><td>0</td><td>2.3064942</td><td>0.0</td><td>0.0</td><td>161.64082</td><td>0.0</td><td>0.0</td><td>130.95082</td><td>0.0</td><td>0.0</td><td>124.49652</td><td>0.0</td><td>0.0</td><td>124.84627</td><td>0.0</td><td>0.0</td><td>4.0643497</td><td>0.74449205</td><td>0.00079575705</td><td>1.03839575e-05</td><td>1467p000</td><td>304.65555</td><td>288.82523</td><td>234.73494 .. 0.0</td><td>158.95937 .. 0.0</td><td>0.101357035 .. 0.0</td><td>0.030643806 .. 0.0</td><td>11 .. 0</td><td>11 .. 0</td><td>0.107708275 .. 0.0</td><td>0.093599565 .. 0.0</td><td>7.5753436 .. 0.0</td><td>1.903142 .. 0.0</td><td>55330.381316269995 .. 0.0</td><td>55330.381316269995 .. 0.0</td><td>0 .. -1</td><td>0 .. -1</td><td>1.0</td><td>0.0</td><td>4.03616</td><td>4825.8413</td><td>0.1547785</td><td>51879.086</td><td>0.066922106</td><td>28701.668</td><td>51602</td><td>266</td><td>24</td><td>26</td><td>sdss</td><td>0.21564895</td></tr>\n",
       "<tr><td>9011</td><td>330955</td><td>1468p000</td><td>599</td><td>True</td><td>0</td><td>0</td><td>DEV</td><td>146.9107927188216</td><td>-0.07458446909054298</td><td>17594585000.0</td><td>16911536000.0</td><td>1307.6915</td><td>774.67444</td><td>5585.574 .. 8131.2373</td><td>0.12323933</td><td>57817.315042238646</td><td>57817.35711969064</td><td></td><td>0</td><td>0.0</td><td>0.0</td><td>0.0</td><td>0.0</td><td>0.0</td><td>0.0</td><td>0.0</td><td>0.0</td><td>0.0</td><td>0</td><td>0.0</td><td>0.0</td><td>0</td><td>0.0</td><td>0.0</td><td>0</td><td>False</td><td>0.0</td><td>0.0</td><td>0</td><td>0</td><td>0.0</td><td>False</td><td>0.0</td><td>0.0</td><td>0.0</td><td>0.0</td><td>0</td><td>26.206339</td><td>0.0</td><td>0.0</td><td>317.07526</td><td>225.29587</td><td>105.71822</td><td>1094.4055</td><td>11.849511</td><td>0.0</td><td>0.0</td><td>0.40078068</td><td>0.13067085</td><td>0.00024266557</td><td>4.8349234e-06</td><td>2.0924938</td><td>0.0</td><td>0.0</td><td>2.0924938</td><td>0.0</td><td>0.0</td><td>0.5333431 .. 15.411642</td><td>0.0 .. 0.0</td><td>0.0 .. 0.0</td><td>0.020102382 .. -0.08745451</td><td>0.0 .. 0.0</td><td>0.0 .. 0.0</td><td>0.020102382 .. -0.08711726</td><td>0.0 .. 0.0</td><td>0.0 .. 0.0</td><td>8157.9497 .. 51.85342</td><td>0.0 .. 0.0</td><td>0.0 .. 0.0</td><td>0.0 .. 0.0</td><td>0.0 .. 0.0</td><td>0.0 .. 0.0</td><td>52.91003 .. 225.2108</td><td>34.0782 .. 147.4487</td><td>12.899677 .. 56.199272</td><td>12.999914 .. 342.19324</td><td>3.6350694 .. -4.9441137</td><td>2.8653815 .. -3.9796286</td><td>1.63788 .. -17.928185</td><td>-12.7167425 .. 66.21733</td><td>6.0867867 .. 0.73581034</td><td>2.4549274 .. 0.23650531</td><td>0.011072292 .. 0.0008205476</td><td>0.00048034883 .. 3.5423596e-05</td><td>0.69432616</td><td>0.78212243</td><td>0.8715712</td><td>0.9793312</td><td>0.9872556</td><td>0.9972682</td><td>0.9989676</td><td>6</td><td>0</td><td>0</td><td>180</td><td>173</td><td>11</td><td>11</td><td>0.7596742</td><td>0.0</td><td>0.0</td><td>8.181751</td><td>2.1817546</td><td>0.7595329</td><td>0.13063246</td><td>0.0127880825</td><td>0.0</td><td>0.0</td><td>0.10099677</td><td>0.07260992</td><td>0.81473404</td><td>0.85383123</td><td>0.1165689</td><td>0.0</td><td>0.0</td><td>0.73329616</td><td>0.0</td><td>0.0</td><td>0</td><td>0</td><td>0</td><td>0</td><td>0</td><td>0</td><td>0</td><td>0</td><td>2.3016298</td><td>0.0</td><td>0.0</td><td>247.60213</td><td>0.0</td><td>0.0</td><td>197.77359</td><td>0.0</td><td>0.0</td><td>199.67288</td><td>0.0</td><td>0.0</td><td>202.75548</td><td>0.0</td><td>0.0</td><td>4.1425805</td><td>0.7629259</td><td>0.0007953049</td><td>1.0385852e-05</td><td>1467p000</td><td>124.97107</td><td>73.881714</td><td>334.2913 .. 0.0</td><td>244.14041 .. 0.0</td><td>0.053888403 .. 0.0</td><td>0.015995339 .. 0.0</td><td>11 .. 0</td><td>11 .. 0</td><td>0.08106385 .. 0.0</td><td>0.071425624 .. 0.0</td><td>3.4835196 .. 0.0</td><td>1.0037575 .. 0.0</td><td>55330.381316269995 .. 0.0</td><td>55330.381316269995 .. 0.0</td><td>0 .. -1</td><td>0 .. -1</td><td>4.0</td><td>0.0</td><td>6.292744</td><td>1283.6873</td><td>0.07046362</td><td>11691.101</td><td>0.033303276</td><td>6976.5396</td><td>51602</td><td>266</td><td>25</td><td>26</td><td>sdss</td><td>0.24227172</td></tr>\n",
       "<tr><td>9011</td><td>330956</td><td>1471p000</td><td>383</td><td>True</td><td>0</td><td>128</td><td>PSF</td><td>147.0917286035425</td><td>-0.07736071665691151</td><td>8811189000000.0</td><td>21548725000000.0</td><td>2256.6643</td><td>736.52747</td><td>12123.656 .. 0.0</td><td>0.09285584</td><td>57817.315042238646</td><td>57817.35711969064</td><td>G2</td><td>3834024740004295808</td><td>-6.144091</td><td>-1.5702525</td><td>1.7536584</td><td>0.4554071</td><td>0.5713697</td><td>0.52683675</td><td>2015.5</td><td>20.298145</td><td>116.30217</td><td>92</td><td>20.319063</td><td>9.813083</td><td>10</td><td>20.303688</td><td>5.723626</td><td>11</td><td>False</td><td>0.0</td><td>0.0</td><td>85</td><td>84</td><td>0.054542374</td><td>False</td><td>--</td><td>--</td><td>1.1430299</td><td>1.824302</td><td>31</td><td>9.110215</td><td>0.0</td><td>0.0</td><td>2.283366</td><td>0.022127973</td><td>-35.40588</td><td>-719.85364</td><td>146.09027</td><td>0.0</td><td>0.0</td><td>3.3184793</td><td>0.69514006</td><td>0.00073079794</td><td>9.286046e-06</td><td>7.0752773</td><td>0.0</td><td>0.0</td><td>7.0752773</td><td>0.0</td><td>0.0</td><td>1.3442098 .. 9.925307</td><td>0.0 .. 0.0</td><td>0.0 .. 0.0</td><td>0.00457313 .. 0.88823074</td><td>0.0 .. 0.0</td><td>0.0 .. 0.0</td><td>0.00457313 .. 0.95013064</td><td>0.0 .. 0.0</td><td>0.0 .. 0.0</td><td>5581.0586 .. 44.124687</td><td>0.0 .. 0.0</td><td>0.0 .. 0.0</td><td>0.0 .. 0.0</td><td>0.0 .. 0.0</td><td>0.0 .. 0.0</td><td>0.6039568 .. 7.779293</td><td>-0.20538726 .. 3.1034806</td><td>-5.3424187 .. -18.012432</td><td>-47.64621 .. -191.62708</td><td>-0.33609733 .. 4.157947</td><td>-0.26513824 .. 2.3478308</td><td>0.9070471 .. 4.3900533</td><td>-0.9193539 .. 103.595085</td><td>14.325247 .. 1.0546937</td><td>3.7142706 .. 0.280685</td><td>0.011075722 .. 0.00081939937</td><td>0.00045924308 .. 3.537733e-05</td><td>0.75966924</td><td>0.83097285</td><td>0.90161395</td><td>0.98438686</td><td>0.99038243</td><td>0.997941</td><td>0.99922204</td><td>6</td><td>0</td><td>0</td><td>182</td><td>178</td><td>11</td><td>11</td><td>0.9834103</td><td>0.0</td><td>0.0</td><td>2.1796072</td><td>0.9692579</td><td>0.93230754</td><td>0.17922507</td><td>0.0</td><td>0.0</td><td>0.0</td><td>0.28602222</td><td>8.206049</td><td>0.03505163</td><td>0.062241495</td><td>0.08940041</td><td>0.0</td><td>0.0</td><td>0.99878937</td><td>0.0</td><td>0.0</td><td>0</td><td>0</td><td>0</td><td>0</td><td>0</td><td>0</td><td>0</td><td>0</td><td>2.177546</td><td>0.0</td><td>0.0</td><td>257.89685</td><td>0.0</td><td>0.0</td><td>203.45102</td><td>0.0</td><td>0.0</td><td>11.109954</td><td>0.0</td><td>0.0</td><td>11.1103115</td><td>0.0</td><td>0.0</td><td>4.1125402</td><td>0.7628253</td><td>0.0007929316</td><td>1.03574175e-05</td><td>1467p000</td><td>215.10378</td><td>70.24577</td><td>-2.9880424 .. 0.0</td><td>-7.56179 .. 0.0</td><td>0.24907297 .. 0.0</td><td>0.06587498 .. 0.0</td><td>11 .. 0</td><td>11 .. 0</td><td>0.22948001 .. 0.0</td><td>0.04887529 .. 0.0</td><td>0.716613 .. 0.0</td><td>0.95349354 .. 0.0</td><td>55330.381316269995 .. 0.0</td><td>55330.381316269995 .. 0.0</td><td>0 .. -1</td><td>0 .. -1</td><td>0.0</td><td>0.0</td><td>0.0</td><td>0.0</td><td>0.0</td><td>0.0</td><td>0.0</td><td>0.0</td><td>51602</td><td>266</td><td>29</td><td>26</td><td>sdss</td><td>0.0006029028</td></tr>\n",
       "<tr><td>9011</td><td>330957</td><td>1473p000</td><td>233</td><td>True</td><td>0</td><td>128</td><td>PSF</td><td>147.3209974768824</td><td>-0.006793154115498005</td><td>53816213000000.0</td><td>159537480000000.0</td><td>2541.5195</td><td>1706.1589</td><td>49847.46 .. 0.0</td><td>0.07685931</td><td>57817.315042238646</td><td>57817.33986885474</td><td>G2</td><td>3834020410677227904</td><td>-7.161634</td><td>-47.54566</td><td>3.9123638</td><td>2.0883477</td><td>1.694473</td><td>1.3376071</td><td>2015.5</td><td>18.849674</td><td>210.53957</td><td>139</td><td>18.807848</td><td>37.195972</td><td>14</td><td>18.804325</td><td>23.034397</td><td>15</td><td>False</td><td>0.78169656</td><td>1.8021784</td><td>107</td><td>105</td><td>0.29331306</td><td>False</td><td>--</td><td>--</td><td>1.2061554</td><td>1.0822761</td><td>31</td><td>29.983583</td><td>0.0</td><td>0.0</td><td>3.417731</td><td>1.6499891</td><td>-77.60232</td><td>15.649146</td><td>55.4487</td><td>0.0</td><td>0.0</td><td>3.307317</td><td>0.7137812</td><td>0.0007940829</td><td>1.0068994e-05</td><td>22.0863</td><td>0.0</td><td>0.0</td><td>22.0863</td><td>0.0</td><td>0.0</td><td>4.9803452 .. 29.715784</td><td>0.0 .. 0.0</td><td>0.0 .. 0.0</td><td>0.035834998 .. -0.29563582</td><td>0.0 .. 0.0</td><td>0.0 .. 0.0</td><td>0.035834998 .. -0.18083835</td><td>0.0 .. 0.0</td><td>0.0 .. 0.0</td><td>1601.5792 .. 24.862707</td><td>0.0 .. 0.0</td><td>0.0 .. 0.0</td><td>0.0 .. 0.0</td><td>0.0 .. 0.0</td><td>0.0 .. 0.0</td><td>1.0223422 .. 11.006294</td><td>0.2568826 .. 6.2375116</td><td>-11.037338 .. -57.386734</td><td>9.11845 .. 70.80739</td><td>-0.2897684 .. 7.6311455</td><td>-0.29815608 .. 4.627862</td><td>3.3306868 .. -6.2641187</td><td>8.797776 .. 82.79566</td><td>14.18762 .. 1.0533528</td><td>3.8065627 .. 0.28026345</td><td>0.012048753 .. 0.00088054483</td><td>0.000511676 .. 3.8200295e-05</td><td>0.7965071</td><td>0.8579063</td><td>0.917845</td><td>0.9870591</td><td>0.99203265</td><td>0.9982954</td><td>0.99935603</td><td>4</td><td>0</td><td>0</td><td>184</td><td>175</td><td>12</td><td>12</td><td>2.2174273</td><td>0.0</td><td>0.0</td><td>2.8392148</td><td>0.72808534</td><td>0.62355804</td><td>0.13744958</td><td>0.0</td><td>0.0</td><td>0.0</td><td>0.04209846</td><td>0.058216467</td><td>0.014103711</td><td>6.613707</td><td>0.0031849416</td><td>0.0</td><td>0.0</td><td>0.9995775</td><td>0.0</td><td>0.0</td><td>0</td><td>0</td><td>0</td><td>0</td><td>0</td><td>0</td><td>0</td><td>0</td><td>2.1043959</td><td>0.0</td><td>0.0</td><td>146.64873</td><td>0.0</td><td>0.0</td><td>114.18506</td><td>0.0</td><td>0.0</td><td>10.043059</td><td>0.0</td><td>0.0</td><td>10.043326</td><td>0.0</td><td>0.0</td><td>4.0750895</td><td>0.7477629</td><td>0.0007934967</td><td>1.036121e-05</td><td>1467p000</td><td>240.94823</td><td>162.6268</td><td>6.2614884 .. 0.0</td><td>8.596024 .. 0.0</td><td>0.27446365 .. 0.0</td><td>0.07101914 .. 0.0</td><td>12 .. 0</td><td>12 .. 0</td><td>0.025054209 .. 0.0</td><td>0.015859073 .. 0.0</td><td>0.7567131 .. 0.0</td><td>0.6131031 .. 0.0</td><td>55330.381316269995 .. 0.0</td><td>55330.381316269995 .. 0.0</td><td>0 .. -1</td><td>0 .. -1</td><td>0.0</td><td>0.0</td><td>0.0</td><td>0.0</td><td>0.0</td><td>0.0</td><td>0.0</td><td>0.0</td><td>51602</td><td>266</td><td>31</td><td>26</td><td>sdss</td><td>-3.6914502e-05</td></tr>\n",
       "<tr><td>9011</td><td>330955</td><td>1468p000</td><td>760</td><td>True</td><td>0</td><td>4224</td><td>PSF</td><td>146.94386900472531</td><td>0.03914286353851923</td><td>945337540000000.0</td><td>1522593400000000.0</td><td>853.2079</td><td>2337.3413</td><td>710944.56 .. 0.0</td><td>0.118148535</td><td>57817.315042238646</td><td>57817.35711969064</td><td>G2</td><td>3834076524425221888</td><td>2.7561817</td><td>-7.709359</td><td>0.36465943</td><td>46.765507</td><td>50.655293</td><td>54.38632</td><td>2015.5</td><td>16.46269</td><td>930.4604</td><td>102</td><td>16.863888</td><td>174.43402</td><td>11</td><td>15.871118</td><td>442.42764</td><td>10</td><td>False</td><td>0.0851406</td><td>0.24514438</td><td>96</td><td>94</td><td>5.173679</td><td>False</td><td>0.929</td><td>0.4365</td><td>1.2412761</td><td>0.1626284</td><td>31</td><td>161.67445</td><td>0.0</td><td>0.0</td><td>113.55579</td><td>58.48478</td><td>-5.3284698</td><td>536.88995</td><td>27.199106</td><td>0.0</td><td>0.0</td><td>1.6735674</td><td>0.56329733</td><td>0.0011301547</td><td>1.4697122e-05</td><td>125.7132</td><td>0.0</td><td>0.0</td><td>125.7132</td><td>0.0</td><td>0.0</td><td>21.741104 .. 152.71098</td><td>0.0 .. 0.0</td><td>0.0 .. 0.0</td><td>0.07275623 .. 1.8011132</td><td>0.0 .. 0.0</td><td>0.0 .. 0.0</td><td>0.07275623 .. 1.8011396</td><td>0.0 .. 0.0</td><td>0.0 .. 0.0</td><td>819.8717 .. 32.141136</td><td>0.0 .. 0.0</td><td>0.0 .. 0.0</td><td>0.0 .. 0.0</td><td>0.0 .. 0.0</td><td>0.0 .. 0.0</td><td>44.149208 .. 111.88649</td><td>20.232174 .. 53.82836</td><td>-3.488303 .. 36.55838</td><td>27.118177 .. 246.20314</td><td>0.43570676 .. 0.59869784</td><td>0.56606346 .. -2.1528947</td><td>-2.8360415 .. 33.120907</td><td>-7.5147696 .. 29.68348</td><td>6.8029237 .. 0.8866805</td><td>2.9303489 .. 0.26992986</td><td>0.01706835 .. 0.0012695446</td><td>0.00074542646 .. 5.5390043e-05</td><td>0.70486873</td><td>0.79010236</td><td>0.87653416</td><td>0.98017645</td><td>0.9877788</td><td>0.9973809</td><td>0.99901026</td><td>6</td><td>0</td><td>0</td><td>186</td><td>180</td><td>17</td><td>17</td><td>3.6607065</td><td>0.0</td><td>0.0</td><td>2.4354484</td><td>0.97364503</td><td>0.63164186</td><td>0.12013325</td><td>0.0</td><td>0.0</td><td>0.0</td><td>0.045962818</td><td>0.051171154</td><td>1.7038586</td><td>0.20411274</td><td>0.062280104</td><td>0.0</td><td>0.0</td><td>0.9999998</td><td>0.0</td><td>0.0</td><td>0</td><td>0</td><td>0</td><td>0</td><td>0</td><td>0</td><td>0</td><td>0</td><td>2.3016298</td><td>0.0</td><td>0.0</td><td>247.60213</td><td>0.0</td><td>0.0</td><td>197.77359</td><td>0.0</td><td>0.0</td><td>11.856437</td><td>0.0</td><td>0.0</td><td>11.856652</td><td>0.0</td><td>0.0</td><td>4.1425805</td><td>0.7629259</td><td>0.0007953049</td><td>1.0385852e-05</td><td>1467p000</td><td>81.670654</td><td>222.7621</td><td>120.72477 .. 0.0</td><td>64.948296 .. 0.0</td><td>0.33837715 .. 0.0</td><td>0.096905 .. 0.0</td><td>17 .. 0</td><td>17 .. 0</td><td>0.04432526 .. 0.0</td><td>0.04868876 .. 0.0</td><td>5.874535 .. 0.0</td><td>1.092986 .. 0.0</td><td>55330.381316269995 .. 0.0</td><td>55330.381316269995 .. 0.0</td><td>0 .. -1</td><td>0 .. -1</td><td>0.0</td><td>0.0</td><td>0.0</td><td>0.0</td><td>0.0</td><td>0.0</td><td>0.0</td><td>0.0</td><td>51602</td><td>266</td><td>32</td><td>26</td><td>sdss</td><td>0.00021823542</td></tr>\n",
       "<tr><td>9011</td><td>330957</td><td>1473p000</td><td>262</td><td>True</td><td>4096</td><td>528</td><td>SER</td><td>147.32950795194662</td><td>0.02889590504947681</td><td>868601600000.0</td><td>1147115800000.0</td><td>2424.5818</td><td>2196.5432</td><td>0.0 .. 0.0</td><td>0.07508839</td><td>57817.315042238646</td><td>57817.33986885474</td><td>L3</td><td>833408</td><td>0.0</td><td>0.0</td><td>0.0</td><td>0.0</td><td>0.0</td><td>0.0</td><td>0.0</td><td>0.0</td><td>0.0</td><td>0</td><td>0.0</td><td>0.0</td><td>0</td><td>0.0</td><td>0.0</td><td>0</td><td>False</td><td>0.0</td><td>0.0</td><td>0</td><td>0</td><td>0.0</td><td>False</td><td>0.0</td><td>0.0</td><td>0.0</td><td>0.0</td><td>0</td><td>293.70825</td><td>0.0</td><td>0.0</td><td>867.42334</td><td>584.8169</td><td>4229.899</td><td>25051.863</td><td>4.79141</td><td>0.0</td><td>0.0</td><td>0.31355062</td><td>0.13349596</td><td>0.00039230508</td><td>7.1591367e-06</td><td>28.021397</td><td>0.0</td><td>0.0</td><td>28.021397</td><td>0.0</td><td>0.0</td><td>6.914252 .. 218.01111</td><td>0.0 .. 0.0</td><td>0.0 .. 0.0</td><td>-1.4666344 .. 1.7947754</td><td>0.0 .. 0.0</td><td>0.0 .. 0.0</td><td>-1.4666344 .. 1.7947754</td><td>0.0 .. 0.0</td><td>0.0 .. 0.0</td><td>1262.5388 .. 17.282993</td><td>0.0 .. 0.0</td><td>0.0 .. 0.0</td><td>0.0 .. 0.0</td><td>0.0 .. 0.0</td><td>0.0 .. 0.0</td><td>178.67805 .. 676.53296</td><td>108.91433 .. 429.83438</td><td>489.3444 .. 2079.5156</td><td>1375.7594 .. 7834.1055</td><td>11.98452 .. 11.312384</td><td>7.3552384 .. -2.7482417</td><td>61.7313 .. -132.73082</td><td>284.2477 .. 52.656044</td><td>2.5031106 .. 0.4527925</td><td>1.3996472 .. 0.1839524</td><td>0.0119468365 .. 0.0008828704</td><td>0.00052583835 .. 3.8899132e-05</td><td>0.80069363</td><td>0.8609411</td><td>0.91965973</td><td>0.98735535</td><td>0.9922155</td><td>0.99833465</td><td>0.9993709</td><td>4</td><td>0</td><td>0</td><td>178</td><td>170</td><td>12</td><td>12</td><td>11.546171</td><td>0.0</td><td>0.0</td><td>43.42114</td><td>8.203117</td><td>4.900925</td><td>1.9773711</td><td>0.00021946938</td><td>0.0</td><td>0.0</td><td>0.0016388453</td><td>0.0024768566</td><td>0.027931225</td><td>0.14227295</td><td>0.0397539</td><td>0.0</td><td>0.0</td><td>0.9549403</td><td>0.0</td><td>0.0</td><td>0</td><td>0</td><td>0</td><td>0</td><td>0</td><td>0</td><td>0</td><td>0</td><td>2.1043959</td><td>0.0</td><td>0.0</td><td>146.64873</td><td>0.0</td><td>0.0</td><td>114.18506</td><td>0.0</td><td>0.0</td><td>108.92646</td><td>0.0</td><td>0.0</td><td>109.08093</td><td>0.0</td><td>0.0</td><td>4.0750895</td><td>0.7477629</td><td>0.0007934967</td><td>1.036121e-05</td><td>1467p000</td><td>229.80602</td><td>209.34962</td><td>926.8948 .. 0.0</td><td>628.13684 .. 0.0</td><td>0.07493661 .. 0.0</td><td>0.025766294 .. 0.0</td><td>12 .. 0</td><td>12 .. 0</td><td>0.0019352064 .. 0.0</td><td>0.0020139928 .. 0.0</td><td>33.464672 .. 0.0</td><td>5.7516403 .. 0.0</td><td>55330.381316269995 .. 0.0</td><td>55330.381316269995 .. 0.0</td><td>0 .. -1</td><td>0 .. -1</td><td>2.6788876</td><td>5599.254</td><td>4.719319</td><td>9139.934</td><td>-0.083032325</td><td>249668.08</td><td>0.27517667</td><td>413127.38</td><td>51602</td><td>266</td><td>33</td><td>26</td><td>sdss</td><td>0.048096348</td></tr>\n",
       "<tr><td>9011</td><td>329516</td><td>1471m002</td><td>34</td><td>True</td><td>0</td><td>128</td><td>PSF</td><td>147.01771700708917</td><td>-0.12728286596193164</td><td>68499657000000.0</td><td>173979280000000.0</td><td>3273.619</td><td>3485.6892</td><td>99086.81 .. 0.0</td><td>0.10055895</td><td>57817.33874003214</td><td>57817.35599095744</td><td>G2</td><td>3834001169223668352</td><td>-46.43417</td><td>4.2977715</td><td>6.1780806</td><td>8.111693</td><td>8.19418</td><td>3.73877</td><td>2015.5</td><td>18.296993</td><td>380.47946</td><td>107</td><td>18.338703</td><td>77.66809</td><td>7</td><td>18.125885</td><td>41.904297</td><td>7</td><td>False</td><td>0.0</td><td>0.0</td><td>99</td><td>99</td><td>0.7073616</td><td>False</td><td>--</td><td>--</td><td>1.2042753</td><td>0.60132325</td><td>31</td><td>48.487072</td><td>0.0</td><td>0.0</td><td>8.033611</td><td>2.5929432</td><td>-6.1950555</td><td>-389.68884</td><td>42.148304</td><td>0.0</td><td>0.0</td><td>2.9714832</td><td>0.6744469</td><td>0.0007215604</td><td>9.648425e-06</td><td>35.96804</td><td>0.0</td><td>0.0</td><td>35.96804</td><td>0.0</td><td>0.0</td><td>6.778312 .. 47.830303</td><td>0.0 .. 0.0</td><td>0.0 .. 0.0</td><td>0.08788274 .. 0.09367928</td><td>0.0 .. 0.0</td><td>0.0 .. 0.0</td><td>0.08788274 .. 0.14459924</td><td>0.0 .. 0.0</td><td>0.0 .. 0.0</td><td>1322.3632 .. 31.346859</td><td>0.0 .. 0.0</td><td>0.0 .. 0.0</td><td>0.0 .. 0.0</td><td>0.0 .. 0.0</td><td>0.0 .. 0.0</td><td>2.397841 .. 15.085139</td><td>0.43406802 .. 7.053494</td><td>6.0822587 .. -54.43801</td><td>-24.077019 .. -312.36002</td><td>-0.5404701 .. 6.741452</td><td>-0.408412 .. 4.1722608</td><td>7.14389 .. -49.995438</td><td>3.473842 .. -125.4557</td><td>12.819141 .. 1.0000738</td><td>3.625399 .. 0.26480553</td><td>0.010870061 .. 0.0008000561</td><td>0.0004849101 .. 3.6622045e-05</td><td>0.7425427</td><td>0.8183064</td><td>0.89390063</td><td>0.9831026</td><td>0.98958874</td><td>0.99777037</td><td>0.99915755</td><td>3</td><td>0</td><td>0</td><td>173</td><td>168</td><td>11</td><td>11</td><td>3.2615442</td><td>0.0</td><td>0.0</td><td>5.5393133</td><td>1.6324488</td><td>0.8284358</td><td>0.16706991</td><td>0.0</td><td>0.0</td><td>0.0</td><td>0.051903483</td><td>0.10287206</td><td>0.55678344</td><td>0.35874602</td><td>0.0011184516</td><td>0.0</td><td>0.0</td><td>0.7505641</td><td>0.0</td><td>0.0</td><td>0</td><td>0</td><td>0</td><td>0</td><td>0</td><td>0</td><td>0</td><td>0</td><td>2.3064942</td><td>0.0</td><td>0.0</td><td>161.64082</td><td>0.0</td><td>0.0</td><td>130.95082</td><td>0.0</td><td>0.0</td><td>11.661677</td><td>0.0</td><td>0.0</td><td>11.662578</td><td>0.0</td><td>0.0</td><td>4.0643497</td><td>0.74449205</td><td>0.00079575705</td><td>1.03839575e-05</td><td>1467p000</td><td>311.99493</td><td>331.89282</td><td>4.098116 .. 0.0</td><td>2.2524908 .. 0.0</td><td>0.2485976 .. 0.0</td><td>0.0671526 .. 0.0</td><td>11 .. 0</td><td>11 .. 0</td><td>0.08963526 .. 0.0</td><td>0.102336876 .. 0.0</td><td>1.0750464 .. 0.0</td><td>0.9378302 .. 0.0</td><td>55330.381316269995 .. 0.0</td><td>55330.381316269995 .. 0.0</td><td>0 .. -1</td><td>0 .. -1</td><td>0.0</td><td>0.0</td><td>0.0</td><td>0.0</td><td>0.0</td><td>0.0</td><td>0.0</td><td>0.0</td><td>51602</td><td>266</td><td>34</td><td>26</td><td>sdss</td><td>-3.0322793e-05</td></tr>\n",
       "<tr><td>9011</td><td>330956</td><td>1471p000</td><td>1018</td><td>True</td><td>0</td><td>128</td><td>DEV</td><td>147.24800555783847</td><td>-0.03570684613557731</td><td>32394367000.0</td><td>10648500000.0</td><td>109.3447</td><td>1308.8704</td><td>60297.555 .. 80074.35</td><td>0.089313395</td><td>57817.315042238646</td><td>57817.35599095744</td><td>G2</td><td>3834025809450984064</td><td>0.0</td><td>0.0</td><td>0.0</td><td>0.0</td><td>0.0</td><td>0.0</td><td>2015.5</td><td>19.261137</td><td>57.485428</td><td>71</td><td>18.603657</td><td>29.420965</td><td>8</td><td>17.02366</td><td>40.45806</td><td>8</td><td>False</td><td>18.505274</td><td>108.92324</td><td>24</td><td>24</td><td>0.0027575642</td><td>True</td><td>--</td><td>--</td><td>4.6885147</td><td>68.23012</td><td>3</td><td>74.90929</td><td>0.0</td><td>0.0</td><td>386.55368</td><td>241.84935</td><td>260.05307</td><td>1321.1527</td><td>14.227046</td><td>0.0</td><td>0.0</td><td>0.56471074</td><td>0.21834517</td><td>0.0006045442</td><td>1.01660935e-05</td><td>12.073526</td><td>0.0</td><td>0.0</td><td>12.089158</td><td>0.0</td><td>0.0</td><td>3.122529 .. 59.892178</td><td>0.0 .. 0.0</td><td>0.0 .. 0.0</td><td>0.044813845 .. -1.6631715</td><td>0.0 .. 0.0</td><td>0.0 .. 0.0</td><td>0.044813845 .. -1.6628754</td><td>0.0 .. 0.0</td><td>0.0 .. 0.0</td><td>2979.2905 .. 30.252077</td><td>0.0 .. 0.0</td><td>0.0 .. 0.0</td><td>0.0 .. 0.0</td><td>0.0 .. 0.0</td><td>0.0 .. 0.0</td><td>94.74609 .. 299.58444</td><td>52.94946 .. 181.82068</td><td>8.243122 .. 21.082546</td><td>12.885126 .. 219.51291</td><td>5.826574 .. -9.069473</td><td>2.9293787 .. -7.704755</td><td>-7.022593 .. 6.806572</td><td>-15.585843 .. 45.96723</td><td>4.065783 .. 0.67231387</td><td>2.0766075 .. 0.23589677</td><td>0.016086742 .. 0.0011965345</td><td>0.00068510545 .. 5.160654e-05</td><td>0.7676773</td><td>0.83686346</td><td>0.90518343</td><td>0.984978</td><td>0.99074763</td><td>0.99801946</td><td>0.9992517</td><td>5</td><td>0</td><td>0</td><td>185</td><td>178</td><td>16</td><td>16</td><td>0.9680818</td><td>0.0</td><td>0.0</td><td>20.462486</td><td>3.2493944</td><td>0.48278567</td><td>0.13708486</td><td>0.013237973</td><td>0.0</td><td>0.0</td><td>0.028061574</td><td>0.023489973</td><td>0.75457054</td><td>0.66320187</td><td>0.04205542</td><td>0.0</td><td>0.0</td><td>0.7022406</td><td>0.0</td><td>0.0</td><td>0</td><td>0</td><td>0</td><td>0</td><td>0</td><td>0</td><td>0</td><td>0</td><td>2.1723652</td><td>0.0</td><td>0.0</td><td>201.08626</td><td>0.0</td><td>0.0</td><td>157.79532</td><td>0.0</td><td>0.0</td><td>60.336327</td><td>0.0</td><td>0.0</td><td>77.74862</td><td>0.0</td><td>0.0</td><td>4.1125402</td><td>0.7628253</td><td>0.0007929316</td><td>1.03574175e-05</td><td>1467p000</td><td>10.510474</td><td>124.774666</td><td>433.18008 .. 0.0</td><td>281.30453 .. 0.0</td><td>0.13666375 .. 0.0</td><td>0.042245667 .. 0.0</td><td>16 .. 0</td><td>16 .. 0</td><td>0.077264145 .. 0.0</td><td>0.08378022 .. 0.0</td><td>10.5776 .. 0.0</td><td>1.1884888 .. 0.0</td><td>55330.381316269995 .. 0.0</td><td>55330.381316269995 .. 0.0</td><td>0 .. -1</td><td>0 .. -1</td><td>4.0</td><td>0.0</td><td>2.849996</td><td>11280.899</td><td>-0.04770537</td><td>38857.113</td><td>-0.020301832</td><td>28782.264</td><td>51602</td><td>266</td><td>35</td><td>26</td><td>sdss</td><td>0.08410355</td></tr>\n",
       "<tr><td>...</td><td>...</td><td>...</td><td>...</td><td>...</td><td>...</td><td>...</td><td>...</td><td>...</td><td>...</td><td>...</td><td>...</td><td>...</td><td>...</td><td>...</td><td>...</td><td>...</td><td>...</td><td>...</td><td>...</td><td>...</td><td>...</td><td>...</td><td>...</td><td>...</td><td>...</td><td>...</td><td>...</td><td>...</td><td>...</td><td>...</td><td>...</td><td>...</td><td>...</td><td>...</td><td>...</td><td>...</td><td>...</td><td>...</td><td>...</td><td>...</td><td>...</td><td>...</td><td>...</td><td>...</td><td>...</td><td>...</td><td>...</td><td>...</td><td>...</td><td>...</td><td>...</td><td>...</td><td>...</td><td>...</td><td>...</td><td>...</td><td>...</td><td>...</td><td>...</td><td>...</td><td>...</td><td>...</td><td>...</td><td>...</td><td>...</td><td>...</td><td>...</td><td>...</td><td>...</td><td>...</td><td>...</td><td>...</td><td>...</td><td>...</td><td>...</td><td>...</td><td>...</td><td>...</td><td>...</td><td>...</td><td>...</td><td>...</td><td>...</td><td>...</td><td>...</td><td>...</td><td>...</td><td>...</td><td>...</td><td>...</td><td>...</td><td>...</td><td>...</td><td>...</td><td>...</td><td>...</td><td>...</td><td>...</td><td>...</td><td>...</td><td>...</td><td>...</td><td>...</td><td>...</td><td>...</td><td>...</td><td>...</td><td>...</td><td>...</td><td>...</td><td>...</td><td>...</td><td>...</td><td>...</td><td>...</td><td>...</td><td>...</td><td>...</td><td>...</td><td>...</td><td>...</td><td>...</td><td>...</td><td>...</td><td>...</td><td>...</td><td>...</td><td>...</td><td>...</td><td>...</td><td>...</td><td>...</td><td>...</td><td>...</td><td>...</td><td>...</td><td>...</td><td>...</td><td>...</td><td>...</td><td>...</td><td>...</td><td>...</td><td>...</td><td>...</td><td>...</td><td>...</td><td>...</td><td>...</td><td>...</td><td>...</td><td>...</td><td>...</td><td>...</td><td>...</td><td>...</td><td>...</td><td>...</td><td>...</td><td>...</td><td>...</td><td>...</td><td>...</td><td>...</td><td>...</td><td>...</td><td>...</td><td>...</td><td>...</td><td>...</td><td>...</td><td>...</td><td>...</td><td>...</td><td>...</td><td>...</td><td>...</td><td>...</td><td>...</td><td>...</td><td>...</td><td>...</td><td>...</td><td>...</td><td>...</td><td>...</td></tr>\n",
       "<tr><td>9011</td><td>443883</td><td>1273p200</td><td>458</td><td>True</td><td>0</td><td>0</td><td>REX</td><td>127.38685853046326</td><td>19.888359316144577</td><td>478140030.0</td><td>479884580.0</td><td>688.6378</td><td>265.78745</td><td>67.452156 .. 0.0</td><td>0.034954306</td><td>57401.34228366658</td><td>57401.34228366658</td><td></td><td>0</td><td>0.0</td><td>0.0</td><td>0.0</td><td>0.0</td><td>0.0</td><td>0.0</td><td>0.0</td><td>0.0</td><td>0.0</td><td>0</td><td>0.0</td><td>0.0</td><td>0</td><td>0.0</td><td>0.0</td><td>0</td><td>False</td><td>0.0</td><td>0.0</td><td>0</td><td>0</td><td>0.0</td><td>False</td><td>0.0</td><td>0.0</td><td>0.0</td><td>0.0</td><td>0</td><td>1.8075941</td><td>0.0</td><td>0.0</td><td>9.220352</td><td>6.505529</td><td>25.782255</td><td>597.33307</td><td>23.168915</td><td>0.0</td><td>0.0</td><td>2.4228396</td><td>0.5421511</td><td>0.00056406413</td><td>7.790317e-06</td><td>0.6872773</td><td>0.0</td><td>0.0</td><td>0.6872773</td><td>0.0</td><td>0.0</td><td>0.20421474 .. 2.5939262</td><td>0.0 .. 0.0</td><td>0.0 .. 0.0</td><td>0.0108101675 .. -0.40446904</td><td>0.0 .. 0.0</td><td>0.0 .. 0.0</td><td>0.010809036 .. -0.17660233</td><td>0.0 .. 0.0</td><td>0.0 .. 0.0</td><td>1373.8485 .. 7.5203953</td><td>0.0 .. 0.0</td><td>0.0 .. 0.0</td><td>0.0 .. 0.0</td><td>0.0 .. 0.0</td><td>0.0 .. 0.0</td><td>4.1796093 .. 25.091484</td><td>3.012443 .. 12.172401</td><td>0.6810503 .. 24.72383</td><td>1.5923654 .. 237.0348</td><td>0.24741454 .. -0.2584208</td><td>0.54956937 .. -3.0641842</td><td>-2.2308173 .. 36.470013</td><td>-32.862686 .. 61.89256</td><td>10.9752445 .. 0.85427004</td><td>3.028096 .. 0.23178943</td><td>0.0088962745 .. 0.0006617064</td><td>0.00040099147 .. 2.9716579e-05</td><td>0.9017014</td><td>0.93267334</td><td>0.96176314</td><td>0.9940938</td><td>0.99636865</td><td>0.9992244</td><td>0.9997071</td><td>1</td><td>0</td><td>0</td><td>156</td><td>157</td><td>10</td><td>10</td><td>0.6613675</td><td>0.0</td><td>0.0</td><td>1.4787959</td><td>0.8916316</td><td>0.48944098</td><td>0.122593276</td><td>0.0</td><td>0.0</td><td>0.0</td><td>0.4039331</td><td>0.4263055</td><td>0.9653251</td><td>0.38938686</td><td>0.065116435</td><td>0.0</td><td>0.0</td><td>0.9677626</td><td>0.0</td><td>0.0</td><td>0</td><td>0</td><td>0</td><td>0</td><td>0</td><td>0</td><td>0</td><td>0</td><td>1.9710716</td><td>0.0</td><td>0.0</td><td>42.456352</td><td>0.0</td><td>0.0</td><td>31.791336</td><td>0.0</td><td>0.0</td><td>16.012573</td><td>0.0</td><td>0.0</td><td>16.081512</td><td>0.0</td><td>0.0</td><td>3.2764964</td><td>0.6149397</td><td>0.0005864023</td><td>7.912226e-06</td><td>1280p196</td><td>66.61942</td><td>25.461811</td><td>10.727102 .. 0.0</td><td>9.943089 .. 0.0</td><td>0.20343605 .. 0.0</td><td>0.049666133 .. 0.0</td><td>10 .. 0</td><td>10 .. 0</td><td>0.2725848 .. 0.0</td><td>0.2797833 .. 0.0</td><td>0.6881591 .. 0.0</td><td>0.75066787 .. 0.0</td><td>55306.965254220006 .. 0.0</td><td>55306.965190555 .. 0.0</td><td>0 .. -1</td><td>0 .. -1</td><td>1.0</td><td>0.0</td><td>0.74013287</td><td>39.24282</td><td>0.0</td><td>0.0</td><td>0.0</td><td>0.0</td><td>58056</td><td>9567</td><td>785</td><td>v5_13_0</td><td>eboss</td><td>0.9079795</td></tr>\n",
       "<tr><td>9011</td><td>442526</td><td>1273p197</td><td>327</td><td>True</td><td>0</td><td>128</td><td>PSF</td><td>127.39937605671817</td><td>19.838746444885818</td><td>65994354000000.0</td><td>211086020000000.0</td><td>1529.6484</td><td>3018.9346</td><td>2952.315 .. 0.0</td><td>0.03517883</td><td>57401.34228366658</td><td>57401.34228366658</td><td>G2</td><td>662995615945127808</td><td>0.38005126</td><td>0.22385482</td><td>0.38920996</td><td>1.2062309</td><td>3.7998173</td><td>2.961303</td><td>2015.5</td><td>19.732584</td><td>243.25082</td><td>394</td><td>19.765265</td><td>24.450632</td><td>39</td><td>19.260748</td><td>29.955051</td><td>38</td><td>False</td><td>0.0</td><td>0.0</td><td>329</td><td>326</td><td>0.11054278</td><td>False</td><td>--</td><td>--</td><td>1.3693321</td><td>0.87953895</td><td>31</td><td>10.663317</td><td>0.0</td><td>0.0</td><td>23.862747</td><td>39.789864</td><td>170.2667</td><td>492.73312</td><td>25.972975</td><td>0.0</td><td>0.0</td><td>2.4032812</td><td>0.52050966</td><td>0.0006501138</td><td>8.724464e-06</td><td>8.299581</td><td>0.0</td><td>0.0</td><td>8.299581</td><td>0.0</td><td>0.0</td><td>2.0604124 .. 11.23237</td><td>0.0 .. 0.0</td><td>0.0 .. 0.0</td><td>-0.0082200635 .. 0.5458304</td><td>0.0 .. 0.0</td><td>0.0 .. 0.0</td><td>-0.0082200635 .. 0.73099875</td><td>0.0 .. 0.0</td><td>0.0 .. 0.0</td><td>725.53235 .. 7.202025</td><td>0.0 .. 0.0</td><td>0.0 .. 0.0</td><td>0.0 .. 0.0</td><td>0.0 .. 0.0</td><td>0.0 .. 0.0</td><td>8.988958 .. 25.012085</td><td>13.253643 .. 36.729164</td><td>34.46563 .. 96.627304</td><td>58.571667 .. 260.55637</td><td>-0.04323323 .. 2.167853</td><td>0.12410328 .. 0.52647007</td><td>3.2870665 .. -12.5333185</td><td>25.84531 .. 54.667286</td><td>10.2312355 .. 0.8617851</td><td>2.7433627 .. 0.22829401</td><td>0.0097886445 .. 0.00072808104</td><td>0.00044100394 .. 3.2801952e-05</td><td>0.9011023</td><td>0.93225586</td><td>0.96152234</td><td>0.994056</td><td>0.9963454</td><td>0.9992194</td><td>0.9997052</td><td>1</td><td>0</td><td>0</td><td>158</td><td>158</td><td>11</td><td>11</td><td>0.66775566</td><td>0.0</td><td>0.0</td><td>0.8071585</td><td>0.46107572</td><td>0.6227976</td><td>0.15322468</td><td>0.0</td><td>0.0</td><td>0.0</td><td>0.013550838</td><td>0.008168345</td><td>0.011331026</td><td>0.09549473</td><td>0.011549136</td><td>0.0</td><td>0.0</td><td>0.9936152</td><td>0.0</td><td>0.0</td><td>0</td><td>0</td><td>0</td><td>0</td><td>0</td><td>0</td><td>0</td><td>0</td><td>1.9313277</td><td>0.0</td><td>0.0</td><td>44.2217</td><td>0.0</td><td>0.0</td><td>32.762012</td><td>0.0</td><td>0.0</td><td>8.581266</td><td>0.0</td><td>0.0</td><td>8.581859</td><td>0.0</td><td>0.0</td><td>3.2509573</td><td>0.613413</td><td>0.00064442056</td><td>8.695483e-06</td><td>1280p196</td><td>145.43814</td><td>288.45514</td><td>27.055569 .. 0.0</td><td>39.71267 .. 0.0</td><td>0.23210903 .. 0.0</td><td>0.059205957 .. 0.0</td><td>11 .. 0</td><td>11 .. 0</td><td>0.011685873 .. 0.0</td><td>0.004183849 .. 0.0</td><td>0.51537406 .. 0.0</td><td>0.37967384 .. 0.0</td><td>55306.965254220006 .. 0.0</td><td>55306.965190555 .. 0.0</td><td>0 .. -1</td><td>0 .. -1</td><td>0.0</td><td>0.0</td><td>0.0</td><td>0.0</td><td>0.0</td><td>0.0</td><td>0.0</td><td>0.0</td><td>58056</td><td>9567</td><td>800</td><td>v5_13_0</td><td>eboss</td><td>2.164307</td></tr>\n",
       "<tr><td>9011</td><td>441167</td><td>1274p195</td><td>422</td><td>True</td><td>0</td><td>4224</td><td>PSF</td><td>127.51273282893514</td><td>19.609511614931314</td><td>1644278400000000.0</td><td>5074716500000000.0</td><td>1063.6523</td><td>3304.364</td><td>65856.17 .. 0.0</td><td>0.035672475</td><td>57401.34228366658</td><td>57401.34228366658</td><td>G2</td><td>662940026184979968</td><td>10.690126</td><td>-19.471277</td><td>0.3134037</td><td>31.72703</td><td>80.843636</td><td>88.39827</td><td>2015.5</td><td>17.17484</td><td>1553.5336</td><td>443</td><td>17.466879</td><td>149.08214</td><td>46</td><td>16.678963</td><td>224.89554</td><td>47</td><td>False</td><td>0.0</td><td>2.1393304e-15</td><td>360</td><td>358</td><td>2.5551019</td><td>False</td><td>--</td><td>--</td><td>1.2328904</td><td>0.17791544</td><td>31</td><td>100.13069</td><td>0.0</td><td>0.0</td><td>48.818428</td><td>20.641356</td><td>109.6013</td><td>-85.56721</td><td>6.5691986</td><td>0.0</td><td>0.0</td><td>2.0630496</td><td>0.545474</td><td>0.0006465352</td><td>9.675535e-06</td><td>77.02589</td><td>0.0</td><td>0.0</td><td>77.02589</td><td>0.0</td><td>0.0</td><td>19.69184 .. 99.67311</td><td>0.0 .. 0.0</td><td>0.0 .. 0.0</td><td>-0.15983672 .. 0.13986513</td><td>0.0 .. 0.0</td><td>0.0 .. 0.0</td><td>-0.15983672 .. 0.49366954</td><td>0.0 .. 0.0</td><td>0.0 .. 0.0</td><td>137.84079 .. 5.6440287</td><td>0.0 .. 0.0</td><td>0.0 .. 0.0</td><td>0.0 .. 0.0</td><td>0.0 .. 0.0</td><td>0.0 .. 0.0</td><td>18.02914 .. 57.98277</td><td>6.852808 .. 23.900227</td><td>15.487119 .. 83.62513</td><td>-9.884871 .. -9.813756</td><td>-0.58023846 .. 6.0182166</td><td>-0.057603747 .. 0.7916869</td><td>-4.661674 .. 13.072653</td><td>-8.402337 .. -71.67448</td><td>8.794452 .. 0.8232161</td><td>2.891205 .. 0.23022638</td><td>0.0097852135 .. 0.000727857</td><td>0.0004811127 .. 3.6713336e-05</td><td>0.8997865</td><td>0.93133867</td><td>0.96099305</td><td>0.99397284</td><td>0.9962942</td><td>0.9992085</td><td>0.9997011</td><td>1</td><td>0</td><td>0</td><td>158</td><td>158</td><td>11</td><td>12</td><td>1.2923347</td><td>0.0</td><td>0.0</td><td>3.3796334</td><td>0.93569195</td><td>0.5185428</td><td>0.12832454</td><td>0.0</td><td>0.0</td><td>0.0</td><td>0.029429033</td><td>0.05389088</td><td>0.011941618</td><td>2.964419</td><td>0.0031016238</td><td>0.0</td><td>0.0</td><td>0.9994463</td><td>0.0</td><td>0.0</td><td>0</td><td>0</td><td>0</td><td>0</td><td>0</td><td>0</td><td>0</td><td>0</td><td>1.9226134</td><td>0.0</td><td>0.0</td><td>44.623478</td><td>0.0</td><td>0.0</td><td>33.004868</td><td>0.0</td><td>0.0</td><td>8.3666525</td><td>0.0</td><td>0.0</td><td>8.366785</td><td>0.0</td><td>0.0</td><td>3.249887</td><td>0.61392987</td><td>0.00058651547</td><td>8.69738e-06</td><td>1280p196</td><td>100.70013</td><td>314.907</td><td>51.15622 .. 0.0</td><td>18.993357 .. 0.0</td><td>0.24022752 .. 0.0</td><td>0.06412379 .. 0.0</td><td>12 .. 0</td><td>12 .. 0</td><td>0.03007279 .. 0.0</td><td>0.06191028 .. 0.0</td><td>0.8919052 .. 0.0</td><td>0.7273687 .. 0.0</td><td>55306.965254220006 .. 0.0</td><td>55306.965190555 .. 0.0</td><td>0 .. -1</td><td>0 .. -1</td><td>0.0</td><td>0.0</td><td>0.0</td><td>0.0</td><td>0.0</td><td>0.0</td><td>0.0</td><td>0.0</td><td>58056</td><td>9567</td><td>802</td><td>v5_13_0</td><td>eboss</td><td>-0.000311542</td></tr>\n",
       "<tr><td>9011</td><td>441167</td><td>1274p195</td><td>28</td><td>True</td><td>0</td><td>128</td><td>PSF</td><td>127.33832139426758</td><td>19.590786690133577</td><td>74160605000000.0</td><td>239910670000000.0</td><td>3321.3352</td><td>3047.4753</td><td>3759.289 .. 0.0</td><td>0.038126253</td><td>57401.34228366658</td><td>57401.34228366658</td><td>G2</td><td>662981631531261056</td><td>0.88513964</td><td>-0.18950935</td><td>-0.58921653</td><td>1.3998481</td><td>3.772793</td><td>2.9062803</td><td>2015.5</td><td>19.595915</td><td>322.1108</td><td>399</td><td>19.665495</td><td>27.439594</td><td>43</td><td>19.174486</td><td>25.730717</td><td>42</td><td>False</td><td>0.6300341</td><td>0.68121964</td><td>345</td><td>343</td><td>0.12883334</td><td>False</td><td>--</td><td>--</td><td>1.3157134</td><td>0.8587077</td><td>31</td><td>12.659626</td><td>0.0</td><td>0.0</td><td>28.94639</td><td>53.74601</td><td>159.36343</td><td>142.9173</td><td>23.46348</td><td>0.0</td><td>0.0</td><td>2.2024584</td><td>0.47088814</td><td>0.0005285034</td><td>7.925162e-06</td><td>9.8384495</td><td>0.0</td><td>0.0</td><td>9.8384495</td><td>0.0</td><td>0.0</td><td>2.4553106 .. 14.760847</td><td>0.0 .. 0.0</td><td>0.0 .. 0.0</td><td>-0.076093465 .. 1.713382</td><td>0.0 .. 0.0</td><td>0.0 .. 0.0</td><td>-0.07608991 .. 2.004875</td><td>0.0 .. 0.0</td><td>0.0 .. 0.0</td><td>615.98206 .. 6.45485</td><td>0.0 .. 0.0</td><td>0.0 .. 0.0</td><td>0.0 .. 0.0</td><td>0.0 .. 0.0</td><td>0.0 .. 0.0</td><td>11.938171 .. 54.28159</td><td>18.893612 .. 59.526966</td><td>36.575096 .. 118.85943</td><td>34.240616 .. 193.75641</td><td>-0.036660343 .. 3.0472417</td><td>0.011004308 .. -1.5518334</td><td>4.0977345 .. -15.3372</td><td>11.890093 .. -62.94842</td><td>9.58899 .. 0.79757744</td><td>2.49645 .. 0.21358696</td><td>0.008012482 .. 0.0005946545</td><td>0.00040108766 .. 2.9832965e-05</td><td>0.8932744</td><td>0.92679286</td><td>0.9583665</td><td>0.99355954</td><td>0.9960398</td><td>0.9991541</td><td>0.9996805</td><td>1</td><td>0</td><td>0</td><td>152</td><td>152</td><td>9</td><td>10</td><td>1.1242144</td><td>0.0</td><td>0.0</td><td>1.1893626</td><td>0.4993929</td><td>0.8589539</td><td>0.15596078</td><td>0.0</td><td>0.0</td><td>0.0</td><td>0.14715119</td><td>0.061778307</td><td>0.15145059</td><td>3.039851</td><td>0.010189637</td><td>0.0</td><td>0.0</td><td>0.9938464</td><td>0.0</td><td>0.0</td><td>0</td><td>0</td><td>0</td><td>0</td><td>0</td><td>0</td><td>0</td><td>0</td><td>1.9226134</td><td>0.0</td><td>0.0</td><td>44.623478</td><td>0.0</td><td>0.0</td><td>33.004868</td><td>0.0</td><td>0.0</td><td>8.26587</td><td>0.0</td><td>0.0</td><td>8.266353</td><td>0.0</td><td>0.0</td><td>3.249887</td><td>0.61392987</td><td>0.00058651547</td><td>8.69738e-06</td><td>1280p196</td><td>315.8921</td><td>291.11716</td><td>25.618492 .. 0.0</td><td>54.61729 .. 0.0</td><td>0.21244492 .. 0.0</td><td>0.052174777 .. 0.0</td><td>10 .. 0</td><td>10 .. 0</td><td>0.13605429 .. 0.0</td><td>0.060028087 .. 0.0</td><td>1.0433419 .. 0.0</td><td>0.7495257 .. 0.0</td><td>55306.965254220006 .. 0.0</td><td>55306.965190555 .. 0.0</td><td>0 .. -1</td><td>0 .. -1</td><td>0.0</td><td>0.0</td><td>0.0</td><td>0.0</td><td>0.0</td><td>0.0</td><td>0.0</td><td>0.0</td><td>58056</td><td>9567</td><td>804</td><td>v5_13_0</td><td>eboss</td><td>1.773515</td></tr>\n",
       "<tr><td>9011</td><td>442527</td><td>1276p197</td><td>48</td><td>True</td><td>0</td><td>0</td><td>PSF</td><td>127.53054809372765</td><td>19.756121335753296</td><td>448947620.0</td><td>441000480.0</td><td>3261.3704</td><td>1884.0974</td><td>33.14444 .. 0.0</td><td>0.036773987</td><td>57401.34228366658</td><td>57401.34228366658</td><td></td><td>0</td><td>0.0</td><td>0.0</td><td>0.0</td><td>0.0</td><td>0.0</td><td>0.0</td><td>0.0</td><td>0.0</td><td>0.0</td><td>0</td><td>0.0</td><td>0.0</td><td>0</td><td>0.0</td><td>0.0</td><td>0</td><td>False</td><td>0.0</td><td>0.0</td><td>0</td><td>0</td><td>0.0</td><td>False</td><td>0.0</td><td>0.0</td><td>0.0</td><td>0.0</td><td>0</td><td>0.9206321</td><td>0.0</td><td>0.0</td><td>11.180967</td><td>4.6210604</td><td>96.39114</td><td>350.76312</td><td>41.153427</td><td>0.0</td><td>0.0</td><td>2.3750403</td><td>0.55752015</td><td>0.0006461631</td><td>8.692961e-06</td><td>0.7163829</td><td>0.0</td><td>0.0</td><td>0.7163829</td><td>0.0</td><td>0.0</td><td>0.1958299 .. 1.376289</td><td>0.0 .. 0.0</td><td>0.0 .. 0.0</td><td>0.016574891 .. -0.49476767</td><td>0.0 .. 0.0</td><td>0.0 .. 0.0</td><td>0.016569668 .. -0.23137781</td><td>0.0 .. 0.0</td><td>0.0 .. 0.0</td><td>1356.191 .. 7.1919847</td><td>0.0 .. 0.0</td><td>0.0 .. 0.0</td><td>0.0 .. 0.0</td><td>0.0 .. 0.0</td><td>0.0 .. 0.0</td><td>6.0534863 .. 133.27373</td><td>2.9833312 .. 73.34853</td><td>19.368597 .. 56.503796</td><td>-20.450964 .. 279.05847</td><td>-0.2738173 .. 7.712935</td><td>-0.15539488 .. 4.114095</td><td>0.73107105 .. -19.29158</td><td>-44.83806 .. 112.16742</td><td>10.234593 .. 0.7045865</td><td>2.9758427 .. 0.21395959</td><td>0.009778351 .. 0.00072487595</td><td>0.0004408116 .. 3.2731747e-05</td><td>0.8968573</td><td>0.92929524</td><td>0.9598131</td><td>0.9937873</td><td>0.99618</td><td>0.9991841</td><td>0.99969184</td><td>1</td><td>0</td><td>0</td><td>151</td><td>153</td><td>11</td><td>11</td><td>0.7592125</td><td>0.0</td><td>0.0</td><td>4.393284</td><td>1.3166063</td><td>0.5539875</td><td>0.13092127</td><td>0.0</td><td>0.0</td><td>0.0</td><td>1.7106057</td><td>3.3843782</td><td>0.15912215</td><td>0.28489983</td><td>0.14371242</td><td>0.0</td><td>0.0</td><td>0.94510025</td><td>0.0</td><td>0.0</td><td>0</td><td>0</td><td>0</td><td>0</td><td>0</td><td>0</td><td>0</td><td>0</td><td>1.95081</td><td>0.0</td><td>0.0</td><td>43.34285</td><td>0.0</td><td>0.0</td><td>32.30107</td><td>0.0</td><td>0.0</td><td>8.533919</td><td>0.0</td><td>0.0</td><td>8.669797</td><td>0.0</td><td>0.0</td><td>3.236685</td><td>0.6121871</td><td>0.0005864023</td><td>7.9046395e-06</td><td>1280p196</td><td>311.19955</td><td>179.77596</td><td>10.278502 .. 0.0</td><td>11.060547 .. 0.0</td><td>0.23568544 .. 0.0</td><td>0.059122805 .. 0.0</td><td>11 .. 0</td><td>11 .. 0</td><td>1.9611125 .. 0.0</td><td>1.5687622 .. 0.0</td><td>1.5868471 .. 0.0</td><td>1.0804474 .. 0.0</td><td>55306.965254220006 .. 0.0</td><td>55306.965190555 .. 0.0</td><td>0 .. -1</td><td>0 .. -1</td><td>0.0</td><td>0.0</td><td>0.0</td><td>0.0</td><td>0.0</td><td>0.0</td><td>0.0</td><td>0.0</td><td>58056</td><td>9567</td><td>821</td><td>v5_13_0</td><td>eboss</td><td>0.8487674</td></tr>\n",
       "<tr><td>9011</td><td>443884</td><td>1275p200</td><td>153</td><td>True</td><td>0</td><td>0</td><td>PSF</td><td>127.49894749545085</td><td>20.09089734721588</td><td>391125820.0</td><td>382505920.0</td><td>2669.5657</td><td>3048.6482</td><td>35.31861 .. 0.0</td><td>0.034257006</td><td>57401.34228366658</td><td>57401.34228366658</td><td></td><td>0</td><td>0.0</td><td>0.0</td><td>0.0</td><td>0.0</td><td>0.0</td><td>0.0</td><td>0.0</td><td>0.0</td><td>0.0</td><td>0</td><td>0.0</td><td>0.0</td><td>0</td><td>0.0</td><td>0.0</td><td>0</td><td>False</td><td>0.0</td><td>0.0</td><td>0</td><td>0</td><td>0.0</td><td>False</td><td>0.0</td><td>0.0</td><td>0.0</td><td>0.0</td><td>0</td><td>0.94182885</td><td>0.0</td><td>0.0</td><td>28.236275</td><td>18.314638</td><td>61.78199</td><td>582.6404</td><td>40.63215</td><td>0.0</td><td>0.0</td><td>2.2997942</td><td>0.5530945</td><td>0.0006471233</td><td>9.22335e-06</td><td>0.73199505</td><td>0.0</td><td>0.0</td><td>0.73199505</td><td>0.0</td><td>0.0</td><td>0.21385996 .. 1.1324149</td><td>0.0 .. 0.0</td><td>0.0 .. 0.0</td><td>0.053155553 .. 0.19198617</td><td>0.0 .. 0.0</td><td>0.0 .. 0.0</td><td>0.053155128 .. 0.31952092</td><td>0.0 .. 0.0</td><td>0.0 .. 0.0</td><td>1493.985 .. 8.075748</td><td>0.0 .. 0.0</td><td>0.0 .. 0.0</td><td>0.0 .. 0.0</td><td>0.0 .. 0.0</td><td>0.0 .. 0.0</td><td>10.119148 .. 33.088303</td><td>5.85669 .. 19.759943</td><td>13.678822 .. 52.457005</td><td>30.485735 .. 322.7199</td><td>-1.0727029 .. 7.3182645</td><td>-0.4574045 .. 3.4786835</td><td>1.6641405 .. 9.767947</td><td>-10.009162 .. 59.29721</td><td>10.101802 .. 0.8427146</td><td>2.9549742 .. 0.228929</td><td>0.009792077 .. 0.0007216945</td><td>0.00046813843 .. 3.4372963e-05</td><td>0.9035646</td><td>0.9339711</td><td>0.9625115</td><td>0.99421126</td><td>0.996441</td><td>0.99923986</td><td>0.99971294</td><td>1</td><td>0</td><td>0</td><td>154</td><td>157</td><td>11</td><td>12</td><td>0.94853</td><td>0.0</td><td>0.0</td><td>15.467001</td><td>1.3899238</td><td>0.49968654</td><td>0.09811979</td><td>0.0</td><td>0.0</td><td>0.0</td><td>0.008056834</td><td>0.0068504023</td><td>0.06259634</td><td>0.16284518</td><td>0.08879455</td><td>0.0</td><td>0.0</td><td>0.9468879</td><td>0.0</td><td>0.0</td><td>0</td><td>0</td><td>0</td><td>0</td><td>0</td><td>0</td><td>0</td><td>0</td><td>2.067296</td><td>0.0</td><td>0.0</td><td>40.130444</td><td>0.0</td><td>0.0</td><td>30.911901</td><td>0.0</td><td>0.0</td><td>9.757532</td><td>0.0</td><td>0.0</td><td>9.826498</td><td>0.0</td><td>0.0</td><td>3.2176516</td><td>0.6054307</td><td>0.00058719417</td><td>8.69169e-06</td><td>1280p196</td><td>253.84314</td><td>291.1613</td><td>27.948622 .. 0.0</td><td>21.675674 .. 0.0</td><td>0.2351227 .. 0.0</td><td>0.063784376 .. 0.0</td><td>11 .. 0</td><td>12 .. 0</td><td>0.009610397 .. 0.0</td><td>0.0055523617 .. 0.0</td><td>1.1614971 .. 0.0</td><td>0.5454838 .. 0.0</td><td>55306.965254220006 .. 0.0</td><td>55306.965190555 .. 0.0</td><td>0 .. -1</td><td>0 .. -1</td><td>0.0</td><td>0.0</td><td>0.0</td><td>0.0</td><td>0.0</td><td>0.0</td><td>0.0</td><td>0.0</td><td>58056</td><td>9567</td><td>828</td><td>v5_13_0</td><td>eboss</td><td>1.6101562</td></tr>\n",
       "<tr><td>9011</td><td>443884</td><td>1275p200</td><td>483</td><td>True</td><td>0</td><td>0</td><td>REX</td><td>127.6342724250516</td><td>19.8786157248611</td><td>259307230.0</td><td>250391140.0</td><td>922.10236</td><td>131.79875</td><td>34.67321 .. 0.0</td><td>0.034223583</td><td>57401.34228366658</td><td>57401.34228366658</td><td></td><td>0</td><td>0.0</td><td>0.0</td><td>0.0</td><td>0.0</td><td>0.0</td><td>0.0</td><td>0.0</td><td>0.0</td><td>0.0</td><td>0</td><td>0.0</td><td>0.0</td><td>0</td><td>0.0</td><td>0.0</td><td>0</td><td>False</td><td>0.0</td><td>0.0</td><td>0</td><td>0</td><td>0.0</td><td>False</td><td>0.0</td><td>0.0</td><td>0.0</td><td>0.0</td><td>0</td><td>1.2602829</td><td>0.0</td><td>0.0</td><td>18.397552</td><td>11.186863</td><td>107.22471</td><td>464.0814</td><td>24.502422</td><td>0.0</td><td>0.0</td><td>2.2792978</td><td>0.52531403</td><td>0.0004526017</td><td>6.1844917e-06</td><td>0.5307486</td><td>0.0</td><td>0.0</td><td>0.5307486</td><td>0.0</td><td>0.0</td><td>0.12715006 .. 0.9084684</td><td>0.0 .. 0.0</td><td>0.0 .. 0.0</td><td>-0.017502695 .. -0.34246698</td><td>0.0 .. 0.0</td><td>0.0 .. 0.0</td><td>-0.01750217 .. -0.104083136</td><td>0.0 .. 0.0</td><td>0.0 .. 0.0</td><td>1379.966 .. 7.3804355</td><td>0.0 .. 0.0</td><td>0.0 .. 0.0</td><td>0.0 .. 0.0</td><td>0.0 .. 0.0</td><td>0.0 .. 0.0</td><td>6.0008187 .. 23.33369</td><td>2.8060386 .. 15.851529</td><td>7.0237045 .. 128.41902</td><td>8.155887 .. 251.94142</td><td>-0.65907294 .. 5.8946934</td><td>-0.7424354 .. 5.426183</td><td>-12.329013 .. 46.50586</td><td>-20.65832 .. 74.33841</td><td>10.2455 .. 0.82876116</td><td>2.9320424 .. 0.22107312</td><td>0.007114959 .. 0.00052921183</td><td>0.00032071766 .. 2.3653583e-05</td><td>0.903654</td><td>0.93403333</td><td>0.96254736</td><td>0.9942169</td><td>0.99644446</td><td>0.99924064</td><td>0.9997132</td><td>1</td><td>0</td><td>0</td><td>150</td><td>151</td><td>8</td><td>8</td><td>0.9055989</td><td>0.0</td><td>0.0</td><td>8.707015</td><td>1.848776</td><td>0.78474045</td><td>0.1396152</td><td>0.0</td><td>0.0</td><td>0.0</td><td>0.017538283</td><td>0.020992722</td><td>0.112064734</td><td>0.1598505</td><td>0.12724367</td><td>0.0</td><td>0.0</td><td>0.92401445</td><td>0.0</td><td>0.0</td><td>0</td><td>0</td><td>0</td><td>0</td><td>0</td><td>0</td><td>0</td><td>0</td><td>1.9749296</td><td>0.0</td><td>0.0</td><td>42.290638</td><td>0.0</td><td>0.0</td><td>31.733747</td><td>0.0</td><td>0.0</td><td>14.73481</td><td>0.0</td><td>0.0</td><td>15.08387</td><td>0.0</td><td>0.0</td><td>3.2176516</td><td>0.6054307</td><td>0.00058719417</td><td>8.69169e-06</td><td>1280p196</td><td>88.056435</td><td>12.820626</td><td>14.880284 .. 0.0</td><td>2.1959765 .. 0.0</td><td>0.16251393 .. 0.0</td><td>0.037461452 .. 0.0</td><td>8 .. 0</td><td>8 .. 0</td><td>0.019684317 .. 0.0</td><td>0.06564697 .. 0.0</td><td>1.2229813 .. 0.0</td><td>0.69238055 .. 0.0</td><td>55306.965254220006 .. 0.0</td><td>55306.965190555 .. 0.0</td><td>0 .. -1</td><td>0 .. -1</td><td>1.0</td><td>0.0</td><td>0.65676194</td><td>20.04013</td><td>0.0</td><td>0.0</td><td>0.0</td><td>0.0</td><td>58056</td><td>9567</td><td>829</td><td>v5_13_0</td><td>eboss</td><td>0.8226398</td></tr>\n",
       "<tr><td>9011</td><td>442527</td><td>1276p197</td><td>231</td><td>True</td><td>0</td><td>128</td><td>PSF</td><td>127.60792889687801</td><td>19.783576666197423</td><td>50642127000000.0</td><td>141108210000000.0</td><td>2260.6248</td><td>2260.9075</td><td>160.83762 .. 0.0</td><td>0.0357183</td><td>57401.34228366658</td><td>57401.34228366658</td><td>G2</td><td>662990839941484160</td><td>-2.753571</td><td>-5.8816895</td><td>1.6238885</td><td>1.0191859</td><td>1.9644654</td><td>3.0263634</td><td>2015.5</td><td>19.991093</td><td>259.01358</td><td>430</td><td>20.731186</td><td>8.69496</td><td>39</td><td>18.93263</td><td>35.793705</td><td>43</td><td>False</td><td>0.7834376</td><td>0.6560805</td><td>371</td><td>368</td><td>0.07574841</td><td>False</td><td>--</td><td>--</td><td>1.5001208</td><td>0.9208335</td><td>31</td><td>2.02927</td><td>0.0</td><td>0.0</td><td>35.51749</td><td>23.476421</td><td>23.692726</td><td>-21.796825</td><td>39.13603</td><td>0.0</td><td>0.0</td><td>2.1790884</td><td>0.5520511</td><td>0.0004717241</td><td>6.3070693e-06</td><td>1.5773604</td><td>0.0</td><td>0.0</td><td>1.5815127</td><td>0.0</td><td>0.0</td><td>0.39430785 .. 9.280294</td><td>0.0 .. 0.0</td><td>0.0 .. 0.0</td><td>0.0024316625 .. 0.2561192</td><td>0.0 .. 0.0</td><td>0.0 .. 0.0</td><td>0.0024316625 .. 0.52688</td><td>0.0 .. 0.0</td><td>0.0 .. 0.0</td><td>1237.498 .. 7.2150874</td><td>0.0 .. 0.0</td><td>0.0 .. 0.0</td><td>0.0 .. 0.0</td><td>0.0 .. 0.0</td><td>0.0 .. 0.0</td><td>14.719193 .. 48.256523</td><td>8.243336 .. 32.118893</td><td>-1.0814284 .. -26.59568</td><td>30.180975 .. -165.85542</td><td>-0.1488635 .. 0.025547244</td><td>-0.35946083 .. 1.6013827</td><td>-3.129209 .. 0.19376034</td><td>35.102264 .. -124.648735</td><td>9.118392 .. 0.8347742</td><td>2.9079 .. 0.23099306</td><td>0.007114959 .. 0.00052921183</td><td>0.00032072578 .. 2.3661363e-05</td><td>0.89966446</td><td>0.93125355</td><td>0.96094394</td><td>0.9939651</td><td>0.99628943</td><td>0.9992075</td><td>0.99970067</td><td>1</td><td>0</td><td>0</td><td>157</td><td>158</td><td>8</td><td>8</td><td>0.70131636</td><td>0.0</td><td>0.0</td><td>1.5068585</td><td>0.37949985</td><td>0.5483726</td><td>0.18419349</td><td>0.03162079</td><td>0.0</td><td>0.0</td><td>0.13039091</td><td>0.14466655</td><td>1.3585746</td><td>6.5931716</td><td>0.017775446</td><td>0.0</td><td>0.0</td><td>0.98819745</td><td>0.0</td><td>0.0</td><td>0</td><td>0</td><td>0</td><td>0</td><td>0</td><td>0</td><td>0</td><td>0</td><td>1.95081</td><td>0.0</td><td>0.0</td><td>43.34285</td><td>0.0</td><td>0.0</td><td>32.30107</td><td>0.0</td><td>0.0</td><td>8.686705</td><td>0.0</td><td>0.0</td><td>8.688766</td><td>0.0</td><td>0.0</td><td>3.236685</td><td>0.6121871</td><td>0.0005864023</td><td>7.9046395e-06</td><td>1280p196</td><td>215.77603</td><td>215.47578</td><td>35.939697 .. 0.0</td><td>18.10993 .. 0.0</td><td>0.17154267 .. 0.0</td><td>0.042230044 .. 0.0</td><td>8 .. 0</td><td>8 .. 0</td><td>0.13458978 .. 0.0</td><td>0.11990943 .. 0.0</td><td>1.3549852 .. 0.0</td><td>0.46872807 .. 0.0</td><td>55306.965254220006 .. 0.0</td><td>55306.965190555 .. 0.0</td><td>0 .. -1</td><td>0 .. -1</td><td>0.0</td><td>0.0</td><td>0.0</td><td>0.0</td><td>0.0</td><td>0.0</td><td>0.0</td><td>0.0</td><td>58056</td><td>9567</td><td>839</td><td>v5_13_0</td><td>eboss</td><td>0.00015060941</td></tr>\n",
       "<tr><td>9011</td><td>446590</td><td>1270p205</td><td>62</td><td>True</td><td>0</td><td>4</td><td>REX</td><td>127.02564442528836</td><td>20.43204769118501</td><td>45596796.0</td><td>31457444.0</td><td>2327.703</td><td>865.86975</td><td>85.12311 .. 0.0</td><td>0.03287062</td><td>57401.34228366658</td><td>57401.34228366658</td><td></td><td>0</td><td>0.0</td><td>0.0</td><td>0.0</td><td>0.0</td><td>0.0</td><td>0.0</td><td>0.0</td><td>0.0</td><td>0.0</td><td>0</td><td>0.0</td><td>0.0</td><td>0</td><td>0.0</td><td>0.0</td><td>0</td><td>False</td><td>0.0</td><td>0.0</td><td>0</td><td>0</td><td>0.0</td><td>False</td><td>0.0</td><td>0.0</td><td>0.0</td><td>0.0</td><td>0</td><td>28.647785</td><td>0.0</td><td>0.0</td><td>24.3799</td><td>7.1152396</td><td>-121.04625</td><td>666.3752</td><td>0.19136405</td><td>0.0</td><td>0.0</td><td>0.448541</td><td>0.11340618</td><td>0.00016981909</td><td>4.0127834e-06</td><td>0.3639128</td><td>0.0</td><td>0.0</td><td>0.36840555</td><td>0.0</td><td>0.0</td><td>0.3161455 .. 17.042244</td><td>0.0 .. 0.0</td><td>0.0 .. 0.0</td><td>0.16815346 .. 6.1725745</td><td>0.0 .. 0.0</td><td>0.0 .. 0.0</td><td>0.16815346 .. 7.4671364</td><td>0.0 .. 0.0</td><td>0.0 .. 0.0</td><td>532.60406 .. 3.8664062</td><td>0.0 .. 0.0</td><td>0.0 .. 0.0</td><td>0.0 .. 0.2756031</td><td>0.0 .. 0.0</td><td>0.0 .. 0.0</td><td>2.1066227 .. 16.36097</td><td>0.5387143 .. 4.5320477</td><td>12.628428 .. -61.4884</td><td>-36.835487 .. -117.90366</td><td>-0.41220573 .. -3.0000129</td><td>-0.22865523 .. -2.7486436</td><td>19.665113 .. -6.4313836</td><td>-46.103558 .. -118.89574</td><td>11.458 .. 0.86096555</td><td>3.1750157 .. 0.23474084</td><td>0.008892842 .. 0.00065625145</td><td>0.00040147235 .. 2.9025146e-05</td><td>0.9072804</td><td>0.93655664</td><td>0.964001</td><td>0.9944449</td><td>0.9965848</td><td>0.9992706</td><td>0.9997245</td><td>1</td><td>0</td><td>0</td><td>157</td><td>155</td><td>10</td><td>10</td><td>1.4690382</td><td>0.0</td><td>0.0</td><td>6.994305</td><td>1.3090855</td><td>0.5836942</td><td>0.15895233</td><td>0.16148075</td><td>0.0</td><td>0.0</td><td>44.07216</td><td>81.995636</td><td>2.0284395</td><td>2.9227438</td><td>0.31711352</td><td>0.0</td><td>0.0</td><td>0.6449105</td><td>0.0</td><td>0.0</td><td>0</td><td>0</td><td>0</td><td>0</td><td>0</td><td>0</td><td>0</td><td>0</td><td>1.9748971</td><td>0.0</td><td>0.0</td><td>33.67806</td><td>0.0</td><td>0.0</td><td>25.303364</td><td>0.0</td><td>0.0</td><td>272.79218</td><td>0.0</td><td>0.0</td><td>752.32104</td><td>0.0</td><td>0.0</td><td>3.264291</td><td>0.6248948</td><td>0.0006442305</td><td>8.701423e-06</td><td>1264p196</td><td>222.21704</td><td>83.35301</td><td>24.085361 .. 0.0</td><td>-5.025503 .. 0.0</td><td>0.03584653 .. 0.0</td><td>0.010479982 .. 0.0</td><td>10 .. 0</td><td>10 .. 0</td><td>44.107037 .. 0.0</td><td>116.44751 .. 0.0</td><td>1.1923863 .. 0.0</td><td>0.7559114 .. 0.0</td><td>55304.385129015005 .. 0.0</td><td>55304.385129015005 .. 0.0</td><td>0 .. -1</td><td>0 .. -1</td><td>1.0</td><td>0.0</td><td>7.336</td><td>4.8566957</td><td>0.0</td><td>0.0</td><td>0.0</td><td>0.0</td><td>58084</td><td>9595</td><td>284</td><td>v5_13_0</td><td>eboss</td><td>0.58731335</td></tr>\n",
       "<tr><td>9011</td><td>446589</td><td>1268p205</td><td>20</td><td>True</td><td>0</td><td>4224</td><td>PSF</td><td>126.70989051185535</td><td>20.425596102756234</td><td>1698400700000000.0</td><td>4195068000000000.0</td><td>2959.8005</td><td>777.47424</td><td>72019.56 .. 0.0</td><td>0.032943044</td><td>57401.34228366658</td><td>57401.34228366658</td><td>G2</td><td>663837502551177344</td><td>-2.5263996</td><td>-0.7320407</td><td>0.35394865</td><td>30.614061</td><td>74.62662</td><td>68.40274</td><td>2015.5</td><td>17.085314</td><td>1259.9922</td><td>291</td><td>17.353521</td><td>149.24335</td><td>33</td><td>16.637157</td><td>184.88402</td><td>32</td><td>False</td><td>0.16938484</td><td>0.80639243</td><td>256</td><td>254</td><td>2.5096035</td><td>False</td><td>--</td><td>--</td><td>1.2163993</td><td>0.18178988</td><td>31</td><td>115.984856</td><td>0.0</td><td>0.0</td><td>42.73512</td><td>23.911505</td><td>28.546944</td><td>-60.90518</td><td>5.3540816</td><td>0.0</td><td>0.0</td><td>2.1141894</td><td>0.53044856</td><td>0.00061271095</td><td>8.601167e-06</td><td>90.15935</td><td>0.0</td><td>0.0</td><td>90.15935</td><td>0.0</td><td>0.0</td><td>22.600143 .. 115.18637</td><td>0.0 .. 0.0</td><td>0.0 .. 0.0</td><td>-0.30724898 .. 1.0547906</td><td>0.0 .. 0.0</td><td>0.0 .. 0.0</td><td>-0.30724898 .. 1.3321489</td><td>0.0 .. 0.0</td><td>0.0 .. 0.0</td><td>108.3212 .. 4.688692</td><td>0.0 .. 0.0</td><td>0.0 .. 0.0</td><td>0.0 .. 0.0</td><td>0.0 .. 0.0</td><td>0.0 .. 0.0</td><td>15.016115 .. 44.95767</td><td>7.252915 .. 24.397482</td><td>-4.617866 .. 53.964638</td><td>23.827663 .. -70.362335</td><td>-0.4848698 .. 6.218719</td><td>-0.34823912 .. 3.1549463</td><td>-9.716958 .. 34.76467</td><td>26.97254 .. -63.60172</td><td>9.243158 .. 0.8275872</td><td>2.8145504 .. 0.22142193</td><td>0.009366166 .. 0.0006824501</td><td>0.00044148488 .. 3.246959e-05</td><td>0.9070859</td><td>0.9364214</td><td>0.9639231</td><td>0.9944327</td><td>0.99657726</td><td>0.999269</td><td>0.9997239</td><td>1</td><td>0</td><td>0</td><td>156</td><td>150</td><td>11</td><td>11</td><td>1.5517516</td><td>0.0</td><td>0.0</td><td>2.9953907</td><td>1.2751281</td><td>0.6879642</td><td>0.18969731</td><td>0.0</td><td>0.0</td><td>0.0</td><td>0.0060081547</td><td>0.0075381044</td><td>0.052625183</td><td>46.07748</td><td>0.0020819718</td><td>0.0</td><td>0.0</td><td>0.99938935</td><td>0.0</td><td>0.0</td><td>0</td><td>0</td><td>0</td><td>0</td><td>0</td><td>0</td><td>0</td><td>0</td><td>1.9289083</td><td>0.0</td><td>0.0</td><td>35.3031</td><td>0.0</td><td>0.0</td><td>26.151203</td><td>0.0</td><td>0.0</td><td>8.36948</td><td>0.0</td><td>0.0</td><td>8.369611</td><td>0.0</td><td>0.0</td><td>3.2259324</td><td>0.5979846</td><td>0.000586209</td><td>8.705216e-06</td><td>1264p196</td><td>282.6018</td><td>73.80218</td><td>41.226044 .. 0.0</td><td>22.00659 .. 0.0</td><td>0.21341355 .. 0.0</td><td>0.056078553 .. 0.0</td><td>10 .. 0</td><td>10 .. 0</td><td>0.0061581987 .. 0.0</td><td>0.008716657 .. 0.0</td><td>0.94340754 .. 0.0</td><td>1.1476187 .. 0.0</td><td>55304.385129015005 .. 0.0</td><td>55304.385129015005 .. 0.0</td><td>0 .. -1</td><td>0 .. -1</td><td>0.0</td><td>0.0</td><td>0.0</td><td>0.0</td><td>0.0</td><td>0.0</td><td>0.0</td><td>0.0</td><td>58084</td><td>9595</td><td>322</td><td>v5_13_0</td><td>eboss</td><td>-2.221137e-05</td></tr>\n",
       "</table></div>"
      ],
      "text/plain": [
       "<Table length=2156870>\n",
       "RELEASE BRICKID BRICKNAME OBJID ... FIBERID  RUN2D  SURVEY       Z       \n",
       "                                ...                                      \n",
       " int16   int32    bytes8  int32 ...  int32   bytes7 bytes6    float32    \n",
       "------- ------- --------- ----- ... ------- ------- ------ --------------\n",
       "   9011  330955  1468p000   679 ...      23      26   sdss     0.32764107\n",
       "   9011  329516  1471m002    46 ...      24      26   sdss     0.21564895\n",
       "   9011  330955  1468p000   599 ...      25      26   sdss     0.24227172\n",
       "   9011  330956  1471p000   383 ...      29      26   sdss   0.0006029028\n",
       "   9011  330957  1473p000   233 ...      31      26   sdss -3.6914502e-05\n",
       "   9011  330955  1468p000   760 ...      32      26   sdss  0.00021823542\n",
       "   9011  330957  1473p000   262 ...      33      26   sdss    0.048096348\n",
       "   9011  329516  1471m002    34 ...      34      26   sdss -3.0322793e-05\n",
       "   9011  330956  1471p000  1018 ...      35      26   sdss     0.08410355\n",
       "    ...     ...       ...   ... ...     ...     ...    ...            ...\n",
       "   9011  443883  1273p200   458 ...     785 v5_13_0  eboss      0.9079795\n",
       "   9011  442526  1273p197   327 ...     800 v5_13_0  eboss       2.164307\n",
       "   9011  441167  1274p195   422 ...     802 v5_13_0  eboss   -0.000311542\n",
       "   9011  441167  1274p195    28 ...     804 v5_13_0  eboss       1.773515\n",
       "   9011  442527  1276p197    48 ...     821 v5_13_0  eboss      0.8487674\n",
       "   9011  443884  1275p200   153 ...     828 v5_13_0  eboss      1.6101562\n",
       "   9011  443884  1275p200   483 ...     829 v5_13_0  eboss      0.8226398\n",
       "   9011  442527  1276p197   231 ...     839 v5_13_0  eboss  0.00015060941\n",
       "   9011  446590  1270p205    62 ...     284 v5_13_0  eboss     0.58731335\n",
       "   9011  446589  1268p205    20 ...     322 v5_13_0  eboss  -2.221137e-05"
      ]
     },
     "execution_count": 5,
     "metadata": {},
     "output_type": "execute_result"
    }
   ],
   "source": [
    "bass    #2156870"
   ]
  },
  {
   "cell_type": "code",
   "execution_count": 8,
   "id": "aead3411-55f0-4e1f-8e45-140b95a8c495",
   "metadata": {
    "execution": {
     "iopub.execute_input": "2022-05-24T08:34:46.001867Z",
     "iopub.status.busy": "2022-05-24T08:34:46.001596Z",
     "iopub.status.idle": "2022-05-24T08:34:46.279728Z",
     "shell.execute_reply": "2022-05-24T08:34:46.278720Z",
     "shell.execute_reply.started": "2022-05-24T08:34:46.001850Z"
    },
    "tags": []
   },
   "outputs": [],
   "source": [
    "dec_cut = decals['RA','DEC','Z']\n",
    "bass_cut = bass['RA','DEC','Z']\n",
    "All = vstack((dec_cut,bass_cut))"
   ]
  },
  {
   "cell_type": "code",
   "execution_count": 9,
   "id": "b82de36b-ba36-484a-88ea-865ef6fe4a1b",
   "metadata": {
    "collapsed": true,
    "execution": {
     "iopub.execute_input": "2022-05-24T08:34:49.997712Z",
     "iopub.status.busy": "2022-05-24T08:34:49.997395Z",
     "iopub.status.idle": "2022-05-24T08:34:50.002535Z",
     "shell.execute_reply": "2022-05-24T08:34:50.002087Z",
     "shell.execute_reply.started": "2022-05-24T08:34:49.997691Z"
    },
    "jupyter": {
     "outputs_hidden": true
    },
    "tags": []
   },
   "outputs": [
    {
     "data": {
      "text/html": [
       "<div><i>Table length=5714945</i>\n",
       "<table id=\"table47885661264768\" class=\"table-striped table-bordered table-condensed\">\n",
       "<thead><tr><th>RA</th><th>DEC</th><th>Z</th></tr></thead>\n",
       "<thead><tr><th>deg</th><th>deg</th><th></th></tr></thead>\n",
       "<thead><tr><th>float64</th><th>float64</th><th>float32</th></tr></thead>\n",
       "<tr><td>146.7142089718074</td><td>-1.0412844545329816</td><td>0.021275453</td></tr>\n",
       "<tr><td>146.91943880835558</td><td>-0.9905002097615121</td><td>0.21392463</td></tr>\n",
       "<tr><td>146.90228169572464</td><td>-0.9849207185450679</td><td>0.65218145</td></tr>\n",
       "<tr><td>146.85983422140268</td><td>-0.8089103451601436</td><td>0.12655362</td></tr>\n",
       "<tr><td>146.7633686243738</td><td>-0.8104302420145392</td><td>0.44864488</td></tr>\n",
       "<tr><td>146.96394273613265</td><td>-0.5450604932677102</td><td>0.055987872</td></tr>\n",
       "<tr><td>146.6072250353195</td><td>-1.2407778869597124</td><td>0.09063296</td></tr>\n",
       "<tr><td>146.9386205486588</td><td>-0.6870093697327215</td><td>2.8305912</td></tr>\n",
       "<tr><td>146.72794472025365</td><td>-0.5568503065171991</td><td>0.08933747</td></tr>\n",
       "<tr><td>...</td><td>...</td><td>...</td></tr>\n",
       "<tr><td>127.38685853046326</td><td>19.888359316144577</td><td>0.9079795</td></tr>\n",
       "<tr><td>127.39937605671817</td><td>19.838746444885818</td><td>2.164307</td></tr>\n",
       "<tr><td>127.51273282893514</td><td>19.609511614931314</td><td>-0.000311542</td></tr>\n",
       "<tr><td>127.33832139426758</td><td>19.590786690133577</td><td>1.773515</td></tr>\n",
       "<tr><td>127.53054809372765</td><td>19.756121335753296</td><td>0.8487674</td></tr>\n",
       "<tr><td>127.49894749545085</td><td>20.09089734721588</td><td>1.6101562</td></tr>\n",
       "<tr><td>127.6342724250516</td><td>19.8786157248611</td><td>0.8226398</td></tr>\n",
       "<tr><td>127.60792889687801</td><td>19.783576666197423</td><td>0.00015060941</td></tr>\n",
       "<tr><td>127.02564442528836</td><td>20.43204769118501</td><td>0.58731335</td></tr>\n",
       "<tr><td>126.70989051185535</td><td>20.425596102756234</td><td>-2.221137e-05</td></tr>\n",
       "</table></div>"
      ],
      "text/plain": [
       "<Table length=5714945>\n",
       "        RA                 DEC               Z      \n",
       "       deg                 deg                      \n",
       "     float64             float64          float32   \n",
       "------------------ ------------------- -------------\n",
       " 146.7142089718074 -1.0412844545329816   0.021275453\n",
       "146.91943880835558 -0.9905002097615121    0.21392463\n",
       "146.90228169572464 -0.9849207185450679    0.65218145\n",
       "146.85983422140268 -0.8089103451601436    0.12655362\n",
       " 146.7633686243738 -0.8104302420145392    0.44864488\n",
       "146.96394273613265 -0.5450604932677102   0.055987872\n",
       " 146.6072250353195 -1.2407778869597124    0.09063296\n",
       " 146.9386205486588 -0.6870093697327215     2.8305912\n",
       "146.72794472025365 -0.5568503065171991    0.08933747\n",
       "               ...                 ...           ...\n",
       "127.38685853046326  19.888359316144577     0.9079795\n",
       "127.39937605671817  19.838746444885818      2.164307\n",
       "127.51273282893514  19.609511614931314  -0.000311542\n",
       "127.33832139426758  19.590786690133577      1.773515\n",
       "127.53054809372765  19.756121335753296     0.8487674\n",
       "127.49894749545085   20.09089734721588     1.6101562\n",
       " 127.6342724250516    19.8786157248611     0.8226398\n",
       "127.60792889687801  19.783576666197423 0.00015060941\n",
       "127.02564442528836   20.43204769118501    0.58731335\n",
       "126.70989051185535  20.425596102756234 -2.221137e-05"
      ]
     },
     "execution_count": 9,
     "metadata": {},
     "output_type": "execute_result"
    }
   ],
   "source": [
    "All"
   ]
  },
  {
   "cell_type": "markdown",
   "id": "00cafb46-8a8c-4b39-a503-ad346ba41b81",
   "metadata": {},
   "source": [
    "## redshift cut"
   ]
  },
  {
   "cell_type": "code",
   "execution_count": 14,
   "id": "8ba4b632-3e16-4d0c-a2f0-44d958adb25c",
   "metadata": {
    "execution": {
     "iopub.execute_input": "2022-05-24T08:37:21.000769Z",
     "iopub.status.busy": "2022-05-24T08:37:21.000440Z",
     "iopub.status.idle": "2022-05-24T08:37:21.070113Z",
     "shell.execute_reply": "2022-05-24T08:37:21.069488Z",
     "shell.execute_reply.started": "2022-05-24T08:37:21.000746Z"
    },
    "tags": []
   },
   "outputs": [],
   "source": [
    "index = ((All['Z']<=0.5)&(All['Z']>=0.2))\n",
    "zcut = All[index]   #995853"
   ]
  },
  {
   "cell_type": "code",
   "execution_count": 15,
   "id": "743f46d3-9933-4363-9705-29247f536bca",
   "metadata": {
    "collapsed": true,
    "execution": {
     "iopub.execute_input": "2022-05-24T08:37:23.089872Z",
     "iopub.status.busy": "2022-05-24T08:37:23.089617Z",
     "iopub.status.idle": "2022-05-24T08:37:24.423765Z",
     "shell.execute_reply": "2022-05-24T08:37:24.423315Z",
     "shell.execute_reply.started": "2022-05-24T08:37:23.089854Z"
    },
    "jupyter": {
     "outputs_hidden": true
    },
    "tags": []
   },
   "outputs": [
    {
     "data": {
      "text/html": [
       "<div><i>Table length=995853</i>\n",
       "<table id=\"table47885661262560\" class=\"table-striped table-bordered table-condensed\">\n",
       "<thead><tr><th>RA</th><th>DEC</th><th>Z</th></tr></thead>\n",
       "<thead><tr><th>deg</th><th>deg</th><th></th></tr></thead>\n",
       "<thead><tr><th>float64</th><th>float64</th><th>float32</th></tr></thead>\n",
       "<tr><td>146.91943880835558</td><td>-0.9905002097615121</td><td>0.21392463</td></tr>\n",
       "<tr><td>146.7633686243738</td><td>-0.8104302420145392</td><td>0.44864488</td></tr>\n",
       "<tr><td>146.74413804985173</td><td>-0.6522281270084387</td><td>0.2037688</td></tr>\n",
       "<tr><td>146.62279529417</td><td>-0.9513646568090304</td><td>0.37124884</td></tr>\n",
       "<tr><td>146.9240501998721</td><td>-0.10518423290794353</td><td>0.32764107</td></tr>\n",
       "<tr><td>147.02336560206018</td><td>-0.16014586262907335</td><td>0.21564895</td></tr>\n",
       "<tr><td>146.91080785877224</td><td>-0.07460542595771787</td><td>0.24227172</td></tr>\n",
       "<tr><td>147.11459216124067</td><td>-0.16522932689381256</td><td>0.20423692</td></tr>\n",
       "<tr><td>147.0896972156587</td><td>-0.26649303833152727</td><td>0.3834088</td></tr>\n",
       "<tr><td>...</td><td>...</td><td>...</td></tr>\n",
       "<tr><td>35.90373581867379</td><td>1.6352153978034019</td><td>0.4901702</td></tr>\n",
       "<tr><td>35.67626338567909</td><td>1.1325602980652811</td><td>0.32792953</td></tr>\n",
       "<tr><td>35.42022014853669</td><td>2.0680590765477125</td><td>0.32175738</td></tr>\n",
       "<tr><td>35.618217681555</td><td>2.4880454003404964</td><td>0.433955</td></tr>\n",
       "<tr><td>36.71230938808531</td><td>2.478650172238958</td><td>0.30328956</td></tr>\n",
       "<tr><td>8.689237443827315</td><td>1.5308694335913973</td><td>0.48328206</td></tr>\n",
       "<tr><td>8.618020527310893</td><td>0.6887194513841853</td><td>0.21176931</td></tr>\n",
       "<tr><td>7.929512417923473</td><td>1.0421185560509516</td><td>0.33615965</td></tr>\n",
       "<tr><td>127.47624266358724</td><td>19.617592780486092</td><td>0.4742378</td></tr>\n",
       "<tr><td>127.02994980962308</td><td>19.62868959935979</td><td>0.21418814</td></tr>\n",
       "</table></div>"
      ],
      "text/plain": [
       "<Table length=995853>\n",
       "        RA                 DEC              Z     \n",
       "       deg                 deg                    \n",
       "     float64             float64         float32  \n",
       "------------------ -------------------- ----------\n",
       "146.91943880835558  -0.9905002097615121 0.21392463\n",
       " 146.7633686243738  -0.8104302420145392 0.44864488\n",
       "146.74413804985173  -0.6522281270084387  0.2037688\n",
       "   146.62279529417  -0.9513646568090304 0.37124884\n",
       " 146.9240501998721 -0.10518423290794353 0.32764107\n",
       "147.02336560206018 -0.16014586262907335 0.21564895\n",
       "146.91080785877224 -0.07460542595771787 0.24227172\n",
       "147.11459216124067 -0.16522932689381256 0.20423692\n",
       " 147.0896972156587 -0.26649303833152727  0.3834088\n",
       "               ...                  ...        ...\n",
       " 35.90373581867379   1.6352153978034019  0.4901702\n",
       " 35.67626338567909   1.1325602980652811 0.32792953\n",
       " 35.42022014853669   2.0680590765477125 0.32175738\n",
       "   35.618217681555   2.4880454003404964   0.433955\n",
       " 36.71230938808531    2.478650172238958 0.30328956\n",
       " 8.689237443827315   1.5308694335913973 0.48328206\n",
       " 8.618020527310893   0.6887194513841853 0.21176931\n",
       " 7.929512417923473   1.0421185560509516 0.33615965\n",
       "127.47624266358724   19.617592780486092  0.4742378\n",
       "127.02994980962308    19.62868959935979 0.21418814"
      ]
     },
     "execution_count": 15,
     "metadata": {},
     "output_type": "execute_result"
    }
   ],
   "source": [
    "zcut"
   ]
  },
  {
   "cell_type": "code",
   "execution_count": 17,
   "id": "f82d5f36-8ffc-4808-b967-c6edd61e0810",
   "metadata": {
    "execution": {
     "iopub.execute_input": "2022-05-24T08:39:09.743342Z",
     "iopub.status.busy": "2022-05-24T08:39:09.742778Z",
     "iopub.status.idle": "2022-05-24T08:39:09.749449Z",
     "shell.execute_reply": "2022-05-24T08:39:09.748727Z",
     "shell.execute_reply.started": "2022-05-24T08:39:09.743304Z"
    }
   },
   "outputs": [
    {
     "data": {
      "text/plain": [
       "'/home/yunzheng/PAC/code/low_new'"
      ]
     },
     "execution_count": 17,
     "metadata": {},
     "output_type": "execute_result"
    }
   ],
   "source": [
    "pwd"
   ]
  },
  {
   "cell_type": "code",
   "execution_count": 16,
   "id": "35db117e-f100-4ea4-b14a-daad542a6d4a",
   "metadata": {
    "execution": {
     "iopub.execute_input": "2022-05-24T08:38:31.000150Z",
     "iopub.status.busy": "2022-05-24T08:38:30.999664Z",
     "iopub.status.idle": "2022-05-24T08:38:31.110405Z",
     "shell.execute_reply": "2022-05-24T08:38:31.109746Z",
     "shell.execute_reply.started": "2022-05-24T08:38:31.000094Z"
    }
   },
   "outputs": [],
   "source": [
    "Table(zcut).write(\"./decals_bass_2_5_zcut.fits\")"
   ]
  },
  {
   "cell_type": "code",
   "execution_count": 11,
   "id": "344e3aec-98de-4452-a38c-1c9c776cde01",
   "metadata": {
    "execution": {
     "iopub.execute_input": "2022-05-24T08:05:09.014970Z",
     "iopub.status.busy": "2022-05-24T08:05:09.014812Z",
     "iopub.status.idle": "2022-05-24T08:05:10.052900Z",
     "shell.execute_reply": "2022-05-24T08:05:10.051962Z",
     "shell.execute_reply.started": "2022-05-24T08:05:09.014955Z"
    }
   },
   "outputs": [
    {
     "data": {
      "text/plain": [
       "<matplotlib.collections.PathCollection at 0x2b189e87ae50>"
      ]
     },
     "execution_count": 11,
     "metadata": {},
     "output_type": "execute_result"
    },
    {
     "data": {
      "image/png": "[encoded data removed]",
      "text/plain": [
       "<Figure size 432x288 with 1 Axes>"
      ]
     },
     "metadata": {
      "needs_background": "light"
     },
     "output_type": "display_data"
    }
   ],
   "source": [
    "plt.scatter(bass['RA'],bass['DEC'],s =0.1)"
   ]
  },
  {
   "cell_type": "markdown",
   "id": "3cb1525a-0260-43db-9a0a-355ce1029a0e",
   "metadata": {},
   "source": [
    "# topcat match lowz&hsc"
   ]
  },
  {
   "cell_type": "markdown",
   "id": "afaab567-042e-4a7b-9006-47ddb6e8b5f3",
   "metadata": {},
   "source": [
    "- /home/yunzheng/PAC/code/lowz_new/decals_bass_2_5_zcut.fits\n",
    "- /home/yunzheng/PAC/code/hsc_SEDfitting/hsc_band.fits"
   ]
  },
  {
   "cell_type": "markdown",
   "id": "af897761-fd62-4f7e-ba1e-c1cad5d2c6ac",
   "metadata": {},
   "source": [
    "=> lowz_hsc_band.fits"
   ]
  },
  {
   "cell_type": "code",
   "execution_count": 4,
   "id": "8a5033ee-dee6-410b-a6a8-ca1d9de2c6c7",
   "metadata": {
    "execution": {
     "iopub.execute_input": "2022-06-05T16:54:15.943537Z",
     "iopub.status.busy": "2022-06-05T16:54:15.943278Z",
     "iopub.status.idle": "2022-06-05T16:54:16.296364Z",
     "shell.execute_reply": "2022-06-05T16:54:16.295684Z",
     "shell.execute_reply.started": "2022-06-05T16:54:15.943511Z"
    },
    "tags": []
   },
   "outputs": [],
   "source": [
    "match = Table.read(\"./lowz_hsc_band.fits\")"
   ]
  },
  {
   "cell_type": "code",
   "execution_count": 20,
   "id": "7a869b40-947e-4aba-aa27-1d1e8ab144be",
   "metadata": {
    "collapsed": true,
    "execution": {
     "iopub.execute_input": "2022-05-24T08:50:08.000233Z",
     "iopub.status.busy": "2022-05-24T08:50:07.999838Z",
     "iopub.status.idle": "2022-05-24T08:50:08.015233Z",
     "shell.execute_reply": "2022-05-24T08:50:08.014678Z",
     "shell.execute_reply.started": "2022-05-24T08:50:08.000206Z"
    },
    "jupyter": {
     "outputs_hidden": true
    },
    "tags": []
   },
   "outputs": [
    {
     "data": {
      "text/html": [
       "<div><i>Table length=43920</i>\n",
       "<table id=\"table47885661263808\" class=\"table-striped table-bordered table-condensed\">\n",
       "<thead><tr><th>RA_1</th><th>DEC_1</th><th>Z</th><th>id</th><th>subaru.hsc.g</th><th>subaru.hsc.g_err</th><th>subaru.hsc.r</th><th>subaru.hsc.r_err</th><th>subaru.hsc.i</th><th>subaru.hsc.i_err</th><th>subaru.hsc.z</th><th>subaru.hsc.z_err</th><th>subaru.hsc.y</th><th>subaru.hsc.y_err</th><th>ra_2</th><th>dec_2</th><th>skymap_id</th><th>Separation</th></tr></thead>\n",
       "<thead><tr><th>deg</th><th>deg</th><th></th><th></th><th></th><th></th><th></th><th></th><th></th><th></th><th></th><th></th><th></th><th></th><th></th><th></th><th></th><th>arcsec</th></tr></thead>\n",
       "<thead><tr><th>float64</th><th>float64</th><th>float32</th><th>int64</th><th>float64</th><th>float64</th><th>float64</th><th>float64</th><th>float64</th><th>float64</th><th>float64</th><th>float64</th><th>float64</th><th>float64</th><th>float64</th><th>float64</th><th>int32</th><th>float64</th></tr></thead>\n",
       "<tr><td>146.91943880835558</td><td>-0.9905002097615121</td><td>0.21392463</td><td>49095779</td><td>0.06618110835552216</td><td>8.752569556236267e-05</td><td>0.19749975204467773</td><td>0.00014078617095947266</td><td>0.32324159145355225</td><td>0.0001232624053955078</td><td>0.4191005825996399</td><td>0.00019828975200653076</td><td>0.49881651997566223</td><td>0.00040158629417419434</td><td>146.91945951679537</td><td>-0.9904975367316553</td><td>93250303</td><td>0.07515782845442948</td></tr>\n",
       "<tr><td>146.7633686243738</td><td>-0.8104302420145392</td><td>0.44864488</td><td>49107329</td><td>0.012241519056260586</td><td>3.831367939710617e-05</td><td>0.05465439707040787</td><td>6.412714719772339e-05</td><td>0.11369573324918747</td><td>7.997080683708191e-05</td><td>0.15171360969543457</td><td>0.00018126517534255981</td><td>0.18941082060337067</td><td>0.00030547380447387695</td><td>146.76337052530354</td><td>-0.8104276854141249</td><td>93250304</td><td>0.011468707637153039</td></tr>\n",
       "<tr><td>146.62279529417</td><td>-0.9513646568090304</td><td>0.37124884</td><td>49190370</td><td>0.03540857881307602</td><td>6.836559623479843e-05</td><td>0.15333802998065948</td><td>0.0001566857099533081</td><td>0.2695724368095398</td><td>0.00010345876216888428</td><td>0.3534099757671356</td><td>0.00019723176956176758</td><td>0.4216761291027069</td><td>0.0004247725009918213</td><td>146.62280014534682</td><td>-0.9513623461346574</td><td>93250403</td><td>0.01934196767445425</td></tr>\n",
       "<tr><td>146.9240501998721</td><td>-0.10518423290794353</td><td>0.32764107</td><td>49143425</td><td>0.02177237905561924</td><td>4.086550325155258e-05</td><td>0.08943422883749008</td><td>6.74128532409668e-05</td><td>0.1601584255695343</td><td>7.409602403640747e-05</td><td>0.21408087015151978</td><td>0.00014771521091461182</td><td>0.2580620050430298</td><td>0.00026123225688934326</td><td>146.9240620540112</td><td>-0.10518239313111284</td><td>93250307</td><td>0.043185735397086936</td></tr>\n",
       "<tr><td>147.02336560206018</td><td>-0.16014586262907335</td><td>0.21564895</td><td>49054815</td><td>0.043048955500125885</td><td>7.552839815616608e-05</td><td>0.13371339440345764</td><td>0.00011675804853439331</td><td>0.23438730835914612</td><td>0.0001058727502822876</td><td>0.3037906885147095</td><td>0.0002155303955078125</td><td>0.3668104410171509</td><td>0.0004046112298965454</td><td>147.02338806553786</td><td>-0.1601309593311747</td><td>93250207</td><td>0.09704735849548854</td></tr>\n",
       "<tr><td>146.91080785877224</td><td>-0.07460542595771787</td><td>0.24227172</td><td>49146993</td><td>0.0489482656121254</td><td>6.01988285779953e-05</td><td>0.1715400218963623</td><td>0.00010561197996139526</td><td>0.2712445855140686</td><td>9.303539991378784e-05</td><td>0.35945379734039307</td><td>0.000171661376953125</td><td>0.45937418937683105</td><td>0.00032679736614227295</td><td>146.91082165689446</td><td>-0.07459577336616721</td><td>93250308</td><td>0.06062130393622935</td></tr>\n",
       "<tr><td>147.11459216124067</td><td>-0.16522932689381256</td><td>0.20423692</td><td>49054364</td><td>0.12134144455194473</td><td>9.979307651519775e-05</td><td>0.3570292890071869</td><td>0.00016038119792938232</td><td>0.5689717531204224</td><td>0.00013899803161621094</td><td>0.7325602769851685</td><td>0.000255584716796875</td><td>0.8679747581481934</td><td>0.00044721364974975586</td><td>147.11459717104816</td><td>-0.16522499096027118</td><td>93250207</td><td>0.02385208034615464</td></tr>\n",
       "<tr><td>147.0896972156587</td><td>-0.26649303833152727</td><td>0.3834088</td><td>49051084</td><td>0.021191809326410294</td><td>5.1087234169244766e-05</td><td>0.09915769845247269</td><td>8.166581392288208e-05</td><td>0.1856275498867035</td><td>0.0001128464937210083</td><td>0.2476775050163269</td><td>0.0002051517367362976</td><td>0.2941305935382843</td><td>0.00043092668056488037</td><td>147.0897033749402</td><td>-0.2664923379423015</td><td>93250207</td><td>0.022316072414810484</td></tr>\n",
       "<tr><td>146.31180386456913</td><td>-0.8132339157025317</td><td>0.20591073</td><td>49379539</td><td>0.08669156581163406</td><td>7.050111889839172e-05</td><td>0.266326904296875</td><td>0.00012862682342529297</td><td>0.42045748233795166</td><td>9.907782077789307e-05</td><td>0.5465704202651978</td><td>0.00019297003746032715</td><td>0.6540212035179138</td><td>0.0003103315830230713</td><td>146.31181115643838</td><td>-0.8132266995592302</td><td>93250604</td><td>0.03692999430355124</td></tr>\n",
       "<tr><td>...</td><td>...</td><td>...</td><td>...</td><td>...</td><td>...</td><td>...</td><td>...</td><td>...</td><td>...</td><td>...</td><td>...</td><td>...</td><td>...</td><td>...</td><td>...</td><td>...</td><td>...</td></tr>\n",
       "<tr><td>36.64888869901098</td><td>-1.3985049544546966</td><td>0.29039297</td><td>41119078</td><td>0.006524748168885708</td><td>3.543589264154434e-05</td><td>0.012952690944075584</td><td>4.1029881685972214e-05</td><td>0.019534744322299957</td><td>0.0001508425921201706</td><td>0.026051830500364304</td><td>8.366163820028305e-05</td><td>0.02659844234585762</td><td>0.00017392076551914215</td><td>36.64887379716554</td><td>-1.3985134302281983</td><td>92510600</td><td>0.06170314499149006</td></tr>\n",
       "<tr><td>1.8537796447115498</td><td>-1.0345387389487897</td><td>0.339891</td><td>36662876</td><td>0.0032172331120818853</td><td>4.61735762655735e-05</td><td>0.007497526239603758</td><td>4.98197041451931e-05</td><td>0.009164818562567234</td><td>7.605645805597305e-05</td><td>0.0135570727288723</td><td>0.00015103071928024292</td><td>0.013613574206829071</td><td>0.00027635833248496056</td><td>1.8537761722732016</td><td>-1.0345370069775042</td><td>92270202</td><td>0.013967639030997929</td></tr>\n",
       "<tr><td>2.294147889514214</td><td>-0.9139241984561717</td><td>0.3425563</td><td>37532880</td><td>0.004868370946496725</td><td>7.30960164219141e-05</td><td>0.011930855922400951</td><td>7.563037797808647e-05</td><td>0.016416499391198158</td><td>0.00010334514081478119</td><td>0.01890517957508564</td><td>0.00020975712686777115</td><td>0.021352123469114304</td><td>0.00037079304456710815</td><td>2.294142563317414</td><td>-0.9139085176119026</td><td>92280803</td><td>0.05961778608252772</td></tr>\n",
       "<tr><td>0.0750468371709383</td><td>1.4856188491008682</td><td>0.35338515</td><td>89356717</td><td>0.0028845067135989666</td><td>8.322729263454676e-05</td><td>0.008128480985760689</td><td>7.980549708008766e-05</td><td>0.022107403725385666</td><td>0.0001330878585577011</td><td>0.03903734311461449</td><td>0.00035519711673259735</td><td>0.04286821186542511</td><td>0.0007298197597265244</td><td>0.07499110816949772</td><td>1.4856329094129768</td><td>94690408</td><td>0.20684581307631555</td></tr>\n",
       "<tr><td>1.3582836657481514</td><td>0.8500747153715272</td><td>0.441151</td><td>90193801</td><td>0.002349541522562504</td><td>3.746000584214926e-05</td><td>0.003597791539505124</td><td>3.5501434467732906e-05</td><td>0.009090577252209187</td><td>4.428578540682793e-05</td><td>0.014696870930492878</td><td>0.0001122327521443367</td><td>0.019688833504915237</td><td>0.00023895595222711563</td><td>1.3582948015428131</td><td>0.8501266785720831</td><td>94700505</td><td>0.19131393254182708</td></tr>\n",
       "<tr><td>1.7235092183648295</td><td>0.6996160598185093</td><td>0.41039968</td><td>89988624</td><td>0.0021870227064937353</td><td>3.0162103939801455e-05</td><td>0.003980323672294617</td><td>2.871814649552107e-05</td><td>0.005679481662809849</td><td>3.506639041006565e-05</td><td>0.007674225606024265</td><td>8.098594844341278e-05</td><td>0.007939264178276062</td><td>0.00013769441284239292</td><td>1.7235475201168267</td><td>0.6996848165361539</td><td>94700304</td><td>0.28333376120509784</td></tr>\n",
       "<tr><td>3.1293410835469198</td><td>1.4630334150001285</td><td>0.29747215</td><td>90762333</td><td>0.0022240430116653442</td><td>4.103791434317827e-05</td><td>0.004557710140943527</td><td>4.4773099943995476e-05</td><td>0.006639712490141392</td><td>0.00011419225484132767</td><td>0.008712937124073505</td><td>0.0002832612954080105</td><td>0.009420198388397694</td><td>0.0004487158730626106</td><td>3.129231200805256</td><td>1.4631475732382997</td><td>94710308</td><td>0.5703296370687552</td></tr>\n",
       "<tr><td>2.7469394699331575</td><td>1.4956622680172562</td><td>0.2904142</td><td>145417870</td><td>0.0018284418620169163</td><td>3.324693534523249e-05</td><td>0.0027040960267186165</td><td>3.6822748370468616e-05</td><td>0.00459545711055398</td><td>5.102856084704399e-05</td><td>0.00683171721175313</td><td>0.00011518830433487892</td><td>0.0077256266959011555</td><td>0.00022446271032094955</td><td>2.7469601747092653</td><td>1.4957434817942308</td><td>97140500</td><td>0.3017150797796123</td></tr>\n",
       "<tr><td>1.9634356066932976</td><td>0.38888599958822084</td><td>0.2360254</td><td>89783735</td><td>0.005500693805515766</td><td>9.01359599083662e-05</td><td>0.008492530323565006</td><td>9.28640365600586e-05</td><td>0.020304236561059952</td><td>0.00014573149383068085</td><td>0.04004590958356857</td><td>0.0003445036709308624</td><td>0.049373384565114975</td><td>0.0006741061806678772</td><td>1.9632600107692681</td><td>0.38900397870399567</td><td>94700102</td><td>0.7615644880054322</td></tr>\n",
       "<tr><td>1.3750795760701813</td><td>1.2959478170046734</td><td>0.45854908</td><td>90221841</td><td>0.0012030036887153983</td><td>3.235758049413562e-05</td><td>0.001918597030453384</td><td>4.882237408310175e-05</td><td>0.00395940151065588</td><td>3.512483090162277e-05</td><td>0.006510092876851559</td><td>8.404371328651905e-05</td><td>0.007410056889057159</td><td>0.0001814514398574829</td><td>1.37518164011651</td><td>1.296089402620124</td><td>94700507</td><td>0.6282822790472805</td></tr>\n",
       "</table></div>"
      ],
      "text/plain": [
       "<Table length=43920>\n",
       "       RA_1               DEC_1         ... skymap_id      Separation     \n",
       "       deg                 deg          ...                  arcsec       \n",
       "     float64             float64        ...   int32         float64       \n",
       "------------------ -------------------- ... --------- --------------------\n",
       "146.91943880835558  -0.9905002097615121 ...  93250303  0.07515782845442948\n",
       " 146.7633686243738  -0.8104302420145392 ...  93250304 0.011468707637153039\n",
       "   146.62279529417  -0.9513646568090304 ...  93250403  0.01934196767445425\n",
       " 146.9240501998721 -0.10518423290794353 ...  93250307 0.043185735397086936\n",
       "147.02336560206018 -0.16014586262907335 ...  93250207  0.09704735849548854\n",
       "146.91080785877224 -0.07460542595771787 ...  93250308  0.06062130393622935\n",
       "147.11459216124067 -0.16522932689381256 ...  93250207  0.02385208034615464\n",
       " 147.0896972156587 -0.26649303833152727 ...  93250207 0.022316072414810484\n",
       "146.31180386456913  -0.8132339157025317 ...  93250604  0.03692999430355124\n",
       "               ...                  ... ...       ...                  ...\n",
       " 36.64888869901098  -1.3985049544546966 ...  92510600  0.06170314499149006\n",
       "1.8537796447115498  -1.0345387389487897 ...  92270202 0.013967639030997929\n",
       " 2.294147889514214  -0.9139241984561717 ...  92280803  0.05961778608252772\n",
       "0.0750468371709383   1.4856188491008682 ...  94690408  0.20684581307631555\n",
       "1.3582836657481514   0.8500747153715272 ...  94700505  0.19131393254182708\n",
       "1.7235092183648295   0.6996160598185093 ...  94700304  0.28333376120509784\n",
       "3.1293410835469198   1.4630334150001285 ...  94710308   0.5703296370687552\n",
       "2.7469394699331575   1.4956622680172562 ...  97140500   0.3017150797796123\n",
       "1.9634356066932976  0.38888599958822084 ...  94700102   0.7615644880054322\n",
       "1.3750795760701813   1.2959478170046734 ...  94700507   0.6282822790472805"
      ]
     },
     "execution_count": 20,
     "metadata": {},
     "output_type": "execute_result"
    }
   ],
   "source": [
    "match     #43920"
   ]
  },
  {
   "cell_type": "code",
   "execution_count": 21,
   "id": "6ffa09ec-174b-41a8-aa54-d08bd2b7b180",
   "metadata": {
    "execution": {
     "iopub.execute_input": "2022-05-24T08:51:59.093193Z",
     "iopub.status.busy": "2022-05-24T08:51:59.092941Z",
     "iopub.status.idle": "2022-05-24T08:51:59.449748Z",
     "shell.execute_reply": "2022-05-24T08:51:59.448883Z",
     "shell.execute_reply.started": "2022-05-24T08:51:59.093174Z"
    }
   },
   "outputs": [
    {
     "data": {
      "text/plain": [
       "<matplotlib.collections.PathCollection at 0x2b8d3fe433d0>"
      ]
     },
     "execution_count": 21,
     "metadata": {},
     "output_type": "execute_result"
    },
    {
     "data": {
      "image/png": "[encoded data removed]",
      "text/plain": [
       "<Figure size 432x288 with 1 Axes>"
      ]
     },
     "metadata": {
      "needs_background": "light"
     },
     "output_type": "display_data"
    }
   ],
   "source": [
    "plt.scatter(match['RA_1'],match['DEC_1'],s =0.1)"
   ]
  },
  {
   "cell_type": "code",
   "execution_count": 22,
   "id": "c05a26ac-81c5-42b8-8f32-b0cfb4abd318",
   "metadata": {
    "execution": {
     "iopub.execute_input": "2022-05-24T08:52:33.998416Z",
     "iopub.status.busy": "2022-05-24T08:52:33.998140Z",
     "iopub.status.idle": "2022-05-24T08:52:34.002570Z",
     "shell.execute_reply": "2022-05-24T08:52:34.002073Z",
     "shell.execute_reply.started": "2022-05-24T08:52:33.998396Z"
    }
   },
   "outputs": [
    {
     "data": {
      "text/plain": [
       "0.20002466"
      ]
     },
     "execution_count": 22,
     "metadata": {},
     "output_type": "execute_result"
    }
   ],
   "source": [
    "np.min(match['Z'])"
   ]
  },
  {
   "cell_type": "code",
   "execution_count": 23,
   "id": "269713d7-89e2-48ee-8386-040e79ef1d10",
   "metadata": {
    "execution": {
     "iopub.execute_input": "2022-05-24T08:52:43.168776Z",
     "iopub.status.busy": "2022-05-24T08:52:43.168586Z",
     "iopub.status.idle": "2022-05-24T08:52:43.173344Z",
     "shell.execute_reply": "2022-05-24T08:52:43.172820Z",
     "shell.execute_reply.started": "2022-05-24T08:52:43.168759Z"
    }
   },
   "outputs": [
    {
     "data": {
      "text/plain": [
       "0.49999672"
      ]
     },
     "execution_count": 23,
     "metadata": {},
     "output_type": "execute_result"
    }
   ],
   "source": [
    "np.max(match['Z'])"
   ]
  },
  {
   "cell_type": "markdown",
   "id": "c27a2b59-1a19-4a65-b608-11540257ed24",
   "metadata": {},
   "source": [
    "# 存SED输入文件"
   ]
  },
  {
   "cell_type": "code",
   "execution_count": 24,
   "id": "b4adb0ce-1f19-4625-9680-0b5b977b223e",
   "metadata": {
    "execution": {
     "iopub.execute_input": "2022-05-24T08:53:09.009638Z",
     "iopub.status.busy": "2022-05-24T08:53:09.009332Z",
     "iopub.status.idle": "2022-05-24T08:53:09.016117Z",
     "shell.execute_reply": "2022-05-24T08:53:09.015590Z",
     "shell.execute_reply.started": "2022-05-24T08:53:09.009618Z"
    }
   },
   "outputs": [],
   "source": [
    "ID = np.array(range(len(match)))"
   ]
  },
  {
   "cell_type": "code",
   "execution_count": 25,
   "id": "94edd4f4-43f1-4918-940c-cbf71dd4b95b",
   "metadata": {
    "execution": {
     "iopub.execute_input": "2022-05-24T08:53:11.998715Z",
     "iopub.status.busy": "2022-05-24T08:53:11.998297Z",
     "iopub.status.idle": "2022-05-24T08:53:12.003450Z",
     "shell.execute_reply": "2022-05-24T08:53:12.002496Z",
     "shell.execute_reply.started": "2022-05-24T08:53:11.998696Z"
    }
   },
   "outputs": [
    {
     "data": {
      "text/plain": [
       "array([    0,     1,     2, ..., 43917, 43918, 43919])"
      ]
     },
     "execution_count": 25,
     "metadata": {},
     "output_type": "execute_result"
    }
   ],
   "source": [
    "ID"
   ]
  },
  {
   "cell_type": "code",
   "execution_count": 26,
   "id": "223ba466-1555-418f-88be-b600aecb3a34",
   "metadata": {
    "execution": {
     "iopub.execute_input": "2022-05-24T08:53:17.373496Z",
     "iopub.status.busy": "2022-05-24T08:53:17.373136Z",
     "iopub.status.idle": "2022-05-24T08:53:17.376555Z",
     "shell.execute_reply": "2022-05-24T08:53:17.376096Z",
     "shell.execute_reply.started": "2022-05-24T08:53:17.373475Z"
    }
   },
   "outputs": [],
   "source": [
    "target = Table()\n",
    "target.add_column(Column(name = 'id',length = len(match),dtype = 'int64',data = ID))"
   ]
  },
  {
   "cell_type": "code",
   "execution_count": 27,
   "id": "293d753f-5a3e-4699-bb66-4130bcf09324",
   "metadata": {
    "execution": {
     "iopub.execute_input": "2022-05-24T08:53:28.727316Z",
     "iopub.status.busy": "2022-05-24T08:53:28.725582Z",
     "iopub.status.idle": "2022-05-24T08:53:28.738053Z",
     "shell.execute_reply": "2022-05-24T08:53:28.737473Z",
     "shell.execute_reply.started": "2022-05-24T08:53:28.727238Z"
    }
   },
   "outputs": [],
   "source": [
    "tar2 = match['Z','subaru.hsc.g','subaru.hsc.g_err','subaru.hsc.r','subaru.hsc.r_err','subaru.hsc.i','subaru.hsc.i_err','subaru.hsc.z','subaru.hsc.z_err','subaru.hsc.y','subaru.hsc.y_err']"
   ]
  },
  {
   "cell_type": "code",
   "execution_count": 28,
   "id": "7f67c7b8-a975-40d0-907e-41a370d03860",
   "metadata": {
    "execution": {
     "iopub.execute_input": "2022-05-24T08:53:35.091239Z",
     "iopub.status.busy": "2022-05-24T08:53:35.090724Z",
     "iopub.status.idle": "2022-05-24T08:53:35.094899Z",
     "shell.execute_reply": "2022-05-24T08:53:35.094096Z",
     "shell.execute_reply.started": "2022-05-24T08:53:35.091176Z"
    }
   },
   "outputs": [],
   "source": [
    "tar2['Z'].name = 'redshift'"
   ]
  },
  {
   "cell_type": "code",
   "execution_count": 29,
   "id": "1d3d7fc0-0c83-42d3-bc57-d887c9504e22",
   "metadata": {
    "execution": {
     "iopub.execute_input": "2022-05-24T08:53:41.001735Z",
     "iopub.status.busy": "2022-05-24T08:53:41.001334Z",
     "iopub.status.idle": "2022-05-24T08:53:41.012497Z",
     "shell.execute_reply": "2022-05-24T08:53:41.011784Z",
     "shell.execute_reply.started": "2022-05-24T08:53:41.001712Z"
    }
   },
   "outputs": [],
   "source": [
    "spec= hstack((target,tar2))"
   ]
  },
  {
   "cell_type": "code",
   "execution_count": 30,
   "id": "84d41971-dc69-4b20-95e8-0aea54fd3837",
   "metadata": {
    "collapsed": true,
    "execution": {
     "iopub.execute_input": "2022-05-24T08:53:44.000515Z",
     "iopub.status.busy": "2022-05-24T08:53:43.999891Z",
     "iopub.status.idle": "2022-05-24T08:53:44.011972Z",
     "shell.execute_reply": "2022-05-24T08:53:44.011188Z",
     "shell.execute_reply.started": "2022-05-24T08:53:44.000489Z"
    },
    "jupyter": {
     "outputs_hidden": true
    },
    "tags": []
   },
   "outputs": [
    {
     "data": {
      "text/html": [
       "<div><i>Table length=43920</i>\n",
       "<table id=\"table47883013749632\" class=\"table-striped table-bordered table-condensed\">\n",
       "<thead><tr><th>id</th><th>redshift</th><th>subaru.hsc.g</th><th>subaru.hsc.g_err</th><th>subaru.hsc.r</th><th>subaru.hsc.r_err</th><th>subaru.hsc.i</th><th>subaru.hsc.i_err</th><th>subaru.hsc.z</th><th>subaru.hsc.z_err</th><th>subaru.hsc.y</th><th>subaru.hsc.y_err</th></tr></thead>\n",
       "<thead><tr><th>int64</th><th>float32</th><th>float64</th><th>float64</th><th>float64</th><th>float64</th><th>float64</th><th>float64</th><th>float64</th><th>float64</th><th>float64</th><th>float64</th></tr></thead>\n",
       "<tr><td>0</td><td>0.21392463</td><td>0.06618110835552216</td><td>8.752569556236267e-05</td><td>0.19749975204467773</td><td>0.00014078617095947266</td><td>0.32324159145355225</td><td>0.0001232624053955078</td><td>0.4191005825996399</td><td>0.00019828975200653076</td><td>0.49881651997566223</td><td>0.00040158629417419434</td></tr>\n",
       "<tr><td>1</td><td>0.44864488</td><td>0.012241519056260586</td><td>3.831367939710617e-05</td><td>0.05465439707040787</td><td>6.412714719772339e-05</td><td>0.11369573324918747</td><td>7.997080683708191e-05</td><td>0.15171360969543457</td><td>0.00018126517534255981</td><td>0.18941082060337067</td><td>0.00030547380447387695</td></tr>\n",
       "<tr><td>2</td><td>0.37124884</td><td>0.03540857881307602</td><td>6.836559623479843e-05</td><td>0.15333802998065948</td><td>0.0001566857099533081</td><td>0.2695724368095398</td><td>0.00010345876216888428</td><td>0.3534099757671356</td><td>0.00019723176956176758</td><td>0.4216761291027069</td><td>0.0004247725009918213</td></tr>\n",
       "<tr><td>3</td><td>0.32764107</td><td>0.02177237905561924</td><td>4.086550325155258e-05</td><td>0.08943422883749008</td><td>6.74128532409668e-05</td><td>0.1601584255695343</td><td>7.409602403640747e-05</td><td>0.21408087015151978</td><td>0.00014771521091461182</td><td>0.2580620050430298</td><td>0.00026123225688934326</td></tr>\n",
       "<tr><td>4</td><td>0.21564895</td><td>0.043048955500125885</td><td>7.552839815616608e-05</td><td>0.13371339440345764</td><td>0.00011675804853439331</td><td>0.23438730835914612</td><td>0.0001058727502822876</td><td>0.3037906885147095</td><td>0.0002155303955078125</td><td>0.3668104410171509</td><td>0.0004046112298965454</td></tr>\n",
       "<tr><td>5</td><td>0.24227172</td><td>0.0489482656121254</td><td>6.01988285779953e-05</td><td>0.1715400218963623</td><td>0.00010561197996139526</td><td>0.2712445855140686</td><td>9.303539991378784e-05</td><td>0.35945379734039307</td><td>0.000171661376953125</td><td>0.45937418937683105</td><td>0.00032679736614227295</td></tr>\n",
       "<tr><td>6</td><td>0.20423692</td><td>0.12134144455194473</td><td>9.979307651519775e-05</td><td>0.3570292890071869</td><td>0.00016038119792938232</td><td>0.5689717531204224</td><td>0.00013899803161621094</td><td>0.7325602769851685</td><td>0.000255584716796875</td><td>0.8679747581481934</td><td>0.00044721364974975586</td></tr>\n",
       "<tr><td>7</td><td>0.3834088</td><td>0.021191809326410294</td><td>5.1087234169244766e-05</td><td>0.09915769845247269</td><td>8.166581392288208e-05</td><td>0.1856275498867035</td><td>0.0001128464937210083</td><td>0.2476775050163269</td><td>0.0002051517367362976</td><td>0.2941305935382843</td><td>0.00043092668056488037</td></tr>\n",
       "<tr><td>8</td><td>0.20591073</td><td>0.08669156581163406</td><td>7.050111889839172e-05</td><td>0.266326904296875</td><td>0.00012862682342529297</td><td>0.42045748233795166</td><td>9.907782077789307e-05</td><td>0.5465704202651978</td><td>0.00019297003746032715</td><td>0.6540212035179138</td><td>0.0003103315830230713</td></tr>\n",
       "<tr><td>9</td><td>0.37091246</td><td>0.013950580731034279</td><td>4.738150164484978e-05</td><td>0.06670958548784256</td><td>6.747432053089142e-05</td><td>0.12281692028045654</td><td>8.425116539001465e-05</td><td>0.16656814515590668</td><td>0.00019210577011108398</td><td>0.20317348837852478</td><td>0.0004120245575904846</td></tr>\n",
       "<tr><td>...</td><td>...</td><td>...</td><td>...</td><td>...</td><td>...</td><td>...</td><td>...</td><td>...</td><td>...</td><td>...</td><td>...</td></tr>\n",
       "<tr><td>43910</td><td>0.29039297</td><td>0.006524748168885708</td><td>3.543589264154434e-05</td><td>0.012952690944075584</td><td>4.1029881685972214e-05</td><td>0.019534744322299957</td><td>0.0001508425921201706</td><td>0.026051830500364304</td><td>8.366163820028305e-05</td><td>0.02659844234585762</td><td>0.00017392076551914215</td></tr>\n",
       "<tr><td>43911</td><td>0.339891</td><td>0.0032172331120818853</td><td>4.61735762655735e-05</td><td>0.007497526239603758</td><td>4.98197041451931e-05</td><td>0.009164818562567234</td><td>7.605645805597305e-05</td><td>0.0135570727288723</td><td>0.00015103071928024292</td><td>0.013613574206829071</td><td>0.00027635833248496056</td></tr>\n",
       "<tr><td>43912</td><td>0.3425563</td><td>0.004868370946496725</td><td>7.30960164219141e-05</td><td>0.011930855922400951</td><td>7.563037797808647e-05</td><td>0.016416499391198158</td><td>0.00010334514081478119</td><td>0.01890517957508564</td><td>0.00020975712686777115</td><td>0.021352123469114304</td><td>0.00037079304456710815</td></tr>\n",
       "<tr><td>43913</td><td>0.35338515</td><td>0.0028845067135989666</td><td>8.322729263454676e-05</td><td>0.008128480985760689</td><td>7.980549708008766e-05</td><td>0.022107403725385666</td><td>0.0001330878585577011</td><td>0.03903734311461449</td><td>0.00035519711673259735</td><td>0.04286821186542511</td><td>0.0007298197597265244</td></tr>\n",
       "<tr><td>43914</td><td>0.441151</td><td>0.002349541522562504</td><td>3.746000584214926e-05</td><td>0.003597791539505124</td><td>3.5501434467732906e-05</td><td>0.009090577252209187</td><td>4.428578540682793e-05</td><td>0.014696870930492878</td><td>0.0001122327521443367</td><td>0.019688833504915237</td><td>0.00023895595222711563</td></tr>\n",
       "<tr><td>43915</td><td>0.41039968</td><td>0.0021870227064937353</td><td>3.0162103939801455e-05</td><td>0.003980323672294617</td><td>2.871814649552107e-05</td><td>0.005679481662809849</td><td>3.506639041006565e-05</td><td>0.007674225606024265</td><td>8.098594844341278e-05</td><td>0.007939264178276062</td><td>0.00013769441284239292</td></tr>\n",
       "<tr><td>43916</td><td>0.29747215</td><td>0.0022240430116653442</td><td>4.103791434317827e-05</td><td>0.004557710140943527</td><td>4.4773099943995476e-05</td><td>0.006639712490141392</td><td>0.00011419225484132767</td><td>0.008712937124073505</td><td>0.0002832612954080105</td><td>0.009420198388397694</td><td>0.0004487158730626106</td></tr>\n",
       "<tr><td>43917</td><td>0.2904142</td><td>0.0018284418620169163</td><td>3.324693534523249e-05</td><td>0.0027040960267186165</td><td>3.6822748370468616e-05</td><td>0.00459545711055398</td><td>5.102856084704399e-05</td><td>0.00683171721175313</td><td>0.00011518830433487892</td><td>0.0077256266959011555</td><td>0.00022446271032094955</td></tr>\n",
       "<tr><td>43918</td><td>0.2360254</td><td>0.005500693805515766</td><td>9.01359599083662e-05</td><td>0.008492530323565006</td><td>9.28640365600586e-05</td><td>0.020304236561059952</td><td>0.00014573149383068085</td><td>0.04004590958356857</td><td>0.0003445036709308624</td><td>0.049373384565114975</td><td>0.0006741061806678772</td></tr>\n",
       "<tr><td>43919</td><td>0.45854908</td><td>0.0012030036887153983</td><td>3.235758049413562e-05</td><td>0.001918597030453384</td><td>4.882237408310175e-05</td><td>0.00395940151065588</td><td>3.512483090162277e-05</td><td>0.006510092876851559</td><td>8.404371328651905e-05</td><td>0.007410056889057159</td><td>0.0001814514398574829</td></tr>\n",
       "</table></div>"
      ],
      "text/plain": [
       "<Table length=43920>\n",
       "  id   redshift  ...      subaru.hsc.y        subaru.hsc.y_err   \n",
       "int64  float32   ...        float64               float64        \n",
       "----- ---------- ... --------------------- ----------------------\n",
       "    0 0.21392463 ...   0.49881651997566223 0.00040158629417419434\n",
       "    1 0.44864488 ...   0.18941082060337067 0.00030547380447387695\n",
       "    2 0.37124884 ...    0.4216761291027069  0.0004247725009918213\n",
       "    3 0.32764107 ...    0.2580620050430298 0.00026123225688934326\n",
       "    4 0.21564895 ...    0.3668104410171509  0.0004046112298965454\n",
       "    5 0.24227172 ...   0.45937418937683105 0.00032679736614227295\n",
       "    6 0.20423692 ...    0.8679747581481934 0.00044721364974975586\n",
       "    7  0.3834088 ...    0.2941305935382843 0.00043092668056488037\n",
       "    8 0.20591073 ...    0.6540212035179138  0.0003103315830230713\n",
       "    9 0.37091246 ...   0.20317348837852478  0.0004120245575904846\n",
       "  ...        ... ...                   ...                    ...\n",
       "43910 0.29039297 ...   0.02659844234585762 0.00017392076551914215\n",
       "43911   0.339891 ...  0.013613574206829071 0.00027635833248496056\n",
       "43912  0.3425563 ...  0.021352123469114304 0.00037079304456710815\n",
       "43913 0.35338515 ...   0.04286821186542511  0.0007298197597265244\n",
       "43914   0.441151 ...  0.019688833504915237 0.00023895595222711563\n",
       "43915 0.41039968 ...  0.007939264178276062 0.00013769441284239292\n",
       "43916 0.29747215 ...  0.009420198388397694  0.0004487158730626106\n",
       "43917  0.2904142 ... 0.0077256266959011555 0.00022446271032094955\n",
       "43918  0.2360254 ...  0.049373384565114975  0.0006741061806678772\n",
       "43919 0.45854908 ...  0.007410056889057159  0.0001814514398574829"
      ]
     },
     "execution_count": 30,
     "metadata": {},
     "output_type": "execute_result"
    }
   ],
   "source": [
    "spec   #43920"
   ]
  },
  {
   "cell_type": "code",
   "execution_count": 32,
   "id": "e486e20c-9e04-43df-acee-5a916e899db1",
   "metadata": {
    "execution": {
     "iopub.execute_input": "2022-05-24T08:54:16.000118Z",
     "iopub.status.busy": "2022-05-24T08:54:15.999846Z",
     "iopub.status.idle": "2022-05-24T08:54:16.034796Z",
     "shell.execute_reply": "2022-05-24T08:54:16.034256Z",
     "shell.execute_reply.started": "2022-05-24T08:54:16.000098Z"
    },
    "tags": []
   },
   "outputs": [],
   "source": [
    "Table(spec).write(\"./lowz_sed_input.fits\")"
   ]
  },
  {
   "cell_type": "code",
   "execution_count": 33,
   "id": "332336fd-ce8c-4eaf-8aab-291ad763149f",
   "metadata": {
    "collapsed": true,
    "execution": {
     "iopub.execute_input": "2022-05-24T08:54:47.038021Z",
     "iopub.status.busy": "2022-05-24T08:54:47.037517Z",
     "iopub.status.idle": "2022-05-24T08:54:47.059488Z",
     "shell.execute_reply": "2022-05-24T08:54:47.057826Z",
     "shell.execute_reply.started": "2022-05-24T08:54:47.037995Z"
    },
    "jupyter": {
     "outputs_hidden": true
    },
    "tags": []
   },
   "outputs": [
    {
     "data": {
      "text/html": [
       "<div><i>Table length=24929</i>\n",
       "<table id=\"table47883013494960\" class=\"table-striped table-bordered table-condensed\">\n",
       "<thead><tr><th>id</th><th>redshift</th><th>subaru.hsc.g</th><th>subaru.hsc.g_err</th><th>subaru.hsc.r</th><th>subaru.hsc.r_err</th><th>subaru.hsc.i</th><th>subaru.hsc.i_err</th><th>subaru.hsc.z</th><th>subaru.hsc.z_err</th><th>subaru.hsc.y</th><th>subaru.hsc.y_err</th></tr></thead>\n",
       "<thead><tr><th>int64</th><th>float32</th><th>float64</th><th>float64</th><th>float64</th><th>float64</th><th>float64</th><th>float64</th><th>float64</th><th>float64</th><th>float64</th><th>float64</th></tr></thead>\n",
       "<tr><td>0</td><td>0.21392463</td><td>0.06618110835552216</td><td>8.752569556236267e-05</td><td>0.19749975204467773</td><td>0.00014078617095947266</td><td>0.32324159145355225</td><td>0.0001232624053955078</td><td>0.4191005825996399</td><td>0.00019828975200653076</td><td>0.49881651997566223</td><td>0.00040158629417419434</td></tr>\n",
       "<tr><td>2</td><td>0.37124884</td><td>0.03540857881307602</td><td>6.836559623479843e-05</td><td>0.15333802998065948</td><td>0.0001566857099533081</td><td>0.2695724368095398</td><td>0.00010345876216888428</td><td>0.3534099757671356</td><td>0.00019723176956176758</td><td>0.4216761291027069</td><td>0.0004247725009918213</td></tr>\n",
       "<tr><td>3</td><td>0.32764107</td><td>0.02177237905561924</td><td>4.086550325155258e-05</td><td>0.08943422883749008</td><td>6.74128532409668e-05</td><td>0.1601584255695343</td><td>7.409602403640747e-05</td><td>0.21408087015151978</td><td>0.00014771521091461182</td><td>0.2580620050430298</td><td>0.00026123225688934326</td></tr>\n",
       "<tr><td>4</td><td>0.21564895</td><td>0.043048955500125885</td><td>7.552839815616608e-05</td><td>0.13371339440345764</td><td>0.00011675804853439331</td><td>0.23438730835914612</td><td>0.0001058727502822876</td><td>0.3037906885147095</td><td>0.0002155303955078125</td><td>0.3668104410171509</td><td>0.0004046112298965454</td></tr>\n",
       "<tr><td>5</td><td>0.24227172</td><td>0.0489482656121254</td><td>6.01988285779953e-05</td><td>0.1715400218963623</td><td>0.00010561197996139526</td><td>0.2712445855140686</td><td>9.303539991378784e-05</td><td>0.35945379734039307</td><td>0.000171661376953125</td><td>0.45937418937683105</td><td>0.00032679736614227295</td></tr>\n",
       "<tr><td>6</td><td>0.20423692</td><td>0.12134144455194473</td><td>9.979307651519775e-05</td><td>0.3570292890071869</td><td>0.00016038119792938232</td><td>0.5689717531204224</td><td>0.00013899803161621094</td><td>0.7325602769851685</td><td>0.000255584716796875</td><td>0.8679747581481934</td><td>0.00044721364974975586</td></tr>\n",
       "<tr><td>7</td><td>0.3834088</td><td>0.021191809326410294</td><td>5.1087234169244766e-05</td><td>0.09915769845247269</td><td>8.166581392288208e-05</td><td>0.1856275498867035</td><td>0.0001128464937210083</td><td>0.2476775050163269</td><td>0.0002051517367362976</td><td>0.2941305935382843</td><td>0.00043092668056488037</td></tr>\n",
       "<tr><td>8</td><td>0.20591073</td><td>0.08669156581163406</td><td>7.050111889839172e-05</td><td>0.266326904296875</td><td>0.00012862682342529297</td><td>0.42045748233795166</td><td>9.907782077789307e-05</td><td>0.5465704202651978</td><td>0.00019297003746032715</td><td>0.6540212035179138</td><td>0.0003103315830230713</td></tr>\n",
       "<tr><td>9</td><td>0.37091246</td><td>0.013950580731034279</td><td>4.738150164484978e-05</td><td>0.06670958548784256</td><td>6.747432053089142e-05</td><td>0.12281692028045654</td><td>8.425116539001465e-05</td><td>0.16656814515590668</td><td>0.00019210577011108398</td><td>0.20317348837852478</td><td>0.0004120245575904846</td></tr>\n",
       "<tr><td>10</td><td>0.2711041</td><td>0.054591067135334015</td><td>6.597116589546204e-05</td><td>0.1967543363571167</td><td>0.0001262575387954712</td><td>0.3385412395000458</td><td>0.00011681020259857178</td><td>0.43545442819595337</td><td>0.00023981928825378418</td><td>0.5474857091903687</td><td>0.00043129920959472656</td></tr>\n",
       "<tr><td>...</td><td>...</td><td>...</td><td>...</td><td>...</td><td>...</td><td>...</td><td>...</td><td>...</td><td>...</td><td>...</td><td>...</td></tr>\n",
       "<tr><td>43907</td><td>0.2045174</td><td>0.0021897137630730867</td><td>2.191972453147173e-05</td><td>0.003225141204893589</td><td>2.8612674213945866e-05</td><td>0.005750688724219799</td><td>4.372838884592056e-05</td><td>0.009402590803802013</td><td>9.222608059644699e-05</td><td>0.010213404893875122</td><td>0.00016243522986769676</td></tr>\n",
       "<tr><td>43908</td><td>0.31030592</td><td>0.0025898395106196404</td><td>4.0195416659116745e-05</td><td>0.0038701053708791733</td><td>4.827044904232025e-05</td><td>0.004085364751517773</td><td>0.00015009520575404167</td><td>0.005470386706292629</td><td>9.372644126415253e-05</td><td>0.004569635726511478</td><td>0.0001936254557222128</td></tr>\n",
       "<tr><td>43909</td><td>0.29426616</td><td>0.005260273348540068</td><td>3.379187546670437e-05</td><td>0.011095209047198296</td><td>3.3433083444833755e-05</td><td>0.017874248325824738</td><td>6.011873483657837e-05</td><td>0.024898625910282135</td><td>7.504690438508987e-05</td><td>0.027830740436911583</td><td>0.0001414511352777481</td></tr>\n",
       "<tr><td>43910</td><td>0.29039297</td><td>0.006524748168885708</td><td>3.543589264154434e-05</td><td>0.012952690944075584</td><td>4.1029881685972214e-05</td><td>0.019534744322299957</td><td>0.0001508425921201706</td><td>0.026051830500364304</td><td>8.366163820028305e-05</td><td>0.02659844234585762</td><td>0.00017392076551914215</td></tr>\n",
       "<tr><td>43911</td><td>0.339891</td><td>0.0032172331120818853</td><td>4.61735762655735e-05</td><td>0.007497526239603758</td><td>4.98197041451931e-05</td><td>0.009164818562567234</td><td>7.605645805597305e-05</td><td>0.0135570727288723</td><td>0.00015103071928024292</td><td>0.013613574206829071</td><td>0.00027635833248496056</td></tr>\n",
       "<tr><td>43912</td><td>0.3425563</td><td>0.004868370946496725</td><td>7.30960164219141e-05</td><td>0.011930855922400951</td><td>7.563037797808647e-05</td><td>0.016416499391198158</td><td>0.00010334514081478119</td><td>0.01890517957508564</td><td>0.00020975712686777115</td><td>0.021352123469114304</td><td>0.00037079304456710815</td></tr>\n",
       "<tr><td>43913</td><td>0.35338515</td><td>0.0028845067135989666</td><td>8.322729263454676e-05</td><td>0.008128480985760689</td><td>7.980549708008766e-05</td><td>0.022107403725385666</td><td>0.0001330878585577011</td><td>0.03903734311461449</td><td>0.00035519711673259735</td><td>0.04286821186542511</td><td>0.0007298197597265244</td></tr>\n",
       "<tr><td>43916</td><td>0.29747215</td><td>0.0022240430116653442</td><td>4.103791434317827e-05</td><td>0.004557710140943527</td><td>4.4773099943995476e-05</td><td>0.006639712490141392</td><td>0.00011419225484132767</td><td>0.008712937124073505</td><td>0.0002832612954080105</td><td>0.009420198388397694</td><td>0.0004487158730626106</td></tr>\n",
       "<tr><td>43917</td><td>0.2904142</td><td>0.0018284418620169163</td><td>3.324693534523249e-05</td><td>0.0027040960267186165</td><td>3.6822748370468616e-05</td><td>0.00459545711055398</td><td>5.102856084704399e-05</td><td>0.00683171721175313</td><td>0.00011518830433487892</td><td>0.0077256266959011555</td><td>0.00022446271032094955</td></tr>\n",
       "<tr><td>43918</td><td>0.2360254</td><td>0.005500693805515766</td><td>9.01359599083662e-05</td><td>0.008492530323565006</td><td>9.28640365600586e-05</td><td>0.020304236561059952</td><td>0.00014573149383068085</td><td>0.04004590958356857</td><td>0.0003445036709308624</td><td>0.049373384565114975</td><td>0.0006741061806678772</td></tr>\n",
       "</table></div>"
      ],
      "text/plain": [
       "<Table length=24929>\n",
       "  id   redshift  ...      subaru.hsc.y        subaru.hsc.y_err   \n",
       "int64  float32   ...        float64               float64        \n",
       "----- ---------- ... --------------------- ----------------------\n",
       "    0 0.21392463 ...   0.49881651997566223 0.00040158629417419434\n",
       "    2 0.37124884 ...    0.4216761291027069  0.0004247725009918213\n",
       "    3 0.32764107 ...    0.2580620050430298 0.00026123225688934326\n",
       "    4 0.21564895 ...    0.3668104410171509  0.0004046112298965454\n",
       "    5 0.24227172 ...   0.45937418937683105 0.00032679736614227295\n",
       "    6 0.20423692 ...    0.8679747581481934 0.00044721364974975586\n",
       "    7  0.3834088 ...    0.2941305935382843 0.00043092668056488037\n",
       "    8 0.20591073 ...    0.6540212035179138  0.0003103315830230713\n",
       "    9 0.37091246 ...   0.20317348837852478  0.0004120245575904846\n",
       "   10  0.2711041 ...    0.5474857091903687 0.00043129920959472656\n",
       "  ...        ... ...                   ...                    ...\n",
       "43907  0.2045174 ...  0.010213404893875122 0.00016243522986769676\n",
       "43908 0.31030592 ...  0.004569635726511478  0.0001936254557222128\n",
       "43909 0.29426616 ...  0.027830740436911583  0.0001414511352777481\n",
       "43910 0.29039297 ...   0.02659844234585762 0.00017392076551914215\n",
       "43911   0.339891 ...  0.013613574206829071 0.00027635833248496056\n",
       "43912  0.3425563 ...  0.021352123469114304 0.00037079304456710815\n",
       "43913 0.35338515 ...   0.04286821186542511  0.0007298197597265244\n",
       "43916 0.29747215 ...  0.009420198388397694  0.0004487158730626106\n",
       "43917  0.2904142 ... 0.0077256266959011555 0.00022446271032094955\n",
       "43918  0.2360254 ...  0.049373384565114975  0.0006741061806678772"
      ]
     },
     "execution_count": 33,
     "metadata": {},
     "output_type": "execute_result"
    }
   ],
   "source": [
    "spec[(spec['redshift']<=0.4)&(spec['redshift']>=0.2)]"
   ]
  },
  {
   "cell_type": "markdown",
   "id": "a3c8f614-3ca9-45b5-aa60-fd6321298f2f",
   "metadata": {},
   "source": [
    "# SED result"
   ]
  },
  {
   "cell_type": "code",
   "execution_count": 5,
   "id": "b5dd47da-eecd-4077-a137-a0be0b9dbe33",
   "metadata": {
    "execution": {
     "iopub.execute_input": "2022-06-05T16:54:36.943608Z",
     "iopub.status.busy": "2022-06-05T16:54:36.943227Z",
     "iopub.status.idle": "2022-06-05T16:54:37.511399Z",
     "shell.execute_reply": "2022-06-05T16:54:37.510779Z",
     "shell.execute_reply.started": "2022-06-05T16:54:36.943578Z"
    },
    "tags": []
   },
   "outputs": [],
   "source": [
    "out = Table.read(\"./SED/out/results.fits\")"
   ]
  },
  {
   "cell_type": "code",
   "execution_count": 6,
   "id": "95b3c254-638a-4e2f-82a2-da9a884a1f2f",
   "metadata": {
    "collapsed": true,
    "execution": {
     "iopub.execute_input": "2022-06-05T16:54:41.944462Z",
     "iopub.status.busy": "2022-06-05T16:54:41.944200Z",
     "iopub.status.idle": "2022-06-05T16:54:41.965218Z",
     "shell.execute_reply": "2022-06-05T16:54:41.964745Z",
     "shell.execute_reply.started": "2022-06-05T16:54:41.944434Z"
    },
    "jupyter": {
     "outputs_hidden": true
    },
    "tags": []
   },
   "outputs": [
    {
     "data": {
      "text/html": [
       "<div><i>Table length=43920</i>\n",
       "<table id=\"table46921610808384\" class=\"table-striped table-bordered table-condensed\">\n",
       "<thead><tr><th>id</th><th>bayes.param.restframe_Lnu(DECam.g)</th><th>bayes.param.restframe_Lnu(DECam.g)_err</th><th>bayes.param.restframe_Lnu(DECam.r)</th><th>bayes.param.restframe_Lnu(DECam.r)_err</th><th>bayes.param.restframe_Lnu(sdss.gp)</th><th>bayes.param.restframe_Lnu(sdss.gp)_err</th><th>bayes.param.restframe_Lnu(sdss.rp)</th><th>bayes.param.restframe_Lnu(sdss.rp)_err</th><th>bayes.param.restframe_Lnu(sdss.up)</th><th>bayes.param.restframe_Lnu(sdss.up)_err</th><th>bayes.param.restframe_Lnu(subaru.hsc.g)</th><th>bayes.param.restframe_Lnu(subaru.hsc.g)_err</th><th>bayes.param.restframe_Lnu(subaru.hsc.r)</th><th>bayes.param.restframe_Lnu(subaru.hsc.r)_err</th><th>bayes.stellar.m_star</th><th>bayes.stellar.m_star_err</th><th>bayes.subaru.hsc.g</th><th>bayes.subaru.hsc.g_err</th><th>bayes.subaru.hsc.r</th><th>bayes.subaru.hsc.r_err</th><th>best.chi_square</th><th>best.reduced_chi_square</th><th>best.attenuation.E_BVs.nebular.continuum_old</th><th>best.attenuation.E_BVs.nebular.continuum_young</th><th>best.attenuation.E_BVs.nebular.lines_old</th><th>best.attenuation.E_BVs.nebular.lines_young</th><th>best.attenuation.E_BVs.stellar.old</th><th>best.attenuation.E_BVs.stellar.young</th><th>best.attenuation.ebvs_old_factor</th><th>best.attenuation.powerlaw_slope</th><th>best.attenuation.subaru.hsc.g</th><th>best.attenuation.uv_bump_amplitude</th><th>best.attenuation.uv_bump_wavelength</th><th>best.attenuation.uv_bump_width</th><th>best.nebular.f_dust</th><th>best.nebular.f_esc</th><th>best.nebular.lines_width</th><th>best.nebular.logU</th><th>best.param.restframe_DECam.g-DECam.r</th><th>best.param.restframe_sdss.gp-sdss.rp</th><th>best.param.restframe_sdss.up-sdss.rp</th><th>best.param.restframe_subaru.hsc.g-subaru.hsc.r</th><th>best.sfh.age</th><th>best.sfh.age_burst</th><th>best.sfh.age_main</th><th>best.sfh.f_burst</th><th>best.sfh.tau_burst</th><th>best.sfh.tau_main</th><th>best.stellar.age_m_star</th><th>best.stellar.imf</th><th>best.stellar.metallicity</th><th>best.stellar.old_young_separation_age</th><th>best.universe.age</th><th>best.universe.luminosity_distance</th><th>best.universe.redshift</th><th>best.attenuation.nebular.continuum_old</th><th>best.attenuation.nebular.continuum_young</th><th>best.attenuation.nebular.lines_old</th><th>best.attenuation.nebular.lines_young</th><th>best.attenuation.stellar.old</th><th>best.attenuation.stellar.young</th><th>best.dust.luminosity</th><th>best.param.restframe_Lnu(DECam.g)</th><th>best.param.restframe_Lnu(DECam.r)</th><th>best.param.restframe_Lnu(sdss.gp)</th><th>best.param.restframe_Lnu(sdss.rp)</th><th>best.param.restframe_Lnu(sdss.up)</th><th>best.param.restframe_Lnu(subaru.hsc.g)</th><th>best.param.restframe_Lnu(subaru.hsc.r)</th><th>best.sfh.integrated</th><th>best.sfh.sfr</th><th>best.sfh.sfr100Myrs</th><th>best.sfh.sfr10Myrs</th><th>best.stellar.lum</th><th>best.stellar.lum_ly</th><th>best.stellar.lum_ly_old</th><th>best.stellar.lum_ly_young</th><th>best.stellar.lum_old</th><th>best.stellar.lum_young</th><th>best.stellar.m_gas</th><th>best.stellar.m_gas_old</th><th>best.stellar.m_gas_young</th><th>best.stellar.m_star</th><th>best.stellar.m_star_old</th><th>best.stellar.m_star_young</th><th>best.stellar.n_ly</th><th>best.stellar.n_ly_old</th><th>best.stellar.n_ly_young</th><th>best.subaru.hsc.g</th><th>best.subaru.hsc.r</th><th>best.subaru.hsc.i</th><th>best.subaru.hsc.z</th><th>best.subaru.hsc.y</th></tr></thead>\n",
       "<thead><tr><th></th><th>W</th><th>W</th><th>W</th><th>W</th><th>W</th><th>W</th><th>W</th><th>W</th><th>W</th><th>W</th><th>W</th><th>W</th><th>W</th><th>W</th><th>solMass</th><th>solMass</th><th>mJy</th><th>mJy</th><th>mJy</th><th>mJy</th><th></th><th></th><th>mag</th><th>mag</th><th>mag</th><th>mag</th><th>mag</th><th>mag</th><th></th><th></th><th>mag</th><th></th><th>nm</th><th>nm</th><th></th><th></th><th>km / s</th><th></th><th>mag</th><th>mag</th><th>mag</th><th>mag</th><th>Myr</th><th>Myr</th><th>Myr</th><th></th><th>Myr</th><th>Myr</th><th>Myr</th><th></th><th></th><th>Myr</th><th>Myr</th><th>m</th><th></th><th>mag</th><th>mag</th><th>mag</th><th>mag</th><th>mag</th><th>mag</th><th>W</th><th>W</th><th>W</th><th>W</th><th>W</th><th>W</th><th>W</th><th>W</th><th>solMass</th><th>solMass / yr</th><th>solMass / yr</th><th>solMass / yr</th><th>W</th><th>W</th><th>W</th><th>W</th><th>W</th><th>W</th><th>solMass</th><th>solMass</th><th>solMass</th><th>solMass</th><th>solMass</th><th>solMass</th><th>ph / s</th><th>ph / s</th><th>ph / s</th><th>mJy</th><th>mJy</th><th>mJy</th><th>mJy</th><th>mJy</th></tr></thead>\n",
       "<thead><tr><th>int64</th><th>float64</th><th>float64</th><th>float64</th><th>float64</th><th>float64</th><th>float64</th><th>float64</th><th>float64</th><th>float64</th><th>float64</th><th>float64</th><th>float64</th><th>float64</th><th>float64</th><th>float64</th><th>float64</th><th>float64</th><th>float64</th><th>float64</th><th>float64</th><th>float64</th><th>float64</th><th>float64</th><th>float64</th><th>float64</th><th>float64</th><th>float64</th><th>float64</th><th>float64</th><th>float64</th><th>float64</th><th>float64</th><th>float64</th><th>float64</th><th>float64</th><th>float64</th><th>float64</th><th>float64</th><th>float64</th><th>float64</th><th>float64</th><th>float64</th><th>float64</th><th>float64</th><th>float64</th><th>float64</th><th>float64</th><th>float64</th><th>float64</th><th>float64</th><th>float64</th><th>float64</th><th>float64</th><th>float64</th><th>float64</th><th>float64</th><th>float64</th><th>float64</th><th>float64</th><th>float64</th><th>float64</th><th>float64</th><th>float64</th><th>float64</th><th>float64</th><th>float64</th><th>float64</th><th>float64</th><th>float64</th><th>float64</th><th>float64</th><th>float64</th><th>float64</th><th>float64</th><th>float64</th><th>float64</th><th>float64</th><th>float64</th><th>float64</th><th>float64</th><th>float64</th><th>float64</th><th>float64</th><th>float64</th><th>float64</th><th>float64</th><th>float64</th><th>float64</th><th>float64</th><th>float64</th><th>float64</th><th>float64</th><th>float64</th></tr></thead>\n",
       "<tr><td>0</td><td>1.7710001664150777e+22</td><td>8.855000832075389e+20</td><td>3.6118404007528564e+22</td><td>1.8059202003764283e+21</td><td>1.6320254949649906e+22</td><td>8.160127474824953e+20</td><td>3.3807442462846155e+22</td><td>1.690372123142308e+21</td><td>3.5154067322885673e+21</td><td>4.145966944098673e+20</td><td>1.7431979274100785e+22</td><td>8.715989637050393e+20</td><td>3.40216258806286e+22</td><td>1.70108129403143e+21</td><td>89118564871.08296</td><td>26875402246.148808</td><td>0.066148048682239</td><td>0.005082214991468591</td><td>0.19836523236406503</td><td>0.005590509441126631</td><td>0.002972508960775965</td><td>0.0007431272401939912</td><td>0.099</td><td>0.3</td><td>0.099</td><td>0.3</td><td>0.099</td><td>0.3</td><td>0.33</td><td>0.0</td><td>0.45511333223608424</td><td>0.0</td><td>217.5</td><td>35.0</td><td>0.0</td><td>0.0</td><td>300.0</td><td>-3.0</td><td>0.7668003097899684</td><td>0.7799519205411015</td><td>2.383379603632595</td><td>0.7174546452630624</td><td>6000.0</td><td>5.0</td><td>6000.0</td><td>0.0</td><td>5.0</td><td>200.0</td><td>5599.223892016952</td><td>1.0</td><td>0.008</td><td>10.0</td><td>11179.844724577013</td><td>3.2567401699399267e+25</td><td>0.21392463147640228</td><td>1.1836485819601313e+34</td><td>4.197733097549625e+26</td><td>2.92085450216129e+34</td><td>9.602715553539755e+26</td><td>7.358965199469019e+36</td><td>5.653213721406432e+27</td><td>7.400010237343491e+36</td><td>1.7589811539519539e+22</td><td>3.5643579400517453e+22</td><td>1.6213048691190244e+22</td><td>3.325411966008799e+22</td><td>3.702487608902717e+21</td><td>1.7310276198490295e+22</td><td>3.351859882246827e+22</td><td>216185372405.6231</td><td>3.049180234866983e-09</td><td>3.910962747696142e-09</td><td>3.1165250475835588e-09</td><td>4.105618029091301e+37</td><td>1.278079240045815e+35</td><td>1.2780792206307514e+35</td><td>1.9415063653440873e+27</td><td>4.10561802827409e+37</td><td>8.172107509844219e+27</td><td>102979552232.87462</td><td>102979552232.87299</td><td>0.001629038061388756</td><td>113205820172.74843</td><td>113205820172.71887</td><td>0.029536212523157603</td><td>2.751932203683122e+52</td><td>2.751932147766745e+52</td><td>5.591637702883791e+44</td><td>0.06514186131250092</td><td>0.19515097393414116</td><td>0.3212573114382124</td><td>0.41661064441735224</td><td>0.4954565830017536</td></tr>\n",
       "<tr><td>1</td><td>4.353720690927026e+22</td><td>2.176860345463513e+21</td><td>8.65592954612752e+22</td><td>4.32796477306376e+21</td><td>4.0238149091876565e+22</td><td>2.0119074545938284e+21</td><td>8.12120229114425e+22</td><td>4.060601145572125e+21</td><td>8.902227375020831e+21</td><td>5.8615091025398936e+20</td><td>4.2887483965627016e+22</td><td>2.144374198281351e+21</td><td>8.171734282351772e+22</td><td>4.085867141175886e+21</td><td>194644190608.97467</td><td>71193486962.64827</td><td>0.012248614981710893</td><td>0.0008900873096541707</td><td>0.054407854281357707</td><td>0.0020393469769648424</td><td>0.1345818288022413</td><td>0.03364545720056032</td><td>0.23099999999999998</td><td>0.35</td><td>0.23099999999999998</td><td>0.35</td><td>0.23099999999999998</td><td>0.35</td><td>0.66</td><td>0.0</td><td>1.0728256244405823</td><td>0.0</td><td>217.5</td><td>35.0</td><td>0.0</td><td>0.0</td><td>300.0</td><td>-3.0</td><td>0.7702282642244341</td><td>0.7734425694394853</td><td>2.4058073850840187</td><td>0.7163595130840482</td><td>2000.0</td><td>5.0</td><td>2000.0</td><td>0.0</td><td>5.0</td><td>251.0</td><td>1493.8887758064027</td><td>1.0</td><td>0.02</td><td>10.0</td><td>9078.19326805849</td><td>7.704131923492064e+25</td><td>0.44864487648010254</td><td>3.2687646782717377e+34</td><td>3.4298130029317574e+35</td><td>7.410571739270823e+34</td><td>7.629798321931378e+35</td><td>5.764114761185123e+37</td><td>5.901392993832059e+36</td><td>6.475529510234502e+37</td><td>4.306424756810002e+22</td><td>8.754032793271892e+22</td><td>3.991003703998037e+22</td><td>8.136903371344723e+22</td><td>8.87434287898274e+21</td><td>4.241958475771095e+22</td><td>8.205597650502352e+22</td><td>285742505835.139</td><td>3.162354883191222</td><td>3.774841694108932</td><td>3.212471520473292</td><td>1.571163277821967e+38</td><td>1.7682929463026478e+36</td><td>2.38536585355088e+35</td><td>1.5297563609475597e+36</td><td>1.4920094092162619e+38</td><td>7.915386860570516e+36</td><td>117896507502.9504</td><td>117894588751.74515</td><td>1918751.2052432403</td><td>167845998322.5803</td><td>167815792368.189</td><td>30205954.391271334</td><td>5.137906022907705e+53</td><td>5.053046256106727e+52</td><td>4.632601397297033e+53</td><td>0.012244069344217267</td><td>0.055259118956847215</td><td>0.11145830608653817</td><td>0.1560995567942874</td><td>0.1882575242712946</td></tr>\n",
       "<tr><td>2</td><td>6.2295347810357324e+22</td><td>3.1147673905178665e+21</td><td>1.2150470790714676e+23</td><td>6.075235395357339e+21</td><td>5.7714334619003764e+22</td><td>2.8857167309501885e+21</td><td>1.1417326750569947e+23</td><td>5.708663375284974e+21</td><td>1.307778500003183e+22</td><td>9.509217803480541e+20</td><td>6.140213808534341e+22</td><td>3.070106904267171e+21</td><td>1.1487595848494452e+23</td><td>5.743797924247227e+21</td><td>253711709205.9622</td><td>90766228028.86</td><td>0.03553183249615458</td><td>0.0027373118625246343</td><td>0.15044302415238003</td><td>0.004774947683215592</td><td>0.024388669927534374</td><td>0.0060971674818835935</td><td>0.33</td><td>0.5</td><td>0.33</td><td>0.5</td><td>0.33</td><td>0.5</td><td>0.66</td><td>0.0</td><td>1.5277819171925882</td><td>0.0</td><td>217.5</td><td>35.0</td><td>0.0</td><td>0.0</td><td>300.0</td><td>-3.0</td><td>0.7186070103378117</td><td>0.7120676640469612</td><td>2.390121999567044</td><td>0.6637134907531189</td><td>1000.0</td><td>5.0</td><td>1000.0</td><td>0.0</td><td>5.0</td><td>31.6</td><td>936.6046509262005</td><td>1.0</td><td>0.008</td><td>10.0</td><td>9702.947365123284</td><td>6.150280106011204e+25</td><td>0.37124884128570557</td><td>6.63508694457561e+34</td><td>1.0381641931672147e+27</td><td>1.5099515876737189e+35</td><td>2.32614798116745e+27</td><td>1.376041770736643e+38</td><td>1.3945413884017681e+28</td><td>1.3782152311918714e+38</td><td>6.228386091103006e+22</td><td>1.207308700295225e+23</td><td>5.80642877828029e+22</td><td>1.1187580388538845e+23</td><td>1.2379051483516008e+22</td><td>6.143206183598947e+22</td><td>1.1320887848444017e+23</td><td>344411566598.02734</td><td>6.4202586967761425e-09</td><td>4.2007782663101164e-08</td><td>7.398033005479325e-09</td><td>2.607692686934504e+38</td><td>4.059369999318877e+35</td><td>4.0593699565249684e+35</td><td>4.2793908752378475e+27</td><td>2.6076926867470764e+38</td><td>1.8742772989376983e+28</td><td>135390946871.58293</td><td>135390946871.57884</td><td>0.004098543409129868</td><td>209020619726.44443</td><td>209020619726.37454</td><td>0.06988178649061835</td><td>8.597044702187718e+52</td><td>8.59704457886395e+52</td><td>1.2332376912524341e+45</td><td>0.035462445770611924</td><td>0.15139869812444642</td><td>0.26734499457288063</td><td>0.35314393478839967</td><td>0.42378912300224075</td></tr>\n",
       "<tr><td>3</td><td>2.5850916587213794e+22</td><td>1.2925458293606897e+21</td><td>5.304705332511674e+22</td><td>2.652352666255837e+21</td><td>2.3802040443386567e+22</td><td>1.1901020221693284e+21</td><td>4.962144640928688e+22</td><td>2.481072320464344e+21</td><td>5.035899709695848e+21</td><td>4.116678666840943e+20</td><td>2.5440401694790674e+22</td><td>1.2720200847395337e+21</td><td>4.994400792568594e+22</td><td>2.497200396284297e+21</td><td>132346056647.74738</td><td>43361397221.29949</td><td>0.022001747701289855</td><td>0.001661452161500469</td><td>0.08778609112837506</td><td>0.0025649281735746054</td><td>0.008014593626079619</td><td>0.0020036484065199048</td><td>0.33</td><td>0.5</td><td>0.33</td><td>0.5</td><td>0.33</td><td>0.5</td><td>0.66</td><td>0.0</td><td>1.524853232351274</td><td>0.0</td><td>217.5</td><td>35.0</td><td>0.0</td><td>0.0</td><td>300.0</td><td>-3.0</td><td>0.772054034605769</td><td>0.7675737117330279</td><td>2.572037217703919</td><td>0.7144743453549809</td><td>1000.0</td><td>5.0</td><td>1000.0</td><td>0.0</td><td>5.0</td><td>50.1</td><td>899.3222274689432</td><td>1.0</td><td>0.02</td><td>10.0</td><td>10082.799771350179</td><td>5.31095201844715e+25</td><td>0.3276410698890686</td><td>1.819450038736303e+34</td><td>1.7404165203411918e+31</td><td>4.055531793310664e+34</td><td>3.8467068232458023e+31</td><td>5.742902134285656e+37</td><td>2.990589046712804e+32</td><td>5.748812609131514e+37</td><td>2.600374838611693e+22</td><td>5.294897641794118e+22</td><td>2.4097129164879727e+22</td><td>4.8864649755760695e+22</td><td>4.5727757412609944e+21</td><td>2.5612024606463156e+22</td><td>4.945766955306531e+22</td><td>167789224568.0204</td><td>0.0001461452018434518</td><td>0.0004309592515384622</td><td>0.0001593947332151912</td><td>1.1537870479385979e+38</td><td>1.2290011495513284e+35</td><td>1.2282770675407469e+35</td><td>7.2408201058148115e+31</td><td>1.1537832073519457e+38</td><td>3.840586652253061e+32</td><td>64476797053.30096</td><td>64476796954.95779</td><td>98.34316298352414</td><td>103312427514.7189</td><td>103312426019.1152</td><td>1495.6036957620815</td><td>2.497873292711685e+52</td><td>2.4956826923339126e+52</td><td>2.1906003777719246e+49</td><td>0.022008603883925046</td><td>0.08963541761556115</td><td>0.1612028595542336</td><td>0.21630704850962756</td><td>0.25798775437982396</td></tr>\n",
       "<tr><td>4</td><td>1.266651835027295e+22</td><td>6.333259175136475e+20</td><td>2.669766525177525e+22</td><td>1.3348832625887625e+21</td><td>1.1627920199468207e+22</td><td>5.8139600997341037e+20</td><td>2.490241893965257e+22</td><td>1.2451209469826284e+21</td><td>2.3883660311461815e+21</td><td>2.8375496596563146e+20</td><td>1.2454875058408155e+22</td><td>6.227437529204077e+20</td><td>2.507150208677443e+22</td><td>1.2535751043387215e+21</td><td>72960725387.19011</td><td>21567077114.32327</td><td>0.04273098560669469</td><td>0.0033893697840369696</td><td>0.13728070858700134</td><td>0.003975403771598949</td><td>0.01849979250912849</td><td>0.004624948127282123</td><td>0.198</td><td>0.3</td><td>0.198</td><td>0.3</td><td>0.198</td><td>0.3</td><td>0.66</td><td>0.0</td><td>0.9218097709833412</td><td>0.0</td><td>217.5</td><td>35.0</td><td>0.0</td><td>0.0</td><td>300.0</td><td>-3.0</td><td>0.8415089048891894</td><td>0.8515351256651394</td><td>2.4861945140072454</td><td>0.7859436586900215</td><td>4500.0</td><td>5.0</td><td>4500.0</td><td>0.0</td><td>5.0</td><td>631.0</td><td>3240.1147467100823</td><td>1.0</td><td>0.02</td><td>10.0</td><td>11161.964330261631</td><td>3.2863472060667816e+25</td><td>0.21564894914627075</td><td>1.143077131648698e+34</td><td>1.4120351187968346e+35</td><td>2.6153420399521745e+34</td><td>3.15927027098181e+35</td><td>1.4427047308966414e+37</td><td>2.4594708344572912e+36</td><td>1.7381232874117579e+37</td><td>1.228162373921216e+22</td><td>2.6659951200390275e+22</td><td>1.1282750842105598e+22</td><td>2.471889472768446e+22</td><td>2.503521021086802e+21</td><td>1.2069307730598432e+22</td><td>2.489200182165074e+22</td><td>149682882057.77762</td><td>1.363217240666977</td><td>1.4593344398655064</td><td>1.3716107645569378</td><td>4.754102137637558e+37</td><td>7.441360883216433e+35</td><td>8.682448196100475e+34</td><td>6.5731160636063856e+35</td><td>4.415118613866078e+37</td><td>3.389835237714791e+36</td><td>66843867406.71293</td><td>66843051875.408875</td><td>815531.3040538391</td><td>82839014646.95874</td><td>82826114074.72292</td><td>12900572.235820103</td><td>2.179581583209704e+53</td><td>1.8876133304559044e+52</td><td>1.990820250164113e+53</td><td>0.044080531237325346</td><td>0.1340717103887016</td><td>0.23561268688969086</td><td>0.3091774642393488</td><td>0.3683526418441397</td></tr>\n",
       "<tr><td>5</td><td>2.0479768900256894e+22</td><td>1.0239884450128447e+21</td><td>4.263726470264155e+22</td><td>2.131863235132078e+21</td><td>1.882442220133886e+22</td><td>9.412211100669431e+20</td><td>3.9826560851345595e+22</td><td>1.9913280425672798e+21</td><td>3.9257446066164114e+21</td><td>4.253994915372488e+20</td><td>2.0145037694820137e+22</td><td>1.0072518847410069e+21</td><td>4.009023078832515e+22</td><td>2.0045115394162575e+21</td><td>112792685178.30495</td><td>33846703864.648434</td><td>0.04947120267388416</td><td>0.003841324575893424</td><td>0.1655354181669206</td><td>0.0047650233689076425</td><td>0.48934492502549437</td><td>0.12233623125637359</td><td>0.11549999999999999</td><td>0.35</td><td>0.11549999999999999</td><td>0.35</td><td>0.11549999999999999</td><td>0.35</td><td>0.33</td><td>0.0</td><td>0.5307234288888845</td><td>0.0</td><td>217.5</td><td>35.0</td><td>0.0</td><td>0.0</td><td>300.0</td><td>-3.0</td><td>0.7933094935314795</td><td>0.8060205226763284</td><td>2.4407341580280733</td><td>0.7419158153458633</td><td>6000.0</td><td>5.0</td><td>6000.0</td><td>0.0</td><td>5.0</td><td>10.0</td><td>5979.980883511763</td><td>1.0</td><td>0.008</td><td>10.0</td><td>10890.984061247202</td><td>3.749690041179599e+25</td><td>0.24227172136306763</td><td>2.0944920350398554e+34</td><td>8.514816814997526e-219</td><td>5.117653731566082e+34</td><td>1.9320591949532116e-218</td><td>1.046649179488631e+37</td><td>1.3687523732342077e-217</td><td>1.0538613252552369e+37</td><td>2.025724100463602e+22</td><td>4.206337273363555e+22</td><td>1.8620579564204367e+22</td><td>3.912023034548704e+22</td><td>4.1314998383448403e+21</td><td>1.9918975038927835e+22</td><td>3.944875609564211e+22</td><td>281315659716.5763</td><td>4.947376460399265e-254</td><td>1.0206493155453385e-250</td><td>8.075864092972416e-254</td><td>5.1712261103166475e+37</td><td>2.0293894300571857e+35</td><td>2.0293894300571857e+35</td><td>3.7617074261121194e-218</td><td>5.1712261103166475e+37</td><td>1.8556116011918714e-217</td><td>134620518221.82469</td><td>134620518221.82469</td><td>5.139054044148419e-248</td><td>146695141494.75162</td><td>146695141494.75162</td><td>7.561958512321903e-247</td><td>4.399675959788024e+52</td><td>4.399675959788024e+52</td><td>1.0862509849335508e-200</td><td>0.04938637757550133</td><td>0.16273672211418663</td><td>0.2792503039543704</td><td>0.36435334973472244</td><td>0.44415707405643035</td></tr>\n",
       "<tr><td>6</td><td>2.8061563952842372e+22</td><td>1.4030781976421186e+21</td><td>5.6899970138081675e+22</td><td>2.844998506904084e+21</td><td>2.5874157259567254e+22</td><td>1.2937078629783629e+21</td><td>5.330597337726474e+22</td><td>2.665298668863237e+21</td><td>5.607629637873983e+21</td><td>6.768206435054902e+20</td><td>2.7625817584850243e+22</td><td>1.381290879242512e+21</td><td>5.363432375703323e+22</td><td>2.6817161878516615e+21</td><td>137795993023.702</td><td>41485675443.62615</td><td>0.12211981121365294</td><td>0.009238247844492009</td><td>0.3534912347575616</td><td>0.009771171641927659</td><td>0.03984102643324484</td><td>0.00996025660831121</td><td>0.099</td><td>0.3</td><td>0.099</td><td>0.3</td><td>0.099</td><td>0.3</td><td>0.33</td><td>0.0</td><td>0.45516797519506713</td><td>0.0</td><td>217.5</td><td>35.0</td><td>0.0</td><td>0.0</td><td>300.0</td><td>-3.0</td><td>0.7722024062386128</td><td>0.7908121975405722</td><td>2.448482922939459</td><td>0.7253368541626475</td><td>3000.0</td><td>5.0</td><td>3000.0</td><td>0.0</td><td>5.0</td><td>126.0</td><td>2747.1927897326746</td><td>1.0</td><td>0.02</td><td>10.0</td><td>11281.061990082828</td><td>3.0913241107021843e+25</td><td>0.2042369246482849</td><td>1.297658921468724e+34</td><td>2.1249280690007583e+29</td><td>3.0993626226695045e+34</td><td>4.7542883225801606e+29</td><td>1.185593445402713e+37</td><td>3.745975103596707e+30</td><td>1.1899909103365257e+37</td><td>2.8024319960213617e+22</td><td>5.707107397603516e+22</td><td>2.5806694990388604e+22</td><td>5.346348539934097e+22</td><td>5.60614206184731e+21</td><td>2.758191962818567e+22</td><td>5.379714523658688e+22</td><td>233747710364.0167</td><td>2.0327641624907604e-06</td><td>3.03282671125307e-06</td><td>2.104014383011898e-06</td><td>6.835447817016397e+37</td><td>1.486750181538526e+35</td><td>1.4867402859579756e+35</td><td>9.895580550394846e+29</td><td>6.835447301650443e+37</td><td>5.153659533967993e+30</td><td>103375313991.31335</td><td>103375313990.04562</td><td>1.2677351756953608</td><td>130372396372.70316</td><td>130372396352.93074</td><td>19.77240237206916</td><td>3.187675071646408e+52</td><td>3.187645112406913e+52</td><td>2.995923949478981e+47</td><td>0.1186052299703108</td><td>0.35051101728352957</td><td>0.5743032099752149</td><td>0.731450674202625</td><td>0.8537559826582857</td></tr>\n",
       "<tr><td>7</td><td>4.498405263484049e+22</td><td>2.2492026317420246e+21</td><td>9.156220723624674e+22</td><td>4.578110361812337e+21</td><td>4.145526933742724e+22</td><td>2.072763466871362e+21</td><td>8.573777524311808e+22</td><td>4.2868887621559045e+21</td><td>8.822296882423389e+21</td><td>6.188888477443416e+20</td><td>4.4281221722360255e+22</td><td>2.2140610861180128e+21</td><td>8.62818417986958e+22</td><td>4.3140920899347903e+21</td><td>221109181014.789</td><td>75847170618.88513</td><td>0.021470671623412565</td><td>0.0016056849283613735</td><td>0.097502204523483</td><td>0.0029865436268086023</td><td>0.031728396209920455</td><td>0.007932099052480114</td><td>0.198</td><td>0.3</td><td>0.198</td><td>0.3</td><td>0.198</td><td>0.3</td><td>0.66</td><td>0.0</td><td>0.9165114554187304</td><td>0.0</td><td>217.5</td><td>35.0</td><td>0.0</td><td>0.0</td><td>300.0</td><td>-3.0</td><td>0.7766058567681697</td><td>0.7868962755724507</td><td>2.5121327874663435</td><td>0.7260229358735784</td><td>1400.0</td><td>5.0</td><td>1400.0</td><td>0.0</td><td>5.0</td><td>158.0</td><td>1081.2447884746318</td><td>1.0</td><td>0.05</td><td>10.0</td><td>9600.722397017627</td><td>6.389093980459899e+25</td><td>0.3834088146686554</td><td>2.142897498312804e+34</td><td>1.3355832331516272e+35</td><td>4.887955078260565e+34</td><td>2.9525228223507236e+35</td><td>4.75564947771433e+37</td><td>3.741874607685978e+36</td><td>5.179748851614524e+37</td><td>4.507702092244884e+22</td><td>9.21716897047386e+22</td><td>4.168708170825863e+22</td><td>8.60518088355676e+22</td><td>8.509555767341929e+21</td><td>4.440235561013894e+22</td><td>8.665930167289325e+22</td><td>241744148246.1069</td><td>1.9366017596311544</td><td>2.5881579498597524</td><td>1.9863957236696974</td><td>1.559651446226927e+38</td><td>8.206915105564326e+35</td><td>1.828118767869749e+35</td><td>6.3787963376945765e+35</td><td>1.5108044448028082e+38</td><td>4.8847001424118914e+36</td><td>96353123288.8953</td><td>96351575048.79155</td><td>1548240.103751234</td><td>145391024960.28748</td><td>145372709240.0786</td><td>18315720.208867528</td><td>2.398251378381311e+53</td><td>3.788667559875484e+52</td><td>2.019384622393763e+53</td><td>0.020990796741358397</td><td>0.0976341215642891</td><td>0.18389014355438044</td><td>0.25006776472398023</td><td>0.29079056848558604</td></tr>\n",
       "<tr><td>8</td><td>2.1571085003311095e+22</td><td>1.0785542501655548e+21</td><td>4.3824455050920334e+22</td><td>2.1912227525460167e+21</td><td>1.988472894690808e+22</td><td>9.942364473454041e+20</td><td>4.104522265151599e+22</td><td>2.0522611325757995e+21</td><td>4.2972084966486033e+21</td><td>5.0007407338623055e+20</td><td>2.123475879240121e+22</td><td>1.0617379396200606e+21</td><td>4.130081273218728e+22</td><td>2.065040636609364e+21</td><td>106975436650.90077</td><td>32251095234.52596</td><td>0.08737942266855113</td><td>0.006634073823322146</td><td>0.2613937760450763</td><td>0.007280398507281459</td><td>0.10083925758938782</td><td>0.025209814397346954</td><td>0.099</td><td>0.3</td><td>0.099</td><td>0.3</td><td>0.099</td><td>0.3</td><td>0.33</td><td>0.0</td><td>0.4551576366264429</td><td>0.0</td><td>217.5</td><td>35.0</td><td>0.0</td><td>0.0</td><td>300.0</td><td>-3.0</td><td>0.763806536798175</td><td>0.7768707745743535</td><td>2.375995540852858</td><td>0.714645193939233</td><td>6000.0</td><td>5.0</td><td>6000.0</td><td>0.0</td><td>5.0</td><td>251.0</td><td>5496.7212594187295</td><td>1.0</td><td>0.008</td><td>10.0</td><td>11263.481378871631</td><td>3.1197914238971e+25</td><td>0.20591072738170624</td><td>1.34395648357608e+34</td><td>1.4187482733590196e+29</td><td>3.3164415567172715e+34</td><td>3.245522236536448e+29</td><td>8.922452013520543e+36</td><td>1.9070513447269151e+30</td><td>8.969058367401872e+36</td><td>2.1406775368104242e+22</td><td>4.325874009702488e+22</td><td>1.9738662917647043e+22</td><td>4.03706777398775e+22</td><td>4.5255130754990914e+21</td><td>2.106883276985519e+22</td><td>4.069101785993628e+22</td><td>259973799324.45972</td><td>1.032405790721471e-06</td><td>1.2546604067254742e-06</td><td>1.0503565410944805e-06</td><td>4.962209540834983e+37</td><td>1.453809817896955e+35</td><td>1.4538032558518018e+35</td><td>6.562045153114191e+29</td><td>4.962209265046191e+37</td><td>2.7578879187957055e+30</td><td>123700831119.0672</td><td>123700831118.51947</td><td>0.5477368230141396</td><td>136272968205.39249</td><td>136272968195.43666</td><td>9.955828626652341</td><td>3.1246600367860704e+52</td><td>3.124641138189729e+52</td><td>1.8898596342026694e+47</td><td>0.08970526571504378</td><td>0.2615920602397906</td><td>0.4266141121992254</td><td>0.5527470189572458</td><td>0.657121573750425</td></tr>\n",
       "<tr><td>...</td><td>...</td><td>...</td><td>...</td><td>...</td><td>...</td><td>...</td><td>...</td><td>...</td><td>...</td><td>...</td><td>...</td><td>...</td><td>...</td><td>...</td><td>...</td><td>...</td><td>...</td><td>...</td><td>...</td><td>...</td><td>...</td><td>...</td><td>...</td><td>...</td><td>...</td><td>...</td><td>...</td><td>...</td><td>...</td><td>...</td><td>...</td><td>...</td><td>...</td><td>...</td><td>...</td><td>...</td><td>...</td><td>...</td><td>...</td><td>...</td><td>...</td><td>...</td><td>...</td><td>...</td><td>...</td><td>...</td><td>...</td><td>...</td><td>...</td><td>...</td><td>...</td><td>...</td><td>...</td><td>...</td><td>...</td><td>...</td><td>...</td><td>...</td><td>...</td><td>...</td><td>...</td><td>...</td><td>...</td><td>...</td><td>...</td><td>...</td><td>...</td><td>...</td><td>...</td><td>...</td><td>...</td><td>...</td><td>...</td><td>...</td><td>...</td><td>...</td><td>...</td><td>...</td><td>...</td><td>...</td><td>...</td><td>...</td><td>...</td><td>...</td><td>...</td><td>...</td><td>...</td><td>...</td><td>...</td><td>...</td><td>...</td><td>...</td><td>...</td></tr>\n",
       "<tr><td>43910</td><td>2.8477469267067556e+21</td><td>1.4238734633533779e+20</td><td>4.6026739242963194e+21</td><td>2.30133696214816e+20</td><td>2.735232448281075e+21</td><td>1.3676162241405377e+20</td><td>4.4242898198447674e+21</td><td>2.212144909922384e+20</td><td>1.0073397137301837e+21</td><td>1.3086411709123497e+20</td><td>2.8264674038359015e+21</td><td>1.4132337019179508e+20</td><td>4.3945636617337616e+21</td><td>2.197281830866881e+20</td><td>4726918842.105699</td><td>1511812980.7470622</td><td>0.006345043162884476</td><td>0.0005706126248652513</td><td>0.01382412839331242</td><td>0.0005546666038431786</td><td>0.2910809566116292</td><td>0.0727702391529073</td><td>0.33</td><td>0.5</td><td>0.33</td><td>0.5</td><td>0.33</td><td>0.5</td><td>0.66</td><td>0.0</td><td>1.7047271068863492</td><td>0.0</td><td>217.5</td><td>35.0</td><td>0.0</td><td>0.0</td><td>300.0</td><td>-3.0</td><td>0.6044077332658822</td><td>0.6003757815261405</td><td>1.5983338819133146</td><td>0.5508466171104012</td><td>1400.0</td><td>5.0</td><td>1400.0</td><td>0.0</td><td>5.0</td><td>2510.0</td><td>487.5675966546263</td><td>1.0</td><td>0.02</td><td>10.0</td><td>10424.473086198816</td><td>4.615997734209792e+25</td><td>0.2903929650783539</td><td>3.06046917285479e+33</td><td>7.26380857485293e+35</td><td>6.821748203418881e+33</td><td>1.6054629268952483e+36</td><td>1.0682503233966666e+37</td><td>1.2015474107008667e+37</td><td>2.5039703342732153e+37</td><td>2.7342666441911734e+21</td><td>4.770940032059556e+21</td><td>2.6376337644772335e+21</td><td>4.5852688635340747e+21</td><td>1.0520375796223318e+21</td><td>2.7136128380658673e+21</td><td>4.5069893523987355e+21</td><td>5336284751.970626</td><td>6.2758305719297045</td><td>6.173238141253534</td><td>6.266858529723337</td><td>3.040689911679456e+37</td><td>3.0305747988014713e+36</td><td>1.2238083189047954e+34</td><td>3.0183367156124235e+36</td><td>1.4881700334288841e+37</td><td>1.552519878250572e+37</td><td>1802735419.9448576</td><td>1799022704.9169264</td><td>3712715.027931214</td><td>3533549313.2553</td><td>3474593461.7564626</td><td>58955851.49883753</td><td>9.184677020313265e+53</td><td>4.197949810383428e+51</td><td>9.14269752220943e+53</td><td>0.006442834567447792</td><td>0.013266640020571067</td><td>0.020137259390751568</td><td>0.02539379214017669</td><td>0.026040100335173712</td></tr>\n",
       "<tr><td>43911</td><td>2.210707283888466e+21</td><td>1.1053536419442331e+20</td><td>3.400975507627334e+21</td><td>1.700487753813667e+20</td><td>2.135694494803353e+21</td><td>1.0678472474016765e+20</td><td>3.286893335419405e+21</td><td>1.6434466677097025e+20</td><td>8.456563571549194e+20</td><td>7.983514574875096e+19</td><td>2.1968872418109667e+21</td><td>1.0984436209054835e+20</td><td>3.2602862897963766e+21</td><td>1.6301431448981884e+20</td><td>3058692976.2296753</td><td>970259498.5931555</td><td>0.0032437199488348535</td><td>0.0002631816889014169</td><td>0.007317964078337243</td><td>0.0003045241026931476</td><td>0.4050046552663056</td><td>0.1012511638165764</td><td>0.23099999999999998</td><td>0.35</td><td>0.23099999999999998</td><td>0.35</td><td>0.23099999999999998</td><td>0.35</td><td>0.66</td><td>0.0</td><td>1.1693427028481949</td><td>0.0</td><td>217.5</td><td>35.0</td><td>0.0</td><td>0.0</td><td>300.0</td><td>-3.0</td><td>0.4901765173690219</td><td>0.4817592108516911</td><td>1.4658865008048698</td><td>0.44438711507285034</td><td>4500.0</td><td>5.0</td><td>4500.0</td><td>0.0</td><td>5.0</td><td>7940.0</td><td>1557.7315219178877</td><td>1.0</td><td>0.008</td><td>10.0</td><td>9973.954309140452</td><td>5.543981145863052e+25</td><td>0.3398909866809845</td><td>2.3122112631173229e+33</td><td>2.8604244058010893e+35</td><td>5.378437775150869e+33</td><td>6.490461738369389e+35</td><td>4.438264965265239e+36</td><td>3.749896648874811e+36</td><td>9.130940877595368e+36</td><td>2.193535351055242e+21</td><td>3.445206396264318e+21</td><td>2.121457156929758e+21</td><td>3.306267209251389e+21</td><td>8.570049878848366e+20</td><td>2.1784761756239355e+21</td><td>3.2802554125753443e+21</td><td>5504871446.422155</td><td>2.0071865603982135</td><td>1.9974829852739546</td><td>2.0063153536691263</td><td>1.2774723971418202e+37</td><td>1.2778308875912839e+36</td><td>1.0667289711301156e+34</td><td>1.2671635978799828e+36</td><td>7.47990947322672e+36</td><td>5.294814498191482e+36</td><td>2229259656.8568096</td><td>2228222935.650005</td><td>1036721.2068047985</td><td>3275611789.654321</td><td>3256585357.2354536</td><td>19026432.4188677</td><td>3.6828838674599237e+53</td><td>3.378736234585033e+51</td><td>3.6490965051140735e+53</td><td>0.0032223438346462483</td><td>0.007261674529918003</td><td>0.009563310848893357</td><td>0.013750013055563353</td><td>0.013177603174988024</td></tr>\n",
       "<tr><td>43912</td><td>3.7258907963877056e+21</td><td>1.887400569785843e+20</td><td>5.409228551874432e+21</td><td>2.7046142759372164e+20</td><td>3.5926090068014185e+21</td><td>1.9028215873754762e+20</td><td>5.224858564475154e+21</td><td>2.612429282237577e+20</td><td>1.2216963865358015e+21</td><td>1.3500490763303405e+20</td><td>3.70443956363982e+21</td><td>1.915364474127844e+20</td><td>5.225293320306036e+21</td><td>2.612646660153018e+20</td><td>4344951987.847413</td><td>1349779692.6227803</td><td>0.004771667727742606</td><td>0.0004240662317287667</td><td>0.012105862071582135</td><td>0.000665889130006383</td><td>0.038274473144121884</td><td>0.009568618286030471</td><td>0.33</td><td>0.5</td><td>0.33</td><td>0.5</td><td>0.33</td><td>0.5</td><td>0.66</td><td>0.0</td><td>1.5466602935458293</td><td>0.0</td><td>217.5</td><td>35.0</td><td>0.0</td><td>0.0</td><td>300.0</td><td>-3.0</td><td>0.39793142851522795</td><td>0.38808593316561774</td><td>1.5603063948535179</td><td>0.36302591227054715</td><td>200.0</td><td>5.0</td><td>200.0</td><td>0.0</td><td>5.0</td><td>20.0</td><td>159.5789619674632</td><td>1.0</td><td>0.008</td><td>10.0</td><td>9950.496724357708</td><td>5.594970700268433e+25</td><td>0.34255629777908325</td><td>1.0087937591930049e+33</td><td>1.9171120359387655e+34</td><td>2.2957193342795679e+33</td><td>4.295550088725225e+34</td><td>1.363541893250159e+37</td><td>2.6500782970920125e+35</td><td>1.3965857896550904e+37</td><td>3.710191125177464e+21</td><td>5.352650087083449e+21</td><td>3.5789820368327934e+21</td><td>5.116746390904558e+21</td><td>1.2158257412853022e+21</td><td>3.6867847130960736e+21</td><td>5.150603788693342e+21</td><td>4859225071.565211</td><td>0.11546289360058516</td><td>1.9822743442872215</td><td>0.14248735401844131</td><td>1.9353894831594453e+37</td><td>8.495303319664496e+34</td><td>5.957097952323415e+33</td><td>7.899593524432154e+34</td><td>1.8999870838011233e+37</td><td>3.5402399358321826e+35</td><td>1466790817.2772713</td><td>1466709432.3614697</td><td>81384.91580166176</td><td>3392434254.2799788</td><td>3391090765.6635585</td><td>1343488.6164201626</td><td>2.4080507408017805e+52</td><td>1.3070883608770438e+51</td><td>2.277341904714076e+52</td><td>0.004825767359314189</td><td>0.011995563718459269</td><td>0.016098517772337534</td><td>0.01891336813786348</td><td>0.021377900721559748</td></tr>\n",
       "<tr><td>43913</td><td>3.8862363283088956e+21</td><td>1.943118164154448e+20</td><td>9.383205184514342e+21</td><td>4.691602592257171e+20</td><td>3.5232870465913335e+21</td><td>1.7616435232956668e+20</td><td>8.564279697902876e+21</td><td>4.2821398489514384e+20</td><td>6.642616014461813e+20</td><td>7.051687308066503e+19</td><td>3.804241559748514e+21</td><td>1.902120779874257e+20</td><td>8.658661520449109e+21</td><td>4.3293307602245544e+20</td><td>42150929393.964</td><td>12279060102.76842</td><td>0.002251072680709775</td><td>0.0002483763847491763</td><td>0.010435539922254345</td><td>0.0002732002533579</td><td>10.991477770836557</td><td>2.7478694427091392</td><td>0.33</td><td>0.5</td><td>0.33</td><td>0.5</td><td>0.33</td><td>0.5</td><td>0.66</td><td>0.0</td><td>1.5737300047209943</td><td>0.0</td><td>217.5</td><td>35.0</td><td>0.0</td><td>0.0</td><td>300.0</td><td>-3.0</td><td>0.9878022116367814</td><td>0.9916413709983591</td><td>2.652643550472411</td><td>0.9200120861196394</td><td>6000.0</td><td>5.0</td><td>6000.0</td><td>0.0</td><td>5.0</td><td>1260.0</td><td>3677.1431979693834</td><td>1.0</td><td>0.05</td><td>10.0</td><td>9856.006704975569</td><td>5.803181788283118e+25</td><td>0.35338515043258667</td><td>8.496335760245403e+33</td><td>2.2916572562787585e+35</td><td>1.8675537328509637e+34</td><td>4.961112801222415e+35</td><td>1.2379254626921403e+37</td><td>6.106615134744146e+36</td><td>1.923831864050442e+37</td><td>3.7732550267893223e+21</td><td>9.372102807326396e+21</td><td>3.435786889092613e+21</td><td>8.564120443992106e+21</td><td>7.440897915072732e+20</td><td>3.6927433495509263e+21</td><td>8.616957662035416e+21</td><td>87951875560.09203</td><td>2.990917074837358</td><td>3.0855546321906946</td><td>2.999370947226823</td><td>3.49730824989567e+37</td><td>1.0353997210181653e+36</td><td>5.700332161981372e+34</td><td>9.783963993983514e+35</td><td>2.7532482894209205e+37</td><td>7.440599604747496e+36</td><td>39692851108.8149</td><td>39690534840.80318</td><td>2316268.0117231593</td><td>48259024455.92582</td><td>48231347009.81658</td><td>27677446.10923614</td><td>3.224816687521779e+53</td><td>1.2502998375742812e+52</td><td>3.099786703764351e+53</td><td>0.002530742172219177</td><td>0.010180780508263272</td><td>0.021105459715601467</td><td>0.03288510481305875</td><td>0.038941087423041296</td></tr>\n",
       "<tr><td>43914</td><td>3.410736157561609e+21</td><td>1.7053680787808046e+20</td><td>6.890327338651148e+21</td><td>4.217099269438253e+20</td><td>3.187005192736845e+21</td><td>1.5935025963684223e+20</td><td>6.460891935793301e+21</td><td>3.453473438340529e+20</td><td>9.212151322588057e+20</td><td>1.1045111490119393e+20</td><td>3.362936312295018e+21</td><td>1.6814681561475092e+20</td><td>6.459580901635846e+21</td><td>3.627868959425398e+20</td><td>18320812981.642853</td><td>5409404992.636015</td><td>0.001490647245008574</td><td>0.00021121860568901673</td><td>0.004896600298848362</td><td>0.00016937861433602693</td><td>29.2017067395539</td><td>7.300426684888475</td><td>0.23099999999999998</td><td>0.35</td><td>0.23099999999999998</td><td>0.35</td><td>0.23099999999999998</td><td>0.35</td><td>0.66</td><td>0.0</td><td>1.1240430735814493</td><td>0.0</td><td>217.5</td><td>35.0</td><td>0.0</td><td>0.0</td><td>300.0</td><td>-3.0</td><td>0.7963059809984729</td><td>0.8006786829218668</td><td>2.1377455246595547</td><td>0.7396994765554377</td><td>6000.0</td><td>5.0</td><td>6000.0</td><td>0.0</td><td>5.0</td><td>1580.0</td><td>3337.4972008838463</td><td>1.0</td><td>0.05</td><td>10.0</td><td>9136.076102904412</td><td>7.55024815336625e+25</td><td>0.4411509931087494</td><td>3.555819311487125e+33</td><td>1.695434887022635e+35</td><td>8.010096993014557e+33</td><td>3.714991924336511e+35</td><td>5.904720358117282e+36</td><td>4.6436535280892425e+36</td><td>1.1100982483646942e+37</td><td>3.3831509575397577e+21</td><td>7.044396116960159e+21</td><td>3.154975409058615e+21</td><td>6.595799595581647e+21</td><td>9.208083351306887e+20</td><td>3.3331491259736984e+21</td><td>6.587710947830614e+21</td><td>39242954391.76664</td><td>2.371553347409061</td><td>2.4270266663860185</td><td>2.3765352207425963</td><td>2.0904511356482212e+37</td><td>8.021816826992748e+35</td><td>2.6564395251755e+34</td><td>7.756172874475197e+35</td><td>1.50073327426074e+37</td><td>5.897178613874814e+36</td><td>17475533666.869953</td><td>17473698934.390163</td><td>1834732.4797889525</td><td>21767420728.58021</td><td>21745490105.16911</td><td>21930623.411103114</td><td>2.516282608906543e+53</td><td>5.888603009451632e+51</td><td>2.4573965788120266e+53</td><td>0.0015073246542872433</td><td>0.004864698805405745</td><td>0.008989743801317084</td><td>0.012669051401172814</td><td>0.016608192872491566</td></tr>\n",
       "<tr><td>43915</td><td>2.087105876721698e+21</td><td>1.043552938360849e+20</td><td>3.0773884558016187e+21</td><td>1.5386942279008095e+20</td><td>2.0404165222839463e+21</td><td>1.0202082611419732e+20</td><td>3.0144521919015787e+21</td><td>1.5072260959507893e+20</td><td>9.823067640950673e+20</td><td>8.30787675647334e+19</td><td>2.0781072846046558e+21</td><td>1.039053642302328e+20</td><td>2.9561259942755623e+21</td><td>1.4780629971377812e+20</td><td>1881356076.695596</td><td>878298129.3893898</td><td>0.0021023563980878913</td><td>0.00018548874191063263</td><td>0.004325863773207485</td><td>0.00018122591921536084</td><td>0.3223911974987962</td><td>0.08059779937469905</td><td>0.33</td><td>0.5</td><td>0.33</td><td>0.5</td><td>0.33</td><td>0.5</td><td>0.66</td><td>0.0</td><td>1.8161777285067022</td><td>0.0</td><td>217.5</td><td>35.0</td><td>0.0</td><td>0.0</td><td>300.0</td><td>-3.0</td><td>0.4573904216217274</td><td>0.44832129840746493</td><td>1.158500370196642</td><td>0.4054300731068392</td><td>100.0</td><td>5.0</td><td>100.0</td><td>0.0</td><td>5.0</td><td>39.8</td><td>47.36730508639071</td><td>1.0</td><td>0.008</td><td>10.0</td><td>9379.341541132984</td><td>6.92636733986022e+25</td><td>0.4103996753692627</td><td>7.454914967694556e+33</td><td>1.0584277016699075e+36</td><td>1.6965204503681077e+34</td><td>2.3715511261662266e+36</td><td>1.2171166310320206e+37</td><td>1.377886878223648e+37</td><td>2.9404434039864193e+37</td><td>2.0411651942080132e+21</td><td>3.110529487862593e+21</td><td>2.013000658359242e+21</td><td>3.042092646458255e+21</td><td>1.0465796554786555e+21</td><td>2.03259050018668e+21</td><td>2.9527176543090676e+21</td><td>923956168.2376935</td><td>6.735378005120657</td><td>9.239561682376937</td><td>7.201781165548449</td><td>3.316952729205106e+37</td><td>4.388255261307801e+36</td><td>2.365275301231554e+34</td><td>4.3646025082954856e+36</td><td>1.4524480832990511e+37</td><td>1.864504645906055e+37</td><td>195602092.28952786</td><td>191752923.81423175</td><td>3849168.475296138</td><td>728354076.0635272</td><td>660185432.7679771</td><td>68168643.29555012</td><td>1.2669680518546058e+54</td><td>9.659291105643453e+51</td><td>1.2573087607489623e+54</td><td>0.002202792087483848</td><td>0.004103847028819744</td><td>0.005446729839755439</td><td>0.0077514752698736875</td><td>0.007825106642973782</td></tr>\n",
       "<tr><td>43916</td><td>1.0468517120457284e+21</td><td>5.234258560228642e+19</td><td>1.6660280342836035e+21</td><td>8.330140171418018e+19</td><td>1.0066117156097024e+21</td><td>5.033058578048513e+19</td><td>1.6038774122661104e+21</td><td>8.019387061330552e+19</td><td>3.753302661947862e+20</td><td>4.64202105127651e+19</td><td>1.0393487829204618e+21</td><td>5.196743914602309e+19</td><td>1.5933193145047187e+21</td><td>7.966596572523594e+19</td><td>1678257594.8951166</td><td>543629609.7289106</td><td>0.0021731251306425555</td><td>0.00019445808730914266</td><td>0.004773848750304027</td><td>0.0001993054778416165</td><td>0.11155240096433217</td><td>0.02788810024108304</td><td>0.165</td><td>0.25</td><td>0.165</td><td>0.25</td><td>0.165</td><td>0.25</td><td>0.66</td><td>0.0</td><td>0.8331350638066414</td><td>0.0</td><td>217.5</td><td>35.0</td><td>0.0</td><td>0.0</td><td>300.0</td><td>-3.0</td><td>0.5671760822665471</td><td>0.5732238713381197</td><td>1.5337460629423814</td><td>0.5234437727839912</td><td>6000.0</td><td>5.0</td><td>6000.0</td><td>0.0</td><td>5.0</td><td>3980.0</td><td>2441.262084542967</td><td>1.0</td><td>0.05</td><td>10.0</td><td>10358.268634154128</td><td>4.746473946666448e+25</td><td>0.29747214913368225</td><td>4.14312579845803e+32</td><td>5.309290970615846e+34</td><td>9.595728968116278e+32</td><td>1.1887485150747644e+35</td><td>1.1001891331569903e+36</td><td>1.5013570167783717e+36</td><td>2.774887796625654e+36</td><td>1.0014278083254908e+21</td><td>1.6884572915954837e+21</td><td>9.612387777803117e+20</td><td>1.629749404771069e+21</td><td>3.9684636433601115e+20</td><td>9.934834961509629e+20</td><td>1.6089337657983317e+21</td><td>4366019462.344205</td><td>0.823704916454682</td><td>0.8271243495918903</td><td>0.824018116779224</td><td>4.9355398415809114e+36</td><td>2.726921544338954e+35</td><td>3.4403251041848736e+33</td><td>2.692518293297105e+35</td><td>2.889439167646168e+36</td><td>2.046100673934744e+36</td><td>1858491013.6654956</td><td>1857855307.9917028</td><td>635705.6737927133</td><td>2507528449.9559703</td><td>2499923973.1847167</td><td>7604476.771253625</td><td>8.611265251321506e+52</td><td>8.002698663393977e+50</td><td>8.531238264687567e+52</td><td>0.0022367359425812965</td><td>0.004570717998091248</td><td>0.006834738436879407</td><td>0.00864533110845157</td><td>0.009175489140767004</td></tr>\n",
       "<tr><td>43917</td><td>6.732275378198219e+20</td><td>3.36613768909911e+19</td><td>1.1504483159736488e+21</td><td>5.752241579868244e+19</td><td>6.468801938656842e+20</td><td>3.2344009693284213e+19</td><td>1.1065071778261403e+21</td><td>5.532535889130702e+19</td><td>2.5448926595196928e+20</td><td>3.721121853934185e+19</td><td>6.678286561424394e+20</td><td>3.3391432807121973e+19</td><td>1.0918743776295405e+21</td><td>5.459371888147703e+19</td><td>1279339656.0358586</td><td>523169839.3189702</td><td>0.0015616174314406494</td><td>0.00016668812292265734</td><td>0.0032650954853150563</td><td>9.519230167508371e-05</td><td>9.056052306090896</td><td>2.264013076522724</td><td>0.33</td><td>0.5</td><td>0.33</td><td>0.5</td><td>0.33</td><td>0.5</td><td>0.66</td><td>0.0</td><td>1.70295051276785</td><td>0.0</td><td>217.5</td><td>35.0</td><td>0.0</td><td>0.0</td><td>300.0</td><td>-3.0</td><td>0.6135822234273072</td><td>0.6184324728750118</td><td>1.654048107225563</td><td>0.5639523302485995</td><td>2000.0</td><td>5.0</td><td>2000.0</td><td>0.0</td><td>5.0</td><td>12600.0</td><td>650.9436606124335</td><td>1.0</td><td>0.05</td><td>10.0</td><td>10424.273457816853</td><td>4.616388232645364e+25</td><td>0.2904142141342163</td><td>4.2104859635597966e+32</td><td>1.3262365728066107e+35</td><td>9.254941189065678e+32</td><td>2.8711140030967492e+35</td><td>2.3433896283076235e+36</td><td>3.528015099553352e+36</td><td>6.292486328166573e+36</td><td>6.63879596496577e+20</td><td>1.1682134732160779e+21</td><td>6.3733971411529e+20</td><td>1.1265331352841602e+21</td><td>2.4554139986110467e+20</td><td>6.582088606361472e+20</td><td>1.1064827723318905e+21</td><td>1828485935.3103924</td><td>1.7331260139452387</td><td>1.6968097484920146</td><td>1.7298416972229556</td><td>7.936190817056375e+36</td><td>5.6837657949328256e+35</td><td>2.2470924153461592e+33</td><td>5.661294870779363e+35</td><td>3.63705230363225e+36</td><td>4.2991385134241255e+36</td><td>657076795.3588827</td><td>655743534.6973382</td><td>1333260.661544489</td><td>1171409142.6330495</td><td>1155443983.640826</td><td>15965158.992223527</td><td>1.8001163568993044e+53</td><td>6.196047407848148e+50</td><td>1.7939203094914563e+53</td><td>0.0015426198549905149</td><td>0.0032106922629109164</td><td>0.005009363572633939</td><td>0.006086561642552431</td><td>0.006827455462612233</td></tr>\n",
       "<tr><td>43918</td><td>1.3465217030119888e+21</td><td>6.732608515059945e+19</td><td>3.1795454909512255e+21</td><td>1.5897727454756127e+20</td><td>1.229298291706647e+21</td><td>6.146491458533235e+19</td><td>2.9100927501001456e+21</td><td>1.4550463750500729e+20</td><td>2.6150205830932745e+20</td><td>5.71574061615125e+19</td><td>1.3197707730855922e+21</td><td>6.5988538654279614e+19</td><td>2.935521467798156e+21</td><td>1.467760733899078e+20</td><td>13337951895.328245</td><td>4395313536.846547</td><td>0.003477425132027355</td><td>0.0005669560460996829</td><td>0.01150500430030138</td><td>0.00029165516164841496</td><td>33.73026997026471</td><td>8.432567492566177</td><td>0.33</td><td>0.5</td><td>0.33</td><td>0.5</td><td>0.33</td><td>0.5</td><td>0.66</td><td>0.0</td><td>1.5961218713679661</td><td>0.0</td><td>217.5</td><td>35.0</td><td>0.0</td><td>0.0</td><td>300.0</td><td>-3.0</td><td>0.9167273081530419</td><td>0.9177381995229815</td><td>2.4327206942712216</td><td>0.8514343860219991</td><td>6000.0</td><td>5.0</td><td>6000.0</td><td>0.0</td><td>5.0</td><td>1580.0</td><td>3337.4972008838463</td><td>1.0</td><td>0.05</td><td>10.0</td><td>10953.714602707834</td><td>3.6399383195143497e+25</td><td>0.2360253930091858</td><td>2.4837784697522224e+33</td><td>1.1276548505793395e+35</td><td>5.459517942387245e+33</td><td>2.4412127508343246e+35</td><td>4.470489287604561e+36</td><td>3.0040925026971876e+36</td><td>7.839411846855256e+36</td><td>1.3648169549638263e+21</td><td>3.1751579348100464e+21</td><td>1.2563554705787786e+21</td><td>2.9255519536308436e+21</td><td>3.1125729384395715e+20</td><td>1.3393877270407928e+21</td><td>2.934134848770938e+21</td><td>24358177189.067142</td><td>1.4720277192390732</td><td>1.5064601149098198</td><td>1.4751199775889492</td><td>1.2975470363130757e+37</td><td>4.9791571169556214e+35</td><td>1.6488571171349383e+34</td><td>4.814271405242127e+35</td><td>9.315080267157827e+36</td><td>3.6603900959729316e+36</td><td>10847097323.040352</td><td>10845958501.065048</td><td>1138821.9753050036</td><td>13511079868.31316</td><td>13497467488.226242</td><td>13612380.086918974</td><td>1.5618614499211373e+53</td><td>3.6550672018310214e+51</td><td>1.5253107779028272e+53</td><td>0.004019099062870579</td><td>0.011614350665074992</td><td>0.02231886262142349</td><td>0.029716819733589146</td><td>0.037543405669773336</td></tr>\n",
       "<tr><td>43919</td><td>1.8141341982712935e+21</td><td>9.070670991356468e+19</td><td>3.218758796510748e+21</td><td>1.8059224142976454e+20</td><td>1.7240212116140371e+21</td><td>8.620106058070186e+19</td><td>3.0733030580000333e+21</td><td>1.5366515290000166e+20</td><td>6.163505628079772e+20</td><td>5.8440696406446604e+19</td><td>1.7961620554841868e+21</td><td>8.980810277420935e+19</td><td>3.054402080561718e+21</td><td>1.5931310155228185e+20</td><td>5460648143.768482</td><td>1652623138.662395</td><td>0.0009193982179819825</td><td>0.00010484385854938454</td><td>0.0024600128554969217</td><td>7.597318641850719e-05</td><td>14.011592311760877</td><td>3.5028980779402192</td><td>0.0495</td><td>0.075</td><td>0.0495</td><td>0.075</td><td>0.0495</td><td>0.075</td><td>0.66</td><td>0.0</td><td>0.2397586408256222</td><td>0.0</td><td>217.5</td><td>35.0</td><td>0.0</td><td>0.0</td><td>300.0</td><td>-3.0</td><td>0.6437886734315678</td><td>0.6565839222334799</td><td>1.7954754975093468</td><td>0.6011398032762745</td><td>6000.0</td><td>5.0</td><td>6000.0</td><td>0.0</td><td>5.0</td><td>1260.0</td><td>3677.1431979693834</td><td>1.0</td><td>0.05</td><td>10.0</td><td>9002.514243189904</td><td>7.90860078535869e+25</td><td>0.4585490822792053</td><td>4.026560827240166e+32</td><td>1.383990167008458e+34</td><td>1.0104766227213052e+33</td><td>3.3985134410194925e+34</td><td>4.305614404928945e+35</td><td>4.3599875625965054e+35</td><td>9.157983655382698e+35</td><td>1.8207690458591703e+21</td><td>3.294354498752353e+21</td><td>1.7192528041615268e+21</td><td>3.1475548739037545e+21</td><td>6.022587400567219e+20</td><td>1.8010006763345058e+21</td><td>3.1330678292073247e+21</td><td>12555132802.328428</td><td>0.4269534996974363</td><td>0.440463013770815</td><td>0.4281602902276866</td><td>4.9924085471171747e+36</td><td>1.4780334038465238e+35</td><td>8.137225824384134e+33</td><td>1.3966611456026823e+35</td><td>3.9302627364490355e+36</td><td>1.062145810668139e+36</td><td>5666155653.880622</td><td>5665825006.554368</td><td>330647.326254006</td><td>6888977149.111408</td><td>6885026192.871784</td><td>3950956.2396236453</td><td>4.603426762325025e+52</td><td>1.7848033829306484e+51</td><td>4.4249464240319604e+52</td><td>0.0009369208680038722</td><td>0.0024211255227039523</td><td>0.004170836013053856</td><td>0.005509137071675846</td><td>0.0068453908919457</td></tr>\n",
       "</table></div>"
      ],
      "text/plain": [
       "<Table length=43920>\n",
       "  id  bayes.param.restframe_Lnu(DECam.g) ...  best.subaru.hsc.y  \n",
       "                      W                  ...         mJy         \n",
       "int64              float64               ...       float64       \n",
       "----- ---------------------------------- ... --------------------\n",
       "    0             1.7710001664150777e+22 ...   0.4954565830017536\n",
       "    1              4.353720690927026e+22 ...   0.1882575242712946\n",
       "    2             6.2295347810357324e+22 ...  0.42378912300224075\n",
       "    3             2.5850916587213794e+22 ...  0.25798775437982396\n",
       "    4              1.266651835027295e+22 ...   0.3683526418441397\n",
       "    5             2.0479768900256894e+22 ...  0.44415707405643035\n",
       "    6             2.8061563952842372e+22 ...   0.8537559826582857\n",
       "    7              4.498405263484049e+22 ...  0.29079056848558604\n",
       "    8             2.1571085003311095e+22 ...    0.657121573750425\n",
       "  ...                                ... ...                  ...\n",
       "43910             2.8477469267067556e+21 ... 0.026040100335173712\n",
       "43911              2.210707283888466e+21 ... 0.013177603174988024\n",
       "43912             3.7258907963877056e+21 ... 0.021377900721559748\n",
       "43913             3.8862363283088956e+21 ... 0.038941087423041296\n",
       "43914              3.410736157561609e+21 ... 0.016608192872491566\n",
       "43915              2.087105876721698e+21 ... 0.007825106642973782\n",
       "43916             1.0468517120457284e+21 ... 0.009175489140767004\n",
       "43917              6.732275378198219e+20 ... 0.006827455462612233\n",
       "43918             1.3465217030119888e+21 ... 0.037543405669773336\n",
       "43919             1.8141341982712935e+21 ...   0.0068453908919457"
      ]
     },
     "execution_count": 6,
     "metadata": {},
     "output_type": "execute_result"
    }
   ],
   "source": [
    "out    #43920"
   ]
  },
  {
   "cell_type": "code",
   "execution_count": 100,
   "id": "87a11f9a-7979-44c0-b29c-8e14d67b9221",
   "metadata": {
    "collapsed": true,
    "execution": {
     "iopub.execute_input": "2022-05-24T14:11:17.367786Z",
     "iopub.status.busy": "2022-05-24T14:11:17.367224Z",
     "iopub.status.idle": "2022-05-24T14:11:17.372182Z",
     "shell.execute_reply": "2022-05-24T14:11:17.371723Z",
     "shell.execute_reply.started": "2022-05-24T14:11:17.367755Z"
    },
    "jupyter": {
     "outputs_hidden": true
    },
    "tags": []
   },
   "outputs": [
    {
     "data": {
      "text/plain": [
       "<TableColumns names=('id','bayes.param.restframe_Lnu(DECam.g)','bayes.param.restframe_Lnu(DECam.g)_err','bayes.param.restframe_Lnu(DECam.r)','bayes.param.restframe_Lnu(DECam.r)_err','bayes.param.restframe_Lnu(sdss.gp)','bayes.param.restframe_Lnu(sdss.gp)_err','bayes.param.restframe_Lnu(sdss.rp)','bayes.param.restframe_Lnu(sdss.rp)_err','bayes.param.restframe_Lnu(sdss.up)','bayes.param.restframe_Lnu(sdss.up)_err','bayes.param.restframe_Lnu(subaru.hsc.g)','bayes.param.restframe_Lnu(subaru.hsc.g)_err','bayes.param.restframe_Lnu(subaru.hsc.r)','bayes.param.restframe_Lnu(subaru.hsc.r)_err','bayes.stellar.m_star','bayes.stellar.m_star_err','bayes.subaru.hsc.g','bayes.subaru.hsc.g_err','bayes.subaru.hsc.r','bayes.subaru.hsc.r_err','best.chi_square','best.reduced_chi_square','best.attenuation.E_BVs.nebular.continuum_old','best.attenuation.E_BVs.nebular.continuum_young','best.attenuation.E_BVs.nebular.lines_old','best.attenuation.E_BVs.nebular.lines_young','best.attenuation.E_BVs.stellar.old','best.attenuation.E_BVs.stellar.young','best.attenuation.ebvs_old_factor','best.attenuation.powerlaw_slope','best.attenuation.subaru.hsc.g','best.attenuation.uv_bump_amplitude','best.attenuation.uv_bump_wavelength','best.attenuation.uv_bump_width','best.nebular.f_dust','best.nebular.f_esc','best.nebular.lines_width','best.nebular.logU','best.param.restframe_DECam.g-DECam.r','best.param.restframe_sdss.gp-sdss.rp','best.param.restframe_sdss.up-sdss.rp','best.param.restframe_subaru.hsc.g-subaru.hsc.r','best.sfh.age','best.sfh.age_burst','best.sfh.age_main','best.sfh.f_burst','best.sfh.tau_burst','best.sfh.tau_main','best.stellar.age_m_star','best.stellar.imf','best.stellar.metallicity','best.stellar.old_young_separation_age','best.universe.age','best.universe.luminosity_distance','best.universe.redshift','best.attenuation.nebular.continuum_old','best.attenuation.nebular.continuum_young','best.attenuation.nebular.lines_old','best.attenuation.nebular.lines_young','best.attenuation.stellar.old','best.attenuation.stellar.young','best.dust.luminosity','best.param.restframe_Lnu(DECam.g)','best.param.restframe_Lnu(DECam.r)','best.param.restframe_Lnu(sdss.gp)','best.param.restframe_Lnu(sdss.rp)','best.param.restframe_Lnu(sdss.up)','best.param.restframe_Lnu(subaru.hsc.g)','best.param.restframe_Lnu(subaru.hsc.r)','best.sfh.integrated','best.sfh.sfr','best.sfh.sfr100Myrs','best.sfh.sfr10Myrs','best.stellar.lum','best.stellar.lum_ly','best.stellar.lum_ly_old','best.stellar.lum_ly_young','best.stellar.lum_old','best.stellar.lum_young','best.stellar.m_gas','best.stellar.m_gas_old','best.stellar.m_gas_young','best.stellar.m_star','best.stellar.m_star_old','best.stellar.m_star_young','best.stellar.n_ly','best.stellar.n_ly_old','best.stellar.n_ly_young','best.subaru.hsc.g','best.subaru.hsc.r','best.subaru.hsc.i','best.subaru.hsc.z','best.subaru.hsc.y')>"
      ]
     },
     "execution_count": 100,
     "metadata": {},
     "output_type": "execute_result"
    }
   ],
   "source": [
    "out.columns"
   ]
  },
  {
   "cell_type": "code",
   "execution_count": 8,
   "id": "28c9798a-6ccb-43d6-af2d-c9990af48c15",
   "metadata": {
    "execution": {
     "iopub.execute_input": "2022-06-05T16:54:56.942862Z",
     "iopub.status.busy": "2022-06-05T16:54:56.942722Z",
     "iopub.status.idle": "2022-06-05T16:54:57.002451Z",
     "shell.execute_reply": "2022-06-05T16:54:57.001877Z",
     "shell.execute_reply.started": "2022-06-05T16:54:56.942848Z"
    },
    "tags": []
   },
   "outputs": [],
   "source": [
    "All = hstack((out,match))"
   ]
  },
  {
   "cell_type": "code",
   "execution_count": 9,
   "id": "11bd0db3-4ff6-4447-bf21-4a7c45cc4c60",
   "metadata": {
    "execution": {
     "iopub.execute_input": "2022-06-05T16:54:57.003998Z",
     "iopub.status.busy": "2022-06-05T16:54:57.003610Z",
     "iopub.status.idle": "2022-06-05T16:55:01.247007Z",
     "shell.execute_reply": "2022-06-05T16:55:01.246389Z",
     "shell.execute_reply.started": "2022-06-05T16:54:57.003976Z"
    },
    "tags": []
   },
   "outputs": [],
   "source": [
    "# out_final = All['ra_2','dec_2','Z','best.stellar.m_star','skymap_id']\n",
    "out_final = All['ra_2','dec_2','Z','bayes.stellar.m_star','skymap_id']\n",
    "\n",
    "out_final['ra_2'].name = 'ra'\n",
    "out_final['dec_2'].name = 'dec'\n",
    "out_final['bayes.stellar.m_star'].name = 'mass'\n",
    "# out_final['best.stellar.m_star'].name = 'mass'\n",
    "\n",
    "\n",
    "out_final['mass'] = np.log10(out_final['mass'])"
   ]
  },
  {
   "cell_type": "code",
   "execution_count": 10,
   "id": "0935f4b3-7dc4-4014-aae0-306b1d29f715",
   "metadata": {
    "collapsed": true,
    "execution": {
     "iopub.execute_input": "2022-06-05T16:55:09.178416Z",
     "iopub.status.busy": "2022-06-05T16:55:09.178285Z",
     "iopub.status.idle": "2022-06-05T16:55:09.184653Z",
     "shell.execute_reply": "2022-06-05T16:55:09.184211Z",
     "shell.execute_reply.started": "2022-06-05T16:55:09.178402Z"
    },
    "jupyter": {
     "outputs_hidden": true
    },
    "tags": []
   },
   "outputs": [
    {
     "data": {
      "text/html": [
       "<div><i>Table length=43920</i>\n",
       "<table id=\"table46921610769408\" class=\"table-striped table-bordered table-condensed\">\n",
       "<thead><tr><th>ra</th><th>dec</th><th>Z</th><th>mass</th><th>skymap_id</th></tr></thead>\n",
       "<thead><tr><th></th><th></th><th></th><th>solMass</th><th></th></tr></thead>\n",
       "<thead><tr><th>float64</th><th>float64</th><th>float32</th><th>float64</th><th>int32</th></tr></thead>\n",
       "<tr><td>146.91945951679537</td><td>-0.9904975367316553</td><td>0.21392463</td><td>10.949968184185265</td><td>93250303</td></tr>\n",
       "<tr><td>146.76337052530354</td><td>-0.8104276854141249</td><td>0.44864488</td><td>11.289241446204112</td><td>93250304</td></tr>\n",
       "<tr><td>146.62280014534682</td><td>-0.9513623461346574</td><td>0.37124884</td><td>11.404340511077422</td><td>93250403</td></tr>\n",
       "<tr><td>146.9240620540112</td><td>-0.10518239313111284</td><td>0.32764107</td><td>11.121711005693</td><td>93250307</td></tr>\n",
       "<tr><td>147.02338806553786</td><td>-0.1601309593311747</td><td>0.21564895</td><td>10.863089143166958</td><td>93250207</td></tr>\n",
       "<tr><td>146.91082165689446</td><td>-0.07459577336616721</td><td>0.24227172</td><td>11.052280935731487</td><td>93250308</td></tr>\n",
       "<tr><td>147.11459717104816</td><td>-0.16522499096027118</td><td>0.20423692</td><td>11.139236588885128</td><td>93250207</td></tr>\n",
       "<tr><td>147.0897033749402</td><td>-0.2664923379423015</td><td>0.3834088</td><td>11.344606775963062</td><td>93250207</td></tr>\n",
       "<tr><td>146.31181115643838</td><td>-0.8132266995592302</td><td>0.20591073</td><td>11.029284067856972</td><td>93250604</td></tr>\n",
       "<tr><td>...</td><td>...</td><td>...</td><td>...</td><td>...</td></tr>\n",
       "<tr><td>36.64887379716554</td><td>-1.3985134302281983</td><td>0.29039297</td><td>9.674578145834069</td><td>92510600</td></tr>\n",
       "<tr><td>1.8537761722732016</td><td>-1.0345370069775042</td><td>0.339891</td><td>9.48553588580418</td><td>92270202</td></tr>\n",
       "<tr><td>2.294142563317414</td><td>-0.9139085176119026</td><td>0.3425563</td><td>9.637984981813883</td><td>92280803</td></tr>\n",
       "<tr><td>0.07499110816949772</td><td>1.4856329094129768</td><td>0.35338515</td><td>10.624807154909046</td><td>94690408</td></tr>\n",
       "<tr><td>1.3582948015428131</td><td>0.8501266785720831</td><td>0.441151</td><td>10.262944741471978</td><td>94700505</td></tr>\n",
       "<tr><td>1.7235475201168267</td><td>0.6996848165361539</td><td>0.41039968</td><td>9.274471000499268</td><td>94700304</td></tr>\n",
       "<tr><td>3.129231200805256</td><td>1.4631475732382997</td><td>0.29747215</td><td>9.224858621245652</td><td>94710308</td></tr>\n",
       "<tr><td>2.7469601747092653</td><td>1.4957434817942308</td><td>0.2904142</td><td>9.106985862038336</td><td>97140500</td></tr>\n",
       "<tr><td>1.9632600107692681</td><td>0.38900397870399567</td><td>0.2360254</td><td>10.12508914675851</td><td>94700102</td></tr>\n",
       "<tr><td>1.37518164011651</td><td>1.296089402620124</td><td>0.45854908</td><td>9.737244193722361</td><td>94700507</td></tr>\n",
       "</table></div>"
      ],
      "text/plain": [
       "<Table length=43920>\n",
       "         ra                 dec              Z             mass        skymap_id\n",
       "                                                         solMass                \n",
       "      float64             float64         float32        float64         int32  \n",
       "------------------- -------------------- ---------- ------------------ ---------\n",
       " 146.91945951679537  -0.9904975367316553 0.21392463 10.949968184185265  93250303\n",
       " 146.76337052530354  -0.8104276854141249 0.44864488 11.289241446204112  93250304\n",
       " 146.62280014534682  -0.9513623461346574 0.37124884 11.404340511077422  93250403\n",
       "  146.9240620540112 -0.10518239313111284 0.32764107    11.121711005693  93250307\n",
       " 147.02338806553786  -0.1601309593311747 0.21564895 10.863089143166958  93250207\n",
       " 146.91082165689446 -0.07459577336616721 0.24227172 11.052280935731487  93250308\n",
       " 147.11459717104816 -0.16522499096027118 0.20423692 11.139236588885128  93250207\n",
       "  147.0897033749402  -0.2664923379423015  0.3834088 11.344606775963062  93250207\n",
       " 146.31181115643838  -0.8132266995592302 0.20591073 11.029284067856972  93250604\n",
       "                ...                  ...        ...                ...       ...\n",
       "  36.64887379716554  -1.3985134302281983 0.29039297  9.674578145834069  92510600\n",
       " 1.8537761722732016  -1.0345370069775042   0.339891   9.48553588580418  92270202\n",
       "  2.294142563317414  -0.9139085176119026  0.3425563  9.637984981813883  92280803\n",
       "0.07499110816949772   1.4856329094129768 0.35338515 10.624807154909046  94690408\n",
       " 1.3582948015428131   0.8501266785720831   0.441151 10.262944741471978  94700505\n",
       " 1.7235475201168267   0.6996848165361539 0.41039968  9.274471000499268  94700304\n",
       "  3.129231200805256   1.4631475732382997 0.29747215  9.224858621245652  94710308\n",
       " 2.7469601747092653   1.4957434817942308  0.2904142  9.106985862038336  97140500\n",
       " 1.9632600107692681  0.38900397870399567  0.2360254  10.12508914675851  94700102\n",
       "   1.37518164011651    1.296089402620124 0.45854908  9.737244193722361  94700507"
      ]
     },
     "execution_count": 10,
     "metadata": {},
     "output_type": "execute_result"
    }
   ],
   "source": [
    "out_final    #43920"
   ]
  },
  {
   "cell_type": "code",
   "execution_count": 18,
   "id": "2b506fa9-a914-4eff-80f5-2b9d2b0a043a",
   "metadata": {
    "execution": {
     "iopub.execute_input": "2022-06-05T16:57:40.158877Z",
     "iopub.status.busy": "2022-06-05T16:57:40.158753Z",
     "iopub.status.idle": "2022-06-05T16:57:40.163667Z",
     "shell.execute_reply": "2022-06-05T16:57:40.163329Z",
     "shell.execute_reply.started": "2022-06-05T16:57:40.158862Z"
    },
    "tags": []
   },
   "outputs": [],
   "source": [
    "index = (out_final['mass']>=11.3)\n",
    "masscut = out_final[index]   #7204\n",
    "index = ((masscut['Z']>=0.2)&(masscut['Z']<=0.5))\n",
    "# index = ((masscut['Z']>=0.2)&(masscut['Z']<=0.4))\n",
    "zcut = masscut[index]    "
   ]
  },
  {
   "cell_type": "code",
   "execution_count": 19,
   "id": "d43bf4e2-ab9d-41d4-95a3-c587776d95a5",
   "metadata": {
    "execution": {
     "iopub.execute_input": "2022-06-05T16:57:42.944090Z",
     "iopub.status.busy": "2022-06-05T16:57:42.943842Z",
     "iopub.status.idle": "2022-06-05T16:57:42.948086Z",
     "shell.execute_reply": "2022-06-05T16:57:42.947700Z",
     "shell.execute_reply.started": "2022-06-05T16:57:42.944073Z"
    },
    "tags": []
   },
   "outputs": [
    {
     "data": {
      "text/plain": [
       "0.20005344"
      ]
     },
     "execution_count": 19,
     "metadata": {},
     "output_type": "execute_result"
    }
   ],
   "source": [
    "np.min(masscut['Z'])"
   ]
  },
  {
   "cell_type": "code",
   "execution_count": 20,
   "id": "a9554a41-d819-4812-8e10-3feabec19763",
   "metadata": {
    "execution": {
     "iopub.execute_input": "2022-06-05T16:57:43.160976Z",
     "iopub.status.busy": "2022-06-05T16:57:43.160851Z",
     "iopub.status.idle": "2022-06-05T16:57:46.400296Z",
     "shell.execute_reply": "2022-06-05T16:57:46.399966Z",
     "shell.execute_reply.started": "2022-06-05T16:57:43.160961Z"
    },
    "tags": []
   },
   "outputs": [
    {
     "data": {
      "text/plain": [
       "0.49990034"
      ]
     },
     "execution_count": 20,
     "metadata": {},
     "output_type": "execute_result"
    }
   ],
   "source": [
    "np.max(masscut['Z'])"
   ]
  },
  {
   "cell_type": "code",
   "execution_count": 21,
   "id": "7db4ec56-3ca7-4861-a002-536d9eaf6562",
   "metadata": {
    "collapsed": true,
    "execution": {
     "iopub.execute_input": "2022-06-05T16:57:50.953888Z",
     "iopub.status.busy": "2022-06-05T16:57:50.953768Z",
     "iopub.status.idle": "2022-06-05T16:57:51.223635Z",
     "shell.execute_reply": "2022-06-05T16:57:51.223301Z",
     "shell.execute_reply.started": "2022-06-05T16:57:50.953874Z"
    },
    "jupyter": {
     "outputs_hidden": true
    },
    "tags": []
   },
   "outputs": [
    {
     "data": {
      "text/html": [
       "<div><i>Table length=7204</i>\n",
       "<table id=\"table46921655491168\" class=\"table-striped table-bordered table-condensed\">\n",
       "<thead><tr><th>ra</th><th>dec</th><th>Z</th><th>mass</th><th>skymap_id</th></tr></thead>\n",
       "<thead><tr><th></th><th></th><th></th><th>solMass</th><th></th></tr></thead>\n",
       "<thead><tr><th>float64</th><th>float64</th><th>float32</th><th>float64</th><th>int32</th></tr></thead>\n",
       "<tr><td>146.62280014534682</td><td>-0.9513623461346574</td><td>0.37124884</td><td>11.404340511077422</td><td>93250403</td></tr>\n",
       "<tr><td>147.0897033749402</td><td>-0.2664923379423015</td><td>0.3834088</td><td>11.344606775963062</td><td>93250207</td></tr>\n",
       "<tr><td>146.1435840854538</td><td>-0.7416246447641355</td><td>0.20388976</td><td>11.459607260430733</td><td>93250704</td></tr>\n",
       "<tr><td>146.69354971525206</td><td>-0.38657089210627266</td><td>0.45933712</td><td>11.318750967765796</td><td>93250406</td></tr>\n",
       "<tr><td>145.81813010631708</td><td>-0.8789469627291188</td><td>0.20464495</td><td>11.341613829094785</td><td>93240103</td></tr>\n",
       "<tr><td>146.47703208990782</td><td>0.0773967893530347</td><td>0.4418353</td><td>11.476273249069413</td><td>95680500</td></tr>\n",
       "<tr><td>146.19245664184376</td><td>-0.5082879848299192</td><td>0.3693364</td><td>11.558564588991851</td><td>93250705</td></tr>\n",
       "<tr><td>145.6141873873411</td><td>-0.8657527522340117</td><td>0.3458382</td><td>11.315295826628244</td><td>93240203</td></tr>\n",
       "<tr><td>145.53588085225155</td><td>-1.0782443879694523</td><td>0.46091256</td><td>11.473457121991599</td><td>93240202</td></tr>\n",
       "<tr><td>...</td><td>...</td><td>...</td><td>...</td><td>...</td></tr>\n",
       "<tr><td>215.6356868275744</td><td>52.64699713417876</td><td>0.45072544</td><td>11.399245545566721</td><td>169730203</td></tr>\n",
       "<tr><td>215.31298515871254</td><td>52.86049659266345</td><td>0.38331303</td><td>11.35379385264913</td><td>169730304</td></tr>\n",
       "<tr><td>214.8353441577803</td><td>52.04604700154064</td><td>0.28718185</td><td>11.319333946672504</td><td>168220508</td></tr>\n",
       "<tr><td>214.9674511889136</td><td>52.926251816830636</td><td>0.46297017</td><td>11.400765212975829</td><td>169730405</td></tr>\n",
       "<tr><td>214.62256118037263</td><td>52.66254473138825</td><td>0.4671033</td><td>11.373026785472735</td><td>169730503</td></tr>\n",
       "<tr><td>213.43411637735275</td><td>52.19675741714892</td><td>0.48021072</td><td>11.404182471603491</td><td>169720101</td></tr>\n",
       "<tr><td>213.63442963136777</td><td>52.802708565782204</td><td>0.48155507</td><td>11.41239098323102</td><td>169720104</td></tr>\n",
       "<tr><td>213.6385856721541</td><td>53.19232131135985</td><td>0.45335513</td><td>11.433424286804016</td><td>169720106</td></tr>\n",
       "<tr><td>213.09161065215716</td><td>52.37931827201942</td><td>0.49854293</td><td>11.357383972589481</td><td>169720202</td></tr>\n",
       "<tr><td>226.0083911528456</td><td>44.40632970183079</td><td>0.3612479</td><td>11.552745384445968</td><td>160000307</td></tr>\n",
       "</table></div>"
      ],
      "text/plain": [
       "<Table length=7204>\n",
       "        ra                 dec              Z             mass        skymap_id\n",
       "                                                        solMass                \n",
       "     float64             float64         float32        float64         int32  \n",
       "------------------ -------------------- ---------- ------------------ ---------\n",
       "146.62280014534682  -0.9513623461346574 0.37124884 11.404340511077422  93250403\n",
       " 147.0897033749402  -0.2664923379423015  0.3834088 11.344606775963062  93250207\n",
       " 146.1435840854538  -0.7416246447641355 0.20388976 11.459607260430733  93250704\n",
       "146.69354971525206 -0.38657089210627266 0.45933712 11.318750967765796  93250406\n",
       "145.81813010631708  -0.8789469627291188 0.20464495 11.341613829094785  93240103\n",
       "146.47703208990782   0.0773967893530347  0.4418353 11.476273249069413  95680500\n",
       "146.19245664184376  -0.5082879848299192  0.3693364 11.558564588991851  93250705\n",
       " 145.6141873873411  -0.8657527522340117  0.3458382 11.315295826628244  93240203\n",
       "145.53588085225155  -1.0782443879694523 0.46091256 11.473457121991599  93240202\n",
       "               ...                  ...        ...                ...       ...\n",
       " 215.6356868275744    52.64699713417876 0.45072544 11.399245545566721 169730203\n",
       "215.31298515871254    52.86049659266345 0.38331303  11.35379385264913 169730304\n",
       " 214.8353441577803    52.04604700154064 0.28718185 11.319333946672504 168220508\n",
       " 214.9674511889136   52.926251816830636 0.46297017 11.400765212975829 169730405\n",
       "214.62256118037263    52.66254473138825  0.4671033 11.373026785472735 169730503\n",
       "213.43411637735275    52.19675741714892 0.48021072 11.404182471603491 169720101\n",
       "213.63442963136777   52.802708565782204 0.48155507  11.41239098323102 169720104\n",
       " 213.6385856721541    53.19232131135985 0.45335513 11.433424286804016 169720106\n",
       "213.09161065215716    52.37931827201942 0.49854293 11.357383972589481 169720202\n",
       " 226.0083911528456    44.40632970183079  0.3612479 11.552745384445968 160000307"
      ]
     },
     "execution_count": 21,
     "metadata": {},
     "output_type": "execute_result"
    }
   ],
   "source": [
    "zcut"
   ]
  },
  {
   "cell_type": "code",
   "execution_count": 15,
   "id": "bde44481-9a20-4132-9808-eb079d833b06",
   "metadata": {
    "execution": {
     "iopub.execute_input": "2022-06-05T16:57:00.946239Z",
     "iopub.status.busy": "2022-06-05T16:57:00.945969Z",
     "iopub.status.idle": "2022-06-05T16:57:01.678545Z",
     "shell.execute_reply": "2022-06-05T16:57:01.678182Z",
     "shell.execute_reply.started": "2022-06-05T16:57:00.946223Z"
    },
    "tags": []
   },
   "outputs": [
    {
     "data": {
      "text/plain": [
       "<matplotlib.collections.PathCollection at 0x2aaccc97d4c0>"
      ]
     },
     "execution_count": 15,
     "metadata": {},
     "output_type": "execute_result"
    },
    {
     "data": {
      "image/png": "[encoded data removed]",
      "text/plain": [
       "<Figure size 432x288 with 1 Axes>"
      ]
     },
     "metadata": {
      "needs_background": "light"
     },
     "output_type": "display_data"
    }
   ],
   "source": [
    "plt.scatter(masscut['ra'],masscut['dec'],s =0.1)"
   ]
  },
  {
   "cell_type": "markdown",
   "id": "94c64c3f-d2f2-411e-8110-b303c130a457",
   "metadata": {},
   "source": [
    "# select central"
   ]
  },
  {
   "cell_type": "code",
   "execution_count": 22,
   "id": "d489f785-567c-4f19-b26a-5a15f838d6a8",
   "metadata": {
    "execution": {
     "iopub.execute_input": "2022-06-05T16:57:58.944889Z",
     "iopub.status.busy": "2022-06-05T16:57:58.944656Z",
     "iopub.status.idle": "2022-06-05T16:57:58.949701Z",
     "shell.execute_reply": "2022-06-05T16:57:58.949354Z",
     "shell.execute_reply.started": "2022-06-05T16:57:58.944874Z"
    },
    "tags": []
   },
   "outputs": [],
   "source": [
    "def convert_sphere_to_cart(RA, DEC, comoving_distance):\n",
    "    coord = SkyCoord(ra=RA*u.degree,dec=DEC*u.degree,distance=comoving_distance*u.Mpc)\n",
    "    cart_coord = np.zeros((len(RA), 3))\n",
    "    cart_coord[:,0] = coord.cartesian.x.value\n",
    "    cart_coord[:,1] = coord.cartesian.y.value\n",
    "    cart_coord[:,2] = coord.cartesian.z.value\n",
    "    return(cart_coord)\n",
    "\n",
    "\n",
    "def find_central(i,index,mass,coord):\n",
    "    mass_t = mass[index]\n",
    "    s = coord[index]-coord[i]\n",
    "    l = (coord[index]+coord[i])/2\n",
    "    pi = np.abs(np.sum(s*l,axis=1))/np.sqrt(np.sum(l**2,axis=1))\n",
    "    s2 = np.sum(s**2,axis =1)\n",
    "    rp = np.sqrt(s2-pi**2)\n",
    "    mass_sat = mass_t[(rp<1.0)&(pi<15)]\n",
    "    if mass[i] >= np.max(mass_sat):\n",
    "        return True\n",
    "    else:\n",
    "        return False"
   ]
  },
  {
   "cell_type": "code",
   "execution_count": 23,
   "id": "fd68b0d4-fcf4-425d-babf-ec60160eb755",
   "metadata": {
    "execution": {
     "iopub.execute_input": "2022-06-05T16:58:00.943692Z",
     "iopub.status.busy": "2022-06-05T16:58:00.943490Z",
     "iopub.status.idle": "2022-06-05T16:58:01.494124Z",
     "shell.execute_reply": "2022-06-05T16:58:01.493787Z",
     "shell.execute_reply.started": "2022-06-05T16:58:00.943676Z"
    },
    "tags": []
   },
   "outputs": [],
   "source": [
    "ra_temp = zcut['ra']\n",
    "dec_temp = zcut['dec']\n",
    "comdis = cosmo.comoving_distance(zcut['Z'])*cosmo.h\n",
    "mass_temp = zcut['mass']"
   ]
  },
  {
   "cell_type": "code",
   "execution_count": 24,
   "id": "ada74017-2b2a-4490-9578-0042044aac7b",
   "metadata": {
    "execution": {
     "iopub.execute_input": "2022-06-05T16:58:04.042181Z",
     "iopub.status.busy": "2022-06-05T16:58:04.042043Z",
     "iopub.status.idle": "2022-06-05T16:58:04.548659Z",
     "shell.execute_reply": "2022-06-05T16:58:04.548324Z",
     "shell.execute_reply.started": "2022-06-05T16:58:04.042166Z"
    },
    "tags": []
   },
   "outputs": [],
   "source": [
    "pos = np.zeros((len(ra_temp),3))\n",
    "pos = convert_sphere_to_cart(ra_temp,dec_temp,comdis.value)\n",
    "\n",
    "tree = cKDTree(pos)\n",
    "index = tree.query_ball_point(pos,np.sqrt(1.5**2+15**2))\n",
    "temp = np.empty((len(ra_temp)),dtype = np.bool_)\n",
    "for i in range(len(ra_temp)):\n",
    "    temp[i] = find_central(i,index[i],mass_temp,pos)"
   ]
  },
  {
   "cell_type": "code",
   "execution_count": 25,
   "id": "9f712e05-0559-4741-9454-8d2576fd149b",
   "metadata": {
    "execution": {
     "iopub.execute_input": "2022-06-05T16:58:08.944969Z",
     "iopub.status.busy": "2022-06-05T16:58:08.944726Z",
     "iopub.status.idle": "2022-06-05T16:58:08.947546Z",
     "shell.execute_reply": "2022-06-05T16:58:08.947200Z",
     "shell.execute_reply.started": "2022-06-05T16:58:08.944953Z"
    },
    "tags": []
   },
   "outputs": [],
   "source": [
    "central = zcut[temp]"
   ]
  },
  {
   "cell_type": "code",
   "execution_count": 26,
   "id": "df514987-edc2-4fe0-beae-6112f0987e51",
   "metadata": {
    "collapsed": true,
    "execution": {
     "iopub.execute_input": "2022-06-05T16:58:10.944301Z",
     "iopub.status.busy": "2022-06-05T16:58:10.944096Z",
     "iopub.status.idle": "2022-06-05T16:58:11.220838Z",
     "shell.execute_reply": "2022-06-05T16:58:11.220504Z",
     "shell.execute_reply.started": "2022-06-05T16:58:10.944285Z"
    },
    "jupyter": {
     "outputs_hidden": true
    },
    "tags": []
   },
   "outputs": [
    {
     "data": {
      "text/html": [
       "<div><i>Table length=6948</i>\n",
       "<table id=\"table46921656165904\" class=\"table-striped table-bordered table-condensed\">\n",
       "<thead><tr><th>ra</th><th>dec</th><th>Z</th><th>mass</th><th>skymap_id</th></tr></thead>\n",
       "<thead><tr><th></th><th></th><th></th><th>solMass</th><th></th></tr></thead>\n",
       "<thead><tr><th>float64</th><th>float64</th><th>float32</th><th>float64</th><th>int32</th></tr></thead>\n",
       "<tr><td>146.62280014534682</td><td>-0.9513623461346574</td><td>0.37124884</td><td>11.404340511077422</td><td>93250403</td></tr>\n",
       "<tr><td>147.0897033749402</td><td>-0.2664923379423015</td><td>0.3834088</td><td>11.344606775963062</td><td>93250207</td></tr>\n",
       "<tr><td>146.1435840854538</td><td>-0.7416246447641355</td><td>0.20388976</td><td>11.459607260430733</td><td>93250704</td></tr>\n",
       "<tr><td>146.69354971525206</td><td>-0.38657089210627266</td><td>0.45933712</td><td>11.318750967765796</td><td>93250406</td></tr>\n",
       "<tr><td>145.81813010631708</td><td>-0.8789469627291188</td><td>0.20464495</td><td>11.341613829094785</td><td>93240103</td></tr>\n",
       "<tr><td>146.47703208990782</td><td>0.0773967893530347</td><td>0.4418353</td><td>11.476273249069413</td><td>95680500</td></tr>\n",
       "<tr><td>146.19245664184376</td><td>-0.5082879848299192</td><td>0.3693364</td><td>11.558564588991851</td><td>93250705</td></tr>\n",
       "<tr><td>145.6141873873411</td><td>-0.8657527522340117</td><td>0.3458382</td><td>11.315295826628244</td><td>93240203</td></tr>\n",
       "<tr><td>145.53588085225155</td><td>-1.0782443879694523</td><td>0.46091256</td><td>11.473457121991599</td><td>93240202</td></tr>\n",
       "<tr><td>...</td><td>...</td><td>...</td><td>...</td><td>...</td></tr>\n",
       "<tr><td>215.6356868275744</td><td>52.64699713417876</td><td>0.45072544</td><td>11.399245545566721</td><td>169730203</td></tr>\n",
       "<tr><td>215.31298515871254</td><td>52.86049659266345</td><td>0.38331303</td><td>11.35379385264913</td><td>169730304</td></tr>\n",
       "<tr><td>214.8353441577803</td><td>52.04604700154064</td><td>0.28718185</td><td>11.319333946672504</td><td>168220508</td></tr>\n",
       "<tr><td>214.9674511889136</td><td>52.926251816830636</td><td>0.46297017</td><td>11.400765212975829</td><td>169730405</td></tr>\n",
       "<tr><td>214.62256118037263</td><td>52.66254473138825</td><td>0.4671033</td><td>11.373026785472735</td><td>169730503</td></tr>\n",
       "<tr><td>213.43411637735275</td><td>52.19675741714892</td><td>0.48021072</td><td>11.404182471603491</td><td>169720101</td></tr>\n",
       "<tr><td>213.63442963136777</td><td>52.802708565782204</td><td>0.48155507</td><td>11.41239098323102</td><td>169720104</td></tr>\n",
       "<tr><td>213.6385856721541</td><td>53.19232131135985</td><td>0.45335513</td><td>11.433424286804016</td><td>169720106</td></tr>\n",
       "<tr><td>213.09161065215716</td><td>52.37931827201942</td><td>0.49854293</td><td>11.357383972589481</td><td>169720202</td></tr>\n",
       "<tr><td>226.0083911528456</td><td>44.40632970183079</td><td>0.3612479</td><td>11.552745384445968</td><td>160000307</td></tr>\n",
       "</table></div>"
      ],
      "text/plain": [
       "<Table length=6948>\n",
       "        ra                 dec              Z             mass        skymap_id\n",
       "                                                        solMass                \n",
       "     float64             float64         float32        float64         int32  \n",
       "------------------ -------------------- ---------- ------------------ ---------\n",
       "146.62280014534682  -0.9513623461346574 0.37124884 11.404340511077422  93250403\n",
       " 147.0897033749402  -0.2664923379423015  0.3834088 11.344606775963062  93250207\n",
       " 146.1435840854538  -0.7416246447641355 0.20388976 11.459607260430733  93250704\n",
       "146.69354971525206 -0.38657089210627266 0.45933712 11.318750967765796  93250406\n",
       "145.81813010631708  -0.8789469627291188 0.20464495 11.341613829094785  93240103\n",
       "146.47703208990782   0.0773967893530347  0.4418353 11.476273249069413  95680500\n",
       "146.19245664184376  -0.5082879848299192  0.3693364 11.558564588991851  93250705\n",
       " 145.6141873873411  -0.8657527522340117  0.3458382 11.315295826628244  93240203\n",
       "145.53588085225155  -1.0782443879694523 0.46091256 11.473457121991599  93240202\n",
       "               ...                  ...        ...                ...       ...\n",
       " 215.6356868275744    52.64699713417876 0.45072544 11.399245545566721 169730203\n",
       "215.31298515871254    52.86049659266345 0.38331303  11.35379385264913 169730304\n",
       " 214.8353441577803    52.04604700154064 0.28718185 11.319333946672504 168220508\n",
       " 214.9674511889136   52.926251816830636 0.46297017 11.400765212975829 169730405\n",
       "214.62256118037263    52.66254473138825  0.4671033 11.373026785472735 169730503\n",
       "213.43411637735275    52.19675741714892 0.48021072 11.404182471603491 169720101\n",
       "213.63442963136777   52.802708565782204 0.48155507  11.41239098323102 169720104\n",
       " 213.6385856721541    53.19232131135985 0.45335513 11.433424286804016 169720106\n",
       "213.09161065215716    52.37931827201942 0.49854293 11.357383972589481 169720202\n",
       " 226.0083911528456    44.40632970183079  0.3612479 11.552745384445968 160000307"
      ]
     },
     "execution_count": 26,
     "metadata": {},
     "output_type": "execute_result"
    }
   ],
   "source": [
    "central    #6948"
   ]
  },
  {
   "cell_type": "code",
   "execution_count": 27,
   "id": "bba5abea-98fd-4148-b567-89287b88f8d7",
   "metadata": {
    "execution": {
     "iopub.execute_input": "2022-06-05T16:58:43.995791Z",
     "iopub.status.busy": "2022-06-05T16:58:43.995542Z",
     "iopub.status.idle": "2022-06-05T16:58:44.012443Z",
     "shell.execute_reply": "2022-06-05T16:58:44.011891Z",
     "shell.execute_reply.started": "2022-06-05T16:58:43.995776Z"
    },
    "tags": []
   },
   "outputs": [],
   "source": [
    "Table(central).write(\"./lowz_central_bayes.fits\",overwrite = True)"
   ]
  },
  {
   "cell_type": "code",
   "execution_count": 1,
   "id": "103e19a2-2825-4039-ad18-6338ab75538b",
   "metadata": {
    "execution": {
     "iopub.execute_input": "2022-05-30T02:41:30.293665Z",
     "iopub.status.busy": "2022-05-30T02:41:30.293342Z",
     "iopub.status.idle": "2022-05-30T02:41:30.309771Z",
     "shell.execute_reply": "2022-05-30T02:41:30.308960Z",
     "shell.execute_reply.started": "2022-05-30T02:41:30.293582Z"
    }
   },
   "outputs": [
    {
     "data": {
      "text/plain": [
       "'/home/yunzheng/PAC/code/lowz_new'"
      ]
     },
     "execution_count": 1,
     "metadata": {},
     "output_type": "execute_result"
    }
   ],
   "source": [
    "pwd"
   ]
  },
  {
   "cell_type": "code",
   "execution_count": 28,
   "id": "ccf5c9e7-4895-4db8-9533-84abbab8383b",
   "metadata": {
    "execution": {
     "iopub.execute_input": "2022-06-05T16:58:51.942643Z",
     "iopub.status.busy": "2022-06-05T16:58:51.942369Z",
     "iopub.status.idle": "2022-06-05T16:58:51.947765Z",
     "shell.execute_reply": "2022-06-05T16:58:51.946934Z",
     "shell.execute_reply.started": "2022-06-05T16:58:51.942623Z"
    },
    "tags": []
   },
   "outputs": [
    {
     "data": {
      "text/plain": [
       "0.20005344"
      ]
     },
     "execution_count": 28,
     "metadata": {},
     "output_type": "execute_result"
    }
   ],
   "source": [
    "np.min(central['Z'])"
   ]
  },
  {
   "cell_type": "code",
   "execution_count": 29,
   "id": "719a1869-dc4c-4c63-8e8e-25ac20f1644f",
   "metadata": {
    "execution": {
     "iopub.execute_input": "2022-06-05T16:58:52.943725Z",
     "iopub.status.busy": "2022-06-05T16:58:52.943526Z",
     "iopub.status.idle": "2022-06-05T16:58:56.247737Z",
     "shell.execute_reply": "2022-06-05T16:58:56.246938Z",
     "shell.execute_reply.started": "2022-06-05T16:58:52.943707Z"
    },
    "tags": []
   },
   "outputs": [
    {
     "data": {
      "text/plain": [
       "0.49990034"
      ]
     },
     "execution_count": 29,
     "metadata": {},
     "output_type": "execute_result"
    }
   ],
   "source": [
    "np.max(central['Z'])"
   ]
  },
  {
   "cell_type": "code",
   "execution_count": 30,
   "id": "e6516da2-9a73-48f8-858c-a7e69197e003",
   "metadata": {
    "execution": {
     "iopub.execute_input": "2022-06-05T16:58:58.942939Z",
     "iopub.status.busy": "2022-06-05T16:58:58.942729Z",
     "iopub.status.idle": "2022-06-05T16:59:01.454921Z",
     "shell.execute_reply": "2022-06-05T16:59:01.454204Z",
     "shell.execute_reply.started": "2022-06-05T16:58:58.942920Z"
    },
    "tags": []
   },
   "outputs": [
    {
     "data": {
      "text/plain": [
       "11.30002049393963"
      ]
     },
     "execution_count": 30,
     "metadata": {},
     "output_type": "execute_result"
    }
   ],
   "source": [
    "np.min(central['mass'])"
   ]
  },
  {
   "cell_type": "code",
   "execution_count": 31,
   "id": "3adbe0a7-cb24-471a-941c-504f9b878458",
   "metadata": {
    "execution": {
     "iopub.execute_input": "2022-06-05T16:59:03.062148Z",
     "iopub.status.busy": "2022-06-05T16:59:03.061942Z",
     "iopub.status.idle": "2022-06-05T16:59:06.237761Z",
     "shell.execute_reply": "2022-06-05T16:59:06.237035Z",
     "shell.execute_reply.started": "2022-06-05T16:59:03.062130Z"
    },
    "tags": []
   },
   "outputs": [
    {
     "data": {
      "text/plain": [
       "12.069514902894156"
      ]
     },
     "execution_count": 31,
     "metadata": {},
     "output_type": "execute_result"
    }
   ],
   "source": [
    "np.max(central['mass'])"
   ]
  },
  {
   "cell_type": "code",
   "execution_count": 32,
   "id": "17426751-e207-4a35-9268-a7bcb295546c",
   "metadata": {
    "execution": {
     "iopub.execute_input": "2022-06-05T16:59:13.943622Z",
     "iopub.status.busy": "2022-06-05T16:59:13.943382Z",
     "iopub.status.idle": "2022-06-05T16:59:13.948721Z",
     "shell.execute_reply": "2022-06-05T16:59:13.948346Z",
     "shell.execute_reply.started": "2022-06-05T16:59:13.943602Z"
    },
    "tags": []
   },
   "outputs": [
    {
     "name": "stdout",
     "output_type": "stream",
     "text": [
      "5909\n",
      "958\n",
      "75\n"
     ]
    }
   ],
   "source": [
    "massbin = [11.3,11.5,11.7,11.9]\n",
    "for i in range(len(massbin)-1):\n",
    "    mstar = (central['mass'])\n",
    "    print(len(mstar[(mstar<=massbin[i+1])&(mstar>=massbin[i])]))"
   ]
  },
  {
   "cell_type": "code",
   "execution_count": 98,
   "id": "3e9075aa-97a0-437e-9c60-40160a28f4e5",
   "metadata": {
    "execution": {
     "iopub.execute_input": "2022-05-24T13:54:22.367436Z",
     "iopub.status.busy": "2022-05-24T13:54:22.366618Z",
     "iopub.status.idle": "2022-05-24T13:54:22.450467Z",
     "shell.execute_reply": "2022-05-24T13:54:22.450010Z",
     "shell.execute_reply.started": "2022-05-24T13:54:22.367379Z"
    },
    "tags": []
   },
   "outputs": [
    {
     "data": {
      "text/plain": [
       "<matplotlib.collections.PathCollection at 0x2b8f0512d3a0>"
      ]
     },
     "execution_count": 98,
     "metadata": {},
     "output_type": "execute_result"
    },
    {
     "data": {
      "image/png": "[encoded data removed]",
      "text/plain": [
       "<Figure size 432x288 with 1 Axes>"
      ]
     },
     "metadata": {
      "needs_background": "light"
     },
     "output_type": "display_data"
    }
   ],
   "source": [
    "plt.scatter(central['ra'],central['dec'],s= 01.1)"
   ]
  },
  {
   "cell_type": "code",
   "execution_count": null,
   "id": "054ff066-c961-4641-bddf-8ebe4e6f0c6e",
   "metadata": {},
   "outputs": [],
   "source": []
  }
 ],
 "metadata": {
  "kernelspec": {
   "display_name": "numba38",
   "language": "python",
   "name": "numba38"
  },
  "language_info": {
   "codemirror_mode": {
    "name": "ipython",
    "version": 3
   },
   "file_extension": ".py",
   "mimetype": "text/x-python",
   "name": "python",
   "nbconvert_exporter": "python",
   "pygments_lexer": "ipython3",
   "version": "3.8.12"
  }
 },
 "nbformat": 4,
 "nbformat_minor": 5
}
