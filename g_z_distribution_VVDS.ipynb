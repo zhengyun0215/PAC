{
 "cells": [
  {
   "cell_type": "markdown",
   "id": "9f0012dc-031d-480e-bb8b-97acdc6934f7",
   "metadata": {},
   "source": [
    "# load package"
   ]
  },
  {
   "cell_type": "code",
   "execution_count": 1,
   "id": "e368277c-8e39-417c-97c6-00a48e2ca3e7",
   "metadata": {
    "execution": {
     "iopub.execute_input": "2022-07-05T06:08:39.501720Z",
     "iopub.status.busy": "2022-07-05T06:08:39.501377Z",
     "iopub.status.idle": "2022-07-05T06:09:02.820814Z",
     "shell.execute_reply": "2022-07-05T06:09:02.820079Z",
     "shell.execute_reply.started": "2022-07-05T06:08:39.501664Z"
    },
    "tags": []
   },
   "outputs": [],
   "source": [
    "from astropy.io import fits\n",
    "import numpy as np\n",
    "from multiprocessing import Process\n",
    "from sklearn.neighbors import BallTree\n",
    "from astropy.cosmology import FlatLambdaCDM\n",
    "from scipy.interpolate import interp1d\n",
    "import matplotlib.pyplot as plt\n",
    "import matplotlib as mpl\n",
    "%matplotlib inline\n",
    "from astropy.table import Table,Column,vstack\n",
    "from astropy.io import ascii\n",
    "import os\n",
    "import matplotlib.colors as mcolors"
   ]
  },
  {
   "cell_type": "code",
   "execution_count": 2,
   "id": "d64cfe0a-c1a0-4755-a1d8-53eebb81f58c",
   "metadata": {
    "execution": {
     "iopub.execute_input": "2022-07-05T06:09:02.822087Z",
     "iopub.status.busy": "2022-07-05T06:09:02.821875Z",
     "iopub.status.idle": "2022-07-05T06:09:07.145477Z",
     "shell.execute_reply": "2022-07-05T06:09:07.144037Z",
     "shell.execute_reply.started": "2022-07-05T06:09:02.822071Z"
    },
    "tags": []
   },
   "outputs": [],
   "source": [
    "from astropy.coordinates import SkyCoord\n",
    "from astropy.cosmology import FlatLambdaCDM,z_at_value\n",
    "cosmo = FlatLambdaCDM(H0 = 67.74,Om0 = 0.3089,Ob0 = 0.0486)\n",
    "from scipy.spatial import cKDTree\n",
    "import astropy.units as u\n",
    "import pandas as pd"
   ]
  },
  {
   "cell_type": "code",
   "execution_count": 3,
   "id": "de774d5a-0cb2-4eca-92f7-30c3d4adf7b4",
   "metadata": {
    "collapsed": true,
    "execution": {
     "iopub.execute_input": "2022-07-03T14:57:10.612140Z",
     "iopub.status.busy": "2022-07-03T14:57:10.611997Z",
     "iopub.status.idle": "2022-07-03T14:57:10.664345Z",
     "shell.execute_reply": "2022-07-03T14:57:10.663395Z",
     "shell.execute_reply.started": "2022-07-03T14:57:10.612126Z"
    },
    "jupyter": {
     "outputs_hidden": true
    },
    "tags": []
   },
   "outputs": [
    {
     "data": {
      "text/plain": [
       "\u001b[0;31mSignature:\u001b[0m\n",
       "\u001b[0mnp\u001b[0m\u001b[0;34m.\u001b[0m\u001b[0mstd\u001b[0m\u001b[0;34m(\u001b[0m\u001b[0;34m\u001b[0m\n",
       "\u001b[0;34m\u001b[0m    \u001b[0ma\u001b[0m\u001b[0;34m,\u001b[0m\u001b[0;34m\u001b[0m\n",
       "\u001b[0;34m\u001b[0m    \u001b[0maxis\u001b[0m\u001b[0;34m=\u001b[0m\u001b[0;32mNone\u001b[0m\u001b[0;34m,\u001b[0m\u001b[0;34m\u001b[0m\n",
       "\u001b[0;34m\u001b[0m    \u001b[0mdtype\u001b[0m\u001b[0;34m=\u001b[0m\u001b[0;32mNone\u001b[0m\u001b[0;34m,\u001b[0m\u001b[0;34m\u001b[0m\n",
       "\u001b[0;34m\u001b[0m    \u001b[0mout\u001b[0m\u001b[0;34m=\u001b[0m\u001b[0;32mNone\u001b[0m\u001b[0;34m,\u001b[0m\u001b[0;34m\u001b[0m\n",
       "\u001b[0;34m\u001b[0m    \u001b[0mddof\u001b[0m\u001b[0;34m=\u001b[0m\u001b[0;36m0\u001b[0m\u001b[0;34m,\u001b[0m\u001b[0;34m\u001b[0m\n",
       "\u001b[0;34m\u001b[0m    \u001b[0mkeepdims\u001b[0m\u001b[0;34m=\u001b[0m\u001b[0;34m<\u001b[0m\u001b[0mno\u001b[0m \u001b[0mvalue\u001b[0m\u001b[0;34m>\u001b[0m\u001b[0;34m,\u001b[0m\u001b[0;34m\u001b[0m\n",
       "\u001b[0;34m\u001b[0m    \u001b[0;34m*\u001b[0m\u001b[0;34m,\u001b[0m\u001b[0;34m\u001b[0m\n",
       "\u001b[0;34m\u001b[0m    \u001b[0mwhere\u001b[0m\u001b[0;34m=\u001b[0m\u001b[0;34m<\u001b[0m\u001b[0mno\u001b[0m \u001b[0mvalue\u001b[0m\u001b[0;34m>\u001b[0m\u001b[0;34m,\u001b[0m\u001b[0;34m\u001b[0m\n",
       "\u001b[0;34m\u001b[0m\u001b[0;34m)\u001b[0m\u001b[0;34m\u001b[0m\u001b[0;34m\u001b[0m\u001b[0m\n",
       "\u001b[0;31mDocstring:\u001b[0m\n",
       "Compute the standard deviation along the specified axis.\n",
       "\n",
       "Returns the standard deviation, a measure of the spread of a distribution,\n",
       "of the array elements. The standard deviation is computed for the\n",
       "flattened array by default, otherwise over the specified axis.\n",
       "\n",
       "Parameters\n",
       "----------\n",
       "a : array_like\n",
       "    Calculate the standard deviation of these values.\n",
       "axis : None or int or tuple of ints, optional\n",
       "    Axis or axes along which the standard deviation is computed. The\n",
       "    default is to compute the standard deviation of the flattened array.\n",
       "\n",
       "    .. versionadded:: 1.7.0\n",
       "\n",
       "    If this is a tuple of ints, a standard deviation is performed over\n",
       "    multiple axes, instead of a single axis or all the axes as before.\n",
       "dtype : dtype, optional\n",
       "    Type to use in computing the standard deviation. For arrays of\n",
       "    integer type the default is float64, for arrays of float types it is\n",
       "    the same as the array type.\n",
       "out : ndarray, optional\n",
       "    Alternative output array in which to place the result. It must have\n",
       "    the same shape as the expected output but the type (of the calculated\n",
       "    values) will be cast if necessary.\n",
       "ddof : int, optional\n",
       "    Means Delta Degrees of Freedom.  The divisor used in calculations\n",
       "    is ``N - ddof``, where ``N`` represents the number of elements.\n",
       "    By default `ddof` is zero.\n",
       "keepdims : bool, optional\n",
       "    If this is set to True, the axes which are reduced are left\n",
       "    in the result as dimensions with size one. With this option,\n",
       "    the result will broadcast correctly against the input array.\n",
       "\n",
       "    If the default value is passed, then `keepdims` will not be\n",
       "    passed through to the `std` method of sub-classes of\n",
       "    `ndarray`, however any non-default value will be.  If the\n",
       "    sub-class' method does not implement `keepdims` any\n",
       "    exceptions will be raised.\n",
       "\n",
       "where : array_like of bool, optional\n",
       "    Elements to include in the standard deviation.\n",
       "    See `~numpy.ufunc.reduce` for details.\n",
       "\n",
       "    .. versionadded:: 1.20.0\n",
       "\n",
       "Returns\n",
       "-------\n",
       "standard_deviation : ndarray, see dtype parameter above.\n",
       "    If `out` is None, return a new array containing the standard deviation,\n",
       "    otherwise return a reference to the output array.\n",
       "\n",
       "See Also\n",
       "--------\n",
       "var, mean, nanmean, nanstd, nanvar\n",
       ":ref:`ufuncs-output-type`\n",
       "\n",
       "Notes\n",
       "-----\n",
       "The standard deviation is the square root of the average of the squared\n",
       "deviations from the mean, i.e., ``std = sqrt(mean(x))``, where\n",
       "``x = abs(a - a.mean())**2``.\n",
       "\n",
       "The average squared deviation is typically calculated as ``x.sum() / N``,\n",
       "where ``N = len(x)``. If, however, `ddof` is specified, the divisor\n",
       "``N - ddof`` is used instead. In standard statistical practice, ``ddof=1``\n",
       "provides an unbiased estimator of the variance of the infinite population.\n",
       "``ddof=0`` provides a maximum likelihood estimate of the variance for\n",
       "normally distributed variables. The standard deviation computed in this\n",
       "function is the square root of the estimated variance, so even with\n",
       "``ddof=1``, it will not be an unbiased estimate of the standard deviation\n",
       "per se.\n",
       "\n",
       "Note that, for complex numbers, `std` takes the absolute\n",
       "value before squaring, so that the result is always real and nonnegative.\n",
       "\n",
       "For floating-point input, the *std* is computed using the same\n",
       "precision the input has. Depending on the input data, this can cause\n",
       "the results to be inaccurate, especially for float32 (see example below).\n",
       "Specifying a higher-accuracy accumulator using the `dtype` keyword can\n",
       "alleviate this issue.\n",
       "\n",
       "Examples\n",
       "--------\n",
       ">>> a = np.array([[1, 2], [3, 4]])\n",
       ">>> np.std(a)\n",
       "1.1180339887498949 # may vary\n",
       ">>> np.std(a, axis=0)\n",
       "array([1.,  1.])\n",
       ">>> np.std(a, axis=1)\n",
       "array([0.5,  0.5])\n",
       "\n",
       "In single precision, std() can be inaccurate:\n",
       "\n",
       ">>> a = np.zeros((2, 512*512), dtype=np.float32)\n",
       ">>> a[0, :] = 1.0\n",
       ">>> a[1, :] = 0.1\n",
       ">>> np.std(a)\n",
       "0.45000005\n",
       "\n",
       "Computing the standard deviation in float64 is more accurate:\n",
       "\n",
       ">>> np.std(a, dtype=np.float64)\n",
       "0.44999999925494177 # may vary\n",
       "\n",
       "Specifying a where argument:\n",
       "\n",
       ">>> a = np.array([[14, 8, 11, 10], [7, 9, 10, 11], [10, 15, 5, 10]])\n",
       ">>> np.std(a)\n",
       "2.614064523559687 # may vary\n",
       ">>> np.std(a, where=[[True], [True], [False]])\n",
       "2.0\n",
       "\u001b[0;31mFile:\u001b[0m      ~/.local/anaconda/envs/mynumba/lib/python3.8/site-packages/numpy/core/fromnumeric.py\n",
       "\u001b[0;31mType:\u001b[0m      function\n"
      ]
     },
     "metadata": {},
     "output_type": "display_data"
    }
   ],
   "source": [
    "np.std?"
   ]
  },
  {
   "cell_type": "code",
   "execution_count": 4,
   "id": "b7ea3a8c-bb69-4ef1-877e-72c7f15dcc71",
   "metadata": {
    "execution": {
     "iopub.execute_input": "2022-07-03T11:23:12.558894Z",
     "iopub.status.busy": "2022-07-03T11:23:12.558778Z",
     "iopub.status.idle": "2022-07-03T11:23:12.561150Z",
     "shell.execute_reply": "2022-07-03T11:23:12.560760Z",
     "shell.execute_reply.started": "2022-07-03T11:23:12.558881Z"
    },
    "tags": []
   },
   "outputs": [],
   "source": [
    "import scipy"
   ]
  },
  {
   "cell_type": "markdown",
   "id": "5085b8e2-b573-4a32-a82d-b839b32ac0ec",
   "metadata": {},
   "source": [
    "# VVDS"
   ]
  },
  {
   "cell_type": "code",
   "execution_count": 3,
   "id": "531fc0ca-0073-4a1b-8521-49e87f3dfd88",
   "metadata": {
    "execution": {
     "iopub.execute_input": "2022-07-05T06:09:07.147152Z",
     "iopub.status.busy": "2022-07-05T06:09:07.146702Z",
     "iopub.status.idle": "2022-07-05T06:09:07.818105Z",
     "shell.execute_reply": "2022-07-05T06:09:07.817204Z",
     "shell.execute_reply.started": "2022-07-05T06:09:07.147129Z"
    },
    "tags": []
   },
   "outputs": [],
   "source": [
    "SED_Para = ['IDENT','SCALE_BEST','MOD_BEST','EXTLAW_BEST','EBV_BEST','CHI_BEST','NBAND_USED', \\\n",
    "            'AGE_BEST','AGE_INF','AGE_MED','AGE_SUP','MASS_BEST','MASS_INF','MASS_MED','MASS_SUP',\\\n",
    "            'SFR_BEST','SFR_INF','SFR_MED','SFR_SUP','SSFR_BEST','SSFR_INF','SSFR_MED','SSFR_SUP', \\\n",
    "            'B_OBS','V_OBS','R_OBS','I_OBS','u_OBS','g_OBS','r_OBS','i_OBS','z_OBS',\\\n",
    "            'ERR_B_OBS','ERR_V_OBS','ERR_R_OBS','ERR_I_OBS','ERR_u_OBS','ERR_g_OBS','ERR_r_OBS','ERR_i_OBS','ERR_z_OBS',\\\n",
    "            'B_MOD','V_MOD','R_MOD','I_MOD','u_MOD','g_MOD','r_MOD','i_MOD','z_MOD',\\\n",
    "            'CONTEXT','ZSPEC',\\\n",
    "            'B_ABS','V_ABS','R_ABS','I_ABS','u_ABS','g_ABS','r_ABS','i_ABS','z_ABS',\\\n",
    "            'Z_MAX']\n",
    "\n",
    "\n",
    "\n",
    "deep = pd.read_table('/home/hygao/research/LePHARE/lephare_dev/zy_VVDS_deep_BVRIugriz/VVDS_deep_BVRIugriz.out',\\\n",
    "                              sep='\\s+',skiprows=59,header=None,names=SED_Para,index_col=False)"
   ]
  },
  {
   "cell_type": "code",
   "execution_count": 4,
   "id": "cfd9ac90-130f-43d5-b121-15b975032773",
   "metadata": {
    "execution": {
     "iopub.execute_input": "2022-07-05T06:09:07.819320Z",
     "iopub.status.busy": "2022-07-05T06:09:07.819103Z",
     "iopub.status.idle": "2022-07-05T06:09:08.536238Z",
     "shell.execute_reply": "2022-07-05T06:09:08.535369Z",
     "shell.execute_reply.started": "2022-07-05T06:09:07.819303Z"
    },
    "tags": []
   },
   "outputs": [],
   "source": [
    "cigale_deep = Table.read(\"/home/yunzheng/PAC/code/VVDS_desi/VVDS_SED_DEEP/deep_BVRIugriz/out/results.fits\")\n",
    "deep0 = Table.read(\"/home/yunzheng/PAC/code/VVDS_desi/VVDS_cesam_cata/cesam_vvds_spF02_DEEP_Full.fits\")"
   ]
  },
  {
   "cell_type": "code",
   "execution_count": 5,
   "id": "deb1e2b7-a30d-416f-9c09-8df50d01455f",
   "metadata": {
    "execution": {
     "iopub.execute_input": "2022-07-05T06:09:08.538103Z",
     "iopub.status.busy": "2022-07-05T06:09:08.537880Z",
     "iopub.status.idle": "2022-07-05T06:09:08.542835Z",
     "shell.execute_reply": "2022-07-05T06:09:08.542213Z",
     "shell.execute_reply.started": "2022-07-05T06:09:08.538086Z"
    },
    "tags": []
   },
   "outputs": [],
   "source": [
    "zmax = np.array(deep['Z_MAX'])\n",
    "g = np.array(deep['g_OBS'])\n",
    "z = np.array(deep['z_OBS'])\n",
    "g_z = g-z\n",
    "mass = np.array(deep['MASS_BEST'])\n",
    "redshift = np.array(deep['ZSPEC'])\n",
    "tsr = deep0['TSR']\n",
    "ssr = deep0['SSR']\n",
    "i = np.array(deep['i_OBS'])"
   ]
  },
  {
   "cell_type": "code",
   "execution_count": 7,
   "id": "a11c0fb5-a88b-4cdf-95ba-53a5ee49bc16",
   "metadata": {
    "execution": {
     "iopub.execute_input": "2022-07-04T05:06:59.511100Z",
     "iopub.status.busy": "2022-07-04T05:06:59.510706Z",
     "iopub.status.idle": "2022-07-04T05:07:00.548998Z",
     "shell.execute_reply": "2022-07-04T05:07:00.548391Z",
     "shell.execute_reply.started": "2022-07-04T05:06:59.511079Z"
    },
    "tags": []
   },
   "outputs": [
    {
     "data": {
      "text/plain": [
       "array([-99.   ,  14.536,  16.365, ...,  28.254,  28.775,  30.392])"
      ]
     },
     "execution_count": 7,
     "metadata": {},
     "output_type": "execute_result"
    }
   ],
   "source": [
    "np.unique(g)"
   ]
  },
  {
   "cell_type": "code",
   "execution_count": 7,
   "id": "a8c8ec33-7c86-4476-b511-cf163b1a064f",
   "metadata": {
    "execution": {
     "iopub.execute_input": "2022-07-02T15:59:37.843752Z",
     "iopub.status.busy": "2022-07-02T15:59:37.843531Z",
     "iopub.status.idle": "2022-07-02T15:59:37.847977Z",
     "shell.execute_reply": "2022-07-02T15:59:37.847609Z",
     "shell.execute_reply.started": "2022-07-02T15:59:37.843735Z"
    },
    "tags": []
   },
   "outputs": [
    {
     "data": {
      "text/plain": [
       "(8153,)"
      ]
     },
     "execution_count": 7,
     "metadata": {},
     "output_type": "execute_result"
    }
   ],
   "source": [
    "i.shape"
   ]
  },
  {
   "cell_type": "code",
   "execution_count": 6,
   "id": "c85e548f-6bcf-42dc-b93d-5b5cacdf93aa",
   "metadata": {
    "execution": {
     "iopub.execute_input": "2022-07-05T06:09:08.543687Z",
     "iopub.status.busy": "2022-07-05T06:09:08.543517Z",
     "iopub.status.idle": "2022-07-05T06:09:08.547466Z",
     "shell.execute_reply": "2022-07-05T06:09:08.547048Z",
     "shell.execute_reply.started": "2022-07-05T06:09:08.543673Z"
    },
    "tags": []
   },
   "outputs": [],
   "source": [
    "g_z = g-z\n",
    "index = ((z>0)&(redshift>=0.5)&(redshift<=0.7))\n",
    "# index = ((z>0)&(redshift>=0.3)&(redshift<=0.5))\n",
    "g = g[index]\n",
    "z = z[index]\n",
    "i = i[index]\n",
    "g_z=g_z[index]\n",
    "mass = mass[index]\n",
    "redshift = redshift[index]\n",
    "zmax = zmax[index]\n",
    "tsr = tsr[index]\n",
    "ssr = ssr[index]"
   ]
  },
  {
   "cell_type": "code",
   "execution_count": 80,
   "id": "7767a47f-c1e1-4891-98a0-aab526100b17",
   "metadata": {
    "collapsed": true,
    "execution": {
     "iopub.execute_input": "2022-07-04T06:50:34.186874Z",
     "iopub.status.busy": "2022-07-04T06:50:34.186179Z",
     "iopub.status.idle": "2022-07-04T06:50:34.196650Z",
     "shell.execute_reply": "2022-07-04T06:50:34.195947Z",
     "shell.execute_reply.started": "2022-07-04T06:50:34.186844Z"
    },
    "jupyter": {
     "outputs_hidden": true
    },
    "tags": []
   },
   "outputs": [
    {
     "data": {
      "text/plain": [
       "array([19.644, 19.834, 20.018, 20.051, 20.229, 20.298, 20.303, 20.312,\n",
       "       20.33 , 20.412, 20.459, 20.479, 20.529, 20.562, 20.573, 20.577,\n",
       "       20.604, 20.625, 20.643, 20.708, 20.724, 20.748, 20.759, 20.771,\n",
       "       20.774, 20.835, 20.911, 20.914, 20.919, 20.944, 20.948, 20.961,\n",
       "       20.982, 21.053, 21.058, 21.066, 21.072, 21.08 , 21.085, 21.096,\n",
       "       21.099, 21.119, 21.12 , 21.123, 21.134, 21.14 , 21.154, 21.155,\n",
       "       21.174, 21.178, 21.18 , 21.183, 21.188, 21.218, 21.239, 21.242,\n",
       "       21.256, 21.261, 21.278, 21.302, 21.329, 21.337, 21.339, 21.355,\n",
       "       21.359, 21.401, 21.428, 21.433, 21.44 , 21.45 , 21.462, 21.473,\n",
       "       21.474, 21.485, 21.5  , 21.505, 21.511, 21.513, 21.559, 21.571,\n",
       "       21.574, 21.581, 21.59 , 21.594, 21.6  , 21.614, 21.615, 21.619,\n",
       "       21.625, 21.63 , 21.633, 21.638, 21.65 , 21.663, 21.7  , 21.725,\n",
       "       21.738, 21.774, 21.776, 21.785, 21.789, 21.793, 21.801, 21.806,\n",
       "       21.807, 21.813, 21.833, 21.847, 21.852, 21.857, 21.88 , 21.899,\n",
       "       21.91 , 21.911, 21.921, 21.926, 21.935, 21.936, 21.937, 21.942,\n",
       "       21.949, 21.953, 21.957, 21.965, 21.982, 21.984, 21.986, 22.011,\n",
       "       22.014, 22.018, 22.023, 22.031, 22.035, 22.043, 22.063, 22.076,\n",
       "       22.082, 22.108, 22.118, 22.122, 22.123, 22.128, 22.131, 22.137,\n",
       "       22.143, 22.148, 22.154, 22.161, 22.197, 22.238, 22.24 , 22.241,\n",
       "       22.242, 22.243, 22.246, 22.251, 22.253, 22.255, 22.256, 22.262,\n",
       "       22.273, 22.279, 22.281, 22.289, 22.306, 22.308, 22.311, 22.313,\n",
       "       22.318, 22.32 , 22.322, 22.326, 22.33 , 22.333, 22.335, 22.346,\n",
       "       22.355, 22.357, 22.363, 22.367, 22.368, 22.369, 22.409, 22.414,\n",
       "       22.416, 22.42 , 22.421, 22.429, 22.44 , 22.442, 22.446, 22.448,\n",
       "       22.459, 22.463, 22.464, 22.471, 22.473, 22.475, 22.477, 22.483,\n",
       "       22.486, 22.493, 22.498, 22.499, 22.508, 22.513, 22.518, 22.522,\n",
       "       22.525, 22.527, 22.529, 22.536, 22.542, 22.555, 22.557, 22.56 ,\n",
       "       22.564, 22.566, 22.567, 22.57 , 22.572, 22.573, 22.575, 22.576,\n",
       "       22.577, 22.584, 22.585, 22.591, 22.605, 22.609, 22.611, 22.612,\n",
       "       22.614, 22.615, 22.618, 22.621, 22.637, 22.639, 22.64 , 22.641,\n",
       "       22.643, 22.648, 22.659, 22.667, 22.668, 22.682, 22.683, 22.684,\n",
       "       22.685, 22.696, 22.697, 22.698, 22.703, 22.705, 22.706, 22.712,\n",
       "       22.714, 22.719, 22.72 , 22.721, 22.722, 22.73 , 22.731, 22.735,\n",
       "       22.739, 22.741, 22.742, 22.743, 22.75 , 22.751, 22.762, 22.764,\n",
       "       22.772, 22.774, 22.779, 22.784, 22.785, 22.788, 22.79 , 22.791,\n",
       "       22.797, 22.799, 22.806, 22.808, 22.811, 22.812, 22.815, 22.816,\n",
       "       22.824, 22.825, 22.828, 22.833, 22.841, 22.843, 22.86 , 22.862,\n",
       "       22.866, 22.869, 22.871, 22.874, 22.876, 22.88 , 22.885, 22.888,\n",
       "       22.89 , 22.892, 22.893, 22.896, 22.9  , 22.923, 22.925, 22.926,\n",
       "       22.935, 22.937, 22.943, 22.951, 22.953, 22.954, 22.958, 22.966,\n",
       "       22.967, 22.969, 22.975, 22.977, 22.985, 22.988, 22.989, 22.99 ,\n",
       "       22.991, 22.994, 22.996, 22.998, 23.   , 23.005, 23.007, 23.008,\n",
       "       23.009, 23.011, 23.02 , 23.021, 23.037, 23.039, 23.041, 23.049,\n",
       "       23.05 , 23.051, 23.055, 23.056, 23.061, 23.062, 23.063, 23.067,\n",
       "       23.071, 23.072, 23.09 , 23.092, 23.094, 23.097, 23.101, 23.103,\n",
       "       23.105, 23.107, 23.111, 23.112, 23.114, 23.115, 23.116, 23.119,\n",
       "       23.122, 23.134, 23.135, 23.145, 23.148, 23.149, 23.15 , 23.151,\n",
       "       23.153, 23.159, 23.162, 23.163, 23.167, 23.176, 23.179, 23.194,\n",
       "       23.199, 23.202, 23.208, 23.209, 23.217, 23.219, 23.223, 23.228,\n",
       "       23.234, 23.235, 23.237, 23.239, 23.246, 23.247, 23.251, 23.263,\n",
       "       23.268, 23.278, 23.283, 23.284, 23.29 , 23.295, 23.296, 23.297,\n",
       "       23.299, 23.3  , 23.301, 23.303, 23.306, 23.312, 23.314, 23.316,\n",
       "       23.324, 23.326, 23.327, 23.33 , 23.331, 23.332, 23.333, 23.337,\n",
       "       23.34 , 23.343, 23.344, 23.345, 23.347, 23.348, 23.356, 23.359,\n",
       "       23.36 , 23.362, 23.371, 23.377, 23.383, 23.388, 23.389, 23.39 ,\n",
       "       23.398, 23.4  , 23.401, 23.403, 23.404, 23.408, 23.41 , 23.411,\n",
       "       23.412, 23.413, 23.415, 23.421, 23.423, 23.427, 23.428, 23.429,\n",
       "       23.43 , 23.434, 23.436, 23.437, 23.438, 23.44 , 23.442, 23.443,\n",
       "       23.446, 23.449, 23.45 , 23.451, 23.456, 23.46 , 23.469, 23.473,\n",
       "       23.477, 23.481, 23.482, 23.485, 23.486, 23.487, 23.491, 23.493,\n",
       "       23.498, 23.499, 23.505, 23.509, 23.517, 23.52 , 23.522, 23.525,\n",
       "       23.528, 23.531, 23.535, 23.549, 23.551, 23.553, 23.558, 23.563,\n",
       "       23.564, 23.566, 23.57 , 23.573, 23.576, 23.581, 23.583, 23.586,\n",
       "       23.59 , 23.592, 23.597, 23.6  , 23.606, 23.611, 23.616, 23.619,\n",
       "       23.62 , 23.623, 23.631, 23.632, 23.638, 23.651, 23.658, 23.66 ,\n",
       "       23.662, 23.666, 23.671, 23.676, 23.679, 23.68 , 23.685, 23.69 ,\n",
       "       23.693, 23.694, 23.707, 23.708, 23.71 , 23.712, 23.715, 23.722,\n",
       "       23.723, 23.73 , 23.734, 23.747, 23.75 , 23.751, 23.752, 23.754,\n",
       "       23.755, 23.758, 23.76 , 23.766, 23.767, 23.768, 23.771, 23.772,\n",
       "       23.774, 23.777, 23.78 , 23.785, 23.793, 23.794, 23.796, 23.8  ,\n",
       "       23.803, 23.805, 23.806, 23.807, 23.809, 23.812, 23.815, 23.823,\n",
       "       23.825, 23.827, 23.832, 23.838, 23.847, 23.851, 23.856, 23.858,\n",
       "       23.861, 23.862, 23.867, 23.876, 23.88 , 23.881, 23.884, 23.891,\n",
       "       23.893, 23.895, 23.899, 23.901, 23.906, 23.912, 23.913, 23.915,\n",
       "       23.917, 23.918, 23.925, 23.928, 23.929, 23.932, 23.937, 23.94 ,\n",
       "       23.941, 23.942, 23.947, 23.952, 23.953, 23.955, 23.959, 23.961,\n",
       "       23.966, 23.967, 23.975, 23.977, 23.993, 23.996, 23.997, 24.003,\n",
       "       24.005, 24.006, 24.007, 24.01 , 24.012, 24.014, 24.018, 24.019,\n",
       "       24.02 , 24.022, 24.024, 24.029, 24.031, 24.034, 24.037, 24.039,\n",
       "       24.046, 24.047, 24.048, 24.049, 24.053, 24.057, 24.058, 24.062,\n",
       "       24.07 , 24.072, 24.075, 24.078, 24.079, 24.084, 24.086, 24.09 ,\n",
       "       24.094, 24.096, 24.097, 24.101, 24.102, 24.106, 24.108, 24.116,\n",
       "       24.117, 24.124, 24.127, 24.128, 24.141, 24.143, 24.145, 24.149,\n",
       "       24.15 , 24.153, 24.156, 24.157, 24.16 , 24.161, 24.162, 24.163,\n",
       "       24.164, 24.166, 24.167, 24.173, 24.175, 24.178, 24.181, 24.183,\n",
       "       24.186, 24.196, 24.197, 24.199, 24.202, 24.208, 24.212, 24.213,\n",
       "       24.215, 24.218, 24.219, 24.223, 24.224, 24.226, 24.231, 24.238,\n",
       "       24.24 , 24.241, 24.242, 24.243, 24.247, 24.248, 24.249, 24.25 ,\n",
       "       24.252, 24.254, 24.255, 24.257, 24.258, 24.266, 24.267, 24.273,\n",
       "       24.276, 24.28 , 24.284, 24.287, 24.294, 24.299, 24.3  , 24.302,\n",
       "       24.303, 24.304, 24.311, 24.312, 24.316, 24.326, 24.331, 24.332,\n",
       "       24.336, 24.337, 24.338, 24.34 , 24.352, 24.354, 24.355, 24.36 ,\n",
       "       24.364, 24.366, 24.368, 24.371, 24.391, 24.401, 24.412, 24.413,\n",
       "       24.417, 24.419, 24.425, 24.429, 24.43 , 24.431, 24.432, 24.439,\n",
       "       24.441, 24.449, 24.455, 24.458, 24.465, 24.468, 24.472, 24.476,\n",
       "       24.478, 24.48 , 24.484, 24.487, 24.488, 24.489, 24.494, 24.499,\n",
       "       24.506, 24.511, 24.512, 24.515, 24.518, 24.521, 24.524, 24.527,\n",
       "       24.534, 24.539, 24.54 , 24.542, 24.545, 24.552, 24.554, 24.557,\n",
       "       24.56 , 24.566, 24.572, 24.575, 24.576, 24.579, 24.581, 24.585,\n",
       "       24.586, 24.589, 24.599, 24.604, 24.607, 24.608, 24.61 , 24.614,\n",
       "       24.619, 24.621, 24.623, 24.633, 24.643, 24.65 , 24.661, 24.676,\n",
       "       24.693, 24.709, 24.713, 24.739, 24.74 , 24.745, 24.748, 24.75 ,\n",
       "       24.755, 24.761, 24.776, 24.779, 24.781, 24.785, 24.788, 24.79 ,\n",
       "       24.797, 24.798, 24.805, 24.806, 24.826, 24.827, 24.835, 24.845,\n",
       "       24.848, 24.852, 24.859, 24.866, 24.868, 24.876, 24.885, 24.912,\n",
       "       24.915, 24.921, 24.923, 24.935, 24.958, 24.961, 24.97 , 24.975,\n",
       "       25.005, 25.036, 25.047, 25.055, 25.066, 25.091, 25.106, 25.109,\n",
       "       25.133, 25.136, 25.144, 25.145, 25.169, 25.2  , 25.216, 25.254,\n",
       "       25.278, 25.297, 25.326, 25.373, 25.379, 25.399, 25.467, 25.469,\n",
       "       25.476, 25.514, 25.529, 25.54 , 25.566, 25.667, 26.334, 26.476])"
      ]
     },
     "execution_count": 80,
     "metadata": {},
     "output_type": "execute_result"
    }
   ],
   "source": [
    "np.unique(g)"
   ]
  },
  {
   "cell_type": "code",
   "execution_count": 10,
   "id": "9a952c1d-7b6f-4037-a7a9-ba18550c5038",
   "metadata": {
    "execution": {
     "iopub.execute_input": "2022-07-04T05:07:26.575721Z",
     "iopub.status.busy": "2022-07-04T05:07:26.575484Z",
     "iopub.status.idle": "2022-07-04T05:07:26.580651Z",
     "shell.execute_reply": "2022-07-04T05:07:26.579839Z",
     "shell.execute_reply.started": "2022-07-04T05:07:26.575702Z"
    }
   },
   "outputs": [
    {
     "data": {
      "text/plain": [
       "array([23.972, 23.938, 23.178, ..., 23.124, 24.292, 23.969])"
      ]
     },
     "execution_count": 10,
     "metadata": {},
     "output_type": "execute_result"
    }
   ],
   "source": [
    "g"
   ]
  },
  {
   "cell_type": "code",
   "execution_count": 16,
   "id": "33fca5ea-031d-41c3-b82b-782da54c041e",
   "metadata": {
    "execution": {
     "iopub.execute_input": "2022-07-02T16:05:33.669610Z",
     "iopub.status.busy": "2022-07-02T16:05:33.669349Z",
     "iopub.status.idle": "2022-07-02T16:05:33.672650Z",
     "shell.execute_reply": "2022-07-02T16:05:33.672306Z",
     "shell.execute_reply.started": "2022-07-02T16:05:33.669591Z"
    },
    "tags": []
   },
   "outputs": [
    {
     "data": {
      "text/plain": [
       "(1598,)"
      ]
     },
     "execution_count": 16,
     "metadata": {},
     "output_type": "execute_result"
    }
   ],
   "source": [
    "tsr.shape"
   ]
  },
  {
   "cell_type": "code",
   "execution_count": 35,
   "id": "b8b1d141-f171-434a-ab3b-be7bc6f970cc",
   "metadata": {
    "execution": {
     "iopub.execute_input": "2022-07-04T06:12:08.240960Z",
     "iopub.status.busy": "2022-07-04T06:12:08.240529Z",
     "iopub.status.idle": "2022-07-04T06:12:08.246301Z",
     "shell.execute_reply": "2022-07-04T06:12:08.245673Z",
     "shell.execute_reply.started": "2022-07-04T06:12:08.240931Z"
    },
    "tags": []
   },
   "outputs": [
    {
     "data": {
      "text/plain": [
       "array([0.311269, 0.316798, 0.32    , ..., 1.72992 , 1.76008 , 1.8589  ])"
      ]
     },
     "execution_count": 35,
     "metadata": {},
     "output_type": "execute_result"
    }
   ],
   "source": [
    "np.unique(zmax)"
   ]
  },
  {
   "cell_type": "code",
   "execution_count": 7,
   "id": "119bb813-8fdd-48c6-bd6b-c3585e9ad645",
   "metadata": {
    "execution": {
     "iopub.execute_input": "2022-07-05T06:09:31.483943Z",
     "iopub.status.busy": "2022-07-05T06:09:31.483748Z",
     "iopub.status.idle": "2022-07-05T06:09:31.489295Z",
     "shell.execute_reply": "2022-07-05T06:09:31.488626Z",
     "shell.execute_reply.started": "2022-07-05T06:09:31.483925Z"
    },
    "tags": []
   },
   "outputs": [],
   "source": [
    "index = ((tsr>0)&(ssr>0))\n",
    "z = z[index]\n",
    "i = i[index]\n",
    "g_z=g_z[index]\n",
    "mass = mass[index]\n",
    "redshift = redshift[index]\n",
    "zmax = zmax[index]\n",
    "tsr = tsr[index]\n",
    "ssr = ssr[index]\n",
    "\n",
    "# index = (zmax>0.3)\n",
    "index = (zmax>0.5)\n",
    "z = z[index]\n",
    "i = i[index]\n",
    "g_z=g_z[index]\n",
    "mass = mass[index]\n",
    "redshift = redshift[index]\n",
    "zmax = zmax[index]\n",
    "tsr = tsr[index]\n",
    "ssr = ssr[index]\n",
    "# zmax[(zmax>0.5)]=0.5\n",
    "zmax[(zmax>0.7)]=0.7"
   ]
  },
  {
   "cell_type": "code",
   "execution_count": 82,
   "id": "c0410729-e1c4-4637-aa33-86503ce15161",
   "metadata": {
    "execution": {
     "iopub.execute_input": "2022-07-04T06:50:42.188858Z",
     "iopub.status.busy": "2022-07-04T06:50:42.188483Z",
     "iopub.status.idle": "2022-07-04T06:50:43.329846Z",
     "shell.execute_reply": "2022-07-04T06:50:43.328804Z",
     "shell.execute_reply.started": "2022-07-04T06:50:42.188832Z"
    },
    "tags": []
   },
   "outputs": [
    {
     "data": {
      "text/plain": [
       "(995,)"
      ]
     },
     "execution_count": 82,
     "metadata": {},
     "output_type": "execute_result"
    }
   ],
   "source": [
    "tsr.shape"
   ]
  },
  {
   "cell_type": "code",
   "execution_count": 38,
   "id": "3f1a40df-1680-488d-b967-b8c0c00fcebd",
   "metadata": {
    "collapsed": true,
    "execution": {
     "iopub.execute_input": "2022-07-04T06:12:28.354085Z",
     "iopub.status.busy": "2022-07-04T06:12:28.353738Z",
     "iopub.status.idle": "2022-07-04T06:12:28.436267Z",
     "shell.execute_reply": "2022-07-04T06:12:28.435756Z",
     "shell.execute_reply.started": "2022-07-04T06:12:28.354063Z"
    },
    "jupyter": {
     "outputs_hidden": true
    },
    "tags": []
   },
   "outputs": [
    {
     "data": {
      "text/plain": [
       "array([0.311269, 0.32    , 0.323449, 0.32528 , 0.33    , 0.330691,\n",
       "       0.331867, 0.331879, 0.333553, 0.334252, 0.34    , 0.340525,\n",
       "       0.341295, 0.343011, 0.349603, 0.35    , 0.350304, 0.350568,\n",
       "       0.352722, 0.353637, 0.359263, 0.360309, 0.360829, 0.36096 ,\n",
       "       0.363354, 0.363599, 0.365285, 0.367392, 0.369937, 0.37    ,\n",
       "       0.372221, 0.372453, 0.375512, 0.375545, 0.37729 , 0.379399,\n",
       "       0.382682, 0.38476 , 0.385856, 0.386208, 0.387147, 0.387173,\n",
       "       0.387234, 0.39    , 0.390258, 0.391387, 0.393321, 0.395024,\n",
       "       0.397842, 0.400097, 0.401319, 0.402346, 0.405787, 0.406935,\n",
       "       0.408124, 0.408197, 0.408434, 0.408686, 0.408984, 0.409395,\n",
       "       0.409433, 0.410411, 0.4109  , 0.413761, 0.415563, 0.41665 ,\n",
       "       0.418077, 0.42    , 0.420327, 0.423211, 0.423602, 0.423636,\n",
       "       0.424275, 0.424472, 0.424488, 0.424682, 0.425522, 0.426159,\n",
       "       0.426328, 0.426616, 0.426696, 0.42707 , 0.428767, 0.429376,\n",
       "       0.429777, 0.430392, 0.435085, 0.43608 , 0.43766 , 0.438459,\n",
       "       0.43917 , 0.439667, 0.44    , 0.440074, 0.441285, 0.442484,\n",
       "       0.442485, 0.443931, 0.448355, 0.448774, 0.450321, 0.451423,\n",
       "       0.451819, 0.452432, 0.453063, 0.453463, 0.454729, 0.455586,\n",
       "       0.455929, 0.45607 , 0.457159, 0.457376, 0.458487, 0.45854 ,\n",
       "       0.461632, 0.461959, 0.462518, 0.46262 , 0.462678, 0.463352,\n",
       "       0.464524, 0.465538, 0.46589 , 0.466376, 0.466574, 0.467393,\n",
       "       0.46894 , 0.469616, 0.47    , 0.471188, 0.471619, 0.472415,\n",
       "       0.472716, 0.472972, 0.473022, 0.473264, 0.473702, 0.473753,\n",
       "       0.474598, 0.476048, 0.476194, 0.476238, 0.476835, 0.476954,\n",
       "       0.476991, 0.477818, 0.478744, 0.478976, 0.479587, 0.479833,\n",
       "       0.480301, 0.481994, 0.483464, 0.483532, 0.483854, 0.484514,\n",
       "       0.485779, 0.485837, 0.4859  , 0.486875, 0.487258, 0.487901,\n",
       "       0.488071, 0.490574, 0.490717, 0.492312, 0.492522, 0.492789,\n",
       "       0.49307 , 0.49458 , 0.494779, 0.495279, 0.495614, 0.495733,\n",
       "       0.495762, 0.495996, 0.496115, 0.496152, 0.496489, 0.497014,\n",
       "       0.498164, 0.498867, 0.499084, 0.499088, 0.499763, 0.5     ])"
      ]
     },
     "execution_count": 38,
     "metadata": {},
     "output_type": "execute_result"
    }
   ],
   "source": [
    "np.unique(zmax)"
   ]
  },
  {
   "cell_type": "code",
   "execution_count": 8,
   "id": "5fc8ed65-412c-472c-a42d-1121ae5c4194",
   "metadata": {
    "execution": {
     "iopub.execute_input": "2022-07-05T06:09:40.485048Z",
     "iopub.status.busy": "2022-07-05T06:09:40.484925Z",
     "iopub.status.idle": "2022-07-05T06:09:40.794087Z",
     "shell.execute_reply": "2022-07-05T06:09:40.792900Z",
     "shell.execute_reply.started": "2022-07-05T06:09:40.485034Z"
    },
    "tags": []
   },
   "outputs": [],
   "source": [
    "V_0 = []\n",
    "for index in range(len(zmax)):\n",
    "    temp = cosmo.comoving_volume(zmax[index]) - cosmo.comoving_volume(0.5)\n",
    "    V_0.append(temp.value)\n",
    "    \n",
    "V_1 = np.array(V_0)\n",
    "Vtotal = cosmo.comoving_volume(0.7) - cosmo.comoving_volume(0.5)\n",
    "# Vtotal = cosmo.comoving_volume(0.5) - cosmo.comoving_volume(0.3)\n",
    "Vtotal\n",
    "weight0 = Vtotal.value/V_1\n",
    "\n",
    "weight1 = 1/ssr * 1/tsr * weight0"
   ]
  },
  {
   "cell_type": "code",
   "execution_count": 40,
   "id": "9b579329-8ca6-4c7a-817d-519efb0ccb94",
   "metadata": {
    "collapsed": true,
    "execution": {
     "iopub.execute_input": "2022-07-04T06:13:03.236933Z",
     "iopub.status.busy": "2022-07-04T06:13:03.236587Z",
     "iopub.status.idle": "2022-07-04T06:13:03.594614Z",
     "shell.execute_reply": "2022-07-04T06:13:03.594163Z",
     "shell.execute_reply.started": "2022-07-04T06:13:03.236912Z"
    },
    "jupyter": {
     "outputs_hidden": true
    },
    "tags": []
   },
   "outputs": [
    {
     "data": {
      "text/plain": [
       "array([17.985, 18.506, 18.508, 18.509, 18.721, 18.792, 18.797, 18.84 ,\n",
       "       18.88 , 18.964, 18.987, 18.993, 19.003, 19.006, 19.026, 19.05 ,\n",
       "       19.109, 19.118, 19.15 , 19.155, 19.166, 19.199, 19.219, 19.244,\n",
       "       19.252, 19.266, 19.305, 19.334, 19.342, 19.381, 19.394, 19.466,\n",
       "       19.471, 19.477, 19.502, 19.509, 19.528, 19.546, 19.555, 19.576,\n",
       "       19.583, 19.588, 19.614, 19.629, 19.678, 19.684, 19.708, 19.744,\n",
       "       19.762, 19.771, 19.781, 19.789, 19.799, 19.812, 19.827, 19.833,\n",
       "       19.849, 19.898, 19.904, 19.916, 19.92 , 19.924, 19.927, 19.956,\n",
       "       19.969, 19.984, 20.035, 20.041, 20.06 , 20.061, 20.062, 20.063,\n",
       "       20.091, 20.118, 20.13 , 20.132, 20.153, 20.158, 20.159, 20.204,\n",
       "       20.205, 20.212, 20.219, 20.229, 20.23 , 20.24 , 20.263, 20.272,\n",
       "       20.28 , 20.324, 20.347, 20.353, 20.367, 20.407, 20.416, 20.428,\n",
       "       20.438, 20.458, 20.465, 20.468, 20.47 , 20.471, 20.474, 20.531,\n",
       "       20.534, 20.557, 20.558, 20.576, 20.579, 20.599, 20.618, 20.62 ,\n",
       "       20.621, 20.628, 20.644, 20.653, 20.654, 20.658, 20.661, 20.669,\n",
       "       20.682, 20.686, 20.688, 20.695, 20.696, 20.712, 20.718, 20.72 ,\n",
       "       20.726, 20.734, 20.754, 20.758, 20.763, 20.765, 20.771, 20.773,\n",
       "       20.779, 20.785, 20.787, 20.793, 20.807, 20.823, 20.834, 20.835,\n",
       "       20.852, 20.858, 20.866, 20.877, 20.879, 20.888, 20.898, 20.901,\n",
       "       20.902, 20.91 , 20.912, 20.918, 20.927, 20.928, 20.932, 20.959,\n",
       "       20.966, 20.978, 20.98 , 20.981, 20.994, 21.004, 21.017, 21.021,\n",
       "       21.022, 21.027, 21.031, 21.032, 21.041, 21.042, 21.043, 21.049,\n",
       "       21.057, 21.06 , 21.064, 21.071, 21.096, 21.109, 21.112, 21.116,\n",
       "       21.121, 21.123, 21.125, 21.129, 21.131, 21.148, 21.15 , 21.156,\n",
       "       21.159, 21.161, 21.166, 21.182, 21.187, 21.188, 21.192, 21.201,\n",
       "       21.214, 21.219, 21.224, 21.234, 21.235, 21.236, 21.238, 21.246,\n",
       "       21.248, 21.25 , 21.251, 21.255, 21.264, 21.265, 21.285, 21.289,\n",
       "       21.292, 21.296, 21.297, 21.3  , 21.304, 21.327, 21.33 , 21.333,\n",
       "       21.366, 21.374, 21.377, 21.39 , 21.393, 21.395, 21.402, 21.408,\n",
       "       21.412, 21.429, 21.435, 21.436, 21.445, 21.456, 21.457, 21.459,\n",
       "       21.461, 21.462, 21.464, 21.481, 21.493, 21.506, 21.513, 21.514,\n",
       "       21.528, 21.533, 21.551, 21.554, 21.555, 21.569, 21.57 , 21.571,\n",
       "       21.572, 21.579, 21.585, 21.588, 21.603, 21.604, 21.609, 21.611,\n",
       "       21.615, 21.616, 21.623, 21.627, 21.628, 21.634, 21.649, 21.654,\n",
       "       21.661, 21.668, 21.675, 21.689, 21.69 , 21.695, 21.718, 21.72 ,\n",
       "       21.722, 21.723, 21.727, 21.738, 21.742, 21.746, 21.753, 21.759,\n",
       "       21.771, 21.774, 21.775, 21.776, 21.784, 21.786, 21.788, 21.789,\n",
       "       21.795, 21.797, 21.798, 21.803, 21.807, 21.808, 21.815, 21.816,\n",
       "       21.819, 21.822, 21.825, 21.839, 21.84 , 21.85 , 21.851, 21.854,\n",
       "       21.861, 21.864, 21.866, 21.871, 21.872, 21.875, 21.876, 21.885,\n",
       "       21.886, 21.89 , 21.893, 21.897, 21.898, 21.899, 21.921, 21.924,\n",
       "       21.926, 21.927, 21.937, 21.939, 21.946, 21.95 , 21.951, 21.959,\n",
       "       21.961, 21.971, 21.978, 21.979, 21.983, 21.984, 21.995, 22.   ,\n",
       "       22.003, 22.007, 22.021, 22.022, 22.025, 22.026, 22.03 , 22.042,\n",
       "       22.048, 22.052, 22.054, 22.055, 22.062, 22.066, 22.08 , 22.082,\n",
       "       22.083, 22.088, 22.089, 22.09 , 22.094, 22.096, 22.103, 22.107,\n",
       "       22.121, 22.122, 22.123, 22.125, 22.135, 22.136, 22.146, 22.148,\n",
       "       22.151, 22.159, 22.16 , 22.161, 22.163, 22.171, 22.172, 22.174,\n",
       "       22.175, 22.177, 22.178, 22.185, 22.19 , 22.192, 22.193, 22.197,\n",
       "       22.2  , 22.203, 22.206, 22.207, 22.217, 22.224, 22.229, 22.231,\n",
       "       22.241, 22.246, 22.247, 22.253, 22.254, 22.255, 22.258, 22.259,\n",
       "       22.264, 22.265, 22.266, 22.269, 22.275, 22.278, 22.279, 22.28 ,\n",
       "       22.287, 22.288, 22.298, 22.304, 22.309, 22.313, 22.318, 22.336,\n",
       "       22.339, 22.345, 22.346, 22.35 , 22.355, 22.357, 22.36 , 22.366,\n",
       "       22.367, 22.368, 22.369, 22.376, 22.383, 22.387, 22.393, 22.395,\n",
       "       22.398, 22.399, 22.407, 22.408, 22.411, 22.412, 22.415, 22.416,\n",
       "       22.418, 22.422, 22.425, 22.427, 22.428, 22.429, 22.435, 22.441,\n",
       "       22.447, 22.454, 22.455, 22.461, 22.467, 22.472, 22.473, 22.474,\n",
       "       22.476, 22.48 , 22.482, 22.489, 22.49 , 22.496, 22.499, 22.505,\n",
       "       22.508, 22.514, 22.522, 22.525, 22.526, 22.531, 22.533, 22.535,\n",
       "       22.542, 22.549, 22.55 , 22.554, 22.557, 22.558, 22.559, 22.573,\n",
       "       22.58 , 22.582, 22.583, 22.588, 22.591, 22.597, 22.598, 22.603,\n",
       "       22.604, 22.606, 22.608, 22.611, 22.613, 22.614, 22.618, 22.62 ,\n",
       "       22.624, 22.625, 22.627, 22.629, 22.63 , 22.631, 22.633, 22.635,\n",
       "       22.639, 22.645, 22.646, 22.652, 22.653, 22.654, 22.658, 22.659,\n",
       "       22.669, 22.671, 22.674, 22.675, 22.676, 22.683, 22.684, 22.69 ,\n",
       "       22.691, 22.696, 22.697, 22.698, 22.7  , 22.703, 22.707, 22.709,\n",
       "       22.713, 22.717, 22.719, 22.72 , 22.722, 22.726, 22.731, 22.735,\n",
       "       22.747, 22.749, 22.753, 22.754, 22.756, 22.764, 22.766, 22.784,\n",
       "       22.785, 22.791, 22.796, 22.798, 22.802, 22.807, 22.811, 22.814,\n",
       "       22.818, 22.82 , 22.821, 22.824, 22.827, 22.829, 22.837, 22.839,\n",
       "       22.842, 22.845, 22.85 , 22.858, 22.86 , 22.861, 22.863, 22.865,\n",
       "       22.869, 22.871, 22.872, 22.873, 22.879, 22.882, 22.886, 22.891,\n",
       "       22.892, 22.894, 22.897, 22.902, 22.905, 22.906, 22.908, 22.911,\n",
       "       22.919, 22.921, 22.923, 22.929, 22.936, 22.937, 22.939, 22.941,\n",
       "       22.955, 22.964, 22.965, 22.967, 22.971, 22.977, 22.979, 22.981,\n",
       "       22.986, 22.999, 23.002, 23.008, 23.009, 23.017, 23.018, 23.021,\n",
       "       23.024, 23.026, 23.029, 23.032, 23.036, 23.038, 23.04 , 23.043,\n",
       "       23.044, 23.046, 23.048, 23.05 , 23.052, 23.056, 23.065, 23.071,\n",
       "       23.072, 23.073, 23.074, 23.075, 23.076, 23.078, 23.079, 23.081,\n",
       "       23.083, 23.086, 23.088, 23.092, 23.095, 23.1  , 23.101, 23.108,\n",
       "       23.109, 23.111, 23.113, 23.115, 23.119, 23.12 , 23.122, 23.125,\n",
       "       23.127, 23.129, 23.138, 23.139, 23.141, 23.148, 23.149, 23.15 ,\n",
       "       23.155, 23.161, 23.162, 23.167, 23.169, 23.171, 23.172, 23.174,\n",
       "       23.175, 23.177, 23.178, 23.182, 23.184, 23.188, 23.191, 23.195,\n",
       "       23.196, 23.197, 23.198, 23.201, 23.204, 23.205, 23.207, 23.211,\n",
       "       23.215, 23.225, 23.226, 23.228, 23.233, 23.239, 23.242, 23.25 ,\n",
       "       23.251, 23.258, 23.26 , 23.267, 23.268, 23.272, 23.279, 23.281,\n",
       "       23.284, 23.288, 23.295, 23.299, 23.303, 23.306, 23.311, 23.313,\n",
       "       23.315, 23.316, 23.317, 23.321, 23.323, 23.324, 23.325, 23.326,\n",
       "       23.329, 23.332, 23.339, 23.344, 23.346, 23.347, 23.355, 23.359,\n",
       "       23.36 , 23.362, 23.365, 23.369, 23.371, 23.372, 23.379, 23.389,\n",
       "       23.39 , 23.393, 23.394, 23.4  , 23.403, 23.404, 23.405, 23.406,\n",
       "       23.414, 23.415, 23.425, 23.427, 23.432, 23.434, 23.438, 23.44 ,\n",
       "       23.443, 23.45 , 23.452, 23.459, 23.464, 23.469, 23.472, 23.473,\n",
       "       23.479, 23.484, 23.485, 23.49 , 23.495, 23.496, 23.498, 23.51 ,\n",
       "       23.517, 23.518, 23.521, 23.523, 23.524, 23.525, 23.528, 23.532,\n",
       "       23.535, 23.536, 23.539, 23.542, 23.543, 23.546, 23.548, 23.549,\n",
       "       23.55 , 23.551, 23.555, 23.556, 23.557, 23.558, 23.559, 23.56 ,\n",
       "       23.562, 23.564, 23.568, 23.569, 23.57 , 23.571, 23.574, 23.576,\n",
       "       23.578, 23.581, 23.585, 23.587, 23.597, 23.599, 23.6  , 23.602,\n",
       "       23.604, 23.605, 23.63 , 23.634, 23.638, 23.641, 23.644, 23.651,\n",
       "       23.66 , 23.665, 23.67 , 23.673, 23.679, 23.682, 23.683, 23.684,\n",
       "       23.686, 23.699, 23.704, 23.707, 23.713, 23.715, 23.726, 23.729,\n",
       "       23.742, 23.75 , 23.756, 23.799, 23.809, 23.81 , 23.811, 23.818,\n",
       "       23.832, 23.837, 23.838, 23.845, 23.851, 23.861, 23.863, 23.868,\n",
       "       23.872, 23.884, 23.885, 23.89 , 23.892, 23.899, 23.903, 23.905,\n",
       "       23.906, 23.913, 23.919, 23.924, 23.928, 23.934, 23.936, 23.938,\n",
       "       23.947, 23.954, 23.957, 23.962, 23.97 , 24.014, 24.017, 24.019,\n",
       "       24.036, 24.045, 24.057, 24.082, 24.093, 24.114, 24.119, 24.15 ,\n",
       "       24.155, 24.17 , 24.174, 24.187, 24.193, 24.323, 24.505, 24.71 ,\n",
       "       24.884, 24.97 , 26.749])"
      ]
     },
     "execution_count": 40,
     "metadata": {},
     "output_type": "execute_result"
    }
   ],
   "source": [
    "np.unique(i)"
   ]
  },
  {
   "cell_type": "code",
   "execution_count": 21,
   "id": "b2c8295f-3e5d-4594-be03-f925b0b90fb9",
   "metadata": {
    "execution": {
     "iopub.execute_input": "2022-07-04T05:32:44.236252Z",
     "iopub.status.busy": "2022-07-04T05:32:44.235947Z",
     "iopub.status.idle": "2022-07-04T05:32:44.241388Z",
     "shell.execute_reply": "2022-07-04T05:32:44.240761Z",
     "shell.execute_reply.started": "2022-07-04T05:32:44.236219Z"
    },
    "tags": []
   },
   "outputs": [
    {
     "data": {
      "text/plain": [
       "-0.05700000000000216"
      ]
     },
     "execution_count": 21,
     "metadata": {},
     "output_type": "execute_result"
    }
   ],
   "source": [
    "np.min(g_z)"
   ]
  },
  {
   "cell_type": "code",
   "execution_count": 23,
   "id": "3614e017-c0cb-45d2-9718-1d2a7183ea3f",
   "metadata": {
    "execution": {
     "iopub.execute_input": "2022-07-04T05:32:59.237512Z",
     "iopub.status.busy": "2022-07-04T05:32:59.237167Z",
     "iopub.status.idle": "2022-07-04T05:32:59.242777Z",
     "shell.execute_reply": "2022-07-04T05:32:59.242246Z",
     "shell.execute_reply.started": "2022-07-04T05:32:59.237491Z"
    },
    "tags": []
   },
   "outputs": [
    {
     "data": {
      "text/plain": [
       "array([-0.057,  0.014,  0.163, ...,  3.649,  3.691,  3.698])"
      ]
     },
     "execution_count": 23,
     "metadata": {},
     "output_type": "execute_result"
    }
   ],
   "source": [
    "np.unique(g_z)"
   ]
  },
  {
   "cell_type": "code",
   "execution_count": 25,
   "id": "fb150947-1e2b-44cc-af5e-bed8897ca78f",
   "metadata": {
    "execution": {
     "iopub.execute_input": "2022-07-04T05:44:40.185973Z",
     "iopub.status.busy": "2022-07-04T05:44:40.185417Z",
     "iopub.status.idle": "2022-07-04T05:44:40.188904Z",
     "shell.execute_reply": "2022-07-04T05:44:40.188383Z",
     "shell.execute_reply.started": "2022-07-04T05:44:40.185947Z"
    },
    "tags": []
   },
   "outputs": [],
   "source": [
    "g_z_VVDS = g_z[g_z>2]"
   ]
  },
  {
   "cell_type": "code",
   "execution_count": 26,
   "id": "52f6d894-c6e9-4c06-9937-4f11b678a17c",
   "metadata": {
    "collapsed": true,
    "execution": {
     "iopub.execute_input": "2022-07-04T05:44:45.186633Z",
     "iopub.status.busy": "2022-07-04T05:44:45.186382Z",
     "iopub.status.idle": "2022-07-04T05:44:45.193562Z",
     "shell.execute_reply": "2022-07-04T05:44:45.192888Z",
     "shell.execute_reply.started": "2022-07-04T05:44:45.186613Z"
    },
    "jupyter": {
     "outputs_hidden": true
    },
    "tags": []
   },
   "outputs": [
    {
     "data": {
      "text/plain": [
       "array([2.48 , 2.581, 2.571, 2.606, 3.406, 3.135, 2.712, 2.232, 3.035,\n",
       "       2.102, 2.282, 3.211, 2.382, 2.848, 2.716, 2.078, 2.809, 2.669,\n",
       "       2.399, 2.924, 2.952, 3.279, 2.798, 2.945, 3.051, 2.127, 2.319,\n",
       "       2.439, 2.27 , 2.687, 2.069, 2.083, 2.142, 2.07 , 2.767, 2.087,\n",
       "       2.797, 2.774, 2.658, 2.182, 2.169, 2.503, 2.932, 2.085, 2.026,\n",
       "       2.699, 2.425, 3.649, 2.773, 2.94 , 2.167, 2.831, 2.148, 2.821,\n",
       "       2.554, 2.097, 2.507, 2.007, 2.478, 2.046, 2.545, 2.63 , 2.804,\n",
       "       2.581, 2.1  , 2.301, 2.663, 2.008, 2.535, 2.243, 2.841, 2.086,\n",
       "       2.14 , 2.282, 2.161, 2.428, 2.144, 2.233, 2.678, 2.018, 2.109,\n",
       "       2.348, 2.788, 2.053, 2.904, 2.446, 2.073, 2.544, 2.872, 2.218,\n",
       "       2.144, 2.524, 2.233, 2.303, 2.186, 2.488, 3.648, 2.4  , 2.531,\n",
       "       2.882, 3.093, 2.25 , 2.212, 2.3  , 2.84 , 3.442, 2.065, 3.12 ,\n",
       "       2.397, 2.808, 2.968, 2.449, 3.221, 2.337, 2.336, 2.737, 2.751,\n",
       "       3.02 , 2.219, 2.456, 2.531, 2.427, 3.031, 3.148, 2.719, 2.761,\n",
       "       2.309, 3.033, 2.289, 2.96 , 2.066, 2.008, 2.418, 2.314, 2.747,\n",
       "       2.057, 2.708, 2.466, 2.777, 2.348, 2.027, 3.012, 2.532, 2.027,\n",
       "       2.458, 2.1  , 2.843, 2.282, 2.619, 3.698, 2.781, 3.114, 2.266,\n",
       "       2.497, 2.731, 2.354, 2.147, 2.709, 2.271, 2.519, 2.718, 2.005,\n",
       "       2.116, 2.16 , 2.266, 2.295, 2.736, 2.819, 2.794, 2.632, 2.195,\n",
       "       2.536, 2.68 , 3.111, 2.945, 2.3  , 2.093, 2.743, 2.602, 2.749,\n",
       "       2.613, 2.5  , 2.104, 2.124, 2.03 , 3.419, 2.238, 2.762, 2.049,\n",
       "       2.384, 2.637, 2.08 , 2.273, 2.021, 2.398, 2.286, 2.692, 2.947,\n",
       "       2.118, 2.791, 2.47 , 2.794, 2.694, 2.416, 2.524, 2.562, 2.672,\n",
       "       2.803, 3.097, 2.413, 2.204, 2.155, 3.021, 2.964, 2.746, 3.111,\n",
       "       2.725, 2.484, 2.72 , 2.119, 2.981, 2.92 , 2.981, 2.049, 2.142,\n",
       "       2.531, 2.505, 2.592, 2.564, 2.295, 2.296, 2.638, 2.84 , 2.289,\n",
       "       2.636, 2.06 , 2.079, 2.475, 3.29 , 2.358, 2.1  , 2.094, 2.864,\n",
       "       2.792, 2.721, 2.436, 2.269, 2.187, 2.68 , 2.426, 2.409, 2.027,\n",
       "       2.023, 2.989, 2.402, 2.361, 2.251, 2.541, 2.483, 2.49 , 2.154,\n",
       "       2.023, 2.789, 2.076, 2.635, 2.829, 2.15 , 2.497, 3.058, 2.509,\n",
       "       2.026, 2.656, 2.618, 2.931, 2.446, 2.676, 2.829, 2.15 , 2.015,\n",
       "       2.012, 2.219, 2.71 , 2.84 , 2.924, 2.599, 2.765, 2.65 , 2.079,\n",
       "       2.001, 2.595, 2.56 , 2.825, 2.583, 2.104, 2.636, 2.813, 2.141,\n",
       "       2.359, 2.464, 2.234, 2.846, 2.423, 2.218, 2.015, 3.691, 2.848,\n",
       "       2.324, 2.387, 2.049, 2.025, 2.589, 2.166, 2.001, 3.005, 2.436,\n",
       "       2.283, 2.126, 3.048, 3.016, 2.5  , 2.265, 3.048, 2.524, 3.001])"
      ]
     },
     "execution_count": 26,
     "metadata": {},
     "output_type": "execute_result"
    }
   ],
   "source": [
    "g_z_VVDS"
   ]
  },
  {
   "cell_type": "code",
   "execution_count": 27,
   "id": "e5b1ac26-de53-4cff-8219-b757ac1abc9a",
   "metadata": {
    "execution": {
     "iopub.execute_input": "2022-07-04T05:46:30.188537Z",
     "iopub.status.busy": "2022-07-04T05:46:30.188257Z",
     "iopub.status.idle": "2022-07-04T05:46:30.192895Z",
     "shell.execute_reply": "2022-07-04T05:46:30.192171Z",
     "shell.execute_reply.started": "2022-07-04T05:46:30.188511Z"
    }
   },
   "outputs": [],
   "source": [
    "np.save(\"./g_z_VVDS.npy\",g_z_VVDS)"
   ]
  },
  {
   "cell_type": "code",
   "execution_count": 10,
   "id": "8e759a3b-bc8c-43ff-917e-6e91b92388f8",
   "metadata": {
    "execution": {
     "iopub.execute_input": "2022-07-05T06:10:19.434935Z",
     "iopub.status.busy": "2022-07-05T06:10:19.434746Z",
     "iopub.status.idle": "2022-07-05T06:10:19.437722Z",
     "shell.execute_reply": "2022-07-05T06:10:19.437261Z",
     "shell.execute_reply.started": "2022-07-05T06:10:19.434919Z"
    },
    "tags": []
   },
   "outputs": [],
   "source": [
    "test = np.vstack((i,z,g_z,redshift,weight1))\n",
    "test = test.T"
   ]
  },
  {
   "cell_type": "code",
   "execution_count": 47,
   "id": "015d030c-411b-4c4e-8766-907b60f8bc57",
   "metadata": {
    "collapsed": true,
    "execution": {
     "iopub.execute_input": "2022-07-04T06:35:23.626109Z",
     "iopub.status.busy": "2022-07-04T06:35:23.625751Z",
     "iopub.status.idle": "2022-07-04T06:35:23.635598Z",
     "shell.execute_reply": "2022-07-04T06:35:23.634976Z",
     "shell.execute_reply.started": "2022-07-04T06:35:23.626085Z"
    },
    "jupyter": {
     "outputs_hidden": true
    },
    "tags": []
   },
   "outputs": [
    {
     "data": {
      "text/plain": [
       "array([17.985, 18.506, 18.508, 18.509, 18.721, 18.792, 18.797, 18.84 ,\n",
       "       18.88 , 18.964, 18.987, 18.993, 19.003, 19.006, 19.026, 19.05 ,\n",
       "       19.109, 19.118, 19.15 , 19.155, 19.166, 19.199, 19.219, 19.244,\n",
       "       19.252, 19.266, 19.305, 19.334, 19.342, 19.381, 19.394, 19.466,\n",
       "       19.471, 19.477, 19.502, 19.509, 19.528, 19.546, 19.555, 19.576,\n",
       "       19.583, 19.588, 19.614, 19.629, 19.678, 19.684, 19.708, 19.744,\n",
       "       19.762, 19.771, 19.781, 19.789, 19.799, 19.812, 19.827, 19.833,\n",
       "       19.849, 19.898, 19.904, 19.916, 19.92 , 19.924, 19.927, 19.956,\n",
       "       19.969, 19.984, 20.035, 20.041, 20.06 , 20.061, 20.062, 20.063,\n",
       "       20.091, 20.118, 20.13 , 20.132, 20.153, 20.158, 20.159, 20.204,\n",
       "       20.205, 20.212, 20.219, 20.229, 20.23 , 20.24 , 20.263, 20.272,\n",
       "       20.28 , 20.324, 20.347, 20.353, 20.367, 20.407, 20.416, 20.428,\n",
       "       20.438, 20.458, 20.465, 20.468, 20.47 , 20.471, 20.474, 20.531,\n",
       "       20.534, 20.557, 20.558, 20.576, 20.579, 20.599, 20.618, 20.62 ,\n",
       "       20.621, 20.628, 20.644, 20.653, 20.654, 20.658, 20.661, 20.669,\n",
       "       20.682, 20.686, 20.688, 20.695, 20.696, 20.712, 20.718, 20.72 ,\n",
       "       20.726, 20.734, 20.754, 20.758, 20.763, 20.765, 20.771, 20.773,\n",
       "       20.779, 20.785, 20.787, 20.793, 20.807, 20.823, 20.834, 20.835,\n",
       "       20.852, 20.858, 20.866, 20.877, 20.879, 20.888, 20.898, 20.901,\n",
       "       20.902, 20.91 , 20.912, 20.918, 20.927, 20.928, 20.932, 20.959,\n",
       "       20.966, 20.978, 20.98 , 20.981, 20.994, 21.004, 21.017, 21.021,\n",
       "       21.022, 21.027, 21.031, 21.032, 21.041, 21.042, 21.043, 21.049,\n",
       "       21.057, 21.06 , 21.064, 21.071, 21.096, 21.109, 21.112, 21.116,\n",
       "       21.121, 21.123, 21.125, 21.129, 21.131, 21.148, 21.15 , 21.156,\n",
       "       21.159, 21.161, 21.166, 21.182, 21.187, 21.188, 21.192, 21.201,\n",
       "       21.214, 21.219, 21.224, 21.234, 21.235, 21.236, 21.238, 21.246,\n",
       "       21.248, 21.25 , 21.251, 21.255, 21.264, 21.265, 21.285, 21.289,\n",
       "       21.292, 21.296, 21.297, 21.3  , 21.304, 21.327, 21.33 , 21.333,\n",
       "       21.366, 21.374, 21.377, 21.39 , 21.393, 21.395, 21.402, 21.408,\n",
       "       21.412, 21.429, 21.435, 21.436, 21.445, 21.456, 21.457, 21.459,\n",
       "       21.461, 21.462, 21.464, 21.481, 21.493, 21.506, 21.513, 21.514,\n",
       "       21.528, 21.533, 21.551, 21.554, 21.555, 21.569, 21.57 , 21.571,\n",
       "       21.572, 21.579, 21.585, 21.588, 21.603, 21.604, 21.609, 21.611,\n",
       "       21.615, 21.616, 21.623, 21.627, 21.628, 21.634, 21.649, 21.654,\n",
       "       21.661, 21.668, 21.675, 21.689, 21.69 , 21.695, 21.718, 21.72 ,\n",
       "       21.722, 21.723, 21.727, 21.738, 21.742, 21.746, 21.753, 21.759,\n",
       "       21.771, 21.774, 21.775, 21.776, 21.784, 21.786, 21.788, 21.789,\n",
       "       21.795, 21.797, 21.798, 21.803, 21.807, 21.808, 21.815, 21.816,\n",
       "       21.819, 21.822, 21.825, 21.839, 21.84 , 21.85 , 21.851, 21.854,\n",
       "       21.861, 21.864, 21.866, 21.871, 21.872, 21.875, 21.876, 21.885,\n",
       "       21.886, 21.89 , 21.893, 21.897, 21.898, 21.899, 21.921, 21.924,\n",
       "       21.926, 21.927, 21.937, 21.939, 21.946, 21.95 , 21.951, 21.959,\n",
       "       21.961, 21.971, 21.978, 21.979, 21.983, 21.984, 21.995, 22.   ,\n",
       "       22.003, 22.007, 22.021, 22.022, 22.025, 22.026, 22.03 , 22.042,\n",
       "       22.048, 22.052, 22.054, 22.055, 22.062, 22.066, 22.08 , 22.082,\n",
       "       22.083, 22.088, 22.089, 22.09 , 22.094, 22.096, 22.103, 22.107,\n",
       "       22.121, 22.122, 22.123, 22.125, 22.135, 22.136, 22.146, 22.148,\n",
       "       22.151, 22.159, 22.16 , 22.161, 22.163, 22.171, 22.172, 22.174,\n",
       "       22.175, 22.177, 22.178, 22.185, 22.19 , 22.192, 22.193, 22.197,\n",
       "       22.2  , 22.203, 22.206, 22.207, 22.217, 22.224, 22.229, 22.231,\n",
       "       22.241, 22.246, 22.247, 22.253, 22.254, 22.255, 22.258, 22.259,\n",
       "       22.264, 22.265, 22.266, 22.269, 22.275, 22.278, 22.279, 22.28 ,\n",
       "       22.287, 22.288, 22.298, 22.304, 22.309, 22.313, 22.318, 22.336,\n",
       "       22.339, 22.345, 22.346, 22.35 , 22.355, 22.357, 22.36 , 22.366,\n",
       "       22.367, 22.368, 22.369, 22.376, 22.383, 22.387, 22.393, 22.395,\n",
       "       22.398, 22.399, 22.407, 22.408, 22.411, 22.412, 22.415, 22.416,\n",
       "       22.418, 22.422, 22.425, 22.427, 22.428, 22.429, 22.435, 22.441,\n",
       "       22.447, 22.454, 22.455, 22.461, 22.467, 22.472, 22.473, 22.474,\n",
       "       22.476, 22.48 , 22.482, 22.489, 22.49 , 22.496, 22.499, 22.505,\n",
       "       22.508, 22.514, 22.522, 22.525, 22.526, 22.531, 22.533, 22.535,\n",
       "       22.542, 22.549, 22.55 , 22.554, 22.557, 22.558, 22.559, 22.573,\n",
       "       22.58 , 22.582, 22.583, 22.588, 22.591, 22.597, 22.598, 22.603,\n",
       "       22.604, 22.606, 22.608, 22.611, 22.613, 22.614, 22.618, 22.62 ,\n",
       "       22.624, 22.625, 22.627, 22.629, 22.63 , 22.631, 22.633, 22.635,\n",
       "       22.639, 22.645, 22.646, 22.652, 22.653, 22.654, 22.658, 22.659,\n",
       "       22.669, 22.671, 22.674, 22.675, 22.676, 22.683, 22.684, 22.69 ,\n",
       "       22.691, 22.696, 22.697, 22.698, 22.7  , 22.703, 22.707, 22.709,\n",
       "       22.713, 22.717, 22.719, 22.72 , 22.722, 22.726, 22.731, 22.735,\n",
       "       22.747, 22.749, 22.753, 22.754, 22.756, 22.764, 22.766, 22.784,\n",
       "       22.785, 22.791, 22.796, 22.798, 22.802, 22.807, 22.811, 22.814,\n",
       "       22.818, 22.82 , 22.821, 22.824, 22.827, 22.829, 22.837, 22.839,\n",
       "       22.842, 22.845, 22.85 , 22.858, 22.86 , 22.861, 22.863, 22.865,\n",
       "       22.869, 22.871, 22.872, 22.873, 22.879, 22.882, 22.886, 22.891,\n",
       "       22.892, 22.894, 22.897, 22.902, 22.905, 22.906, 22.908, 22.911,\n",
       "       22.919, 22.921, 22.923, 22.929, 22.936, 22.937, 22.939, 22.941,\n",
       "       22.955, 22.964, 22.965, 22.967, 22.971, 22.977, 22.979, 22.981,\n",
       "       22.986, 22.999, 23.002, 23.008, 23.009, 23.017, 23.018, 23.021,\n",
       "       23.024, 23.026, 23.029, 23.032, 23.036, 23.038, 23.04 , 23.043,\n",
       "       23.044, 23.046, 23.048, 23.05 , 23.052, 23.056, 23.065, 23.071,\n",
       "       23.072, 23.073, 23.074, 23.075, 23.076, 23.078, 23.079, 23.081,\n",
       "       23.083, 23.086, 23.088, 23.092, 23.095, 23.1  , 23.101, 23.108,\n",
       "       23.109, 23.111, 23.113, 23.115, 23.119, 23.12 , 23.122, 23.125,\n",
       "       23.127, 23.129, 23.138, 23.139, 23.141, 23.148, 23.149, 23.15 ,\n",
       "       23.155, 23.161, 23.162, 23.167, 23.169, 23.171, 23.172, 23.174,\n",
       "       23.175, 23.177, 23.178, 23.182, 23.184, 23.188, 23.191, 23.195,\n",
       "       23.196, 23.197, 23.198, 23.201, 23.204, 23.205, 23.207, 23.211,\n",
       "       23.215, 23.225, 23.226, 23.228, 23.233, 23.239, 23.242, 23.25 ,\n",
       "       23.251, 23.258, 23.26 , 23.267, 23.268, 23.272, 23.279, 23.281,\n",
       "       23.284, 23.288, 23.295, 23.299, 23.303, 23.306, 23.311, 23.313,\n",
       "       23.315, 23.316, 23.317, 23.321, 23.323, 23.324, 23.325, 23.326,\n",
       "       23.329, 23.332, 23.339, 23.344, 23.346, 23.347, 23.355, 23.359,\n",
       "       23.36 , 23.362, 23.365, 23.369, 23.371, 23.372, 23.379, 23.389,\n",
       "       23.39 , 23.393, 23.394, 23.4  , 23.403, 23.404, 23.405, 23.406,\n",
       "       23.414, 23.415, 23.425, 23.427, 23.432, 23.434, 23.438, 23.44 ,\n",
       "       23.443, 23.45 , 23.452, 23.459, 23.464, 23.469, 23.472, 23.473,\n",
       "       23.479, 23.484, 23.485, 23.49 , 23.495, 23.496, 23.498, 23.51 ,\n",
       "       23.517, 23.518, 23.521, 23.523, 23.524, 23.525, 23.528, 23.532,\n",
       "       23.535, 23.536, 23.539, 23.542, 23.543, 23.546, 23.548, 23.549,\n",
       "       23.55 , 23.551, 23.555, 23.556, 23.557, 23.558, 23.559, 23.56 ,\n",
       "       23.562, 23.564, 23.568, 23.569, 23.57 , 23.571, 23.574, 23.576,\n",
       "       23.578, 23.581, 23.585, 23.587, 23.597, 23.599, 23.6  , 23.602,\n",
       "       23.604, 23.605, 23.63 , 23.634, 23.638, 23.641, 23.644, 23.651,\n",
       "       23.66 , 23.665, 23.67 , 23.673, 23.679, 23.682, 23.683, 23.684,\n",
       "       23.686, 23.699, 23.704, 23.707, 23.713, 23.715, 23.726, 23.729,\n",
       "       23.742, 23.75 , 23.756, 23.799, 23.809, 23.81 , 23.811, 23.818,\n",
       "       23.832, 23.837, 23.838, 23.845, 23.851, 23.861, 23.863, 23.868,\n",
       "       23.872, 23.884, 23.885, 23.89 , 23.892, 23.899, 23.903, 23.905,\n",
       "       23.906, 23.913, 23.919, 23.924, 23.928, 23.934, 23.936, 23.938,\n",
       "       23.947, 23.954, 23.957, 23.962, 23.97 , 24.014, 24.017, 24.019,\n",
       "       24.036, 24.045, 24.057, 24.082, 24.093, 24.114, 24.119, 24.15 ,\n",
       "       24.155, 24.17 , 24.174, 24.187, 24.193, 24.323, 24.505, 24.71 ,\n",
       "       24.884, 24.97 , 26.749])"
      ]
     },
     "execution_count": 47,
     "metadata": {},
     "output_type": "execute_result"
    }
   ],
   "source": [
    "np.unique(i)"
   ]
  },
  {
   "cell_type": "code",
   "execution_count": 54,
   "id": "de8d3d0b-32a3-4969-ba7e-2ddcb27f01e5",
   "metadata": {
    "collapsed": true,
    "execution": {
     "iopub.execute_input": "2022-07-04T06:38:26.417989Z",
     "iopub.status.busy": "2022-07-04T06:38:26.417691Z",
     "iopub.status.idle": "2022-07-04T06:38:26.423065Z",
     "shell.execute_reply": "2022-07-04T06:38:26.422579Z",
     "shell.execute_reply.started": "2022-07-04T06:38:26.417966Z"
    },
    "jupyter": {
     "outputs_hidden": true
    },
    "tags": []
   },
   "outputs": [
    {
     "data": {
      "text/plain": [
       "array([19.781, 19.708, 19.502, 19.799, 19.166, 19.155, 19.342, 19.927,\n",
       "       19.849, 19.394, 19.252, 19.118, 19.244, 19.509, 18.797, 19.588,\n",
       "       19.305, 18.721, 19.477, 19.219, 19.528, 19.956, 19.555, 19.789,\n",
       "       19.916, 19.629, 19.684, 19.969, 19.026, 19.92 , 19.109, 19.05 ,\n",
       "       19.003, 19.006, 18.88 , 19.924, 19.744, 19.833, 19.762, 19.546,\n",
       "       19.984, 19.576, 17.985, 19.15 , 18.792, 18.508, 19.266, 18.84 ,\n",
       "       19.471, 18.993, 19.827, 19.904, 19.812, 19.678, 19.381, 18.509,\n",
       "       19.771, 18.987, 19.583, 18.506, 19.466, 19.334, 19.614, 19.898,\n",
       "       19.199, 18.964])"
      ]
     },
     "execution_count": 54,
     "metadata": {},
     "output_type": "execute_result"
    }
   ],
   "source": [
    "i[i<20]"
   ]
  },
  {
   "cell_type": "code",
   "execution_count": 143,
   "id": "4bfcf089-75ba-41e5-adbb-d74b71958dce",
   "metadata": {
    "execution": {
     "iopub.execute_input": "2022-07-04T08:20:30.338417Z",
     "iopub.status.busy": "2022-07-04T08:20:30.337998Z",
     "iopub.status.idle": "2022-07-04T08:20:30.410937Z",
     "shell.execute_reply": "2022-07-04T08:20:30.410448Z",
     "shell.execute_reply.started": "2022-07-04T08:20:30.338388Z"
    },
    "tags": []
   },
   "outputs": [
    {
     "data": {
      "text/plain": [
       "<matplotlib.collections.PathCollection at 0x2b0782a60be0>"
      ]
     },
     "execution_count": 143,
     "metadata": {},
     "output_type": "execute_result"
    },
    {
     "data": {
      "image/png": "[encoded data removed]",
      "text/plain": [
       "<Figure size 432x288 with 1 Axes>"
      ]
     },
     "metadata": {
      "needs_background": "light"
     },
     "output_type": "display_data"
    }
   ],
   "source": [
    "plt.scatter(i,mass,s =0.1)"
   ]
  },
  {
   "cell_type": "code",
   "execution_count": 133,
   "id": "fd2887ff-a2e7-4586-8fbc-5c7d52f3ab82",
   "metadata": {
    "execution": {
     "iopub.execute_input": "2022-07-04T08:09:24.287827Z",
     "iopub.status.busy": "2022-07-04T08:09:24.287494Z",
     "iopub.status.idle": "2022-07-04T08:09:24.361763Z",
     "shell.execute_reply": "2022-07-04T08:09:24.361277Z",
     "shell.execute_reply.started": "2022-07-04T08:09:24.287808Z"
    },
    "tags": []
   },
   "outputs": [
    {
     "data": {
      "text/plain": [
       "<matplotlib.collections.PathCollection at 0x2b0780906040>"
      ]
     },
     "execution_count": 133,
     "metadata": {},
     "output_type": "execute_result"
    },
    {
     "data": {
      "image/png": "[encoded data removed]",
      "text/plain": [
       "<Figure size 432x288 with 1 Axes>"
      ]
     },
     "metadata": {
      "needs_background": "light"
     },
     "output_type": "display_data"
    }
   ],
   "source": [
    "plt.scatter(mass,i,s =0.1)"
   ]
  },
  {
   "cell_type": "code",
   "execution_count": 30,
   "id": "2f6641cf-4919-458d-bff7-d7b2fd3c0d12",
   "metadata": {
    "execution": {
     "iopub.execute_input": "2022-07-02T16:11:21.982539Z",
     "iopub.status.busy": "2022-07-02T16:11:21.982364Z",
     "iopub.status.idle": "2022-07-02T16:11:21.985380Z",
     "shell.execute_reply": "2022-07-02T16:11:21.985040Z",
     "shell.execute_reply.started": "2022-07-02T16:11:21.982523Z"
    },
    "tags": []
   },
   "outputs": [
    {
     "data": {
      "text/plain": [
       "(1588, 5)"
      ]
     },
     "execution_count": 30,
     "metadata": {},
     "output_type": "execute_result"
    }
   ],
   "source": [
    "test.shape"
   ]
  },
  {
   "cell_type": "code",
   "execution_count": 30,
   "id": "c31b5547-9e7c-4063-9680-3504d94a608e",
   "metadata": {
    "execution": {
     "iopub.execute_input": "2022-07-03T12:01:14.959739Z",
     "iopub.status.busy": "2022-07-03T12:01:14.959508Z",
     "iopub.status.idle": "2022-07-03T12:01:14.963880Z",
     "shell.execute_reply": "2022-07-03T12:01:14.963458Z",
     "shell.execute_reply.started": "2022-07-03T12:01:14.959723Z"
    },
    "tags": []
   },
   "outputs": [],
   "source": [
    "# ibins = np.array([20,20.5,21,21.5,22,22.5])\n",
    "# frac = np.zeros(5)\n",
    "# for j in range(5):\n",
    "#     index = ((i>ibins[j])&(i<ibins[j+1]))\n",
    "#     temp = test[index]\n",
    "#     temp = temp.T\n",
    "#     frac[j] = np.sum(temp[-1][temp[2]>2])/np.sum(temp[-1])\n",
    "    "
   ]
  },
  {
   "cell_type": "code",
   "execution_count": 32,
   "id": "513f66b2-53fc-44f4-896f-3da59ef13548",
   "metadata": {
    "execution": {
     "iopub.execute_input": "2022-07-03T12:04:33.169597Z",
     "iopub.status.busy": "2022-07-03T12:04:33.168992Z",
     "iopub.status.idle": "2022-07-03T12:04:33.173814Z",
     "shell.execute_reply": "2022-07-03T12:04:33.173196Z",
     "shell.execute_reply.started": "2022-07-03T12:04:33.169570Z"
    }
   },
   "outputs": [],
   "source": [
    "# ibins = np.array([20,20.5,21,21.5,22,22.5])\n",
    "# frac_noweight = np.zeros(5)\n",
    "# for j in range(5):\n",
    "#     index = ((i>ibins[j])&(i<ibins[j+1]))\n",
    "#     temp = test[index]\n",
    "#     temp = temp.T\n",
    "#     frac_noweight[j] = len(temp[-1][temp[2]>2])/len(temp[-1])\n",
    "    "
   ]
  },
  {
   "cell_type": "code",
   "execution_count": 134,
   "id": "52ee3d3c-b86e-4c52-904e-c81d1d2a4c86",
   "metadata": {
    "execution": {
     "iopub.execute_input": "2022-07-04T08:11:10.296050Z",
     "iopub.status.busy": "2022-07-04T08:11:10.295554Z",
     "iopub.status.idle": "2022-07-04T08:11:11.488053Z",
     "shell.execute_reply": "2022-07-04T08:11:11.486989Z",
     "shell.execute_reply.started": "2022-07-04T08:11:10.296023Z"
    },
    "tags": []
   },
   "outputs": [
    {
     "name": "stdout",
     "output_type": "stream",
     "text": [
      "(5, 11)\n",
      "(5, 54)\n",
      "(5, 104)\n",
      "(5, 195)\n",
      "(5, 306)\n"
     ]
    }
   ],
   "source": [
    "ibins = np.array([18,19,20,21,22,23])\n",
    "# ibins = np.array([20,20.5,21,21.5,22,22.5])\n",
    "frac_noweight = np.zeros(5)\n",
    "err_noweight = np.zeros(5)\n",
    "for j in range(5):\n",
    "    index = ((i>ibins[j])&(i<ibins[j+1]))\n",
    "    temp = test[index]\n",
    "    temp = temp.T\n",
    "    print(temp.shape)\n",
    "    frac_each = np.zeros(10000)\n",
    "    np.random.seed(10000)\n",
    "    for k in range(10000):\n",
    "        index_temp = np.random.choice(len(temp[0]),size = len(temp[0]),replace = True)\n",
    "        g_z_temp = temp[2][index_temp]\n",
    "        frac_each[k] = len(g_z_temp[g_z_temp>2])/len(g_z_temp)\n",
    "    frac_noweight[j] = np.mean(frac_each)\n",
    "    err_noweight[j] = np.std(frac_each,ddof=1)\n",
    "    "
   ]
  },
  {
   "cell_type": "code",
   "execution_count": 11,
   "id": "b5de95c7-2075-4d4f-bdc6-2cec09d27e7a",
   "metadata": {
    "execution": {
     "iopub.execute_input": "2022-07-05T06:10:23.495419Z",
     "iopub.status.busy": "2022-07-05T06:10:23.495259Z",
     "iopub.status.idle": "2022-07-05T06:10:24.406785Z",
     "shell.execute_reply": "2022-07-05T06:10:24.406314Z",
     "shell.execute_reply.started": "2022-07-05T06:10:23.495405Z"
    },
    "tags": []
   },
   "outputs": [
    {
     "name": "stdout",
     "output_type": "stream",
     "text": [
      "(5, 39)\n",
      "(5, 63)\n",
      "(5, 142)\n",
      "(5, 179)\n",
      "(5, 246)\n"
     ]
    }
   ],
   "source": [
    "# ibins = np.array([18,19,20,21,22,23])\n",
    "ibins = np.array([20,20.5,21,21.5,22,22.5])\n",
    "frac_noweight = np.zeros(5)\n",
    "err_noweight = np.zeros(5)\n",
    "for j in range(5):\n",
    "    index = ((i>ibins[j])&(i<ibins[j+1]))\n",
    "    temp = test[index]\n",
    "    temp = temp.T\n",
    "    print(temp.shape)\n",
    "    frac_each = np.zeros(10000)\n",
    "    np.random.seed(10000)\n",
    "    for k in range(10000):\n",
    "        index_temp = np.random.choice(len(temp[0]),size = len(temp[0]),replace = True)\n",
    "        g_z_temp = temp[2][index_temp]\n",
    "        frac_each[k] = len(g_z_temp[g_z_temp>2])/len(g_z_temp)\n",
    "    frac_noweight[j] = np.mean(frac_each)\n",
    "    err_noweight[j] = np.std(frac_each,ddof=1)\n",
    "    "
   ]
  },
  {
   "cell_type": "code",
   "execution_count": 135,
   "id": "a6ab8cc3-8fe5-4337-ae7c-41453054c515",
   "metadata": {
    "execution": {
     "iopub.execute_input": "2022-07-04T08:11:30.291739Z",
     "iopub.status.busy": "2022-07-04T08:11:30.291407Z",
     "iopub.status.idle": "2022-07-04T08:11:31.601244Z",
     "shell.execute_reply": "2022-07-04T08:11:31.600125Z",
     "shell.execute_reply.started": "2022-07-04T08:11:30.291707Z"
    },
    "tags": []
   },
   "outputs": [],
   "source": [
    "ibins = np.array([18,19,20,21,22,23])\n",
    "# ibins = np.array([20,20.5,21,21.5,22,22.5])\n",
    "frac_weight = np.zeros(5)\n",
    "err_weight = np.zeros(5)\n",
    "for j in range(5):\n",
    "    index = ((i>ibins[j])&(i<ibins[j+1]))\n",
    "    temp = test[index]\n",
    "    temp = temp.T\n",
    "    frac_each = np.zeros(10000)\n",
    "    np.random.seed(10000)\n",
    "    for k in range(10000):\n",
    "        index_temp = np.random.choice(len(temp[0]),size = len(temp[0]),replace = True)\n",
    "        g_z_temp = temp[2][index_temp]\n",
    "        frac_each[k] = np.sum(temp[-1][index_temp][g_z_temp>2])/np.sum(temp[-1][index_temp])\n",
    "    frac_weight[j] = np.mean(frac_each)\n",
    "    err_weight[j] = np.std(frac_each,ddof =1)\n",
    "    "
   ]
  },
  {
   "cell_type": "code",
   "execution_count": 111,
   "id": "4c40c465-b379-435a-9275-e47a31ab45e7",
   "metadata": {
    "execution": {
     "iopub.execute_input": "2022-07-04T07:46:03.189415Z",
     "iopub.status.busy": "2022-07-04T07:46:03.189018Z",
     "iopub.status.idle": "2022-07-04T07:46:03.195181Z",
     "shell.execute_reply": "2022-07-04T07:46:03.194512Z",
     "shell.execute_reply.started": "2022-07-04T07:46:03.189392Z"
    },
    "tags": []
   },
   "outputs": [
    {
     "data": {
      "text/plain": [
       "array([0.43416667, 0.61859365, 0.37380352, 0.25180503, 0.20326504])"
      ]
     },
     "execution_count": 111,
     "metadata": {},
     "output_type": "execute_result"
    }
   ],
   "source": [
    "frac_noweight"
   ]
  },
  {
   "cell_type": "code",
   "execution_count": 117,
   "id": "c3a20473-165b-4b5a-a848-a0ee3f5ccf46",
   "metadata": {
    "execution": {
     "iopub.execute_input": "2022-07-04T07:46:55.450655Z",
     "iopub.status.busy": "2022-07-04T07:46:55.450220Z",
     "iopub.status.idle": "2022-07-04T07:46:55.456899Z",
     "shell.execute_reply": "2022-07-04T07:46:55.455753Z",
     "shell.execute_reply.started": "2022-07-04T07:46:55.450631Z"
    },
    "tags": []
   },
   "outputs": [
    {
     "data": {
      "text/plain": [
       "array([0.43416667, 0.61859365, 0.37380352, 0.25180503, 0.20326504])"
      ]
     },
     "execution_count": 117,
     "metadata": {},
     "output_type": "execute_result"
    }
   ],
   "source": [
    "frac_noweight"
   ]
  },
  {
   "cell_type": "code",
   "execution_count": 118,
   "id": "a72b6851-e6f8-4cab-a90d-c4ecfedb6526",
   "metadata": {
    "execution": {
     "iopub.execute_input": "2022-07-04T07:46:59.184325Z",
     "iopub.status.busy": "2022-07-04T07:46:59.183984Z",
     "iopub.status.idle": "2022-07-04T07:46:59.189338Z",
     "shell.execute_reply": "2022-07-04T07:46:59.188512Z",
     "shell.execute_reply.started": "2022-07-04T07:46:59.184303Z"
    },
    "tags": []
   },
   "outputs": [
    {
     "data": {
      "text/plain": [
       "array([0.40659597, 0.60190757, 0.35827007, 0.23690003, 0.19948793])"
      ]
     },
     "execution_count": 118,
     "metadata": {},
     "output_type": "execute_result"
    }
   ],
   "source": [
    "frac_weight"
   ]
  },
  {
   "cell_type": "code",
   "execution_count": 113,
   "id": "395f2a68-98f7-43d3-8072-41929876f72d",
   "metadata": {
    "execution": {
     "iopub.execute_input": "2022-07-04T07:46:36.187968Z",
     "iopub.status.busy": "2022-07-04T07:46:36.187523Z",
     "iopub.status.idle": "2022-07-04T07:46:36.194149Z",
     "shell.execute_reply": "2022-07-04T07:46:36.193241Z",
     "shell.execute_reply.started": "2022-07-04T07:46:36.187913Z"
    },
    "tags": []
   },
   "outputs": [
    {
     "data": {
      "text/plain": [
       "array([0.07967269, 0.06064789, 0.04036444, 0.0323566 , 0.02565784])"
      ]
     },
     "execution_count": 113,
     "metadata": {},
     "output_type": "execute_result"
    }
   ],
   "source": [
    "err_noweight"
   ]
  },
  {
   "cell_type": "code",
   "execution_count": 139,
   "id": "2f4796cb-c1c3-4df5-803e-ded8e31275c7",
   "metadata": {
    "execution": {
     "iopub.execute_input": "2022-07-04T08:12:22.288981Z",
     "iopub.status.busy": "2022-07-04T08:12:22.288490Z",
     "iopub.status.idle": "2022-07-04T08:12:22.294465Z",
     "shell.execute_reply": "2022-07-04T08:12:22.293775Z",
     "shell.execute_reply.started": "2022-07-04T08:12:22.288952Z"
    },
    "tags": []
   },
   "outputs": [
    {
     "data": {
      "text/plain": [
       "array([0.14424568, 0.06751413, 0.04408493, 0.02503411, 0.0104631 ])"
      ]
     },
     "execution_count": 139,
     "metadata": {},
     "output_type": "execute_result"
    }
   ],
   "source": [
    "err_noweight"
   ]
  },
  {
   "cell_type": "code",
   "execution_count": 136,
   "id": "ad83bf08-132b-4b73-b1d3-53b6ede69f64",
   "metadata": {
    "execution": {
     "iopub.execute_input": "2022-07-04T08:11:39.286899Z",
     "iopub.status.busy": "2022-07-04T08:11:39.286701Z",
     "iopub.status.idle": "2022-07-04T08:11:39.292676Z",
     "shell.execute_reply": "2022-07-04T08:11:39.291885Z",
     "shell.execute_reply.started": "2022-07-04T08:11:39.286877Z"
    },
    "tags": []
   },
   "outputs": [
    {
     "data": {
      "text/plain": [
       "array([0.63683636, 0.38917593, 0.28805192, 0.14344769, 0.03600327])"
      ]
     },
     "execution_count": 136,
     "metadata": {},
     "output_type": "execute_result"
    }
   ],
   "source": [
    "frac_noweight"
   ]
  },
  {
   "cell_type": "code",
   "execution_count": 137,
   "id": "edb3b44c-b9f5-4c99-a57c-123f46defdd4",
   "metadata": {
    "execution": {
     "iopub.execute_input": "2022-07-04T08:11:53.286536Z",
     "iopub.status.busy": "2022-07-04T08:11:53.286349Z",
     "iopub.status.idle": "2022-07-04T08:11:53.290790Z",
     "shell.execute_reply": "2022-07-04T08:11:53.290333Z",
     "shell.execute_reply.started": "2022-07-04T08:11:53.286518Z"
    },
    "tags": []
   },
   "outputs": [
    {
     "data": {
      "text/plain": [
       "array([0.58493755, 0.35744224, 0.27285065, 0.12912561, 0.03394988])"
      ]
     },
     "execution_count": 137,
     "metadata": {},
     "output_type": "execute_result"
    }
   ],
   "source": [
    "frac_weight"
   ]
  },
  {
   "cell_type": "code",
   "execution_count": 142,
   "id": "a8d0516f-005b-4a62-8522-09a3155b1596",
   "metadata": {
    "execution": {
     "iopub.execute_input": "2022-07-04T08:15:49.294863Z",
     "iopub.status.busy": "2022-07-04T08:15:49.294399Z",
     "iopub.status.idle": "2022-07-04T08:15:49.299505Z",
     "shell.execute_reply": "2022-07-04T08:15:49.299013Z",
     "shell.execute_reply.started": "2022-07-04T08:15:49.294838Z"
    },
    "tags": []
   },
   "outputs": [
    {
     "data": {
      "text/plain": [
       "array([0.1544493 , 0.06609475, 0.04372101, 0.02311198, 0.00990667])"
      ]
     },
     "execution_count": 142,
     "metadata": {},
     "output_type": "execute_result"
    }
   ],
   "source": [
    "err_weight"
   ]
  },
  {
   "cell_type": "code",
   "execution_count": 141,
   "id": "6ec7ae9b-51be-445e-b5ae-4104676dd185",
   "metadata": {
    "execution": {
     "iopub.execute_input": "2022-07-04T08:13:45.287787Z",
     "iopub.status.busy": "2022-07-04T08:13:45.287355Z",
     "iopub.status.idle": "2022-07-04T08:13:45.475688Z",
     "shell.execute_reply": "2022-07-04T08:13:45.475149Z",
     "shell.execute_reply.started": "2022-07-04T08:13:45.287759Z"
    },
    "tags": []
   },
   "outputs": [
    {
     "data": {
      "text/plain": [
       "(0.0, 1.0)"
      ]
     },
     "execution_count": 141,
     "metadata": {},
     "output_type": "execute_result"
    },
    {
     "data": {
      "image/png": "[encoded data removed]",
      "text/plain": [
       "<Figure size 432x288 with 1 Axes>"
      ]
     },
     "metadata": {
      "needs_background": "light"
     },
     "output_type": "display_data"
    }
   ],
   "source": [
    "ibin0 = 0.5*(ibins[1:]+ibins[:-1])\n",
    "plt.errorbar(ibin0,frac_noweight,err_noweight,fmt= 'o',color ='red')\n",
    "plt.errorbar(ibin0,frac_weight,err_weight,fmt = 'o')\n",
    "plt.xlim(18,23)\n",
    "plt.ylim(0,1)"
   ]
  },
  {
   "cell_type": "code",
   "execution_count": 33,
   "id": "b8e26a0e-4bd5-4ab9-af63-b5c208f57918",
   "metadata": {
    "execution": {
     "iopub.execute_input": "2022-07-03T12:04:49.963136Z",
     "iopub.status.busy": "2022-07-03T12:04:49.962945Z",
     "iopub.status.idle": "2022-07-03T12:04:50.044381Z",
     "shell.execute_reply": "2022-07-03T12:04:50.043901Z",
     "shell.execute_reply.started": "2022-07-03T12:04:49.963121Z"
    },
    "tags": []
   },
   "outputs": [
    {
     "data": {
      "text/plain": [
       "(0.0, 1.0)"
      ]
     },
     "execution_count": 33,
     "metadata": {},
     "output_type": "execute_result"
    },
    {
     "data": {
      "image/png": "[encoded data removed]",
      "text/plain": [
       "<Figure size 432x288 with 1 Axes>"
      ]
     },
     "metadata": {
      "needs_background": "light"
     },
     "output_type": "display_data"
    }
   ],
   "source": [
    "ibin0 = 0.5*(ibins[1:]+ibins[:-1])\n",
    "plt.scatter(ibin0,frac_noweight,color ='red')\n",
    "plt.scatter(ibin0,frac)\n",
    "plt.xlim(20,22.5)\n",
    "plt.ylim(0,1)"
   ]
  },
  {
   "cell_type": "code",
   "execution_count": 58,
   "id": "e3bed896-6ca4-44cc-8103-516344bfc8cc",
   "metadata": {
    "execution": {
     "iopub.execute_input": "2022-07-02T16:42:49.584390Z",
     "iopub.status.busy": "2022-07-02T16:42:49.584165Z",
     "iopub.status.idle": "2022-07-02T16:42:49.587634Z",
     "shell.execute_reply": "2022-07-02T16:42:49.587278Z",
     "shell.execute_reply.started": "2022-07-02T16:42:49.584371Z"
    },
    "tags": []
   },
   "outputs": [
    {
     "data": {
      "text/plain": [
       "0.7139999999999986"
      ]
     },
     "execution_count": 58,
     "metadata": {},
     "output_type": "execute_result"
    }
   ],
   "source": [
    "np.min(temp.T[2])"
   ]
  },
  {
   "cell_type": "code",
   "execution_count": 59,
   "id": "2c3bae69-4361-41c7-93c2-111f1a75da69",
   "metadata": {
    "execution": {
     "iopub.execute_input": "2022-07-02T16:42:50.582942Z",
     "iopub.status.busy": "2022-07-02T16:42:50.582751Z",
     "iopub.status.idle": "2022-07-02T16:42:50.829600Z",
     "shell.execute_reply": "2022-07-02T16:42:50.829254Z",
     "shell.execute_reply.started": "2022-07-02T16:42:50.582925Z"
    },
    "tags": []
   },
   "outputs": [
    {
     "data": {
      "text/plain": [
       "3.2790000000000035"
      ]
     },
     "execution_count": 59,
     "metadata": {},
     "output_type": "execute_result"
    }
   ],
   "source": [
    "np.max(temp.T[2])"
   ]
  },
  {
   "cell_type": "code",
   "execution_count": 23,
   "id": "1aae2dd9-5f08-42dc-b489-1a9d1e0327dc",
   "metadata": {
    "execution": {
     "iopub.execute_input": "2022-07-03T11:47:00.491348Z",
     "iopub.status.busy": "2022-07-03T11:47:00.491192Z",
     "iopub.status.idle": "2022-07-03T11:47:00.632241Z",
     "shell.execute_reply": "2022-07-03T11:47:00.631812Z",
     "shell.execute_reply.started": "2022-07-03T11:47:00.491332Z"
    },
    "tags": []
   },
   "outputs": [
    {
     "data": {
      "image/png": "[encoded data removed]",
      "text/plain": [
       "<Figure size 432x288 with 1 Axes>"
      ]
     },
     "metadata": {
      "needs_background": "light"
     },
     "output_type": "display_data"
    }
   ],
   "source": [
    "a = plt.hist(temp.T[2],range=[0.5,4],bins = 35,weights = temp.T[-1])\n",
    "b = plt.hist(temp.T[2],range=[0.5,4],bins = 35)"
   ]
  },
  {
   "cell_type": "code",
   "execution_count": 24,
   "id": "b5f75f97-dc69-4d21-b991-6e23fa81d353",
   "metadata": {
    "collapsed": true,
    "execution": {
     "iopub.execute_input": "2022-07-03T11:49:33.501839Z",
     "iopub.status.busy": "2022-07-03T11:49:33.501356Z",
     "iopub.status.idle": "2022-07-03T11:49:33.508540Z",
     "shell.execute_reply": "2022-07-03T11:49:33.507904Z",
     "shell.execute_reply.started": "2022-07-03T11:49:33.501781Z"
    },
    "jupyter": {
     "outputs_hidden": true
    },
    "tags": []
   },
   "outputs": [
    {
     "data": {
      "text/plain": [
       "array([[20.315     , 20.184     ,  1.356     ,  0.6142    ,  6.48349116],\n",
       "       [20.238     , 19.949     ,  1.857     ,  0.5128    ,  4.82440278],\n",
       "       [20.185     , 20.042     ,  1.211     ,  0.5162    ,  4.82440278],\n",
       "       [20.494     , 20.184     ,  2.069     ,  0.5773    ,  4.82440278],\n",
       "       [20.336     , 20.048     ,  2.083     ,  0.5717    ,  4.82440278],\n",
       "       [20.202     , 19.915     ,  1.943     ,  0.6795    ,  4.8230088 ],\n",
       "       [20.041     , 19.928     ,  1.385     ,  0.6354    ,  6.48349116],\n",
       "       [20.425     , 20.042     ,  2.63      ,  0.6341    ,  3.56741487],\n",
       "       [20.478     , 20.167     ,  2.301     ,  0.6203    ,  4.8230088 ],\n",
       "       [20.246     , 20.172     ,  1.517     ,  0.5222    ,  4.82440278],\n",
       "       [20.467     , 20.117     ,  2.84      ,  0.6321    ,  4.8230088 ],\n",
       "       [20.028     , 19.636     ,  2.808     ,  0.5106    ,  4.82440278],\n",
       "       [20.027     , 19.858     ,  1.338     ,  0.5911    ,  4.82440278],\n",
       "       [20.165     , 19.78      ,  2.761     ,  0.6364    ,  4.8230088 ],\n",
       "       [20.177     , 19.935     ,  1.556     ,  0.5092    ,  3.56844595],\n",
       "       [20.07      , 19.746     ,  2.466     ,  0.5807    ,  4.82440278],\n",
       "       [20.174     , 19.962     ,  1.993     ,  0.5881    ,  4.82440278],\n",
       "       [20.149     , 19.846     ,  2.532     ,  0.5248    ,  4.82440278],\n",
       "       [20.047     , 19.842     ,  1.643     ,  0.5821    ,  6.48536507],\n",
       "       [20.317     , 19.974     ,  2.497     ,  0.6336    ,  3.56741487],\n",
       "       [20.368     , 20.016     ,  2.731     ,  0.5866    ,  3.56844595],\n",
       "       [20.47      , 20.106     ,  2.602     ,  0.6308    ,  4.8230088 ],\n",
       "       [20.468     , 20.228     ,  1.7       ,  0.6       ,  4.8230088 ],\n",
       "       [20.382     , 20.087     ,  1.938     ,  0.6901    ,  6.48349116],\n",
       "       [20.455     , 20.085     ,  2.746     ,  0.5561    ,  4.82440278],\n",
       "       [20.202     , 19.887     ,  2.505     ,  0.5665    ,  3.56844595],\n",
       "       [20.131     , 19.842     ,  1.593     ,  0.5571    ,  3.21164527],\n",
       "       [20.135     , 19.868     ,  1.842     ,  0.5176    ,  6.48536507],\n",
       "       [20.378     , 20.116     ,  1.891     ,  0.5241    ,  4.82440278],\n",
       "       [20.072     , 19.78      ,  1.773     ,  0.5262    ,  6.48536507],\n",
       "       [20.387     , 20.226     ,  1.398     ,  0.6868    ,  4.8230088 ],\n",
       "       [20.18      , 19.888     ,  2.219     ,  0.6263    ,  6.48349116],\n",
       "       [20.155     , 19.806     ,  2.595     ,  0.6011    ,  3.56741487],\n",
       "       [20.212     , 19.909     ,  2.015     ,  0.5281    ,  6.48536507],\n",
       "       [20.285     , 20.036     ,  1.757     ,  0.6611    ,  4.8230088 ],\n",
       "       [20.034     , 19.784     ,  1.924     ,  0.6975    ,  4.8230088 ],\n",
       "       [20.415     , 20.125     ,  1.945     ,  0.6648    ,  6.48349116],\n",
       "       [20.469     , 20.28      ,  1.396     ,  0.6072    ,  4.8230088 ],\n",
       "       [20.463     , 20.226     ,  1.438     ,  0.6914    ,  4.8230088 ]])"
      ]
     },
     "execution_count": 24,
     "metadata": {},
     "output_type": "execute_result"
    }
   ],
   "source": [
    "temp"
   ]
  },
  {
   "cell_type": "code",
   "execution_count": 72,
   "id": "dcb50fac-63f7-41ad-be51-b7bbf58f68ac",
   "metadata": {
    "execution": {
     "iopub.execute_input": "2022-07-02T16:53:28.533931Z",
     "iopub.status.busy": "2022-07-02T16:53:28.533666Z",
     "iopub.status.idle": "2022-07-02T16:53:28.683680Z",
     "shell.execute_reply": "2022-07-02T16:53:28.683286Z",
     "shell.execute_reply.started": "2022-07-02T16:53:28.533910Z"
    },
    "tags": []
   },
   "outputs": [
    {
     "data": {
      "image/png": "[encoded data removed]",
      "text/plain": [
       "<Figure size 432x288 with 1 Axes>"
      ]
     },
     "metadata": {
      "needs_background": "light"
     },
     "output_type": "display_data"
    }
   ],
   "source": [
    "a = plt.hist(temp.T[2],range=[0.5,4],bins = 35,weights = temp.T[-1],density = True)\n",
    "b = plt.hist(temp.T[2],range=[0.5,4],bins = 35,density = True)"
   ]
  },
  {
   "cell_type": "code",
   "execution_count": 75,
   "id": "34c91e4c-5286-47f7-892a-a5dc935ec6e5",
   "metadata": {
    "execution": {
     "iopub.execute_input": "2022-07-02T17:17:14.583676Z",
     "iopub.status.busy": "2022-07-02T17:17:14.583405Z",
     "iopub.status.idle": "2022-07-02T17:17:14.587048Z",
     "shell.execute_reply": "2022-07-02T17:17:14.586645Z",
     "shell.execute_reply.started": "2022-07-02T17:17:14.583653Z"
    },
    "tags": []
   },
   "outputs": [],
   "source": [
    "vipers = np.array([  22.25884211,   73.61974206,   96.95719425,  182.83452198,\n",
    "        388.48604733,  566.16303601,  899.05752991, 1226.51168855,\n",
    "       1449.91173701, 1814.6496117 , 1913.94104881, 1954.05741294,\n",
    "       1751.02163463, 1787.5348424 , 1598.47401272, 1564.33817441,\n",
    "       1421.08896336, 1206.88034746, 1186.44142909, 1302.0880034 ,\n",
    "       1428.66739193, 1695.86187914, 1978.28144662, 2115.51071339,\n",
    "       1960.48737711, 1521.11667616, 1101.90137687,  614.43578141,\n",
    "        322.05506783,  135.37566107,   37.08545198,    4.24180783,\n",
    "          2.43961942,    0.        ,    0.        ])"
   ]
  },
  {
   "cell_type": "code",
   "execution_count": 70,
   "id": "656b383f-b7d4-4e41-b69e-72d7df9a2e15",
   "metadata": {
    "collapsed": true,
    "execution": {
     "iopub.execute_input": "2022-07-02T16:52:02.836230Z",
     "iopub.status.busy": "2022-07-02T16:52:02.836060Z",
     "iopub.status.idle": "2022-07-02T16:52:02.917046Z",
     "shell.execute_reply": "2022-07-02T16:52:02.916585Z",
     "shell.execute_reply.started": "2022-07-02T16:52:02.836214Z"
    },
    "jupyter": {
     "outputs_hidden": true
    },
    "tags": []
   },
   "outputs": [
    {
     "data": {
      "text/plain": [
       "array([  22.25884211,   73.61974206,   96.95719425,  182.83452198,\n",
       "        388.48604733,  566.16303601,  899.05752991, 1226.51168855,\n",
       "       1449.91173701, 1814.6496117 , 1913.94104881, 1954.05741294,\n",
       "       1751.02163463, 1787.5348424 , 1598.47401272, 1564.33817441,\n",
       "       1421.08896336, 1206.88034746, 1186.44142909, 1302.0880034 ,\n",
       "       1428.66739193, 1695.86187914, 1978.28144662, 2115.51071339,\n",
       "       1960.48737711, 1521.11667616, 1101.90137687,  614.43578141,\n",
       "        322.05506783,  135.37566107,   37.08545198,    4.24180783,\n",
       "          2.43961942,    0.        ,    0.        ])"
      ]
     },
     "execution_count": 70,
     "metadata": {},
     "output_type": "execute_result"
    }
   ],
   "source": [
    "vipers"
   ]
  },
  {
   "cell_type": "code",
   "execution_count": 77,
   "id": "a44dfb1a-11c3-4bca-b4af-b9f9a2299a2f",
   "metadata": {
    "execution": {
     "iopub.execute_input": "2022-07-02T17:17:23.585397Z",
     "iopub.status.busy": "2022-07-02T17:17:23.585134Z",
     "iopub.status.idle": "2022-07-02T17:17:23.589153Z",
     "shell.execute_reply": "2022-07-02T17:17:23.588771Z",
     "shell.execute_reply.started": "2022-07-02T17:17:23.585377Z"
    },
    "tags": []
   },
   "outputs": [
    {
     "data": {
      "text/plain": [
       "KstestResult(statistic=0.8, pvalue=2.1371147048109803e-11)"
      ]
     },
     "execution_count": 77,
     "metadata": {},
     "output_type": "execute_result"
    }
   ],
   "source": [
    "scipy.stats.ks_2samp(a[0],vipers)"
   ]
  },
  {
   "cell_type": "code",
   "execution_count": null,
   "id": "ea2d10f7-3305-49ed-adc0-d16c72e65ff4",
   "metadata": {},
   "outputs": [],
   "source": []
  }
 ],
 "metadata": {
  "kernelspec": {
   "display_name": "numba38",
   "language": "python",
   "name": "numba38"
  },
  "language_info": {
   "codemirror_mode": {
    "name": "ipython",
    "version": 3
   },
   "file_extension": ".py",
   "mimetype": "text/x-python",
   "name": "python",
   "nbconvert_exporter": "python",
   "pygments_lexer": "ipython3",
   "version": "3.8.12"
  },
  "toc-autonumbering": true
 },
 "nbformat": 4,
 "nbformat_minor": 5
}
