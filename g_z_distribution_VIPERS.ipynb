{
 "cells": [
  {
   "cell_type": "markdown",
   "id": "9f0012dc-031d-480e-bb8b-97acdc6934f7",
   "metadata": {},
   "source": [
    "# load package"
   ]
  },
  {
   "cell_type": "code",
   "execution_count": 1,
   "id": "e368277c-8e39-417c-97c6-00a48e2ca3e7",
   "metadata": {
    "execution": {
     "iopub.execute_input": "2022-07-05T07:22:05.401812Z",
     "iopub.status.busy": "2022-07-05T07:22:05.401404Z",
     "iopub.status.idle": "2022-07-05T07:22:32.541286Z",
     "shell.execute_reply": "2022-07-05T07:22:32.540499Z",
     "shell.execute_reply.started": "2022-07-05T07:22:05.401749Z"
    },
    "tags": []
   },
   "outputs": [],
   "source": [
    "from astropy.io import fits\n",
    "import numpy as np\n",
    "from multiprocessing import Process\n",
    "from sklearn.neighbors import BallTree\n",
    "from astropy.cosmology import FlatLambdaCDM\n",
    "from scipy.interpolate import interp1d\n",
    "import matplotlib.pyplot as plt\n",
    "import matplotlib as mpl\n",
    "%matplotlib inline\n",
    "from astropy.table import Table,Column,vstack\n",
    "from astropy.io import ascii\n",
    "import os\n",
    "import matplotlib.colors as mcolors"
   ]
  },
  {
   "cell_type": "code",
   "execution_count": 2,
   "id": "d64cfe0a-c1a0-4755-a1d8-53eebb81f58c",
   "metadata": {
    "execution": {
     "iopub.execute_input": "2022-07-05T07:22:32.542362Z",
     "iopub.status.busy": "2022-07-05T07:22:32.542130Z",
     "iopub.status.idle": "2022-07-05T07:22:36.318898Z",
     "shell.execute_reply": "2022-07-05T07:22:36.318340Z",
     "shell.execute_reply.started": "2022-07-05T07:22:32.542341Z"
    },
    "tags": []
   },
   "outputs": [],
   "source": [
    "from astropy.coordinates import SkyCoord\n",
    "from astropy.cosmology import FlatLambdaCDM,z_at_value\n",
    "cosmo = FlatLambdaCDM(H0 = 67.74,Om0 = 0.3089,Ob0 = 0.0486)\n",
    "from scipy.spatial import cKDTree\n",
    "import astropy.units as u\n",
    "import pandas as pd"
   ]
  },
  {
   "cell_type": "code",
   "execution_count": 3,
   "id": "de774d5a-0cb2-4eca-92f7-30c3d4adf7b4",
   "metadata": {
    "collapsed": true,
    "execution": {
     "iopub.execute_input": "2022-07-03T15:11:05.543009Z",
     "iopub.status.busy": "2022-07-03T15:11:05.542869Z",
     "iopub.status.idle": "2022-07-03T15:11:05.575681Z",
     "shell.execute_reply": "2022-07-03T15:11:05.574922Z",
     "shell.execute_reply.started": "2022-07-03T15:11:05.542994Z"
    },
    "jupyter": {
     "outputs_hidden": true
    },
    "tags": []
   },
   "outputs": [
    {
     "data": {
      "text/plain": [
       "\u001b[0;31mSignature:\u001b[0m\n",
       "\u001b[0mnp\u001b[0m\u001b[0;34m.\u001b[0m\u001b[0mstd\u001b[0m\u001b[0;34m(\u001b[0m\u001b[0;34m\u001b[0m\n",
       "\u001b[0;34m\u001b[0m    \u001b[0ma\u001b[0m\u001b[0;34m,\u001b[0m\u001b[0;34m\u001b[0m\n",
       "\u001b[0;34m\u001b[0m    \u001b[0maxis\u001b[0m\u001b[0;34m=\u001b[0m\u001b[0;32mNone\u001b[0m\u001b[0;34m,\u001b[0m\u001b[0;34m\u001b[0m\n",
       "\u001b[0;34m\u001b[0m    \u001b[0mdtype\u001b[0m\u001b[0;34m=\u001b[0m\u001b[0;32mNone\u001b[0m\u001b[0;34m,\u001b[0m\u001b[0;34m\u001b[0m\n",
       "\u001b[0;34m\u001b[0m    \u001b[0mout\u001b[0m\u001b[0;34m=\u001b[0m\u001b[0;32mNone\u001b[0m\u001b[0;34m,\u001b[0m\u001b[0;34m\u001b[0m\n",
       "\u001b[0;34m\u001b[0m    \u001b[0mddof\u001b[0m\u001b[0;34m=\u001b[0m\u001b[0;36m0\u001b[0m\u001b[0;34m,\u001b[0m\u001b[0;34m\u001b[0m\n",
       "\u001b[0;34m\u001b[0m    \u001b[0mkeepdims\u001b[0m\u001b[0;34m=\u001b[0m\u001b[0;34m<\u001b[0m\u001b[0mno\u001b[0m \u001b[0mvalue\u001b[0m\u001b[0;34m>\u001b[0m\u001b[0;34m,\u001b[0m\u001b[0;34m\u001b[0m\n",
       "\u001b[0;34m\u001b[0m    \u001b[0;34m*\u001b[0m\u001b[0;34m,\u001b[0m\u001b[0;34m\u001b[0m\n",
       "\u001b[0;34m\u001b[0m    \u001b[0mwhere\u001b[0m\u001b[0;34m=\u001b[0m\u001b[0;34m<\u001b[0m\u001b[0mno\u001b[0m \u001b[0mvalue\u001b[0m\u001b[0;34m>\u001b[0m\u001b[0;34m,\u001b[0m\u001b[0;34m\u001b[0m\n",
       "\u001b[0;34m\u001b[0m\u001b[0;34m)\u001b[0m\u001b[0;34m\u001b[0m\u001b[0;34m\u001b[0m\u001b[0m\n",
       "\u001b[0;31mDocstring:\u001b[0m\n",
       "Compute the standard deviation along the specified axis.\n",
       "\n",
       "Returns the standard deviation, a measure of the spread of a distribution,\n",
       "of the array elements. The standard deviation is computed for the\n",
       "flattened array by default, otherwise over the specified axis.\n",
       "\n",
       "Parameters\n",
       "----------\n",
       "a : array_like\n",
       "    Calculate the standard deviation of these values.\n",
       "axis : None or int or tuple of ints, optional\n",
       "    Axis or axes along which the standard deviation is computed. The\n",
       "    default is to compute the standard deviation of the flattened array.\n",
       "\n",
       "    .. versionadded:: 1.7.0\n",
       "\n",
       "    If this is a tuple of ints, a standard deviation is performed over\n",
       "    multiple axes, instead of a single axis or all the axes as before.\n",
       "dtype : dtype, optional\n",
       "    Type to use in computing the standard deviation. For arrays of\n",
       "    integer type the default is float64, for arrays of float types it is\n",
       "    the same as the array type.\n",
       "out : ndarray, optional\n",
       "    Alternative output array in which to place the result. It must have\n",
       "    the same shape as the expected output but the type (of the calculated\n",
       "    values) will be cast if necessary.\n",
       "ddof : int, optional\n",
       "    Means Delta Degrees of Freedom.  The divisor used in calculations\n",
       "    is ``N - ddof``, where ``N`` represents the number of elements.\n",
       "    By default `ddof` is zero.\n",
       "keepdims : bool, optional\n",
       "    If this is set to True, the axes which are reduced are left\n",
       "    in the result as dimensions with size one. With this option,\n",
       "    the result will broadcast correctly against the input array.\n",
       "\n",
       "    If the default value is passed, then `keepdims` will not be\n",
       "    passed through to the `std` method of sub-classes of\n",
       "    `ndarray`, however any non-default value will be.  If the\n",
       "    sub-class' method does not implement `keepdims` any\n",
       "    exceptions will be raised.\n",
       "\n",
       "where : array_like of bool, optional\n",
       "    Elements to include in the standard deviation.\n",
       "    See `~numpy.ufunc.reduce` for details.\n",
       "\n",
       "    .. versionadded:: 1.20.0\n",
       "\n",
       "Returns\n",
       "-------\n",
       "standard_deviation : ndarray, see dtype parameter above.\n",
       "    If `out` is None, return a new array containing the standard deviation,\n",
       "    otherwise return a reference to the output array.\n",
       "\n",
       "See Also\n",
       "--------\n",
       "var, mean, nanmean, nanstd, nanvar\n",
       ":ref:`ufuncs-output-type`\n",
       "\n",
       "Notes\n",
       "-----\n",
       "The standard deviation is the square root of the average of the squared\n",
       "deviations from the mean, i.e., ``std = sqrt(mean(x))``, where\n",
       "``x = abs(a - a.mean())**2``.\n",
       "\n",
       "The average squared deviation is typically calculated as ``x.sum() / N``,\n",
       "where ``N = len(x)``. If, however, `ddof` is specified, the divisor\n",
       "``N - ddof`` is used instead. In standard statistical practice, ``ddof=1``\n",
       "provides an unbiased estimator of the variance of the infinite population.\n",
       "``ddof=0`` provides a maximum likelihood estimate of the variance for\n",
       "normally distributed variables. The standard deviation computed in this\n",
       "function is the square root of the estimated variance, so even with\n",
       "``ddof=1``, it will not be an unbiased estimate of the standard deviation\n",
       "per se.\n",
       "\n",
       "Note that, for complex numbers, `std` takes the absolute\n",
       "value before squaring, so that the result is always real and nonnegative.\n",
       "\n",
       "For floating-point input, the *std* is computed using the same\n",
       "precision the input has. Depending on the input data, this can cause\n",
       "the results to be inaccurate, especially for float32 (see example below).\n",
       "Specifying a higher-accuracy accumulator using the `dtype` keyword can\n",
       "alleviate this issue.\n",
       "\n",
       "Examples\n",
       "--------\n",
       ">>> a = np.array([[1, 2], [3, 4]])\n",
       ">>> np.std(a)\n",
       "1.1180339887498949 # may vary\n",
       ">>> np.std(a, axis=0)\n",
       "array([1.,  1.])\n",
       ">>> np.std(a, axis=1)\n",
       "array([0.5,  0.5])\n",
       "\n",
       "In single precision, std() can be inaccurate:\n",
       "\n",
       ">>> a = np.zeros((2, 512*512), dtype=np.float32)\n",
       ">>> a[0, :] = 1.0\n",
       ">>> a[1, :] = 0.1\n",
       ">>> np.std(a)\n",
       "0.45000005\n",
       "\n",
       "Computing the standard deviation in float64 is more accurate:\n",
       "\n",
       ">>> np.std(a, dtype=np.float64)\n",
       "0.44999999925494177 # may vary\n",
       "\n",
       "Specifying a where argument:\n",
       "\n",
       ">>> a = np.array([[14, 8, 11, 10], [7, 9, 10, 11], [10, 15, 5, 10]])\n",
       ">>> np.std(a)\n",
       "2.614064523559687 # may vary\n",
       ">>> np.std(a, where=[[True], [True], [False]])\n",
       "2.0\n",
       "\u001b[0;31mFile:\u001b[0m      ~/.local/anaconda/envs/mynumba/lib/python3.8/site-packages/numpy/core/fromnumeric.py\n",
       "\u001b[0;31mType:\u001b[0m      function\n"
      ]
     },
     "metadata": {},
     "output_type": "display_data"
    }
   ],
   "source": [
    "np.std?"
   ]
  },
  {
   "cell_type": "code",
   "execution_count": 3,
   "id": "b7ea3a8c-bb69-4ef1-877e-72c7f15dcc71",
   "metadata": {
    "execution": {
     "iopub.execute_input": "2022-07-03T11:27:47.843805Z",
     "iopub.status.busy": "2022-07-03T11:27:47.843586Z",
     "iopub.status.idle": "2022-07-03T11:27:47.846690Z",
     "shell.execute_reply": "2022-07-03T11:27:47.846011Z",
     "shell.execute_reply.started": "2022-07-03T11:27:47.843788Z"
    },
    "tags": []
   },
   "outputs": [],
   "source": [
    "import scipy"
   ]
  },
  {
   "cell_type": "markdown",
   "id": "5085b8e2-b573-4a32-a82d-b839b32ac0ec",
   "metadata": {},
   "source": [
    "# VIPERS"
   ]
  },
  {
   "cell_type": "code",
   "execution_count": 3,
   "id": "531fc0ca-0073-4a1b-8521-49e87f3dfd88",
   "metadata": {
    "execution": {
     "iopub.execute_input": "2022-07-05T07:22:36.320599Z",
     "iopub.status.busy": "2022-07-05T07:22:36.320186Z",
     "iopub.status.idle": "2022-07-05T07:22:37.803024Z",
     "shell.execute_reply": "2022-07-05T07:22:37.802129Z",
     "shell.execute_reply.started": "2022-07-05T07:22:36.320578Z"
    },
    "tags": []
   },
   "outputs": [],
   "source": [
    "SED_Para = ['IDENT','SCALE_BEST','MOD_BEST','EXTLAW_BEST','EBV_BEST','CHI_BEST','NBAND_USED', \\\n",
    "            'AGE_BEST','AGE_INF','AGE_MED','AGE_SUP','MASS_BEST','MASS_INF','MASS_MED','MASS_SUP',\\\n",
    "            'SFR_BEST','SFR_INF','SFR_MED','SFR_SUP','SSFR_BEST','SSFR_INF','SSFR_MED','SSFR_SUP', \\\n",
    "            'FUV_OBS','NUV_OBS','u_OBS','g_OBS','r_OBS','i_OBS','iy_OBS','z_OBS','Ks_OBS','K_OBS','hsc_g_OBS','hsc_r_OBS','hsc_i_OBS','hsc_z_OBS','hsc_y_OBS',\\\n",
    "            'ERR_FUV_OBS','ERR_NUV_OBS','ERR_u_OBS','ERR_g_OBS','ERR_r_OBS','ERR_i_OBS','ERR_iy_OBS','ERR_z_OBS','ERR_Ks_OBS','ERR_K_OBS','ERR_hsc_g_OBS','ERR_hsc_r_OBS','ERR_hsc_i_OBS','ERR_hsc_z_OBS','ERR_hsc_y_OBS', \\\n",
    "            'FUV_MOD','NUV_MOD','u_MOD','g_MOD','r_MOD','i_MOD','iy_MOD','z_MOD','Ks_MOD','K_MOD','hsc_g_MOD','hsc_r_MOD','hsc_i_MOD','hsc_z_MOD','hsc_y_MOD', \\\n",
    "            'CONTEXT','ZSPEC','RA','DEC','ZFLAG','TSR','SSR','PHOTOMask','CLASSFLAG', 'DeltaUG', 'DeltaGR', 'DeltaRI', \\\n",
    "            'FUV_ABS','NUV_ABS','u_ABS','g_ABS','r_ABS','i_ABS','iy_ABS','z_ABS','Ks_ABS','K_ABS','hsc_g_ABS','hsc_r_ABS','hsc_i_ABS','hsc_z_ABS','hsc_y_ABS','Z_MAX']\n",
    "\n",
    "W1 = pd.read_table('/home/hygao/research/LePHARE/lephare_dev/zy_VIPERS/zy_VIPERS_w1_T0005.out',sep='\\s+',skiprows=59,header=None,names=SED_Para,index_col=False)"
   ]
  },
  {
   "cell_type": "code",
   "execution_count": 4,
   "id": "9445c99e-7f45-4b79-8da3-ce9ad8b3a338",
   "metadata": {
    "execution": {
     "iopub.execute_input": "2022-07-05T07:22:37.804095Z",
     "iopub.status.busy": "2022-07-05T07:22:37.803854Z",
     "iopub.status.idle": "2022-07-05T07:22:38.439281Z",
     "shell.execute_reply": "2022-07-05T07:22:38.438255Z",
     "shell.execute_reply.started": "2022-07-05T07:22:37.804077Z"
    },
    "tags": []
   },
   "outputs": [],
   "source": [
    "\n",
    "SED_Para = ['IDENT','SCALE_BEST','MOD_BEST','EXTLAW_BEST','EBV_BEST','CHI_BEST','NBAND_USED', \\\n",
    "            'AGE_BEST','AGE_INF','AGE_MED','AGE_SUP','MASS_BEST','MASS_INF','MASS_MED','MASS_SUP',\\\n",
    "            'SFR_BEST','SFR_INF','SFR_MED','SFR_SUP','SSFR_BEST','SSFR_INF','SSFR_MED','SSFR_SUP', \\\n",
    "            'FUV_OBS','NUV_OBS','u_OBS','g_OBS','r_OBS','i_OBS','iy_OBS','z_OBS','Ks_OBS','K_OBS','hsc_g_OBS','hsc_r_OBS','hsc_i_OBS','hsc_z_OBS','hsc_y_OBS',\\\n",
    "            'ERR_FUV_OBS','ERR_NUV_OBS','ERR_u_OBS','ERR_g_OBS','ERR_r_OBS','ERR_i_OBS','ERR_iy_OBS','ERR_z_OBS','ERR_Ks_OBS','ERR_K_OBS','ERR_hsc_g_OBS','ERR_hsc_r_OBS','ERR_hsc_i_OBS','ERR_hsc_z_OBS','ERR_hsc_y_OBS', \\\n",
    "            'FUV_MOD','NUV_MOD','u_MOD','g_MOD','r_MOD','i_MOD','iy_MOD','z_MOD','Ks_MOD','K_MOD','hsc_g_MOD','hsc_r_MOD','hsc_i_MOD','hsc_z_MOD','hsc_y_MOD', \\\n",
    "            'CONTEXT','ZSPEC','RA','DEC','ZFLAG','TSR','SSR','PHOTOMask','CLASSFLAG', 'DeltaUG', 'DeltaGR', 'DeltaRI', \\\n",
    "            'FUV_ABS','NUV_ABS','u_ABS','g_ABS','r_ABS','i_ABS','iy_ABS','z_ABS','Ks_ABS','K_ABS','hsc_g_ABS','hsc_r_ABS','hsc_i_ABS','hsc_z_ABS','hsc_y_ABS','Z_MAX']\n",
    "\n",
    "W4 = pd.read_table('/home/hygao/research/LePHARE/lephare_dev/zy_VIPERS/zy_VIPERS_w4_T0005.out',sep='\\s+',skiprows=59,header=None,names=SED_Para,index_col=False)"
   ]
  },
  {
   "cell_type": "code",
   "execution_count": 5,
   "id": "acdc0862-9599-467d-944a-3745d10f9bfa",
   "metadata": {
    "execution": {
     "iopub.execute_input": "2022-07-05T07:22:38.440395Z",
     "iopub.status.busy": "2022-07-05T07:22:38.440102Z",
     "iopub.status.idle": "2022-07-05T07:22:42.003517Z",
     "shell.execute_reply": "2022-07-05T07:22:42.003034Z",
     "shell.execute_reply.started": "2022-07-05T07:22:38.440374Z"
    },
    "tags": []
   },
   "outputs": [],
   "source": [
    "g = np.hstack([W1['g_OBS'],W4['g_OBS']])\n",
    "z = np.hstack([W1['z_OBS'],W4['z_OBS']])\n",
    "i = np.hstack([W1['i_OBS'],W4['i_OBS']])\n",
    "mass = np.hstack([W1['MASS_BEST'],W4['MASS_BEST']])\n",
    "redshift = np.hstack([W1['ZSPEC'],W4['ZSPEC']])\n",
    "zmax = np.hstack([W1['Z_MAX'],W4['Z_MAX']])\n",
    "tsr = np.hstack([W1['TSR'],W4['TSR']])\n",
    "ssr = np.hstack([W1['SSR'],W4['SSR']])\n",
    "zflag = np.hstack([W1['ZFLAG'],W4['ZFLAG']])"
   ]
  },
  {
   "cell_type": "code",
   "execution_count": 7,
   "id": "a8c8ec33-7c86-4476-b511-cf163b1a064f",
   "metadata": {
    "execution": {
     "iopub.execute_input": "2022-07-05T07:22:46.924622Z",
     "iopub.status.busy": "2022-07-05T07:22:46.924220Z",
     "iopub.status.idle": "2022-07-05T07:22:51.978640Z",
     "shell.execute_reply": "2022-07-05T07:22:51.977796Z",
     "shell.execute_reply.started": "2022-07-05T07:22:46.924601Z"
    },
    "tags": []
   },
   "outputs": [
    {
     "data": {
      "text/plain": [
       "(31122,)"
      ]
     },
     "execution_count": 7,
     "metadata": {},
     "output_type": "execute_result"
    }
   ],
   "source": [
    "zflag.shape"
   ]
  },
  {
   "cell_type": "code",
   "execution_count": 6,
   "id": "c85e548f-6bcf-42dc-b93d-5b5cacdf93aa",
   "metadata": {
    "execution": {
     "iopub.execute_input": "2022-07-05T07:22:42.005943Z",
     "iopub.status.busy": "2022-07-05T07:22:42.005623Z",
     "iopub.status.idle": "2022-07-05T07:22:46.923561Z",
     "shell.execute_reply": "2022-07-05T07:22:46.923057Z",
     "shell.execute_reply.started": "2022-07-05T07:22:42.005917Z"
    },
    "tags": []
   },
   "outputs": [],
   "source": [
    "g_z = g-z\n",
    "index = ((z>0)&(zflag>2)&(zflag<11)&(redshift>=0.5)&(redshift<=0.7))\n",
    "z = z[index]\n",
    "i = i[index]\n",
    "g_z=g_z[index]\n",
    "mass = mass[index]\n",
    "redshift = redshift[index]\n",
    "zmax = zmax[index]\n",
    "tsr = tsr[index]\n",
    "ssr = ssr[index]\n",
    "zflag = zflag[index]"
   ]
  },
  {
   "cell_type": "code",
   "execution_count": 11,
   "id": "1de044c2-ea3d-4c85-a3c8-1b97d92b67a1",
   "metadata": {
    "execution": {
     "iopub.execute_input": "2022-07-05T07:23:27.383026Z",
     "iopub.status.busy": "2022-07-05T07:23:27.382846Z",
     "iopub.status.idle": "2022-07-05T07:23:27.387624Z",
     "shell.execute_reply": "2022-07-05T07:23:27.386738Z",
     "shell.execute_reply.started": "2022-07-05T07:23:27.383008Z"
    }
   },
   "outputs": [
    {
     "data": {
      "text/plain": [
       "(31122,)"
      ]
     },
     "execution_count": 11,
     "metadata": {},
     "output_type": "execute_result"
    }
   ],
   "source": [
    "z.shape"
   ]
  },
  {
   "cell_type": "code",
   "execution_count": 13,
   "id": "0cca8f22-97c1-4598-841e-87ec1c19bb64",
   "metadata": {
    "execution": {
     "iopub.execute_input": "2022-07-05T07:28:55.388535Z",
     "iopub.status.busy": "2022-07-05T07:28:55.388227Z",
     "iopub.status.idle": "2022-07-05T07:28:55.398017Z",
     "shell.execute_reply": "2022-07-05T07:28:55.397413Z",
     "shell.execute_reply.started": "2022-07-05T07:28:55.388507Z"
    },
    "tags": []
   },
   "outputs": [
    {
     "data": {
      "text/plain": [
       "array([-5.146, -2.909, -2.888, ...,  4.281,  4.374,  4.477])"
      ]
     },
     "execution_count": 13,
     "metadata": {},
     "output_type": "execute_result"
    }
   ],
   "source": [
    "np.unique(g_z)"
   ]
  },
  {
   "cell_type": "code",
   "execution_count": 47,
   "id": "33fca5ea-031d-41c3-b82b-782da54c041e",
   "metadata": {
    "execution": {
     "iopub.execute_input": "2022-07-02T08:53:03.329475Z",
     "iopub.status.busy": "2022-07-02T08:53:03.329206Z",
     "iopub.status.idle": "2022-07-02T08:53:03.333207Z",
     "shell.execute_reply": "2022-07-02T08:53:03.332615Z",
     "shell.execute_reply.started": "2022-07-02T08:53:03.329447Z"
    },
    "tags": []
   },
   "outputs": [
    {
     "data": {
      "text/plain": [
       "(31122,)"
      ]
     },
     "execution_count": 47,
     "metadata": {},
     "output_type": "execute_result"
    }
   ],
   "source": [
    "zflag.shape"
   ]
  },
  {
   "cell_type": "code",
   "execution_count": 8,
   "id": "b8b1d141-f171-434a-ab3b-be7bc6f970cc",
   "metadata": {
    "execution": {
     "iopub.execute_input": "2022-07-03T15:11:48.985836Z",
     "iopub.status.busy": "2022-07-03T15:11:48.985522Z",
     "iopub.status.idle": "2022-07-03T15:11:48.995583Z",
     "shell.execute_reply": "2022-07-03T15:11:48.994710Z",
     "shell.execute_reply.started": "2022-07-03T15:11:48.985815Z"
    },
    "tags": []
   },
   "outputs": [
    {
     "data": {
      "text/plain": [
       "array([0.46884 , 0.51    , 0.510431, ..., 1.70244 , 1.767   , 2.      ])"
      ]
     },
     "execution_count": 8,
     "metadata": {},
     "output_type": "execute_result"
    }
   ],
   "source": [
    "np.unique(zmax)"
   ]
  },
  {
   "cell_type": "code",
   "execution_count": 7,
   "id": "119bb813-8fdd-48c6-bd6b-c3585e9ad645",
   "metadata": {
    "execution": {
     "iopub.execute_input": "2022-07-04T05:04:23.773260Z",
     "iopub.status.busy": "2022-07-04T05:04:23.773088Z",
     "iopub.status.idle": "2022-07-04T05:04:28.302410Z",
     "shell.execute_reply": "2022-07-04T05:04:28.302064Z",
     "shell.execute_reply.started": "2022-07-04T05:04:23.773244Z"
    },
    "tags": []
   },
   "outputs": [],
   "source": [
    "index = ((tsr>0)&(ssr>0))\n",
    "z = z[index]\n",
    "i = i[index]\n",
    "g_z=g_z[index]\n",
    "mass = mass[index]\n",
    "redshift = redshift[index]\n",
    "zmax = zmax[index]\n",
    "tsr = tsr[index]\n",
    "ssr = ssr[index]\n",
    "zflag = zflag[index]\n",
    "\n",
    "index = (zmax>0.5)\n",
    "z = z[index]\n",
    "i = i[index]\n",
    "g_z=g_z[index]\n",
    "mass = mass[index]\n",
    "redshift = redshift[index]\n",
    "zmax = zmax[index]\n",
    "tsr = tsr[index]\n",
    "ssr = ssr[index]\n",
    "zflag = zflag[index]\n",
    "zmax[(zmax>0.7)]=0.7\n"
   ]
  },
  {
   "cell_type": "code",
   "execution_count": 49,
   "id": "c0410729-e1c4-4637-aa33-86503ce15161",
   "metadata": {
    "execution": {
     "iopub.execute_input": "2022-07-02T08:53:14.454944Z",
     "iopub.status.busy": "2022-07-02T08:53:14.454367Z",
     "iopub.status.idle": "2022-07-02T08:53:14.458589Z",
     "shell.execute_reply": "2022-07-02T08:53:14.458140Z",
     "shell.execute_reply.started": "2022-07-02T08:53:14.454920Z"
    }
   },
   "outputs": [
    {
     "data": {
      "text/plain": [
       "(31108,)"
      ]
     },
     "execution_count": 49,
     "metadata": {},
     "output_type": "execute_result"
    }
   ],
   "source": [
    "zflag.shape"
   ]
  },
  {
   "cell_type": "code",
   "execution_count": 8,
   "id": "5fc8ed65-412c-472c-a42d-1121ae5c4194",
   "metadata": {
    "execution": {
     "iopub.execute_input": "2022-07-04T05:04:28.303090Z",
     "iopub.status.busy": "2022-07-04T05:04:28.302973Z",
     "iopub.status.idle": "2022-07-04T05:04:37.800784Z",
     "shell.execute_reply": "2022-07-04T05:04:37.800086Z",
     "shell.execute_reply.started": "2022-07-04T05:04:28.303076Z"
    },
    "tags": []
   },
   "outputs": [],
   "source": [
    "V_0 = []\n",
    "for index in range(len(zmax)):\n",
    "    temp = cosmo.comoving_volume(zmax[index]) - cosmo.comoving_volume(0.5)\n",
    "    V_0.append(temp.value)\n",
    "    \n",
    "V_1 = np.array(V_0)\n",
    "\n",
    "Vtotal = cosmo.comoving_volume(0.7) - cosmo.comoving_volume(0.5)\n",
    "Vtotal\n",
    "weight0 = Vtotal.value/V_1\n",
    "\n",
    "weight1 = 1/ssr * 1/tsr * weight0"
   ]
  },
  {
   "cell_type": "code",
   "execution_count": 18,
   "id": "dae8f09f-f1f4-42df-992c-f6eecd145028",
   "metadata": {
    "execution": {
     "iopub.execute_input": "2022-07-04T05:38:55.343988Z",
     "iopub.status.busy": "2022-07-04T05:38:55.343804Z",
     "iopub.status.idle": "2022-07-04T05:38:55.425620Z",
     "shell.execute_reply": "2022-07-04T05:38:55.425164Z",
     "shell.execute_reply.started": "2022-07-04T05:38:55.343971Z"
    },
    "tags": []
   },
   "outputs": [
    {
     "data": {
      "text/plain": [
       "(7.0, 12.0)"
      ]
     },
     "execution_count": 18,
     "metadata": {},
     "output_type": "execute_result"
    },
    {
     "data": {
      "image/png": "[encoded data removed]",
      "text/plain": [
       "<Figure size 432x288 with 1 Axes>"
      ]
     },
     "metadata": {
      "needs_background": "light"
     },
     "output_type": "display_data"
    }
   ],
   "source": [
    "plt.scatter(i,mass,s =0.1)\n",
    "plt.ylim(7,12)"
   ]
  },
  {
   "cell_type": "code",
   "execution_count": 11,
   "id": "808436bd-1f92-4665-b4b7-86ad37bea18c",
   "metadata": {
    "execution": {
     "iopub.execute_input": "2022-07-03T15:12:13.026316Z",
     "iopub.status.busy": "2022-07-03T15:12:13.026185Z",
     "iopub.status.idle": "2022-07-03T15:12:13.032090Z",
     "shell.execute_reply": "2022-07-03T15:12:13.031360Z",
     "shell.execute_reply.started": "2022-07-03T15:12:13.026302Z"
    },
    "tags": []
   },
   "outputs": [
    {
     "data": {
      "text/plain": [
       "array([18.346, 18.494, 18.553, ..., 22.498, 22.499, 22.5  ])"
      ]
     },
     "execution_count": 11,
     "metadata": {},
     "output_type": "execute_result"
    }
   ],
   "source": [
    "np.unique(i)"
   ]
  },
  {
   "cell_type": "code",
   "execution_count": 19,
   "id": "dd4ff62a-a604-4708-8ba3-0741a06f611c",
   "metadata": {
    "execution": {
     "iopub.execute_input": "2022-07-04T05:45:35.186611Z",
     "iopub.status.busy": "2022-07-04T05:45:35.186306Z",
     "iopub.status.idle": "2022-07-04T05:45:35.189632Z",
     "shell.execute_reply": "2022-07-04T05:45:35.189153Z",
     "shell.execute_reply.started": "2022-07-04T05:45:35.186593Z"
    }
   },
   "outputs": [],
   "source": [
    "g_z_VIPERS = g_z[g_z>2]"
   ]
  },
  {
   "cell_type": "code",
   "execution_count": 20,
   "id": "7151f933-a717-4d39-9442-8be6c88e8f02",
   "metadata": {
    "execution": {
     "iopub.execute_input": "2022-07-04T05:45:44.552614Z",
     "iopub.status.busy": "2022-07-04T05:45:44.552398Z",
     "iopub.status.idle": "2022-07-04T05:45:44.556641Z",
     "shell.execute_reply": "2022-07-04T05:45:44.556221Z",
     "shell.execute_reply.started": "2022-07-04T05:45:44.552599Z"
    }
   },
   "outputs": [
    {
     "data": {
      "text/plain": [
       "array([2.074, 2.754, 2.486, ..., 2.597, 2.95 , 3.148])"
      ]
     },
     "execution_count": 20,
     "metadata": {},
     "output_type": "execute_result"
    }
   ],
   "source": [
    "g_z_VIPERS"
   ]
  },
  {
   "cell_type": "code",
   "execution_count": null,
   "id": "593d71ff-67de-4873-9e95-ecbe4b863337",
   "metadata": {},
   "outputs": [],
   "source": []
  },
  {
   "cell_type": "code",
   "execution_count": 9,
   "id": "8e759a3b-bc8c-43ff-917e-6e91b92388f8",
   "metadata": {
    "execution": {
     "iopub.execute_input": "2022-07-04T05:04:37.802412Z",
     "iopub.status.busy": "2022-07-04T05:04:37.802065Z",
     "iopub.status.idle": "2022-07-04T05:04:37.805926Z",
     "shell.execute_reply": "2022-07-04T05:04:37.805558Z",
     "shell.execute_reply.started": "2022-07-04T05:04:37.802373Z"
    },
    "tags": []
   },
   "outputs": [],
   "source": [
    "test = np.vstack((i,z,g_z,redshift,weight1))\n",
    "test = test.T"
   ]
  },
  {
   "cell_type": "code",
   "execution_count": 13,
   "id": "2f6641cf-4919-458d-bff7-d7b2fd3c0d12",
   "metadata": {
    "execution": {
     "iopub.execute_input": "2022-07-03T15:13:04.029231Z",
     "iopub.status.busy": "2022-07-03T15:13:04.029113Z",
     "iopub.status.idle": "2022-07-03T15:13:07.534147Z",
     "shell.execute_reply": "2022-07-03T15:13:07.533723Z",
     "shell.execute_reply.started": "2022-07-03T15:13:04.029218Z"
    },
    "tags": []
   },
   "outputs": [
    {
     "data": {
      "text/plain": [
       "(31108, 5)"
      ]
     },
     "execution_count": 13,
     "metadata": {},
     "output_type": "execute_result"
    }
   ],
   "source": [
    "test.shape"
   ]
  },
  {
   "cell_type": "code",
   "execution_count": 15,
   "id": "dadb7ee7-dc84-49bc-ac1d-28dc94210d3b",
   "metadata": {
    "execution": {
     "iopub.execute_input": "2022-07-03T15:16:18.653273Z",
     "iopub.status.busy": "2022-07-03T15:16:18.653148Z",
     "iopub.status.idle": "2022-07-03T15:16:18.656938Z",
     "shell.execute_reply": "2022-07-03T15:16:18.656455Z",
     "shell.execute_reply.started": "2022-07-03T15:16:18.653259Z"
    },
    "tags": []
   },
   "outputs": [
    {
     "data": {
      "text/plain": [
       "(5, 8674)"
      ]
     },
     "execution_count": 15,
     "metadata": {},
     "output_type": "execute_result"
    }
   ],
   "source": [
    "temp.shape"
   ]
  },
  {
   "cell_type": "code",
   "execution_count": 18,
   "id": "0fc80a4a-4fca-4ce6-ba38-10dff5287deb",
   "metadata": {
    "execution": {
     "iopub.execute_input": "2022-07-03T15:18:38.704169Z",
     "iopub.status.busy": "2022-07-03T15:18:38.704021Z",
     "iopub.status.idle": "2022-07-03T15:18:38.708688Z",
     "shell.execute_reply": "2022-07-03T15:18:38.707988Z",
     "shell.execute_reply.started": "2022-07-03T15:18:38.704154Z"
    }
   },
   "outputs": [
    {
     "data": {
      "text/plain": [
       "array([22.472, 22.405, 22.133, ..., 22.175, 22.029, 22.268])"
      ]
     },
     "execution_count": 18,
     "metadata": {},
     "output_type": "execute_result"
    }
   ],
   "source": [
    "temp[0]"
   ]
  },
  {
   "cell_type": "code",
   "execution_count": 26,
   "id": "ebcc3d36-3748-4f1c-9057-6320b0e5c8ed",
   "metadata": {
    "execution": {
     "iopub.execute_input": "2022-07-04T07:36:56.481155Z",
     "iopub.status.busy": "2022-07-04T07:36:56.480915Z",
     "iopub.status.idle": "2022-07-04T07:37:01.710389Z",
     "shell.execute_reply": "2022-07-04T07:37:01.709432Z",
     "shell.execute_reply.started": "2022-07-04T07:36:56.481138Z"
    },
    "tags": []
   },
   "outputs": [],
   "source": [
    "ibins = np.array([20,20.5,21,21.5,22,22.5])\n",
    "frac_noweight = np.zeros(5)\n",
    "err_noweight = np.zeros(5)\n",
    "for j in range(5):\n",
    "    index = ((i>ibins[j])&(i<ibins[j+1]))\n",
    "    temp = test[index]\n",
    "    temp = temp.T\n",
    "    frac_each = np.zeros(10000)\n",
    "    np.random.seed(10000)\n",
    "    for k in range(10000):\n",
    "        index_temp = np.random.choice(len(temp[0]),size = len(temp[0]),replace = True)\n",
    "        g_z_temp = temp[2][index_temp]\n",
    "        frac_each[k] = len(g_z_temp[g_z_temp>2])/len(g_z_temp)\n",
    "    frac_noweight[j] = np.mean(frac_each)\n",
    "    err_noweight[j] = np.std(frac_each,ddof=1)\n",
    "    "
   ]
  },
  {
   "cell_type": "code",
   "execution_count": 31,
   "id": "238e2f55-f896-440a-9d70-281d9635619b",
   "metadata": {
    "execution": {
     "iopub.execute_input": "2022-07-04T07:42:50.347443Z",
     "iopub.status.busy": "2022-07-04T07:42:50.347221Z",
     "iopub.status.idle": "2022-07-04T07:42:56.695670Z",
     "shell.execute_reply": "2022-07-04T07:42:56.693987Z",
     "shell.execute_reply.started": "2022-07-04T07:42:50.347425Z"
    },
    "tags": []
   },
   "outputs": [],
   "source": [
    "ibins = np.array([20,20.5,21,21.5,22,22.5])\n",
    "frac_weight = np.zeros(5)\n",
    "err_weight = np.zeros(5)\n",
    "for j in range(5):\n",
    "    index = ((i>ibins[j])&(i<ibins[j+1]))\n",
    "    temp = test[index]\n",
    "    temp = temp.T\n",
    "    frac_each = np.zeros(10000)\n",
    "    np.random.seed(10000)\n",
    "    for k in range(10000):\n",
    "        index_temp = np.random.choice(len(temp[0]),size = len(temp[0]),replace = True)\n",
    "        g_z_temp = temp[2][index_temp]\n",
    "        frac_each[k] = np.sum(temp[-1][index_temp][g_z_temp>2])/np.sum(temp[-1][index_temp])\n",
    "    frac_weight[j] = np.mean(frac_each)\n",
    "    err_weight[j] = np.std(frac_each,ddof =1)\n",
    "    "
   ]
  },
  {
   "cell_type": "code",
   "execution_count": 11,
   "id": "c0197138-740c-4d34-b2f2-bddade0f39fc",
   "metadata": {
    "execution": {
     "iopub.execute_input": "2022-07-04T05:04:38.286806Z",
     "iopub.status.busy": "2022-07-04T05:04:38.286688Z",
     "iopub.status.idle": "2022-07-04T05:04:38.896991Z",
     "shell.execute_reply": "2022-07-04T05:04:38.896650Z",
     "shell.execute_reply.started": "2022-07-04T05:04:38.286793Z"
    },
    "tags": []
   },
   "outputs": [],
   "source": [
    "ibins = np.array([20,20.5,21,21.5,22,22.5])\n",
    "frac = np.zeros(5)\n",
    "for j in range(5):\n",
    "    index = ((i>ibins[j])&(i<ibins[j+1]))\n",
    "    temp = test[index]\n",
    "    temp = temp.T\n",
    "    frac[j] = np.sum(temp[-1][temp[2]>2])/np.sum(temp[-1])\n",
    "    "
   ]
  },
  {
   "cell_type": "code",
   "execution_count": 27,
   "id": "63ccbe9b-d877-49db-8213-488ffa9c8e7a",
   "metadata": {
    "execution": {
     "iopub.execute_input": "2022-07-04T07:37:13.364059Z",
     "iopub.status.busy": "2022-07-04T07:37:13.363762Z",
     "iopub.status.idle": "2022-07-04T07:37:13.370705Z",
     "shell.execute_reply": "2022-07-04T07:37:13.369722Z",
     "shell.execute_reply.started": "2022-07-04T07:37:13.364036Z"
    },
    "tags": []
   },
   "outputs": [
    {
     "data": {
      "text/plain": [
       "array([0.66666134, 0.58417891, 0.46934907, 0.33644764, 0.19721107])"
      ]
     },
     "execution_count": 27,
     "metadata": {},
     "output_type": "execute_result"
    }
   ],
   "source": [
    "frac_noweight"
   ]
  },
  {
   "cell_type": "code",
   "execution_count": 23,
   "id": "04e1a850-d3fa-4afc-86de-f0d7e5ab1685",
   "metadata": {
    "execution": {
     "iopub.execute_input": "2022-07-04T07:33:15.239287Z",
     "iopub.status.busy": "2022-07-04T07:33:15.238679Z",
     "iopub.status.idle": "2022-07-04T07:33:15.244406Z",
     "shell.execute_reply": "2022-07-04T07:33:15.243490Z",
     "shell.execute_reply.started": "2022-07-04T07:33:15.239264Z"
    },
    "tags": []
   },
   "outputs": [
    {
     "data": {
      "text/plain": [
       "array([0.66666134, 0.58417891, 0.46934907, 0.33644764, 0.19721107])"
      ]
     },
     "execution_count": 23,
     "metadata": {},
     "output_type": "execute_result"
    }
   ],
   "source": [
    "frac_noweight"
   ]
  },
  {
   "cell_type": "code",
   "execution_count": 30,
   "id": "0b929c5d-7070-4dff-854a-7b2b7bc169fe",
   "metadata": {
    "execution": {
     "iopub.execute_input": "2022-07-04T07:42:34.285046Z",
     "iopub.status.busy": "2022-07-04T07:42:34.284806Z",
     "iopub.status.idle": "2022-07-04T07:42:34.291155Z",
     "shell.execute_reply": "2022-07-04T07:42:34.289835Z",
     "shell.execute_reply.started": "2022-07-04T07:42:34.285027Z"
    },
    "tags": []
   },
   "outputs": [
    {
     "data": {
      "text/plain": [
       "array([0.66555355, 0.57535585, 0.46945998, 0.36189745, 0.20743706])"
      ]
     },
     "execution_count": 30,
     "metadata": {},
     "output_type": "execute_result"
    }
   ],
   "source": [
    "frac_weight"
   ]
  },
  {
   "cell_type": "code",
   "execution_count": 32,
   "id": "37d1bf44-2553-4a23-86d0-62464dfc6b9c",
   "metadata": {
    "execution": {
     "iopub.execute_input": "2022-07-04T07:43:16.288346Z",
     "iopub.status.busy": "2022-07-04T07:43:16.288073Z",
     "iopub.status.idle": "2022-07-04T07:43:16.293775Z",
     "shell.execute_reply": "2022-07-04T07:43:16.293173Z",
     "shell.execute_reply.started": "2022-07-04T07:43:16.288323Z"
    },
    "tags": []
   },
   "outputs": [
    {
     "data": {
      "text/plain": [
       "array([0.66555355, 0.57535585, 0.46945998, 0.36189745, 0.20743706])"
      ]
     },
     "execution_count": 32,
     "metadata": {},
     "output_type": "execute_result"
    }
   ],
   "source": [
    "frac_weight"
   ]
  },
  {
   "cell_type": "code",
   "execution_count": 34,
   "id": "ea327812-65c2-4911-b660-b84437262922",
   "metadata": {
    "execution": {
     "iopub.execute_input": "2022-07-04T07:44:02.286600Z",
     "iopub.status.busy": "2022-07-04T07:44:02.286271Z",
     "iopub.status.idle": "2022-07-04T07:44:02.289728Z",
     "shell.execute_reply": "2022-07-04T07:44:02.289264Z",
     "shell.execute_reply.started": "2022-07-04T07:44:02.286584Z"
    },
    "tags": []
   },
   "outputs": [
    {
     "data": {
      "text/plain": [
       "array([0.01115256, 0.00787066, 0.00682245, 0.00610394, 0.00685161])"
      ]
     },
     "execution_count": 34,
     "metadata": {},
     "output_type": "execute_result"
    }
   ],
   "source": [
    "err_weight"
   ]
  },
  {
   "cell_type": "code",
   "execution_count": 33,
   "id": "ee9bb69d-e739-483a-8e23-5b28f02acabf",
   "metadata": {
    "execution": {
     "iopub.execute_input": "2022-07-03T15:42:47.117618Z",
     "iopub.status.busy": "2022-07-03T15:42:47.117425Z",
     "iopub.status.idle": "2022-07-03T15:42:47.122595Z",
     "shell.execute_reply": "2022-07-03T15:42:47.121968Z",
     "shell.execute_reply.started": "2022-07-03T15:42:47.117598Z"
    },
    "tags": []
   },
   "outputs": [
    {
     "data": {
      "text/plain": [
       "array([0.0110063 , 0.00797829, 0.00670611, 0.00616625, 0.00690246])"
      ]
     },
     "execution_count": 33,
     "metadata": {},
     "output_type": "execute_result"
    }
   ],
   "source": [
    "err_weight"
   ]
  },
  {
   "cell_type": "code",
   "execution_count": 37,
   "id": "5d456809-4338-4b41-8ece-7ee4f4cf2e0d",
   "metadata": {
    "collapsed": true,
    "execution": {
     "iopub.execute_input": "2022-07-03T15:44:12.704706Z",
     "iopub.status.busy": "2022-07-03T15:44:12.704329Z",
     "iopub.status.idle": "2022-07-03T15:44:12.711073Z",
     "shell.execute_reply": "2022-07-03T15:44:12.710435Z",
     "shell.execute_reply.started": "2022-07-03T15:44:12.704677Z"
    },
    "jupyter": {
     "outputs_hidden": true
    },
    "tags": []
   },
   "outputs": [
    {
     "data": {
      "text/plain": [
       "\u001b[0;31mSignature:\u001b[0m\n",
       "\u001b[0mplt\u001b[0m\u001b[0;34m.\u001b[0m\u001b[0merrorbar\u001b[0m\u001b[0;34m(\u001b[0m\u001b[0;34m\u001b[0m\n",
       "\u001b[0;34m\u001b[0m    \u001b[0mx\u001b[0m\u001b[0;34m,\u001b[0m\u001b[0;34m\u001b[0m\n",
       "\u001b[0;34m\u001b[0m    \u001b[0my\u001b[0m\u001b[0;34m,\u001b[0m\u001b[0;34m\u001b[0m\n",
       "\u001b[0;34m\u001b[0m    \u001b[0myerr\u001b[0m\u001b[0;34m=\u001b[0m\u001b[0;32mNone\u001b[0m\u001b[0;34m,\u001b[0m\u001b[0;34m\u001b[0m\n",
       "\u001b[0;34m\u001b[0m    \u001b[0mxerr\u001b[0m\u001b[0;34m=\u001b[0m\u001b[0;32mNone\u001b[0m\u001b[0;34m,\u001b[0m\u001b[0;34m\u001b[0m\n",
       "\u001b[0;34m\u001b[0m    \u001b[0mfmt\u001b[0m\u001b[0;34m=\u001b[0m\u001b[0;34m''\u001b[0m\u001b[0;34m,\u001b[0m\u001b[0;34m\u001b[0m\n",
       "\u001b[0;34m\u001b[0m    \u001b[0mecolor\u001b[0m\u001b[0;34m=\u001b[0m\u001b[0;32mNone\u001b[0m\u001b[0;34m,\u001b[0m\u001b[0;34m\u001b[0m\n",
       "\u001b[0;34m\u001b[0m    \u001b[0melinewidth\u001b[0m\u001b[0;34m=\u001b[0m\u001b[0;32mNone\u001b[0m\u001b[0;34m,\u001b[0m\u001b[0;34m\u001b[0m\n",
       "\u001b[0;34m\u001b[0m    \u001b[0mcapsize\u001b[0m\u001b[0;34m=\u001b[0m\u001b[0;32mNone\u001b[0m\u001b[0;34m,\u001b[0m\u001b[0;34m\u001b[0m\n",
       "\u001b[0;34m\u001b[0m    \u001b[0mbarsabove\u001b[0m\u001b[0;34m=\u001b[0m\u001b[0;32mFalse\u001b[0m\u001b[0;34m,\u001b[0m\u001b[0;34m\u001b[0m\n",
       "\u001b[0;34m\u001b[0m    \u001b[0mlolims\u001b[0m\u001b[0;34m=\u001b[0m\u001b[0;32mFalse\u001b[0m\u001b[0;34m,\u001b[0m\u001b[0;34m\u001b[0m\n",
       "\u001b[0;34m\u001b[0m    \u001b[0muplims\u001b[0m\u001b[0;34m=\u001b[0m\u001b[0;32mFalse\u001b[0m\u001b[0;34m,\u001b[0m\u001b[0;34m\u001b[0m\n",
       "\u001b[0;34m\u001b[0m    \u001b[0mxlolims\u001b[0m\u001b[0;34m=\u001b[0m\u001b[0;32mFalse\u001b[0m\u001b[0;34m,\u001b[0m\u001b[0;34m\u001b[0m\n",
       "\u001b[0;34m\u001b[0m    \u001b[0mxuplims\u001b[0m\u001b[0;34m=\u001b[0m\u001b[0;32mFalse\u001b[0m\u001b[0;34m,\u001b[0m\u001b[0;34m\u001b[0m\n",
       "\u001b[0;34m\u001b[0m    \u001b[0merrorevery\u001b[0m\u001b[0;34m=\u001b[0m\u001b[0;36m1\u001b[0m\u001b[0;34m,\u001b[0m\u001b[0;34m\u001b[0m\n",
       "\u001b[0;34m\u001b[0m    \u001b[0mcapthick\u001b[0m\u001b[0;34m=\u001b[0m\u001b[0;32mNone\u001b[0m\u001b[0;34m,\u001b[0m\u001b[0;34m\u001b[0m\n",
       "\u001b[0;34m\u001b[0m    \u001b[0;34m*\u001b[0m\u001b[0;34m,\u001b[0m\u001b[0;34m\u001b[0m\n",
       "\u001b[0;34m\u001b[0m    \u001b[0mdata\u001b[0m\u001b[0;34m=\u001b[0m\u001b[0;32mNone\u001b[0m\u001b[0;34m,\u001b[0m\u001b[0;34m\u001b[0m\n",
       "\u001b[0;34m\u001b[0m    \u001b[0;34m**\u001b[0m\u001b[0mkwargs\u001b[0m\u001b[0;34m,\u001b[0m\u001b[0;34m\u001b[0m\n",
       "\u001b[0;34m\u001b[0m\u001b[0;34m)\u001b[0m\u001b[0;34m\u001b[0m\u001b[0;34m\u001b[0m\u001b[0m\n",
       "\u001b[0;31mDocstring:\u001b[0m\n",
       "Plot y versus x as lines and/or markers with attached errorbars.\n",
       "\n",
       "*x*, *y* define the data locations, *xerr*, *yerr* define the errorbar\n",
       "sizes. By default, this draws the data markers/lines as well the\n",
       "errorbars. Use fmt='none' to draw errorbars without any data markers.\n",
       "\n",
       "Parameters\n",
       "----------\n",
       "x, y : float or array-like\n",
       "    The data positions.\n",
       "\n",
       "xerr, yerr : float or array-like, shape(N,) or shape(2, N), optional\n",
       "    The errorbar sizes:\n",
       "\n",
       "    - scalar: Symmetric +/- values for all data points.\n",
       "    - shape(N,): Symmetric +/-values for each data point.\n",
       "    - shape(2, N): Separate - and + values for each bar. First row\n",
       "      contains the lower errors, the second row contains the upper\n",
       "      errors.\n",
       "    - *None*: No errorbar.\n",
       "\n",
       "    Note that all error arrays should have *positive* values.\n",
       "\n",
       "    See :doc:`/gallery/statistics/errorbar_features`\n",
       "    for an example on the usage of ``xerr`` and ``yerr``.\n",
       "\n",
       "fmt : str, default: ''\n",
       "    The format for the data points / data lines. See `.plot` for\n",
       "    details.\n",
       "\n",
       "    Use 'none' (case insensitive) to plot errorbars without any data\n",
       "    markers.\n",
       "\n",
       "ecolor : color, default: None\n",
       "    The color of the errorbar lines.  If None, use the color of the\n",
       "    line connecting the markers.\n",
       "\n",
       "elinewidth : float, default: None\n",
       "    The linewidth of the errorbar lines. If None, the linewidth of\n",
       "    the current style is used.\n",
       "\n",
       "capsize : float, default: :rc:`errorbar.capsize`\n",
       "    The length of the error bar caps in points.\n",
       "\n",
       "capthick : float, default: None\n",
       "    An alias to the keyword argument *markeredgewidth* (a.k.a. *mew*).\n",
       "    This setting is a more sensible name for the property that\n",
       "    controls the thickness of the error bar cap in points. For\n",
       "    backwards compatibility, if *mew* or *markeredgewidth* are given,\n",
       "    then they will over-ride *capthick*. This may change in future\n",
       "    releases.\n",
       "\n",
       "barsabove : bool, default: False\n",
       "    If True, will plot the errorbars above the plot\n",
       "    symbols. Default is below.\n",
       "\n",
       "lolims, uplims, xlolims, xuplims : bool, default: False\n",
       "    These arguments can be used to indicate that a value gives only\n",
       "    upper/lower limits.  In that case a caret symbol is used to\n",
       "    indicate this. *lims*-arguments may be scalars, or array-likes of\n",
       "    the same length as *xerr* and *yerr*.  To use limits with inverted\n",
       "    axes, `~.Axes.set_xlim` or `~.Axes.set_ylim` must be called before\n",
       "    :meth:`errorbar`.  Note the tricky parameter names: setting e.g.\n",
       "    *lolims* to True means that the y-value is a *lower* limit of the\n",
       "    True value, so, only an *upward*-pointing arrow will be drawn!\n",
       "\n",
       "errorevery : int or (int, int), default: 1\n",
       "    draws error bars on a subset of the data. *errorevery* =N draws\n",
       "    error bars on the points (x[::N], y[::N]).\n",
       "    *errorevery* =(start, N) draws error bars on the points\n",
       "    (x[start::N], y[start::N]). e.g. errorevery=(6, 3)\n",
       "    adds error bars to the data at (x[6], x[9], x[12], x[15], ...).\n",
       "    Used to avoid overlapping error bars when two series share x-axis\n",
       "    values.\n",
       "\n",
       "Returns\n",
       "-------\n",
       "`.ErrorbarContainer`\n",
       "    The container contains:\n",
       "\n",
       "    - plotline: `.Line2D` instance of x, y plot markers and/or line.\n",
       "    - caplines: A tuple of `.Line2D` instances of the error bar caps.\n",
       "    - barlinecols: A tuple of `.LineCollection` with the horizontal and\n",
       "      vertical error ranges.\n",
       "\n",
       "Other Parameters\n",
       "----------------\n",
       "**kwargs\n",
       "    All other keyword arguments are passed on to the `~.Axes.plot` call\n",
       "    drawing the markers. For example, this code makes big red squares\n",
       "    with thick green edges::\n",
       "\n",
       "        x, y, yerr = rand(3, 10)\n",
       "        errorbar(x, y, yerr, marker='s', mfc='red',\n",
       "                 mec='green', ms=20, mew=4)\n",
       "\n",
       "    where *mfc*, *mec*, *ms* and *mew* are aliases for the longer\n",
       "    property names, *markerfacecolor*, *markeredgecolor*, *markersize*\n",
       "    and *markeredgewidth*.\n",
       "\n",
       "    Valid kwargs for the marker properties are `.Line2D` properties:\n",
       "\n",
       "    Properties:\n",
       "    agg_filter: a filter function, which takes a (m, n, 3) float array and a dpi value, and returns a (m, n, 3) array\n",
       "    alpha: scalar or None\n",
       "    animated: bool\n",
       "    antialiased or aa: bool\n",
       "    clip_box: `.Bbox`\n",
       "    clip_on: bool\n",
       "    clip_path: Patch or (Path, Transform) or None\n",
       "    color or c: color\n",
       "    contains: unknown\n",
       "    dash_capstyle: `.CapStyle` or {'butt', 'projecting', 'round'}\n",
       "    dash_joinstyle: `.JoinStyle` or {'miter', 'round', 'bevel'}\n",
       "    dashes: sequence of floats (on/off ink in points) or (None, None)\n",
       "    data: (2, N) array or two 1D arrays\n",
       "    drawstyle or ds: {'default', 'steps', 'steps-pre', 'steps-mid', 'steps-post'}, default: 'default'\n",
       "    figure: `.Figure`\n",
       "    fillstyle: {'full', 'left', 'right', 'bottom', 'top', 'none'}\n",
       "    gid: str\n",
       "    in_layout: bool\n",
       "    label: object\n",
       "    linestyle or ls: {'-', '--', '-.', ':', '', (offset, on-off-seq), ...}\n",
       "    linewidth or lw: float\n",
       "    marker: marker style string, `~.path.Path` or `~.markers.MarkerStyle`\n",
       "    markeredgecolor or mec: color\n",
       "    markeredgewidth or mew: float\n",
       "    markerfacecolor or mfc: color\n",
       "    markerfacecoloralt or mfcalt: color\n",
       "    markersize or ms: float\n",
       "    markevery: None or int or (int, int) or slice or list[int] or float or (float, float) or list[bool]\n",
       "    path_effects: `.AbstractPathEffect`\n",
       "    picker: float or callable[[Artist, Event], tuple[bool, dict]]\n",
       "    pickradius: float\n",
       "    rasterized: bool\n",
       "    sketch_params: (scale: float, length: float, randomness: float)\n",
       "    snap: bool or None\n",
       "    solid_capstyle: `.CapStyle` or {'butt', 'projecting', 'round'}\n",
       "    solid_joinstyle: `.JoinStyle` or {'miter', 'round', 'bevel'}\n",
       "    transform: `matplotlib.transforms.Transform`\n",
       "    url: str\n",
       "    visible: bool\n",
       "    xdata: 1D array\n",
       "    ydata: 1D array\n",
       "    zorder: float\n",
       "\n",
       "Notes\n",
       "-----\n",
       "\n",
       "\n",
       ".. note::\n",
       "    In addition to the above described arguments, this function can take\n",
       "    a *data* keyword argument. If such a *data* argument is given,\n",
       "    the following arguments can also be string ``s``, which is\n",
       "    interpreted as ``data[s]`` (unless this raises an exception):\n",
       "    *x*, *y*, *xerr*, *yerr*.\n",
       "\n",
       "    Objects passed as **data** must support item access (``data[s]``) and\n",
       "    membership test (``s in data``).\n",
       "\u001b[0;31mFile:\u001b[0m      ~/.local/anaconda/envs/mynumba/lib/python3.8/site-packages/matplotlib/pyplot.py\n",
       "\u001b[0;31mType:\u001b[0m      function\n"
      ]
     },
     "metadata": {},
     "output_type": "display_data"
    }
   ],
   "source": [
    "plt.errorbar?"
   ]
  },
  {
   "cell_type": "code",
   "execution_count": 39,
   "id": "2e1dc120-3bd0-4f08-a5e8-c55b60954be9",
   "metadata": {
    "execution": {
     "iopub.execute_input": "2022-07-03T15:45:46.703777Z",
     "iopub.status.busy": "2022-07-03T15:45:46.703494Z",
     "iopub.status.idle": "2022-07-03T15:45:46.781982Z",
     "shell.execute_reply": "2022-07-03T15:45:46.781465Z",
     "shell.execute_reply.started": "2022-07-03T15:45:46.703751Z"
    },
    "tags": []
   },
   "outputs": [
    {
     "data": {
      "text/plain": [
       "(0.0, 1.0)"
      ]
     },
     "execution_count": 39,
     "metadata": {},
     "output_type": "execute_result"
    },
    {
     "data": {
      "image/png": "[encoded data removed]",
      "text/plain": [
       "<Figure size 432x288 with 1 Axes>"
      ]
     },
     "metadata": {
      "needs_background": "light"
     },
     "output_type": "display_data"
    }
   ],
   "source": [
    "ibin0 = 0.5*(ibins[1:]+ibins[:-1])\n",
    "plt.errorbar(ibin0,frac_noweight,err_noweight,color ='red')\n",
    "plt.errorbar(ibin0,frac_weight,err_weight)\n",
    "\n",
    "\n",
    "plt.xlim(20,22.5)\n",
    "plt.ylim(0,1)"
   ]
  },
  {
   "cell_type": "code",
   "execution_count": 22,
   "id": "8a9a8c5e-6b5d-4c9c-89b8-37e098e9c72f",
   "metadata": {
    "execution": {
     "iopub.execute_input": "2022-07-03T15:30:52.703697Z",
     "iopub.status.busy": "2022-07-03T15:30:52.703282Z",
     "iopub.status.idle": "2022-07-03T15:30:52.773473Z",
     "shell.execute_reply": "2022-07-03T15:30:52.773046Z",
     "shell.execute_reply.started": "2022-07-03T15:30:52.703679Z"
    },
    "tags": []
   },
   "outputs": [
    {
     "data": {
      "text/plain": [
       "(0.0, 1.0)"
      ]
     },
     "execution_count": 22,
     "metadata": {},
     "output_type": "execute_result"
    },
    {
     "data": {
      "image/png": "[encoded data removed]",
      "text/plain": [
       "<Figure size 432x288 with 1 Axes>"
      ]
     },
     "metadata": {
      "needs_background": "light"
     },
     "output_type": "display_data"
    }
   ],
   "source": [
    "ibin0 = 0.5*(ibins[1:]+ibins[:-1])\n",
    "plt.scatter(ibin0,frac_noweight,color ='red')\n",
    "# plt.scatter(ibin0,frac)\n",
    "\n",
    "\n",
    "plt.xlim(20,22.5)\n",
    "plt.ylim(0,1)"
   ]
  },
  {
   "cell_type": "code",
   "execution_count": 25,
   "id": "c31b5547-9e7c-4063-9680-3504d94a608e",
   "metadata": {
    "execution": {
     "iopub.execute_input": "2022-07-03T11:53:58.962232Z",
     "iopub.status.busy": "2022-07-03T11:53:58.962076Z",
     "iopub.status.idle": "2022-07-03T11:53:58.966055Z",
     "shell.execute_reply": "2022-07-03T11:53:58.965626Z",
     "shell.execute_reply.started": "2022-07-03T11:53:58.962218Z"
    },
    "tags": []
   },
   "outputs": [
    {
     "data": {
      "text/plain": [
       "(2279, 5)"
      ]
     },
     "execution_count": 25,
     "metadata": {},
     "output_type": "execute_result"
    }
   ],
   "source": [
    "index = ((i>20)&(i<20.5))\n",
    "temp = test[index]\n",
    "temp.shape"
   ]
  },
  {
   "cell_type": "code",
   "execution_count": 26,
   "id": "1aae2dd9-5f08-42dc-b489-1a9d1e0327dc",
   "metadata": {
    "execution": {
     "iopub.execute_input": "2022-07-03T11:54:07.963312Z",
     "iopub.status.busy": "2022-07-03T11:54:07.963095Z",
     "iopub.status.idle": "2022-07-03T11:54:07.968309Z",
     "shell.execute_reply": "2022-07-03T11:54:07.967696Z",
     "shell.execute_reply.started": "2022-07-03T11:54:07.963294Z"
    },
    "tags": []
   },
   "outputs": [
    {
     "data": {
      "text/plain": [
       "0.6658278365949948"
      ]
     },
     "execution_count": 26,
     "metadata": {},
     "output_type": "execute_result"
    }
   ],
   "source": [
    "temp = temp.T\n",
    "frac = np.sum(temp[-1][temp[2]>2])/np.sum(temp[-1])\n",
    "frac"
   ]
  },
  {
   "cell_type": "code",
   "execution_count": 15,
   "id": "3ab4a17c-db98-4bee-ba09-37f1c5a8c6a2",
   "metadata": {
    "execution": {
     "iopub.execute_input": "2022-07-03T11:29:58.428198Z",
     "iopub.status.busy": "2022-07-03T11:29:58.427980Z",
     "iopub.status.idle": "2022-07-03T11:29:58.432634Z",
     "shell.execute_reply": "2022-07-03T11:29:58.432053Z",
     "shell.execute_reply.started": "2022-07-03T11:29:58.428180Z"
    },
    "tags": []
   },
   "outputs": [
    {
     "data": {
      "text/plain": [
       "4.477"
      ]
     },
     "execution_count": 15,
     "metadata": {},
     "output_type": "execute_result"
    }
   ],
   "source": [
    "np.max(temp.T[2])"
   ]
  },
  {
   "cell_type": "code",
   "execution_count": 66,
   "id": "5a60d70d-6318-437f-b47e-810c4287657f",
   "metadata": {
    "execution": {
     "iopub.execute_input": "2022-07-02T17:16:43.934555Z",
     "iopub.status.busy": "2022-07-02T17:16:43.934421Z",
     "iopub.status.idle": "2022-07-02T17:16:44.087357Z",
     "shell.execute_reply": "2022-07-02T17:16:44.086903Z",
     "shell.execute_reply.started": "2022-07-02T17:16:43.934540Z"
    },
    "tags": []
   },
   "outputs": [
    {
     "data": {
      "image/png": "[encoded data removed]",
      "text/plain": [
       "<Figure size 432x288 with 1 Axes>"
      ]
     },
     "metadata": {
      "needs_background": "light"
     },
     "output_type": "display_data"
    }
   ],
   "source": [
    "a = plt.hist(temp.T[2],range=[0.5,4],bins = 35,weights = temp.T[-1])\n",
    "b = plt.hist(temp.T[2],range=[0.5,4],bins = 35)"
   ]
  },
  {
   "cell_type": "code",
   "execution_count": 54,
   "id": "754e9343-95e6-43c5-9b91-56a07b2c1c9b",
   "metadata": {
    "execution": {
     "iopub.execute_input": "2022-07-02T17:11:19.999713Z",
     "iopub.status.busy": "2022-07-02T17:11:19.999585Z",
     "iopub.status.idle": "2022-07-02T17:11:20.156114Z",
     "shell.execute_reply": "2022-07-02T17:11:20.155396Z",
     "shell.execute_reply.started": "2022-07-02T17:11:19.999698Z"
    },
    "tags": []
   },
   "outputs": [
    {
     "data": {
      "image/png": "[encoded data removed]",
      "text/plain": [
       "<Figure size 432x288 with 1 Axes>"
      ]
     },
     "metadata": {
      "needs_background": "light"
     },
     "output_type": "display_data"
    }
   ],
   "source": [
    "a = plt.hist(temp.T[2],range=[0.5,4],bins = 35,weights = temp.T[-1],density = True)\n",
    "b = plt.hist(temp.T[2],range=[0.5,4],bins = 35,density = True)"
   ]
  },
  {
   "cell_type": "code",
   "execution_count": 62,
   "id": "db4e780c-fa6f-4e45-8262-916df14ce35a",
   "metadata": {
    "execution": {
     "iopub.execute_input": "2022-07-02T17:15:18.584961Z",
     "iopub.status.busy": "2022-07-02T17:15:18.584597Z",
     "iopub.status.idle": "2022-07-02T17:15:18.694562Z",
     "shell.execute_reply": "2022-07-02T17:15:18.694084Z",
     "shell.execute_reply.started": "2022-07-02T17:15:18.584940Z"
    },
    "tags": []
   },
   "outputs": [
    {
     "data": {
      "image/png": "[encoded data removed]",
      "text/plain": [
       "<Figure size 432x288 with 1 Axes>"
      ]
     },
     "metadata": {
      "needs_background": "light"
     },
     "output_type": "display_data"
    }
   ],
   "source": [
    "a = plt.hist(temp.T[2],range=[0.5,4],bins = 35,weights = temp.T[-1]/sum(temp.T[-1]))\n",
    "# b = plt.hist(temp.T[2],range=[0.5,4],bins = 35,density = True)"
   ]
  },
  {
   "cell_type": "code",
   "execution_count": 65,
   "id": "94d80d14-846f-4590-a562-8f480860e3ff",
   "metadata": {
    "execution": {
     "iopub.execute_input": "2022-07-02T17:15:46.996307Z",
     "iopub.status.busy": "2022-07-02T17:15:46.996179Z",
     "iopub.status.idle": "2022-07-02T17:15:47.000417Z",
     "shell.execute_reply": "2022-07-02T17:15:46.999941Z",
     "shell.execute_reply.started": "2022-07-02T17:15:46.996292Z"
    },
    "tags": []
   },
   "outputs": [
    {
     "data": {
      "text/plain": [
       "0.9983588589820056"
      ]
     },
     "execution_count": 65,
     "metadata": {},
     "output_type": "execute_result"
    }
   ],
   "source": [
    "np.sum(a[0])"
   ]
  },
  {
   "cell_type": "code",
   "execution_count": 57,
   "id": "85884c67-6b4a-43d3-ac92-40df1825d7c3",
   "metadata": {
    "execution": {
     "iopub.execute_input": "2022-07-02T17:11:36.585155Z",
     "iopub.status.busy": "2022-07-02T17:11:36.584952Z",
     "iopub.status.idle": "2022-07-02T17:11:36.588689Z",
     "shell.execute_reply": "2022-07-02T17:11:36.588255Z",
     "shell.execute_reply.started": "2022-07-02T17:11:36.585138Z"
    },
    "tags": []
   },
   "outputs": [
    {
     "data": {
      "text/plain": [
       "array([6.30137674e-04, 2.08414134e-03, 2.74481398e-03, 5.17596198e-03,\n",
       "       1.09978629e-02, 1.60278175e-02, 2.54519089e-02, 3.47219869e-02,\n",
       "       4.10463404e-02, 5.13719034e-02, 5.41827987e-02, 5.53184747e-02,\n",
       "       4.95706244e-02, 5.06042966e-02, 4.52520707e-02, 4.42857007e-02,\n",
       "       4.02303808e-02, 3.41662325e-02, 3.35876161e-02, 3.68615179e-02,\n",
       "       4.04449227e-02, 4.80090768e-02, 5.60042461e-02, 5.98891440e-02,\n",
       "       5.55005041e-02, 4.30621198e-02, 3.11943257e-02, 1.73943969e-02,\n",
       "       9.11723218e-03, 3.83242326e-03, 1.04987224e-03, 1.20083646e-04,\n",
       "       6.90645138e-05, 0.00000000e+00, 0.00000000e+00])"
      ]
     },
     "execution_count": 57,
     "metadata": {},
     "output_type": "execute_result"
    }
   ],
   "source": [
    "a[0]*0.1"
   ]
  },
  {
   "cell_type": "code",
   "execution_count": 49,
   "id": "e7711dcb-a880-4bdb-b908-4c1ae1f20c5e",
   "metadata": {
    "execution": {
     "iopub.execute_input": "2022-07-02T17:06:01.607065Z",
     "iopub.status.busy": "2022-07-02T17:06:01.606930Z",
     "iopub.status.idle": "2022-07-02T17:06:01.611905Z",
     "shell.execute_reply": "2022-07-02T17:06:01.611567Z",
     "shell.execute_reply.started": "2022-07-02T17:06:01.607048Z"
    },
    "tags": []
   },
   "outputs": [
    {
     "data": {
      "text/plain": [
       "1.0000000000000002"
      ]
     },
     "execution_count": 49,
     "metadata": {},
     "output_type": "execute_result"
    }
   ],
   "source": [
    "np.sum(a[0]*0.1)"
   ]
  },
  {
   "cell_type": "code",
   "execution_count": 67,
   "id": "eeee0f09-2d72-4f6d-a7a5-701d61a770eb",
   "metadata": {
    "execution": {
     "iopub.execute_input": "2022-07-02T17:16:51.584938Z",
     "iopub.status.busy": "2022-07-02T17:16:51.584695Z",
     "iopub.status.idle": "2022-07-02T17:16:51.588585Z",
     "shell.execute_reply": "2022-07-02T17:16:51.588148Z",
     "shell.execute_reply.started": "2022-07-02T17:16:51.584922Z"
    }
   },
   "outputs": [
    {
     "data": {
      "text/plain": [
       "array([  22.25884211,   73.61974206,   96.95719425,  182.83452198,\n",
       "        388.48604733,  566.16303601,  899.05752991, 1226.51168855,\n",
       "       1449.91173701, 1814.6496117 , 1913.94104881, 1954.05741294,\n",
       "       1751.02163463, 1787.5348424 , 1598.47401272, 1564.33817441,\n",
       "       1421.08896336, 1206.88034746, 1186.44142909, 1302.0880034 ,\n",
       "       1428.66739193, 1695.86187914, 1978.28144662, 2115.51071339,\n",
       "       1960.48737711, 1521.11667616, 1101.90137687,  614.43578141,\n",
       "        322.05506783,  135.37566107,   37.08545198,    4.24180783,\n",
       "          2.43961942,    0.        ,    0.        ])"
      ]
     },
     "execution_count": 67,
     "metadata": {},
     "output_type": "execute_result"
    }
   ],
   "source": [
    "a[0]"
   ]
  },
  {
   "cell_type": "code",
   "execution_count": null,
   "id": "e0a4c77d-eba5-4095-bffc-02933ff0f5cb",
   "metadata": {},
   "outputs": [],
   "source": []
  }
 ],
 "metadata": {
  "kernelspec": {
   "display_name": "numba38",
   "language": "python",
   "name": "numba38"
  },
  "language_info": {
   "codemirror_mode": {
    "name": "ipython",
    "version": 3
   },
   "file_extension": ".py",
   "mimetype": "text/x-python",
   "name": "python",
   "nbconvert_exporter": "python",
   "pygments_lexer": "ipython3",
   "version": "3.8.12"
  },
  "toc-autonumbering": true
 },
 "nbformat": 4,
 "nbformat_minor": 5
}
