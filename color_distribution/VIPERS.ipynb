{
 "cells": [
  {
   "cell_type": "markdown",
   "id": "5734b212-350d-48a9-8985-63bc5a8beff2",
   "metadata": {},
   "source": [
    "# LOAD package"
   ]
  },
  {
   "cell_type": "code",
   "execution_count": 1,
   "id": "85a7cc78-0b4b-458a-a005-007561601921",
   "metadata": {
    "execution": {
     "iopub.execute_input": "2022-06-07T05:06:42.155966Z",
     "iopub.status.busy": "2022-06-07T05:06:42.155410Z",
     "iopub.status.idle": "2022-06-07T05:07:05.282405Z",
     "shell.execute_reply": "2022-06-07T05:07:05.281943Z",
     "shell.execute_reply.started": "2022-06-07T05:06:42.155879Z"
    }
   },
   "outputs": [],
   "source": [
    "from astropy.io import fits\n",
    "import numpy as np\n",
    "from multiprocessing import Process\n",
    "from sklearn.neighbors import BallTree\n",
    "from astropy.cosmology import FlatLambdaCDM\n",
    "from scipy.interpolate import interp1d\n",
    "import matplotlib.pyplot as plt\n",
    "import matplotlib as mpl\n",
    "%matplotlib inline\n",
    "from astropy.table import Table,Column,hstack,vstack\n",
    "from astropy.io import ascii\n",
    "import os"
   ]
  },
  {
   "cell_type": "code",
   "execution_count": 2,
   "id": "5da24a1c-dac8-4cdf-a973-1405d10a4e50",
   "metadata": {
    "execution": {
     "iopub.execute_input": "2022-06-07T05:07:05.283528Z",
     "iopub.status.busy": "2022-06-07T05:07:05.283322Z",
     "iopub.status.idle": "2022-06-07T05:07:11.270270Z",
     "shell.execute_reply": "2022-06-07T05:07:11.269354Z",
     "shell.execute_reply.started": "2022-06-07T05:07:05.283510Z"
    }
   },
   "outputs": [],
   "source": [
    "from astropy.cosmology import FlatLambdaCDM,z_at_value\n",
    "cosmo = FlatLambdaCDM(H0 = 67.74,Om0 = 0.3089,Ob0 = 0.0486)\n",
    "\n",
    "import matplotlib.pyplot as plt\n",
    "import astropy.units as u\n",
    "import numpy as np\n",
    "import pandas as pd\n",
    "from astropy.io import fits\n",
    "from multiprocessing import Pool, Array, Manager"
   ]
  },
  {
   "cell_type": "code",
   "execution_count": 3,
   "id": "de8e7580-89ae-4cd1-8525-17133d4c1cb9",
   "metadata": {
    "execution": {
     "iopub.execute_input": "2022-06-07T05:07:11.271169Z",
     "iopub.status.busy": "2022-06-07T05:07:11.270968Z",
     "iopub.status.idle": "2022-06-07T05:07:12.884320Z",
     "shell.execute_reply": "2022-06-07T05:07:12.883939Z",
     "shell.execute_reply.started": "2022-06-07T05:07:11.271147Z"
    }
   },
   "outputs": [],
   "source": [
    "import seaborn as sns\n",
    "sns.set()"
   ]
  },
  {
   "cell_type": "markdown",
   "id": "a1289d85-b194-497f-982c-47e37c239e72",
   "metadata": {},
   "source": [
    "# LOAD SED result"
   ]
  },
  {
   "cell_type": "code",
   "execution_count": 4,
   "id": "928f72b1-e372-4278-b82f-e04647c5d89a",
   "metadata": {
    "execution": {
     "iopub.execute_input": "2022-06-07T05:07:39.184450Z",
     "iopub.status.busy": "2022-06-07T05:07:39.184260Z",
     "iopub.status.idle": "2022-06-07T05:07:40.456413Z",
     "shell.execute_reply": "2022-06-07T05:07:40.455889Z",
     "shell.execute_reply.started": "2022-06-07T05:07:39.184431Z"
    }
   },
   "outputs": [],
   "source": [
    "SED_Para = ['IDENT','SCALE_BEST','MOD_BEST','EXTLAW_BEST','EBV_BEST','CHI_BEST','NBAND_USED', \\\n",
    "            'AGE_BEST','AGE_INF','AGE_MED','AGE_SUP','MASS_BEST','MASS_INF','MASS_MED','MASS_SUP',\\\n",
    "            'SFR_BEST','SFR_INF','SFR_MED','SFR_SUP','SSFR_BEST','SSFR_INF','SSFR_MED','SSFR_SUP', \\\n",
    "            'FUV_OBS','NUV_OBS','u_OBS','g_OBS','r_OBS','i_OBS','iy_OBS','z_OBS','Ks_OBS','K_OBS','hsc_g_OBS','hsc_r_OBS','hsc_i_OBS','hsc_z_OBS','hsc_y_OBS',\\\n",
    "            'ERR_FUV_OBS','ERR_NUV_OBS','ERR_u_OBS','ERR_g_OBS','ERR_r_OBS','ERR_i_OBS','ERR_iy_OBS','ERR_z_OBS','ERR_Ks_OBS','ERR_K_OBS','ERR_hsc_g_OBS','ERR_hsc_r_OBS','ERR_hsc_i_OBS','ERR_hsc_z_OBS','ERR_hsc_y_OBS', \\\n",
    "            'FUV_MOD','NUV_MOD','u_MOD','g_MOD','r_MOD','i_MOD','iy_MOD','z_MOD','Ks_MOD','K_MOD','hsc_g_MOD','hsc_r_MOD','hsc_i_MOD','hsc_z_MOD','hsc_y_MOD', \\\n",
    "            'CONTEXT','ZSPEC','RA','DEC','ZFLAG','TSR','SSR','PHOTOMask','CLASSFLAG', 'DeltaUG', 'DeltaGR', 'DeltaRI', \\\n",
    "            'FUV_ABS','NUV_ABS','u_ABS','g_ABS','r_ABS','i_ABS','iy_ABS','z_ABS','Ks_ABS','K_ABS','hsc_g_ABS','hsc_r_ABS','hsc_i_ABS','hsc_z_ABS','hsc_y_ABS','Z_MAX']\n",
    "\n",
    "W1 = pd.read_table('/home/hygao/research/LePHARE/lephare_dev/zy_VIPERS/zy_VIPERS_w1_T0005.out',sep='\\s+',skiprows=59,header=None,names=SED_Para,index_col=False)"
   ]
  },
  {
   "cell_type": "code",
   "execution_count": 5,
   "id": "6d9acbfc-62e2-4b22-9939-11a48b882ba5",
   "metadata": {
    "execution": {
     "iopub.execute_input": "2022-06-07T05:07:46.147174Z",
     "iopub.status.busy": "2022-06-07T05:07:46.146971Z",
     "iopub.status.idle": "2022-06-07T05:07:46.941124Z",
     "shell.execute_reply": "2022-06-07T05:07:46.940600Z",
     "shell.execute_reply.started": "2022-06-07T05:07:46.147154Z"
    }
   },
   "outputs": [],
   "source": [
    "\n",
    "SED_Para = ['IDENT','SCALE_BEST','MOD_BEST','EXTLAW_BEST','EBV_BEST','CHI_BEST','NBAND_USED', \\\n",
    "            'AGE_BEST','AGE_INF','AGE_MED','AGE_SUP','MASS_BEST','MASS_INF','MASS_MED','MASS_SUP',\\\n",
    "            'SFR_BEST','SFR_INF','SFR_MED','SFR_SUP','SSFR_BEST','SSFR_INF','SSFR_MED','SSFR_SUP', \\\n",
    "            'FUV_OBS','NUV_OBS','u_OBS','g_OBS','r_OBS','i_OBS','iy_OBS','z_OBS','Ks_OBS','K_OBS','hsc_g_OBS','hsc_r_OBS','hsc_i_OBS','hsc_z_OBS','hsc_y_OBS',\\\n",
    "            'ERR_FUV_OBS','ERR_NUV_OBS','ERR_u_OBS','ERR_g_OBS','ERR_r_OBS','ERR_i_OBS','ERR_iy_OBS','ERR_z_OBS','ERR_Ks_OBS','ERR_K_OBS','ERR_hsc_g_OBS','ERR_hsc_r_OBS','ERR_hsc_i_OBS','ERR_hsc_z_OBS','ERR_hsc_y_OBS', \\\n",
    "            'FUV_MOD','NUV_MOD','u_MOD','g_MOD','r_MOD','i_MOD','iy_MOD','z_MOD','Ks_MOD','K_MOD','hsc_g_MOD','hsc_r_MOD','hsc_i_MOD','hsc_z_MOD','hsc_y_MOD', \\\n",
    "            'CONTEXT','ZSPEC','RA','DEC','ZFLAG','TSR','SSR','PHOTOMask','CLASSFLAG', 'DeltaUG', 'DeltaGR', 'DeltaRI', \\\n",
    "            'FUV_ABS','NUV_ABS','u_ABS','g_ABS','r_ABS','i_ABS','iy_ABS','z_ABS','Ks_ABS','K_ABS','hsc_g_ABS','hsc_r_ABS','hsc_i_ABS','hsc_z_ABS','hsc_y_ABS','Z_MAX']\n",
    "\n",
    "W4 = pd.read_table('/home/hygao/research/LePHARE/lephare_dev/zy_VIPERS/zy_VIPERS_w4_T0005.out',sep='\\s+',skiprows=59,header=None,names=SED_Para,index_col=False)"
   ]
  },
  {
   "cell_type": "code",
   "execution_count": 6,
   "id": "f2ff9227-30fd-47aa-a01e-0805a542f9ca",
   "metadata": {
    "execution": {
     "iopub.execute_input": "2022-06-07T05:07:54.148745Z",
     "iopub.status.busy": "2022-06-07T05:07:54.148426Z",
     "iopub.status.idle": "2022-06-07T05:07:54.154649Z",
     "shell.execute_reply": "2022-06-07T05:07:54.154088Z",
     "shell.execute_reply.started": "2022-06-07T05:07:54.148719Z"
    }
   },
   "outputs": [],
   "source": [
    "redshift1 = np.array(W1['ZSPEC'])\n",
    "zmax1 = np.array(W1['Z_MAX'])\n",
    "redshift4 = np.array(W4['ZSPEC'])\n",
    "zmax4 = np.array(W4['Z_MAX'])\n",
    "zmax = np.hstack([zmax1,zmax4])\n",
    "redshift = np.hstack([redshift1,redshift4])"
   ]
  },
  {
   "cell_type": "code",
   "execution_count": 7,
   "id": "f128330f-9f38-493f-8386-c419fec3a7e0",
   "metadata": {
    "execution": {
     "iopub.execute_input": "2022-06-07T05:08:13.820933Z",
     "iopub.status.busy": "2022-06-07T05:08:13.820723Z",
     "iopub.status.idle": "2022-06-07T05:08:14.743960Z",
     "shell.execute_reply": "2022-06-07T05:08:14.743492Z",
     "shell.execute_reply.started": "2022-06-07T05:08:13.820915Z"
    }
   },
   "outputs": [],
   "source": [
    "w1 = Table.read(\"/home/yunzheng/PAC/code/VIPERS/SED_new/W1/out/results.fits\")\n",
    "w4 = Table.read(\"/home/yunzheng/PAC/code/VIPERS/SED_new/W4/out/results.fits\")"
   ]
  },
  {
   "cell_type": "code",
   "execution_count": 8,
   "id": "a7312ca4-4e91-4936-98e6-59522d22df80",
   "metadata": {
    "execution": {
     "iopub.execute_input": "2022-06-07T05:08:49.147191Z",
     "iopub.status.busy": "2022-06-07T05:08:49.146830Z",
     "iopub.status.idle": "2022-06-07T05:08:49.254633Z",
     "shell.execute_reply": "2022-06-07T05:08:49.254047Z",
     "shell.execute_reply.started": "2022-06-07T05:08:49.147167Z"
    }
   },
   "outputs": [],
   "source": [
    "cigale = vstack((w1,w4))"
   ]
  },
  {
   "cell_type": "code",
   "execution_count": 9,
   "id": "a3ac1ed0-46e6-41a6-b955-9e556e82bb19",
   "metadata": {
    "collapsed": true,
    "execution": {
     "iopub.execute_input": "2022-06-07T05:08:51.336221Z",
     "iopub.status.busy": "2022-06-07T05:08:51.335970Z",
     "iopub.status.idle": "2022-06-07T05:08:51.356972Z",
     "shell.execute_reply": "2022-06-07T05:08:51.356610Z",
     "shell.execute_reply.started": "2022-06-07T05:08:51.336201Z"
    },
    "jupyter": {
     "outputs_hidden": true
    },
    "tags": []
   },
   "outputs": [
    {
     "data": {
      "text/html": [
       "<div><i>Table length=87858</i>\n",
       "<table id=\"table47475648834912\" class=\"table-striped table-bordered table-condensed\">\n",
       "<thead><tr><th>id</th><th>bayes.param.restframe_Lnu(DECam.g)</th><th>bayes.param.restframe_Lnu(DECam.g)_err</th><th>bayes.param.restframe_Lnu(DECam.r)</th><th>bayes.param.restframe_Lnu(DECam.r)_err</th><th>bayes.param.restframe_Lnu(sdss.gp)</th><th>bayes.param.restframe_Lnu(sdss.gp)_err</th><th>bayes.param.restframe_Lnu(sdss.rp)</th><th>bayes.param.restframe_Lnu(sdss.rp)_err</th><th>bayes.param.restframe_Lnu(sdss.up)</th><th>bayes.param.restframe_Lnu(sdss.up)_err</th><th>bayes.param.restframe_Lnu(subaru.hsc.g)</th><th>bayes.param.restframe_Lnu(subaru.hsc.g)_err</th><th>bayes.param.restframe_Lnu(subaru.hsc.r)</th><th>bayes.param.restframe_Lnu(subaru.hsc.r)_err</th><th>bayes.stellar.m_star</th><th>bayes.stellar.m_star_err</th><th>bayes.subaru.hsc.g</th><th>bayes.subaru.hsc.g_err</th><th>bayes.subaru.hsc.r</th><th>bayes.subaru.hsc.r_err</th><th>best.chi_square</th><th>best.reduced_chi_square</th><th>best.attenuation.E_BVs.nebular.continuum_old</th><th>best.attenuation.E_BVs.nebular.continuum_young</th><th>best.attenuation.E_BVs.nebular.lines_old</th><th>best.attenuation.E_BVs.nebular.lines_young</th><th>best.attenuation.E_BVs.stellar.old</th><th>best.attenuation.E_BVs.stellar.young</th><th>best.attenuation.ebvs_old_factor</th><th>best.attenuation.powerlaw_slope</th><th>best.attenuation.subaru.hsc.g</th><th>best.attenuation.uv_bump_amplitude</th><th>best.attenuation.uv_bump_wavelength</th><th>best.attenuation.uv_bump_width</th><th>best.nebular.f_dust</th><th>best.nebular.f_esc</th><th>best.nebular.lines_width</th><th>best.nebular.logU</th><th>best.param.restframe_DECam.g-DECam.r</th><th>best.param.restframe_sdss.gp-sdss.rp</th><th>best.param.restframe_sdss.up-sdss.rp</th><th>best.param.restframe_subaru.hsc.g-subaru.hsc.r</th><th>best.sfh.age</th><th>best.sfh.age_burst</th><th>best.sfh.age_main</th><th>best.sfh.f_burst</th><th>best.sfh.tau_burst</th><th>best.sfh.tau_main</th><th>best.stellar.age_m_star</th><th>best.stellar.imf</th><th>best.stellar.metallicity</th><th>best.stellar.old_young_separation_age</th><th>best.universe.age</th><th>best.universe.luminosity_distance</th><th>best.universe.redshift</th><th>best.attenuation.nebular.continuum_old</th><th>best.attenuation.nebular.continuum_young</th><th>best.attenuation.nebular.lines_old</th><th>best.attenuation.nebular.lines_young</th><th>best.attenuation.stellar.old</th><th>best.attenuation.stellar.young</th><th>best.dust.luminosity</th><th>best.param.restframe_Lnu(DECam.g)</th><th>best.param.restframe_Lnu(DECam.r)</th><th>best.param.restframe_Lnu(sdss.gp)</th><th>best.param.restframe_Lnu(sdss.rp)</th><th>best.param.restframe_Lnu(sdss.up)</th><th>best.param.restframe_Lnu(subaru.hsc.g)</th><th>best.param.restframe_Lnu(subaru.hsc.r)</th><th>best.sfh.integrated</th><th>best.sfh.sfr</th><th>best.sfh.sfr100Myrs</th><th>best.sfh.sfr10Myrs</th><th>best.stellar.lum</th><th>best.stellar.lum_ly</th><th>best.stellar.lum_ly_old</th><th>best.stellar.lum_ly_young</th><th>best.stellar.lum_old</th><th>best.stellar.lum_young</th><th>best.stellar.m_gas</th><th>best.stellar.m_gas_old</th><th>best.stellar.m_gas_young</th><th>best.stellar.m_star</th><th>best.stellar.m_star_old</th><th>best.stellar.m_star_young</th><th>best.stellar.n_ly</th><th>best.stellar.n_ly_old</th><th>best.stellar.n_ly_young</th><th>best.VIPERS_FUV</th><th>best.VIPERS_NUV</th><th>best.VIPERS_u</th><th>best.VIPERS_g</th><th>best.VIPERS_r</th><th>best.VIPERS_i</th><th>best.VIPERS_z</th><th>best.VIPERS_K</th><th>best.VIPERS_Ks</th></tr></thead>\n",
       "<thead><tr><th></th><th>W</th><th>W</th><th>W</th><th>W</th><th>W</th><th>W</th><th>W</th><th>W</th><th>W</th><th>W</th><th>W</th><th>W</th><th>W</th><th>W</th><th>solMass</th><th>solMass</th><th>mJy</th><th>mJy</th><th>mJy</th><th>mJy</th><th></th><th></th><th>mag</th><th>mag</th><th>mag</th><th>mag</th><th>mag</th><th>mag</th><th></th><th></th><th>mag</th><th></th><th>nm</th><th>nm</th><th></th><th></th><th>km / s</th><th></th><th>mag</th><th>mag</th><th>mag</th><th>mag</th><th>Myr</th><th>Myr</th><th>Myr</th><th></th><th>Myr</th><th>Myr</th><th>Myr</th><th></th><th></th><th>Myr</th><th>Myr</th><th>m</th><th></th><th>mag</th><th>mag</th><th>mag</th><th>mag</th><th>mag</th><th>mag</th><th>W</th><th>W</th><th>W</th><th>W</th><th>W</th><th>W</th><th>W</th><th>W</th><th>solMass</th><th>solMass / yr</th><th>solMass / yr</th><th>solMass / yr</th><th>W</th><th>W</th><th>W</th><th>W</th><th>W</th><th>W</th><th>solMass</th><th>solMass</th><th>solMass</th><th>solMass</th><th>solMass</th><th>solMass</th><th>ph / s</th><th>ph / s</th><th>ph / s</th><th>mJy</th><th>mJy</th><th>mJy</th><th>mJy</th><th>mJy</th><th>mJy</th><th>mJy</th><th>mJy</th><th>mJy</th></tr></thead>\n",
       "<thead><tr><th>int64</th><th>float64</th><th>float64</th><th>float64</th><th>float64</th><th>float64</th><th>float64</th><th>float64</th><th>float64</th><th>float64</th><th>float64</th><th>float64</th><th>float64</th><th>float64</th><th>float64</th><th>float64</th><th>float64</th><th>float64</th><th>float64</th><th>float64</th><th>float64</th><th>float64</th><th>float64</th><th>float64</th><th>float64</th><th>float64</th><th>float64</th><th>float64</th><th>float64</th><th>float64</th><th>float64</th><th>float64</th><th>float64</th><th>float64</th><th>float64</th><th>float64</th><th>float64</th><th>float64</th><th>float64</th><th>float64</th><th>float64</th><th>float64</th><th>float64</th><th>float64</th><th>float64</th><th>float64</th><th>float64</th><th>float64</th><th>float64</th><th>float64</th><th>float64</th><th>float64</th><th>float64</th><th>float64</th><th>float64</th><th>float64</th><th>float64</th><th>float64</th><th>float64</th><th>float64</th><th>float64</th><th>float64</th><th>float64</th><th>float64</th><th>float64</th><th>float64</th><th>float64</th><th>float64</th><th>float64</th><th>float64</th><th>float64</th><th>float64</th><th>float64</th><th>float64</th><th>float64</th><th>float64</th><th>float64</th><th>float64</th><th>float64</th><th>float64</th><th>float64</th><th>float64</th><th>float64</th><th>float64</th><th>float64</th><th>float64</th><th>float64</th><th>float64</th><th>float64</th><th>float64</th><th>float64</th><th>float64</th><th>float64</th><th>float64</th><th>float64</th><th>float64</th><th>float64</th><th>float64</th></tr></thead>\n",
       "<tr><td>0</td><td>4.947581183874722e+21</td><td>2.4737905919373613e+20</td><td>7.68154488556883e+21</td><td>3.840772442784415e+20</td><td>4.767944880649094e+21</td><td>2.3839724403245472e+20</td><td>7.392072089621842e+21</td><td>3.696036044810921e+20</td><td>1.8462734050453585e+21</td><td>9.231367025226793e+19</td><td>4.91390876958091e+21</td><td>2.456954384790455e+20</td><td>7.353690994479903e+21</td><td>3.676845497239952e+20</td><td>7576728955.893922</td><td>2043540262.990595</td><td>0.0281228943664119</td><td>0.001164292522584077</td><td>0.052358797603875205</td><td>0.0019957946666945086</td><td>0.3855193807752507</td><td>0.06425323012920846</td><td>0.132</td><td>0.2</td><td>0.132</td><td>0.2</td><td>0.132</td><td>0.2</td><td>0.66</td><td>0.0</td><td>0.6499381805982839</td><td>0.0</td><td>217.5</td><td>35.0</td><td>0.0</td><td>0.0</td><td>300.0</td><td>-3.0</td><td>0.49885258977109553</td><td>0.4948617969844902</td><td>1.5103393700379648</td><td>0.45679553321741595</td><td>6000.0</td><td>5.0</td><td>6000.0</td><td>0.0</td><td>5.0</td><td>2000.0</td><td>3025.969612199812</td><td>1.0</td><td>0.008</td><td>10.0</td><td>11224.86854475224</td><td>3.182703342949874e+25</td><td>0.2096</td><td>2.467364775994468e+33</td><td>2.0663421148921533e+35</td><td>5.974186783628892e+33</td><td>4.855733597868087e+35</td><td>3.999633064147898e+36</td><td>2.9003708748835914e+36</td><td>7.600653061867137e+36</td><td>4.896241571293564e+21</td><td>7.751823447650048e+21</td><td>4.7047481097863283e+21</td><td>7.421318921649935e+21</td><td>1.8464831429945626e+21</td><td>4.858301810002636e+21</td><td>7.399505614842841e+21</td><td>18922583073.886673</td><td>1.7652293457680774</td><td>1.7945945953945304</td><td>1.767879064603678</td><td>1.5624542328982197e+37</td><td>1.1331011224405903e+36</td><td>1.7860840294051968e+34</td><td>1.1152402821465384e+36</td><td>1.0961579434878566e+37</td><td>4.662962894103629e+36</td><td>8397649314.55697</td><td>8396734878.759505</td><td>914435.7974645987</td><td>10524933759.4067</td><td>10508169404.481153</td><td>16764354.925546682</td><td>3.25936185701933e+53</td><td>4.773399030880375e+51</td><td>3.211627866710526e+53</td><td>0.0053142183143707715</td><td>0.006735678440108708</td><td>0.011954781234323685</td><td>0.02828589388175488</td><td>0.05289573577221863</td><td>0.07280949527822662</td><td>0.08326704204409592</td><td>0.1539510048138034</td><td>0.1538793295163159</td></tr>\n",
       "<tr><td>1</td><td>7.782844451860288e+22</td><td>3.891422225930144e+21</td><td>1.3410806874426824e+23</td><td>9.386146529901346e+21</td><td>7.344968666962699e+22</td><td>3.67248433348135e+21</td><td>1.2668369213977244e+23</td><td>8.553845196678164e+21</td><td>1.7558814084383384e+22</td><td>9.029739644582645e+20</td><td>7.702650407977246e+22</td><td>3.851325203988623e+21</td><td>1.2758847494480089e+23</td><td>8.569159323288212e+21</td><td>167776022427.18686</td><td>49350553670.08665</td><td>0.000931864662892204</td><td>7.419236752651822e-05</td><td>0.003048988745462025</td><td>0.00018148498509164076</td><td>2.81125662822383</td><td>0.562251325644766</td><td>0.264</td><td>0.4</td><td>0.264</td><td>0.4</td><td>0.264</td><td>0.4</td><td>0.66</td><td>0.0</td><td>1.2297385550950934</td><td>0.0</td><td>217.5</td><td>35.0</td><td>0.0</td><td>0.0</td><td>300.0</td><td>-3.0</td><td>0.5106366657543514</td><td>0.5037455702648757</td><td>2.1183873678329435</td><td>0.4695254264684834</td><td>400.0</td><td>5.0</td><td>400.0</td><td>0.0</td><td>5.0</td><td>15.8</td><td>368.2901977756901</td><td>1.0</td><td>0.05</td><td>10.0</td><td>5842.398610742704</td><td>2.141520540975535e+26</td><td>1.0308</td><td>2.245302098668555e+34</td><td>2.759998962602512e+29</td><td>5.007053630831775e+34</td><td>6.011796785696863e+29</td><td>1.150372185013289e+38</td><td>8.294964506171802e+30</td><td>1.1510975123076799e+38</td><td>7.779097623696855e+22</td><td>1.245041672941661e+23</td><td>7.418342346459177e+22</td><td>1.1797910565593546e+23</td><td>1.6766798786729668e+22</td><td>7.716463332478353e+22</td><td>1.1891276221220133e+23</td><td>201098408493.93723</td><td>3.4665886163456375e-06</td><td>0.0002345198025613574</td><td>4.626458557000844e-06</td><td>2.472556046381032e+38</td><td>1.8040865294494234e+35</td><td>1.8040741584684436e+35</td><td>1.237098097970235e+30</td><td>2.472555943487042e+38</td><td>1.0289398992502654e+31</td><td>70266258778.34813</td><td>70266258774.38063</td><td>3.9675002121869736</td><td>130832149715.58902</td><td>130832149673.29193</td><td>42.29709240162898</td><td>3.538403891339425e+52</td><td>3.538365079171606e+52</td><td>3.8812167818867215e+47</td><td>4.579839110509809e-15</td><td>5.1530686987761714e-06</td><td>0.0005372831408540808</td><td>0.0009640802977115013</td><td>0.00294602122634695</td><td>0.010039660368396904</td><td>0.02225421281670515</td><td>0.09126263907671267</td><td>0.09158336709100055</td></tr>\n",
       "<tr><td>2</td><td>2.0568594458397242e+22</td><td>1.0284297229198621e+21</td><td>3.3371031346216734e+22</td><td>2.0667874686921513e+21</td><td>1.983538553511798e+22</td><td>9.91769276755899e+20</td><td>3.2241446495573955e+22</td><td>1.843642267134283e+21</td><td>7.990982285400699e+21</td><td>3.9954911427003495e+20</td><td>2.042650959329015e+22</td><td>1.0213254796645076e+21</td><td>3.1843988352636675e+22</td><td>1.8205726359742967e+21</td><td>32215162570.121933</td><td>10046537004.062504</td><td>0.00880766554849531</td><td>0.00040371133223621555</td><td>0.021468714502349516</td><td>0.0007891265023985591</td><td>0.8740762078296318</td><td>0.17481524156592637</td><td>0.132</td><td>0.4</td><td>0.132</td><td>0.4</td><td>0.132</td><td>0.4</td><td>0.33</td><td>0.0</td><td>0.7786716294959002</td><td>0.0</td><td>217.5</td><td>35.0</td><td>0.0</td><td>0.0</td><td>300.0</td><td>-3.0</td><td>0.48600420266772587</td><td>0.4900507497734408</td><td>1.503341291030866</td><td>0.4481278985635271</td><td>4500.0</td><td>5.0</td><td>4500.0</td><td>0.0</td><td>5.0</td><td>3980.0</td><td>1721.819785384657</td><td>1.0</td><td>0.05</td><td>10.0</td><td>8613.22765945271</td><td>9.022230443439756e+25</td><td>0.5115</td><td>5.78262453646509e+33</td><td>1.2908341828819377e+36</td><td>1.364130328553033e+34</td><td>2.8116796044734166e+36</td><td>1.8639842358207825e+37</td><td>3.4928847122882055e+37</td><td>5.769062719626723e+37</td><td>2.0485991489326985e+22</td><td>3.2052260889533803e+22</td><td>1.9737184169990696e+22</td><td>3.0995988671805996e+22</td><td>7.761916690265485e+21</td><td>2.0348921198634934e+22</td><td>3.0746277983091033e+22</td><td>59653221102.44631</td><td>17.527437950956656</td><td>17.551168883294604</td><td>17.529711926817725</td><td>9.69091453400527e+37</td><td>5.781738138612364e+36</td><td>5.282424025527287e+34</td><td>5.728913898357091e+36</td><td>5.337727401881624e+37</td><td>4.353187132123649e+37</td><td>24397429527.16775</td><td>24383907276.333813</td><td>13522250.833936872</td><td>35255791602.45052</td><td>35094016706.84442</td><td>161774895.6061038</td><td>1.8278629580367245e+54</td><td>1.264224197157174e+52</td><td>1.8152207160651526e+54</td><td>0.0006712012887207747</td><td>0.003215704308054156</td><td>0.005795196647296207</td><td>0.00897192982098405</td><td>0.022114525861540574</td><td>0.03290235665727147</td><td>0.040536342399023054</td><td>0.12106743712828646</td><td>0.12076706792519606</td></tr>\n",
       "<tr><td>3</td><td>5.748309245684357e+21</td><td>2.8741546228421788e+20</td><td>1.1268649270641645e+22</td><td>5.6343246353208227e+20</td><td>5.321117257775815e+21</td><td>2.6605586288879075e+20</td><td>1.057619689329658e+22</td><td>5.2880984466482895e+20</td><td>1.2136483340411147e+21</td><td>6.43442814967863e+19</td><td>5.664493503759533e+21</td><td>2.832246751879767e+20</td><td>1.0645896828866548e+22</td><td>5.322948414433274e+20</td><td>24752141320.561623</td><td>8418085858.786184</td><td>0.0013812623235737185</td><td>8.14828568946285e-05</td><td>0.0059844897156176675</td><td>0.00019341423706634687</td><td>0.5542450529101143</td><td>0.11084901058202286</td><td>0.066</td><td>0.2</td><td>0.066</td><td>0.2</td><td>0.066</td><td>0.2</td><td>0.33</td><td>0.0</td><td>0.30754787333112454</td><td>0.0</td><td>217.5</td><td>35.0</td><td>0.0</td><td>0.0</td><td>300.0</td><td>-3.0</td><td>0.7388857294591686</td><td>0.7584658138493656</td><td>2.356387534483787</td><td>0.6946458620650803</td><td>4500.0</td><td>5.0</td><td>4500.0</td><td>0.0</td><td>5.0</td><td>501.0</td><td>3489.4587454732487</td><td>1.0</td><td>0.02</td><td>10.0</td><td>8881.820030895298</td><td>8.24256710797313e+25</td><td>0.4746</td><td>1.6695940047835542e+33</td><td>9.573403495595879e+33</td><td>4.071058061994661e+33</td><td>2.189024576773752e+34</td><td>1.5226857114877637e+36</td><td>1.7471007809799396e+35</td><td>1.7346000909158695e+36</td><td>5.672464492369897e+21</td><td>1.120278697584336e+22</td><td>5.243858645981025e+21</td><td>1.0544774622354902e+22</td><td>1.2036003019851065e+21</td><td>5.588461694346748e+21</td><td>1.0596211623300438e+22</td><td>47663714432.09247</td><td>0.10769419979187522</td><td>0.11772135052230759</td><td>0.10855856651716696</td><td>1.255229785950556e+37</td><td>7.758921057197873e+34</td><td>2.5629026718876006e+34</td><td>5.196018385310272e+34</td><td>1.22841606316838e+37</td><td>2.6813722782176122e+35</td><td>21481373731.3124</td><td>21481309127.736588</td><td>64603.57581332302</td><td>26182340700.455166</td><td>26181319718.690712</td><td>1020981.764456054</td><td>2.1246810507259287e+52</td><td>5.5098746101435315e+51</td><td>1.5736935897115755e+52</td><td>4.0205686854883915e-05</td><td>9.726840197977133e-05</td><td>0.00027751659611925173</td><td>0.001468240887954694</td><td>0.005897554044862979</td><td>0.012306507255774101</td><td>0.017177759866609226</td><td>0.050031971413229</td><td>0.050072221876192605</td></tr>\n",
       "<tr><td>4</td><td>3.1870076239186777e+22</td><td>1.5935038119593388e+21</td><td>5.990347063002032e+22</td><td>2.9951735315010164e+21</td><td>2.970045112697312e+22</td><td>1.485022556348656e+21</td><td>5.63716250300747e+22</td><td>2.8185812515037354e+21</td><td>7.095888015240017e+21</td><td>3.7386271814647887e+20</td><td>3.1452283737963263e+22</td><td>1.5726141868981632e+21</td><td>5.673084978374334e+22</td><td>2.836542489187167e+21</td><td>103581478153.3309</td><td>38528279251.84763</td><td>0.0008211308744103462</td><td>7.621453575417907e-05</td><td>0.0034670023163681325</td><td>0.00018750696327398037</td><td>2.4007497853032347</td><td>0.48014995706064695</td><td>0.033</td><td>0.05</td><td>0.033</td><td>0.05</td><td>0.033</td><td>0.05</td><td>0.66</td><td>0.0</td><td>0.1525254577856879</td><td>0.0</td><td>217.5</td><td>35.0</td><td>0.0</td><td>0.0</td><td>300.0</td><td>-3.0</td><td>0.6991718621589454</td><td>0.719991363175147</td><td>2.2556378428912653</td><td>0.6581204120919669</td><td>4500.0</td><td>5.0</td><td>4500.0</td><td>0.0</td><td>5.0</td><td>501.0</td><td>3489.4587454732487</td><td>1.0</td><td>0.02</td><td>10.0</td><td>6807.8552401572</td><td>1.594689505863255e+26</td><td>0.8135</td><td>4.5620234521011766e+33</td><td>1.8577363884402256e+34</td><td>1.1398925316069583e+34</td><td>4.581567251010446e+34</td><td>3.90763245718273e+36</td><td>3.815091135510506e+35</td><td>4.3694955558964583e+36</td><td>3.1790897488021686e+22</td><td>6.053011980663403e+22</td><td>2.9505262973004246e+22</td><td>5.7265892677876755e+22</td><td>7.172010188792549e+21</td><td>3.1353698509821976e+22</td><td>5.748267137700686e+22</td><td>231833086479.16022</td><td>0.5238173111586782</td><td>0.5725886948018866</td><td>0.5280215325073893</td><td>6.105352866111441e+37</td><td>3.773886777122847e+35</td><td>1.2465785427107442e+35</td><td>2.527308234412103e+35</td><td>5.97493273023544e+37</td><td>1.3042013587600218e+36</td><td>104483950386.15288</td><td>104483636158.72523</td><td>314227.4276531996</td><td>127349136091.42703</td><td>127344170105.10992</td><td>4965986.317117895</td><td>1.033430507132117e+53</td><td>2.6799657815226155e+52</td><td>7.654339289798555e+52</td><td>1.6344637087099514e-05</td><td>0.00031157291207069553</td><td>0.0004239931869653373</td><td>0.0008993271778790235</td><td>0.003572259102805976</td><td>0.011070372309421529</td><td>0.019438336963558133</td><td>0.07336064113564593</td><td>0.07348890936179694</td></tr>\n",
       "<tr><td>5</td><td>5.00635197168345e+21</td><td>2.503175985841725e+20</td><td>6.478973330240143e+21</td><td>3.605829490106959e+20</td><td>4.947181785358828e+21</td><td>2.4735908926794144e+20</td><td>6.398888109126776e+21</td><td>3.470313274761832e+20</td><td>2.544838333738842e+21</td><td>1.2724191668694211e+20</td><td>4.996378913572784e+21</td><td>2.4981894567863924e+20</td><td>6.286109783577057e+21</td><td>3.164221870338573e+20</td><td>2316666129.909073</td><td>694097135.5418433</td><td>0.0025157908760669798</td><td>0.00010918941055982072</td><td>0.005005817101922148</td><td>0.00017148108974947057</td><td>0.09646949890828119</td><td>0.016078249818046866</td><td>0.165</td><td>0.25</td><td>0.165</td><td>0.25</td><td>0.165</td><td>0.25</td><td>0.66</td><td>0.0</td><td>0.8709705799559309</td><td>0.0</td><td>217.5</td><td>35.0</td><td>0.0</td><td>0.0</td><td>300.0</td><td>-3.0</td><td>0.2934609217430443</td><td>0.29017393418080123</td><td>0.9806059616553886</td><td>0.25843665045783293</td><td>1400.0</td><td>5.0</td><td>1400.0</td><td>0.0</td><td>5.0</td><td>7940.0</td><td>455.19854323681443</td><td>1.0</td><td>0.008</td><td>10.0</td><td>8398.809142722768</td><td>9.683116303053742e+25</td><td>0.5422</td><td>3.754640292206546e+33</td><td>6.306481392104572e+35</td><td>8.947276442270115e+33</td><td>1.45912259290106e+36</td><td>7.389298639149794e+36</td><td>8.596352376466402e+36</td><td>1.808812366446219e+37</td><td>5.072962597045495e+21</td><td>6.647311472853958e+21</td><td>5.021880073194459e+21</td><td>6.56048445613942e+21</td><td>2.658848096270285e+21</td><td>5.061148083238109e+21</td><td>6.421311003545878e+21</td><td>3655595230.4665046</td><td>4.920322296473291</td><td>4.775571208468293</td><td>4.907272748581541</td><td>2.5859464097635906e+37</td><td>3.12098853789053e+36</td><td>1.736758241678056e+34</td><td>3.103620955473749e+36</td><td>1.290050004014984e+37</td><td>1.295896405748607e+37</td><td>1231499147.069349</td><td>1228966361.3654332</td><td>2532785.7039158614</td><td>2424096083.6193657</td><td>2377556141.6152515</td><td>46539942.004114084</td><td>9.001620493066734e+53</td><td>6.41088941367082e+51</td><td>8.937511598930026e+53</td><td>0.00042079051195373883</td><td>0.0014009020475008074</td><td>0.001997565259751146</td><td>0.002540295842364138</td><td>0.005210419235921598</td><td>0.007033508680334765</td><td>0.0071181488027117655</td><td>0.011027193855588638</td><td>0.011036450813797559</td></tr>\n",
       "<tr><td>6</td><td>2.156097029540248e+22</td><td>1.0780485147701241e+21</td><td>4.337102937868524e+22</td><td>2.1685514689342622e+21</td><td>1.997724215351776e+22</td><td>9.98862107675888e+20</td><td>4.046770081553379e+22</td><td>2.0233850407766896e+21</td><td>4.5826168824138737e+21</td><td>2.3669657096893583e+20</td><td>2.1239369099783107e+22</td><td>1.0619684549891554e+21</td><td>4.075765222317431e+22</td><td>2.0378826111587155e+21</td><td>94950797008.86015</td><td>32311455137.738693</td><td>0.0006170846643401262</td><td>7.90465909762347e-05</td><td>0.002358721695923871</td><td>0.00011875668601392748</td><td>1.7539905257633475</td><td>0.3507981051526695</td><td>0.23099999999999998</td><td>0.35</td><td>0.23099999999999998</td><td>0.35</td><td>0.23099999999999998</td><td>0.35</td><td>0.66</td><td>0.0</td><td>1.075275192731417</td><td>0.0</td><td>217.5</td><td>35.0</td><td>0.0</td><td>0.0</td><td>300.0</td><td>-3.0</td><td>0.8128532390821447</td><td>0.8137838568945338</td><td>2.3988392779321726</td><td>0.7549550905861659</td><td>4500.0</td><td>5.0</td><td>4500.0</td><td>0.0</td><td>5.0</td><td>631.0</td><td>3239.2011910149636</td><td>1.0</td><td>0.008</td><td>10.0</td><td>6858.08532031313</td><td>1.570396454039064e+26</td><td>0.8035</td><td>2.328978999950319e+34</td><td>3.145223486856883e+35</td><td>5.41744123068494e+34</td><td>7.136686660435699e+35</td><td>3.0749963415901363e+37</td><td>4.1344641002812065e+36</td><td>3.599008273321817e+37</td><td>2.1554708306188378e+22</td><td>4.5570463482833675e+22</td><td>1.988300232107248e+22</td><td>4.20722274774924e+22</td><td>4.618062377871097e+21</td><td>2.1196863102397404e+22</td><td>4.248676173617789e+22</td><td>241716629615.20953</td><td>2.2014025406069866</td><td>2.3566181879737598</td><td>2.2149568914945714</td><td>8.455111254274345e+37</td><td>1.548244757749999e+36</td><td>1.5496044981821635e+35</td><td>1.393284307931783e+36</td><td>7.87167407135972e+37</td><td>5.834371829146251e+36</td><td>110075935865.88461</td><td>110074787413.8732</td><td>1148452.011417327</td><td>131640693749.41687</td><td>131619692632.42122</td><td>21001116.995647036</td><td>4.352743800516075e+53</td><td>3.4032382171301964e+52</td><td>4.012419978803055e+53</td><td>2.7530326275963608e-06</td><td>0.00011404457453839159</td><td>0.0003124081849738782</td><td>0.0006571708671081794</td><td>0.0023589431457634743</td><td>0.007778508888989773</td><td>0.013539932136986442</td><td>0.06585673192445557</td><td>0.06598984946528653</td></tr>\n",
       "<tr><td>7</td><td>1.5300469216026202e+22</td><td>7.650234608013101e+20</td><td>2.612138516063837e+22</td><td>1.4042110363221542e+21</td><td>1.4615650658881118e+22</td><td>7.30782532944056e+20</td><td>2.484352238078106e+22</td><td>1.2429116548786514e+21</td><td>5.005048983757726e+21</td><td>2.5025244918788633e+20</td><td>1.516269813093479e+22</td><td>7.581349065467395e+20</td><td>2.4762036285877535e+22</td><td>1.2807164599461908e+21</td><td>32363219358.15563</td><td>9624169860.032804</td><td>0.0021571803671676976</td><td>0.0001127373467829628</td><td>0.005216832356842717</td><td>0.0001831073941590033</td><td>3.036282098648786</td><td>0.6072564197297572</td><td>0.33</td><td>0.5</td><td>0.33</td><td>0.5</td><td>0.33</td><td>0.5</td><td>0.66</td><td>0.0</td><td>1.6625913897387143</td><td>0.0</td><td>217.5</td><td>35.0</td><td>0.0</td><td>0.0</td><td>300.0</td><td>-3.0</td><td>0.5922843868221703</td><td>0.5803771241922872</td><td>1.7140545834464174</td><td>0.5386049836481508</td><td>3000.0</td><td>5.0</td><td>3000.0</td><td>0.0</td><td>5.0</td><td>3160.0</td><td>1107.6941819913689</td><td>1.0</td><td>0.008</td><td>10.0</td><td>7546.021366090695</td><td>1.2704030262975902e+26</td><td>0.6769</td><td>2.790807185327372e+34</td><td>3.4535226078891546e+36</td><td>6.351060318540891e+34</td><td>7.738086802771845e+36</td><td>5.60643561766533e+37</td><td>4.372414293712049e+37</td><td>1.1107152719947346e+38</td><td>1.519471369162679e+22</td><td>2.621840549345714e+22</td><td>1.4558783641645262e+22</td><td>2.484711337876382e+22</td><td>5.124530807135063e+21</td><td>1.5056640188945583e+22</td><td>2.472692238152466e+22</td><td>47655791864.850945</td><td>22.56239758122851</td><td>22.53925233900164</td><td>22.560636989425273</td><td>1.4005719607202158e+38</td><td>1.4357156333161102e+37</td><td>1.1126489538270573e+35</td><td>1.4245891437778397e+37</td><td>8.05241120379061e+37</td><td>5.95330840341155e+37</td><td>18512562365.260933</td><td>18500902467.814068</td><td>11659897.446866106</td><td>29143229500.587173</td><td>28929283027.142555</td><td>213946473.4446189</td><td>4.1386079739769624e+54</td><td>3.6160330653825143e+52</td><td>4.102447643323137e+54</td><td>3.545718844791814e-05</td><td>0.0005586690998359218</td><td>0.0014102164215298117</td><td>0.0022455819904158183</td><td>0.005435069853419583</td><td>0.011482522197514618</td><td>0.015252393744305886</td><td>0.0464529224461992</td><td>0.046587672077376394</td></tr>\n",
       "<tr><td>8</td><td>1.1548444054165498e+22</td><td>7.00355637527933e+20</td><td>2.337395437400725e+22</td><td>1.5976888800344717e+21</td><td>1.0803469508868454e+22</td><td>6.281953989165335e+20</td><td>2.190601122612235e+22</td><td>1.4138946899951349e+21</td><td>3.0845805327554204e+21</td><td>1.54229026637771e+20</td><td>1.1387813983307598e+22</td><td>6.880202958482424e+20</td><td>2.1891909526887323e+22</td><td>1.4757224524659229e+21</td><td>56625166678.26351</td><td>13601269892.446014</td><td>0.0005742296884841994</td><td>5.812056926704132e-05</td><td>0.0012088965563999655</td><td>5.254798194931867e-05</td><td>3.6159360429489746</td><td>0.6026560071581625</td><td>0.33</td><td>0.5</td><td>0.33</td><td>0.5</td><td>0.33</td><td>0.5</td><td>0.66</td><td>0.0</td><td>1.6236208939951904</td><td>0.0</td><td>217.5</td><td>35.0</td><td>0.0</td><td>0.0</td><td>300.0</td><td>-3.0</td><td>0.7803427470572626</td><td>0.7797313160951175</td><td>2.1218445775928023</td><td>0.7216644138944124</td><td>3000.0</td><td>5.0</td><td>3000.0</td><td>0.0</td><td>5.0</td><td>1000.0</td><td>1514.4801556252864</td><td>1.0</td><td>0.05</td><td>10.0</td><td>6551.753087016344</td><td>1.724305274504309e+26</td><td>0.8663</td><td>1.178865496680512e+34</td><td>1.2270636250731117e+36</td><td>2.591228408317171e+34</td><td>2.6564186427030416e+36</td><td>3.5863463944589623e+37</td><td>3.2699854200563577e+37</td><td>7.248450135197933e+37</td><td>1.1276138949483086e+22</td><td>2.3136492351023617e+22</td><td>1.056371350066939e+22</td><td>2.1662528175832574e+22</td><td>3.068819248804232e+21</td><td>1.1118123176246192e+22</td><td>2.161211385474275e+22</td><td>85799575709.26857</td><td>16.014039254094236</td><td>16.551167572638626</td><td>16.06214937760264</td><td>1.0633540205684455e+38</td><td>5.314755150810617e+36</td><td>7.591782280640736e+34</td><td>5.23883732800421e+36</td><td>6.649244504528759e+37</td><td>3.9842957011556967e+37</td><td>35050870890.68499</td><td>35038465968.43899</td><td>12404922.245999396</td><td>50748704843.47818</td><td>50600488247.05378</td><td>148216596.4244074</td><td>1.6771229322278406e+54</td><td>1.7347894205383856e+52</td><td>1.659775038022457e+54</td><td>5.806928394714115e-07</td><td>9.968591262814942e-05</td><td>0.0003916899981293437</td><td>0.0005917903246875249</td><td>0.0012196943679775398</td><td>0.003384252727992143</td><td>0.005506618266355274</td><td>0.036733025838782164</td><td>0.036772364911750614</td></tr>\n",
       "<tr><td>...</td><td>...</td><td>...</td><td>...</td><td>...</td><td>...</td><td>...</td><td>...</td><td>...</td><td>...</td><td>...</td><td>...</td><td>...</td><td>...</td><td>...</td><td>...</td><td>...</td><td>...</td><td>...</td><td>...</td><td>...</td><td>...</td><td>...</td><td>...</td><td>...</td><td>...</td><td>...</td><td>...</td><td>...</td><td>...</td><td>...</td><td>...</td><td>...</td><td>...</td><td>...</td><td>...</td><td>...</td><td>...</td><td>...</td><td>...</td><td>...</td><td>...</td><td>...</td><td>...</td><td>...</td><td>...</td><td>...</td><td>...</td><td>...</td><td>...</td><td>...</td><td>...</td><td>...</td><td>...</td><td>...</td><td>...</td><td>...</td><td>...</td><td>...</td><td>...</td><td>...</td><td>...</td><td>...</td><td>...</td><td>...</td><td>...</td><td>...</td><td>...</td><td>...</td><td>...</td><td>...</td><td>...</td><td>...</td><td>...</td><td>...</td><td>...</td><td>...</td><td>...</td><td>...</td><td>...</td><td>...</td><td>...</td><td>...</td><td>...</td><td>...</td><td>...</td><td>...</td><td>...</td><td>...</td><td>...</td><td>...</td><td>...</td><td>...</td><td>...</td><td>...</td><td>...</td><td>...</td><td>...</td></tr>\n",
       "<tr><td>28758</td><td>6.742578997377177e+21</td><td>3.371289498688589e+20</td><td>1.0539155264677807e+22</td><td>5.269577632338904e+20</td><td>6.484319434467573e+21</td><td>3.242159717233786e+20</td><td>1.0132772915398748e+22</td><td>5.066386457699374e+20</td><td>2.4133632154108827e+21</td><td>1.2066816077054414e+20</td><td>6.694914733728552e+21</td><td>3.3474573668642764e+20</td><td>1.0092016856294077e+22</td><td>5.0460084281470386e+20</td><td>10488766297.688164</td><td>3173066976.371827</td><td>0.0020797768186089395</td><td>8.672772786753263e-05</td><td>0.005336927933442903</td><td>0.00020946439164626015</td><td>2.149577268970629</td><td>0.4299154537941258</td><td>0.0</td><td>0.0</td><td>0.0</td><td>0.0</td><td>0.0</td><td>0.0</td><td>0.33</td><td>0.0</td><td>-0.0</td><td>0.0</td><td>217.5</td><td>35.0</td><td>0.0</td><td>0.0</td><td>300.0</td><td>-3.0</td><td>0.48906837930073177</td><td>0.5005901776112669</td><td>1.6123657271099543</td><td>0.4567650545411312</td><td>3000.0</td><td>5.0</td><td>3000.0</td><td>0.0</td><td>5.0</td><td>501.0</td><td>2019.97208664928</td><td>1.0</td><td>0.02</td><td>10.0</td><td>8372.820185477727</td><td>9.7656702059988e+25</td><td>0.546</td><td>-0.0</td><td>-0.0</td><td>-0.0</td><td>-0.0</td><td>-0.0</td><td>-0.0</td><td>0.0</td><td>7.03089933471944e+21</td><td>1.1031593027402685e+22</td><td>6.712153390327406e+21</td><td>1.0643830348794812e+22</td><td>2.410747099461474e+21</td><td>6.976188355207884e+21</td><td>1.062488455071966e+22</td><td>20478596942.1134</td><td>0.6260224460125666</td><td>0.6803728942690751</td><td>0.6307298056827485</td><td>1.106659676549908e+37</td><td>3.1804147867711674e+35</td><td>1.6050047240461697e+34</td><td>3.0199143143665503e+35</td><td>9.508460585967242e+36</td><td>1.5581361795318364e+36</td><td>8708223456.540873</td><td>8707848196.670692</td><td>375259.8701786798</td><td>11770373483.684772</td><td>11764441447.385899</td><td>5932036.298873077</td><td>9.500870228489603e+52</td><td>3.5453398495132545e+51</td><td>9.146336243538278e+52</td><td>0.0006777978341234584</td><td>0.0012238291887834611</td><td>0.0012795571109167358</td><td>0.00212730612380996</td><td>0.005463834477332702</td><td>0.009842579487494408</td><td>0.012071414955014143</td><td>--</td><td>0.02477976132916536</td></tr>\n",
       "<tr><td>28759</td><td>2.1874812884217405e+22</td><td>2.3984006729156516e+21</td><td>4.474040740176079e+22</td><td>1.142283954562063e+22</td><td>2.1929864111229336e+22</td><td>2.3073633887847304e+21</td><td>4.544937645400609e+22</td><td>1.272464525276525e+22</td><td>1.2702534179804083e+22</td><td>2.4659793646686374e+21</td><td>2.1810408257912637e+22</td><td>2.391195810826088e+21</td><td>4.162286781480389e+22</td><td>9.760519775743728e+21</td><td>7341990847.330354</td><td>6406399820.426781</td><td>0.0013178045043700153</td><td>5.908001022321239e-05</td><td>0.0019810107288327156</td><td>0.00010711699615835055</td><td>6.1794990095498825</td><td>1.2358998019099765</td><td>0.165</td><td>0.5</td><td>0.165</td><td>0.5</td><td>0.165</td><td>0.5</td><td>0.33</td><td>0.0</td><td>2.3347039154713496</td><td>0.0</td><td>217.5</td><td>35.0</td><td>0.0</td><td>0.0</td><td>300.0</td><td>-3.0</td><td>1.119758703737079</td><td>1.1446653560633315</td><td>1.5188079446671854</td><td>1.0312403718177634</td><td>10.0</td><td>5.0</td><td>10.0</td><td>0.0</td><td>5.0</td><td>10.0</td><td>4.09260637608542</td><td>1.0</td><td>0.02</td><td>10.0</td><td>5491.0616594883795</td><td>2.3867600261174606e+26</td><td>1.1243</td><td>-0.0</td><td>4.0902608014912927e+37</td><td>-0.0</td><td>9.040384270121095e+37</td><td>-0.0</td><td>5.679535042096829e+38</td><td>6.992599549258068e+38</td><td>1.951213187005374e+22</td><td>5.4727826919145815e+22</td><td>1.9731664614200837e+22</td><td>5.6627823195180065e+22</td><td>1.3979984489220514e+22</td><td>1.9459991390300605e+22</td><td>5.030820159053365e+22</td><td>2492110097.149853</td><td>372.18046623123445</td><td>249.21100971498532</td><td>249.21100971498532</td><td>7.560551006221427e+38</td><td>1.6953151838438755e+38</td><td>0.0</td><td>1.6953151838438755e+38</td><td>0.0</td><td>7.560551006221427e+38</td><td>97683682.93331741</td><td>0.0</td><td>97683682.93331741</td><td>2394425503.765121</td><td>0.0</td><td>2394425503.765121</td><td>5.148265804312162e+55</td><td>0.0</td><td>5.148265804312162e+55</td><td>4.282197355732647e-12</td><td>0.00026435022048300707</td><td>0.0009182923801407984</td><td>0.0013820255507996104</td><td>0.0021104012861139056</td><td>0.004072352758549191</td><td>0.004087607775779447</td><td>--</td><td>0.013834786903673351</td></tr>\n",
       "<tr><td>28760</td><td>1.141154638629395e+22</td><td>5.7057731931469755e+20</td><td>2.0194695613032134e+22</td><td>1.0097347806516068e+21</td><td>1.06910177479944e+22</td><td>5.3455088739972e+20</td><td>1.9135829090746717e+22</td><td>9.56791454537336e+20</td><td>2.752934945168781e+21</td><td>1.3764674725843906e+20</td><td>1.1278541391318162e+22</td><td>5.6392706956590816e+20</td><td>1.924757783009203e+22</td><td>9.623788915046015e+20</td><td>28759417634.45846</td><td>11390074380.496796</td><td>0.0006690543667602888</td><td>4.806250309566702e-05</td><td>0.0027517445640789086</td><td>9.652369470251545e-05</td><td>5.867538130315388</td><td>1.1735076260630777</td><td>0.02475</td><td>0.075</td><td>0.02475</td><td>0.075</td><td>0.02475</td><td>0.075</td><td>0.33</td><td>0.0</td><td>0.11532870438898385</td><td>0.0</td><td>217.5</td><td>35.0</td><td>0.0</td><td>0.0</td><td>300.0</td><td>-3.0</td><td>0.6349263775763927</td><td>0.6531454701126118</td><td>2.1234276096126017</td><td>0.5970679553929428</td><td>3000.0</td><td>5.0</td><td>3000.0</td><td>0.0</td><td>5.0</td><td>316.0</td><td>2361.646051496436</td><td>1.0</td><td>0.02</td><td>10.0</td><td>7465.494196414706</td><td>1.3026234481289371e+26</td><td>0.6908</td><td>1.0728275343793928e+33</td><td>6.063437284957933e+33</td><td>2.6987128258979986e+33</td><td>1.4696340826200495e+34</td><td>9.693169955872497e+35</td><td>1.2169963506606176e+35</td><td>1.1155479491247473e+36</td><td>1.1258970710495352e+22</td><td>2.0205483182474507e+22</td><td>1.0524295895541506e+22</td><td>1.9206633002627846e+22</td><td>2.71694091631857e+21</td><td>1.1123902125491106e+22</td><td>1.9278992802245077e+22</td><td>54623688105.802925</td><td>0.12406608354809291</td><td>0.14317856485909744</td><td>0.1256607512640021</td><td>1.9068332907326825e+37</td><td>9.821538260731503e+34</td><td>3.825948686408401e+34</td><td>5.9955895743231e+34</td><td>1.8758421704395223e+37</td><td>3.099112029316023e+35</td><td>23768788986.804188</td><td>23768714036.343586</td><td>74950.46059897152</td><td>30854899118.62282</td><td>30853717461.946712</td><td>1181656.6761057705</td><td>2.631104685377094e+52</td><td>8.153697818039981e+51</td><td>1.815734903573096e+52</td><td>1.6196217363263682e-05</td><td>0.00010213572501719627</td><td>0.00020401781591807526</td><td>0.0007415995476002037</td><td>0.0026501491658365963</td><td>0.007707565477656911</td><td>0.010848004242373558</td><td>--</td><td>0.03234902886284282</td></tr>\n",
       "<tr><td>28761</td><td>2.019395698744658e+22</td><td>1.0684340765775457e+21</td><td>3.1463207485199293e+22</td><td>1.8690944300221278e+21</td><td>1.9488476882606743e+22</td><td>1.0061339180808007e+21</td><td>3.02335239321128e+22</td><td>1.6895880110449736e+21</td><td>7.2925660867527e+21</td><td>3.6462830433763505e+20</td><td>2.005925534348671e+22</td><td>1.0645096936711388e+21</td><td>3.0061713196182254e+22</td><td>1.6918887764103602e+21</td><td>26484890959.654922</td><td>8737441794.1899</td><td>0.0027956686059454677</td><td>0.00014594164978286244</td><td>0.0059737470281981415</td><td>0.0002207134102213132</td><td>1.1535734435281082</td><td>0.23071468870562165</td><td>0.33</td><td>0.5</td><td>0.33</td><td>0.5</td><td>0.33</td><td>0.5</td><td>0.66</td><td>0.0</td><td>1.5846314775490258</td><td>0.0</td><td>217.5</td><td>35.0</td><td>0.0</td><td>0.0</td><td>300.0</td><td>-3.0</td><td>0.4363362183603747</td><td>0.4245372128639928</td><td>1.4741808035989257</td><td>0.3964530589001331</td><td>200.0</td><td>5.0</td><td>200.0</td><td>0.0</td><td>5.0</td><td>31.6</td><td>137.76326922462331</td><td>1.0</td><td>0.02</td><td>10.0</td><td>7298.836666847848</td><td>1.3716098586831463e+26</td><td>0.7203</td><td>8.93865268125842e+33</td><td>1.1618723282736514e+36</td><td>1.9924147058955902e+34</td><td>2.56799574163693e+36</td><td>8.103186205567071e+37</td><td>2.0273909176815284e+37</td><td>1.050645021021368e+38</td><td>1.9969181192843403e+22</td><td>2.9846591732340232e+22</td><td>1.9321713574258386e+22</td><td>2.856672966595392e+22</td><td>7.348322421331451e+21</td><td>1.9847280960409984e+22</td><td>2.859448250544337e+22</td><td>25938140232.20722</td><td>9.644780312599973</td><td>43.31108791005537</td><td>10.899705914351017</td><td>1.3710525632386333e+38</td><td>4.879091915699033e+36</td><td>4.2880346617271305e+34</td><td>4.836211569081761e+36</td><td>1.11131654242038e+38</td><td>2.597360208182535e+37</td><td>7518918258.513219</td><td>7512088913.385897</td><td>6829345.12732317</td><td>18419221941.45135</td><td>18317054259.67782</td><td>102167681.77353331</td><td>1.4746682488474128e+54</td><td>1.2260870215977337e+52</td><td>1.4624073786314354e+54</td><td>1.0109354713619777e-05</td><td>0.0005671010477672146</td><td>0.0018769477573434036</td><td>0.0029679865008147006</td><td>0.006113569209828181</td><td>0.013163380206305945</td><td>0.015815292104343095</td><td>--</td><td>0.044125993720868305</td></tr>\n",
       "<tr><td>28762</td><td>1.4768279911430971e+22</td><td>8.171450807983125e+20</td><td>2.8135493054162016e+22</td><td>1.9193594887421333e+21</td><td>1.398421992981871e+22</td><td>7.442660504054407e+20</td><td>2.6622659931047773e+22</td><td>1.656281956844554e+21</td><td>4.58737427574214e+21</td><td>2.2936871378710702e+20</td><td>1.4598907546859781e+22</td><td>8.029098284291165e+20</td><td>2.6444199540231875e+22</td><td>1.7416730044573213e+21</td><td>50189666765.45623</td><td>13257384789.397415</td><td>0.000850695519981653</td><td>6.253274408266384e-05</td><td>0.0016206631136405343</td><td>6.53417393240001e-05</td><td>6.150512499043139</td><td>1.2301024998086278</td><td>0.33</td><td>0.5</td><td>0.33</td><td>0.5</td><td>0.33</td><td>0.5</td><td>0.66</td><td>0.0</td><td>1.6595644487685093</td><td>0.0</td><td>217.5</td><td>35.0</td><td>0.0</td><td>0.0</td><td>300.0</td><td>-3.0</td><td>0.7007288686273063</td><td>0.7013544824537754</td><td>1.8917251744855061</td><td>0.6460299223945282</td><td>3000.0</td><td>5.0</td><td>3000.0</td><td>0.0</td><td>5.0</td><td>2000.0</td><td>1218.7978227491687</td><td>1.0</td><td>0.05</td><td>10.0</td><td>6412.32173345576</td><td>1.7991766285309165e+26</td><td>0.8964</td><td>1.1952307121975146e+34</td><td>2.1481079423982314e+36</td><td>2.627200291008875e+34</td><td>4.650348904593387e+36</td><td>4.805135712793291e+37</td><td>5.719802376067988e+37</td><td>1.1208606204563648e+38</td><td>1.4448401544225785e+22</td><td>2.754934960498142e+22</td><td>1.369606997870438e+22</td><td>2.612990069995115e+22</td><td>4.5755961880677345e+21</td><td>1.4284436888840594e+22</td><td>2.5898528766947658e+22</td><td>74092492585.75739</td><td>28.05139903245095</td><td>28.278680146785025</td><td>28.072390077275355</td><td>1.5150589314523787e+38</td><td>9.242786379072594e+36</td><td>7.234300430508161e+34</td><td>9.170443374767513e+36</td><td>8.180993908614584e+37</td><td>6.969595405909204e+37</td><td>29176231155.069134</td><td>29154570835.33698</td><td>21660319.73215149</td><td>44916261474.20078</td><td>44657197849.64768</td><td>259063624.5530995</td><td>2.9232049160618784e+54</td><td>1.7588720684941262e+52</td><td>2.905616195376937e+54</td><td>3.8469365030438e-07</td><td>0.0001495219301579744</td><td>0.0006000537571841344</td><td>0.0008866236917467437</td><td>0.0016669605848909758</td><td>0.004099231373893057</td><td>0.0063529669970365885</td><td>--</td><td>0.036787619444741036</td></tr>\n",
       "<tr><td>28763</td><td>6.901505720082178e+21</td><td>3.492947125615347e+20</td><td>9.609652747012957e+21</td><td>6.272076708938242e+20</td><td>6.774223380961235e+21</td><td>3.3871116904806174e+20</td><td>9.411964356295768e+21</td><td>6.269484811812095e+20</td><td>3.193045402048751e+21</td><td>1.6702289807065203e+20</td><td>6.877169786623271e+21</td><td>3.481771964976727e+20</td><td>9.257572988578621e+21</td><td>5.4038280875451135e+20</td><td>4499234261.898418</td><td>1712915002.1782556</td><td>0.0014860670288325982</td><td>7.169992272686282e-05</td><td>0.00266255914169599</td><td>8.186277635366987e-05</td><td>1.975091405247156</td><td>0.3950182810494312</td><td>0.264</td><td>0.4</td><td>0.264</td><td>0.4</td><td>0.264</td><td>0.4</td><td>0.66</td><td>0.0</td><td>1.4035732251330777</td><td>0.0</td><td>217.5</td><td>35.0</td><td>0.0</td><td>0.0</td><td>300.0</td><td>-3.0</td><td>0.3769765129045448</td><td>0.37134922711577706</td><td>1.1396282155796604</td><td>0.3346337960289676</td><td>400.0</td><td>5.0</td><td>400.0</td><td>0.0</td><td>5.0</td><td>251.0</td><td>164.82263264421013</td><td>1.0</td><td>0.008</td><td>10.0</td><td>7355.256293143261</td><td>1.34789938754722e+26</td><td>0.7102</td><td>1.103944078697345e+34</td><td>1.8134452570038642e+36</td><td>2.545122825266334e+34</td><td>4.0911826667663576e+36</td><td>2.1993898290328204e+37</td><td>2.350531736501253e+37</td><td>5.144033424815059e+37</td><td>6.866652081287199e+21</td><td>9.717077092968826e+21</td><td>6.765952514189516e+21</td><td>9.525080094946038e+21</td><td>3.334397334011958e+21</td><td>6.842219549729303e+21</td><td>9.312162027619561e+21</td><td>4497752512.872156</td><td>12.30196715678792</td><td>13.086722097546648</td><td>12.383034463941076</td><td>6.232270898003052e+37</td><td>7.826532042986042e+36</td><td>3.910563476431819e+34</td><td>7.787426408221724e+36</td><td>2.970844883477141e+37</td><td>3.261426014525911e+37</td><td>1287009215.9644175</td><td>1280587330.7961025</td><td>6421885.168315122</td><td>3210743297.4213295</td><td>3093334837.4366426</td><td>117408459.98468687</td><td>2.257988585365494e+54</td><td>1.5338686718189494e+52</td><td>2.2426498986473048e+54</td><td>3.389293861912767e-05</td><td>0.0005672527221937538</td><td>0.0011549483725955998</td><td>0.0015297639523061844</td><td>0.002775963485095447</td><td>0.0047036119016926675</td><td>0.00592871445450988</td><td>--</td><td>0.010381844696608248</td></tr>\n",
       "<tr><td>28764</td><td>1.8650593030825675e+22</td><td>9.325296515412838e+20</td><td>3.732139465121038e+22</td><td>1.8660697325605193e+21</td><td>1.7208695052339803e+22</td><td>8.604347526169902e+20</td><td>3.5040491537114673e+22</td><td>1.7520245768557337e+21</td><td>3.743525718447812e+21</td><td>1.871762859223906e+20</td><td>1.836725476383503e+22</td><td>9.183627381917516e+20</td><td>3.5247413986679534e+22</td><td>1.7623706993339767e+21</td><td>89440719363.61584</td><td>30721453170.808887</td><td>0.0026765260266201816</td><td>0.00013143816962758284</td><td>0.011869980337473067</td><td>0.00034187109520151816</td><td>0.26381335679099777</td><td>0.05276267135819955</td><td>0.066</td><td>0.2</td><td>0.066</td><td>0.2</td><td>0.066</td><td>0.2</td><td>0.33</td><td>0.0</td><td>0.3039803099783126</td><td>0.0</td><td>217.5</td><td>35.0</td><td>0.0</td><td>0.0</td><td>300.0</td><td>-3.0</td><td>0.7653667845985967</td><td>0.787180545014065</td><td>2.449137796916692</td><td>0.7204302649998563</td><td>4500.0</td><td>5.0</td><td>4500.0</td><td>0.0</td><td>5.0</td><td>398.0</td><td>3697.1841512638193</td><td>1.0</td><td>0.02</td><td>10.0</td><td>8476.802937934364</td><td>9.438596249362724e+25</td><td>0.5309</td><td>5.739495869657285e+33</td><td>5.423920889187036e+33</td><td>1.399491185582119e+34</td><td>1.2402168292989038e+34</td><td>4.9304362176915214e+36</td><td>9.90810019808371e+34</td><td>5.067077716580013e+36</td><td>1.8562429837533044e+22</td><td>3.756483961635913e+22</td><td>1.7091034279244615e+22</td><td>3.528909844181941e+22</td><td>3.698157850721985e+21</td><td>1.827156227011367e+22</td><td>3.547707354995221e+22</td><td>174168275625.40955</td><td>0.06096932065212035</td><td>0.06843181564222083</td><td>0.061602227849283014</td><td>4.1494884434863695e+37</td><td>1.177705658973819e+35</td><td>8.833097282602673e+34</td><td>2.9439593071355166e+34</td><td>4.1342840431522763e+37</td><td>1.5204400334092852e+35</td><td>78994108536.49385</td><td>78994071836.23587</td><td>36700.25797932605</td><td>95174167088.7315</td><td>95173587766.89532</td><td>579321.836181862</td><td>2.785701382149041e+52</td><td>1.894107338469274e+52</td><td>8.915940436797671e+51</td><td>2.5263280640277593e-05</td><td>6.868831040205966e-05</td><td>0.0003619145379177715</td><td>0.0028057114288602514</td><td>0.01178965045791253</td><td>0.029328759223852568</td><td>0.041894385730921004</td><td>--</td><td>0.13178996329880877</td></tr>\n",
       "<tr><td>28765</td><td>1.0429248814246961e+22</td><td>5.214624407123481e+20</td><td>1.6038481585243307e+22</td><td>1.033230867045204e+21</td><td>1.002227981167527e+22</td><td>5.011139905837636e+20</td><td>1.5385077565171113e+22</td><td>9.383483585130956e+20</td><td>3.4122954710690164e+21</td><td>1.706147735534508e+20</td><td>1.0356691856453917e+22</td><td>5.178345928226959e+20</td><td>1.5382347538238173e+22</td><td>9.387192374996879e+20</td><td>14632209615.087864</td><td>5110054511.45826</td><td>0.001920217267822712</td><td>8.559369668251896e-05</td><td>0.005133679889384892</td><td>0.00028840138505325906</td><td>4.486916501278383</td><td>0.8973833002556766</td><td>0.33</td><td>0.5</td><td>0.33</td><td>0.5</td><td>0.33</td><td>0.5</td><td>0.66</td><td>0.0</td><td>1.5586019761343648</td><td>0.0</td><td>217.5</td><td>35.0</td><td>0.0</td><td>0.0</td><td>300.0</td><td>-3.0</td><td>0.4199571109627523</td><td>0.40714238957864723</td><td>1.5316820036681404</td><td>0.38214665230141165</td><td>200.0</td><td>5.0</td><td>200.0</td><td>0.0</td><td>5.0</td><td>25.1</td><td>149.53132293557383</td><td>1.0</td><td>0.02</td><td>10.0</td><td>7868.494827201494</td><td>1.1481584537779054e+26</td><td>0.6234</td><td>3.239269990599029e+33</td><td>2.0199793791913207e+35</td><td>7.220293030478464e+33</td><td>4.46460279475386e+35</td><td>3.7558354411903963e+37</td><td>3.58481026590582e+36</td><td>4.1802082458225385e+37</td><td>1.0087258683850071e+22</td><td>1.4851010415397207e+22</td><td>9.745752677651208e+21</td><td>1.417987301834949e+22</td><td>3.459390116205238e+21</td><td>1.0024797168526588e+22</td><td>1.425391797292852e+22</td><td>14498249979.485622</td><td>1.6559326788636484</td><td>13.248033010991056</td><td>1.9457092759741308</td><td>5.738882077555153e+37</td><td>8.605285560527078e+35</td><td>1.9281243525420262e+34</td><td>8.412473125272874e+35</td><td>5.280815692605551e+37</td><td>4.580663849496024e+36</td><td>4292041176.7973933</td><td>4290801878.6719475</td><td>1239298.1254453335</td><td>10206208796.961218</td><td>10187991008.05393</td><td>18217788.907288354</td><td>2.586908258778358e+53</td><td>4.4432052978764384e+51</td><td>2.5424762057995937e+53</td><td>1.0267370214464421e-05</td><td>0.0003858244219162178</td><td>0.001165936596208565</td><td>0.002071351586970584</td><td>0.005488843412971074</td><td>0.009727894282809768</td><td>0.011583333245374628</td><td>--</td><td>0.030984562705495156</td></tr>\n",
       "<tr><td>28766</td><td>2.9423155691550224e+22</td><td>1.4711577845775113e+21</td><td>5.729508438284198e+22</td><td>2.864754219142099e+21</td><td>2.7271517109310246e+22</td><td>1.3635758554655123e+21</td><td>5.374834475638669e+22</td><td>2.6874172378193346e+21</td><td>6.212223398845177e+21</td><td>3.1061116994225884e+20</td><td>2.9001992168301117e+22</td><td>1.450099608415056e+21</td><td>5.412445231432378e+22</td><td>2.706222615716189e+21</td><td>119136422515.35724</td><td>44015315273.60506</td><td>0.0021155830074413213</td><td>0.00011266206280407775</td><td>0.00928456197130057</td><td>0.00027584977845839485</td><td>0.5424752236347494</td><td>0.10849504472694989</td><td>0.23099999999999998</td><td>0.35</td><td>0.23099999999999998</td><td>0.35</td><td>0.23099999999999998</td><td>0.35</td><td>0.66</td><td>0.0</td><td>1.0675215838062195</td><td>0.0</td><td>217.5</td><td>35.0</td><td>0.0</td><td>0.0</td><td>300.0</td><td>-3.0</td><td>0.6939638871055941</td><td>0.6964264760948548</td><td>2.3837473767927233</td><td>0.6448411747754335</td><td>1000.0</td><td>5.0</td><td>1000.0</td><td>0.0</td><td>5.0</td><td>10.0</td><td>979.9668951031107</td><td>1.0</td><td>0.02</td><td>10.0</td><td>7798.06736513385</td><td>1.1739661518158712e+26</td><td>0.6348</td><td>1.3773380810051884e+34</td><td>0.007123130398452463</td><td>3.122544344157294e+34</td><td>0.015845775940132888</td><td>3.5262104157771094e+37</td><td>0.15022115009366058</td><td>3.5307102982022714e+37</td><td>2.977708617116675e+22</td><td>5.642450432076207e+22</td><td>2.776948608488513e+22</td><td>5.273979447185212e+22</td><td>5.870018666417964e+21</td><td>2.9388735218200917e+22</td><td>5.322520783622285e+22</td><td>137396572832.22571</td><td>5.647867870005782e-38</td><td>1.076844490367709e-34</td><td>9.178422898826738e-38</td><td>8.947747944572062e+37</td><td>1.0430426480636106e+35</td><td>1.0430426480636106e+35</td><td>0.03196846311939546</td><td>8.947747944572062e+37</td><td>0.1958360054759359</td><td>53389200231.86354</td><td>53389200231.86354</td><td>6.576599993200548e-32</td><td>84007372600.3622</td><td>84007372600.3622</td><td>8.520760350320029e-31</td><td>2.129169187332339e+52</td><td>2.129169187332339e+52</td><td>9621114564786206.0</td><td>6.212663935168396e-07</td><td>6.9327448019347685e-06</td><td>0.000401645264224799</td><td>0.0020882648684726716</td><td>0.009475250003574123</td><td>0.026712621639623565</td><td>0.037208312435488784</td><td>--</td><td>0.12490289128116754</td></tr>\n",
       "<tr><td>28767</td><td>3.244860455757821e+22</td><td>1.8150138844993615e+21</td><td>4.967134897168171e+22</td><td>3.227393059162101e+21</td><td>3.118065369004706e+22</td><td>1.712888189139561e+21</td><td>4.75905464745548e+22</td><td>2.9969330598073184e+21</td><td>1.0476964897176542e+22</td><td>5.238482448588271e+20</td><td>3.222162369167997e+22</td><td>1.8092796538604057e+21</td><td>4.763396151952578e+22</td><td>3.017104239571341e+21</td><td>42972301888.34579</td><td>13688452199.421886</td><td>0.0027187314632908075</td><td>0.00017239544810399726</td><td>0.005908232774532033</td><td>0.0001534825406568203</td><td>3.02190624294173</td><td>0.604381248588346</td><td>0.33</td><td>0.5</td><td>0.33</td><td>0.5</td><td>0.33</td><td>0.5</td><td>0.66</td><td>0.0</td><td>1.6021512537686269</td><td>0.0</td><td>217.5</td><td>35.0</td><td>0.0</td><td>0.0</td><td>300.0</td><td>-3.0</td><td>0.45617909093013503</td><td>0.4465358154122332</td><td>1.606827003548875</td><td>0.41478276814330356</td><td>400.0</td><td>5.0</td><td>400.0</td><td>0.0</td><td>5.0</td><td>79.4</td><td>250.93565502627808</td><td>1.0</td><td>0.008</td><td>10.0</td><td>6925.773886458131</td><td>1.5382163356692767e+26</td><td>0.7902</td><td>2.9046462674363374e+34</td><td>3.365953927904269e+36</td><td>6.610124750108404e+34</td><td>7.54187727300671e+36</td><td>1.159968814068041e+38</td><td>4.343665325373358e+37</td><td>1.7043651357162414e+38</td><td>3.2069245838179596e+22</td><td>4.881579688404571e+22</td><td>3.092764898227473e+22</td><td>4.666177269924646e+22</td><td>1.0622590318698404e+22</td><td>3.185158098630058e+22</td><td>4.667067703866236e+22</td><td>49903330625.18403</td><td>21.60249726695975</td><td>36.57304146279398</td><td>22.61317234815575</td><td>2.2018708730557464e+38</td><td>1.3994121837374045e+37</td><td>1.1259428884627572e+35</td><td>1.3881527548527768e+37</td><td>1.6129654608678069e+38</td><td>5.889054121879396e+37</td><td>15997084681.870417</td><td>15985121152.527266</td><td>11963529.343151936</td><td>33906245943.86696</td><td>33692077749.175194</td><td>214168194.69176483</td><td>4.036059939228028e+54</td><td>3.763533719387934e+52</td><td>3.998424602034149e+54</td><td>8.04768249734787e-06</td><td>0.0005835168433071701</td><td>0.0019268445391166515</td><td>0.0029129442727827736</td><td>0.005880706132591254</td><td>0.01564362649537649</td><td>0.020356622195360302</td><td>--</td><td>0.05320080283351605</td></tr>\n",
       "</table></div>"
      ],
      "text/plain": [
       "<Table length=87858>\n",
       "  id  bayes.param.restframe_Lnu(DECam.g) ...    best.VIPERS_Ks   \n",
       "                      W                  ...         mJy         \n",
       "int64              float64               ...       float64       \n",
       "----- ---------------------------------- ... --------------------\n",
       "    0              4.947581183874722e+21 ...   0.1538793295163159\n",
       "    1              7.782844451860288e+22 ...  0.09158336709100055\n",
       "    2             2.0568594458397242e+22 ...  0.12076706792519606\n",
       "    3              5.748309245684357e+21 ... 0.050072221876192605\n",
       "    4             3.1870076239186777e+22 ...  0.07348890936179694\n",
       "    5               5.00635197168345e+21 ... 0.011036450813797559\n",
       "    6              2.156097029540248e+22 ...  0.06598984946528653\n",
       "    7             1.5300469216026202e+22 ... 0.046587672077376394\n",
       "    8             1.1548444054165498e+22 ... 0.036772364911750614\n",
       "  ...                                ... ...                  ...\n",
       "28758              6.742578997377177e+21 ...  0.02477976132916536\n",
       "28759             2.1874812884217405e+22 ... 0.013834786903673351\n",
       "28760              1.141154638629395e+22 ...  0.03234902886284282\n",
       "28761              2.019395698744658e+22 ... 0.044125993720868305\n",
       "28762             1.4768279911430971e+22 ... 0.036787619444741036\n",
       "28763              6.901505720082178e+21 ... 0.010381844696608248\n",
       "28764             1.8650593030825675e+22 ...  0.13178996329880877\n",
       "28765             1.0429248814246961e+22 ... 0.030984562705495156\n",
       "28766             2.9423155691550224e+22 ...  0.12490289128116754\n",
       "28767              3.244860455757821e+22 ...  0.05320080283351605"
      ]
     },
     "execution_count": 9,
     "metadata": {},
     "output_type": "execute_result"
    }
   ],
   "source": [
    "cigale    #87858"
   ]
  },
  {
   "cell_type": "code",
   "execution_count": 14,
   "id": "2aacef0c-4457-40ae-8716-a7bd013571f1",
   "metadata": {
    "execution": {
     "iopub.execute_input": "2022-06-07T05:09:45.146587Z",
     "iopub.status.busy": "2022-06-07T05:09:45.146235Z",
     "iopub.status.idle": "2022-06-07T05:09:45.156836Z",
     "shell.execute_reply": "2022-06-07T05:09:45.156388Z",
     "shell.execute_reply.started": "2022-06-07T05:09:45.146559Z"
    }
   },
   "outputs": [],
   "source": [
    "u = cigale['bayes.param.restframe_Lnu(sdss.up)']\n",
    "r = cigale['bayes.param.restframe_Lnu(sdss.rp)']\n",
    "u_r = -2.5 * np.log10(u/r)\n",
    "mass = cigale['bayes.stellar.m_star']\n",
    "mass = np.log10(mass)"
   ]
  },
  {
   "cell_type": "markdown",
   "id": "6515bd96-fcae-4ef9-bafa-fbe72a7da1dd",
   "metadata": {},
   "source": [
    "# color cut"
   ]
  },
  {
   "cell_type": "code",
   "execution_count": 15,
   "id": "afab2b04-7bac-415d-8402-9b95878ff6b4",
   "metadata": {
    "execution": {
     "iopub.execute_input": "2022-06-07T05:10:29.146967Z",
     "iopub.status.busy": "2022-06-07T05:10:29.146672Z",
     "iopub.status.idle": "2022-06-07T05:10:29.152589Z",
     "shell.execute_reply": "2022-06-07T05:10:29.152086Z",
     "shell.execute_reply.started": "2022-06-07T05:10:29.146943Z"
    }
   },
   "outputs": [],
   "source": [
    "index = ((redshift<=0.7)&(redshift>=0.5))\n",
    "mass = mass[index]\n",
    "u_r = u_r[index]\n",
    "zmax = zmax[index]"
   ]
  },
  {
   "cell_type": "code",
   "execution_count": 16,
   "id": "1f2b5e61-c7d3-4627-aae1-5c65c4f8068b",
   "metadata": {
    "execution": {
     "iopub.execute_input": "2022-06-07T05:10:35.146529Z",
     "iopub.status.busy": "2022-06-07T05:10:35.146259Z",
     "iopub.status.idle": "2022-06-07T05:10:35.149751Z",
     "shell.execute_reply": "2022-06-07T05:10:35.149383Z",
     "shell.execute_reply.started": "2022-06-07T05:10:35.146508Z"
    }
   },
   "outputs": [
    {
     "data": {
      "text/plain": [
       "(34358,)"
      ]
     },
     "execution_count": 16,
     "metadata": {},
     "output_type": "execute_result"
    }
   ],
   "source": [
    "mass.shape"
   ]
  },
  {
   "cell_type": "code",
   "execution_count": 19,
   "id": "e366456a-1a7d-47cc-b62d-4410137781b1",
   "metadata": {
    "execution": {
     "iopub.execute_input": "2022-06-07T05:11:06.176156Z",
     "iopub.status.busy": "2022-06-07T05:11:06.175964Z",
     "iopub.status.idle": "2022-06-07T05:11:06.179375Z",
     "shell.execute_reply": "2022-06-07T05:11:06.179001Z",
     "shell.execute_reply.started": "2022-06-07T05:11:06.176138Z"
    },
    "tags": []
   },
   "outputs": [],
   "source": [
    "index = (zmax>=0.5)\n",
    "mass = mass[index]\n",
    "u_r = u_r[index]\n",
    "zmax = zmax[index]\n",
    "zmax[(zmax>0.7)] = 0.7"
   ]
  },
  {
   "cell_type": "code",
   "execution_count": 20,
   "id": "4daac6ea-ea23-49ed-a551-0dd0193cb14a",
   "metadata": {
    "execution": {
     "iopub.execute_input": "2022-06-07T05:11:08.242881Z",
     "iopub.status.busy": "2022-06-07T05:11:08.242643Z",
     "iopub.status.idle": "2022-06-07T05:11:08.245998Z",
     "shell.execute_reply": "2022-06-07T05:11:08.245636Z",
     "shell.execute_reply.started": "2022-06-07T05:11:08.242861Z"
    },
    "tags": []
   },
   "outputs": [
    {
     "data": {
      "text/plain": [
       "(34356,)"
      ]
     },
     "execution_count": 20,
     "metadata": {},
     "output_type": "execute_result"
    }
   ],
   "source": [
    "mass.shape"
   ]
  },
  {
   "cell_type": "code",
   "execution_count": 22,
   "id": "2ce3e559-6b48-4562-8804-836f409584e5",
   "metadata": {
    "execution": {
     "iopub.execute_input": "2022-06-07T05:11:36.148079Z",
     "iopub.status.busy": "2022-06-07T05:11:36.147791Z",
     "iopub.status.idle": "2022-06-07T05:11:36.151522Z",
     "shell.execute_reply": "2022-06-07T05:11:36.151169Z",
     "shell.execute_reply.started": "2022-06-07T05:11:36.148059Z"
    },
    "tags": []
   },
   "outputs": [
    {
     "data": {
      "text/plain": [
       "3.726938239484048"
      ]
     },
     "execution_count": 22,
     "metadata": {},
     "output_type": "execute_result"
    }
   ],
   "source": [
    "np.max(u_r)"
   ]
  },
  {
   "cell_type": "code",
   "execution_count": 24,
   "id": "e6e07016-6117-4c7f-aa49-8ef4cc585b40",
   "metadata": {
    "execution": {
     "iopub.execute_input": "2022-06-07T05:12:12.097492Z",
     "iopub.status.busy": "2022-06-07T05:12:12.096989Z",
     "iopub.status.idle": "2022-06-07T05:12:19.204568Z",
     "shell.execute_reply": "2022-06-07T05:12:19.203675Z",
     "shell.execute_reply.started": "2022-06-07T05:12:12.097469Z"
    },
    "tags": []
   },
   "outputs": [],
   "source": [
    "V_0 = []\n",
    "for i in range(len(zmax)):\n",
    "    temp = cosmo.comoving_volume(zmax[i]) - cosmo.comoving_volume(0.5)\n",
    "    V_0.append(temp.value)\n",
    "    \n",
    "V_1 = np.array(V_0)\n",
    "\n",
    "Vtotal = cosmo.comoving_volume(0.7) - cosmo.comoving_volume(0.5)\n",
    "Vtotal\n",
    "weight0 = Vtotal.value/V_1"
   ]
  },
  {
   "cell_type": "code",
   "execution_count": 27,
   "id": "23f3e78d-e551-40fb-9d5a-43ace72a7937",
   "metadata": {
    "execution": {
     "iopub.execute_input": "2022-06-07T05:32:57.198602Z",
     "iopub.status.busy": "2022-06-07T05:32:57.198326Z",
     "iopub.status.idle": "2022-06-07T05:32:57.819303Z",
     "shell.execute_reply": "2022-06-07T05:32:57.818417Z",
     "shell.execute_reply.started": "2022-06-07T05:32:57.198576Z"
    },
    "tags": []
   },
   "outputs": [
    {
     "data": {
      "image/png": "[encoded data removed]",
      "text/plain": [
       "<Figure size 576x432 with 2 Axes>"
      ]
     },
     "metadata": {},
     "output_type": "display_data"
    }
   ],
   "source": [
    "plt.figure(figsize = (8,6))\n",
    "counts, xbins, ybins = np.histogram2d(mass, u_r,  bins=[30,50],range=[[9,12],[0,4]],weights = weight0)\n",
    "# print(xbins)\n",
    "counts = counts.T\n",
    "counts = counts[::-1]\n",
    "# weight2 = counts / np.sum(counts,axis = 0)\n",
    "# weight2[weight2==0]=np.nan\n",
    "plt.imshow(counts,cmap='rainbow',extent=[xbins[0],xbins[-1],ybins[0],ybins[-1]],aspect='auto')\n",
    "plt.colorbar()\n",
    "# plt.plot([9.0,0.52796795083083],[10,0.5819679508308301],color = \"red\",linewidth = 2,label=\"cut\")\n",
    "# plt.plot([9.0,12.0],[0.52796795083083,0.6899679508308301],\"white\",linewidth = 2,label=\"cut\")\n",
    "plt.plot([9.0,12.0],[1.885,2.215],\"-\",color=\"white\",linewidth = 4,label=\"cut\")\n",
    "\n",
    "plt.xlabel(\"$log M_*$\")\n",
    "plt.ylabel(\"u-r\")\n",
    "plt.xlim(9,11.5)\n",
    "plt.ylim(0,4)\n",
    "# plt.grid()\n",
    "plt.title('$VIPERS :0.5 \\sim 0.7$')\n",
    "plt.savefig(\"./VIPERS_number.pdf\",dpi =100)"
   ]
  },
  {
   "cell_type": "code",
   "execution_count": 29,
   "id": "f0fd46bb-2644-4cb5-a75f-406111d25b82",
   "metadata": {
    "execution": {
     "iopub.execute_input": "2022-06-07T05:34:15.210072Z",
     "iopub.status.busy": "2022-06-07T05:34:15.209730Z",
     "iopub.status.idle": "2022-06-07T05:34:15.510928Z",
     "shell.execute_reply": "2022-06-07T05:34:15.510420Z",
     "shell.execute_reply.started": "2022-06-07T05:34:15.210044Z"
    },
    "tags": []
   },
   "outputs": [
    {
     "name": "stderr",
     "output_type": "stream",
     "text": [
      "/tmp/ipykernel_405134/180681089.py:6: RuntimeWarning: invalid value encountered in true_divide\n",
      "  weight2 = counts / np.sum(counts,axis = 0)\n"
     ]
    },
    {
     "data": {
      "image/png": "[encoded data removed]",
      "text/plain": [
       "<Figure size 576x432 with 2 Axes>"
      ]
     },
     "metadata": {},
     "output_type": "display_data"
    }
   ],
   "source": [
    "plt.figure(figsize = (8,6))\n",
    "counts, xbins, ybins = np.histogram2d(mass, u_r,  bins=[30,50],range=[[9,12],[0,4]],weights = weight0)\n",
    "# print(xbins)\n",
    "counts = counts.T\n",
    "counts = counts[::-1]\n",
    "weight2 = counts / np.sum(counts,axis = 0)\n",
    "weight2[weight2==0]=np.nan\n",
    "plt.imshow(weight2,cmap='rainbow',extent=[xbins[0],xbins[-1],ybins[0],ybins[-1]],aspect='auto',vmax = 0.1)\n",
    "plt.colorbar()\n",
    "# plt.plot([9.0,0.52796795083083],[10,0.5819679508308301],color = \"red\",linewidth = 2,label=\"cut\")\n",
    "# plt.plot([9.0,12.0],[0.52796795083083,0.6899679508308301],\"white\",linewidth = 2,label=\"cut\")\n",
    "plt.plot([9.0,12.0],[1.885,2.215],\"-\",color=\"white\",linewidth = 4,label=\"cut\")\n",
    "\n",
    "plt.xlabel(\"$log M_*$\")\n",
    "plt.ylabel(\"u-r\")\n",
    "plt.xlim(9,11.5)\n",
    "plt.ylim(0,4)\n",
    "# plt.grid()\n",
    "plt.title('$VIPERS :0.5 \\sim 0.7$')\n",
    "plt.savefig(\"./VIPERS_density.pdf\",dpi =100)"
   ]
  },
  {
   "cell_type": "code",
   "execution_count": 31,
   "id": "62e8c265-0ec3-4f73-bc27-a96aaff20d65",
   "metadata": {
    "execution": {
     "iopub.execute_input": "2022-06-07T05:35:55.097749Z",
     "iopub.status.busy": "2022-06-07T05:35:55.097396Z",
     "iopub.status.idle": "2022-06-07T05:35:55.104023Z",
     "shell.execute_reply": "2022-06-07T05:35:55.102762Z",
     "shell.execute_reply.started": "2022-06-07T05:35:55.097728Z"
    },
    "tags": []
   },
   "outputs": [],
   "source": [
    "np.save(\"./VIPERS_5_7.npy\",np.array([mass,u_r,weight0]))"
   ]
  },
  {
   "cell_type": "code",
   "execution_count": 32,
   "id": "219056ed-b0d9-4d29-86c9-c0fe26931941",
   "metadata": {
    "execution": {
     "iopub.execute_input": "2022-06-07T05:36:13.177210Z",
     "iopub.status.busy": "2022-06-07T05:36:13.177058Z",
     "iopub.status.idle": "2022-06-07T05:36:13.192005Z",
     "shell.execute_reply": "2022-06-07T05:36:13.191481Z",
     "shell.execute_reply.started": "2022-06-07T05:36:13.177195Z"
    }
   },
   "outputs": [
    {
     "name": "stdout",
     "output_type": "stream",
     "text": [
      "The length of All: 5557\n",
      "9921.10467798539\n",
      "The length of up: 0\n",
      "0.0\n",
      "The length of down: 5557\n",
      "9921.10467798539\n",
      "The length of All: 9355\n",
      "11862.87812087815\n",
      "The length of up: 214\n",
      "705.6230102011403\n",
      "The length of down: 9141\n",
      "11157.25511067701\n",
      "The length of All: 10054\n",
      "10938.429937009505\n",
      "The length of up: 3335\n",
      "4072.8342324207993\n",
      "The length of down: 6719\n",
      "6865.595704588704\n",
      "The length of All: 7565\n",
      "7618.933110094102\n",
      "The length of up: 4850\n",
      "4903.876956406906\n",
      "The length of down: 2715\n",
      "2715.0561536871955\n"
     ]
    }
   ],
   "source": [
    "weight1 = weight0\n",
    "massbin = np.array([9.0,9.5,10.0,10.5,11])\n",
    "All = np.zeros(4)\n",
    "up = np.zeros(4)\n",
    "down = np.zeros(4)\n",
    "frac = np.zeros(4)\n",
    "for i in range(len(massbin)-1):\n",
    "    index = ((mass>=massbin[i])&(mass<massbin[i+1])&(u_r>=0.0)&(u_r<=4.0))\n",
    "    All[i] = np.sum(weight1[index])\n",
    "    print(\"The length of All:\",len(weight1[index]))\n",
    "    print(All[i])\n",
    "    cut = ((u_r[index]-(0.11 * mass[index] - 0.45 * 0.1 + 0.94))>0)\n",
    "    up[i] = np.sum(weight1[index][cut])\n",
    "    print(\"The length of up:\",len(weight1[index][cut]))\n",
    "    print(up[i])\n",
    "    down[i] = np.sum(weight1[index][~cut])\n",
    "    print(\"The length of down:\",len(weight1[index][~cut]))\n",
    "    print(down[i])"
   ]
  },
  {
   "cell_type": "code",
   "execution_count": 33,
   "id": "4b4f90a6-e81e-404a-bb25-5055a0273c78",
   "metadata": {
    "execution": {
     "iopub.execute_input": "2022-06-07T05:37:43.098797Z",
     "iopub.status.busy": "2022-06-07T05:37:43.098611Z",
     "iopub.status.idle": "2022-06-07T05:37:43.265311Z",
     "shell.execute_reply": "2022-06-07T05:37:43.264657Z",
     "shell.execute_reply.started": "2022-06-07T05:37:43.098779Z"
    }
   },
   "outputs": [
    {
     "data": {
      "image/png": "[encoded data removed]",
      "text/plain": [
       "<Figure size 432x288 with 1 Axes>"
      ]
     },
     "metadata": {},
     "output_type": "display_data"
    }
   ],
   "source": [
    "frac = up / All\n",
    "massbin_0 = 0.5 * (massbin[1:]+massbin[:-1])\n",
    "plt.scatter(massbin_0,frac)\n",
    "plt.xlabel(\"$log M_*$\")\n",
    "plt.ylabel(\"Fraction\")\n",
    "plt.title(\"$VIPERS \\ Redshift : 0.5 \\sim 0.7$\")\n",
    "plt.xticks(np.arange(9, 11.1, step=0.5))\n",
    "plt.yticks(np.arange(0, 1.01, step=0.2))\n",
    "plt.savefig(\"./VIPERS_frac.pdf\",dpi=100)"
   ]
  },
  {
   "cell_type": "code",
   "execution_count": null,
   "id": "f0b4a312-9996-47e5-b668-35799e4e602f",
   "metadata": {},
   "outputs": [],
   "source": []
  }
 ],
 "metadata": {
  "kernelspec": {
   "display_name": "numba38",
   "language": "python",
   "name": "numba38"
  },
  "language_info": {
   "codemirror_mode": {
    "name": "ipython",
    "version": 3
   },
   "file_extension": ".py",
   "mimetype": "text/x-python",
   "name": "python",
   "nbconvert_exporter": "python",
   "pygments_lexer": "ipython3",
   "version": "3.8.12"
  }
 },
 "nbformat": 4,
 "nbformat_minor": 5
}
