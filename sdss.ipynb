{
 "cells": [
  {
   "cell_type": "markdown",
   "id": "47824819-0789-41f8-bad7-cbb7520d9e11",
   "metadata": {},
   "source": [
    "# LOAD package"
   ]
  },
  {
   "cell_type": "code",
   "execution_count": 4,
   "id": "c83c8671-3761-4951-b4a6-ddae88236173",
   "metadata": {
    "execution": {
     "iopub.execute_input": "2022-06-07T02:44:47.945200Z",
     "iopub.status.busy": "2022-06-07T02:44:47.944914Z",
     "iopub.status.idle": "2022-06-07T02:44:47.950013Z",
     "shell.execute_reply": "2022-06-07T02:44:47.949561Z",
     "shell.execute_reply.started": "2022-06-07T02:44:47.945182Z"
    }
   },
   "outputs": [
    {
     "data": {
      "text/plain": [
       "'/home/yunzheng/PAC/code/color_distribution'"
      ]
     },
     "execution_count": 4,
     "metadata": {},
     "output_type": "execute_result"
    }
   ],
   "source": [
    "pwd"
   ]
  },
  {
   "cell_type": "code",
   "execution_count": 1,
   "id": "55943704-31d1-4fc7-86bd-3f847658dda4",
   "metadata": {
    "execution": {
     "iopub.execute_input": "2022-06-07T02:26:56.001967Z",
     "iopub.status.busy": "2022-06-07T02:26:56.001771Z",
     "iopub.status.idle": "2022-06-07T02:27:13.765434Z",
     "shell.execute_reply": "2022-06-07T02:27:13.764423Z",
     "shell.execute_reply.started": "2022-06-07T02:26:56.001913Z"
    }
   },
   "outputs": [],
   "source": [
    "from astropy.io import fits\n",
    "import numpy as np\n",
    "from multiprocessing import Process\n",
    "from sklearn.neighbors import BallTree\n",
    "from astropy.cosmology import FlatLambdaCDM\n",
    "from scipy.interpolate import interp1d\n",
    "import matplotlib.pyplot as plt\n",
    "import matplotlib as mpl\n",
    "%matplotlib inline\n",
    "from astropy.table import Table,Column,vstack,hstack\n",
    "from astropy.io import ascii\n",
    "import os\n",
    "import matplotlib.colors as mcolors"
   ]
  },
  {
   "cell_type": "code",
   "execution_count": 2,
   "id": "d7140fcc-16bb-4e94-a7aa-b37290d4f1ed",
   "metadata": {
    "execution": {
     "iopub.execute_input": "2022-06-07T02:44:35.942916Z",
     "iopub.status.busy": "2022-06-07T02:44:35.942615Z",
     "iopub.status.idle": "2022-06-07T02:44:41.074296Z",
     "shell.execute_reply": "2022-06-07T02:44:41.073433Z",
     "shell.execute_reply.started": "2022-06-07T02:44:35.942894Z"
    }
   },
   "outputs": [],
   "source": [
    "from astropy.cosmology import FlatLambdaCDM,z_at_value\n",
    "cosmo = FlatLambdaCDM(H0 = 67.74,Om0 = 0.3089,Ob0 = 0.0486)\n",
    "import matplotlib.pyplot as plt\n",
    "import astropy.units as u\n",
    "import pandas as pd"
   ]
  },
  {
   "cell_type": "code",
   "execution_count": 3,
   "id": "0d2f8aba-c3fd-4f39-a0be-1826c860618a",
   "metadata": {
    "execution": {
     "iopub.execute_input": "2022-06-07T02:44:41.075806Z",
     "iopub.status.busy": "2022-06-07T02:44:41.075351Z",
     "iopub.status.idle": "2022-06-07T02:44:42.117638Z",
     "shell.execute_reply": "2022-06-07T02:44:42.116934Z",
     "shell.execute_reply.started": "2022-06-07T02:44:41.075783Z"
    }
   },
   "outputs": [],
   "source": [
    "import seaborn as sns\n",
    "sns.set()"
   ]
  },
  {
   "cell_type": "markdown",
   "id": "04535c3c-3a0f-46b4-9f07-3537a0e17e3c",
   "metadata": {},
   "source": [
    "# LOAD data"
   ]
  },
  {
   "cell_type": "code",
   "execution_count": 5,
   "id": "fb6e93dd-e805-4a13-be05-c597af67d255",
   "metadata": {
    "execution": {
     "iopub.execute_input": "2022-06-07T02:48:57.082684Z",
     "iopub.status.busy": "2022-06-07T02:48:57.082262Z",
     "iopub.status.idle": "2022-06-07T02:48:59.170588Z",
     "shell.execute_reply": "2022-06-07T02:48:59.169477Z",
     "shell.execute_reply.started": "2022-06-07T02:48:57.082628Z"
    }
   },
   "outputs": [],
   "source": [
    "# in = Table.read(\"/home/yunzheng/PAC/code/sdss/SEDfitting/sdss.fits\")\n",
    "out = Table.read(\"/home/yunzheng/PAC/code/sdss/spec/SEDfitting/out/results.fits\")\n",
    "# out_old = Table.read(\"./SEDfitting/out_old/results.fits\")\n",
    "bright = Table.read(\"/home/yunzheng/PAC/code/sdss/spec/spec_catalogue/spec.fits\")\n",
    "vmax = Table.read(\"/home/yunzheng/PAC/code/sdss/spec/spec_catalogue/spec_vmax.fits\")"
   ]
  },
  {
   "cell_type": "code",
   "execution_count": 55,
   "id": "d6638c95-e81c-4522-bee1-c3794402d90c",
   "metadata": {
    "execution": {
     "iopub.execute_input": "2022-06-07T03:48:28.945230Z",
     "iopub.status.busy": "2022-06-07T03:48:28.944273Z",
     "iopub.status.idle": "2022-06-07T03:48:29.018651Z",
     "shell.execute_reply": "2022-06-07T03:48:29.017958Z",
     "shell.execute_reply.started": "2022-06-07T03:48:28.945169Z"
    },
    "tags": []
   },
   "outputs": [],
   "source": [
    "u = out['bayes.param.restframe_Lnu(sdss.up)']\n",
    "r = out['bayes.param.restframe_Lnu(sdss.rp)']\n",
    "u_r = -2.5 * np.log10(u/r)\n",
    "mass = out['bayes.stellar.m_star']\n",
    "mass = np.log10(mass)\n",
    "redshift = bright['Z_1']\n",
    "g = out['bayes.param.restframe_Lnu(sdss.gp)']\n",
    "g_r = -2.5 * np.log10(g/r)\n",
    "\n",
    "\n",
    "zmax = vmax['ZMAX_LOCAL']\n",
    "zmin = vmax['ZMIN_LOCAL']"
   ]
  },
  {
   "cell_type": "markdown",
   "id": "90784b32-e1b9-415e-a9a7-7c7c591bea1e",
   "metadata": {},
   "source": [
    "## 0-0.3"
   ]
  },
  {
   "cell_type": "code",
   "execution_count": 7,
   "id": "84f535ac-1c52-4b4f-8909-d58a071498f7",
   "metadata": {
    "execution": {
     "iopub.execute_input": "2022-06-07T02:50:56.945810Z",
     "iopub.status.busy": "2022-06-07T02:50:56.945338Z",
     "iopub.status.idle": "2022-06-07T02:50:56.978448Z",
     "shell.execute_reply": "2022-06-07T02:50:56.977578Z",
     "shell.execute_reply.started": "2022-06-07T02:50:56.945784Z"
    }
   },
   "outputs": [],
   "source": [
    "index = ((redshift<=0.3)&(redshift>0))\n",
    "u_r = u_r[index]\n",
    "# g_r = g_r[index]\n",
    "mass = mass[index]\n",
    "redshift = redshift[index]\n",
    "# u_r_0 = u_r_0[index]\n",
    "zmax = zmax[index]\n",
    "zmin = zmin[index]"
   ]
  },
  {
   "cell_type": "code",
   "execution_count": 8,
   "id": "bb27e9a7-516f-44dd-869c-7c914189d209",
   "metadata": {
    "execution": {
     "iopub.execute_input": "2022-06-07T02:51:02.942602Z",
     "iopub.status.busy": "2022-06-07T02:51:02.942469Z",
     "iopub.status.idle": "2022-06-07T02:51:02.946373Z",
     "shell.execute_reply": "2022-06-07T02:51:02.945941Z",
     "shell.execute_reply.started": "2022-06-07T02:51:02.942587Z"
    }
   },
   "outputs": [
    {
     "data": {
      "text/plain": [
       "(483207,)"
      ]
     },
     "execution_count": 8,
     "metadata": {},
     "output_type": "execute_result"
    }
   ],
   "source": [
    "mass.shape"
   ]
  },
  {
   "cell_type": "code",
   "execution_count": 10,
   "id": "09208f6c-c915-4c30-9422-a134c655f066",
   "metadata": {
    "execution": {
     "iopub.execute_input": "2022-06-07T02:51:26.942593Z",
     "iopub.status.busy": "2022-06-07T02:51:26.942324Z",
     "iopub.status.idle": "2022-06-07T02:51:26.945397Z",
     "shell.execute_reply": "2022-06-07T02:51:26.944951Z",
     "shell.execute_reply.started": "2022-06-07T02:51:26.942577Z"
    }
   },
   "outputs": [],
   "source": [
    "zmax[zmax>0.3]=0.3"
   ]
  },
  {
   "cell_type": "code",
   "execution_count": 15,
   "id": "c44fb6f0-e606-4187-9c10-124f0461920e",
   "metadata": {
    "execution": {
     "iopub.execute_input": "2022-06-07T03:00:24.182771Z",
     "iopub.status.busy": "2022-06-07T03:00:24.182603Z",
     "iopub.status.idle": "2022-06-07T03:00:24.188982Z",
     "shell.execute_reply": "2022-06-07T03:00:24.188297Z",
     "shell.execute_reply.started": "2022-06-07T03:00:24.182751Z"
    }
   },
   "outputs": [
    {
     "data": {
      "text/plain": [
       "3.983275458106762"
      ]
     },
     "execution_count": 15,
     "metadata": {},
     "output_type": "execute_result"
    }
   ],
   "source": [
    "np.max(u_r)"
   ]
  },
  {
   "cell_type": "code",
   "execution_count": 16,
   "id": "f67c055f-5a9d-47e7-966f-9d7ed248bf8b",
   "metadata": {
    "execution": {
     "iopub.execute_input": "2022-06-07T03:00:29.381778Z",
     "iopub.status.busy": "2022-06-07T03:00:29.381510Z",
     "iopub.status.idle": "2022-06-07T03:00:29.385444Z",
     "shell.execute_reply": "2022-06-07T03:00:29.384932Z",
     "shell.execute_reply.started": "2022-06-07T03:00:29.381761Z"
    }
   },
   "outputs": [
    {
     "data": {
      "text/plain": [
       "0.007852294698938478"
      ]
     },
     "execution_count": 16,
     "metadata": {},
     "output_type": "execute_result"
    }
   ],
   "source": [
    "np.min(u_r)"
   ]
  },
  {
   "cell_type": "code",
   "execution_count": 11,
   "id": "091902aa-cf00-4b2a-9a0e-190aa50010f5",
   "metadata": {
    "execution": {
     "iopub.execute_input": "2022-06-07T02:52:29.992712Z",
     "iopub.status.busy": "2022-06-07T02:52:29.992559Z",
     "iopub.status.idle": "2022-06-07T02:54:01.476515Z",
     "shell.execute_reply": "2022-06-07T02:54:01.475314Z",
     "shell.execute_reply.started": "2022-06-07T02:52:29.992697Z"
    }
   },
   "outputs": [
    {
     "name": "stdout",
     "output_type": "stream",
     "text": [
      "7830226036.307256\n"
     ]
    }
   ],
   "source": [
    "Vtotal = cosmo.comoving_volume(0.3) - cosmo.comoving_volume(0.0)\n",
    "print(Vtotal.value)\n",
    "\n",
    "V_0 = []\n",
    "for i in range(len(zmax)):\n",
    "    temp = cosmo.comoving_volume(zmax[i]) - cosmo.comoving_volume(0.0)\n",
    "    V_0.append(temp.value)\n",
    "    \n",
    "V_1 = np.array(V_0)\n",
    "weight1 = Vtotal.value/V_1"
   ]
  },
  {
   "cell_type": "code",
   "execution_count": 38,
   "id": "b16bde8a-9732-4e63-999c-1a84f09c627d",
   "metadata": {
    "execution": {
     "iopub.execute_input": "2022-06-07T03:20:23.944179Z",
     "iopub.status.busy": "2022-06-07T03:20:23.943305Z",
     "iopub.status.idle": "2022-06-07T03:20:24.265717Z",
     "shell.execute_reply": "2022-06-07T03:20:24.264418Z",
     "shell.execute_reply.started": "2022-06-07T03:20:23.944116Z"
    },
    "tags": []
   },
   "outputs": [
    {
     "data": {
      "image/png": "[encoded data removed]",
      "text/plain": [
       "<Figure size 576x432 with 2 Axes>"
      ]
     },
     "metadata": {},
     "output_type": "display_data"
    }
   ],
   "source": [
    "plt.figure(figsize = (8,6))\n",
    "counts, xbins, ybins = np.histogram2d(mass, u_r,  bins=[30,50],range=[[9,12],[0,4]],weights = weight1)\n",
    "# print(xbins)\n",
    "counts = counts.T\n",
    "counts = counts[::-1]\n",
    "# weight2 = counts / np.sum(counts,axis = 0)\n",
    "# weight2[weight2==0]=np.nan\n",
    "plt.imshow(counts,cmap='rainbow',extent=[xbins[0],xbins[-1],ybins[0],ybins[-1]],aspect='auto')\n",
    "plt.colorbar()\n",
    "# plt.plot([9.0,0.52796795083083],[10,0.5819679508308301],color = \"red\",linewidth = 2,label=\"cut\")\n",
    "# plt.plot([9.0,12.0],[0.52796795083083,0.6899679508308301],\"white\",linewidth = 2,label=\"cut\")\n",
    "plt.plot([9.0,12.0],[1.885,2.215],\"-\",color = \"white\",linewidth = 4,label=\"cut\")\n",
    "\n",
    "plt.xlabel(\"$log M_*$\")\n",
    "plt.ylabel(\"u-r\")\n",
    "plt.xlim(9,11.5)\n",
    "# plt.ylim(0,3)\n",
    "plt.title(\"$sdss \\ Redshift : 0.0 \\sim 0.3$\")\n",
    "plt.savefig(\"./sdss_number_0_3.pdf\",dpi = 100)"
   ]
  },
  {
   "cell_type": "code",
   "execution_count": 36,
   "id": "a0a45f82-d081-47d6-a184-0a00dd2a1799",
   "metadata": {
    "execution": {
     "iopub.execute_input": "2022-06-07T03:19:26.943243Z",
     "iopub.status.busy": "2022-06-07T03:19:26.943038Z",
     "iopub.status.idle": "2022-06-07T03:19:26.946324Z",
     "shell.execute_reply": "2022-06-07T03:19:26.945900Z",
     "shell.execute_reply.started": "2022-06-07T03:19:26.943227Z"
    },
    "tags": []
   },
   "outputs": [
    {
     "data": {
      "text/plain": [
       "1.8849999999999998"
      ]
     },
     "execution_count": 36,
     "metadata": {},
     "output_type": "execute_result"
    }
   ],
   "source": [
    "0.11*9 - 0.45 * 0.1 +0.94"
   ]
  },
  {
   "cell_type": "code",
   "execution_count": 37,
   "id": "1b934b29-1bda-45a8-9224-82f6eae2131f",
   "metadata": {
    "execution": {
     "iopub.execute_input": "2022-06-07T03:20:04.945182Z",
     "iopub.status.busy": "2022-06-07T03:20:04.945016Z",
     "iopub.status.idle": "2022-06-07T03:20:05.260481Z",
     "shell.execute_reply": "2022-06-07T03:20:05.259990Z",
     "shell.execute_reply.started": "2022-06-07T03:20:04.945167Z"
    },
    "tags": []
   },
   "outputs": [
    {
     "data": {
      "image/png": "[encoded data removed]",
      "text/plain": [
       "<Figure size 576x432 with 2 Axes>"
      ]
     },
     "metadata": {},
     "output_type": "display_data"
    }
   ],
   "source": [
    "plt.figure(figsize = (8,6))\n",
    "counts, xbins, ybins = np.histogram2d(mass, u_r,  bins=[30,50],range=[[9,12],[0,4]],weights = weight1)\n",
    "# print(xbins)\n",
    "counts = counts.T\n",
    "counts = counts[::-1]\n",
    "weight2 = counts / np.sum(counts,axis = 0)\n",
    "weight2[weight2==0]=np.nan\n",
    "plt.imshow(weight2,cmap='rainbow',extent=[xbins[0],xbins[-1],ybins[0],ybins[-1]],aspect='auto',vmax = 0.1)\n",
    "plt.colorbar()\n",
    "# plt.plot([9.0,0.52796795083083],[10,0.5819679508308301],color = \"red\",linewidth = 2,label=\"cut\")\n",
    "# plt.plot([9.0,12.0],[0.52796795083083,0.6899679508308301],\"white\",linewidth = 2,label=\"cut\")\n",
    "plt.plot([9.0,12.0],[1.885,2.215],\"-\",color = \"white\",linewidth = 4,label=\"cut\")\n",
    "\n",
    "plt.xlabel(\"$log M_*$\")\n",
    "plt.ylabel(\"u-r\")\n",
    "plt.xlim(9,11.5)\n",
    "# plt.ylim(0,3)\n",
    "plt.title(\"$sdss \\ Redshift : 0.0 \\sim 0.3$\")\n",
    "plt.savefig(\"./sdss_density_0_3.pdf\",dpi = 100)"
   ]
  },
  {
   "cell_type": "code",
   "execution_count": 54,
   "id": "1d5c5597-59b8-45df-a0e9-f46baa563e34",
   "metadata": {
    "execution": {
     "iopub.execute_input": "2022-06-07T03:48:18.944015Z",
     "iopub.status.busy": "2022-06-07T03:48:18.943849Z",
     "iopub.status.idle": "2022-06-07T03:48:18.960243Z",
     "shell.execute_reply": "2022-06-07T03:48:18.959615Z",
     "shell.execute_reply.started": "2022-06-07T03:48:18.943997Z"
    },
    "tags": []
   },
   "outputs": [],
   "source": [
    "np.save(\"./sdss_0_3.npy\",np.array([mass,u_r,weight1]))"
   ]
  },
  {
   "cell_type": "code",
   "execution_count": 43,
   "id": "aaac3180-67d7-46c4-b14c-2a120687ab4d",
   "metadata": {
    "execution": {
     "iopub.execute_input": "2022-06-07T03:23:09.946544Z",
     "iopub.status.busy": "2022-06-07T03:23:09.946057Z",
     "iopub.status.idle": "2022-06-07T03:23:10.027023Z",
     "shell.execute_reply": "2022-06-07T03:23:10.026203Z",
     "shell.execute_reply.started": "2022-06-07T03:23:09.946489Z"
    },
    "tags": []
   },
   "outputs": [
    {
     "name": "stdout",
     "output_type": "stream",
     "text": [
      "The length of All: 24269\n",
      "5169225.251747261\n",
      "The length of up: 3173\n",
      "1514288.644003822\n",
      "The length of down: 21096\n",
      "3654936.607743439\n",
      "The length of All: 54388\n",
      "3623009.2940497375\n",
      "The length of up: 14058\n",
      "1683341.630575599\n",
      "The length of down: 40330\n",
      "1939667.6634741388\n",
      "The length of All: 119216\n",
      "2919747.8239447484\n",
      "The length of up: 63912\n",
      "2084665.8009818757\n",
      "The length of down: 55304\n",
      "835082.0229628729\n",
      "The length of All: 178410\n",
      "1627753.640753088\n",
      "The length of up: 146077\n",
      "1460222.9612976774\n",
      "The length of down: 32333\n",
      "167530.6794554104\n"
     ]
    }
   ],
   "source": [
    "massbin = np.array([9.0,9.5,10.0,10.5,11])\n",
    "All = np.zeros(4)\n",
    "up = np.zeros(4)\n",
    "down = np.zeros(4)\n",
    "frac = np.zeros(4)\n",
    "for i in range(len(massbin)-1):\n",
    "    index = ((mass>=massbin[i])&(mass<massbin[i+1])&(u_r>=0.0)&(u_r<=4.0))\n",
    "    All[i] = np.sum(weight1[index])\n",
    "    print(\"The length of All:\",len(weight1[index]))\n",
    "    print(All[i])\n",
    "    cut = ((u_r[index]-(0.11 * mass[index] - 0.45 * 0.1 + 0.94))>0)\n",
    "    up[i] = np.sum(weight1[index][cut])\n",
    "    print(\"The length of up:\",len(weight1[index][cut]))\n",
    "    print(up[i])\n",
    "    down[i] = np.sum(weight1[index][~cut])\n",
    "    print(\"The length of down:\",len(weight1[index][~cut]))\n",
    "    print(down[i])"
   ]
  },
  {
   "cell_type": "code",
   "execution_count": 53,
   "id": "eca1e050-c0b6-47e7-b9bc-cb291b48a6af",
   "metadata": {
    "execution": {
     "iopub.execute_input": "2022-06-07T03:47:53.944961Z",
     "iopub.status.busy": "2022-06-07T03:47:53.944821Z",
     "iopub.status.idle": "2022-06-07T03:47:54.097179Z",
     "shell.execute_reply": "2022-06-07T03:47:54.096334Z",
     "shell.execute_reply.started": "2022-06-07T03:47:53.944946Z"
    },
    "tags": []
   },
   "outputs": [
    {
     "data": {
      "image/png": "[encoded data removed]",
      "text/plain": [
       "<Figure size 432x288 with 1 Axes>"
      ]
     },
     "metadata": {},
     "output_type": "display_data"
    }
   ],
   "source": [
    "frac = up / All\n",
    "massbin_0 = 0.5 * (massbin[1:]+massbin[:-1])\n",
    "plt.scatter(massbin_0,frac)\n",
    "plt.xlabel(\"$log M_*$\")\n",
    "plt.ylabel(\"Fraction\")\n",
    "plt.title(\"$sdss \\ Redshift : 0.0 \\sim 0.3$\")\n",
    "plt.xticks(np.arange(9, 11.1, step=0.5))\n",
    "plt.yticks(np.arange(0, 1.01, step=0.2))\n",
    "plt.savefig(\"./sdss_frac_0_3.pdf\",dpi=100)"
   ]
  },
  {
   "cell_type": "markdown",
   "id": "d4208129-3ee5-4d4d-ad58-8d7454d8ce60",
   "metadata": {},
   "source": [
    "## 0-0.2"
   ]
  },
  {
   "cell_type": "code",
   "execution_count": 56,
   "id": "a5f657e0-ed78-4a64-9f5f-ca5bf3f79665",
   "metadata": {
    "execution": {
     "iopub.execute_input": "2022-06-07T03:49:18.944780Z",
     "iopub.status.busy": "2022-06-07T03:49:18.944239Z",
     "iopub.status.idle": "2022-06-07T03:49:18.970270Z",
     "shell.execute_reply": "2022-06-07T03:49:18.969158Z",
     "shell.execute_reply.started": "2022-06-07T03:49:18.944722Z"
    }
   },
   "outputs": [],
   "source": [
    "index = ((redshift<=0.2)&(redshift>0.0))\n",
    "u_r = u_r[index]\n",
    "g_r = g_r[index]\n",
    "mass = mass[index]\n",
    "redshift = redshift[index]\n",
    "# u_r_0 = u_r_0[index]\n",
    "zmax = zmax[index]\n",
    "zmin = zmin[index]"
   ]
  },
  {
   "cell_type": "code",
   "execution_count": 57,
   "id": "c98a6bad-2e5f-477c-9b88-d1b9984b4d88",
   "metadata": {
    "execution": {
     "iopub.execute_input": "2022-06-07T03:49:23.944305Z",
     "iopub.status.busy": "2022-06-07T03:49:23.944066Z",
     "iopub.status.idle": "2022-06-07T03:49:23.947616Z",
     "shell.execute_reply": "2022-06-07T03:49:23.947188Z",
     "shell.execute_reply.started": "2022-06-07T03:49:23.944288Z"
    }
   },
   "outputs": [
    {
     "data": {
      "text/plain": [
       "(465225,)"
      ]
     },
     "execution_count": 57,
     "metadata": {},
     "output_type": "execute_result"
    }
   ],
   "source": [
    "u_r.shape"
   ]
  },
  {
   "cell_type": "code",
   "execution_count": 58,
   "id": "6a5950c1-ba18-4ae0-865a-1938391e8e35",
   "metadata": {
    "execution": {
     "iopub.execute_input": "2022-06-07T03:49:41.948995Z",
     "iopub.status.busy": "2022-06-07T03:49:41.948312Z",
     "iopub.status.idle": "2022-06-07T03:49:41.954023Z",
     "shell.execute_reply": "2022-06-07T03:49:41.952937Z",
     "shell.execute_reply.started": "2022-06-07T03:49:41.948936Z"
    }
   },
   "outputs": [],
   "source": [
    "zmax[zmax>0.2] = 0.2"
   ]
  },
  {
   "cell_type": "code",
   "execution_count": 59,
   "id": "44ac4285-8f97-42ae-8f5b-dc1050039ecf",
   "metadata": {
    "execution": {
     "iopub.execute_input": "2022-06-07T04:20:13.197818Z",
     "iopub.status.busy": "2022-06-07T04:20:13.197486Z",
     "iopub.status.idle": "2022-06-07T04:21:38.921115Z",
     "shell.execute_reply": "2022-06-07T04:21:38.920197Z",
     "shell.execute_reply.started": "2022-06-07T04:20:13.197797Z"
    }
   },
   "outputs": [
    {
     "name": "stdout",
     "output_type": "stream",
     "text": [
      "2508203453.492786\n"
     ]
    }
   ],
   "source": [
    "Vtotal = cosmo.comoving_volume(0.2) - cosmo.comoving_volume(0.0)\n",
    "print(Vtotal.value)\n",
    "\n",
    "V_0 = []\n",
    "for i in range(len(zmax)):\n",
    "    temp = cosmo.comoving_volume(zmax[i]) - cosmo.comoving_volume(0.0)\n",
    "    V_0.append(temp.value)\n",
    "    \n",
    "V_1 = np.array(V_0)\n",
    "weight1 = Vtotal.value/V_1"
   ]
  },
  {
   "cell_type": "code",
   "execution_count": 61,
   "id": "f50caf19-2d51-48d5-ba94-d5cea1a398f4",
   "metadata": {
    "execution": {
     "iopub.execute_input": "2022-06-07T04:22:43.045710Z",
     "iopub.status.busy": "2022-06-07T04:22:43.045523Z",
     "iopub.status.idle": "2022-06-07T04:22:43.350530Z",
     "shell.execute_reply": "2022-06-07T04:22:43.349832Z",
     "shell.execute_reply.started": "2022-06-07T04:22:43.045689Z"
    },
    "tags": []
   },
   "outputs": [
    {
     "data": {
      "image/png": "[encoded data removed]",
      "text/plain": [
       "<Figure size 576x432 with 2 Axes>"
      ]
     },
     "metadata": {},
     "output_type": "display_data"
    }
   ],
   "source": [
    "plt.figure(figsize = (8,6))\n",
    "counts, xbins, ybins = np.histogram2d(mass, u_r,  bins=[30,50],range=[[9,12],[0,4]],weights = weight1)\n",
    "# print(xbins)\n",
    "counts = counts.T\n",
    "counts = counts[::-1]\n",
    "# weight2 = counts / np.sum(counts,axis = 0)\n",
    "# weight2[weight2==0]=np.nan\n",
    "plt.imshow(counts,cmap='rainbow',extent=[xbins[0],xbins[-1],ybins[0],ybins[-1]],aspect='auto')\n",
    "plt.colorbar()\n",
    "# plt.plot([9.0,0.52796795083083],[10,0.5819679508308301],color = \"red\",linewidth = 2,label=\"cut\")\n",
    "# plt.plot([9.0,12.0],[0.52796795083083,0.6899679508308301],\"white\",linewidth = 2,label=\"cut\")\n",
    "plt.plot([9.0,12.0],[1.885,2.215],\"-\",color = \"white\",linewidth = 4,label=\"cut\")\n",
    "\n",
    "plt.xlabel(\"$log M_*$\")\n",
    "plt.ylabel(\"u-r\")\n",
    "plt.xlim(9,11.5)\n",
    "# plt.ylim(0,3)\n",
    "plt.title(\"$sdss \\ Redshift : 0.0 \\sim 0.2$\")\n",
    "plt.savefig(\"./sdss_number_0_2.pdf\",dpi = 100)"
   ]
  },
  {
   "cell_type": "code",
   "execution_count": 64,
   "id": "03814707-52c5-47cd-8176-b32970b0de50",
   "metadata": {
    "execution": {
     "iopub.execute_input": "2022-06-07T04:24:17.046204Z",
     "iopub.status.busy": "2022-06-07T04:24:17.046014Z",
     "iopub.status.idle": "2022-06-07T04:24:17.470039Z",
     "shell.execute_reply": "2022-06-07T04:24:17.469127Z",
     "shell.execute_reply.started": "2022-06-07T04:24:17.046185Z"
    },
    "tags": []
   },
   "outputs": [
    {
     "data": {
      "image/png": "[encoded data removed]",
      "text/plain": [
       "<Figure size 576x432 with 2 Axes>"
      ]
     },
     "metadata": {},
     "output_type": "display_data"
    }
   ],
   "source": [
    "plt.figure(figsize = (8,6))\n",
    "counts, xbins, ybins = np.histogram2d(mass, u_r,  bins=[30,50],range=[[9,12],[0,4]],weights = weight1)\n",
    "# print(xbins)\n",
    "counts = counts.T\n",
    "counts = counts[::-1]\n",
    "weight2 = counts / np.sum(counts,axis = 0)\n",
    "weight2[weight2==0]=np.nan\n",
    "plt.imshow(weight2,cmap='rainbow',extent=[xbins[0],xbins[-1],ybins[0],ybins[-1]],aspect='auto',vmax = 0.1)\n",
    "plt.colorbar()\n",
    "# plt.plot([9.0,0.52796795083083],[10,0.5819679508308301],color = \"red\",linewidth = 2,label=\"cut\")\n",
    "# plt.plot([9.0,12.0],[0.52796795083083,0.6899679508308301],\"white\",linewidth = 2,label=\"cut\")\n",
    "plt.plot([9.0,12.0],[1.885,2.215],\"-\",color = \"white\",linewidth = 4,label=\"cut\")\n",
    "\n",
    "plt.xlabel(\"$log M_*$\")\n",
    "plt.ylabel(\"u-r\")\n",
    "plt.xlim(9,11.5)\n",
    "# plt.ylim(0,3)\n",
    "plt.title(\"$sdss \\ Redshift : 0.0 \\sim 0.2$\")\n",
    "plt.savefig(\"./sdss_density_0_2.pdf\",dpi = 100)"
   ]
  },
  {
   "cell_type": "code",
   "execution_count": 65,
   "id": "2cb21358-1294-4172-bebe-797b6d49a43c",
   "metadata": {
    "execution": {
     "iopub.execute_input": "2022-06-07T04:24:57.104733Z",
     "iopub.status.busy": "2022-06-07T04:24:57.104225Z",
     "iopub.status.idle": "2022-06-07T04:24:57.121337Z",
     "shell.execute_reply": "2022-06-07T04:24:57.120237Z",
     "shell.execute_reply.started": "2022-06-07T04:24:57.104707Z"
    }
   },
   "outputs": [],
   "source": [
    "np.save(\"./sdss_0_2.npy\",np.array([mass,u_r,weight1]))"
   ]
  },
  {
   "cell_type": "code",
   "execution_count": 66,
   "id": "51a437f2-2913-4d5b-8ecf-cd68d985d517",
   "metadata": {
    "execution": {
     "iopub.execute_input": "2022-06-07T04:25:19.100271Z",
     "iopub.status.busy": "2022-06-07T04:25:19.099933Z",
     "iopub.status.idle": "2022-06-07T04:25:19.176971Z",
     "shell.execute_reply": "2022-06-07T04:25:19.175997Z",
     "shell.execute_reply.started": "2022-06-07T04:25:19.100249Z"
    },
    "tags": []
   },
   "outputs": [
    {
     "name": "stdout",
     "output_type": "stream",
     "text": [
      "The length of All: 24269\n",
      "1655823.0334853944\n",
      "The length of up: 3173\n",
      "485061.8601383956\n",
      "The length of down: 21096\n",
      "1170761.1733469986\n",
      "The length of All: 54387\n",
      "1160533.9814064577\n",
      "The length of up: 14058\n",
      "539213.4622475179\n",
      "The length of down: 40329\n",
      "621320.5191589396\n",
      "The length of All: 119194\n",
      "935256.0022758582\n",
      "The length of up: 63912\n",
      "667766.9248826612\n",
      "The length of down: 55282\n",
      "267489.07739319705\n",
      "The length of All: 176880\n",
      "521007.2450935462\n",
      "The length of up: 145922\n",
      "467709.02793244127\n",
      "The length of down: 30958\n",
      "53298.217161105036\n"
     ]
    }
   ],
   "source": [
    "massbin = np.array([9.0,9.5,10.0,10.5,11])\n",
    "All = np.zeros(4)\n",
    "up = np.zeros(4)\n",
    "down = np.zeros(4)\n",
    "frac = np.zeros(4)\n",
    "for i in range(len(massbin)-1):\n",
    "    index = ((mass>=massbin[i])&(mass<massbin[i+1])&(u_r>=0.0)&(u_r<=4.0))\n",
    "    All[i] = np.sum(weight1[index])\n",
    "    print(\"The length of All:\",len(weight1[index]))\n",
    "    print(All[i])\n",
    "    cut = ((u_r[index]-(0.11 * mass[index] - 0.45 * 0.1 + 0.94))>0)\n",
    "    up[i] = np.sum(weight1[index][cut])\n",
    "    print(\"The length of up:\",len(weight1[index][cut]))\n",
    "    print(up[i])\n",
    "    down[i] = np.sum(weight1[index][~cut])\n",
    "    print(\"The length of down:\",len(weight1[index][~cut]))\n",
    "    print(down[i])"
   ]
  },
  {
   "cell_type": "code",
   "execution_count": 69,
   "id": "3098ceef-f1ef-4acb-bc78-59ff0a2fc459",
   "metadata": {
    "execution": {
     "iopub.execute_input": "2022-06-07T04:27:58.046546Z",
     "iopub.status.busy": "2022-06-07T04:27:58.045989Z",
     "iopub.status.idle": "2022-06-07T04:27:58.206589Z",
     "shell.execute_reply": "2022-06-07T04:27:58.205775Z",
     "shell.execute_reply.started": "2022-06-07T04:27:58.046489Z"
    },
    "tags": []
   },
   "outputs": [
    {
     "data": {
      "image/png": "[encoded data removed]",
      "text/plain": [
       "<Figure size 432x288 with 1 Axes>"
      ]
     },
     "metadata": {},
     "output_type": "display_data"
    }
   ],
   "source": [
    "frac = up / All\n",
    "massbin_0 = 0.5 * (massbin[1:]+massbin[:-1])\n",
    "plt.scatter(massbin_0,frac)\n",
    "plt.xlabel(\"$log M_*$\")\n",
    "plt.ylabel(\"Fraction\")\n",
    "plt.title(\"$sdss \\ Redshift : 0.0 \\sim 0.2$\")\n",
    "plt.xticks(np.arange(9, 11.1, step=0.5))\n",
    "plt.yticks(np.arange(0, 1.01, step=0.2))\n",
    "plt.savefig(\"./sdss_frac_0_2.pdf\",dpi=100)"
   ]
  },
  {
   "cell_type": "code",
   "execution_count": 68,
   "id": "0c24519e-a3fe-426a-9faa-86339fb80e2b",
   "metadata": {
    "execution": {
     "iopub.execute_input": "2022-06-07T04:26:19.059746Z",
     "iopub.status.busy": "2022-06-07T04:26:19.059574Z",
     "iopub.status.idle": "2022-06-07T04:26:19.064714Z",
     "shell.execute_reply": "2022-06-07T04:26:19.063948Z",
     "shell.execute_reply.started": "2022-06-07T04:26:19.059727Z"
    }
   },
   "outputs": [
    {
     "data": {
      "text/plain": [
       "array([0.29294306, 0.46462531, 0.71399373, 0.89770158])"
      ]
     },
     "execution_count": 68,
     "metadata": {},
     "output_type": "execute_result"
    }
   ],
   "source": [
    "frac"
   ]
  },
  {
   "cell_type": "code",
   "execution_count": null,
   "id": "197a70ed-a109-468d-8e3f-339f92063f5e",
   "metadata": {},
   "outputs": [],
   "source": []
  }
 ],
 "metadata": {
  "kernelspec": {
   "display_name": "numba38",
   "language": "python",
   "name": "numba38"
  },
  "language_info": {
   "codemirror_mode": {
    "name": "ipython",
    "version": 3
   },
   "file_extension": ".py",
   "mimetype": "text/x-python",
   "name": "python",
   "nbconvert_exporter": "python",
   "pygments_lexer": "ipython3",
   "version": "3.8.12"
  }
 },
 "nbformat": 4,
 "nbformat_minor": 5
}
