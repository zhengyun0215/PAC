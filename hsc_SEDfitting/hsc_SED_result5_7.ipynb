{
 "cells": [
  {
   "cell_type": "markdown",
   "id": "90f8afd2-4fa3-41be-a35a-bc9e2632a23f",
   "metadata": {},
   "source": [
    "# Load package"
   ]
  },
  {
   "cell_type": "code",
   "execution_count": 1,
   "id": "6895bd38-b7db-407d-b2e6-e70b762f2214",
   "metadata": {
    "execution": {
     "iopub.execute_input": "2022-05-30T01:54:14.516152Z",
     "iopub.status.busy": "2022-05-30T01:54:14.515922Z",
     "iopub.status.idle": "2022-05-30T01:54:33.029268Z",
     "shell.execute_reply": "2022-05-30T01:54:33.028004Z",
     "shell.execute_reply.started": "2022-05-30T01:54:14.516095Z"
    },
    "tags": []
   },
   "outputs": [],
   "source": [
    "# from astropy import table\n",
    "import numpy as np\n",
    "import matplotlib.pyplot as plt\n",
    "import matplotlib as mpl\n",
    "%matplotlib inline\n",
    "from astropy.table import Table,Column,hstack\n",
    "from astropy.io import fits"
   ]
  },
  {
   "cell_type": "markdown",
   "id": "52d9a95f-b712-41e3-9472-bc22b77c7347",
   "metadata": {},
   "source": [
    "# Load data"
   ]
  },
  {
   "cell_type": "code",
   "execution_count": 3,
   "id": "bf3b8c17-30ce-48ff-afa2-ca275d78c134",
   "metadata": {
    "execution": {
     "iopub.execute_input": "2021-11-28T03:50:08.582095Z",
     "iopub.status.busy": "2021-11-28T03:50:08.581879Z",
     "iopub.status.idle": "2021-11-28T03:50:08.723545Z",
     "shell.execute_reply": "2021-11-28T03:50:08.723079Z",
     "shell.execute_reply.started": "2021-11-28T03:50:08.582072Z"
    },
    "tags": []
   },
   "outputs": [
    {
     "name": "stdout",
     "output_type": "stream",
     "text": [
      "/home/yunzheng/PAC/code/hsc_SEDfitting\n"
     ]
    }
   ],
   "source": [
    "!pwd"
   ]
  },
  {
   "cell_type": "code",
   "execution_count": 8,
   "id": "93d6e49b-c932-4b02-8719-7b33cdd9320e",
   "metadata": {
    "execution": {
     "iopub.execute_input": "2021-11-28T04:10:32.423684Z",
     "iopub.status.busy": "2021-11-28T04:10:32.423438Z",
     "iopub.status.idle": "2021-11-28T04:10:34.181185Z",
     "shell.execute_reply": "2021-11-28T04:10:34.180709Z",
     "shell.execute_reply.started": "2021-11-28T04:10:32.423665Z"
    },
    "tags": []
   },
   "outputs": [],
   "source": [
    "result0 = Table.read(\"/home/yunzheng/PAC/code/hsc_SEDfitting/0p55/0/out/results.fits\")"
   ]
  },
  {
   "cell_type": "code",
   "execution_count": 17,
   "id": "58367de1-13ad-4f48-8065-20320647af20",
   "metadata": {
    "collapsed": true,
    "execution": {
     "iopub.execute_input": "2021-11-28T04:20:29.091679Z",
     "iopub.status.busy": "2021-11-28T04:20:29.091516Z",
     "iopub.status.idle": "2021-11-28T04:20:29.095305Z",
     "shell.execute_reply": "2021-11-28T04:20:29.094933Z",
     "shell.execute_reply.started": "2021-11-28T04:20:29.091661Z"
    },
    "jupyter": {
     "outputs_hidden": true
    },
    "tags": []
   },
   "outputs": [
    {
     "data": {
      "text/plain": [
       "<TableColumns names=('id','bayes.param.restframe_Lnu(DECam.g)','bayes.param.restframe_Lnu(DECam.g)_err','bayes.param.restframe_Lnu(DECam.r)','bayes.param.restframe_Lnu(DECam.r)_err','bayes.param.restframe_Lnu(sdss.up)','bayes.param.restframe_Lnu(sdss.up)_err','bayes.param.restframe_Lnu(subaru.hsc.g)','bayes.param.restframe_Lnu(subaru.hsc.g)_err','bayes.param.restframe_Lnu(subaru.hsc.r)','bayes.param.restframe_Lnu(subaru.hsc.r)_err','bayes.stellar.m_star','bayes.stellar.m_star_err','bayes.subaru.hsc.g','bayes.subaru.hsc.g_err','bayes.subaru.hsc.r','bayes.subaru.hsc.r_err','best.chi_square','best.reduced_chi_square','best.attenuation.E_BVs.nebular.continuum_old','best.attenuation.E_BVs.nebular.continuum_young','best.attenuation.E_BVs.nebular.lines_old','best.attenuation.E_BVs.nebular.lines_young','best.attenuation.E_BVs.stellar.old','best.attenuation.E_BVs.stellar.young','best.attenuation.ebvs_old_factor','best.attenuation.powerlaw_slope','best.attenuation.subaru.hsc.g','best.attenuation.uv_bump_amplitude','best.attenuation.uv_bump_wavelength','best.attenuation.uv_bump_width','best.nebular.f_dust','best.nebular.f_esc','best.nebular.lines_width','best.nebular.logU','best.param.restframe_DECam.g-DECam.r','best.param.restframe_sdss.up-DECam.r','best.param.restframe_sdss.up-subaru.hsc.r','best.param.restframe_subaru.hsc.g-subaru.hsc.r','best.sfh.age','best.sfh.age_burst','best.sfh.age_main','best.sfh.f_burst','best.sfh.tau_burst','best.sfh.tau_main','best.stellar.age_m_star','best.stellar.imf','best.stellar.metallicity','best.stellar.old_young_separation_age','best.universe.age','best.universe.luminosity_distance','best.universe.redshift','best.attenuation.nebular.continuum_old','best.attenuation.nebular.continuum_young','best.attenuation.nebular.lines_old','best.attenuation.nebular.lines_young','best.attenuation.stellar.old','best.attenuation.stellar.young','best.dust.luminosity','best.param.restframe_Lnu(DECam.g)','best.param.restframe_Lnu(DECam.r)','best.param.restframe_Lnu(sdss.up)','best.param.restframe_Lnu(subaru.hsc.g)','best.param.restframe_Lnu(subaru.hsc.r)','best.sfh.integrated','best.sfh.sfr','best.sfh.sfr100Myrs','best.sfh.sfr10Myrs','best.stellar.lum','best.stellar.lum_ly','best.stellar.lum_ly_old','best.stellar.lum_ly_young','best.stellar.lum_old','best.stellar.lum_young','best.stellar.m_gas','best.stellar.m_gas_old','best.stellar.m_gas_young','best.stellar.m_star','best.stellar.m_star_old','best.stellar.m_star_young','best.stellar.n_ly','best.stellar.n_ly_old','best.stellar.n_ly_young','best.subaru.hsc.g','best.subaru.hsc.r','best.subaru.hsc.i','best.subaru.hsc.z','best.subaru.hsc.y')>"
      ]
     },
     "execution_count": 17,
     "metadata": {},
     "output_type": "execute_result"
    }
   ],
   "source": [
    "result0.columns"
   ]
  },
  {
   "cell_type": "code",
   "execution_count": 23,
   "id": "92581698-6c1a-4b15-971a-c46ceb66f760",
   "metadata": {
    "execution": {
     "iopub.execute_input": "2021-11-28T04:24:21.326951Z",
     "iopub.status.busy": "2021-11-28T04:24:21.326724Z",
     "iopub.status.idle": "2021-11-28T04:24:21.388346Z",
     "shell.execute_reply": "2021-11-28T04:24:21.387951Z",
     "shell.execute_reply.started": "2021-11-28T04:24:21.326934Z"
    },
    "tags": []
   },
   "outputs": [
    {
     "name": "stderr",
     "output_type": "stream",
     "text": [
      "/tmp/ipykernel_12881/3493485282.py:2: RuntimeWarning: divide by zero encountered in log10\n",
      "  bayes_mass = np.log10(result0['bayes.stellar.m_star'])\n"
     ]
    }
   ],
   "source": [
    "bayes_ur = -2.5 * np.log10(result0['bayes.param.restframe_Lnu(sdss.up)'] / result0['bayes.param.restframe_Lnu(DECam.r)'])\n",
    "bayes_mass = np.log10(result0['bayes.stellar.m_star'])"
   ]
  },
  {
   "cell_type": "code",
   "execution_count": 18,
   "id": "87a3e6f3-3410-4416-951e-577b55f6e969",
   "metadata": {
    "collapsed": true,
    "execution": {
     "iopub.execute_input": "2021-11-28T04:21:00.570516Z",
     "iopub.status.busy": "2021-11-28T04:21:00.570130Z",
     "iopub.status.idle": "2021-11-28T04:21:00.671100Z",
     "shell.execute_reply": "2021-11-28T04:21:00.670710Z",
     "shell.execute_reply.started": "2021-11-28T04:21:00.570484Z"
    },
    "jupyter": {
     "outputs_hidden": true,
     "source_hidden": true
    },
    "tags": []
   },
   "outputs": [
    {
     "data": {
      "text/html": [
       "&lt;MaskedColumn name=&apos;best.param.restframe_Lnu(sdss.up)&apos; dtype=&apos;float64&apos; unit=&apos;W&apos; length=1028875&gt;\n",
       "<table>\n",
       "<tr><td>2.8388600279295835</td></tr>\n",
       "<tr><td>0.9876853698504928</td></tr>\n",
       "<tr><td>1.4516326206586525</td></tr>\n",
       "<tr><td>1.6671931854876096</td></tr>\n",
       "<tr><td>1.244239209361715</td></tr>\n",
       "<tr><td>2.395311581817026</td></tr>\n",
       "<tr><td>0.7359668776164214</td></tr>\n",
       "<tr><td>1.3888422286124835</td></tr>\n",
       "<tr><td>0.5804502442141761</td></tr>\n",
       "<tr><td>1.310924923595268</td></tr>\n",
       "<tr><td>1.8449680490896416</td></tr>\n",
       "<tr><td>1.8486519332962215</td></tr>\n",
       "<tr><td>...</td></tr>\n",
       "<tr><td>1.6722851898396818</td></tr>\n",
       "<tr><td>1.1286128912193591</td></tr>\n",
       "<tr><td>1.2442392093617152</td></tr>\n",
       "<tr><td>1.9813331861230483</td></tr>\n",
       "<tr><td>1.2623218425751443</td></tr>\n",
       "<tr><td>0.7851880979701977</td></tr>\n",
       "<tr><td>0.9896726638038224</td></tr>\n",
       "<tr><td>0.5770310374030542</td></tr>\n",
       "<tr><td>3.2130352790798087</td></tr>\n",
       "<tr><td>2.005019328715509</td></tr>\n",
       "<tr><td>0.7881222693652954</td></tr>\n",
       "<tr><td>0.8942355532438053</td></tr>\n",
       "</table>"
      ],
      "text/plain": [
       "<MaskedColumn name='best.param.restframe_Lnu(sdss.up)' dtype='float64' unit='W' length=1028875>\n",
       "2.8388600279295835\n",
       "0.9876853698504928\n",
       "1.4516326206586525\n",
       "1.6671931854876096\n",
       " 1.244239209361715\n",
       " 2.395311581817026\n",
       "0.7359668776164214\n",
       "1.3888422286124835\n",
       "0.5804502442141761\n",
       " 1.310924923595268\n",
       "1.8449680490896416\n",
       "1.8486519332962215\n",
       "               ...\n",
       "1.6722851898396818\n",
       "1.1286128912193591\n",
       "1.2442392093617152\n",
       "1.9813331861230483\n",
       "1.2623218425751443\n",
       "0.7851880979701977\n",
       "0.9896726638038224\n",
       "0.5770310374030542\n",
       "3.2130352790798087\n",
       " 2.005019328715509\n",
       "0.7881222693652954\n",
       "0.8942355532438053"
      ]
     },
     "execution_count": 18,
     "metadata": {},
     "output_type": "execute_result"
    }
   ],
   "source": [
    "-2.5 * np.log10(result0['best.param.restframe_Lnu(sdss.up)']/result0['best.param.restframe_Lnu(DECam.r)'])"
   ]
  },
  {
   "cell_type": "code",
   "execution_count": 24,
   "id": "11890668-8659-4c89-b997-a9c612a7b523",
   "metadata": {
    "execution": {
     "iopub.execute_input": "2021-11-28T04:24:59.910571Z",
     "iopub.status.busy": "2021-11-28T04:24:59.910300Z",
     "iopub.status.idle": "2021-11-28T04:24:59.980402Z",
     "shell.execute_reply": "2021-11-28T04:24:59.979986Z",
     "shell.execute_reply.started": "2021-11-28T04:24:59.910543Z"
    },
    "tags": []
   },
   "outputs": [],
   "source": [
    "best_ur = result0['best.param.restframe_sdss.up-DECam.r']\n",
    "best_mass = np.log10(result0['best.stellar.m_star'])"
   ]
  },
  {
   "cell_type": "code",
   "execution_count": 26,
   "id": "f34b4398-0500-46e9-b0fc-78c8a306513d",
   "metadata": {
    "collapsed": true,
    "execution": {
     "iopub.execute_input": "2021-11-28T04:26:47.533631Z",
     "iopub.status.busy": "2021-11-28T04:26:47.533385Z",
     "iopub.status.idle": "2021-11-28T04:26:47.978253Z",
     "shell.execute_reply": "2021-11-28T04:26:47.977833Z",
     "shell.execute_reply.started": "2021-11-28T04:26:47.533612Z"
    },
    "jupyter": {
     "outputs_hidden": true
    },
    "tags": []
   },
   "outputs": [
    {
     "data": {
      "text/plain": [
       "<matplotlib.collections.PathCollection at 0x2ad77254faf0>"
      ]
     },
     "execution_count": 26,
     "metadata": {},
     "output_type": "execute_result"
    },
    {
     "data": {
      "image/png": "[encoded data removed]",
      "text/plain": [
       "<Figure size 576x576 with 1 Axes>"
      ]
     },
     "metadata": {
      "needs_background": "light"
     },
     "output_type": "display_data"
    }
   ],
   "source": [
    "plt.figure(figsize = (8,8))\n",
    "plt.scatter(best_ur,bayes_ur,s = 0.1)"
   ]
  },
  {
   "cell_type": "code",
   "execution_count": 29,
   "id": "6e4ffbea-6d4b-4957-a7bf-eb25d3db43ea",
   "metadata": {
    "collapsed": true,
    "execution": {
     "iopub.execute_input": "2021-11-28T04:28:49.490980Z",
     "iopub.status.busy": "2021-11-28T04:28:49.490701Z",
     "iopub.status.idle": "2021-11-28T04:28:49.924066Z",
     "shell.execute_reply": "2021-11-28T04:28:49.923660Z",
     "shell.execute_reply.started": "2021-11-28T04:28:49.490958Z"
    },
    "jupyter": {
     "outputs_hidden": true
    },
    "tags": []
   },
   "outputs": [
    {
     "data": {
      "text/plain": [
       "(4.0, 13.0)"
      ]
     },
     "execution_count": 29,
     "metadata": {},
     "output_type": "execute_result"
    },
    {
     "data": {
      "image/png": "[encoded data removed]",
      "text/plain": [
       "<Figure size 576x576 with 1 Axes>"
      ]
     },
     "metadata": {
      "needs_background": "light"
     },
     "output_type": "display_data"
    }
   ],
   "source": [
    "plt.figure(figsize = (8,8))\n",
    "plt.scatter(best_mass,bayes_mass,s = 0.1)\n",
    "plt.plot([4,13],[4,13])\n",
    "plt.xlim(4,13)\n",
    "plt.ylim(4,13)"
   ]
  },
  {
   "cell_type": "code",
   "execution_count": 30,
   "id": "6ddb3478-8644-4702-8461-946865ebdbcd",
   "metadata": {
    "execution": {
     "iopub.execute_input": "2021-11-28T07:15:00.087808Z",
     "iopub.status.busy": "2021-11-28T07:15:00.087620Z",
     "iopub.status.idle": "2021-11-28T07:15:00.090058Z",
     "shell.execute_reply": "2021-11-28T07:15:00.089671Z",
     "shell.execute_reply.started": "2021-11-28T07:15:00.087789Z"
    }
   },
   "outputs": [],
   "source": [
    "z = ['0p65']"
   ]
  },
  {
   "cell_type": "code",
   "execution_count": 32,
   "id": "20b1f09d-dd5b-4bf8-87db-dbe79a5885e8",
   "metadata": {
    "execution": {
     "iopub.execute_input": "2021-11-28T07:15:08.090638Z",
     "iopub.status.busy": "2021-11-28T07:15:08.090444Z",
     "iopub.status.idle": "2021-11-28T07:15:08.093359Z",
     "shell.execute_reply": "2021-11-28T07:15:08.093007Z",
     "shell.execute_reply.started": "2021-11-28T07:15:08.090622Z"
    },
    "tags": []
   },
   "outputs": [
    {
     "data": {
      "text/plain": [
       "'0p65'"
      ]
     },
     "execution_count": 32,
     "metadata": {},
     "output_type": "execute_result"
    }
   ],
   "source": [
    "z[0]"
   ]
  },
  {
   "cell_type": "code",
   "execution_count": 34,
   "id": "564c14db-eafe-4408-9cd5-4dba482655e7",
   "metadata": {
    "execution": {
     "iopub.execute_input": "2021-11-28T15:00:46.953807Z",
     "iopub.status.busy": "2021-11-28T15:00:46.953620Z",
     "iopub.status.idle": "2021-11-28T15:00:51.625309Z",
     "shell.execute_reply": "2021-11-28T15:00:51.623965Z",
     "shell.execute_reply.started": "2021-11-28T15:00:46.953785Z"
    }
   },
   "outputs": [],
   "source": [
    "u = Table.read(\"/home/yunzheng/PAC/code/hsc_SEDfitting/0p35/u.fits\")\n",
    "r = Table.read(\"/home/yunzheng/PAC/code/hsc_SEDfitting/0p35/r.fits\")\n",
    "g = Table.read(\"/home/yunzheng/PAC/code/hsc_SEDfitting/0p35/g.fits\")"
   ]
  },
  {
   "cell_type": "code",
   "execution_count": 52,
   "id": "ea1909bf-c2e7-4aa9-9c5f-aafedbce5744",
   "metadata": {
    "collapsed": true,
    "execution": {
     "iopub.execute_input": "2021-11-28T15:07:08.536191Z",
     "iopub.status.busy": "2021-11-28T15:07:08.535944Z",
     "iopub.status.idle": "2021-11-28T15:07:08.540311Z",
     "shell.execute_reply": "2021-11-28T15:07:08.539874Z",
     "shell.execute_reply.started": "2021-11-28T15:07:08.536174Z"
    },
    "jupyter": {
     "outputs_hidden": true
    },
    "tags": []
   },
   "outputs": [
    {
     "data": {
      "text/html": [
       "<div><i>Table length=5</i>\n",
       "<table id=\"table47108005012528\" class=\"table-striped table-bordered table-condensed\">\n",
       "<thead><tr><th>bayes.param.restframe_Lnu(DECam.r)</th></tr></thead>\n",
       "<thead><tr><th>W</th></tr></thead>\n",
       "<thead><tr><th>float64</th></tr></thead>\n",
       "<tr><td>2.426781416296346e+21</td></tr>\n",
       "<tr><td>1.089902782581113e+21</td></tr>\n",
       "<tr><td>2.992110075076888e+20</td></tr>\n",
       "<tr><td>3.040501542972804e+20</td></tr>\n",
       "<tr><td>3.0994092485754506e+20</td></tr>\n",
       "</table></div>"
      ],
      "text/plain": [
       "<Table length=5>\n",
       "bayes.param.restframe_Lnu(DECam.r)\n",
       "                W                 \n",
       "             float64              \n",
       "----------------------------------\n",
       "             2.426781416296346e+21\n",
       "             1.089902782581113e+21\n",
       "             2.992110075076888e+20\n",
       "             3.040501542972804e+20\n",
       "            3.0994092485754506e+20"
      ]
     },
     "execution_count": 52,
     "metadata": {},
     "output_type": "execute_result"
    }
   ],
   "source": [
    "r[:5]"
   ]
  },
  {
   "cell_type": "code",
   "execution_count": 53,
   "id": "a1f609fa-0f3f-408a-9b40-802615006703",
   "metadata": {
    "execution": {
     "iopub.execute_input": "2021-11-28T15:07:12.778029Z",
     "iopub.status.busy": "2021-11-28T15:07:12.777871Z",
     "iopub.status.idle": "2021-11-28T15:07:14.200379Z",
     "shell.execute_reply": "2021-11-28T15:07:14.199817Z",
     "shell.execute_reply.started": "2021-11-28T15:07:12.778014Z"
    },
    "tags": []
   },
   "outputs": [],
   "source": [
    "result0 = Table.read(\"/home/yunzheng/PAC/code/hsc_SEDfitting/0p35/0/out/results.fits\")"
   ]
  },
  {
   "cell_type": "code",
   "execution_count": 54,
   "id": "f3ada45a-abe4-40f4-969e-29694f781cbc",
   "metadata": {
    "execution": {
     "iopub.execute_input": "2021-11-28T15:07:18.370527Z",
     "iopub.status.busy": "2021-11-28T15:07:18.370285Z",
     "iopub.status.idle": "2021-11-28T15:07:18.374777Z",
     "shell.execute_reply": "2021-11-28T15:07:18.374395Z",
     "shell.execute_reply.started": "2021-11-28T15:07:18.370495Z"
    },
    "tags": []
   },
   "outputs": [
    {
     "data": {
      "text/html": [
       "&lt;MaskedColumn name=&apos;bayes.param.restframe_Lnu(sdss.up)&apos; dtype=&apos;float64&apos; unit=&apos;W&apos; length=5&gt;\n",
       "<table>\n",
       "<tr><td>1.2531967093922847e+20</td></tr>\n",
       "<tr><td>2.8968302408119547e+20</td></tr>\n",
       "<tr><td>5.365306015645417e+19</td></tr>\n",
       "<tr><td>4.67798429670142e+19</td></tr>\n",
       "<tr><td>1.1496707038448955e+20</td></tr>\n",
       "</table>"
      ],
      "text/plain": [
       "<MaskedColumn name='bayes.param.restframe_Lnu(sdss.up)' dtype='float64' unit='W' length=5>\n",
       "1.2531967093922847e+20\n",
       "2.8968302408119547e+20\n",
       " 5.365306015645417e+19\n",
       "  4.67798429670142e+19\n",
       "1.1496707038448955e+20"
      ]
     },
     "execution_count": 54,
     "metadata": {},
     "output_type": "execute_result"
    }
   ],
   "source": [
    "result0['bayes.param.restframe_Lnu(sdss.up)'][:5]"
   ]
  },
  {
   "cell_type": "code",
   "execution_count": 55,
   "id": "622efe82-a250-4896-8326-4e6d8197f4ec",
   "metadata": {
    "execution": {
     "iopub.execute_input": "2021-11-28T15:07:27.256905Z",
     "iopub.status.busy": "2021-11-28T15:07:27.256692Z",
     "iopub.status.idle": "2021-11-28T15:07:27.260789Z",
     "shell.execute_reply": "2021-11-28T15:07:27.260382Z",
     "shell.execute_reply.started": "2021-11-28T15:07:27.256888Z"
    },
    "tags": []
   },
   "outputs": [
    {
     "data": {
      "text/html": [
       "&lt;MaskedColumn name=&apos;bayes.param.restframe_Lnu(DECam.r)&apos; dtype=&apos;float64&apos; unit=&apos;W&apos; length=5&gt;\n",
       "<table>\n",
       "<tr><td>2.426781416296346e+21</td></tr>\n",
       "<tr><td>1.089902782581113e+21</td></tr>\n",
       "<tr><td>2.992110075076888e+20</td></tr>\n",
       "<tr><td>3.040501542972804e+20</td></tr>\n",
       "<tr><td>3.0994092485754506e+20</td></tr>\n",
       "</table>"
      ],
      "text/plain": [
       "<MaskedColumn name='bayes.param.restframe_Lnu(DECam.r)' dtype='float64' unit='W' length=5>\n",
       " 2.426781416296346e+21\n",
       " 1.089902782581113e+21\n",
       " 2.992110075076888e+20\n",
       " 3.040501542972804e+20\n",
       "3.0994092485754506e+20"
      ]
     },
     "execution_count": 55,
     "metadata": {},
     "output_type": "execute_result"
    }
   ],
   "source": [
    "result0['bayes.param.restframe_Lnu(DECam.r)'][:5]"
   ]
  },
  {
   "cell_type": "markdown",
   "id": "4020af25-3c8e-4f48-91bb-41d93e5137e9",
   "metadata": {},
   "source": [
    "# Load data\n"
   ]
  },
  {
   "cell_type": "markdown",
   "id": "7ee146cd-5f4a-4957-9624-180ebea18e34",
   "metadata": {},
   "source": [
    "## satlellite original file"
   ]
  },
  {
   "cell_type": "code",
   "execution_count": 2,
   "id": "baac5960-95c8-4aba-953c-6c2c34cc607c",
   "metadata": {
    "execution": {
     "iopub.execute_input": "2022-05-30T01:54:33.031490Z",
     "iopub.status.busy": "2022-05-30T01:54:33.030959Z",
     "iopub.status.idle": "2022-05-30T01:54:59.321121Z",
     "shell.execute_reply": "2022-05-30T01:54:59.320112Z",
     "shell.execute_reply.started": "2022-05-30T01:54:33.031467Z"
    },
    "tags": []
   },
   "outputs": [],
   "source": [
    "satellite = Table.read(\"/home/kunxu/red_disk/PCF/satellite_2.fits\")"
   ]
  },
  {
   "cell_type": "code",
   "execution_count": 4,
   "id": "3bdf5200-6d77-4282-bbd6-c8c9c5592f97",
   "metadata": {
    "collapsed": true,
    "execution": {
     "iopub.execute_input": "2022-05-21T08:29:56.276967Z",
     "iopub.status.busy": "2022-05-21T08:29:56.276835Z",
     "iopub.status.idle": "2022-05-21T08:30:40.327124Z",
     "shell.execute_reply": "2022-05-21T08:30:40.326080Z",
     "shell.execute_reply.started": "2022-05-21T08:29:56.276951Z"
    },
    "jupyter": {
     "outputs_hidden": true
    },
    "tags": []
   },
   "outputs": [
    {
     "data": {
      "text/html": [
       "<div><i>Table length=221208319</i>\n",
       "<table id=\"table47544535440688\" class=\"table-striped table-bordered table-condensed\">\n",
       "<thead><tr><th>id</th><th>redshift</th><th>subaru.hsc.g</th><th>subaru.hsc.g_err</th><th>subaru.hsc.r</th><th>subaru.hsc.r_err</th><th>subaru.hsc.i</th><th>subaru.hsc.i_err</th><th>subaru.hsc.z</th><th>subaru.hsc.z_err</th><th>subaru.hsc.y</th><th>subaru.hsc.y_err</th></tr></thead>\n",
       "<thead><tr><th>int64</th><th>float64</th><th>float64</th><th>float64</th><th>float64</th><th>float64</th><th>float64</th><th>float64</th><th>float64</th><th>float64</th><th>float64</th><th>float64</th></tr></thead>\n",
       "<tr><td>0</td><td>0.57887703</td><td>0.0005001766257919371</td><td>4.965603875461966e-05</td><td>0.002096924465149641</td><td>9.447883348912e-05</td><td>0.005629739258438349</td><td>0.00016322382725775242</td><td>0.008852604776620865</td><td>0.0002638264559209347</td><td>0.0123366704210639</td><td>0.0004979684017598629</td></tr>\n",
       "<tr><td>1</td><td>0.57887703</td><td>0.0010655235964804888</td><td>4.686281317844987e-05</td><td>0.002671551425009966</td><td>8.921127300709486e-05</td><td>0.003462126012891531</td><td>0.00013373000547289848</td><td>0.003440692787989974</td><td>0.00020138313993811607</td><td>0.0037887420039623976</td><td>0.00046077510342001915</td></tr>\n",
       "<tr><td>2</td><td>0.57887703</td><td>0.0002237337175756693</td><td>3.6825600545853376e-05</td><td>0.0004522795497905463</td><td>6.906417547725141e-05</td><td>0.0009870409267023206</td><td>0.00010788708459585905</td><td>0.000980112235993147</td><td>0.00016964474343694746</td><td>0.0011051925830543041</td><td>0.00042143967584706843</td></tr>\n",
       "<tr><td>3</td><td>0.57887703</td><td>--</td><td>--</td><td>2.9456236006808467e-05</td><td>0.0002506223099771887</td><td>0.0015740746166557074</td><td>0.00016384903574362397</td><td>0.000759672955609858</td><td>0.00023286553914658725</td><td>0.0005335050518624485</td><td>0.0005188738577999175</td></tr>\n",
       "<tr><td>4</td><td>0.57887703</td><td>0.00038711080560460687</td><td>4.128733417019248e-05</td><td>0.0005106509779579937</td><td>7.517861376982182e-05</td><td>0.0007114778854884207</td><td>0.0001231724745593965</td><td>0.0016679067630320787</td><td>0.0001999569358304143</td><td>0.001375172520056367</td><td>0.00044905158574692905</td></tr>\n",
       "<tr><td>5</td><td>0.57887703</td><td>0.000346305372659117</td><td>4.5144057366997004e-05</td><td>0.0012527932412922382</td><td>0.00010113912867382169</td><td>0.0026590381748974323</td><td>0.00016280985437333584</td><td>0.004753707908093929</td><td>0.00024929014034569263</td><td>0.005078374408185482</td><td>0.0005123354494571686</td></tr>\n",
       "<tr><td>6</td><td>0.57887703</td><td>0.003838383825495839</td><td>4.6243309043347836e-05</td><td>0.004224620759487152</td><td>7.898546755313873e-05</td><td>0.005509519018232822</td><td>0.00012411968782544136</td><td>0.005631272681057453</td><td>0.00019938615150749683</td><td>0.007644925732165575</td><td>0.0003845090977847576</td></tr>\n",
       "<tr><td>7</td><td>0.57887703</td><td>0.0014679066371172667</td><td>6.171170389279723e-05</td><td>0.004649926908314228</td><td>0.00014419807121157646</td><td>0.00598472636193037</td><td>0.00022425828501582146</td><td>0.006733270827680826</td><td>0.0003318267408758402</td><td>0.008751287125051022</td><td>0.0006671291776001453</td></tr>\n",
       "<tr><td>8</td><td>0.57887703</td><td>0.0005604822654277086</td><td>4.586469731293619e-05</td><td>0.0012351633049547672</td><td>8.676177822053432e-05</td><td>0.0011291200062260032</td><td>0.00013853417476639152</td><td>0.001296623726375401</td><td>0.00024147023214027286</td><td>0.0007567027350887656</td><td>0.0005924117867834866</td></tr>\n",
       "<tr><td>9</td><td>0.57887703</td><td>0.00025065834051929414</td><td>5.192680691834539e-05</td><td>0.0006446362240239978</td><td>9.782711276784539e-05</td><td>0.0009618187905289233</td><td>0.0001435027807019651</td><td>0.0013716800604015589</td><td>0.0002588647184893489</td><td>0.0003338636306580156</td><td>0.0007234681397676468</td></tr>\n",
       "<tr><td>...</td><td>...</td><td>...</td><td>...</td><td>...</td><td>...</td><td>...</td><td>...</td><td>...</td><td>...</td><td>...</td><td>...</td></tr>\n",
       "<tr><td>221208309</td><td>0.57887703</td><td>0.00023741247423458844</td><td>2.8127135010436177e-05</td><td>0.00010801818280015141</td><td>6.704389670630917e-05</td><td>5.5614709708606824e-05</td><td>5.93525473959744e-05</td><td>0.0004323539906181395</td><td>0.00014643689792137593</td><td>--</td><td>--</td></tr>\n",
       "<tr><td>221208310</td><td>0.57887703</td><td>0.0002234803541796282</td><td>3.296059730928391e-05</td><td>0.00013015187869314104</td><td>7.571176683995873e-05</td><td>--</td><td>--</td><td>4.840463225264102e-05</td><td>0.0011315133888274431</td><td>0.00021357188234105706</td><td>0.0021995576098561287</td></tr>\n",
       "<tr><td>221208311</td><td>0.57887703</td><td>0.0017595336539670825</td><td>0.00013302016304805875</td><td>0.0008230609237216413</td><td>0.0003251123707741499</td><td>1.9754919776460156e-05</td><td>1137.719482421875</td><td>0.0007563173421658576</td><td>0.0011284413048997521</td><td>--</td><td>--</td></tr>\n",
       "<tr><td>221208312</td><td>0.57887703</td><td>0.0012622649082913995</td><td>0.00011742435162886977</td><td>0.0007459524786099792</td><td>0.0002800591755658388</td><td>--</td><td>--</td><td>--</td><td>--</td><td>0.0013626315630972385</td><td>0.002490956336259842</td></tr>\n",
       "<tr><td>221208313</td><td>0.57887703</td><td>0.00012236734619364142</td><td>2.586387563496828e-05</td><td>2.461236363160424e-05</td><td>0.0001505036634625867</td><td>2.6552806176027843e-08</td><td>inf</td><td>0.0003443111199885607</td><td>0.0001540931116323918</td><td>--</td><td>--</td></tr>\n",
       "<tr><td>221208314</td><td>0.57887703</td><td>0.00011375467147445306</td><td>2.6533751224633306e-05</td><td>9.741642861627042e-05</td><td>6.487574864877388e-05</td><td>0.0001518222561571747</td><td>5.030448664911091e-05</td><td>0.0002639178419485688</td><td>0.0001563174300827086</td><td>--</td><td>--</td></tr>\n",
       "<tr><td>221208315</td><td>0.57887703</td><td>0.00026288480148650706</td><td>3.843977174255997e-05</td><td>0.00020826893160119653</td><td>8.094170334516093e-05</td><td>1.1676180292852223e-05</td><td>0.00922107882797718</td><td>7.908570842118934e-05</td><td>0.0009311101166531444</td><td>0.00012313124898355454</td><td>0.006089689675718546</td></tr>\n",
       "<tr><td>221208316</td><td>0.57887703</td><td>0.00020284093625377864</td><td>3.490077506285161e-05</td><td>0.0002566627226769924</td><td>8.116823300952092e-05</td><td>0.0002868009323719889</td><td>6.792796921217814e-05</td><td>0.0004045993264298886</td><td>0.0002459266106598079</td><td>0.0003277617215644568</td><td>0.0006694390322081745</td></tr>\n",
       "<tr><td>221208317</td><td>0.57887703</td><td>0.0001697354600764811</td><td>2.62058965745382e-05</td><td>0.0</td><td>--</td><td>0.00015260104555636644</td><td>4.481139330891892e-05</td><td>7.23959892638959e-05</td><td>0.00035878660855814815</td><td>--</td><td>--</td></tr>\n",
       "<tr><td>221208318</td><td>0.57887703</td><td>0.0001195855438709259</td><td>3.055885463254526e-05</td><td>0.00017930463945958763</td><td>7.704292511334643e-05</td><td>0.00021104596089571714</td><td>5.589784268522635e-05</td><td>4.186259684502147e-05</td><td>0.0022907708771526814</td><td>--</td><td>--</td></tr>\n",
       "</table></div>"
      ],
      "text/plain": [
       "<Table length=221208319>\n",
       "    id     redshift  ...      subaru.hsc.y         subaru.hsc.y_err   \n",
       "  int64    float64   ...        float64                float64        \n",
       "--------- ---------- ... ---------------------- ----------------------\n",
       "        0 0.57887703 ...     0.0123366704210639  0.0004979684017598629\n",
       "        1 0.57887703 ...  0.0037887420039623976 0.00046077510342001915\n",
       "        2 0.57887703 ...  0.0011051925830543041 0.00042143967584706843\n",
       "        3 0.57887703 ...  0.0005335050518624485  0.0005188738577999175\n",
       "        4 0.57887703 ...   0.001375172520056367 0.00044905158574692905\n",
       "        5 0.57887703 ...   0.005078374408185482  0.0005123354494571686\n",
       "        6 0.57887703 ...   0.007644925732165575  0.0003845090977847576\n",
       "        7 0.57887703 ...   0.008751287125051022  0.0006671291776001453\n",
       "        8 0.57887703 ...  0.0007567027350887656  0.0005924117867834866\n",
       "        9 0.57887703 ...  0.0003338636306580156  0.0007234681397676468\n",
       "      ...        ... ...                    ...                    ...\n",
       "221208309 0.57887703 ...                     --                     --\n",
       "221208310 0.57887703 ... 0.00021357188234105706  0.0021995576098561287\n",
       "221208311 0.57887703 ...                     --                     --\n",
       "221208312 0.57887703 ...  0.0013626315630972385   0.002490956336259842\n",
       "221208313 0.57887703 ...                     --                     --\n",
       "221208314 0.57887703 ...                     --                     --\n",
       "221208315 0.57887703 ... 0.00012313124898355454   0.006089689675718546\n",
       "221208316 0.57887703 ...  0.0003277617215644568  0.0006694390322081745\n",
       "221208317 0.57887703 ...                     --                     --\n",
       "221208318 0.57887703 ...                     --                     --"
      ]
     },
     "execution_count": 4,
     "metadata": {},
     "output_type": "execute_result"
    }
   ],
   "source": [
    "Table.read(\"./sed_red.fits\")"
   ]
  },
  {
   "cell_type": "code",
   "execution_count": 3,
   "id": "65a3c212-bf15-417c-b3ac-8745eb561121",
   "metadata": {
    "collapsed": true,
    "execution": {
     "iopub.execute_input": "2022-05-21T08:29:01.031963Z",
     "iopub.status.busy": "2022-05-21T08:29:01.031632Z",
     "iopub.status.idle": "2022-05-21T08:29:01.044687Z",
     "shell.execute_reply": "2022-05-21T08:29:01.044214Z",
     "shell.execute_reply.started": "2022-05-21T08:29:01.031938Z"
    },
    "jupyter": {
     "outputs_hidden": true
    },
    "tags": []
   },
   "outputs": [
    {
     "data": {
      "text/html": [
       "<div><i>Table length=221208319</i>\n",
       "<table id=\"table47547768538880\" class=\"table-striped table-bordered table-condensed\">\n",
       "<thead><tr><th>ra</th><th>dec</th><th>mass0p55</th><th>mass0p65</th><th>g0p55</th><th>g0p65</th><th>r0p55</th><th>r0p65</th><th>photoz</th><th>skymap_id</th></tr></thead>\n",
       "<thead><tr><th>float64</th><th>float64</th><th>float64</th><th>float64</th><th>float64</th><th>float64</th><th>float64</th><th>float64</th><th>float32</th><th>int32</th></tr></thead>\n",
       "<tr><td>29.11596307549589</td><td>-6.775140624839325</td><td>10.548685502252493</td><td>10.560456369276082</td><td>-19.89517638632207</td><td>-20.548629519935254</td><td>-20.787151572041154</td><td>-21.298572604996657</td><td>0.63</td><td>82780004</td></tr>\n",
       "<tr><td>29.097010963966863</td><td>-6.77468933995016</td><td>8.941219268240122</td><td>9.077589763211119</td><td>-19.48679678545949</td><td>-19.915085430320616</td><td>-19.524233654070066</td><td>-19.935044950205842</td><td>0.52</td><td>82780004</td></tr>\n",
       "<tr><td>29.126665626064202</td><td>-6.77473359426081</td><td>9.080812226388796</td><td>8.840089285169354</td><td>-17.912112726457764</td><td>-18.457477395572923</td><td>-18.3085608653815</td><td>-18.706902787061466</td><td>0.64</td><td>82780004</td></tr>\n",
       "<tr><td>29.067357382379907</td><td>-6.774723759969203</td><td>8.72573088876492</td><td>8.092154408263482</td><td>-17.988700927438003</td><td>-18.642251101506375</td><td>-18.254273752908894</td><td>-19.333509163156243</td><td>3.33</td><td>82780004</td></tr>\n",
       "<tr><td>29.11473313855873</td><td>-6.774551113549213</td><td>9.087600550086725</td><td>9.410825528036082</td><td>-17.975778480068286</td><td>-18.520717105571336</td><td>-18.375856659259597</td><td>-18.978361062376145</td><td>1.17</td><td>82780004</td></tr>\n",
       "<tr><td>29.108439423590077</td><td>-6.773931553803997</td><td>10.042123582553645</td><td>10.128122930010791</td><td>-19.179060071271294</td><td>-19.774674061571012</td><td>-19.9055955843071</td><td>-20.396173227500206</td><td>0.57</td><td>82780004</td></tr>\n",
       "<tr><td>29.10984648746462</td><td>-6.773631608498949</td><td>8.757954132923972</td><td>9.052000988755369</td><td>-19.980208726291302</td><td>-20.44317454021028</td><td>-20.28288595567036</td><td>-20.66488099218317</td><td>0.96</td><td>82780004</td></tr>\n",
       "<tr><td>29.096387207795175</td><td>-6.773254081977553</td><td>9.545165047904895</td><td>9.570883590941326</td><td>-20.10867238256226</td><td>-20.596353181777623</td><td>-20.370605024367485</td><td>-20.744416632437648</td><td>0.45</td><td>82780004</td></tr>\n",
       "<tr><td>29.049894596351326</td><td>-6.773429459673613</td><td>8.354690756434007</td><td>8.48697388890091</td><td>-18.37573090295306</td><td>-18.7851627737217</td><td>-18.35486015176555</td><td>-18.745689356791033</td><td>0.37</td><td>82780004</td></tr>\n",
       "<tr><td>29.098610255564555</td><td>-6.773342043991594</td><td>8.628651781817574</td><td>8.642053215921836</td><td>-18.098093044190364</td><td>-18.588479939958063</td><td>-18.32131838922335</td><td>-18.67766271063278</td><td>0.6</td><td>82780004</td></tr>\n",
       "<tr><td>...</td><td>...</td><td>...</td><td>...</td><td>...</td><td>...</td><td>...</td><td>...</td><td>...</td><td>...</td></tr>\n",
       "<tr><td>213.88924693059377</td><td>53.21989470071096</td><td>6.253369355465726</td><td>6.409821481253821</td><td>-16.067132113553647</td><td>-16.410294861087444</td><td>-16.504383558353148</td><td>-16.78248375483836</td><td>1.3</td><td>169730806</td></tr>\n",
       "<tr><td>213.88894050180343</td><td>53.22036588520432</td><td>6.264272222594376</td><td>6.429916725517602</td><td>-16.09438928137528</td><td>-16.4605329717469</td><td>-16.53164072617478</td><td>-16.832721865497817</td><td>1.25</td><td>169730806</td></tr>\n",
       "<tr><td>213.87825951856232</td><td>53.24095083437476</td><td>7.132758641769736</td><td>7.296307848965818</td><td>-18.26560532931368</td><td>-18.62651078036744</td><td>-18.702856774113172</td><td>-18.998699674118356</td><td>0.92</td><td>169730806</td></tr>\n",
       "<tr><td>213.8783457519574</td><td>53.24066073463104</td><td>7.010824565196092</td><td>7.176158540470458</td><td>-17.96077013787957</td><td>-18.32613750912904</td><td>-18.39802158267907</td><td>-18.698326402879957</td><td>1.05</td><td>169730806</td></tr>\n",
       "<tr><td>213.90558452881055</td><td>53.24710141174297</td><td>8.487937209373984</td><td>8.66537576065359</td><td>-16.676620296683772</td><td>-17.12021667488279</td><td>-17.037452305601683</td><td>-17.4810486838007</td><td>1.25</td><td>169730806</td></tr>\n",
       "<tr><td>213.90602172554313</td><td>53.24722472245111</td><td>7.207214553580999</td><td>7.366735784663407</td><td>-16.125109449794806</td><td>-16.52391252750082</td><td>-16.2971333280759</td><td>-16.69593640578192</td><td>0.84</td><td>169730806</td></tr>\n",
       "<tr><td>213.88861027838306</td><td>53.25148278667229</td><td>6.35227293642543</td><td>6.518092994749689</td><td>-16.31439106595291</td><td>-16.68097364482712</td><td>-16.75164251075241</td><td>-17.053162538578036</td><td>1.63</td><td>169730806</td></tr>\n",
       "<tr><td>213.8891779527558</td><td>53.25111281879681</td><td>7.4837303786383575</td><td>7.642895886714941</td><td>-16.816399012438197</td><td>-17.214312782629655</td><td>-16.9884228907193</td><td>-17.386336660910757</td><td>2.58</td><td>169730806</td></tr>\n",
       "<tr><td>213.9124564147628</td><td>53.25727936781461</td><td>6.508536615886812</td><td>6.526491056888055</td><td>-16.113654643625885</td><td>-16.39483537005114</td><td>-16.713115773906694</td><td>-16.92957553554716</td><td>0.99</td><td>169730806</td></tr>\n",
       "<tr><td>213.91304890213354</td><td>53.2576421336773</td><td>7.440168768168894</td><td>6.952817183997158</td><td>-16.41887202292981</td><td>-16.724158015337167</td><td>-16.458209425533354</td><td>-17.40679476322523</td><td>2.95</td><td>169730806</td></tr>\n",
       "</table></div>"
      ],
      "text/plain": [
       "<Table length=221208319>\n",
       "        ra                dec              mass0p55      ...  photoz skymap_id\n",
       "     float64            float64            float64       ... float32   int32  \n",
       "------------------ ------------------ ------------------ ... ------- ---------\n",
       " 29.11596307549589 -6.775140624839325 10.548685502252493 ...    0.63  82780004\n",
       "29.097010963966863  -6.77468933995016  8.941219268240122 ...    0.52  82780004\n",
       "29.126665626064202  -6.77473359426081  9.080812226388796 ...    0.64  82780004\n",
       "29.067357382379907 -6.774723759969203   8.72573088876492 ...    3.33  82780004\n",
       " 29.11473313855873 -6.774551113549213  9.087600550086725 ...    1.17  82780004\n",
       "29.108439423590077 -6.773931553803997 10.042123582553645 ...    0.57  82780004\n",
       " 29.10984648746462 -6.773631608498949  8.757954132923972 ...    0.96  82780004\n",
       "29.096387207795175 -6.773254081977553  9.545165047904895 ...    0.45  82780004\n",
       "29.049894596351326 -6.773429459673613  8.354690756434007 ...    0.37  82780004\n",
       "29.098610255564555 -6.773342043991594  8.628651781817574 ...     0.6  82780004\n",
       "               ...                ...                ... ...     ...       ...\n",
       "213.88924693059377  53.21989470071096  6.253369355465726 ...     1.3 169730806\n",
       "213.88894050180343  53.22036588520432  6.264272222594376 ...    1.25 169730806\n",
       "213.87825951856232  53.24095083437476  7.132758641769736 ...    0.92 169730806\n",
       " 213.8783457519574  53.24066073463104  7.010824565196092 ...    1.05 169730806\n",
       "213.90558452881055  53.24710141174297  8.487937209373984 ...    1.25 169730806\n",
       "213.90602172554313  53.24722472245111  7.207214553580999 ...    0.84 169730806\n",
       "213.88861027838306  53.25148278667229   6.35227293642543 ...    1.63 169730806\n",
       " 213.8891779527558  53.25111281879681 7.4837303786383575 ...    2.58 169730806\n",
       " 213.9124564147628  53.25727936781461  6.508536615886812 ...    0.99 169730806\n",
       "213.91304890213354   53.2576421336773  7.440168768168894 ...    2.95 169730806"
      ]
     },
     "execution_count": 3,
     "metadata": {},
     "output_type": "execute_result"
    }
   ],
   "source": [
    "satellite"
   ]
  },
  {
   "cell_type": "code",
   "execution_count": 3,
   "id": "c3dc54aa-cfa8-45e8-8f21-259a141a73b3",
   "metadata": {
    "execution": {
     "iopub.execute_input": "2022-05-30T01:54:59.322492Z",
     "iopub.status.busy": "2022-05-30T01:54:59.322057Z",
     "iopub.status.idle": "2022-05-30T01:54:59.348336Z",
     "shell.execute_reply": "2022-05-30T01:54:59.347872Z",
     "shell.execute_reply.started": "2022-05-30T01:54:59.322471Z"
    },
    "tags": []
   },
   "outputs": [],
   "source": [
    "star = fits.getdata('/home/kunxu/red_disk/PCF/star_flag_sort.fits', 1)"
   ]
  },
  {
   "cell_type": "code",
   "execution_count": 33,
   "id": "ce9c1a89-a124-4d22-a6fa-6e2b3bb6d14e",
   "metadata": {
    "execution": {
     "iopub.execute_input": "2021-12-05T13:20:30.158434Z",
     "iopub.status.busy": "2021-12-05T13:20:30.158308Z",
     "iopub.status.idle": "2021-12-05T13:20:32.563192Z",
     "shell.execute_reply": "2021-12-05T13:20:32.562640Z",
     "shell.execute_reply.started": "2021-12-05T13:20:30.158419Z"
    },
    "tags": []
   },
   "outputs": [
    {
     "data": {
      "text/plain": [
       "(221208319,)"
      ]
     },
     "execution_count": 33,
     "metadata": {},
     "output_type": "execute_result"
    }
   ],
   "source": [
    "star['z_extendedness_value'].shape"
   ]
  },
  {
   "cell_type": "markdown",
   "id": "a6480f31-a8fb-488f-a7bc-6993a5e4e3d9",
   "metadata": {},
   "source": [
    "## save satellite : 0.5 - 0.7"
   ]
  },
  {
   "cell_type": "code",
   "execution_count": 4,
   "id": "7840f403-198c-4cb2-82a9-17ae875bf637",
   "metadata": {
    "execution": {
     "iopub.execute_input": "2022-05-30T01:55:09.984144Z",
     "iopub.status.busy": "2022-05-30T01:55:09.983852Z",
     "iopub.status.idle": "2022-05-30T01:57:56.343190Z",
     "shell.execute_reply": "2022-05-30T01:57:56.341777Z",
     "shell.execute_reply.started": "2022-05-30T01:55:09.984123Z"
    },
    "tags": []
   },
   "outputs": [],
   "source": [
    "sat5 = Table.read(\"./results_0p55_new.fits\")\n",
    "sat6 = Table.read(\"./results_0p65_new.fits\")"
   ]
  },
  {
   "cell_type": "code",
   "execution_count": 20,
   "id": "30ebf388-5739-463c-aef6-1ad7d2ab2f40",
   "metadata": {
    "execution": {
     "iopub.execute_input": "2021-12-05T13:00:04.883896Z",
     "iopub.status.busy": "2021-12-05T13:00:04.883670Z",
     "iopub.status.idle": "2021-12-05T13:00:26.240868Z",
     "shell.execute_reply": "2021-12-05T13:00:26.240396Z",
     "shell.execute_reply.started": "2021-12-05T13:00:04.883876Z"
    },
    "tags": []
   },
   "outputs": [
    {
     "data": {
      "text/html": [
       "&lt;MaskedColumn name=&apos;bayes.stellar.m_star&apos; dtype=&apos;float64&apos; unit=&apos;solMass&apos; length=2&gt;\n",
       "<table>\n",
       "<tr><td>0.0</td></tr>\n",
       "<tr><td>--</td></tr>\n",
       "</table>"
      ],
      "text/plain": [
       "<MaskedColumn name='bayes.stellar.m_star' dtype='float64' unit='solMass' length=2>\n",
       "0.0\n",
       " --"
      ]
     },
     "execution_count": 20,
     "metadata": {},
     "output_type": "execute_result"
    }
   ],
   "source": [
    "# np.unique(sat5['bayes.stellar.m_star']-mass55new)"
   ]
  },
  {
   "cell_type": "markdown",
   "id": "4faf977e-d744-4f22-bbec-309183a8dea0",
   "metadata": {},
   "source": [
    "### mass fits file"
   ]
  },
  {
   "cell_type": "code",
   "execution_count": 12,
   "id": "a50e0d89-dcf3-4403-a3d4-c18050ecc376",
   "metadata": {
    "execution": {
     "iopub.execute_input": "2021-12-05T12:57:44.720086Z",
     "iopub.status.busy": "2021-12-05T12:57:44.719696Z",
     "iopub.status.idle": "2021-12-05T12:57:44.789527Z",
     "shell.execute_reply": "2021-12-05T12:57:44.788940Z",
     "shell.execute_reply.started": "2021-12-05T12:57:44.720057Z"
    },
    "tags": []
   },
   "outputs": [],
   "source": [
    "# mass55 = fits.open(\"/home/yunzheng/PAC/code/hsc_SEDfitting/0p55/mass.fits\")\n",
    "# mass65 = fits.open(\"/home/yunzheng/PAC/code/hsc_SEDfitting/0p65/mass.fits\")"
   ]
  },
  {
   "cell_type": "code",
   "execution_count": 18,
   "id": "3602ac37-ab12-44ae-8689-13a94d758513",
   "metadata": {
    "execution": {
     "iopub.execute_input": "2021-12-05T12:58:29.505970Z",
     "iopub.status.busy": "2021-12-05T12:58:29.505550Z",
     "iopub.status.idle": "2021-12-05T12:58:31.520821Z",
     "shell.execute_reply": "2021-12-05T12:58:31.520190Z",
     "shell.execute_reply.started": "2021-12-05T12:58:29.505940Z"
    },
    "tags": []
   },
   "outputs": [],
   "source": [
    "# mass55new = np.array(mass55[1].data,dtype = 'f8')\n",
    "# mass65new = np.array(mass65[1].data,dtype = \"f8\")\n",
    "# mass55new = np.log10(mass55new,dtype = \"f8\")\n",
    "# mass65new = np.log10(mass65new,dtype=\"f8\")"
   ]
  },
  {
   "cell_type": "code",
   "execution_count": 5,
   "id": "eb630bf5-1946-43da-9fda-3540db743e39",
   "metadata": {
    "execution": {
     "iopub.execute_input": "2022-05-30T01:57:56.345165Z",
     "iopub.status.busy": "2022-05-30T01:57:56.344844Z",
     "iopub.status.idle": "2022-05-30T01:57:56.361113Z",
     "shell.execute_reply": "2022-05-30T01:57:56.360575Z",
     "shell.execute_reply.started": "2022-05-30T01:57:56.345140Z"
    },
    "tags": []
   },
   "outputs": [],
   "source": [
    "# mass55 = sat5['best.stellar.m_star']\n",
    "# mass65 = sat6['best.stellar.m_star']\n",
    "mass55 = sat5['bayes.stellar.m_star']\n",
    "mass65 = sat6['bayes.stellar.m_star']"
   ]
  },
  {
   "cell_type": "code",
   "execution_count": 6,
   "id": "e7b84d26-3121-4bbe-bd32-40eadbf3577d",
   "metadata": {
    "execution": {
     "iopub.execute_input": "2022-05-30T01:57:56.362019Z",
     "iopub.status.busy": "2022-05-30T01:57:56.361870Z",
     "iopub.status.idle": "2022-05-30T01:58:33.400408Z",
     "shell.execute_reply": "2022-05-30T01:58:33.399153Z",
     "shell.execute_reply.started": "2022-05-30T01:57:56.362001Z"
    },
    "tags": []
   },
   "outputs": [
    {
     "name": "stderr",
     "output_type": "stream",
     "text": [
      "/tmp/ipykernel_126115/1500100643.py:1: RuntimeWarning: divide by zero encountered in log10\n",
      "  mass55new = np.array(np.log10(mass55))\n",
      "/tmp/ipykernel_126115/1500100643.py:2: RuntimeWarning: divide by zero encountered in log10\n",
      "  mass65new = np.array(np.log10(mass65))\n"
     ]
    }
   ],
   "source": [
    "mass55new = np.array(np.log10(mass55))\n",
    "mass65new = np.array(np.log10(mass65))"
   ]
  },
  {
   "cell_type": "code",
   "execution_count": 8,
   "id": "63c3d53a-6c89-4764-8d62-288e7e13c38b",
   "metadata": {
    "execution": {
     "iopub.execute_input": "2022-05-30T01:59:58.146133Z",
     "iopub.status.busy": "2022-05-30T01:59:58.145704Z",
     "iopub.status.idle": "2022-05-30T01:59:58.300881Z",
     "shell.execute_reply": "2022-05-30T01:59:58.299989Z",
     "shell.execute_reply.started": "2022-05-30T01:59:58.146105Z"
    },
    "tags": []
   },
   "outputs": [
    {
     "data": {
      "text/plain": [
       "13.584698230436475"
      ]
     },
     "execution_count": 8,
     "metadata": {},
     "output_type": "execute_result"
    }
   ],
   "source": [
    "np.max(mass55new)"
   ]
  },
  {
   "cell_type": "markdown",
   "id": "c56f7fe2-f61e-4f28-982c-81ee7171150e",
   "metadata": {},
   "source": [
    "### color"
   ]
  },
  {
   "cell_type": "code",
   "execution_count": 9,
   "id": "8927f06d-d87a-4499-b057-a2eeb661e54d",
   "metadata": {
    "execution": {
     "iopub.execute_input": "2021-11-29T07:53:54.470207Z",
     "iopub.status.busy": "2021-11-29T07:53:54.469902Z",
     "iopub.status.idle": "2021-11-29T07:53:54.540669Z",
     "shell.execute_reply": "2021-11-29T07:53:54.539479Z",
     "shell.execute_reply.started": "2021-11-29T07:53:54.470187Z"
    },
    "tags": []
   },
   "outputs": [],
   "source": [
    "# u55 = fits.open(\"/home/yunzheng/PAC/code/hsc_SEDfitting/0p55/u.fits\")\n",
    "# u65 = fits.open(\"/home/yunzheng/PAC/code/hsc_SEDfitting/0p65/u.fits\")"
   ]
  },
  {
   "cell_type": "code",
   "execution_count": 11,
   "id": "1c527ef5-dc47-42c2-992a-fa7c567a6aae",
   "metadata": {
    "execution": {
     "iopub.execute_input": "2021-11-29T07:54:06.190516Z",
     "iopub.status.busy": "2021-11-29T07:54:06.190393Z",
     "iopub.status.idle": "2021-11-29T07:54:09.696174Z",
     "shell.execute_reply": "2021-11-29T07:54:09.695536Z",
     "shell.execute_reply.started": "2021-11-29T07:54:06.190503Z"
    },
    "tags": []
   },
   "outputs": [],
   "source": [
    "# u55new = np.array(u55[1].data,dtype = 'f8')\n",
    "# u65new = np.array(u65[1].data,dtype = 'f8')"
   ]
  },
  {
   "cell_type": "code",
   "execution_count": 12,
   "id": "6c23a4c5-e2b7-46e8-9f49-9dc4588ccd8a",
   "metadata": {
    "execution": {
     "iopub.execute_input": "2021-11-29T07:54:09.697593Z",
     "iopub.status.busy": "2021-11-29T07:54:09.697240Z",
     "iopub.status.idle": "2021-11-29T07:54:09.753013Z",
     "shell.execute_reply": "2021-11-29T07:54:09.752062Z",
     "shell.execute_reply.started": "2021-11-29T07:54:09.697570Z"
    },
    "tags": []
   },
   "outputs": [],
   "source": [
    "# r55 = fits.open(\"/home/yunzheng/PAC/code/hsc_SEDfitting/0p55/r.fits\")\n",
    "# r65 = fits.open(\"/home/yunzheng/PAC/code/hsc_SEDfitting/0p65/r.fits\")"
   ]
  },
  {
   "cell_type": "code",
   "execution_count": 13,
   "id": "2f426c0c-3210-449b-b668-ac6f3f42de8b",
   "metadata": {
    "execution": {
     "iopub.execute_input": "2021-11-29T07:54:09.753631Z",
     "iopub.status.busy": "2021-11-29T07:54:09.753523Z",
     "iopub.status.idle": "2021-11-29T07:54:17.496058Z",
     "shell.execute_reply": "2021-11-29T07:54:17.495324Z",
     "shell.execute_reply.started": "2021-11-29T07:54:09.753618Z"
    },
    "tags": []
   },
   "outputs": [],
   "source": [
    "# r55new = np.array(r55[1].data,dtype = 'f8')\n",
    "# r65new = np.array(r65[1].data,dtype = 'f8')"
   ]
  },
  {
   "cell_type": "code",
   "execution_count": 14,
   "id": "3237c84b-ef2c-4c9b-aa89-2784accb2ca9",
   "metadata": {
    "execution": {
     "iopub.execute_input": "2021-11-29T07:54:17.497514Z",
     "iopub.status.busy": "2021-11-29T07:54:17.497173Z",
     "iopub.status.idle": "2021-11-29T07:54:17.537253Z",
     "shell.execute_reply": "2021-11-29T07:54:17.536078Z",
     "shell.execute_reply.started": "2021-11-29T07:54:17.497492Z"
    },
    "tags": []
   },
   "outputs": [],
   "source": [
    "# g55 = fits.open(\"/home/yunzheng/PAC/code/hsc_SEDfitting/0p55/g.fits\")\n",
    "# g65 = fits.open(\"/home/yunzheng/PAC/code/hsc_SEDfitting/0p65/g.fits\")"
   ]
  },
  {
   "cell_type": "code",
   "execution_count": 15,
   "id": "204561fd-8bca-44d7-a75c-93c956dbf431",
   "metadata": {
    "execution": {
     "iopub.execute_input": "2021-11-29T07:54:17.538400Z",
     "iopub.status.busy": "2021-11-29T07:54:17.538161Z",
     "iopub.status.idle": "2021-11-29T07:54:21.539715Z",
     "shell.execute_reply": "2021-11-29T07:54:21.538588Z",
     "shell.execute_reply.started": "2021-11-29T07:54:17.538383Z"
    },
    "tags": []
   },
   "outputs": [],
   "source": [
    "# g55new = np.array(g55[1].data,dtype = 'f8')\n",
    "# g65new = np.array(g65[1].data,dtype = 'f8')"
   ]
  },
  {
   "cell_type": "code",
   "execution_count": 16,
   "id": "9504856e-de3b-4a21-90fe-abcbd1f98ff8",
   "metadata": {
    "collapsed": true,
    "execution": {
     "iopub.execute_input": "2021-11-29T07:54:21.541024Z",
     "iopub.status.busy": "2021-11-29T07:54:21.540543Z",
     "iopub.status.idle": "2021-11-29T07:54:54.983152Z",
     "shell.execute_reply": "2021-11-29T07:54:54.982043Z",
     "shell.execute_reply.started": "2021-11-29T07:54:21.541002Z"
    },
    "jupyter": {
     "outputs_hidden": true
    },
    "tags": []
   },
   "outputs": [
    {
     "name": "stderr",
     "output_type": "stream",
     "text": [
      "/tmp/ipykernel_216975/2610400182.py:1: RuntimeWarning: invalid value encountered in true_divide\n",
      "  u_r55 = -2.5 * np.log10(u55new / r55new)\n",
      "/tmp/ipykernel_216975/2610400182.py:2: RuntimeWarning: invalid value encountered in true_divide\n",
      "  u_r65 = -2.5 * np.log10(u65new / r65new)\n",
      "/tmp/ipykernel_216975/2610400182.py:4: RuntimeWarning: invalid value encountered in true_divide\n",
      "  g_r55 = -2.5 * np.log10(g55new / r55new)\n",
      "/tmp/ipykernel_216975/2610400182.py:5: RuntimeWarning: invalid value encountered in true_divide\n",
      "  g_r65 = -2.5 * np.log10(g65new / r65new)\n"
     ]
    }
   ],
   "source": [
    "# u_r55 = -2.5 * np.log10(u55new / r55new)\n",
    "# u_r65 = -2.5 * np.log10(u65new / r65new)\n",
    "\n",
    "# g_r55 = -2.5 * np.log10(g55new / r55new)\n",
    "# g_r65 = -2.5 * np.log10(g65new / r65new)"
   ]
  },
  {
   "cell_type": "code",
   "execution_count": 7,
   "id": "0b0ec28d-942d-45dc-a2d4-24690510f3bc",
   "metadata": {
    "execution": {
     "iopub.execute_input": "2022-05-30T01:58:33.402517Z",
     "iopub.status.busy": "2022-05-30T01:58:33.402301Z",
     "iopub.status.idle": "2022-05-30T01:59:03.993483Z",
     "shell.execute_reply": "2022-05-30T01:59:03.992152Z",
     "shell.execute_reply.started": "2022-05-30T01:58:33.402490Z"
    }
   },
   "outputs": [
    {
     "name": "stderr",
     "output_type": "stream",
     "text": [
      "/tmp/ipykernel_126115/100679403.py:3: RuntimeWarning: divide by zero encountered in log10\n",
      "  u_r55 = -2.5 * np.log10(u55 / r55)\n"
     ]
    }
   ],
   "source": [
    "u55 = sat5['bayes.param.restframe_Lnu(sdss.up)']\n",
    "r55 = sat5['bayes.param.restframe_Lnu(sdss.rp)']\n",
    "u_r55 = -2.5 * np.log10(u55 / r55)\n",
    "u_r55 = np.array(u_r55)"
   ]
  },
  {
   "cell_type": "code",
   "execution_count": 9,
   "id": "e1db0729-f8a4-4b7f-a1b0-5d529975452d",
   "metadata": {
    "execution": {
     "iopub.execute_input": "2022-05-30T02:00:45.986320Z",
     "iopub.status.busy": "2022-05-30T02:00:45.986008Z",
     "iopub.status.idle": "2022-05-30T02:01:23.627394Z",
     "shell.execute_reply": "2022-05-30T02:01:23.625992Z",
     "shell.execute_reply.started": "2022-05-30T02:00:45.986294Z"
    }
   },
   "outputs": [
    {
     "name": "stderr",
     "output_type": "stream",
     "text": [
      "/tmp/ipykernel_126115/518790205.py:3: RuntimeWarning: divide by zero encountered in log10\n",
      "  u_r65 = -2.5 * np.log10(u65 / r65)\n"
     ]
    }
   ],
   "source": [
    "u65 = sat6['bayes.param.restframe_Lnu(sdss.up)']\n",
    "r65 = sat6['bayes.param.restframe_Lnu(sdss.rp)']\n",
    "u_r65 = -2.5 * np.log10(u65 / r65)\n",
    "u_r65 = np.array(u_r65)"
   ]
  },
  {
   "cell_type": "code",
   "execution_count": 5,
   "id": "4a32c47a-15f8-4194-a9b4-163952889325",
   "metadata": {
    "execution": {
     "iopub.execute_input": "2022-02-21T04:29:07.003247Z",
     "iopub.status.busy": "2022-02-21T04:29:07.002991Z",
     "iopub.status.idle": "2022-02-21T04:29:28.358817Z",
     "shell.execute_reply": "2022-02-21T04:29:28.358225Z",
     "shell.execute_reply.started": "2022-02-21T04:29:07.003226Z"
    },
    "tags": []
   },
   "outputs": [],
   "source": [
    "# u_r55 = np.array(sat5['best.param.restframe_sdss.up-sdss.rp'])\n",
    "# u_r65 = np.array(sat6['best.param.restframe_sdss.up-sdss.rp'])\n",
    "\n",
    "# g_r55 = np.array(sat5['best.param.restframe_sdss.gp-sdss.rp'])\n",
    "# g_r65 = np.array(sat6['best.param.restframe_sdss.gp-sdss.rp'])"
   ]
  },
  {
   "cell_type": "code",
   "execution_count": 10,
   "id": "85c01f0d-9f6a-4fe4-abf1-7903709716d9",
   "metadata": {
    "execution": {
     "iopub.execute_input": "2022-05-30T02:01:33.475182Z",
     "iopub.status.busy": "2022-05-30T02:01:33.474783Z",
     "iopub.status.idle": "2022-05-30T02:01:33.625710Z",
     "shell.execute_reply": "2022-05-30T02:01:33.625032Z",
     "shell.execute_reply.started": "2022-05-30T02:01:33.475150Z"
    },
    "tags": []
   },
   "outputs": [
    {
     "data": {
      "text/plain": [
       "-2.5"
      ]
     },
     "execution_count": 10,
     "metadata": {},
     "output_type": "execute_result"
    }
   ],
   "source": [
    "np.min(u_r55)"
   ]
  },
  {
   "cell_type": "code",
   "execution_count": 11,
   "id": "758c7cd6-0762-4878-9f1c-0d2d1ff47839",
   "metadata": {
    "execution": {
     "iopub.execute_input": "2022-05-30T02:01:37.979741Z",
     "iopub.status.busy": "2022-05-30T02:01:37.979436Z",
     "iopub.status.idle": "2022-05-30T02:01:38.128722Z",
     "shell.execute_reply": "2022-05-30T02:01:38.128215Z",
     "shell.execute_reply.started": "2022-05-30T02:01:37.979718Z"
    },
    "tags": []
   },
   "outputs": [
    {
     "data": {
      "text/plain": [
       "3.7393205510693575"
      ]
     },
     "execution_count": 11,
     "metadata": {},
     "output_type": "execute_result"
    }
   ],
   "source": [
    "np.max(u_r55)"
   ]
  },
  {
   "cell_type": "code",
   "execution_count": 15,
   "id": "d0f3b7a3-fff1-42d7-b5d1-a71810e81d58",
   "metadata": {
    "execution": {
     "iopub.execute_input": "2022-02-21T04:37:32.245249Z",
     "iopub.status.busy": "2022-02-21T04:37:32.244889Z",
     "iopub.status.idle": "2022-02-21T04:37:32.251825Z",
     "shell.execute_reply": "2022-02-21T04:37:32.250859Z",
     "shell.execute_reply.started": "2022-02-21T04:37:32.245207Z"
    },
    "tags": []
   },
   "outputs": [
    {
     "data": {
      "text/plain": [
       "(221208319,)"
      ]
     },
     "execution_count": 15,
     "metadata": {},
     "output_type": "execute_result"
    }
   ],
   "source": [
    "u_r55.shape"
   ]
  },
  {
   "cell_type": "markdown",
   "id": "8bdd71e4-6260-466a-a7ea-e63b33e8f2bb",
   "metadata": {},
   "source": [
    "# make table"
   ]
  },
  {
   "cell_type": "code",
   "execution_count": 13,
   "id": "e1c9db0b-efce-4c87-ad96-4cd7428f860b",
   "metadata": {
    "execution": {
     "iopub.execute_input": "2022-05-30T02:02:30.029689Z",
     "iopub.status.busy": "2022-05-30T02:02:30.029443Z",
     "iopub.status.idle": "2022-05-30T02:02:45.751370Z",
     "shell.execute_reply": "2022-05-30T02:02:45.750448Z",
     "shell.execute_reply.started": "2022-05-30T02:02:30.029653Z"
    },
    "tags": []
   },
   "outputs": [],
   "source": [
    "targets = Table()\n",
    "targets.add_column(Column(name = 'ra',length = len(satellite),dtype='f8',data = satellite['ra']))\n",
    "targets.add_column(Column(name = 'dec',length = len(satellite),dtype='f8',data = satellite['dec']))\n",
    "targets.add_column(Column(name = 'mass0p55',length = len(satellite),dtype='f8',data = mass55new))\n",
    "targets.add_column(Column(name = 'mass0p65',length = len(satellite),dtype='f8',data = mass65new))\n",
    "targets.add_column(Column(name = 'u_r0p55',length = len(satellite),dtype='f8',data = u_r55))\n",
    "targets.add_column(Column(name = 'u_r0p65',length = len(satellite),dtype='f8',data = u_r65))\n",
    "# targets.add_column(Column(name = 'g_r0p55',length = len(satellite),dtype='f8',data = g_r55))\n",
    "# targets.add_column(Column(name = 'g_r0p65',length = len(satellite),dtype='f8',data = g_r65))\n",
    "\n",
    "\n",
    "targets.add_column(Column(name = 'skymap_id',length = len(satellite),dtype='i4',data = satellite['skymap_id']))"
   ]
  },
  {
   "cell_type": "code",
   "execution_count": 14,
   "id": "c95c0614-f4cd-4142-b361-8a6385cc8998",
   "metadata": {
    "execution": {
     "iopub.execute_input": "2022-05-30T02:02:45.753094Z",
     "iopub.status.busy": "2022-05-30T02:02:45.752876Z",
     "iopub.status.idle": "2022-05-30T02:02:45.759573Z",
     "shell.execute_reply": "2022-05-30T02:02:45.758960Z",
     "shell.execute_reply.started": "2022-05-30T02:02:45.753070Z"
    }
   },
   "outputs": [
    {
     "data": {
      "text/html": [
       "<div><i>Table length=2</i>\n",
       "<table id=\"table47920878580976\" class=\"table-striped table-bordered table-condensed\">\n",
       "<thead><tr><th>ra</th><th>dec</th><th>mass0p55</th><th>mass0p65</th><th>u_r0p55</th><th>u_r0p65</th><th>skymap_id</th></tr></thead>\n",
       "<thead><tr><th>float64</th><th>float64</th><th>float64</th><th>float64</th><th>float64</th><th>float64</th><th>int32</th></tr></thead>\n",
       "<tr><td>29.11596307549589</td><td>-6.775140624839325</td><td>10.404314285676042</td><td>10.482359474018388</td><td>2.566588118905932</td><td>2.3270799170437724</td><td>82780004</td></tr>\n",
       "<tr><td>29.097010963966863</td><td>-6.77468933995016</td><td>9.127960478339386</td><td>9.293049546402004</td><td>1.056011549268634</td><td>1.06234610399837</td><td>82780004</td></tr>\n",
       "</table></div>"
      ],
      "text/plain": [
       "<Table length=2>\n",
       "        ra                dec         ...      u_r0p65       skymap_id\n",
       "     float64            float64       ...      float64         int32  \n",
       "------------------ ------------------ ... ------------------ ---------\n",
       " 29.11596307549589 -6.775140624839325 ... 2.3270799170437724  82780004\n",
       "29.097010963966863  -6.77468933995016 ...   1.06234610399837  82780004"
      ]
     },
     "execution_count": 14,
     "metadata": {},
     "output_type": "execute_result"
    }
   ],
   "source": [
    "targets[:2]"
   ]
  },
  {
   "cell_type": "code",
   "execution_count": 35,
   "id": "1bbbb902-e4f2-42ad-a516-c1fdcd7f6f30",
   "metadata": {
    "collapsed": true,
    "execution": {
     "iopub.execute_input": "2021-12-05T13:21:44.438642Z",
     "iopub.status.busy": "2021-12-05T13:21:44.438408Z",
     "iopub.status.idle": "2021-12-05T13:21:44.445948Z",
     "shell.execute_reply": "2021-12-05T13:21:44.445460Z",
     "shell.execute_reply.started": "2021-12-05T13:21:44.438621Z"
    },
    "jupyter": {
     "outputs_hidden": true
    },
    "tags": []
   },
   "outputs": [
    {
     "data": {
      "text/html": [
       "<div><i>Table length=221208319</i>\n",
       "<table id=\"table46990523104704\" class=\"table-striped table-bordered table-condensed\">\n",
       "<thead><tr><th>ra</th><th>dec</th><th>mass0p55</th><th>mass0p65</th><th>u_r0p55</th><th>u_r0p65</th><th>g_r0p55</th><th>g_r0p65</th><th>skymap_id</th></tr></thead>\n",
       "<thead><tr><th>float64</th><th>float64</th><th>float64</th><th>float64</th><th>float64</th><th>float64</th><th>float64</th><th>float64</th><th>int32</th></tr></thead>\n",
       "<tr><td>29.11596307549589</td><td>-6.775140624839325</td><td>10.545361965020351</td><td>10.723785022452287</td><td>2.8388600279295835</td><td>2.565489604067423</td><td>0.9718383638025987</td><td>0.8702051479553347</td><td>82780004</td></tr>\n",
       "<tr><td>29.097010963966863</td><td>-6.77468933995016</td><td>8.979629484175184</td><td>9.077384923656696</td><td>0.9876853698504929</td><td>0.879231332665432</td><td>0.07592997211790362</td><td>0.024276159802941694</td><td>82780004</td></tr>\n",
       "<tr><td>29.126665626064202</td><td>-6.77473359426081</td><td>9.078793282420563</td><td>8.838606912904773</td><td>1.451632620658652</td><td>1.3760046233950052</td><td>0.4364956334387251</td><td>0.2736366777164562</td><td>82780004</td></tr>\n",
       "<tr><td>29.067357382379907</td><td>-6.774723759969203</td><td>8.724294474812964</td><td>8.092034781670222</td><td>1.6671931854876099</td><td>1.2641466973829014</td><td>0.2892079813523588</td><td>0.8262408922570487</td><td>82780004</td></tr>\n",
       "<tr><td>29.11473313855873</td><td>-6.774551113549213</td><td>9.0856476859274</td><td>9.409187064841733</td><td>1.244239209361715</td><td>1.4215909411110905</td><td>0.4414192506436404</td><td>0.5018005736641731</td><td>82780004</td></tr>\n",
       "<tr><td>29.108439423590077</td><td>-6.773931553803997</td><td>10.12223123999261</td><td>10.125297915332798</td><td>2.395311581817026</td><td>2.1721386786845014</td><td>0.7997701609106277</td><td>0.6805331227598972</td><td>82780004</td></tr>\n",
       "<tr><td>29.10984648746462</td><td>-6.773631608498949</td><td>8.726966942259715</td><td>9.051504907407967</td><td>0.7359668776164214</td><td>0.6939027829444153</td><td>0.4064727135633034</td><td>0.2613630460247158</td><td>82780004</td></tr>\n",
       "<tr><td>29.096387207795175</td><td>-6.773254081977553</td><td>9.543923937852448</td><td>9.570405867353763</td><td>1.3888422286124837</td><td>1.2175996223736</td><td>0.29463804597951626</td><td>0.1666584868700393</td><td>82780004</td></tr>\n",
       "<tr><td>29.049894596351326</td><td>-6.773429459673613</td><td>8.354213317027678</td><td>8.487220583580587</td><td>0.5804502442141759</td><td>0.535585650742135</td><td>-0.01837951586826563</td><td>-0.03911305290199229</td><td>82780004</td></tr>\n",
       "<tr><td>29.098610255564555</td><td>-6.773342043991594</td><td>8.62630267170794</td><td>8.640651952243562</td><td>1.3109249235952678</td><td>1.11560071056657</td><td>0.24769300175035075</td><td>0.09626507457834751</td><td>82780004</td></tr>\n",
       "<tr><td>...</td><td>...</td><td>...</td><td>...</td><td>...</td><td>...</td><td>...</td><td>...</td><td>...</td></tr>\n",
       "<tr><td>213.88924693059377</td><td>53.21989470071096</td><td>6.255006454315439</td><td>6.411080795943123</td><td>0.1858152012152556</td><td>0.14359966829121498</td><td>0.5182352951199081</td><td>0.446081499605891</td><td>169730806</td></tr>\n",
       "<tr><td>213.88894050180343</td><td>53.22036588520432</td><td>6.264641157937937</td><td>6.429881001781668</td><td>0.1858152012152556</td><td>0.14359966829121498</td><td>0.5182352951199081</td><td>0.446081499605891</td><td>169730806</td></tr>\n",
       "<tr><td>213.87825951856232</td><td>53.24095083437476</td><td>7.133362363499558</td><td>7.2963877211458525</td><td>0.1858152012152556</td><td>0.14359966829121498</td><td>0.5182352951199081</td><td>0.446081499605891</td><td>169730806</td></tr>\n",
       "<tr><td>213.8783457519574</td><td>53.24066073463104</td><td>7.01134772482517</td><td>7.176171740318297</td><td>0.1858152012152556</td><td>0.14359966829121498</td><td>0.5182352951199081</td><td>0.446081499605891</td><td>169730806</td></tr>\n",
       "<tr><td>213.90558452881055</td><td>53.24710141174297</td><td>8.487752022757265</td><td>8.665348000167766</td><td>1.1286128912193591</td><td>1.1286128912193591</td><td>0.40017253795788027</td><td>0.40017253795788027</td><td>169730806</td></tr>\n",
       "<tr><td>213.90602172554313</td><td>53.24722472245111</td><td>7.206891381427118</td><td>7.366826899149288</td><td>0.5387605032816197</td><td>0.5387605032816197</td><td>0.20846155501852798</td><td>0.20846155501852798</td><td>169730806</td></tr>\n",
       "<tr><td>213.88861027838306</td><td>53.25148278667229</td><td>6.352610449385459</td><td>6.518045374560998</td><td>0.1858152012152556</td><td>0.14359966829121498</td><td>0.5182352951199081</td><td>0.446081499605891</td><td>169730806</td></tr>\n",
       "<tr><td>213.8891779527558</td><td>53.25111281879681</td><td>7.483470540924449</td><td>7.643011792534263</td><td>0.5387605032816197</td><td>0.5387605032816197</td><td>0.20846155501852798</td><td>0.20846155501852798</td><td>169730806</td></tr>\n",
       "<tr><td>213.9124564147628</td><td>53.25727936781461</td><td>6.509920947044368</td><td>6.533270389163851</td><td>0.528780723958497</td><td>0.38103690813923424</td><td>0.6880011180995886</td><td>0.6024500757155699</td><td>169730806</td></tr>\n",
       "<tr><td>213.91304890213354</td><td>53.2576421336773</td><td>7.369386518426665</td><td>6.949981253093752</td><td>0.43595643665356515</td><td>0.8153156521937965</td><td>0.11865927547101665</td><td>0.8089119783821266</td><td>169730806</td></tr>\n",
       "</table></div>"
      ],
      "text/plain": [
       "<Table length=221208319>\n",
       "        ra                dec         ...       g_r0p65        skymap_id\n",
       "     float64            float64       ...       float64          int32  \n",
       "------------------ ------------------ ... -------------------- ---------\n",
       " 29.11596307549589 -6.775140624839325 ...   0.8702051479553347  82780004\n",
       "29.097010963966863  -6.77468933995016 ... 0.024276159802941694  82780004\n",
       "29.126665626064202  -6.77473359426081 ...   0.2736366777164562  82780004\n",
       "29.067357382379907 -6.774723759969203 ...   0.8262408922570487  82780004\n",
       " 29.11473313855873 -6.774551113549213 ...   0.5018005736641731  82780004\n",
       "29.108439423590077 -6.773931553803997 ...   0.6805331227598972  82780004\n",
       " 29.10984648746462 -6.773631608498949 ...   0.2613630460247158  82780004\n",
       "29.096387207795175 -6.773254081977553 ...   0.1666584868700393  82780004\n",
       "29.049894596351326 -6.773429459673613 ... -0.03911305290199229  82780004\n",
       "29.098610255564555 -6.773342043991594 ...  0.09626507457834751  82780004\n",
       "               ...                ... ...                  ...       ...\n",
       "213.88924693059377  53.21989470071096 ...    0.446081499605891 169730806\n",
       "213.88894050180343  53.22036588520432 ...    0.446081499605891 169730806\n",
       "213.87825951856232  53.24095083437476 ...    0.446081499605891 169730806\n",
       " 213.8783457519574  53.24066073463104 ...    0.446081499605891 169730806\n",
       "213.90558452881055  53.24710141174297 ...  0.40017253795788027 169730806\n",
       "213.90602172554313  53.24722472245111 ...  0.20846155501852798 169730806\n",
       "213.88861027838306  53.25148278667229 ...    0.446081499605891 169730806\n",
       " 213.8891779527558  53.25111281879681 ...  0.20846155501852798 169730806\n",
       " 213.9124564147628  53.25727936781461 ...   0.6024500757155699 169730806\n",
       "213.91304890213354   53.2576421336773 ...   0.8089119783821266 169730806"
      ]
     },
     "execution_count": 35,
     "metadata": {},
     "output_type": "execute_result"
    }
   ],
   "source": [
    "targets   #221208319"
   ]
  },
  {
   "cell_type": "markdown",
   "id": "69dcd154-9228-4091-ae11-f2c29dbc2425",
   "metadata": {},
   "source": [
    "## 判断是否为恒星"
   ]
  },
  {
   "cell_type": "code",
   "execution_count": 15,
   "id": "b5ec4908-1428-46bb-8e51-25c6dd3f7a44",
   "metadata": {
    "execution": {
     "iopub.execute_input": "2022-05-30T02:03:24.985742Z",
     "iopub.status.busy": "2022-05-30T02:03:24.985435Z",
     "iopub.status.idle": "2022-05-30T02:03:40.065203Z",
     "shell.execute_reply": "2022-05-30T02:03:40.063925Z",
     "shell.execute_reply.started": "2022-05-30T02:03:24.985716Z"
    },
    "tags": []
   },
   "outputs": [],
   "source": [
    "targets = targets[star['z_extendedness_value'] == 1]"
   ]
  },
  {
   "cell_type": "code",
   "execution_count": 16,
   "id": "73952cd7-0693-4a17-960c-34d4ef4b15aa",
   "metadata": {
    "collapsed": true,
    "execution": {
     "iopub.execute_input": "2022-02-21T04:37:48.372453Z",
     "iopub.status.busy": "2022-02-21T04:37:48.372100Z",
     "iopub.status.idle": "2022-02-21T04:37:48.385793Z",
     "shell.execute_reply": "2022-02-21T04:37:48.384866Z",
     "shell.execute_reply.started": "2022-02-21T04:37:48.372412Z"
    },
    "jupyter": {
     "outputs_hidden": true
    },
    "tags": []
   },
   "outputs": [
    {
     "data": {
      "text/html": [
       "<div><i>Table length=174900944</i>\n",
       "<table id=\"table47129502776288\" class=\"table-striped table-bordered table-condensed\">\n",
       "<thead><tr><th>ra</th><th>dec</th><th>mass0p55</th><th>mass0p65</th><th>u_r0p55</th><th>u_r0p65</th><th>g_r0p55</th><th>g_r0p65</th><th>skymap_id</th></tr></thead>\n",
       "<thead><tr><th>float64</th><th>float64</th><th>float64</th><th>float64</th><th>float64</th><th>float64</th><th>float64</th><th>float64</th><th>int32</th></tr></thead>\n",
       "<tr><td>29.11596307549589</td><td>-6.775140624839325</td><td>10.545361965020351</td><td>10.723785022452287</td><td>2.740888951337804</td><td>2.468719818515976</td><td>0.9768739925796226</td><td>0.8636424194920261</td><td>82780004</td></tr>\n",
       "<tr><td>29.097010963966863</td><td>-6.77468933995016</td><td>8.979629484175184</td><td>9.077384923656696</td><td>0.978418413114087</td><td>0.876305382215547</td><td>0.07417739547131046</td><td>0.024531039189393256</td><td>82780004</td></tr>\n",
       "<tr><td>29.126665626064202</td><td>-6.77473359426081</td><td>9.078793282420563</td><td>8.838606912904773</td><td>1.4133911338420106</td><td>1.3576792380738754</td><td>0.441010855900851</td><td>0.2828388934521663</td><td>82780004</td></tr>\n",
       "<tr><td>29.067357382379907</td><td>-6.774723759969203</td><td>8.724294474812964</td><td>8.092034781670222</td><td>1.6398715255079799</td><td>1.291632913192793</td><td>0.2969466287721493</td><td>0.821736433861384</td><td>82780004</td></tr>\n",
       "<tr><td>29.11473313855873</td><td>-6.774551113549213</td><td>9.0856476859274</td><td>9.409187064841733</td><td>1.2211835881853885</td><td>1.3903416195424674</td><td>0.4527860434731256</td><td>0.5138832152052826</td><td>82780004</td></tr>\n",
       "<tr><td>29.108439423590077</td><td>-6.773931553803997</td><td>10.12223123999261</td><td>10.125297915332798</td><td>2.3206592856413675</td><td>2.100990977155125</td><td>0.8082132715358024</td><td>0.6813521790193131</td><td>82780004</td></tr>\n",
       "<tr><td>29.10984648746462</td><td>-6.773631608498949</td><td>8.726966942259715</td><td>9.051504907407967</td><td>0.7367821896009307</td><td>0.6752602870199126</td><td>0.40838972920429817</td><td>0.25109423080404425</td><td>82780004</td></tr>\n",
       "<tr><td>29.096387207795175</td><td>-6.773254081977553</td><td>9.543923937852448</td><td>9.570405867353763</td><td>1.3539315512436612</td><td>1.196640193301764</td><td>0.28517641164092306</td><td>0.16152335891166184</td><td>82780004</td></tr>\n",
       "<tr><td>29.049894596351326</td><td>-6.773429459673613</td><td>8.354213317027678</td><td>8.487220583580587</td><td>0.5794553580344075</td><td>0.537204134981663</td><td>-0.021557828721925465</td><td>-0.04144860296468121</td><td>82780004</td></tr>\n",
       "<tr><td>29.098610255564555</td><td>-6.773342043991594</td><td>8.62630267170794</td><td>8.640651952243562</td><td>1.2818295894335097</td><td>1.107678209644407</td><td>0.24482455084107185</td><td>0.10253770133461515</td><td>82780004</td></tr>\n",
       "<tr><td>...</td><td>...</td><td>...</td><td>...</td><td>...</td><td>...</td><td>...</td><td>...</td><td>...</td></tr>\n",
       "<tr><td>213.90937654673772</td><td>53.18638864864173</td><td>6.785154331536149</td><td>6.957836855160547</td><td>0.35802602003414313</td><td>0.10685504313041985</td><td>0.2748841255914656</td><td>-0.003523679793177891</td><td>169730806</td></tr>\n",
       "<tr><td>213.89235322339857</td><td>53.21437135515517</td><td>6.751572443424841</td><td>7.2520827013926175</td><td>0.8223208533047088</td><td>0.21062086834363714</td><td>0.8519063565313476</td><td>0.09793335377772924</td><td>169730806</td></tr>\n",
       "<tr><td>213.8921000830188</td><td>53.21376977390978</td><td>6.778697667739912</td><td>7.050059536750344</td><td>0.38189778793296003</td><td>0.14374574848518787</td><td>0.42321855311355955</td><td>0.16427160509688782</td><td>169730806</td></tr>\n",
       "<tr><td>213.88924693059377</td><td>53.21989470071096</td><td>6.255006454315439</td><td>6.411080795943123</td><td>0.2852073675541536</td><td>0.23792794790520685</td><td>0.574388479891849</td><td>0.5000839454306993</td><td>169730806</td></tr>\n",
       "<tr><td>213.87825951856232</td><td>53.24095083437476</td><td>7.133362363499558</td><td>7.2963877211458525</td><td>0.2852073675541536</td><td>0.23792794790520685</td><td>0.574388479891849</td><td>0.5000839454306993</td><td>169730806</td></tr>\n",
       "<tr><td>213.90558452881055</td><td>53.24710141174297</td><td>8.487752022757265</td><td>8.665348000167766</td><td>1.1115192511331522</td><td>1.1115192511331522</td><td>0.4115699447711578</td><td>0.4115699447711578</td><td>169730806</td></tr>\n",
       "<tr><td>213.90602172554313</td><td>53.24722472245111</td><td>7.206891381427118</td><td>7.366826899149288</td><td>0.5315891853281582</td><td>0.5315891853281582</td><td>0.2022360518056518</td><td>0.2022360518056518</td><td>169730806</td></tr>\n",
       "<tr><td>213.88861027838306</td><td>53.25148278667229</td><td>6.352610449385459</td><td>6.518045374560998</td><td>0.2852073675541536</td><td>0.23792794790520685</td><td>0.574388479891849</td><td>0.5000839454306993</td><td>169730806</td></tr>\n",
       "<tr><td>213.8891779527558</td><td>53.25111281879681</td><td>7.483470540924449</td><td>7.643011792534263</td><td>0.5315891853281582</td><td>0.5315891853281582</td><td>0.2022360518056518</td><td>0.2022360518056518</td><td>169730806</td></tr>\n",
       "<tr><td>213.91304890213354</td><td>53.2576421336773</td><td>7.369386518426665</td><td>6.949981253093752</td><td>0.45064482338209644</td><td>0.868167603582124</td><td>0.11976510245338434</td><td>0.8290527627611197</td><td>169730806</td></tr>\n",
       "</table></div>"
      ],
      "text/plain": [
       "<Table length=174900944>\n",
       "        ra                dec         ...        g_r0p65        skymap_id\n",
       "     float64            float64       ...        float64          int32  \n",
       "------------------ ------------------ ... --------------------- ---------\n",
       " 29.11596307549589 -6.775140624839325 ...    0.8636424194920261  82780004\n",
       "29.097010963966863  -6.77468933995016 ...  0.024531039189393256  82780004\n",
       "29.126665626064202  -6.77473359426081 ...    0.2828388934521663  82780004\n",
       "29.067357382379907 -6.774723759969203 ...     0.821736433861384  82780004\n",
       " 29.11473313855873 -6.774551113549213 ...    0.5138832152052826  82780004\n",
       "29.108439423590077 -6.773931553803997 ...    0.6813521790193131  82780004\n",
       " 29.10984648746462 -6.773631608498949 ...   0.25109423080404425  82780004\n",
       "29.096387207795175 -6.773254081977553 ...   0.16152335891166184  82780004\n",
       "29.049894596351326 -6.773429459673613 ...  -0.04144860296468121  82780004\n",
       "29.098610255564555 -6.773342043991594 ...   0.10253770133461515  82780004\n",
       "               ...                ... ...                   ...       ...\n",
       "213.90937654673772  53.18638864864173 ... -0.003523679793177891 169730806\n",
       "213.89235322339857  53.21437135515517 ...   0.09793335377772924 169730806\n",
       " 213.8921000830188  53.21376977390978 ...   0.16427160509688782 169730806\n",
       "213.88924693059377  53.21989470071096 ...    0.5000839454306993 169730806\n",
       "213.87825951856232  53.24095083437476 ...    0.5000839454306993 169730806\n",
       "213.90558452881055  53.24710141174297 ...    0.4115699447711578 169730806\n",
       "213.90602172554313  53.24722472245111 ...    0.2022360518056518 169730806\n",
       "213.88861027838306  53.25148278667229 ...    0.5000839454306993 169730806\n",
       " 213.8891779527558  53.25111281879681 ...    0.2022360518056518 169730806\n",
       "213.91304890213354   53.2576421336773 ...    0.8290527627611197 169730806"
      ]
     },
     "execution_count": 16,
     "metadata": {},
     "output_type": "execute_result"
    }
   ],
   "source": [
    "targets   #174900944"
   ]
  },
  {
   "cell_type": "code",
   "execution_count": 19,
   "id": "8350aa0f-4a8f-400f-a822-aaf9e89a4083",
   "metadata": {
    "execution": {
     "iopub.execute_input": "2022-05-30T02:05:07.407342Z",
     "iopub.status.busy": "2022-05-30T02:05:07.407089Z",
     "iopub.status.idle": "2022-05-30T02:05:19.975322Z",
     "shell.execute_reply": "2022-05-30T02:05:19.974395Z",
     "shell.execute_reply.started": "2022-05-30T02:05:07.407320Z"
    },
    "tags": []
   },
   "outputs": [],
   "source": [
    "targets1 = targets[targets['mass0p55']>0]"
   ]
  },
  {
   "cell_type": "code",
   "execution_count": 20,
   "id": "8492eb0b-8022-4092-8edb-249cd7a36e35",
   "metadata": {
    "collapsed": true,
    "execution": {
     "iopub.execute_input": "2022-05-30T02:05:19.977269Z",
     "iopub.status.busy": "2022-05-30T02:05:19.976936Z",
     "iopub.status.idle": "2022-05-30T02:05:19.983768Z",
     "shell.execute_reply": "2022-05-30T02:05:19.983282Z",
     "shell.execute_reply.started": "2022-05-30T02:05:19.977244Z"
    },
    "jupyter": {
     "outputs_hidden": true
    },
    "tags": []
   },
   "outputs": [
    {
     "data": {
      "text/html": [
       "<div><i>Table length=174900944</i>\n",
       "<table id=\"table47915648449888\" class=\"table-striped table-bordered table-condensed\">\n",
       "<thead><tr><th>ra</th><th>dec</th><th>mass0p55</th><th>mass0p65</th><th>u_r0p55</th><th>u_r0p65</th><th>skymap_id</th></tr></thead>\n",
       "<thead><tr><th>float64</th><th>float64</th><th>float64</th><th>float64</th><th>float64</th><th>float64</th><th>int32</th></tr></thead>\n",
       "<tr><td>29.11596307549589</td><td>-6.775140624839325</td><td>10.404314285676042</td><td>10.482359474018388</td><td>2.566588118905932</td><td>2.3270799170437724</td><td>82780004</td></tr>\n",
       "<tr><td>29.097010963966863</td><td>-6.77468933995016</td><td>9.127960478339386</td><td>9.293049546402004</td><td>1.056011549268634</td><td>1.06234610399837</td><td>82780004</td></tr>\n",
       "<tr><td>29.126665626064202</td><td>-6.77473359426081</td><td>8.89370722838201</td><td>9.035765080036953</td><td>1.4271849252741138</td><td>1.3653001506596056</td><td>82780004</td></tr>\n",
       "<tr><td>29.067357382379907</td><td>-6.774723759969203</td><td>8.910811532614954</td><td>8.882212464982869</td><td>1.2944982421604612</td><td>1.1162052278891026</td><td>82780004</td></tr>\n",
       "<tr><td>29.11473313855873</td><td>-6.774551113549213</td><td>8.760510730003922</td><td>8.944164829956197</td><td>1.1185546871356176</td><td>1.105464151241544</td><td>82780004</td></tr>\n",
       "<tr><td>29.108439423590077</td><td>-6.773931553803997</td><td>9.886246347994758</td><td>9.958846057304605</td><td>2.240803596486524</td><td>2.065926193041734</td><td>82780004</td></tr>\n",
       "<tr><td>29.10984648746462</td><td>-6.773631608498949</td><td>8.964369327895923</td><td>9.277995851392218</td><td>0.7055529711735902</td><td>0.7672166408122977</td><td>82780004</td></tr>\n",
       "<tr><td>29.096387207795175</td><td>-6.773254081977553</td><td>9.609378978233654</td><td>9.781736022259167</td><td>1.3679168315949592</td><td>1.3238386728329958</td><td>82780004</td></tr>\n",
       "<tr><td>29.049894596351326</td><td>-6.773429459673613</td><td>8.487750072650359</td><td>8.58201542761342</td><td>0.7544628789960666</td><td>0.838214135408575</td><td>82780004</td></tr>\n",
       "<tr><td>29.098610255564555</td><td>-6.773342043991594</td><td>8.860941388968946</td><td>9.011862573438869</td><td>1.3419373067690383</td><td>1.2816548865729773</td><td>82780004</td></tr>\n",
       "<tr><td>...</td><td>...</td><td>...</td><td>...</td><td>...</td><td>...</td><td>...</td></tr>\n",
       "<tr><td>213.90937654673772</td><td>53.18638864864173</td><td>7.046300530513417</td><td>7.198280155374794</td><td>0.5327229147570981</td><td>0.5098095724805494</td><td>169730806</td></tr>\n",
       "<tr><td>213.89235322339857</td><td>53.21437135515517</td><td>7.22305279369054</td><td>7.4119313354915475</td><td>0.4457210685447479</td><td>0.4349419997330067</td><td>169730806</td></tr>\n",
       "<tr><td>213.8921000830188</td><td>53.21376977390978</td><td>7.052455359514247</td><td>7.204627962088674</td><td>0.4235552400990613</td><td>0.4081911941138295</td><td>169730806</td></tr>\n",
       "<tr><td>213.88924693059377</td><td>53.21989470071096</td><td>6.862337228866239</td><td>7.050514335953422</td><td>0.35696461993304446</td><td>0.33664991414995915</td><td>169730806</td></tr>\n",
       "<tr><td>213.87825951856232</td><td>53.24095083437476</td><td>7.741015620025216</td><td>8.027395269495054</td><td>0.3525553572561912</td><td>0.34242107937527333</td><td>169730806</td></tr>\n",
       "<tr><td>213.90558452881055</td><td>53.24710141174297</td><td>7.9676579269827945</td><td>8.176429159969905</td><td>0.8827552052881487</td><td>0.9035164513039022</td><td>169730806</td></tr>\n",
       "<tr><td>213.90602172554313</td><td>53.24722472245111</td><td>7.540834629175217</td><td>7.713142557921953</td><td>0.6744105284761002</td><td>0.6691922609110403</td><td>169730806</td></tr>\n",
       "<tr><td>213.88861027838306</td><td>53.25148278667229</td><td>7.609881048529837</td><td>7.924707474642083</td><td>0.5324538226578993</td><td>0.5712705253636173</td><td>169730806</td></tr>\n",
       "<tr><td>213.8891779527558</td><td>53.25111281879681</td><td>7.700271709606913</td><td>7.854512526755685</td><td>0.6259877512422931</td><td>0.6223975254817117</td><td>169730806</td></tr>\n",
       "<tr><td>213.91304890213354</td><td>53.2576421336773</td><td>7.740387373207939</td><td>7.88651007787491</td><td>0.7506651434513281</td><td>0.7386374003994847</td><td>169730806</td></tr>\n",
       "</table></div>"
      ],
      "text/plain": [
       "<Table length=174900944>\n",
       "        ra                dec         ...       u_r0p65       skymap_id\n",
       "     float64            float64       ...       float64         int32  \n",
       "------------------ ------------------ ... ------------------- ---------\n",
       " 29.11596307549589 -6.775140624839325 ...  2.3270799170437724  82780004\n",
       "29.097010963966863  -6.77468933995016 ...    1.06234610399837  82780004\n",
       "29.126665626064202  -6.77473359426081 ...  1.3653001506596056  82780004\n",
       "29.067357382379907 -6.774723759969203 ...  1.1162052278891026  82780004\n",
       " 29.11473313855873 -6.774551113549213 ...   1.105464151241544  82780004\n",
       "29.108439423590077 -6.773931553803997 ...   2.065926193041734  82780004\n",
       " 29.10984648746462 -6.773631608498949 ...  0.7672166408122977  82780004\n",
       "29.096387207795175 -6.773254081977553 ...  1.3238386728329958  82780004\n",
       "29.049894596351326 -6.773429459673613 ...   0.838214135408575  82780004\n",
       "29.098610255564555 -6.773342043991594 ...  1.2816548865729773  82780004\n",
       "               ...                ... ...                 ...       ...\n",
       "213.90937654673772  53.18638864864173 ...  0.5098095724805494 169730806\n",
       "213.89235322339857  53.21437135515517 ...  0.4349419997330067 169730806\n",
       " 213.8921000830188  53.21376977390978 ...  0.4081911941138295 169730806\n",
       "213.88924693059377  53.21989470071096 ... 0.33664991414995915 169730806\n",
       "213.87825951856232  53.24095083437476 ... 0.34242107937527333 169730806\n",
       "213.90558452881055  53.24710141174297 ...  0.9035164513039022 169730806\n",
       "213.90602172554313  53.24722472245111 ...  0.6691922609110403 169730806\n",
       "213.88861027838306  53.25148278667229 ...  0.5712705253636173 169730806\n",
       " 213.8891779527558  53.25111281879681 ...  0.6223975254817117 169730806\n",
       "213.91304890213354   53.2576421336773 ...  0.7386374003994847 169730806"
      ]
     },
     "execution_count": 20,
     "metadata": {},
     "output_type": "execute_result"
    }
   ],
   "source": [
    "targets1    #174900944"
   ]
  },
  {
   "cell_type": "code",
   "execution_count": 11,
   "id": "b9ada3ab-66c0-4da4-8d16-187835930c31",
   "metadata": {
    "execution": {
     "iopub.execute_input": "2022-02-21T04:30:38.636190Z",
     "iopub.status.busy": "2022-02-21T04:30:38.635660Z",
     "iopub.status.idle": "2022-02-21T04:30:45.850675Z",
     "shell.execute_reply": "2022-02-21T04:30:45.849611Z",
     "shell.execute_reply.started": "2022-02-21T04:30:38.636159Z"
    },
    "tags": []
   },
   "outputs": [],
   "source": [
    "targets2 = targets1[targets1['mass0p65']>0]"
   ]
  },
  {
   "cell_type": "code",
   "execution_count": 17,
   "id": "c6ad096a-833b-49a4-b39f-daad0f159d1a",
   "metadata": {
    "collapsed": true,
    "execution": {
     "iopub.execute_input": "2022-02-21T04:37:58.634339Z",
     "iopub.status.busy": "2022-02-21T04:37:58.633826Z",
     "iopub.status.idle": "2022-02-21T04:37:58.645543Z",
     "shell.execute_reply": "2022-02-21T04:37:58.644750Z",
     "shell.execute_reply.started": "2022-02-21T04:37:58.634297Z"
    },
    "jupyter": {
     "outputs_hidden": true
    },
    "tags": []
   },
   "outputs": [
    {
     "data": {
      "text/html": [
       "<div><i>Table length=174900944</i>\n",
       "<table id=\"table47129521959552\" class=\"table-striped table-bordered table-condensed\">\n",
       "<thead><tr><th>ra</th><th>dec</th><th>mass0p55</th><th>mass0p65</th><th>u_r0p55</th><th>u_r0p65</th><th>g_r0p55</th><th>g_r0p65</th><th>skymap_id</th></tr></thead>\n",
       "<thead><tr><th>float64</th><th>float64</th><th>float64</th><th>float64</th><th>float64</th><th>float64</th><th>float64</th><th>float64</th><th>int32</th></tr></thead>\n",
       "<tr><td>29.11596307549589</td><td>-6.775140624839325</td><td>10.545361965020351</td><td>10.723785022452287</td><td>2.740888951337804</td><td>2.468719818515976</td><td>0.9768739925796226</td><td>0.8636424194920261</td><td>82780004</td></tr>\n",
       "<tr><td>29.097010963966863</td><td>-6.77468933995016</td><td>8.979629484175184</td><td>9.077384923656696</td><td>0.978418413114087</td><td>0.876305382215547</td><td>0.07417739547131046</td><td>0.024531039189393256</td><td>82780004</td></tr>\n",
       "<tr><td>29.126665626064202</td><td>-6.77473359426081</td><td>9.078793282420563</td><td>8.838606912904773</td><td>1.4133911338420106</td><td>1.3576792380738754</td><td>0.441010855900851</td><td>0.2828388934521663</td><td>82780004</td></tr>\n",
       "<tr><td>29.067357382379907</td><td>-6.774723759969203</td><td>8.724294474812964</td><td>8.092034781670222</td><td>1.6398715255079799</td><td>1.291632913192793</td><td>0.2969466287721493</td><td>0.821736433861384</td><td>82780004</td></tr>\n",
       "<tr><td>29.11473313855873</td><td>-6.774551113549213</td><td>9.0856476859274</td><td>9.409187064841733</td><td>1.2211835881853885</td><td>1.3903416195424674</td><td>0.4527860434731256</td><td>0.5138832152052826</td><td>82780004</td></tr>\n",
       "<tr><td>29.108439423590077</td><td>-6.773931553803997</td><td>10.12223123999261</td><td>10.125297915332798</td><td>2.3206592856413675</td><td>2.100990977155125</td><td>0.8082132715358024</td><td>0.6813521790193131</td><td>82780004</td></tr>\n",
       "<tr><td>29.10984648746462</td><td>-6.773631608498949</td><td>8.726966942259715</td><td>9.051504907407967</td><td>0.7367821896009307</td><td>0.6752602870199126</td><td>0.40838972920429817</td><td>0.25109423080404425</td><td>82780004</td></tr>\n",
       "<tr><td>29.096387207795175</td><td>-6.773254081977553</td><td>9.543923937852448</td><td>9.570405867353763</td><td>1.3539315512436612</td><td>1.196640193301764</td><td>0.28517641164092306</td><td>0.16152335891166184</td><td>82780004</td></tr>\n",
       "<tr><td>29.049894596351326</td><td>-6.773429459673613</td><td>8.354213317027678</td><td>8.487220583580587</td><td>0.5794553580344075</td><td>0.537204134981663</td><td>-0.021557828721925465</td><td>-0.04144860296468121</td><td>82780004</td></tr>\n",
       "<tr><td>29.098610255564555</td><td>-6.773342043991594</td><td>8.62630267170794</td><td>8.640651952243562</td><td>1.2818295894335097</td><td>1.107678209644407</td><td>0.24482455084107185</td><td>0.10253770133461515</td><td>82780004</td></tr>\n",
       "<tr><td>...</td><td>...</td><td>...</td><td>...</td><td>...</td><td>...</td><td>...</td><td>...</td><td>...</td></tr>\n",
       "<tr><td>213.90937654673772</td><td>53.18638864864173</td><td>6.785154331536149</td><td>6.957836855160547</td><td>0.35802602003414313</td><td>0.10685504313041985</td><td>0.2748841255914656</td><td>-0.003523679793177891</td><td>169730806</td></tr>\n",
       "<tr><td>213.89235322339857</td><td>53.21437135515517</td><td>6.751572443424841</td><td>7.2520827013926175</td><td>0.8223208533047088</td><td>0.21062086834363714</td><td>0.8519063565313476</td><td>0.09793335377772924</td><td>169730806</td></tr>\n",
       "<tr><td>213.8921000830188</td><td>53.21376977390978</td><td>6.778697667739912</td><td>7.050059536750344</td><td>0.38189778793296003</td><td>0.14374574848518787</td><td>0.42321855311355955</td><td>0.16427160509688782</td><td>169730806</td></tr>\n",
       "<tr><td>213.88924693059377</td><td>53.21989470071096</td><td>6.255006454315439</td><td>6.411080795943123</td><td>0.2852073675541536</td><td>0.23792794790520685</td><td>0.574388479891849</td><td>0.5000839454306993</td><td>169730806</td></tr>\n",
       "<tr><td>213.87825951856232</td><td>53.24095083437476</td><td>7.133362363499558</td><td>7.2963877211458525</td><td>0.2852073675541536</td><td>0.23792794790520685</td><td>0.574388479891849</td><td>0.5000839454306993</td><td>169730806</td></tr>\n",
       "<tr><td>213.90558452881055</td><td>53.24710141174297</td><td>8.487752022757265</td><td>8.665348000167766</td><td>1.1115192511331522</td><td>1.1115192511331522</td><td>0.4115699447711578</td><td>0.4115699447711578</td><td>169730806</td></tr>\n",
       "<tr><td>213.90602172554313</td><td>53.24722472245111</td><td>7.206891381427118</td><td>7.366826899149288</td><td>0.5315891853281582</td><td>0.5315891853281582</td><td>0.2022360518056518</td><td>0.2022360518056518</td><td>169730806</td></tr>\n",
       "<tr><td>213.88861027838306</td><td>53.25148278667229</td><td>6.352610449385459</td><td>6.518045374560998</td><td>0.2852073675541536</td><td>0.23792794790520685</td><td>0.574388479891849</td><td>0.5000839454306993</td><td>169730806</td></tr>\n",
       "<tr><td>213.8891779527558</td><td>53.25111281879681</td><td>7.483470540924449</td><td>7.643011792534263</td><td>0.5315891853281582</td><td>0.5315891853281582</td><td>0.2022360518056518</td><td>0.2022360518056518</td><td>169730806</td></tr>\n",
       "<tr><td>213.91304890213354</td><td>53.2576421336773</td><td>7.369386518426665</td><td>6.949981253093752</td><td>0.45064482338209644</td><td>0.868167603582124</td><td>0.11976510245338434</td><td>0.8290527627611197</td><td>169730806</td></tr>\n",
       "</table></div>"
      ],
      "text/plain": [
       "<Table length=174900944>\n",
       "        ra                dec         ...        g_r0p65        skymap_id\n",
       "     float64            float64       ...        float64          int32  \n",
       "------------------ ------------------ ... --------------------- ---------\n",
       " 29.11596307549589 -6.775140624839325 ...    0.8636424194920261  82780004\n",
       "29.097010963966863  -6.77468933995016 ...  0.024531039189393256  82780004\n",
       "29.126665626064202  -6.77473359426081 ...    0.2828388934521663  82780004\n",
       "29.067357382379907 -6.774723759969203 ...     0.821736433861384  82780004\n",
       " 29.11473313855873 -6.774551113549213 ...    0.5138832152052826  82780004\n",
       "29.108439423590077 -6.773931553803997 ...    0.6813521790193131  82780004\n",
       " 29.10984648746462 -6.773631608498949 ...   0.25109423080404425  82780004\n",
       "29.096387207795175 -6.773254081977553 ...   0.16152335891166184  82780004\n",
       "29.049894596351326 -6.773429459673613 ...  -0.04144860296468121  82780004\n",
       "29.098610255564555 -6.773342043991594 ...   0.10253770133461515  82780004\n",
       "               ...                ... ...                   ...       ...\n",
       "213.90937654673772  53.18638864864173 ... -0.003523679793177891 169730806\n",
       "213.89235322339857  53.21437135515517 ...   0.09793335377772924 169730806\n",
       " 213.8921000830188  53.21376977390978 ...   0.16427160509688782 169730806\n",
       "213.88924693059377  53.21989470071096 ...    0.5000839454306993 169730806\n",
       "213.87825951856232  53.24095083437476 ...    0.5000839454306993 169730806\n",
       "213.90558452881055  53.24710141174297 ...    0.4115699447711578 169730806\n",
       "213.90602172554313  53.24722472245111 ...    0.2022360518056518 169730806\n",
       "213.88861027838306  53.25148278667229 ...    0.5000839454306993 169730806\n",
       " 213.8891779527558  53.25111281879681 ...    0.2022360518056518 169730806\n",
       "213.91304890213354   53.2576421336773 ...    0.8290527627611197 169730806"
      ]
     },
     "execution_count": 17,
     "metadata": {},
     "output_type": "execute_result"
    }
   ],
   "source": [
    "targets2    #174900944"
   ]
  },
  {
   "cell_type": "code",
   "execution_count": 42,
   "id": "c5722cb7-9195-40ac-b90c-32a762b53df7",
   "metadata": {
    "execution": {
     "iopub.execute_input": "2021-12-05T13:23:49.441278Z",
     "iopub.status.busy": "2021-12-05T13:23:49.440930Z",
     "iopub.status.idle": "2021-12-05T13:23:49.672060Z",
     "shell.execute_reply": "2021-12-05T13:23:49.671514Z",
     "shell.execute_reply.started": "2021-12-05T13:23:49.441257Z"
    },
    "tags": []
   },
   "outputs": [
    {
     "data": {
      "text/plain": [
       "-0.07136442456318552"
      ]
     },
     "execution_count": 42,
     "metadata": {},
     "output_type": "execute_result"
    }
   ],
   "source": [
    "np.min(targets2['u_r0p55'])"
   ]
  },
  {
   "cell_type": "code",
   "execution_count": 43,
   "id": "4e9ec888-753a-4345-b721-4655c2edb979",
   "metadata": {
    "execution": {
     "iopub.execute_input": "2021-12-05T13:23:51.837161Z",
     "iopub.status.busy": "2021-12-05T13:23:51.836576Z",
     "iopub.status.idle": "2021-12-05T13:23:52.683063Z",
     "shell.execute_reply": "2021-12-05T13:23:52.682402Z",
     "shell.execute_reply.started": "2021-12-05T13:23:51.837118Z"
    },
    "tags": []
   },
   "outputs": [
    {
     "data": {
      "text/plain": [
       "3.869409793985566"
      ]
     },
     "execution_count": 43,
     "metadata": {},
     "output_type": "execute_result"
    }
   ],
   "source": [
    "np.max(targets2['u_r0p55'])"
   ]
  },
  {
   "cell_type": "code",
   "execution_count": 27,
   "id": "d1c2da18-8a06-40ca-a694-5a40065e0c03",
   "metadata": {
    "execution": {
     "iopub.execute_input": "2021-11-29T08:02:38.074348Z",
     "iopub.status.busy": "2021-11-29T08:02:38.074228Z",
     "iopub.status.idle": "2021-11-29T08:04:16.988331Z",
     "shell.execute_reply": "2021-11-29T08:04:16.987846Z",
     "shell.execute_reply.started": "2021-11-29T08:02:38.074335Z"
    },
    "tags": []
   },
   "outputs": [],
   "source": [
    "# Table(targets2).write(\"/home/yunzheng/PAC/code/PAC/0.5_0.7/photo.fits\")"
   ]
  },
  {
   "cell_type": "markdown",
   "id": "dfc31a02-48d4-4fbb-8a0d-dfe8640cf30c",
   "metadata": {},
   "source": [
    "## ADD zmodel"
   ]
  },
  {
   "cell_type": "code",
   "execution_count": 16,
   "id": "2bf22480-2721-4249-b752-8e507a92a48d",
   "metadata": {
    "execution": {
     "iopub.execute_input": "2022-05-30T02:03:48.987183Z",
     "iopub.status.busy": "2022-05-30T02:03:48.986766Z",
     "iopub.status.idle": "2022-05-30T02:04:02.981150Z",
     "shell.execute_reply": "2022-05-30T02:04:02.979526Z",
     "shell.execute_reply.started": "2022-05-30T02:03:48.987156Z"
    },
    "tags": []
   },
   "outputs": [],
   "source": [
    "photo2 = Table.read(\"/home/kunxu/red_disk/PCF_LS_jack/photo.fits\")"
   ]
  },
  {
   "cell_type": "code",
   "execution_count": 50,
   "id": "f16a9f31-3af8-4d88-880d-4c363bf85ff2",
   "metadata": {
    "execution": {
     "iopub.execute_input": "2021-11-29T09:02:53.348418Z",
     "iopub.status.busy": "2021-11-29T09:02:53.348293Z",
     "iopub.status.idle": "2021-11-29T09:03:10.518421Z",
     "shell.execute_reply": "2021-11-29T09:03:10.517881Z",
     "shell.execute_reply.started": "2021-11-29T09:02:53.348403Z"
    },
    "tags": []
   },
   "outputs": [],
   "source": [
    "# target2 = Table.read(\"/home/yunzheng/PAC/code/PAC/0.5_0.7/photo.fits\")"
   ]
  },
  {
   "cell_type": "code",
   "execution_count": 19,
   "id": "7c2e828d-eaf9-4dfc-9d2e-5695bbbdafa1",
   "metadata": {
    "collapsed": true,
    "execution": {
     "iopub.execute_input": "2022-02-21T04:38:46.555925Z",
     "iopub.status.busy": "2022-02-21T04:38:46.555326Z",
     "iopub.status.idle": "2022-02-21T04:38:46.569115Z",
     "shell.execute_reply": "2022-02-21T04:38:46.568366Z",
     "shell.execute_reply.started": "2022-02-21T04:38:46.555869Z"
    },
    "jupyter": {
     "outputs_hidden": true
    },
    "tags": []
   },
   "outputs": [
    {
     "data": {
      "text/html": [
       "<div><i>Table length=174900944</i>\n",
       "<table id=\"table47129502754608\" class=\"table-striped table-bordered table-condensed\">\n",
       "<thead><tr><th>ra</th><th>dec</th><th>mass0p525</th><th>mass0p575</th><th>mass0p625</th><th>mass0p675</th><th>skymap_id</th><th>z_cmodel_mag</th></tr></thead>\n",
       "<thead><tr><th>float64</th><th>float64</th><th>float64</th><th>float64</th><th>float64</th><th>float64</th><th>int32</th><th>float32</th></tr></thead>\n",
       "<tr><td>29.11596307549589</td><td>-6.775140624839325</td><td>10.64256286779708</td><td>10.678079696255637</td><td>10.637120849263585</td><td>10.704212339457344</td><td>82780004</td><td>21.563286</td></tr>\n",
       "<tr><td>29.097010963966863</td><td>-6.77468933995016</td><td>8.905168831140513</td><td>8.972707189082614</td><td>9.046553857111551</td><td>9.100615448035434</td><td>82780004</td><td>22.589254</td></tr>\n",
       "<tr><td>29.126665626064202</td><td>-6.77473359426081</td><td>9.023458942835093</td><td>8.8443150645886</td><td>8.790569839151642</td><td>8.82004224544607</td><td>82780004</td><td>23.952927</td></tr>\n",
       "<tr><td>29.067357382379907</td><td>-6.774723759969203</td><td>8.692193266862423</td><td>7.932503204564348</td><td>8.043465787057237</td><td>8.150844502175065</td><td>82780004</td><td>24.229347</td></tr>\n",
       "<tr><td>29.11473313855873</td><td>-6.774551113549213</td><td>9.033286592836433</td><td>9.139869238718434</td><td>9.36395555033106</td><td>9.456687257682011</td><td>82780004</td><td>23.375526</td></tr>\n",
       "<tr><td>29.108439423590077</td><td>-6.773931553803997</td><td>10.058414886746977</td><td>10.116659189303533</td><td>10.007613653631513</td><td>10.189640115600449</td><td>82780004</td><td>22.238329</td></tr>\n",
       "<tr><td>29.10984648746462</td><td>-6.773631608498949</td><td>8.695476584271622</td><td>8.818165148860535</td><td>8.97682828400326</td><td>9.091290677570043</td><td>82780004</td><td>22.054401</td></tr>\n",
       "<tr><td>29.096387207795175</td><td>-6.773254081977553</td><td>9.491089016580537</td><td>9.5056299270349</td><td>9.559425300126087</td><td>9.622768330211176</td><td>82780004</td><td>21.860317</td></tr>\n",
       "<tr><td>29.049894596351326</td><td>-6.773429459673613</td><td>8.307302896442257</td><td>8.399839089202857</td><td>8.447218755236909</td><td>7.983678635933073</td><td>82780004</td><td>23.649101</td></tr>\n",
       "<tr><td>29.098610255564555</td><td>-6.773342043991594</td><td>8.59991398639756</td><td>8.626398935097365</td><td>8.595266109988794</td><td>8.655089298639778</td><td>82780004</td><td>23.587755</td></tr>\n",
       "<tr><td>...</td><td>...</td><td>...</td><td>...</td><td>...</td><td>...</td><td>...</td><td>...</td></tr>\n",
       "<tr><td>213.90937654673772</td><td>53.18638864864173</td><td>6.696451371068264</td><td>6.823980327032494</td><td>6.924424401855642</td><td>6.939095415655635</td><td>169730806</td><td>25.459488</td></tr>\n",
       "<tr><td>213.89235322339857</td><td>53.21437135515517</td><td>6.706967275069844</td><td>7.0525256925442745</td><td>7.124187598030234</td><td>7.3161773588582095</td><td>169730806</td><td>26.247253</td></tr>\n",
       "<tr><td>213.8921000830188</td><td>53.21376977390978</td><td>6.441332159910306</td><td>6.938624333632065</td><td>7.016789732797754</td><td>7.046318885509837</td><td>169730806</td><td>26.30872</td></tr>\n",
       "<tr><td>213.88924693059377</td><td>53.21989470071096</td><td>6.216336800474093</td><td>6.290577573609853</td><td>6.379322110833429</td><td>6.43961977478924</td><td>169730806</td><td>24.824312</td></tr>\n",
       "<tr><td>213.87825951856232</td><td>53.24095083437476</td><td>7.0950880211976965</td><td>7.168828863884012</td><td>7.23896121510795</td><td>7.325726885847805</td><td>169730806</td><td>24.217306</td></tr>\n",
       "<tr><td>213.90558452881055</td><td>53.24710141174297</td><td>8.35813968428709</td><td>8.535493417125588</td><td>8.62372349999638</td><td>8.81703838304109</td><td>169730806</td><td>25.071981</td></tr>\n",
       "<tr><td>213.90602172554313</td><td>53.24722472245111</td><td>6.899353128865722</td><td>7.249837505200762</td><td>7.329479085593028</td><td>7.403205997975418</td><td>169730806</td><td>25.360687</td></tr>\n",
       "<tr><td>213.88861027838306</td><td>53.25148278667229</td><td>6.312994650731437</td><td>6.389455291844724</td><td>6.460106228032526</td><td>6.547922017120791</td><td>169730806</td><td>26.669016</td></tr>\n",
       "<tr><td>213.8891779527558</td><td>53.25111281879681</td><td>7.440249878877039</td><td>7.526323080560802</td><td>7.605771692321061</td><td>7.679190787964554</td><td>169730806</td><td>24.896706</td></tr>\n",
       "<tr><td>213.91304890213354</td><td>53.2576421336773</td><td>6.600263067120526</td><td>7.414809638906181</td><td>6.899714712419918</td><td>6.993223864708865</td><td>169730806</td><td>27.359974</td></tr>\n",
       "</table></div>"
      ],
      "text/plain": [
       "<Table length=174900944>\n",
       "        ra                dec         ... skymap_id z_cmodel_mag\n",
       "     float64            float64       ...   int32     float32   \n",
       "------------------ ------------------ ... --------- ------------\n",
       " 29.11596307549589 -6.775140624839325 ...  82780004    21.563286\n",
       "29.097010963966863  -6.77468933995016 ...  82780004    22.589254\n",
       "29.126665626064202  -6.77473359426081 ...  82780004    23.952927\n",
       "29.067357382379907 -6.774723759969203 ...  82780004    24.229347\n",
       " 29.11473313855873 -6.774551113549213 ...  82780004    23.375526\n",
       "29.108439423590077 -6.773931553803997 ...  82780004    22.238329\n",
       " 29.10984648746462 -6.773631608498949 ...  82780004    22.054401\n",
       "29.096387207795175 -6.773254081977553 ...  82780004    21.860317\n",
       "29.049894596351326 -6.773429459673613 ...  82780004    23.649101\n",
       "29.098610255564555 -6.773342043991594 ...  82780004    23.587755\n",
       "               ...                ... ...       ...          ...\n",
       "213.90937654673772  53.18638864864173 ... 169730806    25.459488\n",
       "213.89235322339857  53.21437135515517 ... 169730806    26.247253\n",
       " 213.8921000830188  53.21376977390978 ... 169730806     26.30872\n",
       "213.88924693059377  53.21989470071096 ... 169730806    24.824312\n",
       "213.87825951856232  53.24095083437476 ... 169730806    24.217306\n",
       "213.90558452881055  53.24710141174297 ... 169730806    25.071981\n",
       "213.90602172554313  53.24722472245111 ... 169730806    25.360687\n",
       "213.88861027838306  53.25148278667229 ... 169730806    26.669016\n",
       " 213.8891779527558  53.25111281879681 ... 169730806    24.896706\n",
       "213.91304890213354   53.2576421336773 ... 169730806    27.359974"
      ]
     },
     "execution_count": 19,
     "metadata": {},
     "output_type": "execute_result"
    }
   ],
   "source": [
    "photo2"
   ]
  },
  {
   "cell_type": "code",
   "execution_count": 17,
   "id": "e1f7f2fb-fc88-4cc9-bb48-6afe5b55d9df",
   "metadata": {
    "execution": {
     "iopub.execute_input": "2022-05-30T02:04:02.983157Z",
     "iopub.status.busy": "2022-05-30T02:04:02.982826Z",
     "iopub.status.idle": "2022-05-30T02:04:04.011275Z",
     "shell.execute_reply": "2022-05-30T02:04:04.010030Z",
     "shell.execute_reply.started": "2022-05-30T02:04:02.983132Z"
    },
    "tags": []
   },
   "outputs": [],
   "source": [
    "z_cmodel = np.array(photo2['z_cmodel_mag'])"
   ]
  },
  {
   "cell_type": "code",
   "execution_count": 21,
   "id": "48cf5d7c-3e84-4586-aa5a-2bdbc4ac44de",
   "metadata": {
    "execution": {
     "iopub.execute_input": "2022-02-21T04:39:24.531408Z",
     "iopub.status.busy": "2022-02-21T04:39:24.530994Z",
     "iopub.status.idle": "2022-02-21T04:39:24.539450Z",
     "shell.execute_reply": "2022-02-21T04:39:24.538624Z",
     "shell.execute_reply.started": "2022-02-21T04:39:24.531359Z"
    },
    "tags": []
   },
   "outputs": [
    {
     "data": {
      "text/plain": [
       "array([21.563286, 22.589254, 23.952927, ..., 26.669016, 24.896706,\n",
       "       27.359974], dtype=float32)"
      ]
     },
     "execution_count": 21,
     "metadata": {},
     "output_type": "execute_result"
    }
   ],
   "source": [
    "z_cmodel"
   ]
  },
  {
   "cell_type": "code",
   "execution_count": 22,
   "id": "b66bc778-5c2c-428d-9ca1-951c7bd5a531",
   "metadata": {
    "execution": {
     "iopub.execute_input": "2022-05-30T02:05:40.004709Z",
     "iopub.status.busy": "2022-05-30T02:05:40.004425Z",
     "iopub.status.idle": "2022-05-30T02:05:43.340357Z",
     "shell.execute_reply": "2022-05-30T02:05:43.339416Z",
     "shell.execute_reply.started": "2022-05-30T02:05:40.004654Z"
    },
    "tags": []
   },
   "outputs": [],
   "source": [
    "targets1.add_column(Column(name = 'z_cmodel_mag',length = len(targets1),dtype = 'f8',data = z_cmodel))"
   ]
  },
  {
   "cell_type": "code",
   "execution_count": 23,
   "id": "ed00ecde-63bb-4913-90f1-328bca183a2e",
   "metadata": {
    "collapsed": true,
    "execution": {
     "iopub.execute_input": "2022-02-21T04:39:39.246438Z",
     "iopub.status.busy": "2022-02-21T04:39:39.246029Z",
     "iopub.status.idle": "2022-02-21T04:39:39.260392Z",
     "shell.execute_reply": "2022-02-21T04:39:39.259558Z",
     "shell.execute_reply.started": "2022-02-21T04:39:39.246389Z"
    },
    "jupyter": {
     "outputs_hidden": true
    },
    "tags": []
   },
   "outputs": [
    {
     "data": {
      "text/html": [
       "<div><i>Table length=174900944</i>\n",
       "<table id=\"table47129521959552\" class=\"table-striped table-bordered table-condensed\">\n",
       "<thead><tr><th>ra</th><th>dec</th><th>mass0p55</th><th>mass0p65</th><th>u_r0p55</th><th>u_r0p65</th><th>g_r0p55</th><th>g_r0p65</th><th>skymap_id</th><th>z_cmodel_mag</th></tr></thead>\n",
       "<thead><tr><th>float64</th><th>float64</th><th>float64</th><th>float64</th><th>float64</th><th>float64</th><th>float64</th><th>float64</th><th>int32</th><th>float64</th></tr></thead>\n",
       "<tr><td>29.11596307549589</td><td>-6.775140624839325</td><td>10.545361965020351</td><td>10.723785022452287</td><td>2.740888951337804</td><td>2.468719818515976</td><td>0.9768739925796226</td><td>0.8636424194920261</td><td>82780004</td><td>21.56328582763672</td></tr>\n",
       "<tr><td>29.097010963966863</td><td>-6.77468933995016</td><td>8.979629484175184</td><td>9.077384923656696</td><td>0.978418413114087</td><td>0.876305382215547</td><td>0.07417739547131046</td><td>0.024531039189393256</td><td>82780004</td><td>22.58925437927246</td></tr>\n",
       "<tr><td>29.126665626064202</td><td>-6.77473359426081</td><td>9.078793282420563</td><td>8.838606912904773</td><td>1.4133911338420106</td><td>1.3576792380738754</td><td>0.441010855900851</td><td>0.2828388934521663</td><td>82780004</td><td>23.952926635742188</td></tr>\n",
       "<tr><td>29.067357382379907</td><td>-6.774723759969203</td><td>8.724294474812964</td><td>8.092034781670222</td><td>1.6398715255079799</td><td>1.291632913192793</td><td>0.2969466287721493</td><td>0.821736433861384</td><td>82780004</td><td>24.229347229003906</td></tr>\n",
       "<tr><td>29.11473313855873</td><td>-6.774551113549213</td><td>9.0856476859274</td><td>9.409187064841733</td><td>1.2211835881853885</td><td>1.3903416195424674</td><td>0.4527860434731256</td><td>0.5138832152052826</td><td>82780004</td><td>23.375526428222656</td></tr>\n",
       "<tr><td>29.108439423590077</td><td>-6.773931553803997</td><td>10.12223123999261</td><td>10.125297915332798</td><td>2.3206592856413675</td><td>2.100990977155125</td><td>0.8082132715358024</td><td>0.6813521790193131</td><td>82780004</td><td>22.23832893371582</td></tr>\n",
       "<tr><td>29.10984648746462</td><td>-6.773631608498949</td><td>8.726966942259715</td><td>9.051504907407967</td><td>0.7367821896009307</td><td>0.6752602870199126</td><td>0.40838972920429817</td><td>0.25109423080404425</td><td>82780004</td><td>22.054401397705078</td></tr>\n",
       "<tr><td>29.096387207795175</td><td>-6.773254081977553</td><td>9.543923937852448</td><td>9.570405867353763</td><td>1.3539315512436612</td><td>1.196640193301764</td><td>0.28517641164092306</td><td>0.16152335891166184</td><td>82780004</td><td>21.86031723022461</td></tr>\n",
       "<tr><td>29.049894596351326</td><td>-6.773429459673613</td><td>8.354213317027678</td><td>8.487220583580587</td><td>0.5794553580344075</td><td>0.537204134981663</td><td>-0.021557828721925465</td><td>-0.04144860296468121</td><td>82780004</td><td>23.64910125732422</td></tr>\n",
       "<tr><td>29.098610255564555</td><td>-6.773342043991594</td><td>8.62630267170794</td><td>8.640651952243562</td><td>1.2818295894335097</td><td>1.107678209644407</td><td>0.24482455084107185</td><td>0.10253770133461515</td><td>82780004</td><td>23.58775520324707</td></tr>\n",
       "<tr><td>...</td><td>...</td><td>...</td><td>...</td><td>...</td><td>...</td><td>...</td><td>...</td><td>...</td><td>...</td></tr>\n",
       "<tr><td>213.90937654673772</td><td>53.18638864864173</td><td>6.785154331536149</td><td>6.957836855160547</td><td>0.35802602003414313</td><td>0.10685504313041985</td><td>0.2748841255914656</td><td>-0.003523679793177891</td><td>169730806</td><td>25.459487915039062</td></tr>\n",
       "<tr><td>213.89235322339857</td><td>53.21437135515517</td><td>6.751572443424841</td><td>7.2520827013926175</td><td>0.8223208533047088</td><td>0.21062086834363714</td><td>0.8519063565313476</td><td>0.09793335377772924</td><td>169730806</td><td>26.24725341796875</td></tr>\n",
       "<tr><td>213.8921000830188</td><td>53.21376977390978</td><td>6.778697667739912</td><td>7.050059536750344</td><td>0.38189778793296003</td><td>0.14374574848518787</td><td>0.42321855311355955</td><td>0.16427160509688782</td><td>169730806</td><td>26.308719635009766</td></tr>\n",
       "<tr><td>213.88924693059377</td><td>53.21989470071096</td><td>6.255006454315439</td><td>6.411080795943123</td><td>0.2852073675541536</td><td>0.23792794790520685</td><td>0.574388479891849</td><td>0.5000839454306993</td><td>169730806</td><td>24.824312210083008</td></tr>\n",
       "<tr><td>213.87825951856232</td><td>53.24095083437476</td><td>7.133362363499558</td><td>7.2963877211458525</td><td>0.2852073675541536</td><td>0.23792794790520685</td><td>0.574388479891849</td><td>0.5000839454306993</td><td>169730806</td><td>24.21730613708496</td></tr>\n",
       "<tr><td>213.90558452881055</td><td>53.24710141174297</td><td>8.487752022757265</td><td>8.665348000167766</td><td>1.1115192511331522</td><td>1.1115192511331522</td><td>0.4115699447711578</td><td>0.4115699447711578</td><td>169730806</td><td>25.07198143005371</td></tr>\n",
       "<tr><td>213.90602172554313</td><td>53.24722472245111</td><td>7.206891381427118</td><td>7.366826899149288</td><td>0.5315891853281582</td><td>0.5315891853281582</td><td>0.2022360518056518</td><td>0.2022360518056518</td><td>169730806</td><td>25.360687255859375</td></tr>\n",
       "<tr><td>213.88861027838306</td><td>53.25148278667229</td><td>6.352610449385459</td><td>6.518045374560998</td><td>0.2852073675541536</td><td>0.23792794790520685</td><td>0.574388479891849</td><td>0.5000839454306993</td><td>169730806</td><td>26.669015884399414</td></tr>\n",
       "<tr><td>213.8891779527558</td><td>53.25111281879681</td><td>7.483470540924449</td><td>7.643011792534263</td><td>0.5315891853281582</td><td>0.5315891853281582</td><td>0.2022360518056518</td><td>0.2022360518056518</td><td>169730806</td><td>24.896705627441406</td></tr>\n",
       "<tr><td>213.91304890213354</td><td>53.2576421336773</td><td>7.369386518426665</td><td>6.949981253093752</td><td>0.45064482338209644</td><td>0.868167603582124</td><td>0.11976510245338434</td><td>0.8290527627611197</td><td>169730806</td><td>27.359973907470703</td></tr>\n",
       "</table></div>"
      ],
      "text/plain": [
       "<Table length=174900944>\n",
       "        ra                dec         ... skymap_id    z_cmodel_mag   \n",
       "     float64            float64       ...   int32        float64      \n",
       "------------------ ------------------ ... --------- ------------------\n",
       " 29.11596307549589 -6.775140624839325 ...  82780004  21.56328582763672\n",
       "29.097010963966863  -6.77468933995016 ...  82780004  22.58925437927246\n",
       "29.126665626064202  -6.77473359426081 ...  82780004 23.952926635742188\n",
       "29.067357382379907 -6.774723759969203 ...  82780004 24.229347229003906\n",
       " 29.11473313855873 -6.774551113549213 ...  82780004 23.375526428222656\n",
       "29.108439423590077 -6.773931553803997 ...  82780004  22.23832893371582\n",
       " 29.10984648746462 -6.773631608498949 ...  82780004 22.054401397705078\n",
       "29.096387207795175 -6.773254081977553 ...  82780004  21.86031723022461\n",
       "29.049894596351326 -6.773429459673613 ...  82780004  23.64910125732422\n",
       "29.098610255564555 -6.773342043991594 ...  82780004  23.58775520324707\n",
       "               ...                ... ...       ...                ...\n",
       "213.90937654673772  53.18638864864173 ... 169730806 25.459487915039062\n",
       "213.89235322339857  53.21437135515517 ... 169730806  26.24725341796875\n",
       " 213.8921000830188  53.21376977390978 ... 169730806 26.308719635009766\n",
       "213.88924693059377  53.21989470071096 ... 169730806 24.824312210083008\n",
       "213.87825951856232  53.24095083437476 ... 169730806  24.21730613708496\n",
       "213.90558452881055  53.24710141174297 ... 169730806  25.07198143005371\n",
       "213.90602172554313  53.24722472245111 ... 169730806 25.360687255859375\n",
       "213.88861027838306  53.25148278667229 ... 169730806 26.669015884399414\n",
       " 213.8891779527558  53.25111281879681 ... 169730806 24.896705627441406\n",
       "213.91304890213354   53.2576421336773 ... 169730806 27.359973907470703"
      ]
     },
     "execution_count": 23,
     "metadata": {},
     "output_type": "execute_result"
    }
   ],
   "source": [
    "targets2"
   ]
  },
  {
   "cell_type": "code",
   "execution_count": 24,
   "id": "3b30dc64-dece-4f9f-90f9-c78e5b3873de",
   "metadata": {
    "execution": {
     "iopub.execute_input": "2022-05-30T02:06:51.982576Z",
     "iopub.status.busy": "2022-05-30T02:06:51.982120Z",
     "iopub.status.idle": "2022-05-30T02:09:35.750010Z",
     "shell.execute_reply": "2022-05-30T02:09:35.748624Z",
     "shell.execute_reply.started": "2022-05-30T02:06:51.982556Z"
    },
    "tags": []
   },
   "outputs": [],
   "source": [
    "Table(targets1).write(\"./photo_bayes_5_7.fits\")"
   ]
  },
  {
   "cell_type": "code",
   "execution_count": 25,
   "id": "57e1ff85-9557-4691-bbc8-bdcfdd72b2e1",
   "metadata": {
    "execution": {
     "iopub.execute_input": "2022-02-21T17:21:05.908211Z",
     "iopub.status.busy": "2022-02-21T17:21:05.907624Z",
     "iopub.status.idle": "2022-02-21T17:21:05.916182Z",
     "shell.execute_reply": "2022-02-21T17:21:05.915300Z",
     "shell.execute_reply.started": "2022-02-21T17:21:05.908161Z"
    }
   },
   "outputs": [
    {
     "data": {
      "text/plain": [
       "'/home/yunzheng/PAC/code/hsc_SEDfitting'"
      ]
     },
     "execution_count": 25,
     "metadata": {},
     "output_type": "execute_result"
    }
   ],
   "source": [
    "pwd"
   ]
  },
  {
   "cell_type": "markdown",
   "id": "ad7fd6b0-eaa1-4ceb-ba9c-847055af4610",
   "metadata": {},
   "source": [
    "# central test\n"
   ]
  },
  {
   "cell_type": "code",
   "execution_count": 31,
   "id": "140c667d-126c-4946-8468-2236be41911d",
   "metadata": {
    "execution": {
     "iopub.execute_input": "2021-11-29T08:35:49.374617Z",
     "iopub.status.busy": "2021-11-29T08:35:49.374493Z",
     "iopub.status.idle": "2021-11-29T08:35:49.576211Z",
     "shell.execute_reply": "2021-11-29T08:35:49.575695Z",
     "shell.execute_reply.started": "2021-11-29T08:35:49.374602Z"
    },
    "tags": []
   },
   "outputs": [],
   "source": [
    "center = Table.read('/home/kunxu/lensing/HSC11.3_center.fits')"
   ]
  },
  {
   "cell_type": "code",
   "execution_count": 38,
   "id": "2a9e8272-0c4e-4d7b-8147-908f190e0d09",
   "metadata": {
    "collapsed": true,
    "execution": {
     "iopub.execute_input": "2021-11-29T08:40:31.063547Z",
     "iopub.status.busy": "2021-11-29T08:40:31.063404Z",
     "iopub.status.idle": "2021-11-29T08:40:31.172028Z",
     "shell.execute_reply": "2021-11-29T08:40:31.171602Z",
     "shell.execute_reply.started": "2021-11-29T08:40:31.063529Z"
    },
    "jupyter": {
     "outputs_hidden": true
    },
    "tags": []
   },
   "outputs": [
    {
     "data": {
      "text/html": [
       "<div><i>Table length=7986</i>\n",
       "<table id=\"table47531486448080\" class=\"table-striped table-bordered table-condensed\">\n",
       "<thead><tr><th>RA_1</th><th>DEC_1</th><th>RUN</th><th>RERUN</th><th>CAMCOL</th><th>FIELD</th><th>ID</th><th>ICHUNK</th><th>IPOLY</th><th>ISECT</th><th>FRACPSF [5]</th><th>EXPFLUX [5]</th><th>DEVFLUX [5]</th><th>PSFFLUX [5]</th><th>MODELFLUX [5]</th><th>FIBER2FLUX [5]</th><th>R_DEV [5]</th><th>EXTINCTION [5]</th><th>PSF_FWHM [5]</th><th>AIRMASS</th><th>SKYFLUX [5]</th><th>EB_MINUS_V</th><th>IMAGE_DEPTH [5]</th><th>IMATCH</th><th>Z</th><th>WEIGHT_FKP</th><th>WEIGHT_CP</th><th>WEIGHT_NOZ</th><th>WEIGHT_STAR</th><th>WEIGHT_SEEING</th><th>WEIGHT_SYSTOT</th><th>NZ</th><th>COMP</th><th>PLATE_1</th><th>FIBERID_1</th><th>MJD_1</th><th>FINALN</th><th>TILE [3]</th><th>SPECTILE</th><th>ICOLLIDED</th><th>INGROUP</th><th>MULTGROUP</th><th>object_id</th><th>object_id_isnull</th><th>ra_2</th><th>ra_isnull</th><th>dec_2</th><th>dec_isnull</th><th>g_cmodel_mag</th><th>g_cmodel_mag_isnull</th><th>g_cmodel_magsigma</th><th>g_cmodel_magsigma_isnull</th><th>r_cmodel_mag</th><th>r_cmodel_mag_isnull</th><th>r_cmodel_magsigma</th><th>r_cmodel_magsigma_isnull</th><th>i_cmodel_mag</th><th>i_cmodel_mag_isnull</th><th>i_cmodel_magsigma</th><th>i_cmodel_magsigma_isnull</th><th>z_cmodel_mag</th><th>z_cmodel_mag_isnull</th><th>z_cmodel_magsigma</th><th>z_cmodel_magsigma_isnull</th><th>y_cmodel_mag</th><th>y_cmodel_mag_isnull</th><th>y_cmodel_magsigma</th><th>y_cmodel_magsigma_isnull</th><th>a_g</th><th>a_g_isnull</th><th>a_r</th><th>a_r_isnull</th><th>a_i</th><th>a_i_isnull</th><th>a_z</th><th>a_z_isnull</th><th>a_y</th><th>a_y_isnull</th><th>Separation_1</th><th>RELEASE</th><th>BRICKID</th><th>BRICKNAME</th><th>OBJID</th><th>BRICK_PRIMARY</th><th>BRIGHTBLOB</th><th>MASKBITS</th><th>TYPE</th><th>RA</th><th>DEC</th><th>RA_IVAR</th><th>DEC_IVAR</th><th>BX</th><th>BY</th><th>DCHISQ [5]</th><th>EBV</th><th>MJD_MIN</th><th>MJD_MAX</th><th>REF_CAT</th><th>REF_ID</th><th>PMRA</th><th>PMDEC</th><th>PARALLAX</th><th>PMRA_IVAR</th><th>PMDEC_IVAR</th><th>PARALLAX_IVAR</th><th>REF_EPOCH</th><th>GAIA_POINTSOURCE</th><th>GAIA_PHOT_G_MEAN_MAG</th><th>GAIA_PHOT_G_MEAN_FLUX_OVER_ERROR</th><th>GAIA_PHOT_G_N_OBS</th><th>GAIA_PHOT_BP_MEAN_MAG</th><th>GAIA_PHOT_BP_MEAN_FLUX_OVER_ERROR</th><th>GAIA_PHOT_BP_N_OBS</th><th>GAIA_PHOT_RP_MEAN_MAG</th><th>GAIA_PHOT_RP_MEAN_FLUX_OVER_ERROR</th><th>GAIA_PHOT_RP_N_OBS</th><th>GAIA_PHOT_VARIABLE_FLAG</th><th>GAIA_ASTROMETRIC_EXCESS_NOISE</th><th>GAIA_ASTROMETRIC_EXCESS_NOISE_SIG</th><th>GAIA_ASTROMETRIC_N_OBS_AL</th><th>GAIA_ASTROMETRIC_N_GOOD_OBS_AL</th><th>GAIA_ASTROMETRIC_WEIGHT_AL</th><th>GAIA_DUPLICATED_SOURCE</th><th>GAIA_A_G_VAL</th><th>GAIA_E_BP_MIN_RP_VAL</th><th>GAIA_PHOT_BP_RP_EXCESS_FACTOR</th><th>GAIA_ASTROMETRIC_SIGMA5D_MAX</th><th>GAIA_ASTROMETRIC_PARAMS_SOLVED</th><th>FLUX_G</th><th>FLUX_R</th><th>FLUX_Z</th><th>FLUX_W1</th><th>FLUX_W2</th><th>FLUX_W3</th><th>FLUX_W4</th><th>FLUX_IVAR_G</th><th>FLUX_IVAR_R</th><th>FLUX_IVAR_Z</th><th>FLUX_IVAR_W1</th><th>FLUX_IVAR_W2</th><th>FLUX_IVAR_W3</th><th>FLUX_IVAR_W4</th><th>FIBERFLUX_G</th><th>FIBERFLUX_R</th><th>FIBERFLUX_Z</th><th>FIBERTOTFLUX_G</th><th>FIBERTOTFLUX_R</th><th>FIBERTOTFLUX_Z</th><th>APFLUX_G [8]</th><th>APFLUX_R [8]</th><th>APFLUX_Z [8]</th><th>APFLUX_RESID_G [8]</th><th>APFLUX_RESID_R [8]</th><th>APFLUX_RESID_Z [8]</th><th>APFLUX_IVAR_G [8]</th><th>APFLUX_IVAR_R [8]</th><th>APFLUX_IVAR_Z [8]</th><th>MW_TRANSMISSION_G</th><th>MW_TRANSMISSION_R</th><th>MW_TRANSMISSION_Z</th><th>MW_TRANSMISSION_W1</th><th>MW_TRANSMISSION_W2</th><th>MW_TRANSMISSION_W3</th><th>MW_TRANSMISSION_W4</th><th>NOBS_G</th><th>NOBS_R</th><th>NOBS_Z</th><th>NOBS_W1</th><th>NOBS_W2</th><th>NOBS_W3</th><th>NOBS_W4</th><th>RCHISQ_G</th><th>RCHISQ_R</th><th>RCHISQ_Z</th><th>RCHISQ_W1</th><th>RCHISQ_W2</th><th>RCHISQ_W3</th><th>RCHISQ_W4</th><th>FRACFLUX_G</th><th>FRACFLUX_R</th><th>FRACFLUX_Z</th><th>FRACFLUX_W1</th><th>FRACFLUX_W2</th><th>FRACFLUX_W3</th><th>FRACFLUX_W4</th><th>FRACMASKED_G</th><th>FRACMASKED_R</th><th>FRACMASKED_Z</th><th>FRACIN_G</th><th>FRACIN_R</th><th>FRACIN_Z</th><th>ANYMASK_G</th><th>ANYMASK_R</th><th>ANYMASK_Z</th><th>ALLMASK_G</th><th>ALLMASK_R</th><th>ALLMASK_Z</th><th>WISEMASK_W1</th><th>WISEMASK_W2</th><th>PSFSIZE_G</th><th>PSFSIZE_R</th><th>PSFSIZE_Z</th><th>PSFDEPTH_G</th><th>PSFDEPTH_R</th><th>PSFDEPTH_Z</th><th>GALDEPTH_G</th><th>GALDEPTH_R</th><th>GALDEPTH_Z</th><th>PSFDEPTH_W1</th><th>PSFDEPTH_W2</th><th>PSFDEPTH_W3</th><th>PSFDEPTH_W4</th><th>WISE_COADD_ID</th><th>LC_FLUX_W1 [11]</th><th>LC_FLUX_W2 [11]</th><th>LC_FLUX_IVAR_W1 [11]</th><th>LC_FLUX_IVAR_W2 [11]</th><th>LC_NOBS_W1 [11]</th><th>LC_NOBS_W2 [11]</th><th>LC_FRACFLUX_W1 [11]</th><th>LC_FRACFLUX_W2 [11]</th><th>LC_RCHISQ_W1 [11]</th><th>LC_RCHISQ_W2 [11]</th><th>LC_MJD_W1 [11]</th><th>LC_MJD_W2 [11]</th><th>FRACDEV</th><th>FRACDEV_IVAR</th><th>SHAPEEXP_R</th><th>SHAPEEXP_R_IVAR</th><th>SHAPEEXP_E1</th><th>SHAPEEXP_E1_IVAR</th><th>SHAPEEXP_E2</th><th>SHAPEEXP_E2_IVAR</th><th>SHAPEDEV_R</th><th>SHAPEDEV_R_IVAR</th><th>SHAPEDEV_E1</th><th>SHAPEDEV_E1_IVAR</th><th>SHAPEDEV_E2</th><th>SHAPEDEV_E2_IVAR</th><th>MJD_2</th><th>PLATE_2</th><th>FIBERID_2</th><th>RUN2D</th><th>Separation</th><th>id</th><th>bayes.attenuation.E_BVs.stellar.old</th><th>bayes.attenuation.E_BVs.stellar.old_err</th><th>bayes.attenuation.E_BVs.stellar.young</th><th>bayes.attenuation.E_BVs.stellar.young_err</th><th>bayes.stellar.age_m_star</th><th>bayes.stellar.age_m_star_err</th><th>bayes.universe.redshift</th><th>bayes.universe.redshift_err</th><th>bayes.stellar.m_star</th><th>bayes.stellar.m_star_err</th><th>bayes.WISE1</th><th>bayes.WISE1_err</th><th>bayes.WISE2</th><th>bayes.WISE2_err</th><th>bayes.subaru.hsc.g</th><th>bayes.subaru.hsc.g_err</th><th>bayes.subaru.hsc.i</th><th>bayes.subaru.hsc.i_err</th><th>bayes.subaru.hsc.r</th><th>bayes.subaru.hsc.r_err</th><th>bayes.subaru.hsc.y</th><th>bayes.subaru.hsc.y_err</th><th>bayes.subaru.hsc.z</th><th>bayes.subaru.hsc.z_err</th><th>best.chi_square</th><th>best.reduced_chi_square</th><th>best.attenuation.E_BVs.nebular.continuum_old</th><th>best.attenuation.E_BVs.nebular.continuum_young</th><th>best.attenuation.E_BVs.nebular.lines_old</th><th>best.attenuation.E_BVs.nebular.lines_young</th><th>best.attenuation.E_BVs.stellar.old</th><th>best.attenuation.E_BVs.stellar.young</th><th>best.attenuation.ebvs_old_factor</th><th>best.attenuation.powerlaw_slope</th><th>best.attenuation.subaru.hsc.g</th><th>best.attenuation.uv_bump_amplitude</th><th>best.attenuation.uv_bump_wavelength</th><th>best.attenuation.uv_bump_width</th><th>best.nebular.f_dust</th><th>best.nebular.f_esc</th><th>best.nebular.lines_width</th><th>best.nebular.logU</th><th>best.sfh.age</th><th>best.sfh.age_burst</th><th>best.sfh.age_main</th><th>best.sfh.f_burst</th><th>best.sfh.tau_burst</th><th>best.sfh.tau_main</th><th>best.stellar.age_m_star</th><th>best.stellar.imf</th><th>best.stellar.metallicity</th><th>best.stellar.old_young_separation_age</th><th>best.universe.age</th><th>best.universe.luminosity_distance</th><th>best.universe.redshift</th><th>best.attenuation.nebular.continuum_old</th><th>best.attenuation.nebular.continuum_young</th><th>best.attenuation.nebular.lines_old</th><th>best.attenuation.nebular.lines_young</th><th>best.attenuation.stellar.old</th><th>best.attenuation.stellar.young</th><th>best.dust.luminosity</th><th>best.param.restframe_Lnu(galex.NUV)</th><th>best.param.restframe_Lnu(sdss.up)</th><th>best.param.restframe_Lnu(subaru.hsc.g)</th><th>best.param.restframe_Lnu(subaru.hsc.i)</th><th>best.param.restframe_Lnu(subaru.hsc.r)</th><th>best.param.restframe_Lnu(subaru.hsc.y)</th><th>best.param.restframe_Lnu(subaru.hsc.z)</th><th>best.sfh.integrated</th><th>best.sfh.sfr</th><th>best.sfh.sfr100Myrs</th><th>best.sfh.sfr10Myrs</th><th>best.stellar.lum</th><th>best.stellar.lum_ly</th><th>best.stellar.lum_ly_old</th><th>best.stellar.lum_ly_young</th><th>best.stellar.lum_old</th><th>best.stellar.lum_young</th><th>best.stellar.m_gas</th><th>best.stellar.m_gas_old</th><th>best.stellar.m_gas_young</th><th>best.stellar.m_star</th><th>best.stellar.m_star_old</th><th>best.stellar.m_star_young</th><th>best.stellar.n_ly</th><th>best.stellar.n_ly_old</th><th>best.stellar.n_ly_young</th><th>best.subaru.hsc.g</th><th>best.subaru.hsc.r</th><th>best.subaru.hsc.i</th><th>best.subaru.hsc.z</th><th>best.subaru.hsc.y</th><th>best.WISE1</th><th>best.WISE2</th><th>index_new</th><th>skymap_id</th></tr></thead>\n",
       "<thead><tr><th></th><th></th><th></th><th></th><th></th><th></th><th></th><th></th><th></th><th></th><th></th><th></th><th></th><th></th><th></th><th></th><th></th><th></th><th></th><th></th><th></th><th></th><th></th><th></th><th></th><th></th><th></th><th></th><th></th><th></th><th></th><th></th><th></th><th></th><th></th><th></th><th></th><th></th><th></th><th></th><th></th><th></th><th></th><th></th><th></th><th></th><th></th><th></th><th></th><th></th><th></th><th></th><th></th><th></th><th></th><th></th><th></th><th></th><th></th><th></th><th></th><th></th><th></th><th></th><th></th><th></th><th></th><th></th><th></th><th></th><th></th><th></th><th></th><th></th><th></th><th></th><th></th><th></th><th>arcsec</th><th></th><th></th><th></th><th></th><th></th><th></th><th></th><th></th><th></th><th></th><th></th><th></th><th></th><th></th><th></th><th></th><th></th><th></th><th></th><th></th><th></th><th></th><th></th><th></th><th></th><th></th><th></th><th></th><th></th><th></th><th></th><th></th><th></th><th></th><th></th><th></th><th></th><th></th><th></th><th></th><th></th><th></th><th></th><th></th><th></th><th></th><th></th><th></th><th></th><th></th><th></th><th></th><th></th><th></th><th></th><th></th><th></th><th></th><th></th><th></th><th></th><th></th><th></th><th></th><th></th><th></th><th></th><th></th><th></th><th></th><th></th><th></th><th></th><th></th><th></th><th></th><th></th><th></th><th></th><th></th><th></th><th></th><th></th><th></th><th></th><th></th><th></th><th></th><th></th><th></th><th></th><th></th><th></th><th></th><th></th><th></th><th></th><th></th><th></th><th></th><th></th><th></th><th></th><th></th><th></th><th></th><th></th><th></th><th></th><th></th><th></th><th></th><th></th><th></th><th></th><th></th><th></th><th></th><th></th><th></th><th></th><th></th><th></th><th></th><th></th><th></th><th></th><th></th><th></th><th></th><th></th><th></th><th></th><th></th><th></th><th></th><th></th><th></th><th></th><th></th><th></th><th></th><th></th><th></th><th></th><th></th><th></th><th></th><th></th><th></th><th></th><th></th><th></th><th></th><th></th><th></th><th></th><th></th><th></th><th></th><th></th><th></th><th></th><th></th><th>arcsec</th><th></th><th>mag</th><th>mag</th><th>mag</th><th>mag</th><th>Myr</th><th>Myr</th><th></th><th></th><th>solMass</th><th>solMass</th><th>mJy</th><th>mJy</th><th>mJy</th><th>mJy</th><th>mJy</th><th>mJy</th><th>mJy</th><th>mJy</th><th>mJy</th><th>mJy</th><th>mJy</th><th>mJy</th><th>mJy</th><th>mJy</th><th></th><th></th><th>mag</th><th>mag</th><th>mag</th><th>mag</th><th>mag</th><th>mag</th><th></th><th></th><th>mag</th><th></th><th>nm</th><th>nm</th><th></th><th></th><th>km / s</th><th></th><th>Myr</th><th>Myr</th><th>Myr</th><th></th><th>Myr</th><th>Myr</th><th>Myr</th><th></th><th></th><th>Myr</th><th>Myr</th><th>m</th><th></th><th>mag</th><th>mag</th><th>mag</th><th>mag</th><th>mag</th><th>mag</th><th>W</th><th>W</th><th>W</th><th>W</th><th>W</th><th>W</th><th>W</th><th>W</th><th>solMass</th><th>solMass / yr</th><th>solMass / yr</th><th>solMass / yr</th><th>W</th><th>W</th><th>W</th><th>W</th><th>W</th><th>W</th><th>solMass</th><th>solMass</th><th>solMass</th><th>solMass</th><th>solMass</th><th>solMass</th><th>ph / s</th><th>ph / s</th><th>ph / s</th><th>mJy</th><th>mJy</th><th>mJy</th><th>mJy</th><th>mJy</th><th>mJy</th><th>mJy</th><th></th><th></th></tr></thead>\n",
       "<thead><tr><th>float64</th><th>float64</th><th>int32</th><th>bytes12</th><th>int32</th><th>int32</th><th>int32</th><th>int32</th><th>int32</th><th>int32</th><th>float32</th><th>float32</th><th>float32</th><th>float32</th><th>float32</th><th>float32</th><th>float32</th><th>float32</th><th>float32</th><th>float32</th><th>float32</th><th>float32</th><th>float32</th><th>int32</th><th>float32</th><th>float32</th><th>float32</th><th>float32</th><th>float32</th><th>float32</th><th>float32</th><th>float32</th><th>float32</th><th>int32</th><th>int32</th><th>int32</th><th>int32</th><th>int16</th><th>int32</th><th>int32</th><th>int32</th><th>int32</th><th>int64</th><th>bool</th><th>float64</th><th>bool</th><th>float64</th><th>bool</th><th>float32</th><th>bool</th><th>float32</th><th>bool</th><th>float32</th><th>bool</th><th>float32</th><th>bool</th><th>float32</th><th>bool</th><th>float32</th><th>bool</th><th>float32</th><th>bool</th><th>float32</th><th>bool</th><th>float32</th><th>bool</th><th>float32</th><th>bool</th><th>float32</th><th>bool</th><th>float32</th><th>bool</th><th>float32</th><th>bool</th><th>float32</th><th>bool</th><th>float32</th><th>bool</th><th>float64</th><th>int16</th><th>int32</th><th>bytes8</th><th>int32</th><th>bool</th><th>int16</th><th>int16</th><th>bytes4</th><th>float64</th><th>float64</th><th>float32</th><th>float32</th><th>float32</th><th>float32</th><th>float32</th><th>float32</th><th>float64</th><th>float64</th><th>bytes2</th><th>int64</th><th>float32</th><th>float32</th><th>float32</th><th>float32</th><th>float32</th><th>float32</th><th>float32</th><th>bool</th><th>float32</th><th>float32</th><th>int16</th><th>float32</th><th>float32</th><th>int16</th><th>float32</th><th>float32</th><th>int16</th><th>bool</th><th>float32</th><th>float32</th><th>int16</th><th>int16</th><th>float32</th><th>bool</th><th>float32</th><th>float32</th><th>float32</th><th>float32</th><th>uint8</th><th>float32</th><th>float32</th><th>float32</th><th>float32</th><th>float32</th><th>float32</th><th>float32</th><th>float32</th><th>float32</th><th>float32</th><th>float32</th><th>float32</th><th>float32</th><th>float32</th><th>float32</th><th>float32</th><th>float32</th><th>float32</th><th>float32</th><th>float32</th><th>float32</th><th>float32</th><th>float32</th><th>float32</th><th>float32</th><th>float32</th><th>float32</th><th>float32</th><th>float32</th><th>float32</th><th>float32</th><th>float32</th><th>float32</th><th>float32</th><th>float32</th><th>float32</th><th>int16</th><th>int16</th><th>int16</th><th>int16</th><th>int16</th><th>int16</th><th>int16</th><th>float32</th><th>float32</th><th>float32</th><th>float32</th><th>float32</th><th>float32</th><th>float32</th><th>float32</th><th>float32</th><th>float32</th><th>float32</th><th>float32</th><th>float32</th><th>float32</th><th>float32</th><th>float32</th><th>float32</th><th>float32</th><th>float32</th><th>float32</th><th>int16</th><th>int16</th><th>int16</th><th>int16</th><th>int16</th><th>int16</th><th>uint8</th><th>uint8</th><th>float32</th><th>float32</th><th>float32</th><th>float32</th><th>float32</th><th>float32</th><th>float32</th><th>float32</th><th>float32</th><th>float32</th><th>float32</th><th>float32</th><th>float32</th><th>bytes8</th><th>float32</th><th>float32</th><th>float32</th><th>float32</th><th>int16</th><th>int16</th><th>float32</th><th>float32</th><th>float32</th><th>float32</th><th>float64</th><th>float64</th><th>float32</th><th>float32</th><th>float32</th><th>float32</th><th>float32</th><th>float32</th><th>float32</th><th>float32</th><th>float32</th><th>float32</th><th>float32</th><th>float32</th><th>float32</th><th>float32</th><th>int32</th><th>int32</th><th>int32</th><th>bytes7</th><th>float64</th><th>int64</th><th>float64</th><th>float64</th><th>float64</th><th>float64</th><th>float64</th><th>float64</th><th>float64</th><th>float64</th><th>float64</th><th>float64</th><th>float64</th><th>float64</th><th>float64</th><th>float64</th><th>float64</th><th>float64</th><th>float64</th><th>float64</th><th>float64</th><th>float64</th><th>float64</th><th>float64</th><th>float64</th><th>float64</th><th>float64</th><th>float64</th><th>float64</th><th>float64</th><th>float64</th><th>float64</th><th>float64</th><th>float64</th><th>float64</th><th>float64</th><th>float64</th><th>float64</th><th>float64</th><th>float64</th><th>float64</th><th>float64</th><th>float64</th><th>float64</th><th>float64</th><th>float64</th><th>float64</th><th>float64</th><th>float64</th><th>float64</th><th>float64</th><th>float64</th><th>float64</th><th>float64</th><th>float64</th><th>float64</th><th>float64</th><th>float64</th><th>float64</th><th>float64</th><th>float64</th><th>float64</th><th>float64</th><th>float64</th><th>float64</th><th>float64</th><th>float64</th><th>float64</th><th>float64</th><th>float64</th><th>float64</th><th>float64</th><th>float64</th><th>float64</th><th>float64</th><th>float64</th><th>float64</th><th>float64</th><th>float64</th><th>float64</th><th>float64</th><th>float64</th><th>float64</th><th>float64</th><th>float64</th><th>float64</th><th>float64</th><th>float64</th><th>float64</th><th>float64</th><th>float64</th><th>float64</th><th>float64</th><th>float64</th><th>float64</th><th>float64</th><th>float64</th><th>int64</th><th>int64</th></tr></thead>\n",
       "<tr><td>177.87056751585544</td><td>-0.630901904271356</td><td>745</td><td>301</td><td>2</td><td>128</td><td>454</td><td>4</td><td>31298</td><td>463</td><td>1.0 .. 1.0</td><td>17.589167 .. 19.317816</td><td>5.184262 .. 26.02746</td><td>0.34309697 .. 10.614549</td><td>0.6986137 .. 26.152054</td><td>0.13263787 .. 5.304876</td><td>74.901985 .. 5.64217</td><td>0.11239964 .. 0.03224812</td><td>1.9123626 .. 1.5676314</td><td>1.1966488</td><td>1.5921967 .. 28.74999</td><td>0.021804003</td><td>1.6025475 .. 5.9717693</td><td>1</td><td>0.55657697</td><td>0.23196362</td><td>1.0</td><td>1.0</td><td>0.9785033</td><td>1.0699242</td><td>1.0469244</td><td>0.00033110208</td><td>1.0</td><td>3790</td><td>903</td><td>55208</td><td>4</td><td>10219 .. -1</td><td>10219</td><td>0</td><td>1005</td><td>2</td><td>41104713923456475</td><td>False</td><td>177.8705603888839</td><td>False</td><td>-0.630895317260817</td><td>False</td><td>22.303013</td><td>False</td><td>0.011219826</td><td>False</td><td>20.619696</td><td>False</td><td>0.0034053873</td><td>False</td><td>19.559185</td><td>False</td><td>0.0012020636</td><td>False</td><td>19.113594</td><td>False</td><td>0.0017865254</td><td>False</td><td>18.884876</td><td>False</td><td>0.0033025022</td><td>False</td><td>0.070645414</td><td>False</td><td>0.04962622</td><td>False</td><td>0.03560616</td><td>False</td><td>0.027538627</td><td>False</td><td>0.02343945</td><td>False</td><td>0.03493600577382815</td><td>8000</td><td>326759</td><td>1778m007</td><td>5489</td><td>True</td><td>0</td><td>0</td><td>DEV</td><td>177.87056285877975</td><td>-0.6309024554711595</td><td>283844020000.0</td><td>235192450000.0</td><td>1860.4648</td><td>3435.957</td><td>15975.608 .. 20715.857</td><td>0.02180413</td><td>57111.03557665259</td><td>58520.28860702073</td><td></td><td>0</td><td>0.0</td><td>0.0</td><td>0.0</td><td>0.0</td><td>0.0</td><td>0.0</td><td>0.0</td><td>False</td><td>0.0</td><td>0.0</td><td>0</td><td>0.0</td><td>0.0</td><td>0</td><td>0.0</td><td>0.0</td><td>0</td><td>False</td><td>0.0</td><td>0.0</td><td>0</td><td>0</td><td>0.0</td><td>False</td><td>0.0</td><td>0.0</td><td>0.0</td><td>0.0</td><td>0</td><td>1.2924062</td><td>7.8570347</td><td>25.969849</td><td>61.138996</td><td>32.56572</td><td>-29.322859</td><td>1421.1852</td><td>261.16382</td><td>86.13751</td><td>22.315685</td><td>1.7392699</td><td>0.33891946</td><td>0.00054887723</td><td>8.490025e-06</td><td>0.35754976</td><td>2.1736827</td><td>7.1846704</td><td>0.3575522</td><td>2.173686</td><td>7.184677</td><td>0.1331897 .. 2.193612</td><td>0.864693 .. 8.997383</td><td>3.5252292 .. 26.782091</td><td>-0.010749374 .. -0.14735895</td><td>-0.015368753 .. -0.12000512</td><td>0.045256827 .. -0.6643176</td><td>7673.1704 .. 41.388683</td><td>2743.0115 .. 13.994956</td><td>600.6216 .. 2.9350145</td><td>0.9374943</td><td>0.95745337</td><td>0.9759736</td><td>0.99631166</td><td>0.9977333</td><td>0.9995161</td><td>0.99981725</td><td>3</td><td>3</td><td>4</td><td>125</td><td>124</td><td>12</td><td>12</td><td>0.95520896</td><td>0.9959173</td><td>0.95282835</td><td>1.7943146</td><td>0.6610315</td><td>0.51168394</td><td>0.12459961</td><td>0.08909171</td><td>0.04027491</td><td>0.11032192</td><td>0.08088438</td><td>0.089007534</td><td>0.83957696</td><td>0.84698206</td><td>0.07038808</td><td>0.061066695</td><td>0.06754277</td><td>0.7525512</td><td>0.5879323</td><td>0.6535463</td><td>0</td><td>0</td><td>0</td><td>0</td><td>0</td><td>0</td><td>0</td><td>0</td><td>1.3663571</td><td>1.3820059</td><td>1.1302588</td><td>1421.4226</td><td>496.6775</td><td>162.59561</td><td>848.4999</td><td>304.1963</td><td>81.419495</td><td>2.5450423</td><td>0.49142602</td><td>0.0007675721</td><td>1.0279187e-05</td><td>1784p000</td><td>61.974052 .. 0.0</td><td>28.662115 .. 0.0</td><td>0.18298128 .. 0.0</td><td>0.049085096 .. 0.0</td><td>12 .. 0</td><td>12 .. 0</td><td>0.030719094 .. 0.0</td><td>0.37982333 .. 0.0</td><td>1.4135447 .. 0.0</td><td>0.6253069 .. 0.0</td><td>55361.209444645 .. 0.0</td><td>55361.143292734996 .. 0.0</td><td>1.0</td><td>1.0</td><td>0.0</td><td>0.0</td><td>0.0</td><td>0.0</td><td>0.0</td><td>0.0</td><td>1.6012087</td><td>2849.0159</td><td>0.10091825</td><td>5572.8335</td><td>0.20989405</td><td>8902.8955</td><td>55208</td><td>3790</td><td>903</td><td>v5_10_0</td><td>0.027192202183136057</td><td>6</td><td>0.038651474659524246</td><td>0.038547767651104486</td><td>0.09409280666633439</td><td>0.09999766298571325</td><td>3890.662941238521</td><td>1662.236328929341</td><td>0.56</td><td>0.0</td><td>190794733236.58917</td><td>62208852186.80342</td><td>0.2199674239056508</td><td>0.012444606810015727</td><td>0.13141215417991506</td><td>0.0077666934012387175</td><td>0.004927376431555412</td><td>0.00026644082094183996</td><td>0.05592595701357527</td><td>0.001111041476918101</td><td>0.02075158196411669</td><td>0.0007186615399989711</td><td>0.09662993739027935</td><td>0.002702425002010847</td><td>0.08190489119734838</td><td>0.0021294073100690918</td><td>0.8701226099326806</td><td>0.14502043498878012</td><td>0.0</td><td>0.0</td><td>0.0</td><td>0.0</td><td>0.0</td><td>0.0</td><td>0.33</td><td>0.0</td><td>-0.0</td><td>0.0</td><td>217.5</td><td>35.0</td><td>0.0</td><td>0.0</td><td>300.0</td><td>-3.0</td><td>6000.0</td><td>5.0</td><td>6000.0</td><td>0.0</td><td>5.0</td><td>10.0</td><td>5979.981417336273</td><td>1.0</td><td>0.02</td><td>10.0</td><td>8301.1077362256</td><td>9.996306737654207e+25</td><td>0.5565769672393799</td><td>-0.0</td><td>-0.0</td><td>-0.0</td><td>-0.0</td><td>-0.0</td><td>-0.0</td><td>0.0</td><td>3.174112786160579e+20</td><td>8.350797615146238e+21</td><td>4.151142861590999e+22</td><td>1.0945173367059048e+23</td><td>7.840794327647047e+22</td><td>1.6232195717837996e+23</td><td>1.4030867025344846e+23</td><td>481329962374.3879</td><td>8.464941226290337e-254</td><td>1.7463268740312322e-250</td><td>1.3817770983411895e-253</td><td>7.591381778965694e+37</td><td>1.6242480708547669e+35</td><td>1.6242480708547669e+35</td><td>4.798474724636979e-218</td><td>7.591381778965694e+37</td><td>2.9443716635065503e-217</td><td>226675621260.52344</td><td>226675621260.52344</td><td>9.914763142446634e-248</td><td>254654341113.8645</td><td>254654341113.8645</td><td>1.28262908352245e-246</td><td>3.472492281428212e+52</td><td>3.472492281428212e+52</td><td>1.444052371880822e-200</td><td>0.004896121397542765</td><td>0.02084325579659907</td><td>0.05762984511716358</td><td>0.08528361858461928</td><td>0.10028319407507774</td><td>0.2150482640839762</td><td>0.12685848964985513</td><td>0</td><td>82790003</td></tr>\n",
       "<tr><td>177.9148820937241</td><td>-1.1708023404952859</td><td>752</td><td>301</td><td>1</td><td>229</td><td>535</td><td>4</td><td>31294</td><td>470</td><td>0.7603034 .. 0.27234596</td><td>0.9433246 .. 22.515825</td><td>1.0956328 .. 26.040644</td><td>0.5416984 .. 13.375776</td><td>0.9045023 .. 24.566824</td><td>0.24231432 .. 6.426358</td><td>6.06039 .. 2.7751012</td><td>0.09719915 .. 0.02788701</td><td>1.8354348 .. 1.6362891</td><td>1.2053875</td><td>1.1523422 .. 18.974077</td><td>0.018855315</td><td>1.313665 .. 5.0662932</td><td>1</td><td>0.5211964</td><td>0.19782877</td><td>1.0</td><td>1.0</td><td>0.983419</td><td>1.1416932</td><td>1.1227628</td><td>0.00040548763</td><td>1.0</td><td>3842</td><td>123</td><td>55565</td><td>4</td><td>10162 .. -1</td><td>10162</td><td>0</td><td>31817</td><td>1</td><td>41104563599602927</td><td>False</td><td>177.91491051503857</td><td>False</td><td>-1.1707588244171512</td><td>False</td><td>21.461157</td><td>False</td><td>0.0053989366</td><td>False</td><td>20.031591</td><td>False</td><td>0.0021329888</td><td>False</td><td>19.152466</td><td>False</td><td>0.0010927151</td><td>False</td><td>18.719105</td><td>False</td><td>0.0015434293</td><td>False</td><td>18.479237</td><td>False</td><td>0.0028861107</td><td>False</td><td>0.061093114</td><td>False</td><td>0.04291603</td><td>False</td><td>0.030791685</td><td>False</td><td>0.023815002</td><td>False</td><td>0.020270092</td><td>False</td><td>0.18709899749250197</td><td>8000</td><td>323879</td><td>1778m012</td><td>3581</td><td>True</td><td>0</td><td>0</td><td>DEV</td><td>177.91490599239484</td><td>-1.170767818526744</td><td>277538640000.0</td><td>279114780000.0</td><td>1251.2872</td><td>2888.1833</td><td>24298.389 .. 31154.52</td><td>0.018855773</td><td>57109.1858202326</td><td>58251.05497929073</td><td></td><td>0</td><td>0.0</td><td>0.0</td><td>0.0</td><td>0.0</td><td>0.0</td><td>0.0</td><td>0.0</td><td>False</td><td>0.0</td><td>0.0</td><td>0</td><td>0.0</td><td>0.0</td><td>0</td><td>0.0</td><td>0.0</td><td>0</td><td>False</td><td>0.0</td><td>0.0</td><td>0</td><td>0</td><td>0.0</td><td>False</td><td>0.0</td><td>0.0</td><td>0.0</td><td>0.0</td><td>0</td><td>2.307929</td><td>10.590289</td><td>30.040926</td><td>81.02039</td><td>49.974827</td><td>68.88812</td><td>290.0296</td><td>244.63612</td><td>105.961914</td><td>19.82599</td><td>1.6655557</td><td>0.32162893</td><td>0.00059058605</td><td>9.599226e-06</td><td>0.61835736</td><td>2.8374286</td><td>8.048787</td><td>0.61835736</td><td>2.8374286</td><td>8.048787</td><td>0.23614602 .. 2.6700454</td><td>0.9696469 .. 12.948306</td><td>3.2838738 .. 39.064377</td><td>0.005501468 .. -0.4429537</td><td>-0.027339684 .. -0.06055699</td><td>-0.008875981 .. -1.4042877</td><td>9543.799 .. 46.590492</td><td>4140.849 .. 21.126781</td><td>711.0605 .. 3.6278596</td><td>0.94571227</td><td>0.96309894</td><td>0.9791884</td><td>0.9968096</td><td>0.9980395</td><td>0.9995816</td><td>0.999842</td><td>3</td><td>4</td><td>3</td><td>121</td><td>117</td><td>13</td><td>14</td><td>0.9455372</td><td>1.0957493</td><td>0.94898635</td><td>3.3310337</td><td>0.5365262</td><td>0.5369366</td><td>0.12921527</td><td>0.032084845</td><td>0.02574908</td><td>0.032125708</td><td>0.07514051</td><td>0.09809023</td><td>0.62736076</td><td>2.5975714</td><td>0.092117846</td><td>0.037491873</td><td>0.03677987</td><td>0.95846075</td><td>0.95962536</td><td>0.958191</td><td>0</td><td>0</td><td>0</td><td>0</td><td>0</td><td>0</td><td>0</td><td>0</td><td>1.5313209</td><td>1.5758933</td><td>1.4532025</td><td>1407.4553</td><td>576.67694</td><td>116.449</td><td>857.6612</td><td>372.8992</td><td>67.51533</td><td>2.5528774</td><td>0.4758467</td><td>0.0007709592</td><td>1.031896e-05</td><td>1784m016</td><td>84.55513 .. 0.0</td><td>42.55322 .. 0.0</td><td>0.21421483 .. 0.0</td><td>0.05524576 .. 0.0</td><td>14 .. 0</td><td>14 .. 0</td><td>0.0995409 .. 0.0</td><td>0.097111896 .. 0.0</td><td>4.012587 .. 0.0</td><td>1.0185657 .. 0.0</td><td>55361.738405195 .. 0.0</td><td>55361.738405195 .. 0.0</td><td>1.0</td><td>1.0</td><td>0.0</td><td>0.0</td><td>0.0</td><td>0.0</td><td>0.0</td><td>0.0</td><td>1.7478075</td><td>3134.9524</td><td>0.0060477657</td><td>5857.846</td><td>-0.27998498</td><td>12743.278</td><td>55565</td><td>3842</td><td>123</td><td>v5_10_0</td><td>0.036240357011344974</td><td>24</td><td>0.07102873956126628</td><td>0.048703340821278494</td><td>0.17136894687847792</td><td>0.12631155913317582</td><td>3088.490438460453</td><td>1574.1639009858602</td><td>0.52</td><td>0.0</td><td>196488504376.66223</td><td>70172148012.9088</td><td>0.28574195477494857</td><td>0.018168889232324445</td><td>0.18220347535243034</td><td>0.011887651826253856</td><td>0.00930621289447277</td><td>0.0006567593587813113</td><td>0.08683589678015265</td><td>0.0021293559144763877</td><td>0.03779628764734607</td><td>0.001674015023190003</td><td>0.14245599031795855</td><td>0.00483162595121513</td><td>0.1237371136578644</td><td>0.0038944314943912895</td><td>0.6791703887476843</td><td>0.11319506479128072</td><td>0.0495</td><td>0.075</td><td>0.0495</td><td>0.075</td><td>0.0495</td><td>0.075</td><td>0.66</td><td>0.0</td><td>0.23009371912612406</td><td>0.0</td><td>217.5</td><td>35.0</td><td>0.0</td><td>0.0</td><td>300.0</td><td>-3.0</td><td>6000.0</td><td>5.0</td><td>6000.0</td><td>0.0</td><td>5.0</td><td>794.0</td><td>4409.696528873284</td><td>1.0</td><td>0.02</td><td>10.0</td><td>8544.63756946964</td><td>9.2297902615425e+25</td><td>0.5211964249610901</td><td>1.086445508880489e+34</td><td>1.1226747975376583e+35</td><td>2.680392651203291e+34</td><td>2.721098724403403e+35</td><td>1.0237944893845191e+37</td><td>2.2460606871527726e+36</td><td>1.2906051314792907e+37</td><td>2.429398440686601e+21</td><td>1.2068887142457137e+22</td><td>5.038545659387431e+22</td><td>1.283816547249479e+23</td><td>9.23512634381281e+22</td><td>1.9068423315025197e+23</td><td>1.6465963958909784e+23</td><td>460448912578.2946</td><td>2.3029874726412785</td><td>2.432084114339511</td><td>2.3143505096576016</td><td>1.0852466273437617e+38</td><td>1.3180965872676566e+36</td><td>2.0810573679060014e+35</td><td>1.1099908504770564e+36</td><td>1.0280271646528738e+38</td><td>5.721946269088794e+36</td><td>211096423313.5186</td><td>211095048044.2768</td><td>1375269.241804267</td><td>249352489257.84747</td><td>249330721028.92105</td><td>21768228.92644004</td><td>3.813288645993076e+53</td><td>4.513674790866252e+52</td><td>3.3619211669064507e+53</td><td>0.010385145019836768</td><td>0.03665266146465043</td><td>0.08384076576650012</td><td>0.12067223663600259</td><td>0.1406705538420235</td><td>0.2899793758538885</td><td>0.18134065465316848</td><td>2</td><td>82790102</td></tr>\n",
       "<tr><td>183.64414071701577</td><td>-1.1438164113264149</td><td>752</td><td>301</td><td>1</td><td>268</td><td>679</td><td>4</td><td>31346</td><td>726</td><td>0.0 .. 1.0</td><td>1.4207658 .. 9.045355</td><td>4.810193 .. 9.120865</td><td>0.4233961 .. 8.433592</td><td>0.68448716 .. 11.85343</td><td>0.09904385 .. 3.666884</td><td>74.862816 .. 0.6817719</td><td>0.10839445 .. 0.031099008</td><td>1.9641755 .. 1.6744738</td><td>1.2053871</td><td>1.1717324 .. 20.101252</td><td>0.02102705</td><td>1.4175858 .. 5.3362947</td><td>1</td><td>0.6266584</td><td>0.39738536</td><td>1.0</td><td>1.0</td><td>0.9711247</td><td>1.0454798</td><td>1.0152912</td><td>0.00015164491</td><td>0.9601227</td><td>3777</td><td>587</td><td>55210</td><td>4</td><td>10207 .. -1</td><td>10207</td><td>0</td><td>13256</td><td>1</td><td>41122293224598421</td><td>False</td><td>183.6442709508922</td><td>False</td><td>-1.1437789014304076</td><td>False</td><td>22.923016</td><td>False</td><td>0.011361527</td><td>False</td><td>21.283726</td><td>False</td><td>0.004028688</td><td>False</td><td>20.132235</td><td>False</td><td>0.0015195783</td><td>False</td><td>19.690594</td><td>False</td><td>0.002496063</td><td>False</td><td>19.486258</td><td>False</td><td>0.0034831788</td><td>False</td><td>0.06813501</td><td>False</td><td>0.047862742</td><td>False</td><td>0.034340885</td><td>False</td><td>0.026560036</td><td>False</td><td>0.022606524</td><td>False</td><td>0.48781124453902464</td><td>8000</td><td>323902</td><td>1836m012</td><td>4389</td><td>True</td><td>0</td><td>0</td><td>DEV</td><td>183.64426283081065</td><td>-1.1437776018680117</td><td>131255250000.0</td><td>135949255000.0</td><td>1534.8722</td><td>3259.0452</td><td>9824.986 .. 10787.956</td><td>0.021029206</td><td>57109.20953806259</td><td>58171.34207424075</td><td></td><td>0</td><td>0.0</td><td>0.0</td><td>0.0</td><td>0.0</td><td>0.0</td><td>0.0</td><td>0.0</td><td>False</td><td>0.0</td><td>0.0</td><td>0</td><td>0.0</td><td>0.0</td><td>0</td><td>0.0</td><td>0.0</td><td>0</td><td>False</td><td>0.0</td><td>0.0</td><td>0</td><td>0</td><td>0.0</td><td>False</td><td>0.0</td><td>0.0</td><td>0.0</td><td>0.0</td><td>0</td><td>0.88492286</td><td>4.4804964</td><td>15.764127</td><td>43.03353</td><td>25.698118</td><td>-87.41598</td><td>-161.18349</td><td>425.34372</td><td>150.27881</td><td>30.126762</td><td>2.0874412</td><td>0.38374937</td><td>0.00052332564</td><td>1.0160605e-05</td><td>0.36519107</td><td>1.8490168</td><td>6.5055594</td><td>0.36519107</td><td>1.8490168</td><td>6.5055594</td><td>0.21071175 .. 1.1901877</td><td>0.74888366 .. 4.9693465</td><td>2.7660508 .. 18.217344</td><td>0.013255944 .. 0.13286833</td><td>0.01716849 .. 0.2952911</td><td>0.048467435 .. 1.9470549</td><td>5034.81 .. 25.687807</td><td>3034.4512 .. 15.481894</td><td>571.95514 .. 2.9724379</td><td>0.93964726</td><td>0.95893395</td><td>0.97681755</td><td>0.9964425</td><td>0.99781376</td><td>0.9995333</td><td>0.99982375</td><td>2</td><td>2</td><td>2</td><td>120</td><td>119</td><td>11</td><td>14</td><td>1.1417183</td><td>1.1319529</td><td>1.056738</td><td>1.0455801</td><td>0.4872318</td><td>0.50265557</td><td>0.13488635</td><td>0.0</td><td>0.0</td><td>0.0</td><td>0.06108476</td><td>0.066949226</td><td>0.23193792</td><td>3.6615758</td><td>0.016379237</td><td>0.019843986</td><td>0.022255205</td><td>0.9939533</td><td>0.9909261</td><td>0.9873518</td><td>0</td><td>0</td><td>0</td><td>0</td><td>0</td><td>0</td><td>0</td><td>0</td><td>1.0598861</td><td>1.5506383</td><td>1.5153309</td><td>1549.8322</td><td>436.4226</td><td>86.14346</td><td>767.04456</td><td>276.16202</td><td>52.379738</td><td>2.5963972</td><td>0.4696862</td><td>0.00049658</td><td>9.142353e-06</td><td>1830m016</td><td>43.801193 .. 0.0</td><td>32.12193 .. 0.0</td><td>0.26514977 .. 0.0</td><td>0.04255647 .. 0.0</td><td>16 .. 0</td><td>16 .. 0</td><td>0.058258563 .. 0.0</td><td>0.05293862 .. 0.0</td><td>0.67158127 .. 0.0</td><td>0.67541516 .. 0.0</td><td>55366.89825286 .. 0.0</td><td>55366.89825286 .. 0.0</td><td>1.0</td><td>1.0</td><td>0.0</td><td>0.0</td><td>0.0</td><td>0.0</td><td>0.0</td><td>0.0</td><td>0.6939938</td><td>4176.1733</td><td>-0.036181767</td><td>3070.1255</td><td>-0.00035562832</td><td>1138.2609</td><td>55210</td><td>3777</td><td>587</td><td>v5_10_0</td><td>0.02959854982502709</td><td>27</td><td>0.07006296332403544</td><td>0.05400789308774124</td><td>0.16663310237356296</td><td>0.13194107390869492</td><td>3221.0249237299904</td><td>1656.8734894581187</td><td>0.63</td><td>0.0</td><td>144801244170.46176</td><td>52323117309.66875</td><td>0.1570369881617458</td><td>0.010148027814377611</td><td>0.09285919765245758</td><td>0.007372833365821876</td><td>0.0026683905034360056</td><td>0.00016415653593604768</td><td>0.03294235266818427</td><td>0.0007339971649140448</td><td>0.01132335895273173</td><td>0.0004639379151927028</td><td>0.060390866424892234</td><td>0.0020876917824277042</td><td>0.04873203371871252</td><td>0.001380545432385296</td><td>0.23759002497081622</td><td>0.039598337495136034</td><td>0.066</td><td>0.1</td><td>0.066</td><td>0.1</td><td>0.066</td><td>0.1</td><td>0.66</td><td>0.0</td><td>0.3032004445109296</td><td>0.0</td><td>217.5</td><td>35.0</td><td>0.0</td><td>0.0</td><td>300.0</td><td>-3.0</td><td>6000.0</td><td>5.0</td><td>6000.0</td><td>0.0</td><td>5.0</td><td>15.8</td><td>5968.383327322599</td><td>1.0</td><td>0.008</td><td>10.0</td><td>7848.268015752983</td><td>1.1555213160853657e+26</td><td>0.6266583800315857</td><td>1.9965891341654314e+34</td><td>1.086118189708036e-123</td><td>5.038254712522517e+34</td><td>2.67851255450083e-123</td><td>9.188199641316778e+36</td><td>1.8561846890678253e-122</td><td>9.258548079783658e+36</td><td>4.336920038450179e+20</td><td>7.765408368527045e+21</td><td>3.5159436378489785e+22</td><td>9.67115626846981e+22</td><td>6.569882858481734e+22</td><td>1.353089669743056e+23</td><td>1.2339895246015759e+23</td><td>400779852776.6655</td><td>1.2284214113381093e-158</td><td>1.0375227135178812e-156</td><td>1.658927929666766e-158</td><td>7.376286614825087e+37</td><td>2.8779678245530188e+35</td><td>2.8779678245530188e+35</td><td>8.695392655963824e-123</td><td>7.376286614825087e+37</td><td>4.0178390281208276e-122</td><td>191759057064.2645</td><td>191759057064.2645</td><td>9.839017970281124e-153</td><td>209020795712.4012</td><td>209020795712.4012</td><td>1.560537732455005e-151</td><td>6.238718602520133e+52</td><td>6.238718602520133e+52</td><td>2.5080242321126233e-105</td><td>0.0027103522213578596</td><td>0.011426449534281157</td><td>0.032942084516919705</td><td>0.04944533221217314</td><td>0.0611413392211722</td><td>0.1546199088945426</td><td>0.09544119828936944</td><td>3</td><td>82790103</td></tr>\n",
       "<tr><td>184.1634345775608</td><td>-1.2120340758054184</td><td>752</td><td>301</td><td>1</td><td>271</td><td>280</td><td>4</td><td>31352</td><td>727</td><td>1.0 .. 1.0</td><td>1.4429259 .. 24.461088</td><td>2.062894 .. 27.668653</td><td>0.2196875 .. 11.421339</td><td>0.25699455 .. 20.212475</td><td>0.05625725 .. 5.2489095</td><td>60.133835 .. 4.82138</td><td>0.114247695 .. 0.032778338</td><td>1.9869431 .. 1.6004055</td><td>1.2053871</td><td>1.1634221 .. 20.161852</td><td>0.0221625</td><td>1.4289235 .. 5.107933</td><td>1</td><td>0.5403554</td><td>0.21075684</td><td>1.0</td><td>1.0</td><td>0.977745</td><td>1.0638595</td><td>1.0401833</td><td>0.00037448047</td><td>0.9936709</td><td>3846</td><td>361</td><td>55327</td><td>4</td><td>10208 .. -1</td><td>10208</td><td>0</td><td>14295</td><td>1</td><td>41122014051729759</td><td>False</td><td>184.16342805128338</td><td>False</td><td>-1.2120627851257668</td><td>False</td><td>22.518373</td><td>False</td><td>0.01199749</td><td>False</td><td>20.785595</td><td>False</td><td>0.0035271908</td><td>False</td><td>19.726446</td><td>False</td><td>0.0014811136</td><td>False</td><td>19.263475</td><td>False</td><td>0.0020930532</td><td>False</td><td>19.077036</td><td>False</td><td>0.0033475773</td><td>False</td><td>0.071806334</td><td>False</td><td>0.050441734</td><td>False</td><td>0.036191277</td><td>False</td><td>0.027991172</td><td>False</td><td>0.023824634</td><td>False</td><td>0.10598917943529813</td><td>8000</td><td>323904</td><td>1841m012</td><td>2866</td><td>True</td><td>0</td><td>0</td><td>DEV</td><td>184.1634225734338</td><td>-1.2120676936739747</td><td>215380530000.0</td><td>264397300000.0</td><td>1271.6742</td><td>2320.7036</td><td>18399.592 .. 21757.352</td><td>0.022162437</td><td>57109.20953806259</td><td>58171.34207424075</td><td></td><td>0</td><td>0.0</td><td>0.0</td><td>0.0</td><td>0.0</td><td>0.0</td><td>0.0</td><td>0.0</td><td>False</td><td>0.0</td><td>0.0</td><td>0</td><td>0.0</td><td>0.0</td><td>0</td><td>0.0</td><td>0.0</td><td>0</td><td>False</td><td>0.0</td><td>0.0</td><td>0</td><td>0</td><td>0.0</td><td>False</td><td>0.0</td><td>0.0</td><td>0.0</td><td>0.0</td><td>0</td><td>1.1294887</td><td>6.5600505</td><td>21.460918</td><td>57.435455</td><td>30.372</td><td>34.9403</td><td>-1899.4362</td><td>423.77936</td><td>149.83105</td><td>32.241684</td><td>1.9095354</td><td>0.3496381</td><td>0.00043821728</td><td>7.2643734e-06</td><td>0.39856365</td><td>2.3148508</td><td>7.5729327</td><td>0.39858842</td><td>2.314918</td><td>7.5730867</td><td>0.18465573 .. 1.5876529</td><td>0.9111265 .. 8.853206</td><td>3.294522 .. 24.595114</td><td>-0.010422332 .. -0.054781523</td><td>-0.02674794 .. 0.6559948</td><td>0.09167816 .. -0.6909373</td><td>7280.733 .. 37.146595</td><td>3767.3323 .. 16.869234</td><td>740.6042 .. 2.6208127</td><td>0.93650043</td><td>0.9567695</td><td>0.9755837</td><td>0.99625117</td><td>0.99769604</td><td>0.9995082</td><td>0.9998143</td><td>3</td><td>3</td><td>3</td><td>117</td><td>117</td><td>9</td><td>10</td><td>0.95727307</td><td>1.0033488</td><td>1.0608889</td><td>1.1251351</td><td>1.2083023</td><td>0.6442534</td><td>0.11863639</td><td>0.012219576</td><td>0.013326245</td><td>0.012556077</td><td>0.16150922</td><td>0.23839115</td><td>1.1247056</td><td>0.77660096</td><td>0.029825736</td><td>0.032240003</td><td>0.02701857</td><td>0.9870811</td><td>0.98635936</td><td>0.9608743</td><td>0</td><td>0</td><td>0</td><td>0</td><td>0</td><td>0</td><td>0</td><td>0</td><td>1.1313893</td><td>1.4893028</td><td>1.4630772</td><td>1966.9662</td><td>587.3766</td><td>119.653824</td><td>1003.2379</td><td>362.57092</td><td>71.97436</td><td>2.563862</td><td>0.46687302</td><td>0.0005008757</td><td>7.6692e-06</td><td>1845m016</td><td>57.00057 .. 0.0</td><td>18.229464 .. 0.0</td><td>0.21168375 .. 0.0</td><td>0.0370906 .. 0.0</td><td>13 .. 0</td><td>13 .. 0</td><td>0.1112346 .. 0.0</td><td>0.9926424 .. 0.0</td><td>1.2621297 .. 0.0</td><td>0.45171106 .. 0.0</td><td>55368.221353625 .. 0.0</td><td>55368.221353625 .. 0.0</td><td>1.0</td><td>1.0</td><td>0.0</td><td>0.0</td><td>0.0</td><td>0.0</td><td>0.0</td><td>0.0</td><td>1.0435029</td><td>4713.7446</td><td>-0.15844502</td><td>6019.5537</td><td>0.07477103</td><td>3692.4966</td><td>55327</td><td>3846</td><td>361</td><td>v5_10_0</td><td>0.026475853638513486</td><td>29</td><td>0.05977922663619649</td><td>0.044887518149030844</td><td>0.14007617013832233</td><td>0.11421116589003144</td><td>3750.820808762383</td><td>1705.6579181219588</td><td>0.54</td><td>0.0</td><td>162912995763.25754</td><td>55692105872.240974</td><td>0.20297119667022961</td><td>0.014125333021508304</td><td>0.12222743367405245</td><td>0.008290456867534282</td><td>0.0040800199006227715</td><td>0.0002306670378221641</td><td>0.047375330601175276</td><td>0.0009761174404560204</td><td>0.017935984103493664</td><td>0.0006257859750427817</td><td>0.0831445265095292</td><td>0.002311963627413973</td><td>0.07078873875507682</td><td>0.0017941933943257551</td><td>1.0401813441767058</td><td>0.1733635573627843</td><td>0.04125</td><td>0.125</td><td>0.04125</td><td>0.125</td><td>0.04125</td><td>0.125</td><td>0.33</td><td>0.0</td><td>0.18914797909239087</td><td>0.0</td><td>217.5</td><td>35.0</td><td>0.0</td><td>0.0</td><td>300.0</td><td>-3.0</td><td>6000.0</td><td>5.0</td><td>6000.0</td><td>0.0</td><td>5.0</td><td>10.0</td><td>5979.981417336273</td><td>1.0</td><td>0.02</td><td>10.0</td><td>8411.468011486642</td><td>9.643101479883e+25</td><td>0.540355384349823</td><td>6.509603430046744e+33</td><td>6.202274955908562e-219</td><td>1.6160297700485804e+34</td><td>1.4609614953614788e-218</td><td>5.1320184089809685e+36</td><td>1.4587379577711433e-217</td><td>5.1546883101115015e+36</td><td>2.1380929679229174e+20</td><td>6.024165900388747e+21</td><td>3.1651338727448744e+22</td><td>8.961438749015951e+22</td><td>6.220372304372873e+22</td><td>1.368601320040797e+23</td><td>1.1706265147784793e+23</td><td>436844118008.0633</td><td>7.682587981324604e-254</td><td>1.5849265216665955e-250</td><td>1.254069442988653e-253</td><td>6.889765310548664e+37</td><td>1.4741305786132471e+35</td><td>1.4741305786132471e+35</td><td>4.354986439089722e-218</td><td>6.889765310548664e+37</td><td>2.6722447031709963e-217</td><td>205725634354.8835</td><td>205725634354.8835</td><td>8.99841335215292e-248</td><td>231118483653.17984</td><td>231118483653.17984</td><td>1.1640849615072083e-246</td><td>3.1515549551233026e+52</td><td>3.1515549551233026e+52</td><td>1.310589063767987e-200</td><td>0.003956337763441838</td><td>0.017629749332224463</td><td>0.04822730216944506</td><td>0.07307643072579152</td><td>0.08610672348227962</td><td>0.2000017221325297</td><td>0.12125698904950151</td><td>4</td><td>82790103</td></tr>\n",
       "<tr><td>184.50217828228583</td><td>-1.2109029618533527</td><td>752</td><td>301</td><td>1</td><td>273</td><td>574</td><td>4</td><td>31352</td><td>727</td><td>0.54148215 .. 1.0</td><td>0.122590885 .. 16.17652</td><td>0.122604854 .. 17.0115</td><td>0.23398024 .. 11.375666</td><td>0.20456858 .. 18.831352</td><td>0.074041754 .. 5.0572944</td><td>0.0013170313 .. 2.4814417</td><td>0.13918458 .. 0.039932877</td><td>2.0007274 .. 1.6886774</td><td>1.205387</td><td>1.1620371 .. 20.270933</td><td>0.026999917</td><td>1.4379797 .. 5.404227</td><td>1</td><td>0.5968321</td><td>0.30773833</td><td>1.0</td><td>1.0</td><td>0.9757969</td><td>1.0578413</td><td>1.0322382</td><td>0.0002249514</td><td>0.9936709</td><td>3846</td><td>289</td><td>55327</td><td>4</td><td>10208 .. -1</td><td>10208</td><td>0</td><td>33674</td><td>1</td><td>41127236731961730</td><td>False</td><td>184.50215067981452</td><td>False</td><td>-1.2109877835250586</td><td>False</td><td>22.712826</td><td>False</td><td>0.012625139</td><td>False</td><td>20.975115</td><td>False</td><td>0.0036258816</td><td>False</td><td>19.738455</td><td>False</td><td>0.0013269215</td><td>False</td><td>19.237135</td><td>False</td><td>0.0017472636</td><td>False</td><td>19.03125</td><td>False</td><td>0.0033724708</td><td>False</td><td>0.08747383</td><td>False</td><td>0.061447665</td><td>False</td><td>0.04408789</td><td>False</td><td>0.034098595</td><td>False</td><td>0.029022954</td><td>False</td><td>0.32111257661704795</td><td>8000</td><td>323906</td><td>1846m012</td><td>3204</td><td>True</td><td>0</td><td>0</td><td>DEV</td><td>184.50214328137187</td><td>-1.2109893940508356</td><td>205139300000.0</td><td>93523380000.0</td><td>3487.2334</td><td>2335.4854</td><td>8502.305 .. 10642.061</td><td>0.02699786</td><td>57111.1601138426</td><td>58171.34207424075</td><td></td><td>0</td><td>0.0</td><td>0.0</td><td>0.0</td><td>0.0</td><td>0.0</td><td>0.0</td><td>0.0</td><td>False</td><td>0.0</td><td>0.0</td><td>0</td><td>0.0</td><td>0.0</td><td>0</td><td>0.0</td><td>0.0</td><td>0</td><td>False</td><td>0.0</td><td>0.0</td><td>0</td><td>0</td><td>0.0</td><td>False</td><td>0.0</td><td>0.0</td><td>0.0</td><td>0.0</td><td>0</td><td>0.8533389</td><td>4.974142</td><td>20.184523</td><td>70.96067</td><td>40.933506</td><td>-58.904163</td><td>583.1139</td><td>444.5177</td><td>153.48135</td><td>16.01786</td><td>1.8484963</td><td>0.34103858</td><td>0.0002904108</td><td>4.317423e-06</td><td>0.300125</td><td>1.7494391</td><td>7.099032</td><td>0.300125</td><td>1.7494391</td><td>7.099032</td><td>0.14521526 .. 1.3317596</td><td>0.6776184 .. 5.7287316</td><td>3.3798122 .. 18.907616</td><td>-0.0014365758 .. -0.15330236</td><td>-0.019396277 .. -0.025865672</td><td>0.049945645 .. -1.8971746</td><td>7150.35 .. 32.69713</td><td>3715.5222 .. 18.446577</td><td>295.4429 .. 1.6915394</td><td>0.92319095</td><td>0.9475887</td><td>0.9703362</td><td>0.9954351</td><td>0.9971941</td><td>0.9994009</td><td>0.99977374</td><td>3</td><td>3</td><td>2</td><td>116</td><td>114</td><td>6</td><td>6</td><td>1.0019631</td><td>1.0166632</td><td>1.2315599</td><td>2.148565</td><td>0.95107484</td><td>0.5542325</td><td>0.13378681</td><td>0.025246961</td><td>0.0067574945</td><td>0.0029026128</td><td>0.09979022</td><td>0.13383873</td><td>1.0203471</td><td>1.1858833</td><td>0.030313995</td><td>0.021559944</td><td>0.03082171</td><td>0.97509485</td><td>0.97229886</td><td>0.6651896</td><td>0</td><td>0</td><td>0</td><td>0</td><td>0</td><td>0</td><td>0</td><td>0</td><td>1.1384845</td><td>1.5197095</td><td>1.2214193</td><td>1907.7411</td><td>556.3475</td><td>68.489456</td><td>971.8541</td><td>351.50702</td><td>36.69558</td><td>2.5691857</td><td>0.4695198</td><td>0.00039661129</td><td>5.418178e-06</td><td>1845m016</td><td>72.47471 .. 0.0</td><td>38.24486 .. 0.0</td><td>0.20392433 .. 0.0</td><td>0.037951287 .. 0.0</td><td>13 .. 0</td><td>13 .. 0</td><td>0.10047784 .. 0.0</td><td>0.26336116 .. 0.0</td><td>1.2586899 .. 0.0</td><td>1.0251248 .. 0.0</td><td>55368.221353625 .. 0.0</td><td>55368.221353625 .. 0.0</td><td>1.0</td><td>1.0</td><td>0.0</td><td>0.0</td><td>0.0</td><td>0.0</td><td>0.0</td><td>0.0</td><td>1.4498168</td><td>2016.1208</td><td>0.55317056</td><td>3867.8054</td><td>0.25182697</td><td>3487.5464</td><td>55327</td><td>3846</td><td>289</td><td>v5_10_0</td><td>0.027252332594497122</td><td>35</td><td>0.07783888789922648</td><td>0.04996504452145107</td><td>0.18221148396273754</td><td>0.12683714333259166</td><td>3764.9132442628083</td><td>1628.6338086873213</td><td>0.5999999999999999</td><td>1.1102230246251564e-16</td><td>243893646506.62503</td><td>79544737301.80669</td><td>0.26153180035885193</td><td>0.017461499869879583</td><td>0.15131332304845133</td><td>0.01080549908035929</td><td>0.0034100550732112838</td><td>0.00019903545496642905</td><td>0.04715759924088396</td><td>0.0010488591799825127</td><td>0.015391378816567262</td><td>0.0005655587892071781</td><td>0.0894071765532666</td><td>0.002466411442933965</td><td>0.07256651242421286</td><td>0.0019060488217842553</td><td>0.2142089808514322</td><td>0.035701496808572035</td><td>0.066</td><td>0.2</td><td>0.066</td><td>0.2</td><td>0.066</td><td>0.2</td><td>0.33</td><td>0.0</td><td>0.30261427102796284</td><td>0.0</td><td>217.5</td><td>35.0</td><td>0.0</td><td>0.0</td><td>300.0</td><td>-3.0</td><td>6000.0</td><td>5.0</td><td>6000.0</td><td>0.0</td><td>5.0</td><td>251.0</td><td>5496.395558459583</td><td>1.0</td><td>0.02</td><td>10.0</td><td>8036.3711998526</td><td>1.0885351104909848e+26</td><td>0.5968320965766907</td><td>1.4359553333666323e+34</td><td>2.194828419231195e+29</td><td>3.501364714905235e+34</td><td>5.018626190475347e+29</td><td>1.201924296917218e+37</td><td>4.0210377304078394e+30</td><td>1.2068620912038088e+37</td><td>2.882029235318819e+20</td><td>8.156476933562418e+21</td><td>4.3581262516306735e+22</td><td>1.2716383309182283e+23</td><td>8.700974977858703e+22</td><td>1.9672226205408787e+23</td><td>1.674404759324324e+23</td><td>619878688291.1984</td><td>2.4616570939056605e-06</td><td>2.991598573367138e-06</td><td>2.504458667079488e-06</td><td>1.0390982277463436e+38</td><td>2.207360563622348e+35</td><td>2.2073486495322863e+35</td><td>1.1914090061765329e+30</td><td>1.0390981660671186e+38</td><td>6.167922518212889e+30</td><td>290151546207.3719</td><td>290151546205.87494</td><td>1.4969357862801291</td><td>329727142083.8267</td><td>329727142060.2791</td><td>23.54764339489085</td><td>4.738873071666469e+52</td><td>4.7388369926751736e+52</td><td>3.6078991295518713e+47</td><td>0.003364953005622218</td><td>0.015377099440711481</td><td>0.048090306564898794</td><td>0.07504505858707851</td><td>0.09245658122617549</td><td>0.2583301064112568</td><td>0.15082911712130057</td><td>5</td><td>82790104</td></tr>\n",
       "<tr><td>184.36905661685216</td><td>-1.2526166508457188</td><td>752</td><td>301</td><td>1</td><td>273</td><td>633</td><td>4</td><td>31334</td><td>727</td><td>1.0 .. 0.0</td><td>16.260443 .. 11.08472</td><td>7.4845295 .. 31.394459</td><td>0.20423429 .. 10.299271</td><td>1.0247586 .. 47.197914</td><td>0.017245095 .. 4.777658</td><td>74.92047 .. 10.009822</td><td>0.12792979 .. 0.036703814</td><td>2.0007274 .. 1.6886774</td><td>1.205387</td><td>1.1620371 .. 20.270933</td><td>0.024816642</td><td>1.4379797 .. 5.404227</td><td>1</td><td>0.5088732</td><td>0.19151501</td><td>1.0</td><td>1.0</td><td>0.97883487</td><td>1.0578413</td><td>1.035452</td><td>0.00042215228</td><td>0.9936709</td><td>3846</td><td>321</td><td>55327</td><td>4</td><td>10208 .. -1</td><td>10208</td><td>0</td><td>45963</td><td>2</td><td>41121739173820524</td><td>False</td><td>184.3690419318151</td><td>False</td><td>-1.2525969279325346</td><td>False</td><td>21.944042</td><td>False</td><td>0.012822136</td><td>False</td><td>20.24139</td><td>False</td><td>0.004107146</td><td>False</td><td>19.269188</td><td>False</td><td>0.0016728041</td><td>False</td><td>18.764503</td><td>False</td><td>0.0026365921</td><td>False</td><td>18.555058</td><td>False</td><td>0.0035608744</td><td>False</td><td>0.08040632</td><td>False</td><td>0.05648296</td><td>False</td><td>0.04052578</td><td>False</td><td>0.031343576</td><td>False</td><td>0.026678026</td><td>False</td><td>0.08851466379316832</td><td>8000</td><td>323905</td><td>1843m012</td><td>2176</td><td>True</td><td>0</td><td>0</td><td>DEV</td><td>184.36904088681163</td><td>-1.252595713366052</td><td>173619430000.0</td><td>153857720000.0</td><td>1881.3613</td><td>1763.8336</td><td>17270.848 .. 24610.764</td><td>0.024816774</td><td>57109.20953806259</td><td>58171.34207424075</td><td></td><td>0</td><td>0.0</td><td>0.0</td><td>0.0</td><td>0.0</td><td>0.0</td><td>0.0</td><td>0.0</td><td>False</td><td>0.0</td><td>0.0</td><td>0</td><td>0.0</td><td>0.0</td><td>0</td><td>0.0</td><td>0.0</td><td>0</td><td>False</td><td>0.0</td><td>0.0</td><td>0</td><td>0</td><td>0.0</td><td>False</td><td>0.0</td><td>0.0</td><td>0.0</td><td>0.0</td><td>0</td><td>2.098184</td><td>12.386169</td><td>37.80906</td><td>85.5667</td><td>49.11424</td><td>128.30074</td><td>548.31287</td><td>134.22752</td><td>53.440903</td><td>11.135118</td><td>1.2457017</td><td>0.24072883</td><td>0.00024416816</td><td>4.8385405e-06</td><td>0.3762495</td><td>2.2211063</td><td>6.7799764</td><td>0.376557</td><td>2.2226462</td><td>6.784613</td><td>0.18176518 .. 3.2077951</td><td>0.9014354 .. 14.0576515</td><td>2.8491604 .. 39.12489</td><td>0.0028688035 .. 0.48766008</td><td>-0.003981004 .. 1.0621201</td><td>0.04204372 .. 1.7454242</td><td>6896.522 .. 35.186337</td><td>3648.8682 .. 18.616674</td><td>725.80176 .. 3.5426786</td><td>0.9291708</td><td>0.95171887</td><td>0.97269964</td><td>0.9958031</td><td>0.9974205</td><td>0.9994493</td><td>0.99979204</td><td>3</td><td>3</td><td>3</td><td>124</td><td>122</td><td>7</td><td>8</td><td>0.94020283</td><td>0.98077774</td><td>0.93557215</td><td>0.9500658</td><td>0.44444585</td><td>0.4431262</td><td>0.08344698</td><td>0.068505175</td><td>0.04985055</td><td>0.04344363</td><td>0.26584432</td><td>0.35760644</td><td>1.0051342</td><td>2.0725346</td><td>0.066169485</td><td>0.065482475</td><td>0.109373406</td><td>0.99463683</td><td>0.9944673</td><td>0.99450064</td><td>0</td><td>0</td><td>0</td><td>0</td><td>0</td><td>0</td><td>0</td><td>0</td><td>1.1104512</td><td>1.5043199</td><td>1.4621342</td><td>1934.0887</td><td>557.60474</td><td>117.41359</td><td>962.83875</td><td>346.4466</td><td>70.51388</td><td>2.5625253</td><td>0.46549994</td><td>0.00039361784</td><td>6.1590445e-06</td><td>1845m016</td><td>95.13725 .. 0.0</td><td>73.055954 .. 0.0</td><td>0.1374514 .. 0.0</td><td>0.027001586 .. 0.0</td><td>14 .. 0</td><td>14 .. 0</td><td>0.22844756 .. 0.0</td><td>0.2337133 .. 0.0</td><td>1.4795289 .. 0.0</td><td>0.577403 .. 0.0</td><td>55368.221353625 .. 0.0</td><td>55368.221353625 .. 0.0</td><td>1.0</td><td>1.0</td><td>0.0</td><td>0.0</td><td>0.0</td><td>0.0</td><td>0.0</td><td>0.0</td><td>2.5383458</td><td>1678.2289</td><td>0.08463264</td><td>11765.32</td><td>0.070279814</td><td>10144.984</td><td>55327</td><td>3846</td><td>321</td><td>v5_10_0</td><td>0.0057675124764713604</td><td>36</td><td>0.07499191475408061</td><td>0.051649842887077</td><td>0.1743602860758326</td><td>0.12920096935493422</td><td>3736.8837807208633</td><td>1616.2729795676605</td><td>0.5100000000000001</td><td>1.1102230246251565e-16</td><td>228132416412.37003</td><td>74320487804.48186</td><td>0.305680425527713</td><td>0.020270229300620335</td><td>0.19177156230941284</td><td>0.01276845001326442</td><td>0.006749941201734958</td><td>0.00040571872011204</td><td>0.07538147288767612</td><td>0.0015697079131645388</td><td>0.030611862659443708</td><td>0.00105634620327904</td><td>0.13136734407743167</td><td>0.003500692564649908</td><td>0.11263342878961735</td><td>0.0028731889287944854</td><td>0.6453951415663713</td><td>0.10756585692772856</td><td>0.0495</td><td>0.075</td><td>0.0495</td><td>0.075</td><td>0.0495</td><td>0.075</td><td>0.66</td><td>0.0</td><td>0.22695227534269619</td><td>0.0</td><td>217.5</td><td>35.0</td><td>0.0</td><td>0.0</td><td>300.0</td><td>-3.0</td><td>6000.0</td><td>5.0</td><td>6000.0</td><td>0.0</td><td>5.0</td><td>10.0</td><td>5979.981417336273</td><td>1.0</td><td>0.02</td><td>10.0</td><td>8631.948933734468</td><td>8.966191803413524e+25</td><td>0.5088732242584229</td><td>1.0490550434354697e+34</td><td>6.052414947473657e-219</td><td>2.5881458445436814e+34</td><td>1.4669625281739897e-218</td><td>8.414831545915192e+36</td><td>1.483641038347909e-217</td><td>8.451203554794983e+36</td><td>2.785765064542733e+20</td><td>7.957096337318056e+21</td><td>4.227329231904449e+22</td><td>1.2140341899175883e+23</td><td>8.373998001513046e+22</td><td>1.8649898457784135e+23</td><td>1.5918590352054328e+23</td><td>604118589878.0664</td><td>1.0624371547120917e-253</td><td>2.1918197724523307e-250</td><td>1.7342723234137566e-253</td><td>9.527964627241816e+37</td><td>2.0385983231472404e+35</td><td>2.0385983231472404e+35</td><td>6.022579126205432e-218</td><td>9.527964627241816e+37</td><td>3.69548915812344e-217</td><td>284501209939.489</td><td>284501209939.489</td><td>1.2444047112801565e-247</td><td>319617379938.57745</td><td>319617379938.57745</td><td>1.6098313710865104e-246</td><td>4.358334831412746e+52</td><td>4.358334831412746e+52</td><td>1.8124341944293214e-200</td><td>0.006613076044121446</td><td>0.03048359988350433</td><td>0.07729530922452685</td><td>0.11677749037691482</td><td>0.1361610416820471</td><td>0.2978582377610352</td><td>0.1870369589579212</td><td>6</td><td>82790105</td></tr>\n",
       "<tr><td>185.42384403250009</td><td>-1.093878063596164</td><td>752</td><td>301</td><td>1</td><td>280</td><td>773</td><td>4</td><td>31324</td><td>727</td><td>1.0 .. 1.0</td><td>-0.22222523 .. 18.685972</td><td>-0.224261 .. 29.481789</td><td>-0.103298314 .. 6.5622587</td><td>-0.4088612 .. 14.216924</td><td>-0.11454499 .. 3.2190144</td><td>0.08955396 .. 11.590806</td><td>0.14639954 .. 0.042002894</td><td>1.9651434 .. 1.6194754</td><td>1.2053868</td><td>1.162037 .. 20.07701</td><td>0.028399523</td><td>1.4124044 .. 5.157911</td><td>1</td><td>0.5810622</td><td>0.27579442</td><td>1.0</td><td>1.0</td><td>0.9715163</td><td>1.0830835</td><td>1.0522333</td><td>0.00026258893</td><td>0.9936709</td><td>3777</td><td>909</td><td>55210</td><td>4</td><td>10207 .. -1</td><td>10207</td><td>0</td><td>47998</td><td>1</td><td>41126553832158494</td><td>False</td><td>185.423796424291</td><td>False</td><td>-1.094036274336858</td><td>False</td><td>22.1288</td><td>False</td><td>0.013606136</td><td>False</td><td>20.481604</td><td>False</td><td>0.004827301</td><td>False</td><td>19.325565</td><td>False</td><td>0.0019040956</td><td>False</td><td>18.941317</td><td>False</td><td>0.0029892642</td><td>False</td><td>18.896406</td><td>False</td><td>0.0059012794</td><td>False</td><td>0.09202527</td><td>False</td><td>0.06464491</td><td>False</td><td>0.046381872</td><td>False</td><td>0.035872813</td><td>False</td><td>0.030533077</td><td>False</td><td>0.5947778965889798</td><td>8000</td><td>325349</td><td>1853m010</td><td>692</td><td>True</td><td>0</td><td>0</td><td>REX</td><td>185.4237745119117</td><td>-1.0939644895448282</td><td>87355790000.0</td><td>86367360000.0</td><td>1129.437</td><td>508.37827</td><td>11029.057 .. 0.0</td><td>0.028401747</td><td>57109.21477587259</td><td>58160.30963444073</td><td></td><td>0</td><td>0.0</td><td>0.0</td><td>0.0</td><td>0.0</td><td>0.0</td><td>0.0</td><td>0.0</td><td>False</td><td>0.0</td><td>0.0</td><td>0</td><td>0.0</td><td>0.0</td><td>0</td><td>0.0</td><td>0.0</td><td>0</td><td>False</td><td>0.0</td><td>0.0</td><td>0</td><td>0</td><td>0.0</td><td>False</td><td>0.0</td><td>0.0</td><td>0.0</td><td>0.0</td><td>0</td><td>2.0113146</td><td>7.579607</td><td>21.15177</td><td>51.893677</td><td>30.644333</td><td>53.40786</td><td>-63.783585</td><td>340.7497</td><td>124.961365</td><td>24.960896</td><td>2.0410695</td><td>0.39336148</td><td>0.0005236474</td><td>7.2402145e-06</td><td>0.38340598</td><td>1.4448594</td><td>4.0320473</td><td>0.38342527</td><td>1.4449587</td><td>4.032399</td><td>0.13029103 .. 2.6468267</td><td>0.54102695 .. 9.116183</td><td>1.7943475 .. 26.364494</td><td>-0.016951146 .. 0.14850348</td><td>-0.025633262 .. 0.4416163</td><td>0.08074182 .. 0.69804114</td><td>11810.775 .. 60.259056</td><td>4648.4067 .. 23.71636</td><td>723.22687 .. 5.919409</td><td>0.91936237</td><td>0.9449397</td><td>0.968818</td><td>0.9951983</td><td>0.9970484</td><td>0.99936974</td><td>0.999762</td><td>4</td><td>4</td><td>4</td><td>129</td><td>128</td><td>11</td><td>10</td><td>0.9925224</td><td>1.1669118</td><td>1.2900798</td><td>2.002637</td><td>1.3697169</td><td>0.42772746</td><td>0.10157675</td><td>0.003306179</td><td>0.004419977</td><td>0.008780777</td><td>0.29555666</td><td>0.4128479</td><td>1.104184</td><td>20.545317</td><td>0.004877622</td><td>0.0050538974</td><td>0.09675285</td><td>0.99995553</td><td>0.99992615</td><td>0.99991137</td><td>0</td><td>0</td><td>128</td><td>0</td><td>0</td><td>0</td><td>0</td><td>0</td><td>1.499102</td><td>1.4597989</td><td>1.4912281</td><td>1817.6382</td><td>754.3289</td><td>131.55109</td><td>1173.6367</td><td>459.72607</td><td>75.358</td><td>2.6594024</td><td>0.48053738</td><td>0.0006834291</td><td>9.3054305e-06</td><td>1860m016</td><td>52.99308 .. 0.0</td><td>29.335527 .. 0.0</td><td>0.17065494 .. 0.0</td><td>0.045584854 .. 0.0</td><td>10 .. 0</td><td>11 .. 0</td><td>0.2535207 .. 0.0</td><td>0.30675793 .. 0.0</td><td>0.5396596 .. 0.0</td><td>0.9336867 .. 0.0</td><td>55370.735061375 .. 0.0</td><td>55370.735061375 .. 0.0</td><td>0.0</td><td>0.0</td><td>1.3842129</td><td>7879.562</td><td>0.0</td><td>0.0</td><td>0.0</td><td>0.0</td><td>0.0</td><td>0.0</td><td>0.0</td><td>0.0</td><td>0.0</td><td>0.0</td><td>55210</td><td>3777</td><td>909</td><td>v5_10_0</td><td>0.2701927400699012</td><td>51</td><td>0.033206140363507206</td><td>0.032002779258069915</td><td>0.07809641876765959</td><td>0.0788702492270193</td><td>3543.5267277096864</td><td>1604.2524854995543</td><td>0.58</td><td>0.0</td><td>176978920041.1046</td><td>53855536336.54077</td><td>0.1973291773665843</td><td>0.01183755157097302</td><td>0.12218662105258406</td><td>0.006615464058447118</td><td>0.006276207125025202</td><td>0.000330997536449678</td><td>0.061520868242904765</td><td>0.0009152917618948699</td><td>0.024297529647043875</td><td>0.0009052177145183655</td><td>0.10124854380435155</td><td>0.002391062936107456</td><td>0.08655569956604765</td><td>0.001630889279732538</td><td>4.917831328903695</td><td>0.8196385548172825</td><td>0.00825</td><td>0.025</td><td>0.00825</td><td>0.025</td><td>0.00825</td><td>0.025</td><td>0.33</td><td>0.0</td><td>0.03794258140356518</td><td>0.0</td><td>217.5</td><td>35.0</td><td>0.0</td><td>0.0</td><td>300.0</td><td>-3.0</td><td>6000.0</td><td>5.0</td><td>6000.0</td><td>0.0</td><td>5.0</td><td>251.0</td><td>5496.7212594187295</td><td>1.0</td><td>0.008</td><td>10.0</td><td>8138.561368218152</td><td>1.0534973749325959e+26</td><td>0.5810621976852417</td><td>2.5581710258770657e+33</td><td>4.405946288552454e+28</td><td>6.773185251345965e+33</td><td>1.1489865731087342e+29</td><td>1.4249202974561854e+36</td><td>7.27921696225563e+29</td><td>1.4342525406132246e+36</td><td>7.63104863473734e+20</td><td>1.2469572396006163e+22</td><td>5.1617519478547935e+22</td><td>1.2575202441903012e+23</td><td>9.04134840185455e+22</td><td>1.666415228594541e+23</td><td>1.5458196386637914e+23</td><td>432421980866.38214</td><td>1.7172305757032456e-06</td><td>2.0869131420190963e-06</td><td>1.7470885808349359e-06</td><td>8.253787438186808e+37</td><td>2.418164149201046e+35</td><td>2.418153234360508e+35</td><td>1.0914840537845333e+30</td><td>8.25378697945929e+37</td><td>4.587275179083401e+30</td><td>205755189816.51523</td><td>205755189815.60416</td><td>0.911066586774111</td><td>226666791049.86688</td><td>226666791033.30707</td><td>16.55981928598214</td><td>5.19733790925111e+52</td><td>5.197306474666214e+52</td><td>3.1434584896819118e+47</td><td>0.0062874730319288944</td><td>0.024194229240516323</td><td>0.06217759773010373</td><td>0.0879377642191541</td><td>0.10295185694254166</td><td>0.1938678684693356</td><td>0.12029373214463135</td><td>7</td><td>82790107</td></tr>\n",
       "<tr><td>185.64037186969088</td><td>-1.1668989968848367</td><td>752</td><td>301</td><td>1</td><td>281</td><td>114</td><td>4</td><td>31390</td><td>727</td><td>1.0 .. 1.0</td><td>0.21874833 .. 26.306402</td><td>0.21875034 .. 31.296734</td><td>0.27243668 .. 18.205444</td><td>0.21980457 .. 28.811914</td><td>-0.0884934 .. 8.6584425</td><td>0.078276254 .. 2.227687</td><td>0.13535342 .. 0.038833693</td><td>1.9120371 .. 1.598581</td><td>1.2053868</td><td>1.1606519 .. 19.99217</td><td>0.026256723</td><td>1.3734161 .. 5.0805945</td><td>1</td><td>0.5601102</td><td>0.23260513</td><td>1.0</td><td>1.0</td><td>0.99456114</td><td>1.0597667</td><td>1.0540028</td><td>0.00032991313</td><td>0.9936709</td><td>3846</td><td>9</td><td>55327</td><td>4</td><td>10208 .. -1</td><td>10208</td><td>0</td><td>2810</td><td>1</td><td>41126416393197604</td><td>False</td><td>185.64038762622093</td><td>False</td><td>-1.1668974795338933</td><td>False</td><td>22.12056</td><td>False</td><td>0.008778137</td><td>False</td><td>20.381542</td><td>False</td><td>0.0027270436</td><td>False</td><td>19.228174</td><td>False</td><td>0.00082672277</td><td>False</td><td>18.794985</td><td>False</td><td>0.001191345</td><td>False</td><td>18.604563</td><td>False</td><td>0.0021785803</td><td>False</td><td>0.08507116</td><td>False</td><td>0.059759866</td><td>False</td><td>0.042876918</td><td>False</td><td>0.033161998</td><td>False</td><td>0.028225772</td><td>False</td><td>0.05697420885718601</td><td>8000</td><td>323910</td><td>1856m012</td><td>3923</td><td>True</td><td>0</td><td>0</td><td>DEV</td><td>185.64038538429364</td><td>-1.1668971377105701</td><td>383744440000.0</td><td>387801060000.0</td><td>1588.1414</td><td>2941.3716</td><td>20894.246 .. 25229.123</td><td>0.026256546</td><td>57109.2174141126</td><td>58160.30963444073</td><td></td><td>0</td><td>0.0</td><td>0.0</td><td>0.0</td><td>0.0</td><td>0.0</td><td>0.0</td><td>0.0</td><td>False</td><td>0.0</td><td>0.0</td><td>0</td><td>0.0</td><td>0.0</td><td>0</td><td>0.0</td><td>0.0</td><td>0</td><td>False</td><td>0.0</td><td>0.0</td><td>0</td><td>0</td><td>0.0</td><td>False</td><td>0.0</td><td>0.0</td><td>0.0</td><td>0.0</td><td>0</td><td>1.300415</td><td>8.838318</td><td>30.42189</td><td>87.88823</td><td>53.001644</td><td>-121.64988</td><td>-503.98264</td><td>310.9869</td><td>126.681595</td><td>15.976972</td><td>2.1695025</td><td>0.38482195</td><td>0.0006014893</td><td>8.677789e-06</td><td>0.4742395</td><td>3.223186</td><td>11.094352</td><td>0.49673074</td><td>3.258512</td><td>11.142911</td><td>0.19129111 .. 3.4541907</td><td>1.3840635 .. 12.810222</td><td>5.825786 .. 39.28225</td><td>0.0059748297 .. -3.3921282</td><td>-0.02896524 .. -5.1047564</td><td>0.034529954 .. -5.2369485</td><td>7066.451 .. 35.557163</td><td>2825.5847 .. 14.253885</td><td>265.50644 .. 3.1288893</td><td>0.9252191</td><td>0.9489904</td><td>0.97113883</td><td>0.99556017</td><td>0.99727106</td><td>0.99941736</td><td>0.99977994</td><td>3</td><td>3</td><td>3</td><td>132</td><td>123</td><td>12</td><td>12</td><td>1.2139775</td><td>1.0318859</td><td>0.94307464</td><td>4.865823</td><td>0.80723417</td><td>0.6338057</td><td>0.1271615</td><td>0.24141683</td><td>0.040385503</td><td>0.016631922</td><td>0.14745945</td><td>0.16511697</td><td>1.5334389</td><td>1.5652986</td><td>0.01286285</td><td>0.013035209</td><td>0.24785674</td><td>0.8002073</td><td>0.9935419</td><td>0.9930181</td><td>0</td><td>0</td><td>128</td><td>0</td><td>0</td><td>0</td><td>0</td><td>0</td><td>1.5342093</td><td>1.2968025</td><td>1.3797218</td><td>1236.8898</td><td>581.0815</td><td>78.364075</td><td>802.4404</td><td>330.68573</td><td>38.627888</td><td>2.72267</td><td>0.487326</td><td>0.0006833161</td><td>9.3054305e-06</td><td>1860m016</td><td>90.581154 .. 0.0</td><td>45.598858 .. 0.0</td><td>0.21295995 .. 0.0</td><td>0.049311444 .. 0.0</td><td>12 .. 0</td><td>12 .. 0</td><td>0.12609498 .. 0.0</td><td>0.28063646 .. 0.0</td><td>2.831819 .. 0.0</td><td>0.78944886 .. 0.0</td><td>55370.735061375 .. 0.0</td><td>55370.735061375 .. 0.0</td><td>1.0</td><td>1.0</td><td>0.0</td><td>0.0</td><td>0.0</td><td>0.0</td><td>0.0</td><td>0.0</td><td>0.88318074</td><td>17671.11</td><td>-0.016939478</td><td>14955.702</td><td>0.05139238</td><td>20805.361</td><td>55327</td><td>3846</td><td>9</td><td>v5_10_0</td><td>0.008162555698608638</td><td>53</td><td>0.06407019406265446</td><td>0.04569567272213053</td><td>0.1498198512438193</td><td>0.11659833689359425</td><td>4020.7707506363945</td><td>1663.842551509939</td><td>0.5599999999999999</td><td>1.1102230246251564e-16</td><td>294601300712.9585</td><td>91216697620.25723</td><td>0.3269386186758937</td><td>0.020216559318437514</td><td>0.19601272469123918</td><td>0.012846999839509692</td><td>0.006024398480631461</td><td>0.0003309082452357408</td><td>0.07321361024099364</td><td>0.0017375714414178407</td><td>0.026315127918008944</td><td>0.0009189293852589279</td><td>0.13055963176390137</td><td>0.0036188740642874363</td><td>0.10941635296439911</td><td>0.0029979151167975806</td><td>0.5315707032896461</td><td>0.08859511721494101</td><td>0.04125</td><td>0.125</td><td>0.04125</td><td>0.125</td><td>0.04125</td><td>0.125</td><td>0.33</td><td>0.0</td><td>0.18915333713498106</td><td>0.0</td><td>217.5</td><td>35.0</td><td>0.0</td><td>0.0</td><td>300.0</td><td>-3.0</td><td>6000.0</td><td>5.0</td><td>6000.0</td><td>0.0</td><td>5.0</td><td>39.8</td><td>5920.365236220248</td><td>1.0</td><td>0.02</td><td>10.0</td><td>8277.35542155358</td><td>1.0073629370594508e+26</td><td>0.5601102113723755</td><td>1.1217415431891846e+34</td><td>7.005466106359127e-25</td><td>2.784759083366988e+34</td><td>1.6501551948612887e-24</td><td>8.838295275039757e+36</td><td>1.405370750216464e-23</td><td>8.877360281305318e+36</td><td>3.704665574995641e+20</td><td>1.0402123040809355e+22</td><td>5.455322629348862e+22</td><td>1.5423490800302594e+23</td><td>1.0711806910254158e+23</td><td>2.354547282371751e+23</td><td>2.0140109247486906e+23</td><td>746323909953.2452</td><td>9.78689450269196e-60</td><td>4.310730443404549e-59</td><td>1.097837348162054e-59</td><td>1.185835608084767e+38</td><td>2.5348902345987947e+35</td><td>2.5348902345987947e+35</td><td>4.894906592706097e-24</td><td>1.185835608084767e+38</td><td>2.6220532821749223e-23</td><td>351244638699.0271</td><td>351244638699.0271</td><td>6.85713980909862e-54</td><td>395079271254.2178</td><td>395079271254.2178</td><td>1.0292656250658043e-52</td><td>5.43079183977287e+52</td><td>5.43079183977287e+52</td><td>1.4803096171744321e-06</td><td>0.0058040657177588885</td><td>0.025810049501998236</td><td>0.07445541769923757</td><td>0.11286589892332811</td><td>0.13496940532704654</td><td>0.32757572107736227</td><td>0.19523982611386004</td><td>8</td><td>82790203</td></tr>\n",
       "<tr><td>186.98697902032148</td><td>-1.2214115273220554</td><td>752</td><td>301</td><td>1</td><td>290</td><td>515</td><td>4</td><td>31399</td><td>738</td><td>0.0 .. 0.5802522</td><td>1.1637732 .. 18.942482</td><td>1.5665869 .. 19.950315</td><td>0.61329573 .. 13.447411</td><td>1.1252755 .. 23.49445</td><td>0.33280826 .. 6.3240504</td><td>10.074975 .. 1.8662436</td><td>0.13517791 .. 0.03878334</td><td>1.7798518 .. 1.6076533</td><td>1.2053864</td><td>1.1661919 .. 19.331621</td><td>0.026222678</td><td>1.2815148 .. 5.02431</td><td>1</td><td>0.56818515</td><td>0.24618113</td><td>1.0</td><td>1.0</td><td>0.9869401</td><td>1.0607992</td><td>1.0469453</td><td>0.00030620498</td><td>0.9916667</td><td>3792</td><td>761</td><td>55212</td><td>4</td><td>10209 .. -1</td><td>10209</td><td>0</td><td>29731</td><td>1</td><td>41130810144749211</td><td>False</td><td>186.98701667713684</td><td>False</td><td>-1.2214194141673174</td><td>False</td><td>21.588005</td><td>False</td><td>0.00583688</td><td>False</td><td>20.273949</td><td>False</td><td>0.0023713012</td><td>False</td><td>19.212126</td><td>False</td><td>0.0010345288</td><td>False</td><td>18.84132</td><td>False</td><td>0.0012259377</td><td>False</td><td>18.657322</td><td>False</td><td>0.0020114316</td><td>False</td><td>0.08495732</td><td>False</td><td>0.059679896</td><td>False</td><td>0.042819537</td><td>False</td><td>0.033117622</td><td>False</td><td>0.028188</td><td>False</td><td>0.13847575592522252</td><td>8000</td><td>323915</td><td>1868m012</td><td>2768</td><td>True</td><td>0</td><td>0</td><td>DEV</td><td>186.98700788692173</td><td>-1.2214219454526236</td><td>194327230000.0</td><td>180683280000.0</td><td>260.8079</td><td>2192.1436</td><td>13840.864 .. 17789.182</td><td>0.026221748</td><td>57111.16455507259</td><td>57818.23965633074</td><td></td><td>0</td><td>0.0</td><td>0.0</td><td>0.0</td><td>0.0</td><td>0.0</td><td>0.0</td><td>0.0</td><td>False</td><td>0.0</td><td>0.0</td><td>0</td><td>0.0</td><td>0.0</td><td>0</td><td>0.0</td><td>0.0</td><td>0</td><td>False</td><td>0.0</td><td>0.0</td><td>0</td><td>0</td><td>0.0</td><td>False</td><td>0.0</td><td>0.0</td><td>0.0</td><td>0.0</td><td>0</td><td>2.5232482</td><td>9.775891</td><td>30.242329</td><td>79.935234</td><td>45.396866</td><td>-30.555254</td><td>976.94403</td><td>234.87671</td><td>79.425</td><td>9.638399</td><td>1.6296439</td><td>0.28928095</td><td>0.000531031</td><td>8.24813e-06</td><td>0.665424</td><td>2.5780709</td><td>7.975423</td><td>0.665424</td><td>2.5780709</td><td>7.975423</td><td>0.22307308 .. 2.8019595</td><td>1.0080209 .. 9.950666</td><td>3.8822575 .. 28.73344</td><td>-0.035774093 .. 0.08161314</td><td>-0.022792604 .. -0.20346394</td><td>0.062049467 .. -1.8530598</td><td>8034.252 .. 40.99108</td><td>2930.4185 .. 14.951115</td><td>273.10413 .. 1.8915014</td><td>0.9253144</td><td>0.94905627</td><td>0.97117656</td><td>0.99556607</td><td>0.99727464</td><td>0.99941814</td><td>0.99978024</td><td>3</td><td>3</td><td>2</td><td>123</td><td>108</td><td>12</td><td>12</td><td>0.99263215</td><td>1.0193955</td><td>1.1168904</td><td>1.9676826</td><td>1.1447444</td><td>0.5577656</td><td>0.14045423</td><td>0.0013323445</td><td>0.0010395795</td><td>0.0021471893</td><td>0.08130694</td><td>0.10914602</td><td>1.946115</td><td>0.9832053</td><td>0.05963351</td><td>0.057098728</td><td>0.09135275</td><td>0.9443645</td><td>0.9440498</td><td>0.710919</td><td>0</td><td>0</td><td>0</td><td>0</td><td>0</td><td>0</td><td>0</td><td>0</td><td>1.431025</td><td>1.4309192</td><td>1.1449717</td><td>1356.9019</td><td>494.96243</td><td>72.03489</td><td>841.9966</td><td>307.94595</td><td>36.69801</td><td>2.6633573</td><td>0.46158174</td><td>0.0006888586</td><td>9.333947e-06</td><td>1875m016</td><td>79.90118 .. 0.0</td><td>55.525635 .. 0.0</td><td>0.16929202 .. 0.0</td><td>0.04337429 .. 0.0</td><td>12 .. 0</td><td>12 .. 0</td><td>0.09935737 .. 0.0</td><td>0.075424075 .. 0.0</td><td>1.2361271 .. 0.0</td><td>1.6214116 .. 0.0</td><td>55372.0581629 .. 0.0</td><td>55372.05809922 .. 0.0</td><td>1.0</td><td>1.0</td><td>0.0</td><td>0.0</td><td>0.0</td><td>0.0</td><td>0.0</td><td>0.0</td><td>1.5263946</td><td>52180.812</td><td>0.0721578</td><td>55574.246</td><td>0.0684728</td><td>62293.63</td><td>55212</td><td>3792</td><td>761</td><td>v5_10_0</td><td>0.03292380149228451</td><td>71</td><td>0.05845550414566047</td><td>0.0444967081849389</td><td>0.139779409671017</td><td>0.11405885431061547</td><td>2726.3580589985877</td><td>1567.77320818347</td><td>0.5700000000000001</td><td>1.1102230246251565e-16</td><td>192032797500.13113</td><td>75798835721.82727</td><td>0.27482198470973523</td><td>0.01966540717706614</td><td>0.1689732046075594</td><td>0.011521214487667124</td><td>0.008233709591269352</td><td>0.0006479562449966032</td><td>0.0788861912003755</td><td>0.0020731281842856952</td><td>0.031813372524910725</td><td>0.0014986858203778022</td><td>0.12921074014637204</td><td>0.005160692635238799</td><td>0.11055138269214691</td><td>0.0037856536720073043</td><td>0.2090314178721932</td><td>0.03483856964536553</td><td>0.033</td><td>0.1</td><td>0.033</td><td>0.1</td><td>0.033</td><td>0.1</td><td>0.33</td><td>0.0</td><td>0.15754151049065568</td><td>0.0</td><td>217.5</td><td>35.0</td><td>0.0</td><td>0.0</td><td>300.0</td><td>-3.0</td><td>6000.0</td><td>5.0</td><td>6000.0</td><td>0.0</td><td>5.0</td><td>794.0</td><td>4409.696528873284</td><td>1.0</td><td>0.02</td><td>10.0</td><td>8223.449520175809</td><td>1.0250862601797442e+26</td><td>0.5681851506233215</td><td>8.471711156640066e+33</td><td>1.5193089562684847e+35</td><td>2.1167888281980694e+34</td><td>3.6266832961610444e+35</td><td>7.752620874420873e+36</td><td>2.9716266205891414e+36</td><td>1.1268486319691586e+37</td><td>2.7224110720834884e+21</td><td>1.4312894959393595e+22</td><td>5.9393469055675274e+22</td><td>1.4743294809876328e+23</td><td>1.0726201176714383e+23</td><td>2.164532594224808e+23</td><td>1.8770091810183807e+23</td><td>507684684399.2804</td><td>2.5392425441434283</td><td>2.6815827386952606</td><td>2.5517712736156004</td><td>1.1965781142000536e+38</td><td>1.4533153008607922e+36</td><td>2.2945454407224925e+35</td><td>1.2238607567885428e+36</td><td>1.1334887158668992e+38</td><td>6.308939833315447e+36</td><td>232752034199.923</td><td>232750517846.83383</td><td>1516353.089162122</td><td>274932650191.7181</td><td>274908648839.7102</td><td>24001352.00790994</td><td>4.2044799974094104e+53</td><td>4.976716198221602e+52</td><td>3.70680837758725e+53</td><td>0.009004502135724155</td><td>0.030455204637820355</td><td>0.076657767131952</td><td>0.10960629173498367</td><td>0.12952008276836444</td><td>0.28617648263012524</td><td>0.1711928884108059</td><td>10</td><td>82790206</td></tr>\n",
       "<tr><td>...</td><td>...</td><td>...</td><td>...</td><td>...</td><td>...</td><td>...</td><td>...</td><td>...</td><td>...</td><td>...</td><td>...</td><td>...</td><td>...</td><td>...</td><td>...</td><td>...</td><td>...</td><td>...</td><td>...</td><td>...</td><td>...</td><td>...</td><td>...</td><td>...</td><td>...</td><td>...</td><td>...</td><td>...</td><td>...</td><td>...</td><td>...</td><td>...</td><td>...</td><td>...</td><td>...</td><td>...</td><td>...</td><td>...</td><td>...</td><td>...</td><td>...</td><td>...</td><td>...</td><td>...</td><td>...</td><td>...</td><td>...</td><td>...</td><td>...</td><td>...</td><td>...</td><td>...</td><td>...</td><td>...</td><td>...</td><td>...</td><td>...</td><td>...</td><td>...</td><td>...</td><td>...</td><td>...</td><td>...</td><td>...</td><td>...</td><td>...</td><td>...</td><td>...</td><td>...</td><td>...</td><td>...</td><td>...</td><td>...</td><td>...</td><td>...</td><td>...</td><td>...</td><td>...</td><td>...</td><td>...</td><td>...</td><td>...</td><td>...</td><td>...</td><td>...</td><td>...</td><td>...</td><td>...</td><td>...</td><td>...</td><td>...</td><td>...</td><td>...</td><td>...</td><td>...</td><td>...</td><td>...</td><td>...</td><td>...</td><td>...</td><td>...</td><td>...</td><td>...</td><td>...</td><td>...</td><td>...</td><td>...</td><td>...</td><td>...</td><td>...</td><td>...</td><td>...</td><td>...</td><td>...</td><td>...</td><td>...</td><td>...</td><td>...</td><td>...</td><td>...</td><td>...</td><td>...</td><td>...</td><td>...</td><td>...</td><td>...</td><td>...</td><td>...</td><td>...</td><td>...</td><td>...</td><td>...</td><td>...</td><td>...</td><td>...</td><td>...</td><td>...</td><td>...</td><td>...</td><td>...</td><td>...</td><td>...</td><td>...</td><td>...</td><td>...</td><td>...</td><td>...</td><td>...</td><td>...</td><td>...</td><td>...</td><td>...</td><td>...</td><td>...</td><td>...</td><td>...</td><td>...</td><td>...</td><td>...</td><td>...</td><td>...</td><td>...</td><td>...</td><td>...</td><td>...</td><td>...</td><td>...</td><td>...</td><td>...</td><td>...</td><td>...</td><td>...</td><td>...</td><td>...</td><td>...</td><td>...</td><td>...</td><td>...</td><td>...</td><td>...</td><td>...</td><td>...</td><td>...</td><td>...</td><td>...</td><td>...</td><td>...</td><td>...</td><td>...</td><td>...</td><td>...</td><td>...</td><td>...</td><td>...</td><td>...</td><td>...</td><td>...</td><td>...</td><td>...</td><td>...</td><td>...</td><td>...</td><td>...</td><td>...</td><td>...</td><td>...</td><td>...</td><td>...</td><td>...</td><td>...</td><td>...</td><td>...</td><td>...</td><td>...</td><td>...</td><td>...</td><td>...</td><td>...</td><td>...</td><td>...</td><td>...</td><td>...</td><td>...</td><td>...</td><td>...</td><td>...</td><td>...</td><td>...</td><td>...</td><td>...</td><td>...</td><td>...</td><td>...</td><td>...</td><td>...</td><td>...</td><td>...</td><td>...</td><td>...</td><td>...</td><td>...</td><td>...</td><td>...</td><td>...</td><td>...</td><td>...</td><td>...</td><td>...</td><td>...</td><td>...</td><td>...</td><td>...</td><td>...</td><td>...</td><td>...</td><td>...</td><td>...</td><td>...</td><td>...</td><td>...</td><td>...</td><td>...</td><td>...</td><td>...</td><td>...</td><td>...</td><td>...</td><td>...</td><td>...</td><td>...</td><td>...</td><td>...</td><td>...</td><td>...</td><td>...</td><td>...</td><td>...</td><td>...</td><td>...</td><td>...</td><td>...</td><td>...</td><td>...</td><td>...</td><td>...</td><td>...</td><td>...</td><td>...</td><td>...</td><td>...</td><td>...</td><td>...</td><td>...</td><td>...</td><td>...</td><td>...</td><td>...</td><td>...</td><td>...</td><td>...</td><td>...</td><td>...</td><td>...</td><td>...</td><td>...</td><td>...</td><td>...</td><td>...</td><td>...</td><td>...</td><td>...</td><td>...</td><td>...</td><td>...</td><td>...</td><td>...</td><td>...</td><td>...</td><td>...</td><td>...</td><td>...</td><td>...</td><td>...</td><td>...</td><td>...</td><td>...</td><td>...</td><td>...</td><td>...</td><td>...</td><td>...</td><td>...</td><td>...</td><td>...</td><td>...</td><td>...</td><td>...</td><td>...</td><td>...</td><td>...</td><td>...</td></tr>\n",
       "<tr><td>29.639725995882955</td><td>-6.248104577441195</td><td>7908</td><td>301</td><td>5</td><td>53</td><td>693</td><td>36</td><td>32692</td><td>12459</td><td>1.0 .. 1.0</td><td>-0.46284872 .. 15.316505</td><td>-0.4644086 .. 25.210285</td><td>-0.3461607 .. 4.8535676</td><td>-1.2819481 .. 18.272259</td><td>-0.20026362 .. 3.206221</td><td>0.14241797 .. 10.371089</td><td>0.1472017 .. 0.04223304</td><td>1.3141932 .. 1.0694466</td><td>1.7109084</td><td>2.0174546 .. 28.421158</td><td>0.02855513</td><td>1.5752708 .. 4.1731524</td><td>1</td><td>0.6917938</td><td>0.64807254</td><td>1.0</td><td>1.0</td><td>0.94974846</td><td>0.978424</td><td>0.9292567</td><td>5.4303724e-05</td><td>0.9681979</td><td>7165</td><td>903</td><td>56603</td><td>36</td><td>15703 .. -1</td><td>15703</td><td>0</td><td>9163</td><td>1</td><td>36412140030028886</td><td>False</td><td>29.639661933752862</td><td>False</td><td>-6.248162758279134</td><td>False</td><td>22.59966</td><td>False</td><td>0.021565529</td><td>False</td><td>20.977005</td><td>False</td><td>0.006914797</td><td>False</td><td>19.692375</td><td>False</td><td>0.0035711024</td><td>False</td><td>19.152943</td><td>False</td><td>0.0036815011</td><td>False</td><td>18.887707</td><td>False</td><td>0.0052605914</td><td>False</td><td>0.09252063</td><td>False</td><td>0.06499289</td><td>False</td><td>0.04663154</td><td>False</td><td>0.036065914</td><td>False</td><td>0.030697433</td><td>False</td><td>0.3105269783119029</td><td>8000</td><td>294537</td><td>0295m062</td><td>4067</td><td>True</td><td>0</td><td>0</td><td>DEV</td><td>29.63966125712196</td><td>-6.248166291388806</td><td>245268580000.0</td><td>282348650000.0</td><td>426.0327</td><td>1824.5648</td><td>17178.967 .. 18358.807</td><td>0.028555801</td><td>56545.309267972596</td><td>58123.07969084074</td><td></td><td>0</td><td>0.0</td><td>0.0</td><td>0.0</td><td>0.0</td><td>0.0</td><td>0.0</td><td>0.0</td><td>False</td><td>0.0</td><td>0.0</td><td>0</td><td>0.0</td><td>0.0</td><td>0</td><td>0.0</td><td>0.0</td><td>0</td><td>False</td><td>0.0</td><td>0.0</td><td>0</td><td>0</td><td>0.0</td><td>False</td><td>0.0</td><td>0.0</td><td>0.0</td><td>0.0</td><td>0</td><td>0.9364963</td><td>5.5313463</td><td>24.99324</td><td>91.70502</td><td>51.712437</td><td>-24.687626</td><td>-4674.13</td><td>540.52795</td><td>318.84424</td><td>23.039673</td><td>1.8094543</td><td>0.35021552</td><td>0.000934243</td><td>1.46129805e-05</td><td>0.20429158</td><td>1.2066331</td><td>5.4521394</td><td>0.20429176</td><td>1.2066343</td><td>5.452144</td><td>0.07913288 .. 1.5434182</td><td>0.5194534 .. 6.3675156</td><td>2.587306 .. 23.588415</td><td>-0.0009626591 .. -0.112427235</td><td>-0.030520827 .. -0.00033551312</td><td>-0.021084826 .. -1.5361398</td><td>23651.334 .. 120.66321</td><td>12992.256 .. 66.28702</td><td>879.04803 .. 4.484143</td><td>0.91894317</td><td>0.94464946</td><td>0.96865153</td><td>0.9951723</td><td>0.9970324</td><td>0.99936634</td><td>0.9997607</td><td>8</td><td>8</td><td>7</td><td>146</td><td>142</td><td>21</td><td>21</td><td>0.94608134</td><td>1.014851</td><td>1.139278</td><td>2.32074</td><td>0.50042963</td><td>0.49792248</td><td>0.06414362</td><td>0.068555266</td><td>0.02531997</td><td>0.014543699</td><td>0.10684494</td><td>0.1415324</td><td>2.0592172</td><td>71.3838</td><td>0.09072883</td><td>0.08875172</td><td>0.09232421</td><td>0.9660169</td><td>0.96652204</td><td>0.9657361</td><td>0</td><td>0</td><td>0</td><td>0</td><td>0</td><td>0</td><td>0</td><td>0</td><td>1.461704</td><td>1.2054974</td><td>1.1105835</td><td>3828.0608</td><td>3091.4993</td><td>246.50102</td><td>2379.8965</td><td>1659.4451</td><td>118.711205</td><td>3.2392428</td><td>0.6129044</td><td>0.0013427372</td><td>1.7863298e-05</td><td>0303m061</td><td>114.91621 .. 83.54457</td><td>78.5311 .. 53.57215</td><td>0.12374986 .. 0.24723405</td><td>0.03123866 .. 0.0350911</td><td>9 .. 20</td><td>9 .. 15</td><td>0.23061499 .. 0.14381063</td><td>0.37655813 .. 0.24474485</td><td>1.360039 .. 3.140545</td><td>1.1176941 .. 0.970471</td><td>55209.404067395 .. 57952.46418414501</td><td>55209.404067395 .. 57952.46418414501</td><td>1.0</td><td>1.0</td><td>0.0</td><td>0.0</td><td>0.0</td><td>0.0</td><td>0.0</td><td>0.0</td><td>2.006223</td><td>2678.7693</td><td>-0.07321267</td><td>9145.269</td><td>0.09455813</td><td>11985.418</td><td>56603</td><td>7165</td><td>903</td><td>v5_10_0</td><td>0.012947629249683318</td><td>42967</td><td>0.08412226869584717</td><td>0.05510031942309192</td><td>0.19818941611471347</td><td>0.13740593828314762</td><td>3241.416552278036</td><td>1620.3363161790023</td><td>0.6900000000000001</td><td>1.1102230246251565e-16</td><td>353753697165.20654</td><td>123302623457.74715</td><td>0.3238603369275454</td><td>0.020955100019245786</td><td>0.18943238735759962</td><td>0.014189792121355892</td><td>0.0034511091287646586</td><td>0.0002436006918483731</td><td>0.052933337762770434</td><td>0.0014927611797241759</td><td>0.01607531511362244</td><td>0.0005842678011018306</td><td>0.1039610024928764</td><td>0.0038561846675129333</td><td>0.07929248977103599</td><td>0.002130808508488145</td><td>0.3441583524701106</td><td>0.0573597254116851</td><td>0.066</td><td>0.1</td><td>0.066</td><td>0.1</td><td>0.066</td><td>0.1</td><td>0.66</td><td>0.0</td><td>0.30381908067054814</td><td>0.0</td><td>217.5</td><td>35.0</td><td>0.0</td><td>0.0</td><td>300.0</td><td>-3.0</td><td>6000.0</td><td>5.0</td><td>6000.0</td><td>0.0</td><td>5.0</td><td>631.0</td><td>4727.573422505203</td><td>1.0</td><td>0.02</td><td>10.0</td><td>7459.786551986467</td><td>1.3049341618753292e+26</td><td>0.6917937994003296</td><td>2.421208329893308e+34</td><td>5.997867882989284e+34</td><td>5.9037584364461245e+34</td><td>1.4317277058145682e+35</td><td>2.1210441730425536e+37</td><td>1.1738387834985013e+36</td><td>2.267068163099878e+37</td><td>1.3537758466208254e+21</td><td>1.5736368242924135e+22</td><td>7.719320323594676e+22</td><td>2.1514795042240045e+23</td><td>1.4951083847129337e+23</td><td>3.280633293093788e+23</td><td>2.8075082843738155e+23</td><td>894096077887.7823</td><td>1.0019560775146126</td><td>1.075665712678653</td><td>1.008378380465605</td><td>1.790720108590439e+38</td><td>8.546526856877865e+35</td><td>3.714918698733739e+35</td><td>4.831608158144126e+35</td><td>1.7658007558611156e+38</td><td>2.4919352729323078e+36</td><td>413004340383.81055</td><td>413003740751.3833</td><td>599632.427261826</td><td>481091737500.95374</td><td>481082253352.5947</td><td>9484148.359039523</td><td>2.2623890088168823e+53</td><td>7.990298398607768e+52</td><td>1.4633591689561056e+53</td><td>0.0035215404118714073</td><td>0.015302167533229629</td><td>0.05153771660533879</td><td>0.07847367971110424</td><td>0.10486401548473963</td><td>0.3397101696621464</td><td>0.19220118348498</td><td>11073</td><td>169720202</td></tr>\n",
       "<tr><td>40.01677068002365</td><td>-4.263777055825842</td><td>7865</td><td>301</td><td>3</td><td>181</td><td>705</td><td>38</td><td>32525</td><td>12497</td><td>1.0 .. 0.80989283</td><td>-0.26028535 .. 15.758987</td><td>-0.2603553 .. 24.36039</td><td>-0.2580747 .. 9.204131</td><td>-0.40586257 .. 21.640549</td><td>-0.104688935 .. 5.386073</td><td>0.022744607 .. 3.708528</td><td>0.15192117 .. 0.043587077</td><td>1.5393274 .. 1.1129073</td><td>1.4869365</td><td>2.251822 .. 28.268343</td><td>0.029470641</td><td>1.757045 .. 4.2755685</td><td>1</td><td>0.6016405</td><td>0.3097847</td><td>1.0</td><td>1.0</td><td>0.9539617</td><td>0.9719398</td><td>0.92719334</td><td>0.00022280483</td><td>0.9745455</td><td>7053</td><td>533</td><td>56564</td><td>38</td><td>15723 .. -1</td><td>15723</td><td>0</td><td>3322</td><td>1</td><td>38567161345622031</td><td>False</td><td>40.01679851920298</td><td>False</td><td>-4.263785934280758</td><td>False</td><td>23.313686</td><td>False</td><td>0.035339277</td><td>False</td><td>21.390297</td><td>False</td><td>0.008577159</td><td>False</td><td>20.172527</td><td>False</td><td>0.005763984</td><td>False</td><td>19.685806</td><td>False</td><td>0.004870924</td><td>False</td><td>19.487923</td><td>False</td><td>0.007776427</td><td>False</td><td>0.09548264</td><td>False</td><td>0.067073606</td><td>False</td><td>0.04812443</td><td>False</td><td>0.03722055</td><td>False</td><td>0.031680197</td><td>False</td><td>0.10493013854583923</td><td>8000</td><td>306057</td><td>0399m042</td><td>3125</td><td>True</td><td>0</td><td>0</td><td>DEV</td><td>40.0167992556636</td><td>-4.263793651747422</td><td>549663280000.0</td><td>484258120000.0</td><td>616.4275</td><td>1609.9026</td><td>23663.291 .. 27672.488</td><td>0.02946994</td><td>56609.198025182595</td><td>58135.08567101073</td><td></td><td>0</td><td>0.0</td><td>0.0</td><td>0.0</td><td>0.0</td><td>0.0</td><td>0.0</td><td>0.0</td><td>False</td><td>0.0</td><td>0.0</td><td>0</td><td>0.0</td><td>0.0</td><td>0</td><td>0.0</td><td>0.0</td><td>0</td><td>False</td><td>0.0</td><td>0.0</td><td>0</td><td>0</td><td>0.0</td><td>False</td><td>0.0</td><td>0.0</td><td>0.0</td><td>0.0</td><td>0</td><td>0.7105803</td><td>4.0548553</td><td>16.204327</td><td>50.6344</td><td>37.18054</td><td>-54.691555</td><td>7878.6577</td><td>950.33624</td><td>567.77875</td><td>68.01683</td><td>2.455811</td><td>0.4568263</td><td>0.0015463941</td><td>2.1777245e-05</td><td>0.29605338</td><td>1.689399</td><td>6.7513075</td><td>0.29611588</td><td>1.689726</td><td>6.75217</td><td>0.12330493 .. 1.9665478</td><td>0.7938532 .. 8.972238</td><td>3.5915198 .. 30.851967</td><td>0.00012612835 .. -0.1052584</td><td>-0.0054212124 .. 0.23280604</td><td>0.030688375 .. 0.71412563</td><td>14693.178 .. 74.94273</td><td>8547.253 .. 43.608437</td><td>827.9432 .. 4.2122808</td><td>0.91645986</td><td>0.9429291</td><td>0.9676644</td><td>0.9950182</td><td>0.9969376</td><td>0.9993461</td><td>0.99975306</td><td>6</td><td>6</td><td>7</td><td>135</td><td>128</td><td>26</td><td>26</td><td>1.0675439</td><td>0.95063144</td><td>0.93770915</td><td>0.6466149</td><td>0.4369344</td><td>0.482252</td><td>0.07361303</td><td>0.04072997</td><td>0.02382195</td><td>0.014520874</td><td>0.492962</td><td>0.38272905</td><td>1.476399</td><td>0.980464</td><td>0.0063072224</td><td>0.0065514147</td><td>0.007986862</td><td>0.857067</td><td>0.99985427</td><td>0.9999068</td><td>0</td><td>0</td><td>0</td><td>0</td><td>0</td><td>0</td><td>0</td><td>0</td><td>1.3805102</td><td>1.1865644</td><td>1.0661999</td><td>2666.097</td><td>2099.4124</td><td>251.89243</td><td>1619.0641</td><td>1106.7495</td><td>120.71277</td><td>3.0870607</td><td>0.57588625</td><td>0.001688336</td><td>2.2435719e-05</td><td>0394m046</td><td>48.93043 .. 29.389326</td><td>28.34068 .. 48.969624</td><td>0.22011037 .. 0.15433665</td><td>0.05289636 .. 0.028148111</td><td>11 .. 8</td><td>11 .. 8</td><td>0.56195074 .. 1.1967613</td><td>0.987796 .. 0.13294108</td><td>0.48461097 .. 0.79460025</td><td>0.39111102 .. 0.3428966</td><td>55217.906419085004 .. 57962.74320633</td><td>55217.906419085004 .. 57962.74320633</td><td>1.0</td><td>1.0</td><td>0.0</td><td>0.0</td><td>0.0</td><td>0.0</td><td>0.0</td><td>0.0</td><td>0.76658493</td><td>10926.643</td><td>0.10554404</td><td>5799.5576</td><td>0.13050662</td><td>6769.1123</td><td>56564</td><td>7053</td><td>533</td><td>v5_10_0</td><td>0.0279083990169835</td><td>42977</td><td>0.1466923395435582</td><td>0.07152751977258247</td><td>0.29529573686017546</td><td>0.12497861137188</td><td>3698.3840322741894</td><td>1626.668890904415</td><td>0.6</td><td>0.0</td><td>196357832069.81546</td><td>62206312743.04039</td><td>0.20062207246357902</td><td>0.011683215276435704</td><td>0.12181729592052032</td><td>0.010702027722393868</td><td>0.002075132411289414</td><td>0.00012185240216489825</td><td>0.030691818925702354</td><td>0.0008137094929152138</td><td>0.009804847815315824</td><td>0.00040146127735754273</td><td>0.06059436120942334</td><td>0.0018803395472257623</td><td>0.048365730150911654</td><td>0.0014925723379378337</td><td>3.324923674792202</td><td>0.5541539457987004</td><td>0.198</td><td>0.3</td><td>0.198</td><td>0.3</td><td>0.198</td><td>0.3</td><td>0.66</td><td>0.0</td><td>0.9085359036899385</td><td>0.0</td><td>217.5</td><td>35.0</td><td>0.0</td><td>0.0</td><td>300.0</td><td>-3.0</td><td>6000.0</td><td>5.0</td><td>6000.0</td><td>0.0</td><td>5.0</td><td>398.0</td><td>5200.023188382911</td><td>1.0</td><td>0.008</td><td>10.0</td><td>8005.593236807565</td><td>1.0992712684049612e+26</td><td>0.601640522480011</td><td>3.4642538973623818e+34</td><td>7.435824232325813e+32</td><td>8.146610816387526e+34</td><td>1.7010158423560603e+33</td><td>3.0994276960090102e+37</td><td>9.967728146486629e+33</td><td>3.1122797933639677e+37</td><td>2.4170310043015954e+20</td><td>5.336022154629742e+21</td><td>2.808081929657476e+22</td><td>9.351925747032923e+22</td><td>5.863589339963985e+22</td><td>1.406542411144276e+23</td><td>1.2447353971533648e+23</td><td>503667728498.04395</td><td>0.005424968902592721</td><td>0.0061066332212857425</td><td>0.005482662695464215</td><td>9.834282417393744e+37</td><td>2.5610897528824474e+35</td><td>2.526696186316262e+35</td><td>3.4393566566185807e+33</td><td>9.832840087493779e+37</td><td>1.442329899964571e+34</td><td>238776514041.92838</td><td>238776511192.63412</td><td>2849.294227133179</td><td>264891214456.1154</td><td>264891162478.78244</td><td>51977.33294521687</td><td>5.508136364461192e+52</td><td>5.409086629370219e+52</td><td>9.904973509097288e+50</td><td>0.002071555709492586</td><td>0.009749369430796581</td><td>0.029983440307433124</td><td>0.04774676772941719</td><td>0.0603676628948862</td><td>0.1997496975130028</td><td>0.13103175637012462</td><td>11075</td><td>169720204</td></tr>\n",
       "<tr><td>40.16596920266022</td><td>-4.236850016896849</td><td>7865</td><td>301</td><td>3</td><td>182</td><td>263</td><td>38</td><td>32525</td><td>12497</td><td>0.0 .. 1.0</td><td>0.09462002 .. 15.633389</td><td>0.09466116 .. 16.010002</td><td>0.10240012 .. 13.804543</td><td>0.105595395 .. 26.421627</td><td>-0.00900999 .. 7.485458</td><td>0.07078367 .. 0.7263559</td><td>0.16114184 .. 0.046232544</td><td>1.5997865 .. 1.0898725</td><td>1.4867609</td><td>2.2516441 .. 28.259224</td><td>0.031259328</td><td>1.8258364 .. 4.186356</td><td>1</td><td>0.5117145</td><td>0.20542458</td><td>1.0</td><td>1.0</td><td>0.99813354</td><td>0.97415066</td><td>0.9723324</td><td>0.0003867967</td><td>0.9745455</td><td>7053</td><td>567</td><td>56564</td><td>38</td><td>15723 .. -1</td><td>15723</td><td>0</td><td>3960</td><td>1</td><td>38567023906666218</td><td>False</td><td>40.16599752607115</td><td>False</td><td>-4.2368120651229795</td><td>False</td><td>21.875164</td><td>False</td><td>0.013707979</td><td>False</td><td>20.188553</td><td>False</td><td>0.004175723</td><td>False</td><td>19.241405</td><td>False</td><td>0.0033399942</td><td>False</td><td>18.839512</td><td>False</td><td>0.003588366</td><td>False</td><td>18.676353</td><td>False</td><td>0.0045846207</td><td>False</td><td>0.10128202</td><td>False</td><td>0.071147494</td><td>False</td><td>0.05104739</td><td>False</td><td>0.039481234</td><td>False</td><td>0.033604376</td><td>False</td><td>0.17031364242067754</td><td>8000</td><td>306058</td><td>0401m042</td><td>4137</td><td>True</td><td>0</td><td>0</td><td>DEV</td><td>40.16599368097862</td><td>-4.23682057699256</td><td>2125889400000.0</td><td>1723222000000.0</td><td>2002.4811</td><td>1980.5894</td><td>99108.28 .. 116185.89</td><td>0.031259727</td><td>56592.184044192596</td><td>58135.08567101073</td><td></td><td>0</td><td>0.0</td><td>0.0</td><td>0.0</td><td>0.0</td><td>0.0</td><td>0.0</td><td>0.0</td><td>False</td><td>0.0</td><td>0.0</td><td>0</td><td>0.0</td><td>0.0</td><td>0</td><td>0.0</td><td>0.0</td><td>0</td><td>False</td><td>0.0</td><td>0.0</td><td>0</td><td>0</td><td>0.0</td><td>False</td><td>0.0</td><td>0.0</td><td>0.0</td><td>0.0</td><td>0</td><td>1.9615604</td><td>10.9311285</td><td>30.757492</td><td>66.48502</td><td>36.863823</td><td>-34.120003</td><td>215.31279</td><td>978.12384</td><td>487.93848</td><td>57.150177</td><td>2.3564527</td><td>0.4369646</td><td>0.0015174649</td><td>2.1817385e-05</td><td>0.7794926</td><td>4.343855</td><td>12.222533</td><td>0.7796642</td><td>4.344159</td><td>12.223001</td><td>0.3082495 .. 3.0872943</td><td>1.963793 .. 13.320382</td><td>6.369644 .. 36.44477</td><td>0.0051730974 .. -0.29073507</td><td>0.011363934 .. -0.0015322199</td><td>0.1319354 .. 1.6779966</td><td>18673.75 .. 95.27423</td><td>10140.166 .. 51.66765</td><td>817.54346 .. 4.17114</td><td>0.91161716</td><td>0.93956983</td><td>0.9657346</td><td>0.9947164</td><td>0.99675184</td><td>0.9993064</td><td>0.99973804</td><td>7</td><td>7</td><td>7</td><td>131</td><td>124</td><td>26</td><td>27</td><td>1.0302879</td><td>1.0076036</td><td>1.2183418</td><td>2.798063</td><td>0.48515812</td><td>0.653827</td><td>0.10020596</td><td>0.0038797338</td><td>0.0011356408</td><td>0.0005440567</td><td>0.07849694</td><td>0.11360924</td><td>1.8990918</td><td>2.309748</td><td>0.0050895107</td><td>0.005068572</td><td>0.0057297964</td><td>0.99969554</td><td>0.9997091</td><td>0.99969804</td><td>0</td><td>0</td><td>0</td><td>0</td><td>0</td><td>0</td><td>0</td><td>0</td><td>1.441127</td><td>1.2541828</td><td>1.0994308</td><td>3109.2454</td><td>2229.2153</td><td>233.91264</td><td>1940.7727</td><td>1233.8491</td><td>115.902504</td><td>3.0769334</td><td>0.5605476</td><td>0.0016144189</td><td>2.1492533e-05</td><td>0394m046</td><td>71.71468 .. 67.93097</td><td>29.331291 .. 28.111332</td><td>0.2578597 .. 0.11390978</td><td>0.061505884 .. 0.022154316</td><td>13 .. 6</td><td>13 .. 7</td><td>0.051118236 .. 0.051612053</td><td>0.24981385 .. 0.12083388</td><td>2.1012511 .. 1.1828494</td><td>0.4911458 .. 0.45768768</td><td>55217.906419085004 .. 57962.74320633</td><td>55217.906419085004 .. 57962.74320633</td><td>1.0</td><td>1.0</td><td>0.0</td><td>0.0</td><td>0.0</td><td>0.0</td><td>0.0</td><td>0.0</td><td>0.8307529</td><td>38564.47</td><td>0.15487175</td><td>36913.734</td><td>-0.034976847</td><td>18149.354</td><td>56564</td><td>7053</td><td>567</td><td>v5_10_0</td><td>0.033608649014971834</td><td>42980</td><td>0.03728201710215295</td><td>0.03928379329877972</td><td>0.09082704279732574</td><td>0.10069184831461375</td><td>3592.666568044024</td><td>1643.2312103197717</td><td>0.51</td><td>0.0</td><td>175447671160.48856</td><td>60327086792.851234</td><td>0.23710671286649668</td><td>0.012500009372131762</td><td>0.1487843733124902</td><td>0.007598555467929848</td><td>0.007499624581839967</td><td>0.00044827579194786995</td><td>0.07361658064981835</td><td>0.0013505393368095887</td><td>0.03167036021284923</td><td>0.00120630647414402</td><td>0.12137130068532398</td><td>0.0033132775427671362</td><td>0.10594811732696603</td><td>0.00271712957268604</td><td>0.918292408463816</td><td>0.15304873474396932</td><td>0.0</td><td>0.0</td><td>0.0</td><td>0.0</td><td>0.0</td><td>0.0</td><td>0.33</td><td>0.0</td><td>-0.0</td><td>0.0</td><td>217.5</td><td>35.0</td><td>0.0</td><td>0.0</td><td>300.0</td><td>-3.0</td><td>6000.0</td><td>5.0</td><td>6000.0</td><td>0.0</td><td>5.0</td><td>398.0</td><td>5199.516684109799</td><td>1.0</td><td>0.02</td><td>10.0</td><td>8611.701419922738</td><td>9.026810474670994e+25</td><td>0.511714518070221</td><td>-0.0</td><td>-0.0</td><td>-0.0</td><td>-0.0</td><td>-0.0</td><td>-0.0</td><td>0.0</td><td>3.6307195190765984e+20</td><td>8.739707590841236e+21</td><td>4.222156761035894e+22</td><td>1.0893837198225235e+23</td><td>7.863231677299297e+22</td><td>1.6022122352446147e+23</td><td>1.388901451565199e+23</td><td>429096762734.8635</td><td>0.004621770390137041</td><td>0.0052025103023313115</td><td>0.004670922278078874</td><td>7.545786939228331e+37</td><td>1.6284320981198414e+35</td><td>1.6061135645738173e+35</td><td>2.231853354602419e+33</td><td>7.544634173650961e+37</td><td>1.1527655773694797e+34</td><td>199949406680.15088</td><td>199949403897.06207</td><td>2783.088820584968</td><td>229147356054.6989</td><td>229147312128.57895</td><td>43926.11998375494</td><td>3.514739850927312e+52</td><td>3.44714719861041e+52</td><td>6.759265231690223e+50</td><td>0.007295861186232503</td><td>0.031083035394803907</td><td>0.07496855054004851</td><td>0.10920270753284617</td><td>0.12480943730751655</td><td>0.2356794353886665</td><td>0.14543339480081238</td><td>11076</td><td>169720303</td></tr>\n",
       "<tr><td>329.8400663831215</td><td>1.482618271680782</td><td>7712</td><td>301</td><td>2</td><td>128</td><td>750</td><td>21</td><td>30395</td><td>6115</td><td>1.0 .. 0.0</td><td>12.836401 .. 11.686196</td><td>6.6642323 .. 8.334537</td><td>0.0464904 .. 7.771068</td><td>0.114012755 .. 21.810974</td><td>-0.001248149 .. 4.15589</td><td>74.91483 .. 0.17938708</td><td>0.27064285 .. 0.077649035</td><td>1.7194083 .. 1.2950234</td><td>1.2281561</td><td>1.282162 .. 20.41008</td><td>0.052501038</td><td>1.309177 .. 4.1625094</td><td>1</td><td>0.57920325</td><td>0.26857644</td><td>1.0</td><td>1.0</td><td>1.0883386</td><td>0.99082273</td><td>1.0783507</td><td>0.00027233345</td><td>0.96842104</td><td>5147</td><td>939</td><td>55854</td><td>39</td><td>13642 .. -1</td><td>13642</td><td>0</td><td>170</td><td>1</td><td>42626863218047837</td><td>False</td><td>329.84000455201846</td><td>False</td><td>1.482661942037135</td><td>False</td><td>23.139786</td><td>False</td><td>0.039719064</td><td>False</td><td>21.300072</td><td>False</td><td>0.0129427845</td><td>False</td><td>20.121952</td><td>False</td><td>0.0044310205</td><td>False</td><td>19.607477</td><td>False</td><td>0.0054196375</td><td>False</td><td>19.36517</td><td>False</td><td>0.008370944</td><td>False</td><td>0.17011209</td><td>False</td><td>0.11949849</td><td>False</td><td>0.08573859</td><td>False</td><td>0.066312216</td><td>False</td><td>0.056441512</td><td>False</td><td>0.27245188873716364</td><td>8000</td><td>340327</td><td>3298p015</td><td>3478</td><td>True</td><td>0</td><td>0</td><td>DEV</td><td>329.84001777553544</td><td>1.482648549328828</td><td>275151520000.0</td><td>354327900000.0</td><td>2280.011</td><td>1561.0869</td><td>17113.977 .. 21431.412</td><td>0.05250289</td><td>56543.134033812596</td><td>57987.11878129074</td><td></td><td>0</td><td>0.0</td><td>0.0</td><td>0.0</td><td>0.0</td><td>0.0</td><td>0.0</td><td>0.0</td><td>False</td><td>0.0</td><td>0.0</td><td>0</td><td>0.0</td><td>0.0</td><td>0</td><td>0.0</td><td>0.0</td><td>0</td><td>False</td><td>0.0</td><td>0.0</td><td>0</td><td>0</td><td>0.0</td><td>False</td><td>0.0</td><td>0.0</td><td>0.0</td><td>0.0</td><td>0</td><td>0.733801</td><td>4.479621</td><td>17.048061</td><td>46.622696</td><td>30.125338</td><td>92.93095</td><td>-262.59476</td><td>731.0181</td><td>398.6758</td><td>44.624252</td><td>2.0859303</td><td>0.41988793</td><td>0.0006252542</td><td>9.382566e-06</td><td>0.2234861</td><td>1.3643112</td><td>5.1921496</td><td>0.2234861</td><td>1.3643112</td><td>5.1921496</td><td>0.09324118 .. 2.2212114</td><td>0.6321549 .. 6.6487184</td><td>2.7762964 .. 22.665134</td><td>0.004214458 .. 0.28665447</td><td>-0.024164 .. 0.0038441322</td><td>0.09677857 .. -0.6198052</td><td>18495.422 .. 94.364395</td><td>9198.647 .. 46.931873</td><td>958.1964 .. 5.045029</td><td>0.8560562</td><td>0.90060115</td><td>0.94312143</td><td>0.9911418</td><td>0.9945506</td><td>0.99883527</td><td>0.99956006</td><td>6</td><td>6</td><td>5</td><td>136</td><td>133</td><td>12</td><td>12</td><td>1.0060117</td><td>1.2321888</td><td>1.1912665</td><td>1.8685822</td><td>0.6260803</td><td>0.36496818</td><td>0.057061974</td><td>0.04611957</td><td>0.01163554</td><td>0.009773841</td><td>0.08920158</td><td>0.13784674</td><td>0.9852178</td><td>3.4595776</td><td>0.041694555</td><td>0.040170703</td><td>0.04183613</td><td>0.99888015</td><td>0.99892986</td><td>0.8888737</td><td>0</td><td>0</td><td>0</td><td>0</td><td>0</td><td>0</td><td>0</td><td>0</td><td>1.4092124</td><td>1.1765927</td><td>1.0716223</td><td>3220.6433</td><td>2297.7166</td><td>270.77612</td><td>1974.4048</td><td>1241.7289</td><td>131.0124</td><td>2.8307514</td><td>0.55378026</td><td>0.000764745</td><td>1.0172344e-05</td><td>3297p015</td><td>49.680325 .. 0.0</td><td>29.443375 .. 0.0</td><td>0.22157377 .. 0.0</td><td>0.060528826 .. 0.0</td><td>13 .. 0</td><td>14 .. 0</td><td>0.068269216 .. 0.0</td><td>0.21014328 .. 0.0</td><td>0.82547086 .. 0.0</td><td>0.63351 .. 0.0</td><td>55339.609353039996 .. 0.0</td><td>55339.609353039996 .. 0.0</td><td>1.0</td><td>1.0</td><td>0.0</td><td>0.0</td><td>0.0</td><td>0.0</td><td>0.0</td><td>0.0</td><td>1.4254476</td><td>51583.668</td><td>-0.18257526</td><td>52949.68</td><td>-0.19052403</td><td>55639.594</td><td>55854</td><td>5147</td><td>939</td><td>v5_10_0</td><td>0.06774402014363108</td><td>42993</td><td>0.08554958288418617</td><td>0.05170159338180372</td><td>0.1973937156410509</td><td>0.12733558418553098</td><td>4085.3421406551056</td><td>1582.0622264589856</td><td>0.5799999999999998</td><td>1.1102230246251565e-16</td><td>173960471812.5752</td><td>51001160515.40057</td><td>0.18043608464207908</td><td>0.011361247668439012</td><td>0.10742227461475856</td><td>0.007776329843753792</td><td>0.0025864866934542418</td><td>0.0001489964561891074</td><td>0.034601115147281966</td><td>0.0007861400380328182</td><td>0.011671706830802821</td><td>0.000416755866365739</td><td>0.06447671628727338</td><td>0.0016932846810016916</td><td>0.05295037407718538</td><td>0.0013872366814855475</td><td>1.2299392297501244</td><td>0.20498987162502072</td><td>0.066</td><td>0.1</td><td>0.066</td><td>0.1</td><td>0.066</td><td>0.1</td><td>0.66</td><td>0.0</td><td>0.3025418734468217</td><td>0.0</td><td>217.5</td><td>35.0</td><td>0.0</td><td>0.0</td><td>300.0</td><td>-3.0</td><td>6000.0</td><td>5.0</td><td>6000.0</td><td>0.0</td><td>5.0</td><td>31.6</td><td>5936.775527616843</td><td>1.0</td><td>0.02</td><td>10.0</td><td>8150.735085049728</td><td>1.0493847638319525e+26</td><td>0.5792032480239868</td><td>9.635106165489763e+33</td><td>5.883508421793101e-42</td><td>2.3493781434772638e+34</td><td>1.4044294037827805e-41</td><td>7.989839427760425e+36</td><td>1.2200746185263015e-40</td><td>8.022968315360686e+36</td><td>1.811282300890955e+20</td><td>5.303733774119743e+21</td><td>2.877079182499405e+22</td><td>8.49212551179456e+22</td><td>5.786596635523571e+22</td><td>1.319550903349921e+23</td><td>1.121596515552421e+23</td><td>437991483541.45154</td><td>9.396638633279796e-77</td><td>6.54806348881872e-76</td><td>1.0870912908391474e-76</td><td>6.945110203266357e+37</td><td>1.48499920058318e+35</td><td>1.48499920058318e+35</td><td>4.748591577462554e-41</td><td>6.945110203266357e+37</td><td>2.571522503710139e-40</td><td>206169846946.24478</td><td>206169846946.24478</td><td>6.8798526309908775e-71</td><td>231821636595.20663</td><td>231821636595.20663</td><td>1.0182924439398938e-69</td><td>3.17970876004384e+52</td><td>3.17970876004384e+52</td><td>1.4354577597615253e-23</td><td>0.0024938497901389424</td><td>0.011476148875393258</td><td>0.03518474503532939</td><td>0.05463104873477621</td><td>0.06664484258051472</td><td>0.18129429064259264</td><td>0.107318913703432</td><td>11078</td><td>169730202</td></tr>\n",
       "<tr><td>330.23448830118963</td><td>1.486256533908851</td><td>7712</td><td>301</td><td>2</td><td>131</td><td>587</td><td>21</td><td>30395</td><td>6115</td><td>-0.0 .. 0.6602985</td><td>-0.38820302 .. 24.221167</td><td>-0.38818485 .. 28.106813</td><td>-0.21962146 .. 13.242441</td><td>-0.62578815 .. 27.685734</td><td>-0.112371504 .. 6.8866286</td><td>0.09578162 .. 3.4570012</td><td>0.2958159 .. 0.08487133</td><td>1.7609395 .. 1.3859761</td><td>1.228003</td><td>1.2975756 .. 20.637909</td><td>0.057384267</td><td>1.3487421 .. 4.47961</td><td>1</td><td>0.59915465</td><td>0.30299067</td><td>1.0</td><td>1.0</td><td>1.0361058</td><td>1.0221593</td><td>1.0590652</td><td>0.00023004318</td><td>0.96842104</td><td>5147</td><td>989</td><td>55854</td><td>39</td><td>13642 .. -1</td><td>13642</td><td>0</td><td>1461</td><td>1</td><td>42626588340146564</td><td>False</td><td>330.2344721395655</td><td>False</td><td>1.4862520140914792</td><td>False</td><td>22.289436</td><td>False</td><td>0.011653876</td><td>False</td><td>20.681667</td><td>False</td><td>0.0047302097</td><td>False</td><td>19.500965</td><td>False</td><td>0.001814992</td><td>False</td><td>18.992142</td><td>False</td><td>0.0022554945</td><td>False</td><td>18.787666</td><td>False</td><td>0.003259309</td><td>False</td><td>0.1859258</td><td>False</td><td>0.13060714</td><td>False</td><td>0.0937089</td><td>False</td><td>0.07247663</td><td>False</td><td>0.061688345</td><td>False</td><td>0.06039541860047699</td><td>8001</td><td>340328</td><td>3301p015</td><td>1352</td><td>True</td><td>0</td><td>0</td><td>DEV</td><td>330.23447379896953</td><td>1.4862496885733305</td><td>112004284000.0</td><td>135844840000.0</td><td>295.78406</td><td>1610.6017</td><td>8705.521 .. 9889.133</td><td>0.057384636</td><td>57677.25991897667</td><td>58034.29622685074</td><td></td><td>0</td><td>0.0</td><td>0.0</td><td>0.0</td><td>0.0</td><td>0.0</td><td>0.0</td><td>0.0</td><td>False</td><td>0.0</td><td>0.0</td><td>0</td><td>0.0</td><td>0.0</td><td>0</td><td>0.0</td><td>0.0</td><td>0</td><td>False</td><td>0.0</td><td>0.0</td><td>0</td><td>0</td><td>0.0</td><td>False</td><td>0.0</td><td>0.0</td><td>0.0</td><td>0.0</td><td>0</td><td>0.0</td><td>0.0</td><td>26.44559</td><td>76.65736</td><td>41.795204</td><td>23.54242</td><td>514.21387</td><td>0.0</td><td>0.0</td><td>14.15923</td><td>2.1564667</td><td>0.43585637</td><td>0.00079094723</td><td>1.11701065e-05</td><td>0.0</td><td>0.0</td><td>10.050546</td><td>0.0</td><td>0.0</td><td>10.050546</td><td>0.0 .. 0.0</td><td>0.0 .. 0.0</td><td>4.2429276 .. 26.871977</td><td>0.0 .. 0.0</td><td>0.0 .. 0.0</td><td>0.006003678 .. 0.34579566</td><td>0.0 .. 0.0</td><td>0.0 .. 0.0</td><td>220.73921 .. 1.1262205</td><td>0.8437743</td><td>0.8918769</td><td>0.9380001</td><td>0.9903222</td><td>0.9940454</td><td>0.998727</td><td>0.99951917</td><td>0</td><td>0</td><td>2</td><td>124</td><td>122</td><td>14</td><td>14</td><td>0.0</td><td>0.0</td><td>0.799085</td><td>1.809176</td><td>0.4909628</td><td>0.5341529</td><td>0.18361744</td><td>0.0</td><td>0.0</td><td>0.0</td><td>0.024669837</td><td>0.033031307</td><td>0.68245286</td><td>1.0138365</td><td>0.0</td><td>0.0</td><td>0.036675047</td><td>0.0</td><td>0.0</td><td>0.97899395</td><td>0</td><td>0</td><td>0</td><td>0</td><td>0</td><td>0</td><td>0</td><td>0</td><td>0.0</td><td>0.0</td><td>1.329811</td><td>0.0</td><td>0.0</td><td>44.051895</td><td>0.0</td><td>0.0</td><td>26.260078</td><td>2.8154247</td><td>0.5601932</td><td>0.00076429284</td><td>1.0174239e-05</td><td>3297p015</td><td>82.235306 .. 0.0</td><td>46.780018 .. 0.0</td><td>0.33123794 .. 0.0</td><td>0.08258494 .. 0.0</td><td>17 .. 0</td><td>17 .. 0</td><td>0.010164015 .. 0.0</td><td>0.009978256 .. 0.0</td><td>2.6894112 .. 0.0</td><td>0.5346786 .. 0.0</td><td>55339.609353039996 .. 0.0</td><td>55339.609353039996 .. 0.0</td><td>1.0</td><td>1.0</td><td>0.0</td><td>0.0</td><td>0.0</td><td>0.0</td><td>0.0</td><td>0.0</td><td>0.9543605</td><td>2529.1245</td><td>0.010582229</td><td>1164.4584</td><td>-0.2232467</td><td>2625.4507</td><td>55854</td><td>5147</td><td>989</td><td>v5_10_0</td><td>0.010283533388174679</td><td>42996</td><td>0.04145729399921077</td><td>0.03928380773067233</td><td>0.10157112975201914</td><td>0.10416057418252465</td><td>3661.1391797420647</td><td>1616.1803472754893</td><td>0.6000000000000001</td><td>1.1102230246251565e-16</td><td>256629867149.3247</td><td>84450670889.71274</td><td>0.27621608390037505</td><td>0.01625934536127456</td><td>0.16149195625719298</td><td>0.009495870374517499</td><td>0.00526065708807742</td><td>0.00031659050477044165</td><td>0.06340534967283204</td><td>0.001357312640766398</td><td>0.022131672684690795</td><td>0.0008401027129117994</td><td>0.11339971902206554</td><td>0.0032967155882896596</td><td>0.09399020954826197</td><td>0.0025340370320846416</td><td>0.27905515585504553</td><td>0.04650919264250759</td><td>0.00825</td><td>0.025</td><td>0.00825</td><td>0.025</td><td>0.00825</td><td>0.025</td><td>0.33</td><td>0.0</td><td>0.03793669851274625</td><td>0.0</td><td>217.5</td><td>35.0</td><td>0.0</td><td>0.0</td><td>300.0</td><td>-3.0</td><td>6000.0</td><td>5.0</td><td>6000.0</td><td>0.0</td><td>5.0</td><td>501.0</td><td>4990.45943557192</td><td>1.0</td><td>0.02</td><td>10.0</td><td>8021.482865077727</td><td>1.0937178086524371e+26</td><td>0.5991546511650085</td><td>2.3080195864939498e+33</td><td>1.7255519541222788e+33</td><td>5.888965392330111e+33</td><td>4.339749811238491e+33</td><td>1.7284831371139217e+36</td><td>3.6420146419990757e+34</td><td>1.7791655702780973e+36</td><td>6.223944709957637e+20</td><td>1.2318215158140546e+22</td><td>5.91376001035934e+22</td><td>1.531827031203448e+23</td><td>1.102501242603819e+23</td><td>2.258357487200059e+23</td><td>1.956189399473251e+23</td><td>589996656021.9293</td><td>0.0889250132882008</td><td>0.09748418476793902</td><td>0.08966125929156388</td><td>1.0856558113755687e+38</td><td>2.7343660134373418e+35</td><td>2.3052851772228217e+35</td><td>4.290808362145205e+34</td><td>1.083441374240311e+38</td><td>2.214437135257672e+35</td><td>273947818979.03485</td><td>273947765614.94855</td><td>53364.08630563186</td><td>316048837042.6262</td><td>316047993794.388</td><td>843248.2382706747</td><td>6.248058229685122e+52</td><td>4.948525886803688e+52</td><td>1.299532342881434e+52</td><td>0.005293288128833762</td><td>0.022056158055535135</td><td>0.06456047720722631</td><td>0.096530283550593</td><td>0.11630102942410199</td><td>0.27141863364732544</td><td>0.15580816967171127</td><td>11081</td><td>169730405</td></tr>\n",
       "<tr><td>329.7389244788247</td><td>2.0022836507597037</td><td>7712</td><td>301</td><td>3</td><td>127</td><td>913</td><td>21</td><td>29169</td><td>6115</td><td>1.0 .. 0.2427599</td><td>2.1476517 .. 31.13392</td><td>2.6726954 .. 40.09154</td><td>0.7640595 .. 10.779137</td><td>2.1110015 .. 45.209007</td><td>0.32019854 .. 6.206645</td><td>20.050034 .. 5.715636</td><td>0.32659623 .. 0.09370238</td><td>1.5524976 .. 1.300617</td><td>1.2224537</td><td>2.288312 .. 24.208912</td><td>0.06335523</td><td>1.5751674 .. 4.551524</td><td>1</td><td>0.55372477</td><td>0.22677152</td><td>1.0</td><td>1.0</td><td>1.0406367</td><td>0.97502786</td><td>1.0146497</td><td>0.00034097247</td><td>0.96842104</td><td>5147</td><td>929</td><td>55854</td><td>39</td><td>13642 .. -1</td><td>13642</td><td>0</td><td>2170</td><td>1</td><td>43691168998897958</td><td>False</td><td>329.738931818355</td><td>False</td><td>2.002307224266365</td><td>False</td><td>21.949959</td><td>False</td><td>0.01531452</td><td>False</td><td>20.399332</td><td>False</td><td>0.006709838</td><td>False</td><td>19.60117</td><td>False</td><td>0.0038963105</td><td>False</td><td>18.9893</td><td>False</td><td>0.004484182</td><td>False</td><td>18.7378</td><td>False</td><td>0.007103331</td><td>False</td><td>0.20527242</td><td>False</td><td>0.14419754</td><td>False</td><td>0.103459835</td><td>False</td><td>0.08001823</td><td>False</td><td>0.06810737</td><td>False</td><td>0.08887795315574754</td><td>8000</td><td>343206</td><td>3296p020</td><td>3388</td><td>True</td><td>0</td><td>0</td><td>DEV</td><td>329.73893504148435</td><td>2.002296403438167</td><td>319867620000.0</td><td>180899870000.0</td><td>234.93414</td><td>1831.108</td><td>25211.21 .. 13229.92</td><td>0.06335569</td><td>56540.0709764726</td><td>58375.10181488075</td><td></td><td>0</td><td>0.0</td><td>0.0</td><td>0.0</td><td>0.0</td><td>0.0</td><td>0.0</td><td>0.0</td><td>False</td><td>0.0</td><td>0.0</td><td>0</td><td>0.0</td><td>0.0</td><td>0</td><td>0.0</td><td>0.0</td><td>0</td><td>False</td><td>0.0</td><td>0.0</td><td>0</td><td>0</td><td>0.0</td><td>False</td><td>0.0</td><td>0.0</td><td>0.0</td><td>0.0</td><td>0</td><td>7.8870473</td><td>29.899412</td><td>81.83236</td><td>148.1279</td><td>89.47588</td><td>59.974567</td><td>794.83966</td><td>70.25574</td><td>22.820316</td><td>3.6188912</td><td>0.6199404</td><td>0.13112056</td><td>0.0002426127</td><td>4.906597e-06</td><td>0.61134046</td><td>2.3175619</td><td>6.342986</td><td>0.61134046</td><td>2.3175619</td><td>6.342986</td><td>0.174363 .. 5.296739</td><td>1.0061837 .. 17.957363</td><td>3.7836752 .. 42.108086</td><td>-0.06176258 .. 0.2642685</td><td>-0.037605945 .. -0.3111995</td><td>0.7171778 .. -9.135283</td><td>14714.556 .. 75.074265</td><td>4629.6587 .. 26.921686</td><td>691.98914 .. 3.4483235</td><td>0.8289912</td><td>0.8813207</td><td>0.9317738</td><td>0.9893205</td><td>0.9934278</td><td>0.9985947</td><td>0.9994691</td><td>4</td><td>4</td><td>4</td><td>123</td><td>121</td><td>11</td><td>11</td><td>1.136426</td><td>1.1898955</td><td>1.5864114</td><td>16.051083</td><td>1.7020557</td><td>0.7122551</td><td>0.11211516</td><td>0.05818688</td><td>0.02487014</td><td>0.015154864</td><td>0.11357726</td><td>0.12071942</td><td>1.3582515</td><td>1.6144426</td><td>0.18216245</td><td>0.32242438</td><td>0.22125196</td><td>0.7524924</td><td>0.75418407</td><td>0.7534886</td><td>0</td><td>2048</td><td>0</td><td>0</td><td>0</td><td>0</td><td>0</td><td>0</td><td>1.4857271</td><td>1.1768782</td><td>1.0650351</td><td>2305.052</td><td>1144.9543</td><td>210.99146</td><td>1486.3236</td><td>625.7746</td><td>103.51066</td><td>2.824872</td><td>0.55049545</td><td>0.000706779</td><td>1.0217791e-05</td><td>3297p015</td><td>151.61465 .. 0.0</td><td>101.78066 .. 0.0</td><td>0.06661553 .. 0.0</td><td>0.01805481 .. 0.0</td><td>12 .. 0</td><td>12 .. 0</td><td>0.115590036 .. 0.0</td><td>0.120278955 .. 0.0</td><td>4.3504906 .. 0.0</td><td>1.3736538 .. 0.0</td><td>55339.609353039996 .. 0.0</td><td>55339.609353039996 .. 0.0</td><td>1.0</td><td>1.0</td><td>0.0</td><td>0.0</td><td>0.0</td><td>0.0</td><td>0.0</td><td>0.0</td><td>6.9278126</td><td>710.1617</td><td>0.23741372</td><td>51228.97</td><td>0.06552175</td><td>22563.016</td><td>55854</td><td>5147</td><td>929</td><td>v5_10_0</td><td>0.04064433535565839</td><td>42997</td><td>0.2608519832201869</td><td>0.06452332344455466</td><td>0.4137244921211644</td><td>0.08669094112605272</td><td>2321.0540534460843</td><td>1107.7116335590904</td><td>0.5500000000000002</td><td>1.1102230246251565e-16</td><td>281100217698.9587</td><td>86331116276.58846</td><td>0.5219107973463308</td><td>0.042598121614670775</td><td>0.32352927488491035</td><td>0.026431763115700693</td><td>0.007276088905574964</td><td>0.0007291643840629491</td><td>0.06427356890258604</td><td>0.0026879270303734053</td><td>0.026255087682872495</td><td>0.0014749719574871677</td><td>0.1215867678424295</td><td>0.005208038738875035</td><td>0.09739874372037396</td><td>0.004397434955713772</td><td>2.7203180216903924</td><td>0.45338633694839875</td><td>0.23099999999999998</td><td>0.35</td><td>0.23099999999999998</td><td>0.35</td><td>0.23099999999999998</td><td>0.35</td><td>0.66</td><td>0.0</td><td>1.0887502096506432</td><td>0.0</td><td>217.5</td><td>35.0</td><td>0.0</td><td>0.0</td><td>300.0</td><td>-3.0</td><td>3000.0</td><td>5.0</td><td>3000.0</td><td>0.0</td><td>5.0</td><td>501.0</td><td>2020.7842117395196</td><td>1.0</td><td>0.05</td><td>10.0</td><td>8320.355706164712</td><td>9.933989620309694e+25</td><td>0.5537247657775879</td><td>4.816922732082917e+34</td><td>1.025726803948083e+36</td><td>1.085095020638271e+35</td><td>2.2475453480460046e+36</td><td>7.352942593786785e+37</td><td>2.8147886084847723e+37</td><td>1.0510726290409432e+38</td><td>2.2500484695584672e+21</td><td>9.74999064698866e+21</td><td>4.568437981660198e+22</td><td>1.440066341946228e+23</td><td>9.415329472415802e+22</td><td>2.540940485208086e+23</td><td>2.0069864535913296e+23</td><td>468662275540.6428</td><td>14.326816671918463</td><td>15.570652117703672</td><td>14.434546801138342</td><td>2.4181626839815415e+38</td><td>5.0633465496394e+36</td><td>3.700441276217809e+35</td><td>4.693302422017619e+36</td><td>2.0607312383495734e+38</td><td>3.5743144563196778e+37</td><td>200702487053.50446</td><td>200691318450.6598</td><td>11168602.844690053</td><td>267959788509.50656</td><td>267826611621.97195</td><td>133176887.53463027</td><td>1.5664790401132928e+54</td><td>7.977049228796887e+52</td><td>1.4867085478253238e+54</td><td>0.007014803656581128</td><td>0.024950497748675568</td><td>0.06373122055862465</td><td>0.0981618200627014</td><td>0.12272072895130798</td><td>0.5493812491707387</td><td>0.3282763687070107</td><td>11082</td><td>169730503</td></tr>\n",
       "<tr><td>329.78829993438944</td><td>1.6542953041703765</td><td>7717</td><td>301</td><td>3</td><td>128</td><td>616</td><td>21</td><td>30395</td><td>6115</td><td>-0.0 .. 1.0</td><td>-0.10984299 .. 55.263542</td><td>-0.10986896 .. 93.546295</td><td>-0.109134786 .. 16.93901</td><td>-0.17066048 .. 80.08429</td><td>0.010156592 .. 12.443285</td><td>0.06466784 .. 8.690019</td><td>0.32776505 .. 0.09403773</td><td>1.2090297 .. 1.0186963</td><td>1.2033706</td><td>0.9769619 .. 19.40849</td><td>0.063581966</td><td>0.7949682 .. 3.1888542</td><td>1</td><td>0.5087769</td><td>0.20243421</td><td>1.0</td><td>1.0</td><td>0.97718525</td><td>0.95624745</td><td>0.9344309</td><td>0.00039398766</td><td>0.96842104</td><td>5147</td><td>923</td><td>55854</td><td>39</td><td>13642 .. -1</td><td>13642</td><td>0</td><td>2362</td><td>1</td><td>43691022970011872</td><td>False</td><td>329.7882875385926</td><td>False</td><td>1.6542938307638368</td><td>False</td><td>20.9441</td><td>False</td><td>0.010231937</td><td>False</td><td>19.294537</td><td>False</td><td>0.0036997416</td><td>False</td><td>18.28434</td><td>False</td><td>0.0021709215</td><td>False</td><td>17.849976</td><td>False</td><td>0.0030893662</td><td>False</td><td>17.631674</td><td>False</td><td>0.004114201</td><td>False</td><td>0.2060067</td><td>False</td><td>0.14471336</td><td>False</td><td>0.10382992</td><td>False</td><td>0.080304466</td><td>False</td><td>0.06835099</td><td>False</td><td>0.044920535201291585</td><td>8001</td><td>341767</td><td>3298p017</td><td>308</td><td>True</td><td>0</td><td>0</td><td>DEV</td><td>329.7882811650332</td><td>1.6543089569793616</td><td>158597970000.0</td><td>167967300000.0</td><td>2990.5625</td><td>484.68604</td><td>20451.793 .. 27847.04</td><td>0.063583516</td><td>57677.25746527667</td><td>58077.21775463074</td><td></td><td>0</td><td>0.0</td><td>0.0</td><td>0.0</td><td>0.0</td><td>0.0</td><td>0.0</td><td>0.0</td><td>False</td><td>0.0</td><td>0.0</td><td>0</td><td>0.0</td><td>0.0</td><td>0</td><td>0.0</td><td>0.0</td><td>0</td><td>False</td><td>0.0</td><td>0.0</td><td>0</td><td>0</td><td>0.0</td><td>False</td><td>0.0</td><td>0.0</td><td>0.0</td><td>0.0</td><td>0</td><td>0.0</td><td>0.0</td><td>80.337715</td><td>191.19824</td><td>110.40409</td><td>41.56151</td><td>2352.386</td><td>0.0</td><td>0.0</td><td>4.316553</td><td>1.3129964</td><td>0.269521</td><td>0.00039271615</td><td>6.6671814e-06</td><td>0.0</td><td>0.0</td><td>14.47457</td><td>0.0</td><td>0.0</td><td>14.47457</td><td>0.0 .. 0.0</td><td>0.0 .. 0.0</td><td>5.1915855 .. 69.07733</td><td>0.0 .. 0.0</td><td>0.0 .. 0.0</td><td>-0.099548936 .. -0.12976481</td><td>0.0 .. 0.0</td><td>0.0 .. 0.0</td><td>280.5446 .. 1.3360682</td><td>0.8284323</td><td>0.8809204</td><td>0.9315371</td><td>0.9892823</td><td>0.99340427</td><td>0.99858963</td><td>0.9994672</td><td>0</td><td>0</td><td>2</td><td>124</td><td>121</td><td>10</td><td>10</td><td>0.0</td><td>0.0</td><td>1.3888223</td><td>2.821547</td><td>1.0307237</td><td>0.7364974</td><td>0.10405831</td><td>0.0</td><td>0.0</td><td>0.006009871</td><td>0.04089789</td><td>0.04772995</td><td>1.4181163</td><td>0.542901</td><td>0.0</td><td>0.0</td><td>0.119639456</td><td>0.0</td><td>0.0</td><td>0.95389974</td><td>0</td><td>0</td><td>0</td><td>0</td><td>0</td><td>0</td><td>0</td><td>0</td><td>0.0</td><td>0.0</td><td>1.5386537</td><td>0.0</td><td>0.0</td><td>41.81469</td><td>0.0</td><td>0.0</td><td>27.229128</td><td>2.833803</td><td>0.55636984</td><td>0.00070305006</td><td>9.339167e-06</td><td>3297p015</td><td>189.98912 .. 0.0</td><td>104.59113 .. 0.0</td><td>0.12529114 .. 0.0</td><td>0.033629276 .. 0.0</td><td>11 .. 0</td><td>11 .. 0</td><td>0.03336998 .. 0.0</td><td>0.0948057 .. 0.0</td><td>1.713468 .. 0.0</td><td>0.7425306 .. 0.0</td><td>55339.609353039996 .. 0.0</td><td>55339.609353039996 .. 0.0</td><td>1.0</td><td>1.0</td><td>0.0</td><td>0.0</td><td>0.0</td><td>0.0</td><td>0.0</td><td>0.0</td><td>2.7129097</td><td>1645.6337</td><td>-0.02643235</td><td>5911.0464</td><td>-0.18806826</td><td>15624.555</td><td>55854</td><td>5147</td><td>923</td><td>v5_10_0</td><td>0.05908726399540721</td><td>43003</td><td>0.053693615061202696</td><td>0.04498326513304832</td><td>0.12960141189591762</td><td>0.11762620792986754</td><td>3814.7655056549884</td><td>1643.1183271973064</td><td>0.51</td><td>0.0</td><td>515794548820.9434</td><td>164799109014.99622</td><td>0.6761793939538687</td><td>0.03831036329358626</td><td>0.4256840536141641</td><td>0.023834736408541328</td><td>0.018693992872123637</td><td>0.0010569355549108973</td><td>0.1924560013982802</td><td>0.004376007692888842</td><td>0.0809077410666235</td><td>0.0028060824110777414</td><td>0.32458898384069657</td><td>0.009048843424060269</td><td>0.28113155553814967</td><td>0.00785551419887842</td><td>0.44521919030747337</td><td>0.0742031983845789</td><td>0.02475</td><td>0.075</td><td>0.02475</td><td>0.075</td><td>0.02475</td><td>0.075</td><td>0.33</td><td>0.0</td><td>0.11358006161521232</td><td>0.0</td><td>217.5</td><td>35.0</td><td>0.0</td><td>0.0</td><td>300.0</td><td>-3.0</td><td>6000.0</td><td>5.0</td><td>6000.0</td><td>0.0</td><td>5.0</td><td>398.0</td><td>5199.516684109799</td><td>1.0</td><td>0.02</td><td>10.0</td><td>8632.636565543728</td><td>8.96413846943518e+25</td><td>0.5087769031524658</td><td>1.2913845879644697e+34</td><td>6.42667602622723e+32</td><td>3.248496183240446e+34</td><td>1.5576745799831e+33</td><td>9.945985693387338e+36</td><td>1.2887386100018648e+34</td><td>1.0006472229382012e+37</td><td>8.615472242478162e+20</td><td>2.16792402593875e+22</td><td>1.0827365567245659e+23</td><td>2.915787658499464e+23</td><td>2.0651382915201784e+23</td><td>4.3646427054946585e+23</td><td>3.7597548193833085e+23</td><td>1221731324547.1968</td><td>0.01315918028490026</td><td>0.01481267246605878</td><td>0.01329912634456391</td><td>2.1484488051732723e+38</td><td>4.636498517236378e+35</td><td>4.572952823306304e+35</td><td>6.35456939300739e+33</td><td>2.148120587871712e+38</td><td>3.282173015605462e+34</td><td>569299222648.0833</td><td>569299214724.0272</td><td>7924.056032104639</td><td>652432101899.0743</td><td>652431976831.9067</td><td>125067.16761956063</td><td>1.0007224818345978e+53</td><td>9.814773912591155e+52</td><td>1.9245090575482358e+51</td><td>0.018339898871644954</td><td>0.08042865607185577</td><td>0.196413699569187</td><td>0.28984914367116926</td><td>0.3341086023531396</td><td>0.669943055315622</td><td>0.4180191049722047</td><td>11084</td><td>169730603</td></tr>\n",
       "<tr><td>329.8019625235831</td><td>2.17425466460634</td><td>7717</td><td>301</td><td>4</td><td>128</td><td>1326</td><td>21</td><td>29169</td><td>6115</td><td>1.0 .. 1.0</td><td>3.9506109 .. 26.116444</td><td>4.196189 .. 42.9981</td><td>0.0938828 .. 9.130323</td><td>0.3790269 .. 32.35702</td><td>0.1225957 .. 7.4848204</td><td>74.925865 .. 9.070645</td><td>0.337667 .. 0.09687865</td><td>1.1726214 .. 1.0176833</td><td>1.1978956</td><td>1.8916873 .. 23.497845</td><td>0.06550281</td><td>1.0702602 .. 3.5042124</td><td>1</td><td>0.6144553</td><td>0.34334138</td><td>1.0</td><td>1.0</td><td>1.0446161</td><td>0.95662093</td><td>0.9993016</td><td>0.00019125531</td><td>0.96842104</td><td>5147</td><td>901</td><td>55854</td><td>39</td><td>13642 .. -1</td><td>13642</td><td>0</td><td>1582</td><td>1</td><td>43691035854912180</td><td>False</td><td>329.80190398798544</td><td>False</td><td>2.1742847060724415</td><td>False</td><td>22.580116</td><td>False</td><td>0.02998084</td><td>False</td><td>20.68954</td><td>False</td><td>0.01102293</td><td>False</td><td>19.432873</td><td>False</td><td>0.004686814</td><td>False</td><td>18.944717</td><td>False</td><td>0.0058859936</td><td>False</td><td>18.740164</td><td>False</td><td>0.010054886</td><td>False</td><td>0.21221973</td><td>False</td><td>0.14907782</td><td>False</td><td>0.10696136</td><td>False</td><td>0.0827264</td><td>False</td><td>0.07041241</td><td>False</td><td>0.2367249520155284</td><td>8000</td><td>344647</td><td>3298p022</td><td>945</td><td>True</td><td>0</td><td>0</td><td>DEV</td><td>329.8018935513158</td><td>2.174283459979603</td><td>225825240000.0</td><td>186105360000.0</td><td>2803.2942</td><td>759.14374</td><td>13660.673 .. 18278.615</td><td>0.06549953</td><td>56540.0709764726</td><td>58375.10181488075</td><td></td><td>0</td><td>0.0</td><td>0.0</td><td>0.0</td><td>0.0</td><td>0.0</td><td>0.0</td><td>0.0</td><td>False</td><td>0.0</td><td>0.0</td><td>0</td><td>0.0</td><td>0.0</td><td>0</td><td>0.0</td><td>0.0</td><td>0</td><td>False</td><td>0.0</td><td>0.0</td><td>0</td><td>0</td><td>0.0</td><td>False</td><td>0.0</td><td>0.0</td><td>0.0</td><td>0.0</td><td>0</td><td>1.1763048</td><td>7.4369793</td><td>29.131409</td><td>71.434944</td><td>30.858461</td><td>50.878384</td><td>2825.1848</td><td>308.1803</td><td>71.43061</td><td>16.469099</td><td>1.7440001</td><td>0.36450082</td><td>0.0005457558</td><td>8.227874e-06</td><td>0.2654211</td><td>1.6780779</td><td>6.573203</td><td>0.26774228</td><td>1.690777</td><td>6.6287055</td><td>0.11119352 .. 1.0843123</td><td>0.7557818 .. 8.896421</td><td>3.4360619 .. 32.988598</td><td>0.007690741 .. -0.65876764</td><td>0.010797833 .. -0.4992154</td><td>0.029531907 .. -2.4472458</td><td>13613.253 .. 61.13405</td><td>3054.7542 .. 14.316566</td><td>580.6873 .. 3.2333906</td><td>0.8237469</td><td>0.8775612</td><td>0.92954844</td><td>0.98896116</td><td>0.9932062</td><td>0.9985472</td><td>0.99945116</td><td>4</td><td>3</td><td>3</td><td>139</td><td>139</td><td>12</td><td>12</td><td>0.90531355</td><td>0.93241656</td><td>1.1136913</td><td>2.5554702</td><td>0.61438656</td><td>0.7015971</td><td>0.13439128</td><td>0.19016963</td><td>0.14412868</td><td>0.15929465</td><td>0.5962796</td><td>1.0062329</td><td>1.1906892</td><td>1.055187</td><td>0.105777</td><td>0.14549427</td><td>0.096364476</td><td>0.8859405</td><td>0.8900428</td><td>0.742798</td><td>0</td><td>0</td><td>0</td><td>0</td><td>0</td><td>0</td><td>0</td><td>0</td><td>1.5012842</td><td>1.2582761</td><td>1.0727456</td><td>2088.543</td><td>701.33746</td><td>174.51825</td><td>1360.969</td><td>399.10043</td><td>86.90272</td><td>2.9295306</td><td>0.58718383</td><td>0.00064451917</td><td>8.541967e-06</td><td>3297p015</td><td>76.68461 .. 0.0</td><td>22.139856 .. 0.0</td><td>0.18031967 .. 0.0</td><td>0.051413108 .. 0.0</td><td>13 .. 0</td><td>14 .. 0</td><td>0.51456404 .. 0.0</td><td>1.8211386 .. 0.0</td><td>1.9881053 .. 0.0</td><td>0.5142767 .. 0.0</td><td>55339.609353039996 .. 0.0</td><td>55339.609353039996 .. 0.0</td><td>1.0</td><td>1.0</td><td>0.0</td><td>0.0</td><td>0.0</td><td>0.0</td><td>0.0</td><td>0.0</td><td>1.9528263</td><td>8901.706</td><td>0.12676524</td><td>19249.197</td><td>-0.051582363</td><td>12056.753</td><td>55854</td><td>5147</td><td>901</td><td>v5_10_0</td><td>0.037812004291635434</td><td>43007</td><td>0.01290317197470742</td><td>0.016038347036783005</td><td>0.032146169667296894</td><td>0.041446402291072555</td><td>3666.0559327396677</td><td>1843.6889682905353</td><td>0.61</td><td>0.0</td><td>247167812795.04553</td><td>99290690431.26495</td><td>0.26080070481630596</td><td>0.010950390325614354</td><td>0.14598557391602</td><td>0.007042642066763843</td><td>0.0047859605367349635</td><td>0.00023237448016013738</td><td>0.060010435313642516</td><td>0.0009246863684627469</td><td>0.02030315640347408</td><td>0.0007101060314683496</td><td>0.10795362511213578</td><td>0.002544892696162811</td><td>0.08896314686964212</td><td>0.0017108963895182154</td><td>11.972617556801698</td><td>1.9954362594669497</td><td>0.0</td><td>0.0</td><td>0.0</td><td>0.0</td><td>0.0</td><td>0.0</td><td>0.33</td><td>0.0</td><td>-0.0</td><td>0.0</td><td>217.5</td><td>35.0</td><td>0.0</td><td>0.0</td><td>300.0</td><td>-3.0</td><td>6000.0</td><td>5.0</td><td>6000.0</td><td>0.0</td><td>5.0</td><td>251.0</td><td>5496.395558459583</td><td>1.0</td><td>0.02</td><td>10.0</td><td>7924.423538098859</td><td>1.1280026157997118e+26</td><td>0.6144552826881409</td><td>-0.0</td><td>-0.0</td><td>-0.0</td><td>-0.0</td><td>-0.0</td><td>-0.0</td><td>0.0</td><td>4.800572482389845e+20</td><td>1.2172790819615855e+22</td><td>5.952644450412435e+22</td><td>1.5498448211075666e+23</td><td>1.1153264710352797e+23</td><td>2.2876521104411616e+23</td><td>1.9801807350434638e+23</td><td>640724207721.0951</td><td>2.544438647377374e-06</td><td>3.092201203148597e-06</td><td>2.5886795683495344e-06</td><td>1.0740414234154328e+38</td><td>2.2815905353683066e+35</td><td>2.2815782206266328e+35</td><td>1.2314741674029502e+30</td><td>1.074041359662035e+38</td><td>6.375339793760689e+30</td><td>299908874227.0747</td><td>299908874225.5274</td><td>1.5472753198172968</td><td>340815333494.0206</td><td>340815333469.6811</td><td>24.33951262219019</td><td>4.89823372167293e+52</td><td>4.898196429403411e+52</td><td>3.729226951957746e+47</td><td>0.004596347126491835</td><td>0.0196342365890197</td><td>0.059759126838842276</td><td>0.0902120094568713</td><td>0.11037974408344328</td><td>0.2633802353543164</td><td>0.1482212154374626</td><td>11085</td><td>169730604</td></tr>\n",
       "<tr><td>330.02246176379793</td><td>2.0536194052154153</td><td>7717</td><td>301</td><td>4</td><td>129</td><td>1046</td><td>21</td><td>29169</td><td>6115</td><td>1.0 .. 1.0</td><td>2.4772546 .. 16.65089</td><td>5.872409 .. 21.648722</td><td>0.16779509 .. 10.2755165</td><td>0.49730602 .. 19.84403</td><td>0.20699657 .. 6.2372417</td><td>74.91606 .. 3.28098</td><td>0.3049066 .. 0.0874795</td><td>1.1383934 .. 1.0027345</td><td>1.1978481</td><td>1.8916475 .. 23.497795</td><td>0.059147738</td><td>1.0389869 .. 3.4527266</td><td>1</td><td>0.54964095</td><td>0.22932449</td><td>1.0</td><td>1.0</td><td>1.0498222</td><td>0.95756024</td><td>1.005268</td><td>0.00033606333</td><td>0.96842104</td><td>5147</td><td>983</td><td>55854</td><td>39</td><td>13642 .. -1</td><td>13642</td><td>0</td><td>624</td><td>1</td><td>43690894120994554</td><td>False</td><td>330.02246703678287</td><td>False</td><td>2.0536432259407587</td><td>False</td><td>22.161861</td><td>False</td><td>0.014773403</td><td>False</td><td>20.670006</td><td>False</td><td>0.00702594</td><td>False</td><td>19.644447</td><td>False</td><td>0.0032888763</td><td>False</td><td>19.174725</td><td>False</td><td>0.0047491137</td><td>False</td><td>18.938953</td><td>False</td><td>0.0067894403</td><td>False</td><td>0.19163457</td><td>False</td><td>0.13461737</td><td>False</td><td>0.09658619</td><td>False</td><td>0.074701995</td><td>False</td><td>0.06358246</td><td>False</td><td>0.08782787284282209</td><td>8001</td><td>343208</td><td>3301p020</td><td>1633</td><td>True</td><td>0</td><td>0</td><td>DEV</td><td>330.0224605654599</td><td>2.053644142909067</td><td>41591500000.0</td><td>64078790000.0</td><td>3207.536</td><td>2536.6404</td><td>4678.1655 .. 4807.9907</td><td>0.059147097</td><td>58033.31015046073</td><td>58077.220023150745</td><td></td><td>0</td><td>0.0</td><td>0.0</td><td>0.0</td><td>0.0</td><td>0.0</td><td>0.0</td><td>0.0</td><td>False</td><td>0.0</td><td>0.0</td><td>0</td><td>0.0</td><td>0.0</td><td>0</td><td>0.0</td><td>0.0</td><td>0</td><td>False</td><td>0.0</td><td>0.0</td><td>0</td><td>0</td><td>0.0</td><td>False</td><td>0.0</td><td>0.0</td><td>0.0</td><td>0.0</td><td>0</td><td>0.0</td><td>0.0</td><td>22.041155</td><td>58.00584</td><td>38.15921</td><td>15.8887415</td><td>-1029.4043</td><td>0.0</td><td>0.0</td><td>11.122815</td><td>2.0659168</td><td>0.41405258</td><td>0.00054570346</td><td>8.015874e-06</td><td>0.0</td><td>0.0</td><td>7.75393</td><td>0.0</td><td>0.0</td><td>7.75393</td><td>0.0 .. 0.0</td><td>0.0 .. 0.0</td><td>2.8641758 .. 27.294376</td><td>0.0 .. 0.0</td><td>0.0 .. 0.0</td><td>-0.025471112 .. -0.20127274</td><td>0.0 .. 0.0</td><td>0.0 .. 0.0</td><td>250.0093 .. 1.2755576</td><td>0.8393836</td><td>0.88874793</td><td>0.936158</td><td>0.9900264</td><td>0.99386305</td><td>0.998688</td><td>0.9995044</td><td>0</td><td>0</td><td>2</td><td>124</td><td>122</td><td>10</td><td>10</td><td>0.0</td><td>0.0</td><td>0.82739425</td><td>2.8239448</td><td>0.8187585</td><td>0.5974347</td><td>0.104224</td><td>0.0</td><td>0.0</td><td>0.011239083</td><td>0.09315627</td><td>0.1159368</td><td>1.9049116</td><td>0.89695585</td><td>0.0</td><td>0.0</td><td>0.0305133</td><td>0.0</td><td>0.0</td><td>0.9738257</td><td>0</td><td>0</td><td>0</td><td>0</td><td>0</td><td>0</td><td>0</td><td>0</td><td>0.0</td><td>0.0</td><td>1.5447829</td><td>0.0</td><td>0.0</td><td>36.96335</td><td>0.0</td><td>0.0</td><td>24.328892</td><td>2.8328388</td><td>0.5587325</td><td>0.0006416942</td><td>8.513563e-06</td><td>3297p015</td><td>66.14977 .. 0.0</td><td>43.69143 .. 0.0</td><td>0.21792585 .. 0.0</td><td>0.05595608 .. 0.0</td><td>12 .. 0</td><td>12 .. 0</td><td>0.1096863 .. 0.0</td><td>0.1347959 .. 0.0</td><td>1.209008 .. 0.0</td><td>0.5446474 .. 0.0</td><td>55339.609353039996 .. 0.0</td><td>55339.609353039996 .. 0.0</td><td>1.0</td><td>1.0</td><td>0.0</td><td>0.0</td><td>0.0</td><td>0.0</td><td>0.0</td><td>0.0</td><td>1.1485498</td><td>925.5014</td><td>-0.27720028</td><td>1474.0597</td><td>0.07351545</td><td>769.5098</td><td>55854</td><td>5147</td><td>983</td><td>v5_10_0</td><td>0.023514662737184</td><td>43008</td><td>0.0740308972329893</td><td>0.04962096980305495</td><td>0.17987053839007544</td><td>0.13086092148521053</td><td>3356.257877530378</td><td>1571.6827196244483</td><td>0.5499999999999999</td><td>1.1102230246251564e-16</td><td>169710602353.72958</td><td>56035477342.39654</td><td>0.21467519047685193</td><td>0.013157830020792832</td><td>0.13449124617349056</td><td>0.009145412758771558</td><td>0.005609209245749023</td><td>0.00036539224261518237</td><td>0.05775388349360884</td><td>0.0013095293755730846</td><td>0.022931984585876468</td><td>0.0009571866884568672</td><td>0.09789516542877154</td><td>0.0029559840961008855</td><td>0.0834513290768089</td><td>0.002367208980375404</td><td>0.5017353562483238</td><td>0.08362255937472063</td><td>0.099</td><td>0.3</td><td>0.099</td><td>0.3</td><td>0.099</td><td>0.3</td><td>0.33</td><td>0.0</td><td>0.4584394230061073</td><td>0.0</td><td>217.5</td><td>35.0</td><td>0.0</td><td>0.0</td><td>300.0</td><td>-3.0</td><td>6000.0</td><td>5.0</td><td>6000.0</td><td>0.0</td><td>5.0</td><td>631.0</td><td>4727.943126236161</td><td>1.0</td><td>0.008</td><td>10.0</td><td>8348.030805957313</td><td>9.844921613200819e+25</td><td>0.549640953540802</td><td>1.8914588367114792e+34</td><td>6.403918576442846e+34</td><td>4.667496876237179e+34</td><td>1.4649575637266418e+35</td><td>1.6880754100574074e+37</td><td>8.569674736697748e+35</td><td>1.8013846073510426e+37</td><td>7.281249590886177e+20</td><td>9.066319050915551e+21</td><td>4.009447139312864e+22</td><td>1.0858897923469035e+23</td><td>7.451940144898119e+22</td><td>1.5070944545532841e+23</td><td>1.3701828147807956e+23</td><td>417595926299.32874</td><td>0.46797294681061274</td><td>0.5023997205486543</td><td>0.4709725434044491</td><td>9.127532552996045e+37</td><td>5.0130341609596614e+35</td><td>2.0509129146673555e+35</td><td>2.9621212462923066e+35</td><td>9.003483636541903e+37</td><td>1.240489164541418e+36</td><td>196406578356.57013</td><td>196406334126.16287</td><td>244230.40722436237</td><td>221189347942.77817</td><td>221184882447.73178</td><td>4465495.046357543</td><td>1.2927972554230292e+53</td><td>4.397560608997658e+52</td><td>8.530411945232635e+52</td><td>0.005782602498585162</td><td>0.022951483558496036</td><td>0.057330953490171796</td><td>0.0830964258955511</td><td>0.0983790910491156</td><td>0.211763394784559</td><td>0.13710687015450765</td><td>11086</td><td>169730700</td></tr>\n",
       "<tr><td>330.0850587411108</td><td>2.49229819289783</td><td>7717</td><td>301</td><td>5</td><td>130</td><td>783</td><td>21</td><td>29169</td><td>6115</td><td>0.0 .. 0.0</td><td>0.68731946 .. 14.5186205</td><td>0.55650353 .. 17.377647</td><td>0.32185328 .. 6.634458</td><td>0.5761255 .. 15.538662</td><td>0.25331047 .. 5.203582</td><td>2.2286167 .. 4.364142</td><td>0.27353656 .. 0.07847925</td><td>1.1705104 .. 1.0828139</td><td>1.1924431</td><td>1.8291155 .. 21.347004</td><td>0.053062376</td><td>1.0479487 .. 3.5526812</td><td>1</td><td>0.5218424</td><td>0.20715964</td><td>1.0</td><td>1.0</td><td>1.0691454</td><td>0.9545305</td><td>1.0205319</td><td>0.0003827195</td><td>0.96842104</td><td>5147</td><td>947</td><td>55854</td><td>39</td><td>13642 .. -1</td><td>13642</td><td>0</td><td>504</td><td>1</td><td>43690902710932438</td><td>False</td><td>330.0850614983265</td><td>False</td><td>2.4922596502775063</td><td>False</td><td>22.420063</td><td>False</td><td>0.019702174</td><td>False</td><td>20.79716</td><td>False</td><td>0.008759146</td><td>False</td><td>19.758299</td><td>False</td><td>0.0043368284</td><td>False</td><td>19.098743</td><td>False</td><td>0.0060111987</td><td>False</td><td>18.949831</td><td>False</td><td>0.008697504</td><td>False</td><td>0.17192116</td><td>False</td><td>0.120769314</td><td>False</td><td>0.086650394</td><td>False</td><td>0.06701742</td><td>False</td><td>0.05704175</td><td>False</td><td>0.13910734676546893</td><td>8000</td><td>346088</td><td>3301p025</td><td>2380</td><td>True</td><td>0</td><td>0</td><td>EXP</td><td>330.08506378734086</td><td>2.4922577981352814</td><td>246891180000.0</td><td>86671245000.0</td><td>2347.723</td><td>1693.127</td><td>11333.103 .. 14983.753</td><td>0.05306204</td><td>56540.0709764726</td><td>58375.10181488075</td><td></td><td>0</td><td>0.0</td><td>0.0</td><td>0.0</td><td>0.0</td><td>0.0</td><td>0.0</td><td>0.0</td><td>False</td><td>0.0</td><td>0.0</td><td>0</td><td>0.0</td><td>0.0</td><td>0</td><td>0.0</td><td>0.0</td><td>0</td><td>False</td><td>0.0</td><td>0.0</td><td>0</td><td>0</td><td>0.0</td><td>False</td><td>0.0</td><td>0.0</td><td>0.0</td><td>0.0</td><td>0</td><td>1.1829044</td><td>5.9913154</td><td>17.974838</td><td>55.27591</td><td>39.09915</td><td>41.28661</td><td>682.0611</td><td>522.8694</td><td>159.10416</td><td>33.780094</td><td>2.2917726</td><td>0.44407624</td><td>0.00057230814</td><td>8.559025e-06</td><td>0.3618379</td><td>1.8326799</td><td>5.4983125</td><td>0.3618379</td><td>1.8326799</td><td>5.4983125</td><td>0.12353213 .. 2.0960734</td><td>0.8172375 .. 8.273198</td><td>2.581063 .. 26.591463</td><td>-0.018086977 .. -0.29605168</td><td>0.017302135 .. -0.2416393</td><td>0.05953981 .. -0.70627314</td><td>10074.58 .. 51.400917</td><td>3047.894 .. 15.550479</td><td>582.1661 .. 2.970235</td><td>0.8546404</td><td>0.8995976</td><td>0.9425334</td><td>0.99104786</td><td>0.9944927</td><td>0.99882287</td><td>0.99955535</td><td>3</td><td>3</td><td>3</td><td>123</td><td>122</td><td>10</td><td>10</td><td>1.1056017</td><td>1.1198244</td><td>1.0328975</td><td>0.9328429</td><td>0.8399714</td><td>0.48002517</td><td>0.10922292</td><td>0.007981816</td><td>0.003307153</td><td>0.0049632713</td><td>0.090039775</td><td>0.08148181</td><td>1.0265445</td><td>2.1119561</td><td>0.005237947</td><td>0.004378192</td><td>0.0053143417</td><td>0.99858487</td><td>0.99849</td><td>0.99795127</td><td>0</td><td>0</td><td>0</td><td>0</td><td>0</td><td>0</td><td>0</td><td>0</td><td>1.414539</td><td>1.242099</td><td>1.1384338</td><td>1740.9285</td><td>683.11163</td><td>155.35474</td><td>1085.9456</td><td>388.52975</td><td>81.15129</td><td>2.7943723</td><td>0.5480235</td><td>0.0007084594</td><td>9.378804e-06</td><td>3297p030</td><td>56.5978 .. 0.0</td><td>44.499348 .. 0.0</td><td>0.22697376 .. 0.0</td><td>0.052619122 .. 0.0</td><td>11 .. 0</td><td>11 .. 0</td><td>0.082801625 .. 0.0</td><td>0.065122314 .. 0.0</td><td>1.5873885 .. 0.0</td><td>0.67568624 .. 0.0</td><td>55340.072225655 .. 0.0</td><td>55340.072225655 .. 0.0</td><td>0.0</td><td>0.0</td><td>1.3571544</td><td>5968.4146</td><td>0.43159196</td><td>13741.191</td><td>0.084854506</td><td>8511.632</td><td>0.0</td><td>0.0</td><td>0.0</td><td>0.0</td><td>0.0</td><td>0.0</td><td>55854</td><td>5147</td><td>947</td><td>v5_10_0</td><td>0.0105941033939464</td><td>43009</td><td>0.08966074623565334</td><td>0.05122582399787171</td><td>0.20739560362794504</td><td>0.13236082506541097</td><td>4172.972060867169</td><td>1485.4240514339517</td><td>0.52</td><td>0.0</td><td>186088553388.02246</td><td>48754446029.66224</td><td>0.21549041531962634</td><td>0.012615831802065271</td><td>0.13657490869270225</td><td>0.009157256671312357</td><td>0.004614097474442636</td><td>0.00026730736661593514</td><td>0.05211765258750972</td><td>0.0012001952970640878</td><td>0.020598891514848096</td><td>0.0006772776445048586</td><td>0.09178786996714496</td><td>0.0021644017660845567</td><td>0.07825623434467294</td><td>0.0020552343273396575</td><td>2.8148038989068316</td><td>0.4691339831511386</td><td>0.0495</td><td>0.075</td><td>0.0495</td><td>0.075</td><td>0.0495</td><td>0.075</td><td>0.66</td><td>0.0</td><td>0.22695227534269619</td><td>0.0</td><td>217.5</td><td>35.0</td><td>0.0</td><td>0.0</td><td>300.0</td><td>-3.0</td><td>6000.0</td><td>5.0</td><td>6000.0</td><td>0.0</td><td>5.0</td><td>10.0</td><td>5979.981417336273</td><td>1.0</td><td>0.02</td><td>10.0</td><td>8540.09669616845</td><td>9.24365724544766e+25</td><td>0.5218424201011658</td><td>7.789838068684391e+33</td><td>4.494266784219974e-219</td><td>1.9218473952624256e+34</td><td>1.0893041903578794e-218</td><td>6.248497209762345e+36</td><td>1.1016889450277835e-217</td><td>6.275505521783654e+36</td><td>2.0685910511540168e+20</td><td>5.908602446792599e+21</td><td>3.1390354953836366e+22</td><td>9.01490327746199e+22</td><td>6.218175950582133e+22</td><td>1.3848624044338024e+23</td><td>1.1820470422422848e+23</td><td>448592856864.8622</td><td>7.889207954482394e-254</td><td>1.6275524539904268e-250</td><td>1.2877971133099298e-253</td><td>7.075062651365266e+37</td><td>1.5137767006393866e+35</td><td>1.5137767006393866e+35</td><td>4.4721119680566045e-218</td><td>7.075062651365266e+37</td><td>2.744113600758947e-217</td><td>211258538781.30914</td><td>211258538781.30914</td><td>9.24042189534229e-248</td><td>237334318083.55307</td><td>237334318083.55307</td><td>1.1953925370383558e-246</td><td>3.2363147003830767e+52</td><td>3.2363147003830767e+52</td><td>1.345836805523096e-200</td><td>0.0044444229723436405</td><td>0.020273861041743103</td><td>0.05325377030370842</td><td>0.08088095818253971</td><td>0.09446849330589803</td><td>0.2143346551555409</td><td>0.13265444490444192</td><td>11087</td><td>169730704</td></tr>\n",
       "</table></div>"
      ],
      "text/plain": [
       "<Table length=7986>\n",
       "       RA_1               DEC_1         RUN  ... index_new skymap_id\n",
       "                                             ...                    \n",
       "     float64             float64       int32 ...   int64     int64  \n",
       "------------------ ------------------- ----- ... --------- ---------\n",
       "177.87056751585544  -0.630901904271356   745 ...         0  82790003\n",
       " 177.9148820937241 -1.1708023404952859   752 ...         2  82790102\n",
       "183.64414071701577 -1.1438164113264149   752 ...         3  82790103\n",
       " 184.1634345775608 -1.2120340758054184   752 ...         4  82790103\n",
       "184.50217828228583 -1.2109029618533527   752 ...         5  82790104\n",
       "184.36905661685216 -1.2526166508457188   752 ...         6  82790105\n",
       "185.42384403250009  -1.093878063596164   752 ...         7  82790107\n",
       "185.64037186969088 -1.1668989968848367   752 ...         8  82790203\n",
       "186.98697902032148 -1.2214115273220554   752 ...        10  82790206\n",
       "               ...                 ...   ... ...       ...       ...\n",
       "29.639725995882955  -6.248104577441195  7908 ...     11073 169720202\n",
       " 40.01677068002365  -4.263777055825842  7865 ...     11075 169720204\n",
       " 40.16596920266022  -4.236850016896849  7865 ...     11076 169720303\n",
       " 329.8400663831215   1.482618271680782  7712 ...     11078 169730202\n",
       "330.23448830118963   1.486256533908851  7712 ...     11081 169730405\n",
       " 329.7389244788247  2.0022836507597037  7712 ...     11082 169730503\n",
       "329.78829993438944  1.6542953041703765  7717 ...     11084 169730603\n",
       " 329.8019625235831    2.17425466460634  7717 ...     11085 169730604\n",
       "330.02246176379793  2.0536194052154153  7717 ...     11086 169730700\n",
       " 330.0850587411108    2.49229819289783  7717 ...     11087 169730704"
      ]
     },
     "execution_count": 38,
     "metadata": {},
     "output_type": "execute_result"
    }
   ],
   "source": [
    "center[(center['Z']>0.5)&(center['Z']<0.7)]"
   ]
  },
  {
   "cell_type": "code",
   "execution_count": 33,
   "id": "9a71033a-9852-4d03-9d8f-6718f57e0b34",
   "metadata": {
    "execution": {
     "iopub.execute_input": "2021-11-29T08:37:25.361562Z",
     "iopub.status.busy": "2021-11-29T08:37:25.361424Z",
     "iopub.status.idle": "2021-11-29T08:37:25.496124Z",
     "shell.execute_reply": "2021-11-29T08:37:25.495761Z",
     "shell.execute_reply.started": "2021-11-29T08:37:25.361544Z"
    }
   },
   "outputs": [],
   "source": [
    "centernew = Table.read(\"/home/kunxu/red_disk/PCF_LS_jack/spec_central.fits\")"
   ]
  },
  {
   "cell_type": "code",
   "execution_count": 34,
   "id": "df7e55f6-c9b3-40ac-a892-d4b1dd517a41",
   "metadata": {
    "collapsed": true,
    "execution": {
     "iopub.execute_input": "2021-11-29T08:37:30.382658Z",
     "iopub.status.busy": "2021-11-29T08:37:30.382532Z",
     "iopub.status.idle": "2021-11-29T08:37:30.387665Z",
     "shell.execute_reply": "2021-11-29T08:37:30.387333Z",
     "shell.execute_reply.started": "2021-11-29T08:37:30.382644Z"
    },
    "jupyter": {
     "outputs_hidden": true
    },
    "tags": []
   },
   "outputs": [
    {
     "data": {
      "text/html": [
       "<div><i>Table length=7388</i>\n",
       "<table id=\"table47531516917936\" class=\"table-striped table-bordered table-condensed\">\n",
       "<thead><tr><th>ra</th><th>dec</th><th>Z</th><th>skymap_id</th><th>mass</th></tr></thead>\n",
       "<thead><tr><th></th><th></th><th></th><th></th><th>solMass</th></tr></thead>\n",
       "<thead><tr><th>float64</th><th>float64</th><th>float32</th><th>int64</th><th>float64</th></tr></thead>\n",
       "<tr><td>177.8705603888839</td><td>-0.630895317260817</td><td>0.55657697</td><td>82790003</td><td>11.40595108402968</td></tr>\n",
       "<tr><td>183.6442709508922</td><td>-1.1437789014304076</td><td>0.6266584</td><td>82790103</td><td>11.320189496703652</td></tr>\n",
       "<tr><td>184.16342805128338</td><td>-1.2120627851257668</td><td>0.5403554</td><td>82790103</td><td>11.363834679479888</td></tr>\n",
       "<tr><td>184.50215067981452</td><td>-1.2109877835250586</td><td>0.5968321</td><td>82790104</td><td>11.518154698347457</td></tr>\n",
       "<tr><td>184.3690419318151</td><td>-1.2525969279325346</td><td>0.5088732</td><td>82790105</td><td>11.504630387056835</td></tr>\n",
       "<tr><td>185.423796424291</td><td>-1.094036274336858</td><td>0.5810622</td><td>82790107</td><td>11.35538789630535</td></tr>\n",
       "<tr><td>185.64038762622093</td><td>-1.1668974795338933</td><td>0.5601102</td><td>82790203</td><td>11.596684244016878</td></tr>\n",
       "<tr><td>186.98701667713684</td><td>-1.2214194141673174</td><td>0.56818515</td><td>82790206</td><td>11.439226318439639</td></tr>\n",
       "<tr><td>188.543529314436</td><td>-1.0838999628092865</td><td>0.56977814</td><td>82790207</td><td>11.459804557224865</td></tr>\n",
       "<tr><td>...</td><td>...</td><td>...</td><td>...</td><td>...</td></tr>\n",
       "<tr><td>29.216263961237136</td><td>-6.3591790406353566</td><td>0.6974412</td><td>169720202</td><td>11.441775389985974</td></tr>\n",
       "<tr><td>29.639661933752862</td><td>-6.248162758279134</td><td>0.6917938</td><td>169720202</td><td>11.682227898185964</td></tr>\n",
       "<tr><td>40.01679851920298</td><td>-4.263785934280758</td><td>0.6016405</td><td>169720204</td><td>11.423067554459923</td></tr>\n",
       "<tr><td>40.16599752607115</td><td>-4.2368120651229795</td><td>0.5117145</td><td>169720303</td><td>11.360114850638283</td></tr>\n",
       "<tr><td>329.84000455201846</td><td>1.482661942037135</td><td>0.57920325</td><td>169730202</td><td>11.365153967500671</td></tr>\n",
       "<tr><td>330.2344721395655</td><td>1.4862520140914792</td><td>0.59915465</td><td>169730405</td><td>11.499754196603666</td></tr>\n",
       "<tr><td>329.738931818355</td><td>2.002307224266365</td><td>0.55372477</td><td>169730503</td><td>11.428069626347042</td></tr>\n",
       "<tr><td>329.7882875385926</td><td>1.6542938307638368</td><td>0.5087769</td><td>169730603</td><td>11.814535321673315</td></tr>\n",
       "<tr><td>329.80190398798544</td><td>2.1742847060724415</td><td>0.6144553</td><td>169730604</td><td>11.532519125713316</td></tr>\n",
       "<tr><td>330.0850614983265</td><td>2.4922596502775063</td><td>0.5218424</td><td>169730704</td><td>11.375360540900477</td></tr>\n",
       "</table></div>"
      ],
      "text/plain": [
       "<Table length=7388>\n",
       "        ra                 dec             Z      skymap_id        mass       \n",
       "                                                                 solMass      \n",
       "     float64             float64        float32     int64        float64      \n",
       "------------------ ------------------- ---------- --------- ------------------\n",
       " 177.8705603888839  -0.630895317260817 0.55657697  82790003  11.40595108402968\n",
       " 183.6442709508922 -1.1437789014304076  0.6266584  82790103 11.320189496703652\n",
       "184.16342805128338 -1.2120627851257668  0.5403554  82790103 11.363834679479888\n",
       "184.50215067981452 -1.2109877835250586  0.5968321  82790104 11.518154698347457\n",
       " 184.3690419318151 -1.2525969279325346  0.5088732  82790105 11.504630387056835\n",
       "  185.423796424291  -1.094036274336858  0.5810622  82790107  11.35538789630535\n",
       "185.64038762622093 -1.1668974795338933  0.5601102  82790203 11.596684244016878\n",
       "186.98701667713684 -1.2214194141673174 0.56818515  82790206 11.439226318439639\n",
       "  188.543529314436 -1.0838999628092865 0.56977814  82790207 11.459804557224865\n",
       "               ...                 ...        ...       ...                ...\n",
       "29.216263961237136 -6.3591790406353566  0.6974412 169720202 11.441775389985974\n",
       "29.639661933752862  -6.248162758279134  0.6917938 169720202 11.682227898185964\n",
       " 40.01679851920298  -4.263785934280758  0.6016405 169720204 11.423067554459923\n",
       " 40.16599752607115 -4.2368120651229795  0.5117145 169720303 11.360114850638283\n",
       "329.84000455201846   1.482661942037135 0.57920325 169730202 11.365153967500671\n",
       " 330.2344721395655  1.4862520140914792 0.59915465 169730405 11.499754196603666\n",
       "  329.738931818355   2.002307224266365 0.55372477 169730503 11.428069626347042\n",
       " 329.7882875385926  1.6542938307638368  0.5087769 169730603 11.814535321673315\n",
       "329.80190398798544  2.1742847060724415  0.6144553 169730604 11.532519125713316\n",
       " 330.0850614983265  2.4922596502775063  0.5218424 169730704 11.375360540900477"
      ]
     },
     "execution_count": 34,
     "metadata": {},
     "output_type": "execute_result"
    }
   ],
   "source": [
    "centernew"
   ]
  },
  {
   "cell_type": "code",
   "execution_count": 39,
   "id": "2782f772-c57b-4de8-9681-1662f137db30",
   "metadata": {
    "execution": {
     "iopub.execute_input": "2021-11-29T08:55:29.168217Z",
     "iopub.status.busy": "2021-11-29T08:55:29.168073Z",
     "iopub.status.idle": "2021-11-29T08:55:29.432846Z",
     "shell.execute_reply": "2021-11-29T08:55:29.432068Z",
     "shell.execute_reply.started": "2021-11-29T08:55:29.168191Z"
    }
   },
   "outputs": [],
   "source": [
    "random = Table.read(\"/home/kunxu/red_disk/PCF_LS_jack/random1.fits\")"
   ]
  },
  {
   "cell_type": "code",
   "execution_count": 40,
   "id": "a6f42c85-4c70-41b7-bec8-a08d98d35907",
   "metadata": {
    "collapsed": true,
    "execution": {
     "iopub.execute_input": "2021-11-29T08:55:31.294852Z",
     "iopub.status.busy": "2021-11-29T08:55:31.294691Z",
     "iopub.status.idle": "2021-11-29T08:55:31.300725Z",
     "shell.execute_reply": "2021-11-29T08:55:31.300377Z",
     "shell.execute_reply.started": "2021-11-29T08:55:31.294835Z"
    },
    "jupyter": {
     "outputs_hidden": true
    },
    "tags": []
   },
   "outputs": [
    {
     "data": {
      "text/html": [
       "<div><i>Table length=948742</i>\n",
       "<table id=\"table47531516857120\" class=\"table-striped table-bordered table-condensed\">\n",
       "<thead><tr><th>ra</th><th>dec</th><th>skymap_id</th></tr></thead>\n",
       "<thead><tr><th>float64</th><th>float64</th><th>int32</th></tr></thead>\n",
       "<tr><td>0.0001845594265392907</td><td>-0.7722553020616035</td><td>92260404</td></tr>\n",
       "<tr><td>0.0005094223826916996</td><td>-0.8481397660398347</td><td>92260403</td></tr>\n",
       "<tr><td>0.000577702187521505</td><td>0.6793767458918528</td><td>94690404</td></tr>\n",
       "<tr><td>0.0007914094712213356</td><td>0.06285938252369934</td><td>94690400</td></tr>\n",
       "<tr><td>0.0008655378873075474</td><td>0.5049093873242718</td><td>94690403</td></tr>\n",
       "<tr><td>0.0013894672552964844</td><td>0.2650292247366619</td><td>94690401</td></tr>\n",
       "<tr><td>0.0015167589074393793</td><td>2.4359700778830233</td><td>97120405</td></tr>\n",
       "<tr><td>0.0016276409172579873</td><td>-0.7640458782991701</td><td>92260404</td></tr>\n",
       "<tr><td>0.0017564422737170564</td><td>-0.7066824816690619</td><td>92260404</td></tr>\n",
       "<tr><td>0.0018268566160939985</td><td>2.1698358444925163</td><td>97120404</td></tr>\n",
       "<tr><td>...</td><td>...</td><td>...</td></tr>\n",
       "<tr><td>359.9981692569714</td><td>1.9769968258815538</td><td>97120403</td></tr>\n",
       "<tr><td>359.99829586203754</td><td>-1.0264543737671084</td><td>92260402</td></tr>\n",
       "<tr><td>359.99834265662656</td><td>-0.5531722154369828</td><td>92260405</td></tr>\n",
       "<tr><td>359.99872316425046</td><td>0.19854972735428797</td><td>94690401</td></tr>\n",
       "<tr><td>359.9988401384104</td><td>-1.5267411347636413</td><td>89840408</td></tr>\n",
       "<tr><td>359.9988787762519</td><td>-1.103166099287688</td><td>92260402</td></tr>\n",
       "<tr><td>359.9989899983385</td><td>-0.9399184589357376</td><td>92260403</td></tr>\n",
       "<tr><td>359.9991008857202</td><td>1.4027354761827227</td><td>94690408</td></tr>\n",
       "<tr><td>359.99926400623025</td><td>2.415277166318039</td><td>97120405</td></tr>\n",
       "<tr><td>359.99971506861266</td><td>2.2809282184030995</td><td>97120404</td></tr>\n",
       "</table></div>"
      ],
      "text/plain": [
       "<Table length=948742>\n",
       "          ra                  dec         skymap_id\n",
       "       float64              float64         int32  \n",
       "--------------------- ------------------- ---------\n",
       "0.0001845594265392907 -0.7722553020616035  92260404\n",
       "0.0005094223826916996 -0.8481397660398347  92260403\n",
       " 0.000577702187521505  0.6793767458918528  94690404\n",
       "0.0007914094712213356 0.06285938252369934  94690400\n",
       "0.0008655378873075474  0.5049093873242718  94690403\n",
       "0.0013894672552964844  0.2650292247366619  94690401\n",
       "0.0015167589074393793  2.4359700778830233  97120405\n",
       "0.0016276409172579873 -0.7640458782991701  92260404\n",
       "0.0017564422737170564 -0.7066824816690619  92260404\n",
       "0.0018268566160939985  2.1698358444925163  97120404\n",
       "                  ...                 ...       ...\n",
       "    359.9981692569714  1.9769968258815538  97120403\n",
       "   359.99829586203754 -1.0264543737671084  92260402\n",
       "   359.99834265662656 -0.5531722154369828  92260405\n",
       "   359.99872316425046 0.19854972735428797  94690401\n",
       "    359.9988401384104 -1.5267411347636413  89840408\n",
       "    359.9988787762519  -1.103166099287688  92260402\n",
       "    359.9989899983385 -0.9399184589357376  92260403\n",
       "    359.9991008857202  1.4027354761827227  94690408\n",
       "   359.99926400623025   2.415277166318039  97120405\n",
       "   359.99971506861266  2.2809282184030995  97120404"
      ]
     },
     "execution_count": 40,
     "metadata": {},
     "output_type": "execute_result"
    }
   ],
   "source": [
    "random"
   ]
  },
  {
   "cell_type": "code",
   "execution_count": 42,
   "id": "7eacd3c6-405f-4ee8-b4e0-0956c53db42a",
   "metadata": {
    "execution": {
     "iopub.execute_input": "2021-11-29T08:56:36.432499Z",
     "iopub.status.busy": "2021-11-29T08:56:36.432348Z",
     "iopub.status.idle": "2021-11-29T08:56:36.437358Z",
     "shell.execute_reply": "2021-11-29T08:56:36.436575Z",
     "shell.execute_reply.started": "2021-11-29T08:56:36.432482Z"
    }
   },
   "outputs": [],
   "source": [
    "randomnew = random[::10]"
   ]
  },
  {
   "cell_type": "code",
   "execution_count": 43,
   "id": "8bd57b95-bfed-45a7-854a-6dccbdfdcbc3",
   "metadata": {
    "collapsed": true,
    "execution": {
     "iopub.execute_input": "2021-11-29T08:56:42.596295Z",
     "iopub.status.busy": "2021-11-29T08:56:42.596167Z",
     "iopub.status.idle": "2021-11-29T08:56:42.601013Z",
     "shell.execute_reply": "2021-11-29T08:56:42.600669Z",
     "shell.execute_reply.started": "2021-11-29T08:56:42.596280Z"
    },
    "jupyter": {
     "outputs_hidden": true
    },
    "tags": []
   },
   "outputs": [
    {
     "data": {
      "text/html": [
       "<div><i>Table length=94875</i>\n",
       "<table id=\"table47531573543840\" class=\"table-striped table-bordered table-condensed\">\n",
       "<thead><tr><th>ra</th><th>dec</th><th>skymap_id</th></tr></thead>\n",
       "<thead><tr><th>float64</th><th>float64</th><th>int32</th></tr></thead>\n",
       "<tr><td>0.0001845594265392907</td><td>-0.7722553020616035</td><td>92260404</td></tr>\n",
       "<tr><td>0.0019212154853997891</td><td>-0.5386981222100625</td><td>92260405</td></tr>\n",
       "<tr><td>0.003972035619958588</td><td>2.1599165196662677</td><td>97120404</td></tr>\n",
       "<tr><td>0.005623749678580789</td><td>-1.263076476816944</td><td>92260401</td></tr>\n",
       "<tr><td>0.007246998436439845</td><td>2.0008998442859283</td><td>97120403</td></tr>\n",
       "<tr><td>0.009040821259610528</td><td>0.28309220949699343</td><td>94690402</td></tr>\n",
       "<tr><td>0.010701631301974069</td><td>-0.6870005788818806</td><td>92260404</td></tr>\n",
       "<tr><td>0.01199291503525217</td><td>-0.9406711915931698</td><td>92260403</td></tr>\n",
       "<tr><td>0.013140269211201537</td><td>2.084519069559197</td><td>97120403</td></tr>\n",
       "<tr><td>0.015370990852603073</td><td>-1.104750459126306</td><td>92260402</td></tr>\n",
       "<tr><td>...</td><td>...</td><td>...</td></tr>\n",
       "<tr><td>359.9846192590372</td><td>0.2539988720456071</td><td>94690401</td></tr>\n",
       "<tr><td>359.9861421312222</td><td>2.3627469697026533</td><td>97120405</td></tr>\n",
       "<tr><td>359.98798555244065</td><td>1.6370231168485967</td><td>97120401</td></tr>\n",
       "<tr><td>359.9900170579169</td><td>-0.6269161957181798</td><td>92260405</td></tr>\n",
       "<tr><td>359.9911580231871</td><td>2.701103493610183</td><td>97120407</td></tr>\n",
       "<tr><td>359.99174933168655</td><td>0.3431004663309888</td><td>94690402</td></tr>\n",
       "<tr><td>359.99357609755907</td><td>-1.3154825953368021</td><td>92260401</td></tr>\n",
       "<tr><td>359.99558818287625</td><td>2.720357623029565</td><td>97120407</td></tr>\n",
       "<tr><td>359.99810643404123</td><td>-1.3202585711143866</td><td>92260401</td></tr>\n",
       "<tr><td>359.99926400623025</td><td>2.415277166318039</td><td>97120405</td></tr>\n",
       "</table></div>"
      ],
      "text/plain": [
       "<Table length=94875>\n",
       "          ra                  dec         skymap_id\n",
       "       float64              float64         int32  \n",
       "--------------------- ------------------- ---------\n",
       "0.0001845594265392907 -0.7722553020616035  92260404\n",
       "0.0019212154853997891 -0.5386981222100625  92260405\n",
       " 0.003972035619958588  2.1599165196662677  97120404\n",
       " 0.005623749678580789  -1.263076476816944  92260401\n",
       " 0.007246998436439845  2.0008998442859283  97120403\n",
       " 0.009040821259610528 0.28309220949699343  94690402\n",
       " 0.010701631301974069 -0.6870005788818806  92260404\n",
       "  0.01199291503525217 -0.9406711915931698  92260403\n",
       " 0.013140269211201537   2.084519069559197  97120403\n",
       " 0.015370990852603073  -1.104750459126306  92260402\n",
       "                  ...                 ...       ...\n",
       "    359.9846192590372  0.2539988720456071  94690401\n",
       "    359.9861421312222  2.3627469697026533  97120405\n",
       "   359.98798555244065  1.6370231168485967  97120401\n",
       "    359.9900170579169 -0.6269161957181798  92260405\n",
       "    359.9911580231871   2.701103493610183  97120407\n",
       "   359.99174933168655  0.3431004663309888  94690402\n",
       "   359.99357609755907 -1.3154825953368021  92260401\n",
       "   359.99558818287625   2.720357623029565  97120407\n",
       "   359.99810643404123 -1.3202585711143866  92260401\n",
       "   359.99926400623025   2.415277166318039  97120405"
      ]
     },
     "execution_count": 43,
     "metadata": {},
     "output_type": "execute_result"
    }
   ],
   "source": [
    "randomnew"
   ]
  },
  {
   "cell_type": "code",
   "execution_count": 44,
   "id": "e46f9087-6064-4a23-bb0b-cf05abe70d7b",
   "metadata": {
    "execution": {
     "iopub.execute_input": "2021-11-29T08:57:14.110226Z",
     "iopub.status.busy": "2021-11-29T08:57:14.110103Z",
     "iopub.status.idle": "2021-11-29T08:57:14.522252Z",
     "shell.execute_reply": "2021-11-29T08:57:14.521821Z",
     "shell.execute_reply.started": "2021-11-29T08:57:14.110212Z"
    },
    "tags": []
   },
   "outputs": [
    {
     "data": {
      "text/plain": [
       "<matplotlib.collections.PathCollection at 0x2b3acf7f0430>"
      ]
     },
     "execution_count": 44,
     "metadata": {},
     "output_type": "execute_result"
    },
    {
     "data": {
      "image/png": "[encoded data removed]",
      "text/plain": [
       "<Figure size 432x288 with 1 Axes>"
      ]
     },
     "metadata": {
      "needs_background": "light"
     },
     "output_type": "display_data"
    }
   ],
   "source": [
    "plt.scatter(random['ra'],random['dec'],s=0.1)\n",
    "plt.scatter(randomnew['ra'],randomnew['dec'],s= 0.1)"
   ]
  },
  {
   "cell_type": "code",
   "execution_count": 45,
   "id": "7bcd4b9c-27af-4687-bd4e-fad729eb345e",
   "metadata": {
    "execution": {
     "iopub.execute_input": "2021-11-29T08:57:44.042031Z",
     "iopub.status.busy": "2021-11-29T08:57:44.041857Z",
     "iopub.status.idle": "2021-11-29T08:57:44.778890Z",
     "shell.execute_reply": "2021-11-29T08:57:44.778339Z",
     "shell.execute_reply.started": "2021-11-29T08:57:44.042012Z"
    }
   },
   "outputs": [],
   "source": [
    "random2 = Table.read(\"/home/kunxu/red_disk/PCF_LS_jack/random2.fits\")"
   ]
  },
  {
   "cell_type": "code",
   "execution_count": 46,
   "id": "7b76914c-2c1d-411d-87b0-cd235b8df16b",
   "metadata": {
    "collapsed": true,
    "execution": {
     "iopub.execute_input": "2021-11-29T08:57:47.140455Z",
     "iopub.status.busy": "2021-11-29T08:57:47.140268Z",
     "iopub.status.idle": "2021-11-29T08:57:47.145954Z",
     "shell.execute_reply": "2021-11-29T08:57:47.145580Z",
     "shell.execute_reply.started": "2021-11-29T08:57:47.140435Z"
    },
    "jupyter": {
     "outputs_hidden": true
    },
    "tags": []
   },
   "outputs": [
    {
     "data": {
      "text/html": [
       "<div><i>Table length=18052056</i>\n",
       "<table id=\"table47531589468464\" class=\"table-striped table-bordered table-condensed\">\n",
       "<thead><tr><th>ra</th><th>dec</th><th>skymap_id</th></tr></thead>\n",
       "<thead><tr><th>float64</th><th>float64</th><th>int32</th></tr></thead>\n",
       "<tr><td>234.38558803077825</td><td>42.45759967331349</td><td>158260504</td></tr>\n",
       "<tr><td>184.99909957945914</td><td>1.4039123156965143</td><td>95940508</td></tr>\n",
       "<tr><td>134.42632031144848</td><td>2.1671008672875196</td><td>98020104</td></tr>\n",
       "<tr><td>219.82268644206513</td><td>1.9455438025324259</td><td>98600602</td></tr>\n",
       "<tr><td>333.5025992032037</td><td>3.8042085949401563</td><td>101780304</td></tr>\n",
       "<tr><td>138.8207989969537</td><td>-1.6371057514879221</td><td>90770107</td></tr>\n",
       "<tr><td>176.8443531983104</td><td>0.754579172421254</td><td>95880104</td></tr>\n",
       "<tr><td>29.197724576389824</td><td>-6.676917395365634</td><td>82790804</td></tr>\n",
       "<tr><td>181.57294792988628</td><td>1.6928534382427047</td><td>98340401</td></tr>\n",
       "<tr><td>350.74158336869897</td><td>3.032375183915871</td><td>101900600</td></tr>\n",
       "<tr><td>...</td><td>...</td><td>...</td></tr>\n",
       "<tr><td>222.667524757223</td><td>-1.0668722918445617</td><td>93760202</td></tr>\n",
       "<tr><td>343.39431341330874</td><td>3.8098025359925995</td><td>101850504</td></tr>\n",
       "<tr><td>149.00769657876344</td><td>-1.4246771050730644</td><td>93270700</td></tr>\n",
       "<tr><td>136.2707596477571</td><td>-1.2325013278934225</td><td>93180401</td></tr>\n",
       "<tr><td>226.5707618782385</td><td>44.618115142836835</td><td>160000108</td></tr>\n",
       "<tr><td>219.35942309901066</td><td>0.12693491828882655</td><td>96170301</td></tr>\n",
       "<tr><td>151.59732989852094</td><td>-0.25927673667849677</td><td>93280107</td></tr>\n",
       "<tr><td>37.184678307855535</td><td>-3.8994326574860967</td><td>87670403</td></tr>\n",
       "<tr><td>350.46857200763367</td><td>0.8049303808654492</td><td>97060704</td></tr>\n",
       "<tr><td>131.08962006296386</td><td>-0.2874084657888238</td><td>93140006</td></tr>\n",
       "</table></div>"
      ],
      "text/plain": [
       "<Table length=18052056>\n",
       "        ra                 dec          skymap_id\n",
       "     float64             float64          int32  \n",
       "------------------ -------------------- ---------\n",
       "234.38558803077825    42.45759967331349 158260504\n",
       "184.99909957945914   1.4039123156965143  95940508\n",
       "134.42632031144848   2.1671008672875196  98020104\n",
       "219.82268644206513   1.9455438025324259  98600602\n",
       " 333.5025992032037   3.8042085949401563 101780304\n",
       " 138.8207989969537  -1.6371057514879221  90770107\n",
       " 176.8443531983104    0.754579172421254  95880104\n",
       "29.197724576389824   -6.676917395365634  82790804\n",
       "181.57294792988628   1.6928534382427047  98340401\n",
       "350.74158336869897    3.032375183915871 101900600\n",
       "               ...                  ...       ...\n",
       "  222.667524757223  -1.0668722918445617  93760202\n",
       "343.39431341330874   3.8098025359925995 101850504\n",
       "149.00769657876344  -1.4246771050730644  93270700\n",
       " 136.2707596477571  -1.2325013278934225  93180401\n",
       " 226.5707618782385   44.618115142836835 160000108\n",
       "219.35942309901066  0.12693491828882655  96170301\n",
       "151.59732989852094 -0.25927673667849677  93280107\n",
       "37.184678307855535  -3.8994326574860967  87670403\n",
       "350.46857200763367   0.8049303808654492  97060704\n",
       "131.08962006296386  -0.2874084657888238  93140006"
      ]
     },
     "execution_count": 46,
     "metadata": {},
     "output_type": "execute_result"
    }
   ],
   "source": [
    "random2"
   ]
  },
  {
   "cell_type": "code",
   "execution_count": 53,
   "id": "4c990e7a-14d7-417e-bba6-9592609442f6",
   "metadata": {
    "collapsed": true,
    "execution": {
     "iopub.execute_input": "2021-11-29T10:53:23.265072Z",
     "iopub.status.busy": "2021-11-29T10:53:23.264864Z",
     "iopub.status.idle": "2021-11-29T10:53:23.272824Z",
     "shell.execute_reply": "2021-11-29T10:53:23.272452Z",
     "shell.execute_reply.started": "2021-11-29T10:53:23.265051Z"
    },
    "jupyter": {
     "outputs_hidden": true
    },
    "tags": []
   },
   "outputs": [
    {
     "data": {
      "text/html": [
       "<div><i>Table length=174900944</i>\n",
       "<table id=\"table47531589504544\" class=\"table-striped table-bordered table-condensed\">\n",
       "<thead><tr><th>ra</th><th>dec</th><th>mass0p525</th><th>mass0p575</th><th>mass0p625</th><th>mass0p675</th><th>skymap_id</th><th>z_cmodel_mag</th></tr></thead>\n",
       "<thead><tr><th>float64</th><th>float64</th><th>float64</th><th>float64</th><th>float64</th><th>float64</th><th>int32</th><th>float32</th></tr></thead>\n",
       "<tr><td>29.11596307549589</td><td>-6.775140624839325</td><td>10.64256286779708</td><td>10.678079696255637</td><td>10.637120849263585</td><td>10.704212339457344</td><td>82780004</td><td>21.563286</td></tr>\n",
       "<tr><td>29.097010963966863</td><td>-6.77468933995016</td><td>8.905168831140513</td><td>8.972707189082614</td><td>9.046553857111551</td><td>9.100615448035434</td><td>82780004</td><td>22.589254</td></tr>\n",
       "<tr><td>29.126665626064202</td><td>-6.77473359426081</td><td>9.023458942835093</td><td>8.8443150645886</td><td>8.790569839151642</td><td>8.82004224544607</td><td>82780004</td><td>23.952927</td></tr>\n",
       "<tr><td>29.067357382379907</td><td>-6.774723759969203</td><td>8.692193266862423</td><td>7.932503204564348</td><td>8.043465787057237</td><td>8.150844502175065</td><td>82780004</td><td>24.229347</td></tr>\n",
       "<tr><td>29.11473313855873</td><td>-6.774551113549213</td><td>9.033286592836433</td><td>9.139869238718434</td><td>9.36395555033106</td><td>9.456687257682011</td><td>82780004</td><td>23.375526</td></tr>\n",
       "<tr><td>29.108439423590077</td><td>-6.773931553803997</td><td>10.058414886746977</td><td>10.116659189303533</td><td>10.007613653631513</td><td>10.189640115600449</td><td>82780004</td><td>22.238329</td></tr>\n",
       "<tr><td>29.10984648746462</td><td>-6.773631608498949</td><td>8.695476584271622</td><td>8.818165148860535</td><td>8.97682828400326</td><td>9.091290677570043</td><td>82780004</td><td>22.054401</td></tr>\n",
       "<tr><td>29.096387207795175</td><td>-6.773254081977553</td><td>9.491089016580537</td><td>9.5056299270349</td><td>9.559425300126087</td><td>9.622768330211176</td><td>82780004</td><td>21.860317</td></tr>\n",
       "<tr><td>29.049894596351326</td><td>-6.773429459673613</td><td>8.307302896442257</td><td>8.399839089202857</td><td>8.447218755236909</td><td>7.983678635933073</td><td>82780004</td><td>23.649101</td></tr>\n",
       "<tr><td>29.098610255564555</td><td>-6.773342043991594</td><td>8.59991398639756</td><td>8.626398935097365</td><td>8.595266109988794</td><td>8.655089298639778</td><td>82780004</td><td>23.587755</td></tr>\n",
       "<tr><td>...</td><td>...</td><td>...</td><td>...</td><td>...</td><td>...</td><td>...</td><td>...</td></tr>\n",
       "<tr><td>213.90937654673772</td><td>53.18638864864173</td><td>6.696451371068264</td><td>6.823980327032494</td><td>6.924424401855642</td><td>6.939095415655635</td><td>169730806</td><td>25.459488</td></tr>\n",
       "<tr><td>213.89235322339857</td><td>53.21437135515517</td><td>6.706967275069844</td><td>7.0525256925442745</td><td>7.124187598030234</td><td>7.3161773588582095</td><td>169730806</td><td>26.247253</td></tr>\n",
       "<tr><td>213.8921000830188</td><td>53.21376977390978</td><td>6.441332159910306</td><td>6.938624333632065</td><td>7.016789732797754</td><td>7.046318885509837</td><td>169730806</td><td>26.30872</td></tr>\n",
       "<tr><td>213.88924693059377</td><td>53.21989470071096</td><td>6.216336800474093</td><td>6.290577573609853</td><td>6.379322110833429</td><td>6.43961977478924</td><td>169730806</td><td>24.824312</td></tr>\n",
       "<tr><td>213.87825951856232</td><td>53.24095083437476</td><td>7.0950880211976965</td><td>7.168828863884012</td><td>7.23896121510795</td><td>7.325726885847805</td><td>169730806</td><td>24.217306</td></tr>\n",
       "<tr><td>213.90558452881055</td><td>53.24710141174297</td><td>8.35813968428709</td><td>8.535493417125588</td><td>8.62372349999638</td><td>8.81703838304109</td><td>169730806</td><td>25.071981</td></tr>\n",
       "<tr><td>213.90602172554313</td><td>53.24722472245111</td><td>6.899353128865722</td><td>7.249837505200762</td><td>7.329479085593028</td><td>7.403205997975418</td><td>169730806</td><td>25.360687</td></tr>\n",
       "<tr><td>213.88861027838306</td><td>53.25148278667229</td><td>6.312994650731437</td><td>6.389455291844724</td><td>6.460106228032526</td><td>6.547922017120791</td><td>169730806</td><td>26.669016</td></tr>\n",
       "<tr><td>213.8891779527558</td><td>53.25111281879681</td><td>7.440249878877039</td><td>7.526323080560802</td><td>7.605771692321061</td><td>7.679190787964554</td><td>169730806</td><td>24.896706</td></tr>\n",
       "<tr><td>213.91304890213354</td><td>53.2576421336773</td><td>6.600263067120526</td><td>7.414809638906181</td><td>6.899714712419918</td><td>6.993223864708865</td><td>169730806</td><td>27.359974</td></tr>\n",
       "</table></div>"
      ],
      "text/plain": [
       "<Table length=174900944>\n",
       "        ra                dec         ... skymap_id z_cmodel_mag\n",
       "     float64            float64       ...   int32     float32   \n",
       "------------------ ------------------ ... --------- ------------\n",
       " 29.11596307549589 -6.775140624839325 ...  82780004    21.563286\n",
       "29.097010963966863  -6.77468933995016 ...  82780004    22.589254\n",
       "29.126665626064202  -6.77473359426081 ...  82780004    23.952927\n",
       "29.067357382379907 -6.774723759969203 ...  82780004    24.229347\n",
       " 29.11473313855873 -6.774551113549213 ...  82780004    23.375526\n",
       "29.108439423590077 -6.773931553803997 ...  82780004    22.238329\n",
       " 29.10984648746462 -6.773631608498949 ...  82780004    22.054401\n",
       "29.096387207795175 -6.773254081977553 ...  82780004    21.860317\n",
       "29.049894596351326 -6.773429459673613 ...  82780004    23.649101\n",
       "29.098610255564555 -6.773342043991594 ...  82780004    23.587755\n",
       "               ...                ... ...       ...          ...\n",
       "213.90937654673772  53.18638864864173 ... 169730806    25.459488\n",
       "213.89235322339857  53.21437135515517 ... 169730806    26.247253\n",
       " 213.8921000830188  53.21376977390978 ... 169730806     26.30872\n",
       "213.88924693059377  53.21989470071096 ... 169730806    24.824312\n",
       "213.87825951856232  53.24095083437476 ... 169730806    24.217306\n",
       "213.90558452881055  53.24710141174297 ... 169730806    25.071981\n",
       "213.90602172554313  53.24722472245111 ... 169730806    25.360687\n",
       "213.88861027838306  53.25148278667229 ... 169730806    26.669016\n",
       " 213.8891779527558  53.25111281879681 ... 169730806    24.896706\n",
       "213.91304890213354   53.2576421336773 ... 169730806    27.359974"
      ]
     },
     "execution_count": 53,
     "metadata": {},
     "output_type": "execute_result"
    }
   ],
   "source": [
    "photo2"
   ]
  },
  {
   "cell_type": "code",
   "execution_count": 54,
   "id": "be49a7a1-c24c-41d2-928d-af371963400b",
   "metadata": {
    "execution": {
     "iopub.execute_input": "2021-11-29T10:53:28.472640Z",
     "iopub.status.busy": "2021-11-29T10:53:28.472516Z",
     "iopub.status.idle": "2021-11-29T10:53:28.477534Z",
     "shell.execute_reply": "2021-11-29T10:53:28.477196Z",
     "shell.execute_reply.started": "2021-11-29T10:53:28.472626Z"
    },
    "tags": []
   },
   "outputs": [
    {
     "data": {
      "text/html": [
       "<div><i>Table length=174900944</i>\n",
       "<table id=\"table47531589503104\" class=\"table-striped table-bordered table-condensed\">\n",
       "<thead><tr><th>ra</th><th>dec</th><th>mass0p55</th><th>mass0p65</th><th>u_r0p55</th><th>u_r0p65</th><th>g_r0p55</th><th>g_r0p65</th><th>skymap_id</th></tr></thead>\n",
       "<thead><tr><th>float64</th><th>float64</th><th>float64</th><th>float64</th><th>float64</th><th>float64</th><th>float64</th><th>float64</th><th>int32</th></tr></thead>\n",
       "<tr><td>29.11596307549589</td><td>-6.775140624839325</td><td>10.404314285676042</td><td>10.482359474018388</td><td>2.6437457209637794</td><td>2.3953749855302937</td><td>0.8201868454041397</td><td>0.7220271839628579</td><td>82780004</td></tr>\n",
       "<tr><td>29.097010963966863</td><td>-6.77468933995016</td><td>9.127960478339386</td><td>9.293049546402004</td><td>1.0711571668373228</td><td>1.075805881009844</td><td>0.24552484407019576</td><td>0.2938274893214301</td><td>82780004</td></tr>\n",
       "<tr><td>29.126665626064202</td><td>-6.77473359426081</td><td>8.89370722838201</td><td>9.035765080036953</td><td>1.4612897025137568</td><td>1.3962005045605954</td><td>0.43438773355831306</td><td>0.399844961457389</td><td>82780004</td></tr>\n",
       "<tr><td>29.067357382379907</td><td>-6.774723759969203</td><td>8.910811532614954</td><td>8.882212464982869</td><td>1.3226847174791398</td><td>1.1240924862422328</td><td>0.41449201565680405</td><td>0.42081097926290356</td><td>82780004</td></tr>\n",
       "<tr><td>29.11473313855873</td><td>-6.774551113549213</td><td>8.760510730003922</td><td>8.944164829956197</td><td>1.1328620406905368</td><td>1.1206982539707264</td><td>0.395799975245184</td><td>0.3694883636758057</td><td>82780004</td></tr>\n",
       "<tr><td>29.108439423590077</td><td>-6.773931553803997</td><td>9.886246347994758</td><td>9.958846057304605</td><td>2.305631096014703</td><td>2.124223383668684</td><td>0.689298773155613</td><td>0.6062173938957633</td><td>82780004</td></tr>\n",
       "<tr><td>29.10984648746462</td><td>-6.773631608498949</td><td>8.964369327895923</td><td>9.277995851392218</td><td>0.68488147939582</td><td>0.7505934902982943</td><td>0.3416187346942074</td><td>0.33412370724967955</td><td>82780004</td></tr>\n",
       "<tr><td>29.096387207795175</td><td>-6.773254081977553</td><td>9.609378978233654</td><td>9.781736022259167</td><td>1.3974949703741257</td><td>1.351927625378016</td><td>0.3468336228564603</td><td>0.33638028626730443</td><td>82780004</td></tr>\n",
       "<tr><td>29.049894596351326</td><td>-6.773429459673613</td><td>8.487750072650359</td><td>8.58201542761342</td><td>0.7521871252629736</td><td>0.824842172002222</td><td>0.21432949229375003</td><td>0.3634457308277176</td><td>82780004</td></tr>\n",
       "<tr><td>29.098610255564555</td><td>-6.773342043991594</td><td>8.860941388968946</td><td>9.011862573438869</td><td>1.3711549735376818</td><td>1.3076774703865652</td><td>0.3753031117269348</td><td>0.36878939794088395</td><td>82780004</td></tr>\n",
       "<tr><td>...</td><td>...</td><td>...</td><td>...</td><td>...</td><td>...</td><td>...</td><td>...</td><td>...</td></tr>\n",
       "<tr><td>213.90937654673772</td><td>53.18638864864173</td><td>7.046300530513417</td><td>7.198280155374794</td><td>0.4932236868676105</td><td>0.4711792371608386</td><td>0.34094913607740773</td><td>0.322128040361388</td><td>169730806</td></tr>\n",
       "<tr><td>213.89235322339857</td><td>53.21437135515517</td><td>7.22305279369054</td><td>7.4119313354915475</td><td>0.39964957101912935</td><td>0.3909945740530648</td><td>0.3423056462366525</td><td>0.3169992891959129</td><td>169730806</td></tr>\n",
       "<tr><td>213.8921000830188</td><td>53.21376977390978</td><td>7.052455359514247</td><td>7.204627962088674</td><td>0.3736613943094353</td><td>0.35874573965608697</td><td>0.3482358068102912</td><td>0.33324259587311866</td><td>169730806</td></tr>\n",
       "<tr><td>213.88924693059377</td><td>53.21989470071096</td><td>6.862337228866239</td><td>7.050514335953422</td><td>0.2833756792509724</td><td>0.2668520183534229</td><td>0.40194477381185056</td><td>0.36603346833433187</td><td>169730806</td></tr>\n",
       "<tr><td>213.87825951856232</td><td>53.24095083437476</td><td>7.741015620025216</td><td>8.027395269495054</td><td>0.2801380132636006</td><td>0.2779373613419837</td><td>0.4015577582741608</td><td>0.3466575043565804</td><td>169730806</td></tr>\n",
       "<tr><td>213.90558452881055</td><td>53.24710141174297</td><td>7.9676579269827945</td><td>8.176429159969905</td><td>0.8791900707433865</td><td>0.9024749247240602</td><td>0.36139649863236084</td><td>0.3550328936741498</td><td>169730806</td></tr>\n",
       "<tr><td>213.90602172554313</td><td>53.24722472245111</td><td>7.540834629175217</td><td>7.713142557921953</td><td>0.6524756205982716</td><td>0.6483627739948776</td><td>0.3434966480463192</td><td>0.33080539857081787</td><td>169730806</td></tr>\n",
       "<tr><td>213.88861027838306</td><td>53.25148278667229</td><td>7.609881048529837</td><td>7.924707474642083</td><td>0.49456467446324975</td><td>0.5412695970794799</td><td>0.3521993421196045</td><td>0.32674844944126874</td><td>169730806</td></tr>\n",
       "<tr><td>213.8891779527558</td><td>53.25111281879681</td><td>7.700271709606913</td><td>7.854512526755685</td><td>0.601117452713199</td><td>0.5967075861040612</td><td>0.3252868132862194</td><td>0.32596413927911005</td><td>169730806</td></tr>\n",
       "<tr><td>213.91304890213354</td><td>53.2576421336773</td><td>7.740387373207939</td><td>7.88651007787491</td><td>0.7362846590517038</td><td>0.7229184405115484</td><td>0.3469689331466864</td><td>0.34727887292164206</td><td>169730806</td></tr>\n",
       "</table></div>"
      ],
      "text/plain": [
       "<Table length=174900944>\n",
       "        ra                dec         ...       g_r0p65       skymap_id\n",
       "     float64            float64       ...       float64         int32  \n",
       "------------------ ------------------ ... ------------------- ---------\n",
       " 29.11596307549589 -6.775140624839325 ...  0.7220271839628579  82780004\n",
       "29.097010963966863  -6.77468933995016 ...  0.2938274893214301  82780004\n",
       "29.126665626064202  -6.77473359426081 ...   0.399844961457389  82780004\n",
       "29.067357382379907 -6.774723759969203 ... 0.42081097926290356  82780004\n",
       " 29.11473313855873 -6.774551113549213 ...  0.3694883636758057  82780004\n",
       "29.108439423590077 -6.773931553803997 ...  0.6062173938957633  82780004\n",
       " 29.10984648746462 -6.773631608498949 ... 0.33412370724967955  82780004\n",
       "29.096387207795175 -6.773254081977553 ... 0.33638028626730443  82780004\n",
       "29.049894596351326 -6.773429459673613 ...  0.3634457308277176  82780004\n",
       "29.098610255564555 -6.773342043991594 ... 0.36878939794088395  82780004\n",
       "               ...                ... ...                 ...       ...\n",
       "213.90937654673772  53.18638864864173 ...   0.322128040361388 169730806\n",
       "213.89235322339857  53.21437135515517 ...  0.3169992891959129 169730806\n",
       " 213.8921000830188  53.21376977390978 ... 0.33324259587311866 169730806\n",
       "213.88924693059377  53.21989470071096 ... 0.36603346833433187 169730806\n",
       "213.87825951856232  53.24095083437476 ...  0.3466575043565804 169730806\n",
       "213.90558452881055  53.24710141174297 ...  0.3550328936741498 169730806\n",
       "213.90602172554313  53.24722472245111 ... 0.33080539857081787 169730806\n",
       "213.88861027838306  53.25148278667229 ... 0.32674844944126874 169730806\n",
       " 213.8891779527558  53.25111281879681 ... 0.32596413927911005 169730806\n",
       "213.91304890213354   53.2576421336773 ... 0.34727887292164206 169730806"
      ]
     },
     "execution_count": 54,
     "metadata": {},
     "output_type": "execute_result"
    }
   ],
   "source": [
    "target2"
   ]
  },
  {
   "cell_type": "markdown",
   "id": "22e55e2b-bacd-4fd2-8344-223cf5eb1480",
   "metadata": {},
   "source": [
    "# compare Kun"
   ]
  },
  {
   "cell_type": "code",
   "execution_count": 52,
   "id": "3ec7234d-aa12-47db-990d-64cdfcc83214",
   "metadata": {
    "execution": {
     "iopub.execute_input": "2021-12-05T13:39:11.570895Z",
     "iopub.status.busy": "2021-12-05T13:39:11.570538Z",
     "iopub.status.idle": "2021-12-05T13:39:32.165610Z",
     "shell.execute_reply": "2021-12-05T13:39:32.164224Z",
     "shell.execute_reply.started": "2021-12-05T13:39:11.570866Z"
    },
    "tags": []
   },
   "outputs": [],
   "source": [
    "me = Table.read(\"/home/yunzheng/PAC/code/PAC/0.5_0.7/photo.fits\")"
   ]
  },
  {
   "cell_type": "code",
   "execution_count": 7,
   "id": "9a3e63c8-a75d-42d5-8eb6-03430da715d9",
   "metadata": {
    "collapsed": true,
    "execution": {
     "iopub.execute_input": "2021-12-03T14:14:47.818860Z",
     "iopub.status.busy": "2021-12-03T14:14:47.818421Z",
     "iopub.status.idle": "2021-12-03T14:14:47.823815Z",
     "shell.execute_reply": "2021-12-03T14:14:47.823437Z",
     "shell.execute_reply.started": "2021-12-03T14:14:47.818842Z"
    },
    "jupyter": {
     "outputs_hidden": true
    },
    "tags": []
   },
   "outputs": [
    {
     "data": {
      "text/html": [
       "<div><i>Table length=174900944</i>\n",
       "<table id=\"table47685893752768\" class=\"table-striped table-bordered table-condensed\">\n",
       "<thead><tr><th>ra</th><th>dec</th><th>mass0p55</th><th>mass0p65</th><th>u_r0p55</th><th>u_r0p65</th><th>g_r0p55</th><th>g_r0p65</th><th>skymap_id</th></tr></thead>\n",
       "<thead><tr><th>float64</th><th>float64</th><th>float64</th><th>float64</th><th>float64</th><th>float64</th><th>float64</th><th>float64</th><th>int32</th></tr></thead>\n",
       "<tr><td>29.11596307549589</td><td>-6.775140624839325</td><td>10.404314285676042</td><td>10.482359474018388</td><td>2.6437457209637794</td><td>2.3953749855302937</td><td>0.8201868454041397</td><td>0.7220271839628579</td><td>82780004</td></tr>\n",
       "<tr><td>29.097010963966863</td><td>-6.77468933995016</td><td>9.127960478339386</td><td>9.293049546402004</td><td>1.0711571668373228</td><td>1.075805881009844</td><td>0.24552484407019576</td><td>0.2938274893214301</td><td>82780004</td></tr>\n",
       "<tr><td>29.126665626064202</td><td>-6.77473359426081</td><td>8.89370722838201</td><td>9.035765080036953</td><td>1.4612897025137568</td><td>1.3962005045605954</td><td>0.43438773355831306</td><td>0.399844961457389</td><td>82780004</td></tr>\n",
       "<tr><td>29.067357382379907</td><td>-6.774723759969203</td><td>8.910811532614954</td><td>8.882212464982869</td><td>1.3226847174791398</td><td>1.1240924862422328</td><td>0.41449201565680405</td><td>0.42081097926290356</td><td>82780004</td></tr>\n",
       "<tr><td>29.11473313855873</td><td>-6.774551113549213</td><td>8.760510730003922</td><td>8.944164829956197</td><td>1.1328620406905368</td><td>1.1206982539707264</td><td>0.395799975245184</td><td>0.3694883636758057</td><td>82780004</td></tr>\n",
       "<tr><td>29.108439423590077</td><td>-6.773931553803997</td><td>9.886246347994758</td><td>9.958846057304605</td><td>2.305631096014703</td><td>2.124223383668684</td><td>0.689298773155613</td><td>0.6062173938957633</td><td>82780004</td></tr>\n",
       "<tr><td>29.10984648746462</td><td>-6.773631608498949</td><td>8.964369327895923</td><td>9.277995851392218</td><td>0.68488147939582</td><td>0.7505934902982943</td><td>0.3416187346942074</td><td>0.33412370724967955</td><td>82780004</td></tr>\n",
       "<tr><td>29.096387207795175</td><td>-6.773254081977553</td><td>9.609378978233654</td><td>9.781736022259167</td><td>1.3974949703741257</td><td>1.351927625378016</td><td>0.3468336228564603</td><td>0.33638028626730443</td><td>82780004</td></tr>\n",
       "<tr><td>29.049894596351326</td><td>-6.773429459673613</td><td>8.487750072650359</td><td>8.58201542761342</td><td>0.7521871252629736</td><td>0.824842172002222</td><td>0.21432949229375003</td><td>0.3634457308277176</td><td>82780004</td></tr>\n",
       "<tr><td>29.098610255564555</td><td>-6.773342043991594</td><td>8.860941388968946</td><td>9.011862573438869</td><td>1.3711549735376818</td><td>1.3076774703865652</td><td>0.3753031117269348</td><td>0.36878939794088395</td><td>82780004</td></tr>\n",
       "<tr><td>...</td><td>...</td><td>...</td><td>...</td><td>...</td><td>...</td><td>...</td><td>...</td><td>...</td></tr>\n",
       "<tr><td>213.90937654673772</td><td>53.18638864864173</td><td>7.046300530513417</td><td>7.198280155374794</td><td>0.4932236868676105</td><td>0.4711792371608386</td><td>0.34094913607740773</td><td>0.322128040361388</td><td>169730806</td></tr>\n",
       "<tr><td>213.89235322339857</td><td>53.21437135515517</td><td>7.22305279369054</td><td>7.4119313354915475</td><td>0.39964957101912935</td><td>0.3909945740530648</td><td>0.3423056462366525</td><td>0.3169992891959129</td><td>169730806</td></tr>\n",
       "<tr><td>213.8921000830188</td><td>53.21376977390978</td><td>7.052455359514247</td><td>7.204627962088674</td><td>0.3736613943094353</td><td>0.35874573965608697</td><td>0.3482358068102912</td><td>0.33324259587311866</td><td>169730806</td></tr>\n",
       "<tr><td>213.88924693059377</td><td>53.21989470071096</td><td>6.862337228866239</td><td>7.050514335953422</td><td>0.2833756792509724</td><td>0.2668520183534229</td><td>0.40194477381185056</td><td>0.36603346833433187</td><td>169730806</td></tr>\n",
       "<tr><td>213.87825951856232</td><td>53.24095083437476</td><td>7.741015620025216</td><td>8.027395269495054</td><td>0.2801380132636006</td><td>0.2779373613419837</td><td>0.4015577582741608</td><td>0.3466575043565804</td><td>169730806</td></tr>\n",
       "<tr><td>213.90558452881055</td><td>53.24710141174297</td><td>7.9676579269827945</td><td>8.176429159969905</td><td>0.8791900707433865</td><td>0.9024749247240602</td><td>0.36139649863236084</td><td>0.3550328936741498</td><td>169730806</td></tr>\n",
       "<tr><td>213.90602172554313</td><td>53.24722472245111</td><td>7.540834629175217</td><td>7.713142557921953</td><td>0.6524756205982716</td><td>0.6483627739948776</td><td>0.3434966480463192</td><td>0.33080539857081787</td><td>169730806</td></tr>\n",
       "<tr><td>213.88861027838306</td><td>53.25148278667229</td><td>7.609881048529837</td><td>7.924707474642083</td><td>0.49456467446324975</td><td>0.5412695970794799</td><td>0.3521993421196045</td><td>0.32674844944126874</td><td>169730806</td></tr>\n",
       "<tr><td>213.8891779527558</td><td>53.25111281879681</td><td>7.700271709606913</td><td>7.854512526755685</td><td>0.601117452713199</td><td>0.5967075861040612</td><td>0.3252868132862194</td><td>0.32596413927911005</td><td>169730806</td></tr>\n",
       "<tr><td>213.91304890213354</td><td>53.2576421336773</td><td>7.740387373207939</td><td>7.88651007787491</td><td>0.7362846590517038</td><td>0.7229184405115484</td><td>0.3469689331466864</td><td>0.34727887292164206</td><td>169730806</td></tr>\n",
       "</table></div>"
      ],
      "text/plain": [
       "<Table length=174900944>\n",
       "        ra                dec         ...       g_r0p65       skymap_id\n",
       "     float64            float64       ...       float64         int32  \n",
       "------------------ ------------------ ... ------------------- ---------\n",
       " 29.11596307549589 -6.775140624839325 ...  0.7220271839628579  82780004\n",
       "29.097010963966863  -6.77468933995016 ...  0.2938274893214301  82780004\n",
       "29.126665626064202  -6.77473359426081 ...   0.399844961457389  82780004\n",
       "29.067357382379907 -6.774723759969203 ... 0.42081097926290356  82780004\n",
       " 29.11473313855873 -6.774551113549213 ...  0.3694883636758057  82780004\n",
       "29.108439423590077 -6.773931553803997 ...  0.6062173938957633  82780004\n",
       " 29.10984648746462 -6.773631608498949 ... 0.33412370724967955  82780004\n",
       "29.096387207795175 -6.773254081977553 ... 0.33638028626730443  82780004\n",
       "29.049894596351326 -6.773429459673613 ...  0.3634457308277176  82780004\n",
       "29.098610255564555 -6.773342043991594 ... 0.36878939794088395  82780004\n",
       "               ...                ... ...                 ...       ...\n",
       "213.90937654673772  53.18638864864173 ...   0.322128040361388 169730806\n",
       "213.89235322339857  53.21437135515517 ...  0.3169992891959129 169730806\n",
       " 213.8921000830188  53.21376977390978 ... 0.33324259587311866 169730806\n",
       "213.88924693059377  53.21989470071096 ... 0.36603346833433187 169730806\n",
       "213.87825951856232  53.24095083437476 ...  0.3466575043565804 169730806\n",
       "213.90558452881055  53.24710141174297 ...  0.3550328936741498 169730806\n",
       "213.90602172554313  53.24722472245111 ... 0.33080539857081787 169730806\n",
       "213.88861027838306  53.25148278667229 ... 0.32674844944126874 169730806\n",
       " 213.8891779527558  53.25111281879681 ... 0.32596413927911005 169730806\n",
       "213.91304890213354   53.2576421336773 ... 0.34727887292164206 169730806"
      ]
     },
     "execution_count": 7,
     "metadata": {},
     "output_type": "execute_result"
    }
   ],
   "source": [
    "me"
   ]
  },
  {
   "cell_type": "code",
   "execution_count": 53,
   "id": "534d5420-9c0e-4a34-950f-e23b12cc6902",
   "metadata": {
    "execution": {
     "iopub.execute_input": "2021-12-05T13:39:51.543250Z",
     "iopub.status.busy": "2021-12-05T13:39:51.542714Z",
     "iopub.status.idle": "2021-12-05T13:40:51.073555Z",
     "shell.execute_reply": "2021-12-05T13:40:51.072113Z",
     "shell.execute_reply.started": "2021-12-05T13:39:51.543197Z"
    },
    "tags": []
   },
   "outputs": [],
   "source": [
    "satnew = satellite[star['z_extendedness_value'] == 1]"
   ]
  },
  {
   "cell_type": "code",
   "execution_count": 54,
   "id": "87ef4592-baae-4f23-b9c6-2dc5d29b7c99",
   "metadata": {
    "execution": {
     "iopub.execute_input": "2021-12-05T13:40:51.075281Z",
     "iopub.status.busy": "2021-12-05T13:40:51.074958Z",
     "iopub.status.idle": "2021-12-05T13:41:13.660429Z",
     "shell.execute_reply": "2021-12-05T13:41:13.659368Z",
     "shell.execute_reply.started": "2021-12-05T13:40:51.075258Z"
    },
    "tags": []
   },
   "outputs": [
    {
     "data": {
      "text/plain": [
       "[<matplotlib.lines.Line2D at 0x2abb9f95acd0>]"
      ]
     },
     "execution_count": 54,
     "metadata": {},
     "output_type": "execute_result"
    },
    {
     "data": {
      "image/png": "[encoded data removed]",
      "text/plain": [
       "<Figure size 432x288 with 1 Axes>"
      ]
     },
     "metadata": {
      "needs_background": "light"
     },
     "output_type": "display_data"
    }
   ],
   "source": [
    "plt.hist2d(satnew['mass0p55'],me['mass0p55'],bins = 50)\n",
    "plt.xlim(9,12)\n",
    "plt.ylim(9,12)\n",
    "plt.plot([9,12],[9,12])"
   ]
  },
  {
   "cell_type": "code",
   "execution_count": 55,
   "id": "b89754d0-0f2c-4bab-87f9-0c16f7f98169",
   "metadata": {
    "execution": {
     "iopub.execute_input": "2021-12-05T14:01:11.893346Z",
     "iopub.status.busy": "2021-12-05T14:01:11.893050Z",
     "iopub.status.idle": "2021-12-05T14:01:30.213317Z",
     "shell.execute_reply": "2021-12-05T14:01:30.212850Z",
     "shell.execute_reply.started": "2021-12-05T14:01:11.893323Z"
    },
    "tags": []
   },
   "outputs": [
    {
     "data": {
      "text/plain": [
       "(5.0, 12.0)"
      ]
     },
     "execution_count": 55,
     "metadata": {},
     "output_type": "execute_result"
    },
    {
     "data": {
      "image/png": "[encoded data removed]",
      "text/plain": [
       "<Figure size 432x288 with 1 Axes>"
      ]
     },
     "metadata": {
      "needs_background": "light"
     },
     "output_type": "display_data"
    }
   ],
   "source": [
    "plt.hist2d(satnew['mass0p55'],me['mass0p55'])\n",
    "plt.plot([5,12],[5,12])\n",
    "plt.xlim(5,12)\n",
    "plt.ylim(5,12)"
   ]
  },
  {
   "cell_type": "code",
   "execution_count": 58,
   "id": "75c66a6d-249c-4201-9310-d5e81552ecf1",
   "metadata": {
    "execution": {
     "iopub.execute_input": "2021-12-05T14:15:02.450640Z",
     "iopub.status.busy": "2021-12-05T14:15:02.450365Z",
     "iopub.status.idle": "2021-12-05T14:15:02.454373Z",
     "shell.execute_reply": "2021-12-05T14:15:02.453622Z",
     "shell.execute_reply.started": "2021-12-05T14:15:02.450624Z"
    },
    "tags": []
   },
   "outputs": [],
   "source": [
    "r = np.logspace(-2, 2, 21)\n",
    "r = r[4:-2]"
   ]
  },
  {
   "cell_type": "code",
   "execution_count": 59,
   "id": "a39c22eb-d2c2-4398-af96-5f03c77ff058",
   "metadata": {
    "execution": {
     "iopub.execute_input": "2021-12-05T14:15:03.487525Z",
     "iopub.status.busy": "2021-12-05T14:15:03.487402Z",
     "iopub.status.idle": "2021-12-05T14:15:07.442609Z",
     "shell.execute_reply": "2021-12-05T14:15:07.442249Z",
     "shell.execute_reply.started": "2021-12-05T14:15:03.487512Z"
    },
    "tags": []
   },
   "outputs": [
    {
     "data": {
      "text/plain": [
       "array([ 0.06309573,  0.1       ,  0.15848932,  0.25118864,  0.39810717,\n",
       "        0.63095734,  1.        ,  1.58489319,  2.51188643,  3.98107171,\n",
       "        6.30957344, 10.        , 15.84893192, 25.11886432, 39.81071706])"
      ]
     },
     "execution_count": 59,
     "metadata": {},
     "output_type": "execute_result"
    }
   ],
   "source": [
    "r"
   ]
  },
  {
   "cell_type": "code",
   "execution_count": null,
   "id": "db45e016-77ce-45e5-b29e-d0eb95b75289",
   "metadata": {},
   "outputs": [],
   "source": []
  }
 ],
 "metadata": {
  "kernelspec": {
   "display_name": "numba38",
   "language": "python",
   "name": "numba38"
  },
  "language_info": {
   "codemirror_mode": {
    "name": "ipython",
    "version": 3
   },
   "file_extension": ".py",
   "mimetype": "text/x-python",
   "name": "python",
   "nbconvert_exporter": "python",
   "pygments_lexer": "ipython3",
   "version": "3.8.12"
  },
  "toc-autonumbering": true
 },
 "nbformat": 4,
 "nbformat_minor": 5
}
