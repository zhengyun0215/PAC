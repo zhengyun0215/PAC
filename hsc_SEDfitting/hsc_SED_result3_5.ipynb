{
 "cells": [
  {
   "cell_type": "markdown",
   "id": "90f8afd2-4fa3-41be-a35a-bc9e2632a23f",
   "metadata": {},
   "source": [
    "# Load package"
   ]
  },
  {
   "cell_type": "code",
   "execution_count": 1,
   "id": "6895bd38-b7db-407d-b2e6-e70b762f2214",
   "metadata": {
    "execution": {
     "iopub.execute_input": "2022-06-06T06:33:11.967128Z",
     "iopub.status.busy": "2022-06-06T06:33:11.966743Z",
     "iopub.status.idle": "2022-06-06T06:33:23.021335Z",
     "shell.execute_reply": "2022-06-06T06:33:23.020610Z",
     "shell.execute_reply.started": "2022-06-06T06:33:11.967062Z"
    },
    "tags": []
   },
   "outputs": [],
   "source": [
    "# from astropy import table\n",
    "import numpy as np\n",
    "import matplotlib.pyplot as plt\n",
    "import matplotlib as mpl\n",
    "%matplotlib inline\n",
    "from astropy.table import Table,Column,hstack\n",
    "from astropy.io import fits"
   ]
  },
  {
   "cell_type": "markdown",
   "id": "52d9a95f-b712-41e3-9472-bc22b77c7347",
   "metadata": {},
   "source": [
    "# Load data"
   ]
  },
  {
   "cell_type": "code",
   "execution_count": 2,
   "id": "bf3b8c17-30ce-48ff-afa2-ca275d78c134",
   "metadata": {
    "execution": {
     "iopub.execute_input": "2021-12-05T14:42:46.071260Z",
     "iopub.status.busy": "2021-12-05T14:42:46.071082Z",
     "iopub.status.idle": "2021-12-05T14:42:46.223659Z",
     "shell.execute_reply": "2021-12-05T14:42:46.222664Z",
     "shell.execute_reply.started": "2021-12-05T14:42:46.071237Z"
    },
    "tags": []
   },
   "outputs": [
    {
     "name": "stdout",
     "output_type": "stream",
     "text": [
      "/home/yunzheng/PAC/code/hsc_SEDfitting\n"
     ]
    }
   ],
   "source": [
    "!pwd"
   ]
  },
  {
   "cell_type": "code",
   "execution_count": 34,
   "id": "564c14db-eafe-4408-9cd5-4dba482655e7",
   "metadata": {
    "execution": {
     "iopub.execute_input": "2021-11-28T15:00:46.953807Z",
     "iopub.status.busy": "2021-11-28T15:00:46.953620Z",
     "iopub.status.idle": "2021-11-28T15:00:51.625309Z",
     "shell.execute_reply": "2021-11-28T15:00:51.623965Z",
     "shell.execute_reply.started": "2021-11-28T15:00:46.953785Z"
    }
   },
   "outputs": [],
   "source": [
    "u = Table.read(\"/home/yunzheng/PAC/code/hsc_SEDfitting/0p35/u.fits\")\n",
    "r = Table.read(\"/home/yunzheng/PAC/code/hsc_SEDfitting/0p35/r.fits\")\n",
    "g = Table.read(\"/home/yunzheng/PAC/code/hsc_SEDfitting/0p35/g.fits\")"
   ]
  },
  {
   "cell_type": "code",
   "execution_count": 53,
   "id": "a1f609fa-0f3f-408a-9b40-802615006703",
   "metadata": {
    "execution": {
     "iopub.execute_input": "2021-11-28T15:07:12.778029Z",
     "iopub.status.busy": "2021-11-28T15:07:12.777871Z",
     "iopub.status.idle": "2021-11-28T15:07:14.200379Z",
     "shell.execute_reply": "2021-11-28T15:07:14.199817Z",
     "shell.execute_reply.started": "2021-11-28T15:07:12.778014Z"
    },
    "tags": []
   },
   "outputs": [],
   "source": [
    "result0 = Table.read(\"/home/yunzheng/PAC/code/hsc_SEDfitting/0p35/0/out/results.fits\")"
   ]
  },
  {
   "cell_type": "code",
   "execution_count": 54,
   "id": "f3ada45a-abe4-40f4-969e-29694f781cbc",
   "metadata": {
    "collapsed": true,
    "execution": {
     "iopub.execute_input": "2021-11-28T15:07:18.370527Z",
     "iopub.status.busy": "2021-11-28T15:07:18.370285Z",
     "iopub.status.idle": "2021-11-28T15:07:18.374777Z",
     "shell.execute_reply": "2021-11-28T15:07:18.374395Z",
     "shell.execute_reply.started": "2021-11-28T15:07:18.370495Z"
    },
    "jupyter": {
     "outputs_hidden": true
    },
    "tags": []
   },
   "outputs": [
    {
     "data": {
      "text/html": [
       "&lt;MaskedColumn name=&apos;bayes.param.restframe_Lnu(sdss.up)&apos; dtype=&apos;float64&apos; unit=&apos;W&apos; length=5&gt;\n",
       "<table>\n",
       "<tr><td>1.2531967093922847e+20</td></tr>\n",
       "<tr><td>2.8968302408119547e+20</td></tr>\n",
       "<tr><td>5.365306015645417e+19</td></tr>\n",
       "<tr><td>4.67798429670142e+19</td></tr>\n",
       "<tr><td>1.1496707038448955e+20</td></tr>\n",
       "</table>"
      ],
      "text/plain": [
       "<MaskedColumn name='bayes.param.restframe_Lnu(sdss.up)' dtype='float64' unit='W' length=5>\n",
       "1.2531967093922847e+20\n",
       "2.8968302408119547e+20\n",
       " 5.365306015645417e+19\n",
       "  4.67798429670142e+19\n",
       "1.1496707038448955e+20"
      ]
     },
     "execution_count": 54,
     "metadata": {},
     "output_type": "execute_result"
    }
   ],
   "source": [
    "result0['bayes.param.restframe_Lnu(sdss.up)'][:5]"
   ]
  },
  {
   "cell_type": "code",
   "execution_count": 8,
   "id": "622efe82-a250-4896-8326-4e6d8197f4ec",
   "metadata": {
    "collapsed": true,
    "execution": {
     "iopub.execute_input": "2021-11-29T08:07:15.159676Z",
     "iopub.status.busy": "2021-11-29T08:07:15.159375Z",
     "iopub.status.idle": "2021-11-29T08:07:15.165671Z",
     "shell.execute_reply": "2021-11-29T08:07:15.165200Z",
     "shell.execute_reply.started": "2021-11-29T08:07:15.159650Z"
    },
    "jupyter": {
     "outputs_hidden": true
    },
    "tags": []
   },
   "outputs": [
    {
     "data": {
      "text/html": [
       "&lt;MaskedColumn name=&apos;bayes.param.restframe_Lnu(DECam.r)&apos; dtype=&apos;float64&apos; unit=&apos;W&apos; length=5&gt;\n",
       "<table>\n",
       "<tr><td>2.426781416296346e+21</td></tr>\n",
       "<tr><td>1.089902782581113e+21</td></tr>\n",
       "<tr><td>2.992110075076888e+20</td></tr>\n",
       "<tr><td>3.040501542972804e+20</td></tr>\n",
       "<tr><td>3.0994092485754506e+20</td></tr>\n",
       "</table>"
      ],
      "text/plain": [
       "<MaskedColumn name='bayes.param.restframe_Lnu(DECam.r)' dtype='float64' unit='W' length=5>\n",
       " 2.426781416296346e+21\n",
       " 1.089902782581113e+21\n",
       " 2.992110075076888e+20\n",
       " 3.040501542972804e+20\n",
       "3.0994092485754506e+20"
      ]
     },
     "execution_count": 8,
     "metadata": {},
     "output_type": "execute_result"
    }
   ],
   "source": [
    "result0['bayes.param.restframe_Lnu(DECam.r)'][:5]"
   ]
  },
  {
   "cell_type": "markdown",
   "id": "4020af25-3c8e-4f48-91bb-41d93e5137e9",
   "metadata": {},
   "source": [
    "# Load data\n"
   ]
  },
  {
   "cell_type": "markdown",
   "id": "7ee146cd-5f4a-4957-9624-180ebea18e34",
   "metadata": {},
   "source": [
    "## satlellite original file"
   ]
  },
  {
   "cell_type": "code",
   "execution_count": 2,
   "id": "baac5960-95c8-4aba-953c-6c2c34cc607c",
   "metadata": {
    "execution": {
     "iopub.execute_input": "2022-06-06T06:33:39.966059Z",
     "iopub.status.busy": "2022-06-06T06:33:39.965892Z",
     "iopub.status.idle": "2022-06-06T06:34:01.961177Z",
     "shell.execute_reply": "2022-06-06T06:34:01.960029Z",
     "shell.execute_reply.started": "2022-06-06T06:33:39.966026Z"
    },
    "tags": []
   },
   "outputs": [],
   "source": [
    "satellite = Table.read(\"/home/kunxu/red_disk/PCF/satellite_2.fits\")"
   ]
  },
  {
   "cell_type": "code",
   "execution_count": 3,
   "id": "fb116f8b-4e2a-4960-8a4c-97cee11262a3",
   "metadata": {
    "execution": {
     "iopub.execute_input": "2022-06-06T06:34:01.963190Z",
     "iopub.status.busy": "2022-06-06T06:34:01.962832Z",
     "iopub.status.idle": "2022-06-06T06:34:02.051756Z",
     "shell.execute_reply": "2022-06-06T06:34:02.050916Z",
     "shell.execute_reply.started": "2022-06-06T06:34:01.963168Z"
    },
    "tags": []
   },
   "outputs": [],
   "source": [
    "star = fits.getdata('/home/kunxu/red_disk/PCF/star_flag_sort.fits', 1)"
   ]
  },
  {
   "cell_type": "markdown",
   "id": "e716641d-d2df-4998-9db3-893b80c76874",
   "metadata": {},
   "source": [
    "## save satellite : 0.3 - 0.5"
   ]
  },
  {
   "cell_type": "code",
   "execution_count": 4,
   "id": "7662bf82-5193-4123-92b0-0ef6eeed8fd6",
   "metadata": {
    "execution": {
     "iopub.execute_input": "2022-06-06T06:34:11.213227Z",
     "iopub.status.busy": "2022-06-06T06:34:11.213067Z",
     "iopub.status.idle": "2022-06-06T06:35:58.087050Z",
     "shell.execute_reply": "2022-06-06T06:35:58.085645Z",
     "shell.execute_reply.started": "2022-06-06T06:34:11.213211Z"
    },
    "tags": []
   },
   "outputs": [],
   "source": [
    "sat3 = Table.read(\"./results_0p35_new.fits\")\n",
    "sat4 = Table.read(\"./results_0p45_new.fits\")"
   ]
  },
  {
   "cell_type": "markdown",
   "id": "4faf977e-d744-4f22-bbec-309183a8dea0",
   "metadata": {},
   "source": [
    "### mass fits file"
   ]
  },
  {
   "cell_type": "code",
   "execution_count": 5,
   "id": "a50e0d89-dcf3-4403-a3d4-c18050ecc376",
   "metadata": {
    "execution": {
     "iopub.execute_input": "2021-12-05T14:44:05.308146Z",
     "iopub.status.busy": "2021-12-05T14:44:05.307863Z",
     "iopub.status.idle": "2021-12-05T14:44:07.617027Z",
     "shell.execute_reply": "2021-12-05T14:44:07.616233Z",
     "shell.execute_reply.started": "2021-12-05T14:44:05.308121Z"
    },
    "tags": []
   },
   "outputs": [],
   "source": [
    "# mass35 = fits.open(\"/home/yunzheng/PAC/code/hsc_SEDfitting/0p35/mass.fits\")\n",
    "# mass45 = fits.open(\"/home/yunzheng/PAC/code/hsc_SEDfitting/0p45/mass.fits\")"
   ]
  },
  {
   "cell_type": "code",
   "execution_count": 12,
   "id": "3602ac37-ab12-44ae-8689-13a94d758513",
   "metadata": {
    "collapsed": true,
    "execution": {
     "iopub.execute_input": "2021-11-29T08:08:59.042917Z",
     "iopub.status.busy": "2021-11-29T08:08:59.042686Z",
     "iopub.status.idle": "2021-11-29T08:09:17.745546Z",
     "shell.execute_reply": "2021-11-29T08:09:17.745062Z",
     "shell.execute_reply.started": "2021-11-29T08:08:59.042900Z"
    },
    "jupyter": {
     "outputs_hidden": true
    },
    "tags": []
   },
   "outputs": [
    {
     "name": "stderr",
     "output_type": "stream",
     "text": [
      "/tmp/ipykernel_218525/2092486031.py:3: RuntimeWarning: divide by zero encountered in log10\n",
      "  mass35new = np.log10(mass35new,dtype = \"f8\")\n",
      "/tmp/ipykernel_218525/2092486031.py:4: RuntimeWarning: divide by zero encountered in log10\n",
      "  mass45new = np.log10(mass45new,dtype=\"f8\")\n"
     ]
    }
   ],
   "source": [
    "# mass35new = np.array(mass35[1].data,dtype = 'f8')\n",
    "# mass45new = np.array(mass45[1].data,dtype = \"f8\")\n",
    "# mass35new = np.log10(mass35new,dtype = \"f8\")\n",
    "# mass45new = np.log10(mass45new,dtype=\"f8\")"
   ]
  },
  {
   "cell_type": "code",
   "execution_count": 5,
   "id": "be912da6-8e3d-45e5-ad5a-14c04ad8cfd7",
   "metadata": {
    "execution": {
     "iopub.execute_input": "2022-06-06T06:35:58.088668Z",
     "iopub.status.busy": "2022-06-06T06:35:58.088382Z",
     "iopub.status.idle": "2022-06-06T06:35:58.092338Z",
     "shell.execute_reply": "2022-06-06T06:35:58.091549Z",
     "shell.execute_reply.started": "2022-06-06T06:35:58.088646Z"
    },
    "tags": []
   },
   "outputs": [],
   "source": [
    "# mass35 = sat3['best.stellar.m_star']\n",
    "# mass45 = sat4['best.stellar.m_star']\n",
    "mass35 = sat3['bayes.stellar.m_star']\n",
    "mass45 = sat4['bayes.stellar.m_star']"
   ]
  },
  {
   "cell_type": "code",
   "execution_count": 6,
   "id": "5169259c-2f4b-4f54-a850-a3e9e7c01b7b",
   "metadata": {
    "execution": {
     "iopub.execute_input": "2022-06-06T06:36:18.047574Z",
     "iopub.status.busy": "2022-06-06T06:36:18.047393Z",
     "iopub.status.idle": "2022-06-06T06:36:48.262857Z",
     "shell.execute_reply": "2022-06-06T06:36:48.261878Z",
     "shell.execute_reply.started": "2022-06-06T06:36:18.047556Z"
    },
    "tags": []
   },
   "outputs": [
    {
     "name": "stderr",
     "output_type": "stream",
     "text": [
      "/tmp/ipykernel_302132/2987997262.py:1: RuntimeWarning: divide by zero encountered in log10\n",
      "  mass35new = np.array(np.log10(mass35))\n",
      "/tmp/ipykernel_302132/2987997262.py:2: RuntimeWarning: divide by zero encountered in log10\n",
      "  mass45new = np.array(np.log10(mass45))\n"
     ]
    }
   ],
   "source": [
    "mass35new = np.array(np.log10(mass35))\n",
    "mass45new = np.array(np.log10(mass45))"
   ]
  },
  {
   "cell_type": "code",
   "execution_count": 7,
   "id": "725e4724-e839-41c2-99bb-f2f78048d533",
   "metadata": {
    "execution": {
     "iopub.execute_input": "2022-06-06T06:37:06.133654Z",
     "iopub.status.busy": "2022-06-06T06:37:06.133477Z",
     "iopub.status.idle": "2022-06-06T06:37:06.298089Z",
     "shell.execute_reply": "2022-06-06T06:37:06.297194Z",
     "shell.execute_reply.started": "2022-06-06T06:37:06.133638Z"
    },
    "tags": []
   },
   "outputs": [
    {
     "data": {
      "text/plain": [
       "1.0"
      ]
     },
     "execution_count": 7,
     "metadata": {},
     "output_type": "execute_result"
    }
   ],
   "source": [
    "np.min(mass35new)"
   ]
  },
  {
   "cell_type": "code",
   "execution_count": 8,
   "id": "a64a8825-b978-4766-a309-970f64f66a33",
   "metadata": {
    "execution": {
     "iopub.execute_input": "2022-06-06T06:37:08.994580Z",
     "iopub.status.busy": "2022-06-06T06:37:08.994219Z",
     "iopub.status.idle": "2022-06-06T06:37:09.159317Z",
     "shell.execute_reply": "2022-06-06T06:37:09.158890Z",
     "shell.execute_reply.started": "2022-06-06T06:37:08.994557Z"
    },
    "tags": []
   },
   "outputs": [
    {
     "data": {
      "text/plain": [
       "12.924009941011867"
      ]
     },
     "execution_count": 8,
     "metadata": {},
     "output_type": "execute_result"
    }
   ],
   "source": [
    "np.max(mass35new)"
   ]
  },
  {
   "cell_type": "markdown",
   "id": "c56f7fe2-f61e-4f28-982c-81ee7171150e",
   "metadata": {},
   "source": [
    "### color"
   ]
  },
  {
   "cell_type": "code",
   "execution_count": 13,
   "id": "8927f06d-d87a-4499-b057-a2eeb661e54d",
   "metadata": {
    "execution": {
     "iopub.execute_input": "2021-11-29T08:09:29.064195Z",
     "iopub.status.busy": "2021-11-29T08:09:29.063937Z",
     "iopub.status.idle": "2021-11-29T08:09:29.168468Z",
     "shell.execute_reply": "2021-11-29T08:09:29.168097Z",
     "shell.execute_reply.started": "2021-11-29T08:09:29.064172Z"
    },
    "tags": []
   },
   "outputs": [],
   "source": [
    "# u35 = fits.open(\"/home/yunzheng/PAC/code/hsc_SEDfitting/0p35/u.fits\")\n",
    "# u45 = fits.open(\"/home/yunzheng/PAC/code/hsc_SEDfitting/0p45/u.fits\")"
   ]
  },
  {
   "cell_type": "code",
   "execution_count": 14,
   "id": "1c527ef5-dc47-42c2-992a-fa7c567a6aae",
   "metadata": {
    "execution": {
     "iopub.execute_input": "2021-11-29T08:09:48.104321Z",
     "iopub.status.busy": "2021-11-29T08:09:48.104131Z",
     "iopub.status.idle": "2021-11-29T08:09:51.824801Z",
     "shell.execute_reply": "2021-11-29T08:09:51.824244Z",
     "shell.execute_reply.started": "2021-11-29T08:09:48.104303Z"
    },
    "tags": []
   },
   "outputs": [],
   "source": [
    "# u35new = np.array(u35[1].data,dtype = 'f8')\n",
    "# u45new = np.array(u45[1].data,dtype = 'f8')"
   ]
  },
  {
   "cell_type": "code",
   "execution_count": 15,
   "id": "6c23a4c5-e2b7-46e8-9f49-9dc4588ccd8a",
   "metadata": {
    "execution": {
     "iopub.execute_input": "2021-11-29T08:10:16.042731Z",
     "iopub.status.busy": "2021-11-29T08:10:16.042277Z",
     "iopub.status.idle": "2021-11-29T08:10:16.273105Z",
     "shell.execute_reply": "2021-11-29T08:10:16.272719Z",
     "shell.execute_reply.started": "2021-11-29T08:10:16.042708Z"
    },
    "tags": []
   },
   "outputs": [],
   "source": [
    "# r35 = fits.open(\"/home/yunzheng/PAC/code/hsc_SEDfitting/0p35/r.fits\")\n",
    "# r45 = fits.open(\"/home/yunzheng/PAC/code/hsc_SEDfitting/0p45/r.fits\")"
   ]
  },
  {
   "cell_type": "code",
   "execution_count": 16,
   "id": "2f426c0c-3210-449b-b668-ac6f3f42de8b",
   "metadata": {
    "execution": {
     "iopub.execute_input": "2021-11-29T08:10:27.043796Z",
     "iopub.status.busy": "2021-11-29T08:10:27.043593Z",
     "iopub.status.idle": "2021-11-29T08:10:30.640551Z",
     "shell.execute_reply": "2021-11-29T08:10:30.640006Z",
     "shell.execute_reply.started": "2021-11-29T08:10:27.043778Z"
    },
    "tags": []
   },
   "outputs": [],
   "source": [
    "# r35new = np.array(r35[1].data,dtype = 'f8')\n",
    "# r45new = np.array(r45[1].data,dtype = 'f8')"
   ]
  },
  {
   "cell_type": "code",
   "execution_count": 17,
   "id": "3237c84b-ef2c-4c9b-aa89-2784accb2ca9",
   "metadata": {
    "execution": {
     "iopub.execute_input": "2021-11-29T08:10:52.207152Z",
     "iopub.status.busy": "2021-11-29T08:10:52.206891Z",
     "iopub.status.idle": "2021-11-29T08:10:52.288091Z",
     "shell.execute_reply": "2021-11-29T08:10:52.287707Z",
     "shell.execute_reply.started": "2021-11-29T08:10:52.207131Z"
    },
    "tags": []
   },
   "outputs": [],
   "source": [
    "# g35 = fits.open(\"/home/yunzheng/PAC/code/hsc_SEDfitting/0p35/g.fits\")\n",
    "# g45 = fits.open(\"/home/yunzheng/PAC/code/hsc_SEDfitting/0p45/g.fits\")"
   ]
  },
  {
   "cell_type": "code",
   "execution_count": 18,
   "id": "204561fd-8bca-44d7-a75c-93c956dbf431",
   "metadata": {
    "execution": {
     "iopub.execute_input": "2021-11-29T08:11:00.115237Z",
     "iopub.status.busy": "2021-11-29T08:11:00.115054Z",
     "iopub.status.idle": "2021-11-29T08:11:04.258366Z",
     "shell.execute_reply": "2021-11-29T08:11:04.257625Z",
     "shell.execute_reply.started": "2021-11-29T08:11:00.115220Z"
    },
    "tags": []
   },
   "outputs": [],
   "source": [
    "# g35new = np.array(g35[1].data,dtype = 'f8')\n",
    "# g45new = np.array(g45[1].data,dtype = 'f8')"
   ]
  },
  {
   "cell_type": "code",
   "execution_count": 19,
   "id": "9504856e-de3b-4a21-90fe-abcbd1f98ff8",
   "metadata": {
    "execution": {
     "iopub.execute_input": "2021-12-05T16:21:57.506569Z",
     "iopub.status.busy": "2021-12-05T16:21:57.505983Z",
     "iopub.status.idle": "2021-12-05T16:21:57.510315Z",
     "shell.execute_reply": "2021-12-05T16:21:57.509720Z",
     "shell.execute_reply.started": "2021-12-05T16:21:57.506534Z"
    },
    "tags": []
   },
   "outputs": [],
   "source": [
    "# u_r35 = -2.5 * np.log10(u35new / r35new)\n",
    "# u_r45 = -2.5 * np.log10(u45new / r45new)\n",
    "\n",
    "# g_r35 = -2.5 * np.log10(g35new / r35new)\n",
    "# g_r45 = -2.5 * np.log10(g45new / r45new)"
   ]
  },
  {
   "cell_type": "code",
   "execution_count": 10,
   "id": "2c8600a7-b6a5-4cd6-8895-4bb0a198acd7",
   "metadata": {
    "execution": {
     "iopub.execute_input": "2022-05-16T17:14:59.016946Z",
     "iopub.status.busy": "2022-05-16T17:14:59.016516Z",
     "iopub.status.idle": "2022-05-16T17:15:23.998501Z",
     "shell.execute_reply": "2022-05-16T17:15:23.997415Z",
     "shell.execute_reply.started": "2022-05-16T17:14:59.016927Z"
    },
    "tags": []
   },
   "outputs": [],
   "source": [
    "# u_r35 = np.array(sat3['best.param.restframe_sdss.up-sdss.rp'])\n",
    "# u_r45 = np.array(sat4['best.param.restframe_sdss.up-sdss.rp'])\n",
    "\n",
    "# g_r35 = np.array(sat3['best.param.restframe_sdss.gp-sdss.rp'])\n",
    "# g_r45 = np.array(sat4['best.param.restframe_sdss.gp-sdss.rp'])"
   ]
  },
  {
   "cell_type": "code",
   "execution_count": 9,
   "id": "7554ee7e-e42d-4a54-8bad-3aa6ffb5b03a",
   "metadata": {
    "execution": {
     "iopub.execute_input": "2022-06-06T06:38:40.970692Z",
     "iopub.status.busy": "2022-06-06T06:38:40.970511Z",
     "iopub.status.idle": "2022-06-06T06:39:11.164277Z",
     "shell.execute_reply": "2022-06-06T06:39:11.162973Z",
     "shell.execute_reply.started": "2022-06-06T06:38:40.970675Z"
    }
   },
   "outputs": [
    {
     "name": "stderr",
     "output_type": "stream",
     "text": [
      "/tmp/ipykernel_302132/248494442.py:3: RuntimeWarning: divide by zero encountered in log10\n",
      "  u_r35 = -2.5 * np.log10(u35 / r35)\n"
     ]
    }
   ],
   "source": [
    "u35 = sat3['bayes.param.restframe_Lnu(sdss.up)']\n",
    "r35 = sat3['bayes.param.restframe_Lnu(sdss.rp)']\n",
    "u_r35 = -2.5 * np.log10(u35 / r35)\n",
    "u_r35 = np.array(u_r35)"
   ]
  },
  {
   "cell_type": "code",
   "execution_count": 11,
   "id": "a0c9c1d7-fb13-4f5c-bbdd-12b5f4b64b8c",
   "metadata": {
    "execution": {
     "iopub.execute_input": "2022-06-06T06:39:36.038797Z",
     "iopub.status.busy": "2022-06-06T06:39:36.038631Z",
     "iopub.status.idle": "2022-06-06T06:39:36.186445Z",
     "shell.execute_reply": "2022-06-06T06:39:36.185929Z",
     "shell.execute_reply.started": "2022-06-06T06:39:36.038781Z"
    },
    "tags": []
   },
   "outputs": [
    {
     "data": {
      "text/plain": [
       "-2.5"
      ]
     },
     "execution_count": 11,
     "metadata": {},
     "output_type": "execute_result"
    }
   ],
   "source": [
    "np.min(u_r35)"
   ]
  },
  {
   "cell_type": "code",
   "execution_count": 10,
   "id": "7903bd0a-e75d-4a63-8bba-f61e2d0d81f1",
   "metadata": {
    "execution": {
     "iopub.execute_input": "2022-06-06T06:39:11.165797Z",
     "iopub.status.busy": "2022-06-06T06:39:11.165641Z",
     "iopub.status.idle": "2022-06-06T06:39:36.036857Z",
     "shell.execute_reply": "2022-06-06T06:39:36.035896Z",
     "shell.execute_reply.started": "2022-06-06T06:39:11.165782Z"
    },
    "tags": []
   },
   "outputs": [
    {
     "name": "stderr",
     "output_type": "stream",
     "text": [
      "/tmp/ipykernel_302132/751376926.py:3: RuntimeWarning: divide by zero encountered in log10\n",
      "  u_r45 = -2.5 * np.log10(u45 / r45)\n"
     ]
    }
   ],
   "source": [
    "u45 = sat4['bayes.param.restframe_Lnu(sdss.up)']\n",
    "r45 = sat4['bayes.param.restframe_Lnu(sdss.rp)']\n",
    "u_r45 = -2.5 * np.log10(u45 / r45)\n",
    "u_r45 = np.array(u_r45)"
   ]
  },
  {
   "cell_type": "code",
   "execution_count": 12,
   "id": "614391d6-d752-4fc9-864e-2219d9363a52",
   "metadata": {
    "execution": {
     "iopub.execute_input": "2022-06-06T06:39:43.053432Z",
     "iopub.status.busy": "2022-06-06T06:39:43.053260Z",
     "iopub.status.idle": "2022-06-06T06:39:43.226361Z",
     "shell.execute_reply": "2022-06-06T06:39:43.225942Z",
     "shell.execute_reply.started": "2022-06-06T06:39:43.053414Z"
    },
    "tags": []
   },
   "outputs": [
    {
     "data": {
      "text/plain": [
       "3.739455925692463"
      ]
     },
     "execution_count": 12,
     "metadata": {},
     "output_type": "execute_result"
    }
   ],
   "source": [
    "np.max(u_r45)"
   ]
  },
  {
   "cell_type": "code",
   "execution_count": 13,
   "id": "ce7c36ad-02b2-4c78-9a87-26e7f86c5e55",
   "metadata": {
    "execution": {
     "iopub.execute_input": "2022-06-06T06:39:54.116344Z",
     "iopub.status.busy": "2022-06-06T06:39:54.116218Z",
     "iopub.status.idle": "2022-06-06T06:39:54.119559Z",
     "shell.execute_reply": "2022-06-06T06:39:54.119118Z",
     "shell.execute_reply.started": "2022-06-06T06:39:54.116330Z"
    },
    "tags": []
   },
   "outputs": [
    {
     "data": {
      "text/plain": [
       "(221208319,)"
      ]
     },
     "execution_count": 13,
     "metadata": {},
     "output_type": "execute_result"
    }
   ],
   "source": [
    "u_r35.shape"
   ]
  },
  {
   "cell_type": "markdown",
   "id": "8bdd71e4-6260-466a-a7ea-e63b33e8f2bb",
   "metadata": {},
   "source": [
    "# make table"
   ]
  },
  {
   "cell_type": "code",
   "execution_count": 14,
   "id": "e1c9db0b-efce-4c87-ad96-4cd7428f860b",
   "metadata": {
    "execution": {
     "iopub.execute_input": "2022-06-06T06:40:23.121550Z",
     "iopub.status.busy": "2022-06-06T06:40:23.121402Z",
     "iopub.status.idle": "2022-06-06T06:40:35.409009Z",
     "shell.execute_reply": "2022-06-06T06:40:35.408215Z",
     "shell.execute_reply.started": "2022-06-06T06:40:23.121536Z"
    },
    "tags": []
   },
   "outputs": [],
   "source": [
    "targets = Table()\n",
    "targets.add_column(Column(name = 'ra',length = len(satellite),dtype='f8',data = satellite['ra']))\n",
    "targets.add_column(Column(name = 'dec',length = len(satellite),dtype='f8',data = satellite['dec']))\n",
    "targets.add_column(Column(name = 'mass0p35',length = len(satellite),dtype='f8',data = mass35new))\n",
    "targets.add_column(Column(name = 'mass0p45',length = len(satellite),dtype='f8',data = mass45new))\n",
    "targets.add_column(Column(name = 'u_r0p35',length = len(satellite),dtype='f8',data = u_r35))\n",
    "targets.add_column(Column(name = 'u_r0p45',length = len(satellite),dtype='f8',data = u_r45))\n",
    "# targets.add_column(Column(name = 'g_r0p35',length = len(satellite),dtype='f8',data = g_r35))\n",
    "# targets.add_column(Column(name = 'g_r0p45',length = len(satellite),dtype='f8',data = g_r45))\n",
    "\n",
    "\n",
    "targets.add_column(Column(name = 'skymap_id',length = len(satellite),dtype='i4',data = satellite['skymap_id']))"
   ]
  },
  {
   "cell_type": "code",
   "execution_count": 15,
   "id": "d8b28aa7-0543-4587-8b48-90e861758c31",
   "metadata": {
    "collapsed": true,
    "execution": {
     "iopub.execute_input": "2022-06-06T06:40:56.002802Z",
     "iopub.status.busy": "2022-06-06T06:40:56.002604Z",
     "iopub.status.idle": "2022-06-06T06:40:56.011981Z",
     "shell.execute_reply": "2022-06-06T06:40:56.011047Z",
     "shell.execute_reply.started": "2022-06-06T06:40:56.002783Z"
    },
    "jupyter": {
     "outputs_hidden": true
    },
    "tags": []
   },
   "outputs": [
    {
     "data": {
      "text/html": [
       "<div><i>Table length=221208319</i>\n",
       "<table id=\"table47528549274720\" class=\"table-striped table-bordered table-condensed\">\n",
       "<thead><tr><th>ra</th><th>dec</th><th>mass0p35</th><th>mass0p45</th><th>u_r0p35</th><th>u_r0p45</th><th>skymap_id</th></tr></thead>\n",
       "<thead><tr><th>float64</th><th>float64</th><th>float64</th><th>float64</th><th>float64</th><th>float64</th><th>int32</th></tr></thead>\n",
       "<tr><td>29.11596307549589</td><td>-6.775140624839325</td><td>10.141131463373675</td><td>10.325859070029514</td><td>3.112854264069183</td><td>2.8747865586091903</td><td>82780004</td></tr>\n",
       "<tr><td>29.097010963966863</td><td>-6.77468933995016</td><td>8.794554684249755</td><td>8.962278545755906</td><td>1.41175168329629</td><td>1.1311294935747653</td><td>82780004</td></tr>\n",
       "<tr><td>29.126665626064202</td><td>-6.77473359426081</td><td>8.576555889904595</td><td>8.762890349630931</td><td>1.8160370021082282</td><td>1.557536538282954</td><td>82780004</td></tr>\n",
       "<tr><td>29.067357382379907</td><td>-6.774723759969203</td><td>8.7349430906841</td><td>8.873526721542614</td><td>1.9757167691941842</td><td>1.5533592178248794</td><td>82780004</td></tr>\n",
       "<tr><td>29.11473313855873</td><td>-6.774551113549213</td><td>7.908530707747893</td><td>8.504293016768218</td><td>1.078428769021884</td><td>1.0947160058145946</td><td>82780004</td></tr>\n",
       "<tr><td>29.108439423590077</td><td>-6.773931553803997</td><td>9.616485953947404</td><td>9.795543992783637</td><td>2.714557950795668</td><td>2.48464949021043</td><td>82780004</td></tr>\n",
       "<tr><td>29.10984648746462</td><td>-6.773631608498949</td><td>8.686898825858908</td><td>8.797989409836493</td><td>0.7282026805228132</td><td>0.552660031090056</td><td>82780004</td></tr>\n",
       "<tr><td>29.096387207795175</td><td>-6.773254081977553</td><td>9.247871873762403</td><td>9.462493607707845</td><td>1.769857867160542</td><td>1.4712798383157937</td><td>82780004</td></tr>\n",
       "<tr><td>29.049894596351326</td><td>-6.773429459673613</td><td>8.166529519620553</td><td>8.352856118582768</td><td>0.9224654649500095</td><td>0.8120564867031723</td><td>82780004</td></tr>\n",
       "<tr><td>29.098610255564555</td><td>-6.773342043991594</td><td>8.543438248129403</td><td>8.734544470345693</td><td>1.6478180735128185</td><td>1.4959266034376184</td><td>82780004</td></tr>\n",
       "<tr><td>...</td><td>...</td><td>...</td><td>...</td><td>...</td><td>...</td><td>...</td></tr>\n",
       "<tr><td>213.88924693059377</td><td>53.21989470071096</td><td>6.307311597788188</td><td>6.634382225331621</td><td>0.29028166134643296</td><td>0.35433768111016534</td><td>169730806</td></tr>\n",
       "<tr><td>213.88894050180343</td><td>53.22036588520432</td><td>6.953752722646425</td><td>7.085322172593388</td><td>0.48400008919066917</td><td>0.5160011411333326</td><td>169730806</td></tr>\n",
       "<tr><td>213.87825951856232</td><td>53.24095083437476</td><td>7.446569863199606</td><td>7.405781220937251</td><td>0.24771072525993443</td><td>0.35897799744886577</td><td>169730806</td></tr>\n",
       "<tr><td>213.8783457519574</td><td>53.24066073463104</td><td>7.382321940447391</td><td>7.512152159797873</td><td>0.4047439346008943</td><td>0.3383769568553717</td><td>169730806</td></tr>\n",
       "<tr><td>213.90558452881055</td><td>53.24710141174297</td><td>7.376913569066137</td><td>7.742168549270994</td><td>0.7695422223391493</td><td>0.8840240895459505</td><td>169730806</td></tr>\n",
       "<tr><td>213.90602172554313</td><td>53.24722472245111</td><td>7.171161648680185</td><td>7.334453682695222</td><td>0.6956610513411459</td><td>0.7000483637232614</td><td>169730806</td></tr>\n",
       "<tr><td>213.88861027838306</td><td>53.25148278667229</td><td>7.118019315328016</td><td>7.270813694004296</td><td>0.49926810922207665</td><td>0.5603142568583441</td><td>169730806</td></tr>\n",
       "<tr><td>213.8891779527558</td><td>53.25111281879681</td><td>7.432475453306316</td><td>7.56772936823065</td><td>0.7014250144496372</td><td>0.6488053865477612</td><td>169730806</td></tr>\n",
       "<tr><td>213.9124564147628</td><td>53.25727936781461</td><td>6.925651911407258</td><td>6.959937461467922</td><td>0.47470836706553043</td><td>0.45412370258109225</td><td>169730806</td></tr>\n",
       "<tr><td>213.91304890213354</td><td>53.2576421336773</td><td>7.4762198663424035</td><td>7.6050549557042</td><td>0.9087120153443622</td><td>0.8087910952562227</td><td>169730806</td></tr>\n",
       "</table></div>"
      ],
      "text/plain": [
       "<Table length=221208319>\n",
       "        ra                dec         ...       u_r0p45       skymap_id\n",
       "     float64            float64       ...       float64         int32  \n",
       "------------------ ------------------ ... ------------------- ---------\n",
       " 29.11596307549589 -6.775140624839325 ...  2.8747865586091903  82780004\n",
       "29.097010963966863  -6.77468933995016 ...  1.1311294935747653  82780004\n",
       "29.126665626064202  -6.77473359426081 ...   1.557536538282954  82780004\n",
       "29.067357382379907 -6.774723759969203 ...  1.5533592178248794  82780004\n",
       " 29.11473313855873 -6.774551113549213 ...  1.0947160058145946  82780004\n",
       "29.108439423590077 -6.773931553803997 ...    2.48464949021043  82780004\n",
       " 29.10984648746462 -6.773631608498949 ...   0.552660031090056  82780004\n",
       "29.096387207795175 -6.773254081977553 ...  1.4712798383157937  82780004\n",
       "29.049894596351326 -6.773429459673613 ...  0.8120564867031723  82780004\n",
       "29.098610255564555 -6.773342043991594 ...  1.4959266034376184  82780004\n",
       "               ...                ... ...                 ...       ...\n",
       "213.88924693059377  53.21989470071096 ... 0.35433768111016534 169730806\n",
       "213.88894050180343  53.22036588520432 ...  0.5160011411333326 169730806\n",
       "213.87825951856232  53.24095083437476 ... 0.35897799744886577 169730806\n",
       " 213.8783457519574  53.24066073463104 ...  0.3383769568553717 169730806\n",
       "213.90558452881055  53.24710141174297 ...  0.8840240895459505 169730806\n",
       "213.90602172554313  53.24722472245111 ...  0.7000483637232614 169730806\n",
       "213.88861027838306  53.25148278667229 ...  0.5603142568583441 169730806\n",
       " 213.8891779527558  53.25111281879681 ...  0.6488053865477612 169730806\n",
       " 213.9124564147628  53.25727936781461 ... 0.45412370258109225 169730806\n",
       "213.91304890213354   53.2576421336773 ...  0.8087910952562227 169730806"
      ]
     },
     "execution_count": 15,
     "metadata": {},
     "output_type": "execute_result"
    }
   ],
   "source": [
    "targets"
   ]
  },
  {
   "cell_type": "code",
   "execution_count": 21,
   "id": "1bbbb902-e4f2-42ad-a516-c1fdcd7f6f30",
   "metadata": {
    "collapsed": true,
    "execution": {
     "iopub.execute_input": "2021-11-29T08:13:58.484806Z",
     "iopub.status.busy": "2021-11-29T08:13:58.484560Z",
     "iopub.status.idle": "2021-11-29T08:13:58.490905Z",
     "shell.execute_reply": "2021-11-29T08:13:58.490538Z",
     "shell.execute_reply.started": "2021-11-29T08:13:58.484784Z"
    },
    "jupyter": {
     "outputs_hidden": true
    },
    "tags": []
   },
   "outputs": [
    {
     "data": {
      "text/html": [
       "<div><i>Table length=221208319</i>\n",
       "<table id=\"table47395725062400\" class=\"table-striped table-bordered table-condensed\">\n",
       "<thead><tr><th>ra</th><th>dec</th><th>mass0p35</th><th>mass0p45</th><th>u_r0p35</th><th>u_r0p45</th><th>g_r0p35</th><th>g_r0p45</th><th>skymap_id</th></tr></thead>\n",
       "<thead><tr><th>float64</th><th>float64</th><th>float64</th><th>float64</th><th>float64</th><th>float64</th><th>float64</th><th>float64</th><th>int32</th></tr></thead>\n",
       "<tr><td>29.11596307549589</td><td>-6.775140624839325</td><td>10.141131463373675</td><td>10.325859070029514</td><td>3.2175285367741164</td><td>2.9658931516222515</td><td>1.0492791555977576</td><td>0.9454237322622155</td><td>82780004</td></tr>\n",
       "<tr><td>29.097010963966863</td><td>-6.77468933995016</td><td>8.794554684249755</td><td>8.962278545755906</td><td>1.4386617895210607</td><td>1.149703114755145</td><td>0.2839947024647446</td><td>0.2498930081367096</td><td>82780004</td></tr>\n",
       "<tr><td>29.126665626064202</td><td>-6.77473359426081</td><td>8.576555889904595</td><td>8.762890349630931</td><td>1.8659576726808296</td><td>1.5984288824123571</td><td>0.5475312517222917</td><td>0.4890256781049667</td><td>82780004</td></tr>\n",
       "<tr><td>29.067357382379907</td><td>-6.774723759969203</td><td>8.7349430906841</td><td>8.873526721542614</td><td>2.0322161713200533</td><td>1.59630362246042</td><td>0.6069852892087171</td><td>0.4984318132766944</td><td>82780004</td></tr>\n",
       "<tr><td>29.11473313855873</td><td>-6.774551113549213</td><td>7.908530707747893</td><td>8.504293016768218</td><td>1.0767636497833244</td><td>1.1106941359190465</td><td>0.5316105672293113</td><td>0.3876115391032776</td><td>82780004</td></tr>\n",
       "<tr><td>29.108439423590077</td><td>-6.773931553803997</td><td>9.616485953947404</td><td>9.795543992783637</td><td>2.8008912391868495</td><td>2.5586976522594003</td><td>0.8900679108025911</td><td>0.7909495001627996</td><td>82780004</td></tr>\n",
       "<tr><td>29.10984648746462</td><td>-6.773631608498949</td><td>8.686898825858908</td><td>8.797989409836493</td><td>0.7341868918631196</td><td>0.5407154846894828</td><td>0.1471816620273401</td><td>0.17058138320457206</td><td>82780004</td></tr>\n",
       "<tr><td>29.096387207795175</td><td>-6.773254081977553</td><td>9.247871873762403</td><td>9.462493607707845</td><td>1.8122404558697278</td><td>1.505254192909165</td><td>0.429226036761604</td><td>0.3840513873965398</td><td>82780004</td></tr>\n",
       "<tr><td>29.049894596351326</td><td>-6.773429459673613</td><td>8.166529519620553</td><td>8.352856118582768</td><td>0.9306927788588854</td><td>0.8147457194699685</td><td>0.20388728774016535</td><td>0.1743095913804441</td><td>82780004</td></tr>\n",
       "<tr><td>29.098610255564555</td><td>-6.773342043991594</td><td>8.543438248129403</td><td>8.734544470345693</td><td>1.6905324728801077</td><td>1.5321007073806094</td><td>0.4915624962894689</td><td>0.4211663753263898</td><td>82780004</td></tr>\n",
       "<tr><td>...</td><td>...</td><td>...</td><td>...</td><td>...</td><td>...</td><td>...</td><td>...</td><td>...</td></tr>\n",
       "<tr><td>213.88924693059377</td><td>53.21989470071096</td><td>6.307311597788188</td><td>6.634382225331621</td><td>0.22615296808207414</td><td>0.28680931507505425</td><td>0.3823261348564549</td><td>0.4160959587666787</td><td>169730806</td></tr>\n",
       "<tr><td>213.88894050180343</td><td>53.22036588520432</td><td>6.953752722646425</td><td>7.085322172593388</td><td>0.44232460509851335</td><td>0.47276042422026465</td><td>0.350510863200404</td><td>0.4096831411552121</td><td>169730806</td></tr>\n",
       "<tr><td>213.87825951856232</td><td>53.24095083437476</td><td>7.446569863199606</td><td>7.405781220937251</td><td>0.19382985415172707</td><td>0.3014587280689843</td><td>0.23771720170459282</td><td>0.42949983156796995</td><td>169730806</td></tr>\n",
       "<tr><td>213.8783457519574</td><td>53.24066073463104</td><td>7.382321940447391</td><td>7.512152159797873</td><td>0.3481337048294276</td><td>0.2866229116380039</td><td>0.39088063478315177</td><td>0.34723096805775855</td><td>169730806</td></tr>\n",
       "<tr><td>213.90558452881055</td><td>53.24710141174297</td><td>7.376913569066137</td><td>7.742168549270994</td><td>0.7603082599631512</td><td>0.8801358289598288</td><td>0.3414536808496054</td><td>0.36998392149278014</td><td>169730806</td></tr>\n",
       "<tr><td>213.90602172554313</td><td>53.24722472245111</td><td>7.171161648680185</td><td>7.334453682695222</td><td>0.6828471325964118</td><td>0.6786928506596837</td><td>0.29952238833732764</td><td>0.36237634725723844</td><td>169730806</td></tr>\n",
       "<tr><td>213.88861027838306</td><td>53.25148278667229</td><td>7.118019315328016</td><td>7.270813694004296</td><td>0.4628494208355294</td><td>0.5207955871907127</td><td>0.326308075543788</td><td>0.4073376567076584</td><td>169730806</td></tr>\n",
       "<tr><td>213.8891779527558</td><td>53.25111281879681</td><td>7.432475453306316</td><td>7.56772936823065</td><td>0.6922270523563984</td><td>0.6310343015802109</td><td>0.26160451955849845</td><td>0.2911381168119879</td><td>169730806</td></tr>\n",
       "<tr><td>213.9124564147628</td><td>53.25727936781461</td><td>6.925651911407258</td><td>6.959937461467922</td><td>0.44384068346525646</td><td>0.40864552507023894</td><td>0.26224252394140757</td><td>0.3502771079846989</td><td>169730806</td></tr>\n",
       "<tr><td>213.91304890213354</td><td>53.2576421336773</td><td>7.4762198663424035</td><td>7.6050549557042</td><td>0.9084294724392552</td><td>0.799402605463857</td><td>0.3434758212004819</td><td>0.3450385934711891</td><td>169730806</td></tr>\n",
       "</table></div>"
      ],
      "text/plain": [
       "<Table length=221208319>\n",
       "        ra                dec         ...       g_r0p45       skymap_id\n",
       "     float64            float64       ...       float64         int32  \n",
       "------------------ ------------------ ... ------------------- ---------\n",
       " 29.11596307549589 -6.775140624839325 ...  0.9454237322622155  82780004\n",
       "29.097010963966863  -6.77468933995016 ...  0.2498930081367096  82780004\n",
       "29.126665626064202  -6.77473359426081 ...  0.4890256781049667  82780004\n",
       "29.067357382379907 -6.774723759969203 ...  0.4984318132766944  82780004\n",
       " 29.11473313855873 -6.774551113549213 ...  0.3876115391032776  82780004\n",
       "29.108439423590077 -6.773931553803997 ...  0.7909495001627996  82780004\n",
       " 29.10984648746462 -6.773631608498949 ... 0.17058138320457206  82780004\n",
       "29.096387207795175 -6.773254081977553 ...  0.3840513873965398  82780004\n",
       "29.049894596351326 -6.773429459673613 ...  0.1743095913804441  82780004\n",
       "29.098610255564555 -6.773342043991594 ...  0.4211663753263898  82780004\n",
       "               ...                ... ...                 ...       ...\n",
       "213.88924693059377  53.21989470071096 ...  0.4160959587666787 169730806\n",
       "213.88894050180343  53.22036588520432 ...  0.4096831411552121 169730806\n",
       "213.87825951856232  53.24095083437476 ... 0.42949983156796995 169730806\n",
       " 213.8783457519574  53.24066073463104 ... 0.34723096805775855 169730806\n",
       "213.90558452881055  53.24710141174297 ... 0.36998392149278014 169730806\n",
       "213.90602172554313  53.24722472245111 ... 0.36237634725723844 169730806\n",
       "213.88861027838306  53.25148278667229 ...  0.4073376567076584 169730806\n",
       " 213.8891779527558  53.25111281879681 ...  0.2911381168119879 169730806\n",
       " 213.9124564147628  53.25727936781461 ...  0.3502771079846989 169730806\n",
       "213.91304890213354   53.2576421336773 ...  0.3450385934711891 169730806"
      ]
     },
     "execution_count": 21,
     "metadata": {},
     "output_type": "execute_result"
    }
   ],
   "source": [
    "targets   #221208319"
   ]
  },
  {
   "cell_type": "markdown",
   "id": "a361d227-b156-433d-b590-00017e3cc002",
   "metadata": {},
   "source": [
    "## 判断是否为恒星"
   ]
  },
  {
   "cell_type": "code",
   "execution_count": 16,
   "id": "04678fd7-c9f4-4648-808b-08d028dea2c3",
   "metadata": {
    "execution": {
     "iopub.execute_input": "2022-06-06T06:41:19.073739Z",
     "iopub.status.busy": "2022-06-06T06:41:19.073609Z",
     "iopub.status.idle": "2022-06-06T06:41:31.545706Z",
     "shell.execute_reply": "2022-06-06T06:41:31.545058Z",
     "shell.execute_reply.started": "2022-06-06T06:41:19.073725Z"
    },
    "tags": []
   },
   "outputs": [],
   "source": [
    "targets = targets[star['z_extendedness_value'] == 1]"
   ]
  },
  {
   "cell_type": "code",
   "execution_count": 17,
   "id": "63f6ae4c-3ec3-4207-a72e-77321be1d831",
   "metadata": {
    "collapsed": true,
    "execution": {
     "iopub.execute_input": "2022-06-06T06:41:31.547009Z",
     "iopub.status.busy": "2022-06-06T06:41:31.546748Z",
     "iopub.status.idle": "2022-06-06T06:41:31.553705Z",
     "shell.execute_reply": "2022-06-06T06:41:31.552933Z",
     "shell.execute_reply.started": "2022-06-06T06:41:31.546990Z"
    },
    "jupyter": {
     "outputs_hidden": true
    },
    "tags": []
   },
   "outputs": [
    {
     "data": {
      "text/html": [
       "<div><i>Table length=174900944</i>\n",
       "<table id=\"table47475458969856\" class=\"table-striped table-bordered table-condensed\">\n",
       "<thead><tr><th>ra</th><th>dec</th><th>mass0p35</th><th>mass0p45</th><th>u_r0p35</th><th>u_r0p45</th><th>skymap_id</th></tr></thead>\n",
       "<thead><tr><th>float64</th><th>float64</th><th>float64</th><th>float64</th><th>float64</th><th>float64</th><th>int32</th></tr></thead>\n",
       "<tr><td>29.11596307549589</td><td>-6.775140624839325</td><td>10.141131463373675</td><td>10.325859070029514</td><td>3.112854264069183</td><td>2.8747865586091903</td><td>82780004</td></tr>\n",
       "<tr><td>29.097010963966863</td><td>-6.77468933995016</td><td>8.794554684249755</td><td>8.962278545755906</td><td>1.41175168329629</td><td>1.1311294935747653</td><td>82780004</td></tr>\n",
       "<tr><td>29.126665626064202</td><td>-6.77473359426081</td><td>8.576555889904595</td><td>8.762890349630931</td><td>1.8160370021082282</td><td>1.557536538282954</td><td>82780004</td></tr>\n",
       "<tr><td>29.067357382379907</td><td>-6.774723759969203</td><td>8.7349430906841</td><td>8.873526721542614</td><td>1.9757167691941842</td><td>1.5533592178248794</td><td>82780004</td></tr>\n",
       "<tr><td>29.11473313855873</td><td>-6.774551113549213</td><td>7.908530707747893</td><td>8.504293016768218</td><td>1.078428769021884</td><td>1.0947160058145946</td><td>82780004</td></tr>\n",
       "<tr><td>29.108439423590077</td><td>-6.773931553803997</td><td>9.616485953947404</td><td>9.795543992783637</td><td>2.714557950795668</td><td>2.48464949021043</td><td>82780004</td></tr>\n",
       "<tr><td>29.10984648746462</td><td>-6.773631608498949</td><td>8.686898825858908</td><td>8.797989409836493</td><td>0.7282026805228132</td><td>0.552660031090056</td><td>82780004</td></tr>\n",
       "<tr><td>29.096387207795175</td><td>-6.773254081977553</td><td>9.247871873762403</td><td>9.462493607707845</td><td>1.769857867160542</td><td>1.4712798383157937</td><td>82780004</td></tr>\n",
       "<tr><td>29.049894596351326</td><td>-6.773429459673613</td><td>8.166529519620553</td><td>8.352856118582768</td><td>0.9224654649500095</td><td>0.8120564867031723</td><td>82780004</td></tr>\n",
       "<tr><td>29.098610255564555</td><td>-6.773342043991594</td><td>8.543438248129403</td><td>8.734544470345693</td><td>1.6478180735128185</td><td>1.4959266034376184</td><td>82780004</td></tr>\n",
       "<tr><td>...</td><td>...</td><td>...</td><td>...</td><td>...</td><td>...</td><td>...</td></tr>\n",
       "<tr><td>213.90937654673772</td><td>53.18638864864173</td><td>6.485917739091609</td><td>6.879495440020261</td><td>0.5125094117592974</td><td>0.553682496543379</td><td>169730806</td></tr>\n",
       "<tr><td>213.89235322339857</td><td>53.21437135515517</td><td>7.041741350491001</td><td>6.952811380778098</td><td>0.4627276913952718</td><td>0.4794531297412241</td><td>169730806</td></tr>\n",
       "<tr><td>213.8921000830188</td><td>53.21376977390978</td><td>6.873706756378558</td><td>6.868286482752272</td><td>0.4231368663296601</td><td>0.4492392803714036</td><td>169730806</td></tr>\n",
       "<tr><td>213.88924693059377</td><td>53.21989470071096</td><td>6.307311597788188</td><td>6.634382225331621</td><td>0.29028166134643296</td><td>0.35433768111016534</td><td>169730806</td></tr>\n",
       "<tr><td>213.87825951856232</td><td>53.24095083437476</td><td>7.446569863199606</td><td>7.405781220937251</td><td>0.24771072525993443</td><td>0.35897799744886577</td><td>169730806</td></tr>\n",
       "<tr><td>213.90558452881055</td><td>53.24710141174297</td><td>7.376913569066137</td><td>7.742168549270994</td><td>0.7695422223391493</td><td>0.8840240895459505</td><td>169730806</td></tr>\n",
       "<tr><td>213.90602172554313</td><td>53.24722472245111</td><td>7.171161648680185</td><td>7.334453682695222</td><td>0.6956610513411459</td><td>0.7000483637232614</td><td>169730806</td></tr>\n",
       "<tr><td>213.88861027838306</td><td>53.25148278667229</td><td>7.118019315328016</td><td>7.270813694004296</td><td>0.49926810922207665</td><td>0.5603142568583441</td><td>169730806</td></tr>\n",
       "<tr><td>213.8891779527558</td><td>53.25111281879681</td><td>7.432475453306316</td><td>7.56772936823065</td><td>0.7014250144496372</td><td>0.6488053865477612</td><td>169730806</td></tr>\n",
       "<tr><td>213.91304890213354</td><td>53.2576421336773</td><td>7.4762198663424035</td><td>7.6050549557042</td><td>0.9087120153443622</td><td>0.8087910952562227</td><td>169730806</td></tr>\n",
       "</table></div>"
      ],
      "text/plain": [
       "<Table length=174900944>\n",
       "        ra                dec         ...       u_r0p45       skymap_id\n",
       "     float64            float64       ...       float64         int32  \n",
       "------------------ ------------------ ... ------------------- ---------\n",
       " 29.11596307549589 -6.775140624839325 ...  2.8747865586091903  82780004\n",
       "29.097010963966863  -6.77468933995016 ...  1.1311294935747653  82780004\n",
       "29.126665626064202  -6.77473359426081 ...   1.557536538282954  82780004\n",
       "29.067357382379907 -6.774723759969203 ...  1.5533592178248794  82780004\n",
       " 29.11473313855873 -6.774551113549213 ...  1.0947160058145946  82780004\n",
       "29.108439423590077 -6.773931553803997 ...    2.48464949021043  82780004\n",
       " 29.10984648746462 -6.773631608498949 ...   0.552660031090056  82780004\n",
       "29.096387207795175 -6.773254081977553 ...  1.4712798383157937  82780004\n",
       "29.049894596351326 -6.773429459673613 ...  0.8120564867031723  82780004\n",
       "29.098610255564555 -6.773342043991594 ...  1.4959266034376184  82780004\n",
       "               ...                ... ...                 ...       ...\n",
       "213.90937654673772  53.18638864864173 ...   0.553682496543379 169730806\n",
       "213.89235322339857  53.21437135515517 ...  0.4794531297412241 169730806\n",
       " 213.8921000830188  53.21376977390978 ...  0.4492392803714036 169730806\n",
       "213.88924693059377  53.21989470071096 ... 0.35433768111016534 169730806\n",
       "213.87825951856232  53.24095083437476 ... 0.35897799744886577 169730806\n",
       "213.90558452881055  53.24710141174297 ...  0.8840240895459505 169730806\n",
       "213.90602172554313  53.24722472245111 ...  0.7000483637232614 169730806\n",
       "213.88861027838306  53.25148278667229 ...  0.5603142568583441 169730806\n",
       " 213.8891779527558  53.25111281879681 ...  0.6488053865477612 169730806\n",
       "213.91304890213354   53.2576421336773 ...  0.8087910952562227 169730806"
      ]
     },
     "execution_count": 17,
     "metadata": {},
     "output_type": "execute_result"
    }
   ],
   "source": [
    "targets   #174900944"
   ]
  },
  {
   "cell_type": "code",
   "execution_count": 18,
   "id": "8350aa0f-4a8f-400f-a822-aaf9e89a4083",
   "metadata": {
    "execution": {
     "iopub.execute_input": "2022-06-06T06:41:41.919059Z",
     "iopub.status.busy": "2022-06-06T06:41:41.918890Z",
     "iopub.status.idle": "2022-06-06T06:41:46.237482Z",
     "shell.execute_reply": "2022-06-06T06:41:46.236732Z",
     "shell.execute_reply.started": "2022-06-06T06:41:41.919042Z"
    },
    "tags": []
   },
   "outputs": [],
   "source": [
    "targets1 = targets[targets['mass0p35']>0]"
   ]
  },
  {
   "cell_type": "code",
   "execution_count": 19,
   "id": "8492eb0b-8022-4092-8edb-249cd7a36e35",
   "metadata": {
    "collapsed": true,
    "execution": {
     "iopub.execute_input": "2022-06-06T06:41:49.161395Z",
     "iopub.status.busy": "2022-06-06T06:41:49.161199Z",
     "iopub.status.idle": "2022-06-06T06:41:49.168213Z",
     "shell.execute_reply": "2022-06-06T06:41:49.167564Z",
     "shell.execute_reply.started": "2022-06-06T06:41:49.161377Z"
    },
    "jupyter": {
     "outputs_hidden": true
    },
    "tags": []
   },
   "outputs": [
    {
     "data": {
      "text/html": [
       "<div><i>Table length=174900944</i>\n",
       "<table id=\"table47475421594768\" class=\"table-striped table-bordered table-condensed\">\n",
       "<thead><tr><th>ra</th><th>dec</th><th>mass0p35</th><th>mass0p45</th><th>u_r0p35</th><th>u_r0p45</th><th>skymap_id</th></tr></thead>\n",
       "<thead><tr><th>float64</th><th>float64</th><th>float64</th><th>float64</th><th>float64</th><th>float64</th><th>int32</th></tr></thead>\n",
       "<tr><td>29.11596307549589</td><td>-6.775140624839325</td><td>10.141131463373675</td><td>10.325859070029514</td><td>3.112854264069183</td><td>2.8747865586091903</td><td>82780004</td></tr>\n",
       "<tr><td>29.097010963966863</td><td>-6.77468933995016</td><td>8.794554684249755</td><td>8.962278545755906</td><td>1.41175168329629</td><td>1.1311294935747653</td><td>82780004</td></tr>\n",
       "<tr><td>29.126665626064202</td><td>-6.77473359426081</td><td>8.576555889904595</td><td>8.762890349630931</td><td>1.8160370021082282</td><td>1.557536538282954</td><td>82780004</td></tr>\n",
       "<tr><td>29.067357382379907</td><td>-6.774723759969203</td><td>8.7349430906841</td><td>8.873526721542614</td><td>1.9757167691941842</td><td>1.5533592178248794</td><td>82780004</td></tr>\n",
       "<tr><td>29.11473313855873</td><td>-6.774551113549213</td><td>7.908530707747893</td><td>8.504293016768218</td><td>1.078428769021884</td><td>1.0947160058145946</td><td>82780004</td></tr>\n",
       "<tr><td>29.108439423590077</td><td>-6.773931553803997</td><td>9.616485953947404</td><td>9.795543992783637</td><td>2.714557950795668</td><td>2.48464949021043</td><td>82780004</td></tr>\n",
       "<tr><td>29.10984648746462</td><td>-6.773631608498949</td><td>8.686898825858908</td><td>8.797989409836493</td><td>0.7282026805228132</td><td>0.552660031090056</td><td>82780004</td></tr>\n",
       "<tr><td>29.096387207795175</td><td>-6.773254081977553</td><td>9.247871873762403</td><td>9.462493607707845</td><td>1.769857867160542</td><td>1.4712798383157937</td><td>82780004</td></tr>\n",
       "<tr><td>29.049894596351326</td><td>-6.773429459673613</td><td>8.166529519620553</td><td>8.352856118582768</td><td>0.9224654649500095</td><td>0.8120564867031723</td><td>82780004</td></tr>\n",
       "<tr><td>29.098610255564555</td><td>-6.773342043991594</td><td>8.543438248129403</td><td>8.734544470345693</td><td>1.6478180735128185</td><td>1.4959266034376184</td><td>82780004</td></tr>\n",
       "<tr><td>...</td><td>...</td><td>...</td><td>...</td><td>...</td><td>...</td><td>...</td></tr>\n",
       "<tr><td>213.90937654673772</td><td>53.18638864864173</td><td>6.485917739091609</td><td>6.879495440020261</td><td>0.5125094117592974</td><td>0.553682496543379</td><td>169730806</td></tr>\n",
       "<tr><td>213.89235322339857</td><td>53.21437135515517</td><td>7.041741350491001</td><td>6.952811380778098</td><td>0.4627276913952718</td><td>0.4794531297412241</td><td>169730806</td></tr>\n",
       "<tr><td>213.8921000830188</td><td>53.21376977390978</td><td>6.873706756378558</td><td>6.868286482752272</td><td>0.4231368663296601</td><td>0.4492392803714036</td><td>169730806</td></tr>\n",
       "<tr><td>213.88924693059377</td><td>53.21989470071096</td><td>6.307311597788188</td><td>6.634382225331621</td><td>0.29028166134643296</td><td>0.35433768111016534</td><td>169730806</td></tr>\n",
       "<tr><td>213.87825951856232</td><td>53.24095083437476</td><td>7.446569863199606</td><td>7.405781220937251</td><td>0.24771072525993443</td><td>0.35897799744886577</td><td>169730806</td></tr>\n",
       "<tr><td>213.90558452881055</td><td>53.24710141174297</td><td>7.376913569066137</td><td>7.742168549270994</td><td>0.7695422223391493</td><td>0.8840240895459505</td><td>169730806</td></tr>\n",
       "<tr><td>213.90602172554313</td><td>53.24722472245111</td><td>7.171161648680185</td><td>7.334453682695222</td><td>0.6956610513411459</td><td>0.7000483637232614</td><td>169730806</td></tr>\n",
       "<tr><td>213.88861027838306</td><td>53.25148278667229</td><td>7.118019315328016</td><td>7.270813694004296</td><td>0.49926810922207665</td><td>0.5603142568583441</td><td>169730806</td></tr>\n",
       "<tr><td>213.8891779527558</td><td>53.25111281879681</td><td>7.432475453306316</td><td>7.56772936823065</td><td>0.7014250144496372</td><td>0.6488053865477612</td><td>169730806</td></tr>\n",
       "<tr><td>213.91304890213354</td><td>53.2576421336773</td><td>7.4762198663424035</td><td>7.6050549557042</td><td>0.9087120153443622</td><td>0.8087910952562227</td><td>169730806</td></tr>\n",
       "</table></div>"
      ],
      "text/plain": [
       "<Table length=174900944>\n",
       "        ra                dec         ...       u_r0p45       skymap_id\n",
       "     float64            float64       ...       float64         int32  \n",
       "------------------ ------------------ ... ------------------- ---------\n",
       " 29.11596307549589 -6.775140624839325 ...  2.8747865586091903  82780004\n",
       "29.097010963966863  -6.77468933995016 ...  1.1311294935747653  82780004\n",
       "29.126665626064202  -6.77473359426081 ...   1.557536538282954  82780004\n",
       "29.067357382379907 -6.774723759969203 ...  1.5533592178248794  82780004\n",
       " 29.11473313855873 -6.774551113549213 ...  1.0947160058145946  82780004\n",
       "29.108439423590077 -6.773931553803997 ...    2.48464949021043  82780004\n",
       " 29.10984648746462 -6.773631608498949 ...   0.552660031090056  82780004\n",
       "29.096387207795175 -6.773254081977553 ...  1.4712798383157937  82780004\n",
       "29.049894596351326 -6.773429459673613 ...  0.8120564867031723  82780004\n",
       "29.098610255564555 -6.773342043991594 ...  1.4959266034376184  82780004\n",
       "               ...                ... ...                 ...       ...\n",
       "213.90937654673772  53.18638864864173 ...   0.553682496543379 169730806\n",
       "213.89235322339857  53.21437135515517 ...  0.4794531297412241 169730806\n",
       " 213.8921000830188  53.21376977390978 ...  0.4492392803714036 169730806\n",
       "213.88924693059377  53.21989470071096 ... 0.35433768111016534 169730806\n",
       "213.87825951856232  53.24095083437476 ... 0.35897799744886577 169730806\n",
       "213.90558452881055  53.24710141174297 ...  0.8840240895459505 169730806\n",
       "213.90602172554313  53.24722472245111 ...  0.7000483637232614 169730806\n",
       "213.88861027838306  53.25148278667229 ...  0.5603142568583441 169730806\n",
       " 213.8891779527558  53.25111281879681 ...  0.6488053865477612 169730806\n",
       "213.91304890213354   53.2576421336773 ...  0.8087910952562227 169730806"
      ]
     },
     "execution_count": 19,
     "metadata": {},
     "output_type": "execute_result"
    }
   ],
   "source": [
    "targets1    #174900944"
   ]
  },
  {
   "cell_type": "code",
   "execution_count": 20,
   "id": "c5722cb7-9195-40ac-b90c-32a762b53df7",
   "metadata": {
    "execution": {
     "iopub.execute_input": "2022-06-06T06:41:59.917843Z",
     "iopub.status.busy": "2022-06-06T06:41:59.917673Z",
     "iopub.status.idle": "2022-06-06T06:42:00.061785Z",
     "shell.execute_reply": "2022-06-06T06:42:00.060907Z",
     "shell.execute_reply.started": "2022-06-06T06:41:59.917825Z"
    },
    "tags": []
   },
   "outputs": [
    {
     "data": {
      "text/plain": [
       "-0.007345698037467119"
      ]
     },
     "execution_count": 20,
     "metadata": {},
     "output_type": "execute_result"
    }
   ],
   "source": [
    "np.min(targets1['u_r0p35'])"
   ]
  },
  {
   "cell_type": "code",
   "execution_count": 21,
   "id": "4e9ec888-753a-4345-b721-4655c2edb979",
   "metadata": {
    "execution": {
     "iopub.execute_input": "2022-06-06T06:42:01.006981Z",
     "iopub.status.busy": "2022-06-06T06:42:01.006334Z",
     "iopub.status.idle": "2022-06-06T06:42:02.099424Z",
     "shell.execute_reply": "2022-06-06T06:42:02.098914Z",
     "shell.execute_reply.started": "2022-06-06T06:42:01.006954Z"
    },
    "tags": []
   },
   "outputs": [
    {
     "data": {
      "text/plain": [
       "3.7393511942419346"
      ]
     },
     "execution_count": 21,
     "metadata": {},
     "output_type": "execute_result"
    }
   ],
   "source": [
    "np.max(targets1['u_r0p35'])"
   ]
  },
  {
   "cell_type": "code",
   "execution_count": 29,
   "id": "d1c2da18-8a06-40ca-a694-5a40065e0c03",
   "metadata": {
    "execution": {
     "iopub.execute_input": "2021-11-29T08:17:01.103891Z",
     "iopub.status.busy": "2021-11-29T08:17:01.103728Z",
     "iopub.status.idle": "2021-11-29T08:18:30.020166Z",
     "shell.execute_reply": "2021-11-29T08:18:30.019066Z",
     "shell.execute_reply.started": "2021-11-29T08:17:01.103876Z"
    }
   },
   "outputs": [],
   "source": [
    "# Table(targets1).write(\"/home/yunzheng/PAC/code/PAC/0.3_0.5/photo.fits\")"
   ]
  },
  {
   "cell_type": "code",
   "execution_count": 31,
   "id": "cb655371-c0d4-4509-ad82-e89fb1b09d14",
   "metadata": {
    "collapsed": true,
    "execution": {
     "iopub.execute_input": "2021-11-29T11:00:53.295351Z",
     "iopub.status.busy": "2021-11-29T11:00:53.295054Z",
     "iopub.status.idle": "2021-11-29T11:00:53.301755Z",
     "shell.execute_reply": "2021-11-29T11:00:53.301316Z",
     "shell.execute_reply.started": "2021-11-29T11:00:53.295333Z"
    },
    "jupyter": {
     "outputs_hidden": true
    },
    "tags": []
   },
   "outputs": [
    {
     "data": {
      "text/html": [
       "<div><i>Table length=174900944</i>\n",
       "<table id=\"table47395724554096\" class=\"table-striped table-bordered table-condensed\">\n",
       "<thead><tr><th>ra</th><th>dec</th><th>mass0p35</th><th>mass0p45</th><th>u_r0p35</th><th>u_r0p45</th><th>g_r0p35</th><th>g_r0p45</th><th>skymap_id</th></tr></thead>\n",
       "<thead><tr><th>float64</th><th>float64</th><th>float64</th><th>float64</th><th>float64</th><th>float64</th><th>float64</th><th>float64</th><th>int32</th></tr></thead>\n",
       "<tr><td>29.11596307549589</td><td>-6.775140624839325</td><td>10.141131463373675</td><td>10.325859070029514</td><td>3.2175285367741164</td><td>2.9658931516222515</td><td>1.0492791555977576</td><td>0.9454237322622155</td><td>82780004</td></tr>\n",
       "<tr><td>29.097010963966863</td><td>-6.77468933995016</td><td>8.794554684249755</td><td>8.962278545755906</td><td>1.4386617895210607</td><td>1.149703114755145</td><td>0.2839947024647446</td><td>0.2498930081367096</td><td>82780004</td></tr>\n",
       "<tr><td>29.126665626064202</td><td>-6.77473359426081</td><td>8.576555889904595</td><td>8.762890349630931</td><td>1.8659576726808296</td><td>1.5984288824123571</td><td>0.5475312517222917</td><td>0.4890256781049667</td><td>82780004</td></tr>\n",
       "<tr><td>29.067357382379907</td><td>-6.774723759969203</td><td>8.7349430906841</td><td>8.873526721542614</td><td>2.0322161713200533</td><td>1.59630362246042</td><td>0.6069852892087171</td><td>0.4984318132766944</td><td>82780004</td></tr>\n",
       "<tr><td>29.11473313855873</td><td>-6.774551113549213</td><td>7.908530707747893</td><td>8.504293016768218</td><td>1.0767636497833244</td><td>1.1106941359190465</td><td>0.5316105672293113</td><td>0.3876115391032776</td><td>82780004</td></tr>\n",
       "<tr><td>29.108439423590077</td><td>-6.773931553803997</td><td>9.616485953947404</td><td>9.795543992783637</td><td>2.8008912391868495</td><td>2.5586976522594003</td><td>0.8900679108025911</td><td>0.7909495001627996</td><td>82780004</td></tr>\n",
       "<tr><td>29.10984648746462</td><td>-6.773631608498949</td><td>8.686898825858908</td><td>8.797989409836493</td><td>0.7341868918631196</td><td>0.5407154846894828</td><td>0.1471816620273401</td><td>0.17058138320457206</td><td>82780004</td></tr>\n",
       "<tr><td>29.096387207795175</td><td>-6.773254081977553</td><td>9.247871873762403</td><td>9.462493607707845</td><td>1.8122404558697278</td><td>1.505254192909165</td><td>0.429226036761604</td><td>0.3840513873965398</td><td>82780004</td></tr>\n",
       "<tr><td>29.049894596351326</td><td>-6.773429459673613</td><td>8.166529519620553</td><td>8.352856118582768</td><td>0.9306927788588854</td><td>0.8147457194699685</td><td>0.20388728774016535</td><td>0.1743095913804441</td><td>82780004</td></tr>\n",
       "<tr><td>29.098610255564555</td><td>-6.773342043991594</td><td>8.543438248129403</td><td>8.734544470345693</td><td>1.6905324728801077</td><td>1.5321007073806094</td><td>0.4915624962894689</td><td>0.4211663753263898</td><td>82780004</td></tr>\n",
       "<tr><td>...</td><td>...</td><td>...</td><td>...</td><td>...</td><td>...</td><td>...</td><td>...</td><td>...</td></tr>\n",
       "<tr><td>213.90937654673772</td><td>53.18638864864173</td><td>6.485917739091609</td><td>6.879495440020261</td><td>0.4727820455668871</td><td>0.5182854762606489</td><td>0.36870230663827724</td><td>0.33646095679932086</td><td>169730806</td></tr>\n",
       "<tr><td>213.89235322339857</td><td>53.21437135515517</td><td>7.041741350491001</td><td>6.952811380778098</td><td>0.43613881654828957</td><td>0.4353909254232799</td><td>0.2099789684283894</td><td>0.38496447021531316</td><td>169730806</td></tr>\n",
       "<tr><td>213.8921000830188</td><td>53.21376977390978</td><td>6.873706756378558</td><td>6.868286482752272</td><td>0.39459300660121255</td><td>0.4033022575703927</td><td>0.1991800111203901</td><td>0.354062304026819</td><td>169730806</td></tr>\n",
       "<tr><td>213.88924693059377</td><td>53.21989470071096</td><td>6.307311597788188</td><td>6.634382225331621</td><td>0.22615296808207414</td><td>0.28680931507505425</td><td>0.3823261348564549</td><td>0.4160959587666787</td><td>169730806</td></tr>\n",
       "<tr><td>213.87825951856232</td><td>53.24095083437476</td><td>7.446569863199606</td><td>7.405781220937251</td><td>0.19382985415172707</td><td>0.3014587280689843</td><td>0.23771720170459282</td><td>0.42949983156796995</td><td>169730806</td></tr>\n",
       "<tr><td>213.90558452881055</td><td>53.24710141174297</td><td>7.376913569066137</td><td>7.742168549270994</td><td>0.7603082599631512</td><td>0.8801358289598288</td><td>0.3414536808496054</td><td>0.36998392149278014</td><td>169730806</td></tr>\n",
       "<tr><td>213.90602172554313</td><td>53.24722472245111</td><td>7.171161648680185</td><td>7.334453682695222</td><td>0.6828471325964118</td><td>0.6786928506596837</td><td>0.29952238833732764</td><td>0.36237634725723844</td><td>169730806</td></tr>\n",
       "<tr><td>213.88861027838306</td><td>53.25148278667229</td><td>7.118019315328016</td><td>7.270813694004296</td><td>0.4628494208355294</td><td>0.5207955871907127</td><td>0.326308075543788</td><td>0.4073376567076584</td><td>169730806</td></tr>\n",
       "<tr><td>213.8891779527558</td><td>53.25111281879681</td><td>7.432475453306316</td><td>7.56772936823065</td><td>0.6922270523563984</td><td>0.6310343015802109</td><td>0.26160451955849845</td><td>0.2911381168119879</td><td>169730806</td></tr>\n",
       "<tr><td>213.91304890213354</td><td>53.2576421336773</td><td>7.4762198663424035</td><td>7.6050549557042</td><td>0.9084294724392552</td><td>0.799402605463857</td><td>0.3434758212004819</td><td>0.3450385934711891</td><td>169730806</td></tr>\n",
       "</table></div>"
      ],
      "text/plain": [
       "<Table length=174900944>\n",
       "        ra                dec         ...       g_r0p45       skymap_id\n",
       "     float64            float64       ...       float64         int32  \n",
       "------------------ ------------------ ... ------------------- ---------\n",
       " 29.11596307549589 -6.775140624839325 ...  0.9454237322622155  82780004\n",
       "29.097010963966863  -6.77468933995016 ...  0.2498930081367096  82780004\n",
       "29.126665626064202  -6.77473359426081 ...  0.4890256781049667  82780004\n",
       "29.067357382379907 -6.774723759969203 ...  0.4984318132766944  82780004\n",
       " 29.11473313855873 -6.774551113549213 ...  0.3876115391032776  82780004\n",
       "29.108439423590077 -6.773931553803997 ...  0.7909495001627996  82780004\n",
       " 29.10984648746462 -6.773631608498949 ... 0.17058138320457206  82780004\n",
       "29.096387207795175 -6.773254081977553 ...  0.3840513873965398  82780004\n",
       "29.049894596351326 -6.773429459673613 ...  0.1743095913804441  82780004\n",
       "29.098610255564555 -6.773342043991594 ...  0.4211663753263898  82780004\n",
       "               ...                ... ...                 ...       ...\n",
       "213.90937654673772  53.18638864864173 ... 0.33646095679932086 169730806\n",
       "213.89235322339857  53.21437135515517 ... 0.38496447021531316 169730806\n",
       " 213.8921000830188  53.21376977390978 ...   0.354062304026819 169730806\n",
       "213.88924693059377  53.21989470071096 ...  0.4160959587666787 169730806\n",
       "213.87825951856232  53.24095083437476 ... 0.42949983156796995 169730806\n",
       "213.90558452881055  53.24710141174297 ... 0.36998392149278014 169730806\n",
       "213.90602172554313  53.24722472245111 ... 0.36237634725723844 169730806\n",
       "213.88861027838306  53.25148278667229 ...  0.4073376567076584 169730806\n",
       " 213.8891779527558  53.25111281879681 ...  0.2911381168119879 169730806\n",
       "213.91304890213354   53.2576421336773 ...  0.3450385934711891 169730806"
      ]
     },
     "execution_count": 31,
     "metadata": {},
     "output_type": "execute_result"
    }
   ],
   "source": [
    "targets1"
   ]
  },
  {
   "cell_type": "markdown",
   "id": "9d1a6422-2a4d-4aa3-9c61-1def738954bf",
   "metadata": {},
   "source": [
    "## ADD zmodel"
   ]
  },
  {
   "cell_type": "code",
   "execution_count": 22,
   "id": "d0cd73e8-66de-4825-8257-f368f263b060",
   "metadata": {
    "execution": {
     "iopub.execute_input": "2022-06-06T06:42:07.988954Z",
     "iopub.status.busy": "2022-06-06T06:42:07.988830Z",
     "iopub.status.idle": "2022-06-06T06:42:22.849413Z",
     "shell.execute_reply": "2022-06-06T06:42:22.848139Z",
     "shell.execute_reply.started": "2022-06-06T06:42:07.988941Z"
    },
    "tags": []
   },
   "outputs": [],
   "source": [
    "photo2 = Table.read(\"/home/kunxu/red_disk/PCF_LS_jack/photo.fits\")"
   ]
  },
  {
   "cell_type": "code",
   "execution_count": 23,
   "id": "77d3c8a9-09ac-42ee-a44a-41a8e24e5f33",
   "metadata": {
    "execution": {
     "iopub.execute_input": "2022-06-06T06:42:22.850908Z",
     "iopub.status.busy": "2022-06-06T06:42:22.850576Z",
     "iopub.status.idle": "2022-06-06T06:42:24.178811Z",
     "shell.execute_reply": "2022-06-06T06:42:24.177978Z",
     "shell.execute_reply.started": "2022-06-06T06:42:22.850887Z"
    },
    "tags": []
   },
   "outputs": [],
   "source": [
    "z_cmodel = np.array(photo2['z_cmodel_mag'])"
   ]
  },
  {
   "cell_type": "code",
   "execution_count": 24,
   "id": "4fe6708d-2788-4d8f-aac5-8885d5f8bd15",
   "metadata": {
    "execution": {
     "iopub.execute_input": "2022-06-06T06:42:24.179916Z",
     "iopub.status.busy": "2022-06-06T06:42:24.179748Z",
     "iopub.status.idle": "2022-06-06T06:42:28.035052Z",
     "shell.execute_reply": "2022-06-06T06:42:28.034125Z",
     "shell.execute_reply.started": "2022-06-06T06:42:24.179901Z"
    },
    "tags": []
   },
   "outputs": [],
   "source": [
    "targets1.add_column(Column(name = 'z_cmodel_mag',length = len(targets1),dtype = 'f8',data = z_cmodel))"
   ]
  },
  {
   "cell_type": "code",
   "execution_count": 25,
   "id": "fd4a8d94-360d-492e-97bf-21c3e18a029b",
   "metadata": {
    "collapsed": true,
    "execution": {
     "iopub.execute_input": "2022-06-06T06:42:35.921373Z",
     "iopub.status.busy": "2022-06-06T06:42:35.920996Z",
     "iopub.status.idle": "2022-06-06T06:42:35.929392Z",
     "shell.execute_reply": "2022-06-06T06:42:35.928700Z",
     "shell.execute_reply.started": "2022-06-06T06:42:35.921350Z"
    },
    "jupyter": {
     "outputs_hidden": true
    },
    "tags": []
   },
   "outputs": [
    {
     "data": {
      "text/html": [
       "<div><i>Table length=174900944</i>\n",
       "<table id=\"table47475421594768\" class=\"table-striped table-bordered table-condensed\">\n",
       "<thead><tr><th>ra</th><th>dec</th><th>mass0p35</th><th>mass0p45</th><th>u_r0p35</th><th>u_r0p45</th><th>skymap_id</th><th>z_cmodel_mag</th></tr></thead>\n",
       "<thead><tr><th>float64</th><th>float64</th><th>float64</th><th>float64</th><th>float64</th><th>float64</th><th>int32</th><th>float64</th></tr></thead>\n",
       "<tr><td>29.11596307549589</td><td>-6.775140624839325</td><td>10.141131463373675</td><td>10.325859070029514</td><td>3.112854264069183</td><td>2.8747865586091903</td><td>82780004</td><td>21.56328582763672</td></tr>\n",
       "<tr><td>29.097010963966863</td><td>-6.77468933995016</td><td>8.794554684249755</td><td>8.962278545755906</td><td>1.41175168329629</td><td>1.1311294935747653</td><td>82780004</td><td>22.58925437927246</td></tr>\n",
       "<tr><td>29.126665626064202</td><td>-6.77473359426081</td><td>8.576555889904595</td><td>8.762890349630931</td><td>1.8160370021082282</td><td>1.557536538282954</td><td>82780004</td><td>23.952926635742188</td></tr>\n",
       "<tr><td>29.067357382379907</td><td>-6.774723759969203</td><td>8.7349430906841</td><td>8.873526721542614</td><td>1.9757167691941842</td><td>1.5533592178248794</td><td>82780004</td><td>24.229347229003906</td></tr>\n",
       "<tr><td>29.11473313855873</td><td>-6.774551113549213</td><td>7.908530707747893</td><td>8.504293016768218</td><td>1.078428769021884</td><td>1.0947160058145946</td><td>82780004</td><td>23.375526428222656</td></tr>\n",
       "<tr><td>29.108439423590077</td><td>-6.773931553803997</td><td>9.616485953947404</td><td>9.795543992783637</td><td>2.714557950795668</td><td>2.48464949021043</td><td>82780004</td><td>22.23832893371582</td></tr>\n",
       "<tr><td>29.10984648746462</td><td>-6.773631608498949</td><td>8.686898825858908</td><td>8.797989409836493</td><td>0.7282026805228132</td><td>0.552660031090056</td><td>82780004</td><td>22.054401397705078</td></tr>\n",
       "<tr><td>29.096387207795175</td><td>-6.773254081977553</td><td>9.247871873762403</td><td>9.462493607707845</td><td>1.769857867160542</td><td>1.4712798383157937</td><td>82780004</td><td>21.86031723022461</td></tr>\n",
       "<tr><td>29.049894596351326</td><td>-6.773429459673613</td><td>8.166529519620553</td><td>8.352856118582768</td><td>0.9224654649500095</td><td>0.8120564867031723</td><td>82780004</td><td>23.64910125732422</td></tr>\n",
       "<tr><td>29.098610255564555</td><td>-6.773342043991594</td><td>8.543438248129403</td><td>8.734544470345693</td><td>1.6478180735128185</td><td>1.4959266034376184</td><td>82780004</td><td>23.58775520324707</td></tr>\n",
       "<tr><td>...</td><td>...</td><td>...</td><td>...</td><td>...</td><td>...</td><td>...</td><td>...</td></tr>\n",
       "<tr><td>213.90937654673772</td><td>53.18638864864173</td><td>6.485917739091609</td><td>6.879495440020261</td><td>0.5125094117592974</td><td>0.553682496543379</td><td>169730806</td><td>25.459487915039062</td></tr>\n",
       "<tr><td>213.89235322339857</td><td>53.21437135515517</td><td>7.041741350491001</td><td>6.952811380778098</td><td>0.4627276913952718</td><td>0.4794531297412241</td><td>169730806</td><td>26.24725341796875</td></tr>\n",
       "<tr><td>213.8921000830188</td><td>53.21376977390978</td><td>6.873706756378558</td><td>6.868286482752272</td><td>0.4231368663296601</td><td>0.4492392803714036</td><td>169730806</td><td>26.308719635009766</td></tr>\n",
       "<tr><td>213.88924693059377</td><td>53.21989470071096</td><td>6.307311597788188</td><td>6.634382225331621</td><td>0.29028166134643296</td><td>0.35433768111016534</td><td>169730806</td><td>24.824312210083008</td></tr>\n",
       "<tr><td>213.87825951856232</td><td>53.24095083437476</td><td>7.446569863199606</td><td>7.405781220937251</td><td>0.24771072525993443</td><td>0.35897799744886577</td><td>169730806</td><td>24.21730613708496</td></tr>\n",
       "<tr><td>213.90558452881055</td><td>53.24710141174297</td><td>7.376913569066137</td><td>7.742168549270994</td><td>0.7695422223391493</td><td>0.8840240895459505</td><td>169730806</td><td>25.07198143005371</td></tr>\n",
       "<tr><td>213.90602172554313</td><td>53.24722472245111</td><td>7.171161648680185</td><td>7.334453682695222</td><td>0.6956610513411459</td><td>0.7000483637232614</td><td>169730806</td><td>25.360687255859375</td></tr>\n",
       "<tr><td>213.88861027838306</td><td>53.25148278667229</td><td>7.118019315328016</td><td>7.270813694004296</td><td>0.49926810922207665</td><td>0.5603142568583441</td><td>169730806</td><td>26.669015884399414</td></tr>\n",
       "<tr><td>213.8891779527558</td><td>53.25111281879681</td><td>7.432475453306316</td><td>7.56772936823065</td><td>0.7014250144496372</td><td>0.6488053865477612</td><td>169730806</td><td>24.896705627441406</td></tr>\n",
       "<tr><td>213.91304890213354</td><td>53.2576421336773</td><td>7.4762198663424035</td><td>7.6050549557042</td><td>0.9087120153443622</td><td>0.8087910952562227</td><td>169730806</td><td>27.359973907470703</td></tr>\n",
       "</table></div>"
      ],
      "text/plain": [
       "<Table length=174900944>\n",
       "        ra                dec         ... skymap_id    z_cmodel_mag   \n",
       "     float64            float64       ...   int32        float64      \n",
       "------------------ ------------------ ... --------- ------------------\n",
       " 29.11596307549589 -6.775140624839325 ...  82780004  21.56328582763672\n",
       "29.097010963966863  -6.77468933995016 ...  82780004  22.58925437927246\n",
       "29.126665626064202  -6.77473359426081 ...  82780004 23.952926635742188\n",
       "29.067357382379907 -6.774723759969203 ...  82780004 24.229347229003906\n",
       " 29.11473313855873 -6.774551113549213 ...  82780004 23.375526428222656\n",
       "29.108439423590077 -6.773931553803997 ...  82780004  22.23832893371582\n",
       " 29.10984648746462 -6.773631608498949 ...  82780004 22.054401397705078\n",
       "29.096387207795175 -6.773254081977553 ...  82780004  21.86031723022461\n",
       "29.049894596351326 -6.773429459673613 ...  82780004  23.64910125732422\n",
       "29.098610255564555 -6.773342043991594 ...  82780004  23.58775520324707\n",
       "               ...                ... ...       ...                ...\n",
       "213.90937654673772  53.18638864864173 ... 169730806 25.459487915039062\n",
       "213.89235322339857  53.21437135515517 ... 169730806  26.24725341796875\n",
       " 213.8921000830188  53.21376977390978 ... 169730806 26.308719635009766\n",
       "213.88924693059377  53.21989470071096 ... 169730806 24.824312210083008\n",
       "213.87825951856232  53.24095083437476 ... 169730806  24.21730613708496\n",
       "213.90558452881055  53.24710141174297 ... 169730806  25.07198143005371\n",
       "213.90602172554313  53.24722472245111 ... 169730806 25.360687255859375\n",
       "213.88861027838306  53.25148278667229 ... 169730806 26.669015884399414\n",
       " 213.8891779527558  53.25111281879681 ... 169730806 24.896705627441406\n",
       "213.91304890213354   53.2576421336773 ... 169730806 27.359973907470703"
      ]
     },
     "execution_count": 25,
     "metadata": {},
     "output_type": "execute_result"
    }
   ],
   "source": [
    "targets1"
   ]
  },
  {
   "cell_type": "code",
   "execution_count": 26,
   "id": "37224d08-f3f3-40bc-9048-56f633c5e959",
   "metadata": {
    "execution": {
     "iopub.execute_input": "2022-06-06T06:43:23.052730Z",
     "iopub.status.busy": "2022-06-06T06:43:23.052594Z",
     "iopub.status.idle": "2022-06-06T06:45:04.139446Z",
     "shell.execute_reply": "2022-06-06T06:45:04.138586Z",
     "shell.execute_reply.started": "2022-06-06T06:43:23.052716Z"
    },
    "tags": []
   },
   "outputs": [],
   "source": [
    "Table(targets1).write(\"./photo_bayes_3_5.fits\",overwrite = True)"
   ]
  },
  {
   "cell_type": "code",
   "execution_count": null,
   "id": "9a6bac2d-c0d3-4ba3-b408-53de0e61ebcc",
   "metadata": {},
   "outputs": [],
   "source": []
  }
 ],
 "metadata": {
  "kernelspec": {
   "display_name": "numba38",
   "language": "python",
   "name": "numba38"
  },
  "language_info": {
   "codemirror_mode": {
    "name": "ipython",
    "version": 3
   },
   "file_extension": ".py",
   "mimetype": "text/x-python",
   "name": "python",
   "nbconvert_exporter": "python",
   "pygments_lexer": "ipython3",
   "version": "3.8.12"
  },
  "toc-autonumbering": true
 },
 "nbformat": 4,
 "nbformat_minor": 5
}
