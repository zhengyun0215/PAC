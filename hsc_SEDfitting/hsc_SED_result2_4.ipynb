{
 "cells": [
  {
   "cell_type": "markdown",
   "id": "90f8afd2-4fa3-41be-a35a-bc9e2632a23f",
   "metadata": {},
   "source": [
    "# Load package"
   ]
  },
  {
   "cell_type": "code",
   "execution_count": 2,
   "id": "6895bd38-b7db-407d-b2e6-e70b762f2214",
   "metadata": {
    "execution": {
     "iopub.execute_input": "2022-05-30T02:07:06.982401Z",
     "iopub.status.busy": "2022-05-30T02:07:06.981925Z",
     "iopub.status.idle": "2022-05-30T02:07:17.577891Z",
     "shell.execute_reply": "2022-05-30T02:07:17.576729Z",
     "shell.execute_reply.started": "2022-05-30T02:07:06.982348Z"
    },
    "tags": []
   },
   "outputs": [],
   "source": [
    "# from astropy import table\n",
    "import numpy as np\n",
    "import matplotlib.pyplot as plt\n",
    "import matplotlib as mpl\n",
    "%matplotlib inline\n",
    "from astropy.table import Table,Column,hstack\n",
    "from astropy.io import fits"
   ]
  },
  {
   "cell_type": "markdown",
   "id": "52d9a95f-b712-41e3-9472-bc22b77c7347",
   "metadata": {},
   "source": [
    "# Load data"
   ]
  },
  {
   "cell_type": "code",
   "execution_count": 5,
   "id": "1f875ba8-f4a9-4365-9089-9479cfe7facd",
   "metadata": {
    "execution": {
     "iopub.execute_input": "2022-05-30T02:07:48.908596Z",
     "iopub.status.busy": "2022-05-30T02:07:48.908448Z",
     "iopub.status.idle": "2022-05-30T02:08:04.189331Z",
     "shell.execute_reply": "2022-05-30T02:08:04.188688Z",
     "shell.execute_reply.started": "2022-05-30T02:07:48.908579Z"
    }
   },
   "outputs": [],
   "source": [
    "test = Table.read(\"./photo_bayes_2_4.fits\")"
   ]
  },
  {
   "cell_type": "code",
   "execution_count": 2,
   "id": "bf3b8c17-30ce-48ff-afa2-ca275d78c134",
   "metadata": {
    "execution": {
     "iopub.execute_input": "2022-05-28T13:59:36.416620Z",
     "iopub.status.busy": "2022-05-28T13:59:36.416477Z",
     "iopub.status.idle": "2022-05-28T13:59:36.576638Z",
     "shell.execute_reply": "2022-05-28T13:59:36.576117Z",
     "shell.execute_reply.started": "2022-05-28T13:59:36.416604Z"
    },
    "tags": []
   },
   "outputs": [
    {
     "name": "stdout",
     "output_type": "stream",
     "text": [
      "/home/yunzheng/PAC/code/hsc_SEDfitting\n"
     ]
    }
   ],
   "source": [
    "!pwd"
   ]
  },
  {
   "cell_type": "code",
   "execution_count": 3,
   "id": "93d6e49b-c932-4b02-8719-7b33cdd9320e",
   "metadata": {
    "execution": {
     "iopub.execute_input": "2022-05-28T13:59:43.413815Z",
     "iopub.status.busy": "2022-05-28T13:59:43.413682Z",
     "iopub.status.idle": "2022-05-28T13:59:47.985205Z",
     "shell.execute_reply": "2022-05-28T13:59:47.984708Z",
     "shell.execute_reply.started": "2022-05-28T13:59:43.413797Z"
    },
    "tags": []
   },
   "outputs": [],
   "source": [
    "result0 = Table.read(\"/home/yunzheng/PAC/code/hsc_SEDfitting/0p25/0/out/results.fits\")"
   ]
  },
  {
   "cell_type": "code",
   "execution_count": 5,
   "id": "bf9803ae-71de-474e-b288-d23c4c6fed8b",
   "metadata": {
    "collapsed": true,
    "execution": {
     "iopub.execute_input": "2022-05-28T14:00:02.412822Z",
     "iopub.status.busy": "2022-05-28T14:00:02.412504Z",
     "iopub.status.idle": "2022-05-28T14:00:02.429833Z",
     "shell.execute_reply": "2022-05-28T14:00:02.429498Z",
     "shell.execute_reply.started": "2022-05-28T14:00:02.412805Z"
    },
    "jupyter": {
     "outputs_hidden": true
    },
    "tags": []
   },
   "outputs": [
    {
     "data": {
      "text/html": [
       "<div><i>Table length=2</i>\n",
       "<table id=\"table47111068480176\" class=\"table-striped table-bordered table-condensed\">\n",
       "<thead><tr><th>id</th><th>bayes.param.restframe_Lnu(DECam.g)</th><th>bayes.param.restframe_Lnu(DECam.g)_err</th><th>bayes.param.restframe_Lnu(DECam.r)</th><th>bayes.param.restframe_Lnu(DECam.r)_err</th><th>bayes.param.restframe_Lnu(sdss.gp)</th><th>bayes.param.restframe_Lnu(sdss.gp)_err</th><th>bayes.param.restframe_Lnu(sdss.rp)</th><th>bayes.param.restframe_Lnu(sdss.rp)_err</th><th>bayes.param.restframe_Lnu(sdss.up)</th><th>bayes.param.restframe_Lnu(sdss.up)_err</th><th>bayes.param.restframe_Lnu(subaru.hsc.g)</th><th>bayes.param.restframe_Lnu(subaru.hsc.g)_err</th><th>bayes.param.restframe_Lnu(subaru.hsc.r)</th><th>bayes.param.restframe_Lnu(subaru.hsc.r)_err</th><th>bayes.stellar.m_star</th><th>bayes.stellar.m_star_err</th><th>bayes.subaru.hsc.g</th><th>bayes.subaru.hsc.g_err</th><th>bayes.subaru.hsc.r</th><th>bayes.subaru.hsc.r_err</th><th>best.chi_square</th><th>best.reduced_chi_square</th><th>best.attenuation.E_BVs.nebular.continuum_old</th><th>best.attenuation.E_BVs.nebular.continuum_young</th><th>best.attenuation.E_BVs.nebular.lines_old</th><th>best.attenuation.E_BVs.nebular.lines_young</th><th>best.attenuation.E_BVs.stellar.old</th><th>best.attenuation.E_BVs.stellar.young</th><th>best.attenuation.ebvs_old_factor</th><th>best.attenuation.powerlaw_slope</th><th>best.attenuation.subaru.hsc.g</th><th>best.attenuation.uv_bump_amplitude</th><th>best.attenuation.uv_bump_wavelength</th><th>best.attenuation.uv_bump_width</th><th>best.nebular.f_dust</th><th>best.nebular.f_esc</th><th>best.nebular.lines_width</th><th>best.nebular.logU</th><th>best.param.restframe_DECam.g-DECam.r</th><th>best.param.restframe_sdss.gp-sdss.rp</th><th>best.param.restframe_sdss.up-sdss.rp</th><th>best.param.restframe_subaru.hsc.g-subaru.hsc.r</th><th>best.sfh.age</th><th>best.sfh.age_burst</th><th>best.sfh.age_main</th><th>best.sfh.f_burst</th><th>best.sfh.tau_burst</th><th>best.sfh.tau_main</th><th>best.stellar.age_m_star</th><th>best.stellar.imf</th><th>best.stellar.metallicity</th><th>best.stellar.old_young_separation_age</th><th>best.universe.age</th><th>best.universe.luminosity_distance</th><th>best.universe.redshift</th><th>best.attenuation.nebular.continuum_old</th><th>best.attenuation.nebular.continuum_young</th><th>best.attenuation.nebular.lines_old</th><th>best.attenuation.nebular.lines_young</th><th>best.attenuation.stellar.old</th><th>best.attenuation.stellar.young</th><th>best.dust.luminosity</th><th>best.param.restframe_Lnu(DECam.g)</th><th>best.param.restframe_Lnu(DECam.r)</th><th>best.param.restframe_Lnu(sdss.gp)</th><th>best.param.restframe_Lnu(sdss.rp)</th><th>best.param.restframe_Lnu(sdss.up)</th><th>best.param.restframe_Lnu(subaru.hsc.g)</th><th>best.param.restframe_Lnu(subaru.hsc.r)</th><th>best.sfh.integrated</th><th>best.sfh.sfr</th><th>best.sfh.sfr100Myrs</th><th>best.sfh.sfr10Myrs</th><th>best.stellar.lum</th><th>best.stellar.lum_ly</th><th>best.stellar.lum_ly_old</th><th>best.stellar.lum_ly_young</th><th>best.stellar.lum_old</th><th>best.stellar.lum_young</th><th>best.stellar.m_gas</th><th>best.stellar.m_gas_old</th><th>best.stellar.m_gas_young</th><th>best.stellar.m_star</th><th>best.stellar.m_star_old</th><th>best.stellar.m_star_young</th><th>best.stellar.n_ly</th><th>best.stellar.n_ly_old</th><th>best.stellar.n_ly_young</th><th>best.subaru.hsc.g</th><th>best.subaru.hsc.r</th><th>best.subaru.hsc.i</th><th>best.subaru.hsc.z</th><th>best.subaru.hsc.y</th></tr></thead>\n",
       "<thead><tr><th></th><th>W</th><th>W</th><th>W</th><th>W</th><th>W</th><th>W</th><th>W</th><th>W</th><th>W</th><th>W</th><th>W</th><th>W</th><th>W</th><th>W</th><th>solMass</th><th>solMass</th><th>mJy</th><th>mJy</th><th>mJy</th><th>mJy</th><th></th><th></th><th>mag</th><th>mag</th><th>mag</th><th>mag</th><th>mag</th><th>mag</th><th></th><th></th><th>mag</th><th></th><th>nm</th><th>nm</th><th></th><th></th><th>km / s</th><th></th><th>mag</th><th>mag</th><th>mag</th><th>mag</th><th>Myr</th><th>Myr</th><th>Myr</th><th></th><th>Myr</th><th>Myr</th><th>Myr</th><th></th><th></th><th>Myr</th><th>Myr</th><th>m</th><th></th><th>mag</th><th>mag</th><th>mag</th><th>mag</th><th>mag</th><th>mag</th><th>W</th><th>W</th><th>W</th><th>W</th><th>W</th><th>W</th><th>W</th><th>W</th><th>solMass</th><th>solMass / yr</th><th>solMass / yr</th><th>solMass / yr</th><th>W</th><th>W</th><th>W</th><th>W</th><th>W</th><th>W</th><th>solMass</th><th>solMass</th><th>solMass</th><th>solMass</th><th>solMass</th><th>solMass</th><th>ph / s</th><th>ph / s</th><th>ph / s</th><th>mJy</th><th>mJy</th><th>mJy</th><th>mJy</th><th>mJy</th></tr></thead>\n",
       "<thead><tr><th>int64</th><th>float64</th><th>float64</th><th>float64</th><th>float64</th><th>float64</th><th>float64</th><th>float64</th><th>float64</th><th>float64</th><th>float64</th><th>float64</th><th>float64</th><th>float64</th><th>float64</th><th>float64</th><th>float64</th><th>float64</th><th>float64</th><th>float64</th><th>float64</th><th>float64</th><th>float64</th><th>float64</th><th>float64</th><th>float64</th><th>float64</th><th>float64</th><th>float64</th><th>float64</th><th>float64</th><th>float64</th><th>float64</th><th>float64</th><th>float64</th><th>float64</th><th>float64</th><th>float64</th><th>float64</th><th>float64</th><th>float64</th><th>float64</th><th>float64</th><th>float64</th><th>float64</th><th>float64</th><th>float64</th><th>float64</th><th>float64</th><th>float64</th><th>float64</th><th>float64</th><th>float64</th><th>float64</th><th>float64</th><th>float64</th><th>float64</th><th>float64</th><th>float64</th><th>float64</th><th>float64</th><th>float64</th><th>float64</th><th>float64</th><th>float64</th><th>float64</th><th>float64</th><th>float64</th><th>float64</th><th>float64</th><th>float64</th><th>float64</th><th>float64</th><th>float64</th><th>float64</th><th>float64</th><th>float64</th><th>float64</th><th>float64</th><th>float64</th><th>float64</th><th>float64</th><th>float64</th><th>float64</th><th>float64</th><th>float64</th><th>float64</th><th>float64</th><th>float64</th><th>float64</th><th>float64</th><th>float64</th><th>float64</th><th>float64</th></tr></thead>\n",
       "<tr><td>0</td><td>3.2212516947592164e+20</td><td>1.6106258473796084e+19</td><td>9.552632213191156e+20</td><td>4.776316106595579e+19</td><td>2.8334411328372477e+20</td><td>1.4167205664186239e+19</td><td>8.576911663941724e+20</td><td>4.288455831970863e+19</td><td>3.4023186408701542e+19</td><td>4.757251319031853e+18</td><td>3.12582862847259e+20</td><td>1.562914314236295e+19</td><td>8.686159346788973e+20</td><td>4.3430796733944865e+19</td><td>7697530159.440357</td><td>1687896236.6853056</td><td>0.0004643745685050927</td><td>4.534784170990729e-05</td><td>0.0024516806749467477</td><td>6.499219693267879e-05</td><td>3.2358403754077267</td><td>0.8089600938519317</td><td>0.33</td><td>0.5</td><td>0.33</td><td>0.5</td><td>0.33</td><td>0.5</td><td>0.66</td><td>0.0</td><td>1.5103904425850458</td><td>0.0</td><td>217.5</td><td>35.0</td><td>0.0</td><td>0.0</td><td>300.0</td><td>-3.0</td><td>1.2039562677521207</td><td>1.2242344768064832</td><td>3.518234938140789</td><td>1.1312142485100019</td><td>6000.0</td><td>5.0</td><td>6000.0</td><td>0.0</td><td>5.0</td><td>631.0</td><td>4727.272915130202</td><td>1.0</td><td>0.05</td><td>10.0</td><td>10814.07711646036</td><td>3.8863520058171856e+25</td><td>0.25</td><td>1.3739955139033836e+33</td><td>1.3052681845753792e+33</td><td>3.020137766820818e+33</td><td>2.8257204177384014e+33</td><td>1.1019622313778966e+36</td><td>3.4826612098943075e+34</td><td>1.145313965359878e+36</td><td>3.1766930214898414e+20</td><td>9.628480519634158e+20</td><td>2.7893127433042838e+20</td><td>8.613724984715278e+20</td><td>3.3720734549075173e+19</td><td>3.079586623865886e+20</td><td>8.72927396776118e+20</td><td>15186959555.415781</td><td>0.01701905063879197</td><td>0.018271069606065907</td><td>0.017128138753125022</td><td>2.96308884693984e+36</td><td>1.4863572826933206e+34</td><td>9.290199275281184e+33</td><td>5.573373551652021e+33</td><td>2.9206576069217344e+36</td><td>4.243124001810538e+34</td><td>7065718547.239978</td><td>7065705300.510826</td><td>13246.729151891366</td><td>8121241008.202343</td><td>8121082973.517421</td><td>158034.68492244312</td><td>3.7874955803805735e+51</td><td>2.021937946354856e+51</td><td>1.7655576340257174e+51</td><td>0.00045964506766960387</td><td>0.0024167986275256247</td><td>0.005688317252111156</td><td>0.008344550767007172</td><td>0.011257230667707065</td></tr>\n",
       "<tr><td>1</td><td>3.448749229341818e+20</td><td>1.7243746146709092e+19</td><td>5.108944756457362e+20</td><td>2.554472378228681e+19</td><td>3.3148328145229663e+20</td><td>1.6574164072614832e+19</td><td>4.929077280395881e+20</td><td>2.4645386401979404e+19</td><td>1.0627493442121815e+20</td><td>1.6528405533497784e+19</td><td>3.427189218850899e+20</td><td>1.7135946094254498e+19</td><td>4.9308456173289996e+20</td><td>2.4654228086645e+19</td><td>413731712.55318534</td><td>117484496.52506793</td><td>0.0011175631114679174</td><td>9.592111007009067e-05</td><td>0.002419072879920053</td><td>0.00011031619029452705</td><td>0.7360345473180321</td><td>0.18400863682950802</td><td>0.0</td><td>0.0</td><td>0.0</td><td>0.0</td><td>0.0</td><td>0.0</td><td>0.33</td><td>0.0</td><td>-0.0</td><td>0.0</td><td>217.5</td><td>35.0</td><td>0.0</td><td>0.0</td><td>300.0</td><td>-3.0</td><td>0.39119504817023587</td><td>0.40367988224698015</td><td>1.8268886714287187</td><td>0.36731844722655055</td><td>800.0</td><td>5.0</td><td>800.0</td><td>0.0</td><td>5.0</td><td>63.1</td><td>672.8161288958854</td><td>1.0</td><td>0.05</td><td>10.0</td><td>10814.07711646036</td><td>3.8863520058171856e+25</td><td>0.25</td><td>-0.0</td><td>-0.0</td><td>-0.0</td><td>-0.0</td><td>-0.0</td><td>-0.0</td><td>0.0</td><td>3.61479924069143e+20</td><td>5.182773167498939e+20</td><td>3.4663688364779916e+20</td><td>5.0274380125681536e+20</td><td>9.345257144720343e+19</td><td>3.5940526489655647e+20</td><td>5.040943312598491e+20</td><td>536121774.63259554</td><td>0.0003408404967556154</td><td>0.0007631023071122747</td><td>0.0003642911158343782</td><td>4.583797816354125e+35</td><td>5.176704627052145e+32</td><td>4.039875896484935e+32</td><td>1.1368287305672094e+32</td><td>4.574981161308644e+35</td><td>8.816655045480509e+32</td><td>201965362.79637292</td><td>201965074.166943</td><td>288.62942992457397</td><td>334156411.83678573</td><td>334153057.55449426</td><td>3354.282291467588</td><td>1.1770710187025662e+50</td><td>8.17684571439571e+49</td><td>3.593864472629952e+49</td><td>0.0010683333919067888</td><td>0.002551379730268292</td><td>0.0033174157595515148</td><td>0.0036624165167957004</td><td>0.00396975723026221</td></tr>\n",
       "</table></div>"
      ],
      "text/plain": [
       "<Table length=2>\n",
       "  id  bayes.param.restframe_Lnu(DECam.g) ...  best.subaru.hsc.y  \n",
       "                      W                  ...         mJy         \n",
       "int64              float64               ...       float64       \n",
       "----- ---------------------------------- ... --------------------\n",
       "    0             3.2212516947592164e+20 ... 0.011257230667707065\n",
       "    1              3.448749229341818e+20 ...  0.00396975723026221"
      ]
     },
     "execution_count": 5,
     "metadata": {},
     "output_type": "execute_result"
    }
   ],
   "source": [
    "result0[:2]"
   ]
  },
  {
   "cell_type": "code",
   "execution_count": 4,
   "id": "3671d0d8-5de5-4403-9f21-7f9820839db4",
   "metadata": {
    "collapsed": true,
    "execution": {
     "iopub.execute_input": "2021-12-27T09:46:27.704070Z",
     "iopub.status.busy": "2021-12-27T09:46:27.703917Z",
     "iopub.status.idle": "2021-12-27T09:46:27.752690Z",
     "shell.execute_reply": "2021-12-27T09:46:27.752106Z",
     "shell.execute_reply.started": "2021-12-27T09:46:27.704055Z"
    },
    "jupyter": {
     "outputs_hidden": true
    },
    "tags": []
   },
   "outputs": [
    {
     "data": {
      "text/html": [
       "<div><i>Table length=1028875</i>\n",
       "<table id=\"table47527328744784\" class=\"table-striped table-bordered table-condensed\">\n",
       "<thead><tr><th>id</th><th>bayes.param.restframe_Lnu(DECam.g)</th><th>bayes.param.restframe_Lnu(DECam.g)_err</th><th>bayes.param.restframe_Lnu(DECam.r)</th><th>bayes.param.restframe_Lnu(DECam.r)_err</th><th>bayes.param.restframe_Lnu(sdss.up)</th><th>bayes.param.restframe_Lnu(sdss.up)_err</th><th>bayes.param.restframe_Lnu(subaru.hsc.g)</th><th>bayes.param.restframe_Lnu(subaru.hsc.g)_err</th><th>bayes.param.restframe_Lnu(subaru.hsc.r)</th><th>bayes.param.restframe_Lnu(subaru.hsc.r)_err</th><th>bayes.stellar.m_star</th><th>bayes.stellar.m_star_err</th><th>bayes.subaru.hsc.g</th><th>bayes.subaru.hsc.g_err</th><th>bayes.subaru.hsc.r</th><th>bayes.subaru.hsc.r_err</th><th>best.chi_square</th><th>best.reduced_chi_square</th><th>best.attenuation.E_BVs.nebular.continuum_old</th><th>best.attenuation.E_BVs.nebular.continuum_young</th><th>best.attenuation.E_BVs.nebular.lines_old</th><th>best.attenuation.E_BVs.nebular.lines_young</th><th>best.attenuation.E_BVs.stellar.old</th><th>best.attenuation.E_BVs.stellar.young</th><th>best.attenuation.ebvs_old_factor</th><th>best.attenuation.powerlaw_slope</th><th>best.attenuation.subaru.hsc.g</th><th>best.attenuation.uv_bump_amplitude</th><th>best.attenuation.uv_bump_wavelength</th><th>best.attenuation.uv_bump_width</th><th>best.nebular.f_dust</th><th>best.nebular.f_esc</th><th>best.nebular.lines_width</th><th>best.nebular.logU</th><th>best.param.restframe_DECam.g-DECam.r</th><th>best.param.restframe_sdss.gp-sdss.rp</th><th>best.param.restframe_sdss.up-DECam.r</th><th>best.param.restframe_sdss.up-sdss.rp</th><th>best.param.restframe_sdss.up-subaru.hsc.r</th><th>best.param.restframe_subaru.hsc.g-subaru.hsc.r</th><th>best.sfh.age</th><th>best.sfh.age_burst</th><th>best.sfh.age_main</th><th>best.sfh.f_burst</th><th>best.sfh.tau_burst</th><th>best.sfh.tau_main</th><th>best.stellar.age_m_star</th><th>best.stellar.imf</th><th>best.stellar.metallicity</th><th>best.stellar.old_young_separation_age</th><th>best.universe.age</th><th>best.universe.luminosity_distance</th><th>best.universe.redshift</th><th>best.attenuation.nebular.continuum_old</th><th>best.attenuation.nebular.continuum_young</th><th>best.attenuation.nebular.lines_old</th><th>best.attenuation.nebular.lines_young</th><th>best.attenuation.stellar.old</th><th>best.attenuation.stellar.young</th><th>best.dust.luminosity</th><th>best.param.restframe_Lnu(DECam.g)</th><th>best.param.restframe_Lnu(DECam.r)</th><th>best.param.restframe_Lnu(sdss.gp)</th><th>best.param.restframe_Lnu(sdss.rp)</th><th>best.param.restframe_Lnu(sdss.up)</th><th>best.param.restframe_Lnu(subaru.hsc.g)</th><th>best.param.restframe_Lnu(subaru.hsc.r)</th><th>best.sfh.integrated</th><th>best.sfh.sfr</th><th>best.sfh.sfr100Myrs</th><th>best.sfh.sfr10Myrs</th><th>best.stellar.lum</th><th>best.stellar.lum_ly</th><th>best.stellar.lum_ly_old</th><th>best.stellar.lum_ly_young</th><th>best.stellar.lum_old</th><th>best.stellar.lum_young</th><th>best.stellar.m_gas</th><th>best.stellar.m_gas_old</th><th>best.stellar.m_gas_young</th><th>best.stellar.m_star</th><th>best.stellar.m_star_old</th><th>best.stellar.m_star_young</th><th>best.stellar.n_ly</th><th>best.stellar.n_ly_old</th><th>best.stellar.n_ly_young</th><th>best.subaru.hsc.g</th><th>best.subaru.hsc.r</th><th>best.subaru.hsc.i</th><th>best.subaru.hsc.z</th><th>best.subaru.hsc.y</th></tr></thead>\n",
       "<thead><tr><th></th><th>W</th><th>W</th><th>W</th><th>W</th><th>W</th><th>W</th><th>W</th><th>W</th><th>W</th><th>W</th><th>solMass</th><th>solMass</th><th>mJy</th><th>mJy</th><th>mJy</th><th>mJy</th><th></th><th></th><th>mag</th><th>mag</th><th>mag</th><th>mag</th><th>mag</th><th>mag</th><th></th><th></th><th>mag</th><th></th><th>nm</th><th>nm</th><th></th><th></th><th>km / s</th><th></th><th>mag</th><th>mag</th><th>mag</th><th>mag</th><th>mag</th><th>mag</th><th>Myr</th><th>Myr</th><th>Myr</th><th></th><th>Myr</th><th>Myr</th><th>Myr</th><th></th><th></th><th>Myr</th><th>Myr</th><th>m</th><th></th><th>mag</th><th>mag</th><th>mag</th><th>mag</th><th>mag</th><th>mag</th><th>W</th><th>W</th><th>W</th><th>W</th><th>W</th><th>W</th><th>W</th><th>W</th><th>solMass</th><th>solMass / yr</th><th>solMass / yr</th><th>solMass / yr</th><th>W</th><th>W</th><th>W</th><th>W</th><th>W</th><th>W</th><th>solMass</th><th>solMass</th><th>solMass</th><th>solMass</th><th>solMass</th><th>solMass</th><th>ph / s</th><th>ph / s</th><th>ph / s</th><th>mJy</th><th>mJy</th><th>mJy</th><th>mJy</th><th>mJy</th></tr></thead>\n",
       "<thead><tr><th>int64</th><th>float64</th><th>float64</th><th>float64</th><th>float64</th><th>float64</th><th>float64</th><th>float64</th><th>float64</th><th>float64</th><th>float64</th><th>float64</th><th>float64</th><th>float64</th><th>float64</th><th>float64</th><th>float64</th><th>float64</th><th>float64</th><th>float64</th><th>float64</th><th>float64</th><th>float64</th><th>float64</th><th>float64</th><th>float64</th><th>float64</th><th>float64</th><th>float64</th><th>float64</th><th>float64</th><th>float64</th><th>float64</th><th>float64</th><th>float64</th><th>float64</th><th>float64</th><th>float64</th><th>float64</th><th>float64</th><th>float64</th><th>float64</th><th>float64</th><th>float64</th><th>float64</th><th>float64</th><th>float64</th><th>float64</th><th>float64</th><th>float64</th><th>float64</th><th>float64</th><th>float64</th><th>float64</th><th>float64</th><th>float64</th><th>float64</th><th>float64</th><th>float64</th><th>float64</th><th>float64</th><th>float64</th><th>float64</th><th>float64</th><th>float64</th><th>float64</th><th>float64</th><th>float64</th><th>float64</th><th>float64</th><th>float64</th><th>float64</th><th>float64</th><th>float64</th><th>float64</th><th>float64</th><th>float64</th><th>float64</th><th>float64</th><th>float64</th><th>float64</th><th>float64</th><th>float64</th><th>float64</th><th>float64</th><th>float64</th><th>float64</th><th>float64</th><th>float64</th><th>float64</th><th>float64</th><th>float64</th></tr></thead>\n",
       "<tr><td>0</td><td>3.2212516947592164e+20</td><td>1.6106258473796084e+19</td><td>9.552632213191156e+20</td><td>4.776316106595579e+19</td><td>3.4023186408701542e+19</td><td>4.757251319031853e+18</td><td>3.12582862847259e+20</td><td>1.562914314236295e+19</td><td>8.686159346788973e+20</td><td>4.3430796733944865e+19</td><td>7697530159.440357</td><td>1687896236.6853056</td><td>0.0004643745685050927</td><td>4.534784170990729e-05</td><td>0.0024516806749467477</td><td>6.499219693267879e-05</td><td>3.2358403754077267</td><td>0.8089600938519317</td><td>0.33</td><td>0.5</td><td>0.33</td><td>0.5</td><td>0.33</td><td>0.5</td><td>0.66</td><td>0.0</td><td>1.5103904425850458</td><td>0.0</td><td>217.5</td><td>35.0</td><td>0.0</td><td>0.0</td><td>300.0</td><td>-3.0</td><td>1.2039562677521207</td><td>1.2242344768064832</td><td>3.6391518241247023</td><td>3.518234938140789</td><td>3.532702743971838</td><td>1.1312142485100019</td><td>6000.0</td><td>5.0</td><td>6000.0</td><td>0.0</td><td>5.0</td><td>631.0</td><td>4727.272915130202</td><td>1.0</td><td>0.05</td><td>10.0</td><td>10814.07711646036</td><td>3.8863520058171856e+25</td><td>0.25</td><td>1.3739955139033836e+33</td><td>1.3052681845753792e+33</td><td>3.020137766820818e+33</td><td>2.8257204177384014e+33</td><td>1.1019622313778966e+36</td><td>3.4826612098943075e+34</td><td>1.145313965359878e+36</td><td>3.1766930214898414e+20</td><td>9.628480519634158e+20</td><td>2.7893127433042838e+20</td><td>8.613724984715278e+20</td><td>3.3720734549075173e+19</td><td>3.079586623865886e+20</td><td>8.72927396776118e+20</td><td>15186959555.415781</td><td>0.01701905063879197</td><td>0.018271069606065907</td><td>0.017128138753125022</td><td>2.96308884693984e+36</td><td>1.4863572826933206e+34</td><td>9.290199275281184e+33</td><td>5.573373551652021e+33</td><td>2.9206576069217344e+36</td><td>4.243124001810538e+34</td><td>7065718547.239978</td><td>7065705300.510826</td><td>13246.729151891366</td><td>8121241008.202343</td><td>8121082973.517421</td><td>158034.68492244312</td><td>3.7874955803805735e+51</td><td>2.021937946354856e+51</td><td>1.7655576340257174e+51</td><td>0.00045964506766960387</td><td>0.0024167986275256247</td><td>0.005688317252111156</td><td>0.008344550767007172</td><td>0.011257230667707065</td></tr>\n",
       "<tr><td>1</td><td>3.448749229341818e+20</td><td>1.7243746146709092e+19</td><td>5.108944756457362e+20</td><td>2.554472378228681e+19</td><td>1.0627493442121815e+20</td><td>1.6528405533497784e+19</td><td>3.427189218850899e+20</td><td>1.7135946094254498e+19</td><td>4.9308456173289996e+20</td><td>2.4654228086645e+19</td><td>413731712.55318534</td><td>117484496.52506793</td><td>0.0011175631114679174</td><td>9.592111007009067e-05</td><td>0.002419072879920053</td><td>0.00011031619029452705</td><td>0.7360345473180321</td><td>0.18400863682950802</td><td>0.0</td><td>0.0</td><td>0.0</td><td>0.0</td><td>0.0</td><td>0.0</td><td>0.33</td><td>0.0</td><td>-0.0</td><td>0.0</td><td>217.5</td><td>35.0</td><td>0.0</td><td>0.0</td><td>300.0</td><td>-3.0</td><td>0.39119504817023587</td><td>0.40367988224698015</td><td>1.8599273642388123</td><td>1.8268886714287187</td><td>1.8298013942427853</td><td>0.36731844722655055</td><td>800.0</td><td>5.0</td><td>800.0</td><td>0.0</td><td>5.0</td><td>63.1</td><td>672.8161288958854</td><td>1.0</td><td>0.05</td><td>10.0</td><td>10814.07711646036</td><td>3.8863520058171856e+25</td><td>0.25</td><td>-0.0</td><td>-0.0</td><td>-0.0</td><td>-0.0</td><td>-0.0</td><td>-0.0</td><td>0.0</td><td>3.61479924069143e+20</td><td>5.182773167498939e+20</td><td>3.4663688364779916e+20</td><td>5.0274380125681536e+20</td><td>9.345257144720343e+19</td><td>3.5940526489655647e+20</td><td>5.040943312598491e+20</td><td>536121774.63259554</td><td>0.0003408404967556154</td><td>0.0007631023071122747</td><td>0.0003642911158343782</td><td>4.583797816354125e+35</td><td>5.176704627052145e+32</td><td>4.039875896484935e+32</td><td>1.1368287305672094e+32</td><td>4.574981161308644e+35</td><td>8.816655045480509e+32</td><td>201965362.79637292</td><td>201965074.166943</td><td>288.62942992457397</td><td>334156411.83678573</td><td>334153057.55449426</td><td>3354.282291467588</td><td>1.1770710187025662e+50</td><td>8.17684571439571e+49</td><td>3.593864472629952e+49</td><td>0.0010683333919067888</td><td>0.002551379730268292</td><td>0.0033174157595515148</td><td>0.0036624165167957004</td><td>0.00396975723026221</td></tr>\n",
       "<tr><td>2</td><td>7.405198213291844e+19</td><td>3.702599106645922e+18</td><td>1.3339503485940285e+20</td><td>8.066781888356779e+18</td><td>1.9109821718141526e+19</td><td>4.785341711473991e+18</td><td>7.32005179680506e+19</td><td>3.6600258984025303e+18</td><td>1.266992030035608e+20</td><td>6.873931178109091e+18</td><td>217492287.978127</td><td>112257807.70729233</td><td>0.0002009213769860722</td><td>3.703215971849584e-05</td><td>0.0005335029048943486</td><td>2.133295806835668e-05</td><td>1.3632494734963339</td><td>0.34081236837408346</td><td>0.33</td><td>0.5</td><td>0.33</td><td>0.5</td><td>0.33</td><td>0.5</td><td>0.66</td><td>0.0</td><td>1.6604788526395415</td><td>0.0</td><td>217.5</td><td>35.0</td><td>0.0</td><td>0.0</td><td>300.0</td><td>-3.0</td><td>0.7271171848865381</td><td>0.7274003195334487</td><td>1.9840998224062134</td><td>1.9237388005650073</td><td>1.9144786016096762</td><td>0.6706863087267554</td><td>6000.0</td><td>5.0</td><td>6000.0</td><td>0.0</td><td>5.0</td><td>12600.0</td><td>2057.249154824058</td><td>1.0</td><td>0.05</td><td>10.0</td><td>10814.07711646036</td><td>3.8863520058171856e+25</td><td>0.25</td><td>6.844823835612473e+31</td><td>1.0634571080486798e+34</td><td>1.5045399176333994e+32</td><td>2.3022337471435155e+34</td><td>2.3837938791109084e+35</td><td>2.830515815843914e+35</td><td>5.553067802775237e+35</td><td>7.053285681024133e+19</td><td>1.3779655132627586e+20</td><td>6.670122529628885e+19</td><td>1.3034486895031296e+20</td><td>2.2161462610339946e+19</td><td>6.968115435475838e+19</td><td>1.2923789037911528e+20</td><td>491561220.1357758</td><td>0.13891611163813541</td><td>0.13831099153347037</td><td>0.13886148016253594</td><td>7.581668695626971e+35</td><td>4.581816027812796e+34</td><td>4.201128468690883e+32</td><td>4.539804743125887e+34</td><td>4.132593326088086e+35</td><td>3.449075369538884e+35</td><td>204072674.01267228</td><td>203965580.83822513</td><td>107093.17444714412</td><td>287488546.3383498</td><td>286207024.4959257</td><td>1281521.8424241312</td><td>1.4485470334569215e+52</td><td>1.0072674116687285e+50</td><td>1.4384743593402343e+52</td><td>0.000221806096984798</td><td>0.00049980556592254</td><td>0.0008521667698725825</td><td>0.0010190125187976749</td><td>0.0012680112732811335</td></tr>\n",
       "<tr><td>3</td><td>9.120112464682695e+19</td><td>1.432574022957261e+19</td><td>2.0716997456269476e+20</td><td>2.230199059832662e+19</td><td>7.878458689177875e+19</td><td>2.8221830099959316e+19</td><td>9.118977099971047e+19</td><td>1.451894730976389e+19</td><td>1.937702987736281e+20</td><td>1.9337730745018655e+19</td><td>15629251.801655391</td><td>50035973.63252095</td><td>0.0005197236080683586</td><td>0.0001602519183351292</td><td>0.000607508425451457</td><td>8.712599051343554e-05</td><td>4.13398902483546</td><td>1.37799634161182</td><td>0.165</td><td>0.5</td><td>0.165</td><td>0.5</td><td>0.165</td><td>0.5</td><td>0.33</td><td>0.0</td><td>2.354671201633234</td><td>0.0</td><td>217.5</td><td>35.0</td><td>0.0</td><td>0.0</td><td>300.0</td><td>-3.0</td><td>1.1860144768817804</td><td>1.2607097698978285</td><td>1.554935085390043</td><td>1.6256986709231616</td><td>1.4815911587794157</td><td>1.1155719326435745</td><td>10.0</td><td>5.0</td><td>10.0</td><td>0.0</td><td>5.0</td><td>12600.0</td><td>3.5690496450974054</td><td>1.0</td><td>0.05</td><td>10.0</td><td>10814.07711646036</td><td>3.8863520058171856e+25</td><td>0.25</td><td>-0.0</td><td>1.3816395529360141e+35</td><td>-0.0</td><td>2.99105359405992e+35</td><td>-0.0</td><td>2.9088210739553556e+36</td><td>3.346090388654948e+36</td><td>7.416235458838107e+19</td><td>2.2110028407398082e+20</td><td>7.389428084139601e+19</td><td>2.3599061647924868e+20</td><td>5.279773190299122e+19</td><td>7.396443717305267e+19</td><td>2.0665776582476952e+20</td><td>10436329.253278986</td><td>2.0868241158799568</td><td>1.0436329253278984</td><td>1.0436329253278984</td><td>3.599613813830245e+36</td><td>5.781047552278049e+35</td><td>0.0</td><td>5.781047552278049e+35</td><td>0.0</td><td>3.599613813830245e+36</td><td>471212.4332286096</td><td>0.0</td><td>471212.4332286096</td><td>9965118.498441273</td><td>0.0</td><td>9965118.498441273</td><td>1.8688605828170223e+53</td><td>0.0</td><td>1.8688605828170223e+53</td><td>0.00038094449288119726</td><td>0.0004983619653525655</td><td>0.0014466204975634332</td><td>0.0006844315119466362</td><td>0.0007808868093532053</td></tr>\n",
       "<tr><td>4</td><td>9.04403462407241e+19</td><td>4.5220173120362056e+18</td><td>1.3675348318388363e+20</td><td>1.1295875728384748e+19</td><td>3.600907947631576e+19</td><td>8.216275422281567e+18</td><td>8.992150330390331e+19</td><td>4.4960751651951657e+18</td><td>1.3130640955623904e+20</td><td>9.736504824269887e+18</td><td>115030096.07118954</td><td>66850415.973158434</td><td>0.00033577670259405816</td><td>4.9382231344086895e-05</td><td>0.0006274020271890932</td><td>2.4102736199813165e-05</td><td>9.811850801505146</td><td>2.4529627003762866</td><td>0.33</td><td>0.5</td><td>0.33</td><td>0.5</td><td>0.33</td><td>0.5</td><td>0.66</td><td>0.0</td><td>1.5677873092120873</td><td>0.0</td><td>217.5</td><td>35.0</td><td>0.0</td><td>0.0</td><td>300.0</td><td>-3.0</td><td>0.41355160941566266</td><td>0.3968462016756563</td><td>1.3509165641111358</td><td>1.3002432294942752</td><td>1.3051113398807603</td><td>0.3741728902484734</td><td>100.0</td><td>5.0</td><td>100.0</td><td>0.0</td><td>5.0</td><td>12.6</td><td>74.63500052843058</td><td>1.0</td><td>0.02</td><td>10.0</td><td>10814.07711646036</td><td>3.8863520058171856e+25</td><td>0.25</td><td>2.363764510006913e+31</td><td>2.6333056560001094e+33</td><td>5.268802065535477e+31</td><td>5.820190004081082e+33</td><td>4.8116964115433726e+35</td><td>5.029520123890293e+34</td><td>5.399946637190768e+35</td><td>9.116174953218489e+19</td><td>1.3342379681445634e+20</td><td>8.83538504197884e+19</td><td>1.2733974072814446e+20</td><td>3.8447372861828e+19</td><td>9.062375418664264e+19</td><td>1.2791197523709243e+20</td><td>84411548.42743886</td><td>0.020447962046563465</td><td>0.8441154842743885</td><td>0.02843078006911825</td><td>6.876978607322822e+35</td><td>1.106742004757932e+34</td><td>7.605042625452445e+31</td><td>1.0991369621324794e+34</td><td>6.241250545606888e+35</td><td>6.357280617159331e+34</td><td>21654896.82091018</td><td>21635575.289476823</td><td>19321.531433361655</td><td>62756651.52500964</td><td>62491665.337270856</td><td>264986.18773878476</td><td>3.3468711962337586e+51</td><td>3.242301822409309e+49</td><td>3.314448178009666e+51</td><td>0.00036032871093357697</td><td>0.0006274415376929119</td><td>0.0008396453442090135</td><td>0.0009865184455583411</td><td>0.0011280568305434557</td></tr>\n",
       "<tr><td>5</td><td>1.8695806703797187e+20</td><td>9.347903351898593e+18</td><td>4.708588883704731e+20</td><td>2.3542944418523656e+19</td><td>2.6810590162785903e+19</td><td>4.3671188232358195e+18</td><td>1.8269236429841695e+20</td><td>9.134618214920847e+18</td><td>4.345098667791002e+20</td><td>2.172549333895501e+19</td><td>2323116745.7013645</td><td>719268187.4375901</td><td>0.0003293341768113312</td><td>3.9750568342666946e-05</td><td>0.0014036817928966706</td><td>5.297660479975382e-05</td><td>2.5364141099457305</td><td>0.6341035274864326</td><td>0.33</td><td>0.5</td><td>0.33</td><td>0.5</td><td>0.33</td><td>0.5</td><td>0.66</td><td>0.0</td><td>1.5119631078006912</td><td>0.0</td><td>217.5</td><td>35.0</td><td>0.0</td><td>0.0</td><td>300.0</td><td>-3.0</td><td>1.0397482026111675</td><td>1.0438758540754336</td><td>3.0863937238401307</td><td>2.9721174495566194</td><td>2.9885075475165506</td><td>0.9687732431286306</td><td>6000.0</td><td>5.0</td><td>6000.0</td><td>0.0</td><td>5.0</td><td>10.0</td><td>5979.980883511763</td><td>1.0</td><td>0.008</td><td>10.0</td><td>10814.07711646036</td><td>3.8863520058171856e+25</td><td>0.25</td><td>7.409984883759313e+32</td><td>1.9954857492256402e-220</td><td>1.6862956783132674e+33</td><td>4.471157045831571e-220</td><td>4.930014385358083e+35</td><td>3.102790707827649e-219</td><td>4.954287327024975e+35</td><td>1.8048237350455096e+20</td><td>4.7025570690816587e+20</td><td>1.618352873977181e+20</td><td>4.232759226289695e+20</td><td>2.740164182337981e+19</td><td>1.7606389564601536e+20</td><td>4.297141000049053e+20</td><td>6138935910.246112</td><td>1.0796280251462207e-255</td><td>2.227284731067601e-252</td><td>1.7623338898575439e-255</td><td>1.1284770176181767e+36</td><td>4.428580925997364e+33</td><td>4.428580925997364e+33</td><td>8.208885643005117e-220</td><td>1.1284770176181767e+36</td><td>4.0493588965160734e-219</td><td>2937720333.0967083</td><td>2937720333.0967083</td><td>1.1214563543353032e-249</td><td>3201215577.1494045</td><td>3201215577.1494045</td><td>1.6501882159654547e-248</td><td>9.601075450332539e+50</td><td>9.601075450332539e+50</td><td>2.3704422233967277e-202</td><td>0.00032540890614307844</td><td>0.0013534001758273991</td><td>0.0027983968008527256</td><td>0.004057237098212558</td><td>0.005336213163823993</td></tr>\n",
       "<tr><td>6</td><td>7.03670984458206e+20</td><td>3.5183549222910304e+19</td><td>9.21132896361359e+20</td><td>4.605664481806795e+19</td><td>4.13649984551285e+20</td><td>5.378542816762404e+19</td><td>7.027299838826498e+20</td><td>3.5136499194132492e+19</td><td>8.954691831351403e+20</td><td>4.477345915675702e+19</td><td>296223781.4185151</td><td>143046825.10693628</td><td>0.0034025989509385325</td><td>0.00029989765683776097</td><td>0.0047180225847981185</td><td>0.00017247322726710065</td><td>1.8550896403013597</td><td>0.4637724100753399</td><td>0.23099999999999998</td><td>0.35</td><td>0.23099999999999998</td><td>0.35</td><td>0.23099999999999998</td><td>0.35</td><td>0.66</td><td>0.0</td><td>1.2171417093639791</td><td>0.0</td><td>217.5</td><td>35.0</td><td>0.0</td><td>0.0</td><td>300.0</td><td>-3.0</td><td>0.2440776616791389</td><td>0.2538755413518206</td><td>0.7116765027245898</td><td>0.7134357194641694</td><td>0.6831488144854905</td><td>0.2177429043797845</td><td>50.0</td><td>5.0</td><td>50.0</td><td>0.0</td><td>5.0</td><td>10.0</td><td>31.2997148251888</td><td>1.0</td><td>0.05</td><td>10.0</td><td>10814.07711646036</td><td>3.8863520058171856e+25</td><td>0.25</td><td>2.9916197916757847e+32</td><td>7.399517361685661e+34</td><td>6.739140152631406e+32</td><td>1.6213626045482588e+35</td><td>2.57139943102726e+36</td><td>2.3219353064229305e+36</td><td>5.1304392475163036e+36</td><td>6.982077760820023e+20</td><td>8.742099516287952e+20</td><td>6.93057417824555e+20</td><td>8.756275808796949e+20</td><td>4.53884283583757e+20</td><td>6.967989843181017e+20</td><td>8.51539250021296e+20</td><td>245074658.79822686</td><td>0.9343828504029492</td><td>4.9014931759645375</td><td>1.3611164722271654</td><td>6.711208139761127e+36</td><td>3.440564391155178e+35</td><td>1.1503259350674653e+33</td><td>3.429061131804504e+35</td><td>3.777892773976695e+36</td><td>2.9333153657844314e+36</td><td>52697176.83146373</td><td>51498648.23989542</td><td>1198528.5915683166</td><td>192377484.02566132</td><td>179964845.83605987</td><td>12412638.189601492</td><td>1.0774548217403385e+53</td><td>4.9542622290977675e+50</td><td>1.072500559511241e+53</td><td>0.003626984134723218</td><td>0.004633896423548171</td><td>0.005657975531025012</td><td>0.0055202009703882796</td><td>0.007012842285337626</td></tr>\n",
       "<tr><td>7</td><td>5.657208770254116e+20</td><td>2.8286043851270582e+19</td><td>9.770014891913717e+20</td><td>4.885007445956859e+19</td><td>1.3884565029849697e+20</td><td>1.4273258887058199e+19</td><td>5.596595886015445e+20</td><td>2.7982979430077227e+19</td><td>9.328740536649569e+20</td><td>4.6643702683247845e+19</td><td>1240841918.3640637</td><td>476767779.26318026</td><td>0.0015045743076190579</td><td>0.0001249967346647309</td><td>0.004076712541137521</td><td>0.00013235403478140071</td><td>1.7610894391917085</td><td>0.4402723597979271</td><td>0.0825</td><td>0.125</td><td>0.0825</td><td>0.125</td><td>0.0825</td><td>0.125</td><td>0.66</td><td>0.0</td><td>0.38185503550525474</td><td>0.0</td><td>217.5</td><td>35.0</td><td>0.0</td><td>0.0</td><td>300.0</td><td>-3.0</td><td>0.5567981110832264</td><td>0.5685039639363368</td><td>2.187706554750336</td><td>2.136800363434034</td><td>2.1419362211509485</td><td>0.5214217300265829</td><td>800.0</td><td>5.0</td><td>800.0</td><td>0.0</td><td>5.0</td><td>15.8</td><td>768.339199600676</td><td>1.0</td><td>0.05</td><td>10.0</td><td>10814.07711646036</td><td>3.8863520058171856e+25</td><td>0.25</td><td>7.517254017333398e+31</td><td>2.527967811072414e+16</td><td>1.8350144720000207e+32</td><td>5.989418432516414e+16</td><td>1.7554241218988923e+35</td><td>8.480704387262532e+17</td><td>1.758010861772626e+35</td><td>5.863198261369979e+20</td><td>9.791603622789276e+20</td><td>5.534644903047526e+20</td><td>9.343107543543812e+20</td><td>1.3054829447583547e+20</td><td>5.8073365987709046e+20</td><td>9.387407937451641e+20</td><td>1457450751.1031091</td><td>5.091719078461887e-19</td><td>3.903602952420422e-17</td><td>6.838668717183793e-19</td><td>1.1288573780578122e+36</td><td>1.101426657173556e+33</td><td>1.1014266571735558e+33</td><td>1.8205459466370957e+17</td><td>1.1288573780578122e+36</td><td>1.5173107853005494e+18</td><td>558711854.5340908</td><td>558711854.5340908</td><td>5.876743585948495e-13</td><td>898738896.569018</td><td>898738896.569018</td><td>6.250995399191759e-12</td><td>2.2411723085305895e+50</td><td>2.241172308530589e+50</td><td>5.710465770184731e+34</td><td>0.001521827761818201</td><td>0.0042141441878394146</td><td>0.0061690235757231315</td><td>0.007211413007138462</td><td>0.008094456708431954</td></tr>\n",
       "<tr><td>8</td><td>1.4655830495804596e+20</td><td>7.327915247902298e+18</td><td>1.897391646100587e+20</td><td>1.2334999483693232e+19</td><td>6.435043364281977e+19</td><td>1.200717072554653e+19</td><td>1.4618513516095688e+20</td><td>7.309256758047844e+18</td><td>1.8475518181860527e+20</td><td>1.088193361692331e+19</td><td>92993270.46771444</td><td>38074530.02770436</td><td>0.0005966336818620739</td><td>5.131495794231531e-05</td><td>0.0010001171636900524</td><td>5.0766683730631196e-05</td><td>2.15851930198116</td><td>0.53962982549529</td><td>0.0165</td><td>0.05</td><td>0.0165</td><td>0.05</td><td>0.0165</td><td>0.05</td><td>0.33</td><td>0.0</td><td>0.07726180515480267</td><td>0.0</td><td>217.5</td><td>35.0</td><td>0.0</td><td>0.0</td><td>300.0</td><td>-3.0</td><td>0.14859195572727396</td><td>0.15268132791163785</td><td>1.3724411289165577</td><td>1.3578139310750748</td><td>1.3605878795278588</td><td>0.13771827607490492</td><td>400.0</td><td>5.0</td><td>400.0</td><td>0.0</td><td>5.0</td><td>10.0</td><td>379.944730951015</td><td>1.0</td><td>0.02</td><td>10.0</td><td>10814.07711646036</td><td>3.8863520058171856e+25</td><td>0.25</td><td>1.9095020399686276e+30</td><td>9.485860382159331e+19</td><td>4.8370156920203555e+30</td><td>2.3394119609751624e+20</td><td>8.846249511051285e+33</td><td>2.369019696099643e+21</td><td>8.852996028785973e+33</td><td>1.595595303906485e+20</td><td>1.8296142399142078e+20</td><td>1.568325202283253e+20</td><td>1.8051307010013993e+20</td><td>5.168720880343937e+19</td><td>1.5941563797966868e+20</td><td>1.8097485276635585e+20</td><td>122685157.56148207</td><td>2.3002602503115906e-15</td><td>3.736796861494302e-12</td><td>3.708135638034831e-15</td><td>1.6435727049125623e+35</td><td>1.0812178877053686e+32</td><td>1.0812178876923833e+32</td><td>1.2985343220380997e+21</td><td>1.643572704912483e+35</td><td>7.930840586361787e+21</td><td>42105036.77361874</td><td>42105036.77361874</td><td>2.6501503512960734e-09</td><td>80580120.78786331</td><td>80580120.78786328</td><td>3.4431195711747186e-08</td><td>2.1114047942213693e+49</td><td>2.111404794182285e+49</td><td>3.90841210155054e+38</td><td>0.0005937722453894752</td><td>0.0010848829701947335</td><td>0.0011908159943803509</td><td>0.0012453822218672602</td><td>0.0012915006633102313</td></tr>\n",
       "<tr><td>...</td><td>...</td><td>...</td><td>...</td><td>...</td><td>...</td><td>...</td><td>...</td><td>...</td><td>...</td><td>...</td><td>...</td><td>...</td><td>...</td><td>...</td><td>...</td><td>...</td><td>...</td><td>...</td><td>...</td><td>...</td><td>...</td><td>...</td><td>...</td><td>...</td><td>...</td><td>...</td><td>...</td><td>...</td><td>...</td><td>...</td><td>...</td><td>...</td><td>...</td><td>...</td><td>...</td><td>...</td><td>...</td><td>...</td><td>...</td><td>...</td><td>...</td><td>...</td><td>...</td><td>...</td><td>...</td><td>...</td><td>...</td><td>...</td><td>...</td><td>...</td><td>...</td><td>...</td><td>...</td><td>...</td><td>...</td><td>...</td><td>...</td><td>...</td><td>...</td><td>...</td><td>...</td><td>...</td><td>...</td><td>...</td><td>...</td><td>...</td><td>...</td><td>...</td><td>...</td><td>...</td><td>...</td><td>...</td><td>...</td><td>...</td><td>...</td><td>...</td><td>...</td><td>...</td><td>...</td><td>...</td><td>...</td><td>...</td><td>...</td><td>...</td><td>...</td><td>...</td><td>...</td><td>...</td><td>...</td><td>...</td><td>...</td></tr>\n",
       "<tr><td>1028865</td><td>2.407740451984036e+20</td><td>1.2038702259920181e+19</td><td>3.84499457145883e+20</td><td>1.922497285729415e+19</td><td>9.795029136510697e+19</td><td>1.422950718886437e+19</td><td>2.3923978700527632e+20</td><td>1.1961989350263816e+19</td><td>3.671790435168922e+20</td><td>1.835895217584461e+19</td><td>325839979.07560974</td><td>131195693.43649471</td><td>0.0008999076495044514</td><td>8.405549695759052e-05</td><td>0.0016708732696055525</td><td>5.275426859424293e-05</td><td>4.491005249669952</td><td>1.122751312417488</td><td>0.33</td><td>0.5</td><td>0.33</td><td>0.5</td><td>0.33</td><td>0.5</td><td>0.66</td><td>0.0</td><td>1.7162633368563809</td><td>0.0</td><td>217.5</td><td>35.0</td><td>0.0</td><td>0.0</td><td>300.0</td><td>-3.0</td><td>0.5196590088859485</td><td>0.5061061429151086</td><td>1.2015395735933596</td><td>1.1602139121090393</td><td>1.1427795018165856</td><td>0.46753944431564853</td><td>50.0</td><td>5.0</td><td>50.0</td><td>0.0</td><td>5.0</td><td>10.0</td><td>31.299487126976842</td><td>1.0</td><td>0.02</td><td>10.0</td><td>10814.07711646036</td><td>3.8863520058171856e+25</td><td>0.25</td><td>4.945874986376711e+32</td><td>5.514501611087223e+34</td><td>1.1024294608783029e+33</td><td>1.2188272592362346e+35</td><td>1.7299807407618022e+36</td><td>1.0747294426624885e+36</td><td>2.9833349424183023e+36</td><td>2.3330096554007885e+20</td><td>3.7651314208209856e+20</td><td>2.2740887931254086e+20</td><td>3.624514780652868e+20</td><td>1.2449855485411231e+20</td><td>2.318784204402136e+20</td><td>3.566778260983932e+20</td><td>110530394.83142266</td><td>0.42141323744034254</td><td>2.2106078966284533</td><td>0.6138731022805782</td><td>3.487564164073202e+36</td><td>2.3193056592670412e+35</td><td>1.6079960200706416e+33</td><td>2.3032256990663348e+35</td><td>2.133002076070604e+36</td><td>1.3545620880025983e+36</td><td>21721514.917756867</td><td>21297799.06844437</td><td>423715.8493124946</td><td>88808878.1651481</td><td>83093864.74017252</td><td>5715013.424975562</td><td>7.008748079233945e+52</td><td>6.7841019754082555e+50</td><td>6.940907059479863e+52</td><td>0.001021089674038723</td><td>0.00159707780037631</td><td>0.0023651544275991414</td><td>0.002566670903967276</td><td>0.0030528061761093063</td></tr>\n",
       "<tr><td>1028866</td><td>9.120981625140814e+19</td><td>4.560490812570407e+18</td><td>2.0233975685319714e+20</td><td>1.0116987842659858e+19</td><td>1.6144943219681776e+19</td><td>3.0453009668477204e+18</td><td>8.95412139189461e+19</td><td>4.5374957721336197e+18</td><td>1.8896657491232208e+20</td><td>9.448328745616103e+18</td><td>661157272.528611</td><td>241581668.24127096</td><td>0.00018621706448658393</td><td>2.698739681961857e-05</td><td>0.0006765110645160301</td><td>2.838602589619489e-05</td><td>2.207227552118612</td><td>0.551806888029653</td><td>0.33</td><td>0.5</td><td>0.33</td><td>0.5</td><td>0.33</td><td>0.5</td><td>0.66</td><td>0.0</td><td>1.5817672637164357</td><td>0.0</td><td>217.5</td><td>35.0</td><td>0.0</td><td>0.0</td><td>300.0</td><td>-3.0</td><td>0.9349655967088683</td><td>0.9370441192535217</td><td>2.6178777278214325</td><td>2.5258378109260478</td><td>2.5310181097525586</td><td>0.8693714726033022</td><td>4500.0</td><td>5.0</td><td>4500.0</td><td>0.0</td><td>5.0</td><td>1000.0</td><td>2690.0825992754117</td><td>1.0</td><td>0.05</td><td>10.0</td><td>10814.07711646036</td><td>3.8863520058171856e+25</td><td>0.25</td><td>1.4892925229315805e+32</td><td>5.86342288664826e+33</td><td>3.273568617099435e+32</td><td>1.2693478600358707e+34</td><td>2.77461860169256e+35</td><td>1.562819470430256e+35</td><td>4.527769948132917e+35</td><td>8.691840402601183e+19</td><td>2.056354481673039e+20</td><td>7.97011095718865e+19</td><td>1.8892177410225354e+20</td><td>1.84478980919216e+19</td><td>8.523256252234505e+19</td><td>1.8982531742296002e+20</td><td>1435849652.7002027</td><td>0.07651139305720078</td><td>0.07952771480267039</td><td>0.07677977239499022</td><td>7.828551422627672e+35</td><td>2.60325395801441e+34</td><td>9.98753740288586e+32</td><td>2.5033785839855517e+34</td><td>5.9243629544577635e+35</td><td>1.9041884681699078e+35</td><td>629069590.9784006</td><td>629010281.0503007</td><td>59309.92809987621</td><td>806780061.8408002</td><td>806071573.925953</td><td>708487.9148470591</td><td>8.150259500149856e+51</td><td>2.1916061842030638e+50</td><td>7.931098881729548e+51</td><td>0.00020398153995526358</td><td>0.000636372892712076</td><td>0.0012433939197013324</td><td>0.0016604783639017214</td><td>0.0021334963833964608</td></tr>\n",
       "<tr><td>1028867</td><td>3.893947976518155e+20</td><td>1.9469739882590777e+19</td><td>6.236360504690374e+20</td><td>3.118180252345187e+19</td><td>1.4014357143172453e+20</td><td>2.1049428005322813e+19</td><td>3.8658899906493356e+20</td><td>1.932944995324668e+19</td><td>5.959588490679089e+20</td><td>2.9797942453395444e+19</td><td>618064051.4233757</td><td>201025302.42855945</td><td>0.0013492442936768887</td><td>0.0001255750314857586</td><td>0.0027243825949906948</td><td>9.991969912699644e-05</td><td>1.496933166473303</td><td>0.37423329161832575</td><td>0.33</td><td>0.5</td><td>0.33</td><td>0.5</td><td>0.33</td><td>0.5</td><td>0.66</td><td>0.0</td><td>1.7077338371011466</td><td>0.0</td><td>217.5</td><td>35.0</td><td>0.0</td><td>0.0</td><td>300.0</td><td>-3.0</td><td>0.6038433415514228</td><td>0.5999664256083705</td><td>1.6321649271200933</td><td>1.5896917411408618</td><td>1.5704080323564629</td><td>0.5502412820883061</td><td>1400.0</td><td>5.0</td><td>1400.0</td><td>0.0</td><td>5.0</td><td>3160.0</td><td>478.11405081650435</td><td>1.0</td><td>0.02</td><td>10.0</td><td>10814.07711646036</td><td>3.8863520058171856e+25</td><td>0.25</td><td>4.242691250202169e+32</td><td>1.0169556599416574e+35</td><td>9.456906696018166e+32</td><td>2.2476977380501514e+35</td><td>1.4766489391249478e+36</td><td>1.6819368058308343e+36</td><td>3.4864210445495846e+36</td><td>3.7559169769760306e+20</td><td>6.550181293750013e+20</td><td>3.624745136211754e+20</td><td>6.298890317125236e+20</td><td>1.4567577913905439e+20</td><td>3.7278124091218493e+20</td><td>6.18800366873932e+20</td><td>716827721.4560418</td><td>0.8787405629417523</td><td>0.8608988597549689</td><td>0.8771609753666453</td><td>4.2239084115223486e+36</td><td>4.242602994638419e+35</td><td>1.6860043346041484e+33</td><td>4.225742951292378e+35</td><td>2.050620835722067e+36</td><td>2.173287575800282e+36</td><td>241216657.5566389</td><td>240697087.11701638</td><td>519570.4396225293</td><td>475611061.2720567</td><td>467359024.5853588</td><td>8252036.6866978975</td><td>1.2858254888809649e+53</td><td>5.819566845265095e+50</td><td>1.2800059220356998e+53</td><td>0.0013581213729604602</td><td>0.002615631550197243</td><td>0.0041111086733396545</td><td>0.0044203387674784924</td><td>0.00508859617364315</td></tr>\n",
       "<tr><td>1028868</td><td>1.9261535677252154e+20</td><td>9.630767838626077e+18</td><td>2.446004137449387e+20</td><td>1.2230020687246936e+19</td><td>8.94814669972947e+19</td><td>1.4433748007260297e+19</td><td>1.921824193891163e+20</td><td>9.609120969455815e+18</td><td>2.3851277766709916e+20</td><td>1.192563888335496e+19</td><td>112194013.77387065</td><td>43367383.80453918</td><td>0.0008164709156015015</td><td>7.649754054307702e-05</td><td>0.0013080332698522288</td><td>5.120952202908696e-05</td><td>9.729877427791287</td><td>2.4324693569478217</td><td>0.23099999999999998</td><td>0.35</td><td>0.23099999999999998</td><td>0.35</td><td>0.23099999999999998</td><td>0.35</td><td>0.66</td><td>0.0</td><td>1.089717267318183</td><td>0.0</td><td>217.5</td><td>35.0</td><td>0.0</td><td>0.0</td><td>300.0</td><td>-3.0</td><td>0.2190991610326246</td><td>0.206913838316557</td><td>1.0815178414672388</td><td>1.0510379071471945</td><td>1.0552813239606496</td><td>0.19566763270086918</td><td>100.0</td><td>5.0</td><td>100.0</td><td>0.0</td><td>5.0</td><td>10.0</td><td>79.78440002290488</td><td>1.0</td><td>0.05</td><td>10.0</td><td>10814.07711646036</td><td>3.8863520058171856e+25</td><td>0.25</td><td>4.989289882777807e+30</td><td>5.678185377086978e+32</td><td>1.12392369764712e+31</td><td>1.2441889088296297e+33</td><td>4.657972432678633e+35</td><td>1.8219318842447995e+34</td><td>4.858447980837089e+35</td><td>1.946625359139174e+20</td><td>2.381891864956849e+20</td><td>1.914099598177048e+20</td><td>2.3159547376685747e+20</td><td>8.796601223916549e+19</td><td>1.9416027617189544e+20</td><td>2.3250239673364388e+20</td><td>141971019.45675832</td><td>0.007061688359884812</td><td>1.4197101945675832</td><td>0.010918391729549531</td><td>7.731243819074832e+35</td><td>2.6648549801991806e+33</td><td>2.835603794276264e+31</td><td>2.636498942256418e+33</td><td>7.501230858957334e+35</td><td>2.3001296011749794e+34</td><td>39286346.61696909</td><td>39276554.94347778</td><td>9791.673491308586</td><td>102684672.85618159</td><td>102585280.5959851</td><td>99392.26019648767</td><td>8.312698228021387e+50</td><td>8.262497288273237e+48</td><td>8.230073255138655e+50</td><td>0.0008410376985158594</td><td>0.001313329016536076</td><td>0.001525795532301998</td><td>0.0017109730489125118</td><td>0.0019733481397555884</td></tr>\n",
       "<tr><td>1028869</td><td>1.4206856432099407e+20</td><td>7.103428216049704e+18</td><td>1.9743616531604308e+20</td><td>9.871808265802154e+18</td><td>6.596583606109775e+19</td><td>1.03058235923398e+19</td><td>1.4156124556080946e+20</td><td>7.078062278040474e+18</td><td>1.9091795852859782e+20</td><td>9.54589792642989e+18</td><td>113458510.14042467</td><td>47814922.85287294</td><td>0.000588094616954161</td><td>5.7919889268176714e-05</td><td>0.0009714553123617415</td><td>3.304868197366442e-05</td><td>5.45226993601664</td><td>1.36306748400416</td><td>0.33</td><td>0.5</td><td>0.33</td><td>0.5</td><td>0.33</td><td>0.5</td><td>0.66</td><td>0.0</td><td>1.6057563663076793</td><td>0.0</td><td>217.5</td><td>35.0</td><td>0.0</td><td>0.0</td><td>300.0</td><td>-3.0</td><td>0.3542671056499812</td><td>0.34420323696772326</td><td>1.2407564695017788</td><td>1.2037989960066342</td><td>1.2004037025489744</td><td>0.31934781049754846</td><td>100.0</td><td>5.0</td><td>100.0</td><td>0.0</td><td>5.0</td><td>15.8</td><td>68.87577230331242</td><td>1.0</td><td>0.05</td><td>10.0</td><td>10814.07711646036</td><td>3.8863520058171856e+25</td><td>0.25</td><td>2.7931724145364684e+31</td><td>8.367094204123872e+33</td><td>6.13958736620509e+31</td><td>1.8113571761825236e+34</td><td>6.683644122968831e+35</td><td>2.440251903481556e+35</td><td>9.389595962087954e+35</td><td>1.4023767668626252e+20</td><td>1.9434418494891865e+20</td><td>1.36806668228665e+20</td><td>1.8784020825516917e+20</td><td>6.1982481958027354e+19</td><td>1.3953762264912549e+20</td><td>1.872537154672458e+20</td><td>133683494.98616143</td><td>0.10214257103986112</td><td>1.3368349498616148</td><td>0.13105597359053522</td><td>1.2094800259646178e+36</td><td>3.6125671258612795e+34</td><td>9.955338804478197e+31</td><td>3.6026117870568013e+34</td><td>9.135968289159551e+35</td><td>2.9588319704866265e+35</td><td>35479023.60238285</td><td>35368106.444448434</td><td>110917.15793441948</td><td>98204471.58402613</td><td>97004828.80580768</td><td>1199642.7782184538</td><td>1.1358767869823382e+52</td><td>4.110363708261736e+49</td><td>1.1317664232740766e+52</td><td>0.0005827665297526399</td><td>0.000954399732800987</td><td>0.0012314448983216679</td><td>0.0014021832457028975</td><td>0.0017104136515009596</td></tr>\n",
       "<tr><td>1028870</td><td>8.042623663054008e+19</td><td>4.021311831527004e+18</td><td>1.047467321803513e+20</td><td>6.9716720228661e+18</td><td>4.428391402815082e+19</td><td>7.431854816173699e+18</td><td>8.029808328531686e+19</td><td>4.014904164265843e+18</td><td>1.0168802307752603e+20</td><td>5.948720902839132e+18</td><td>38307505.54980232</td><td>20994784.56210584</td><td>0.0003688893792669396</td><td>3.288601921140319e-05</td><td>0.0005432211475486162</td><td>2.5167907752238464e-05</td><td>0.008275793846919979</td><td>0.0020689484617299947</td><td>0.165</td><td>0.25</td><td>0.165</td><td>0.25</td><td>0.165</td><td>0.25</td><td>0.66</td><td>0.0</td><td>0.8750562003107908</td><td>0.0</td><td>217.5</td><td>35.0</td><td>0.0</td><td>0.0</td><td>300.0</td><td>-3.0</td><td>0.27092811258037247</td><td>0.26828252599443814</td><td>0.9396527049815666</td><td>0.9289590161318895</td><td>0.9037286702987644</td><td>0.23700191921855318</td><td>800.0</td><td>5.0</td><td>800.0</td><td>0.0</td><td>5.0</td><td>794.0</td><td>299.85919376491466</td><td>1.0</td><td>0.008</td><td>10.0</td><td>10814.07711646036</td><td>3.8863520058171856e+25</td><td>0.25</td><td>6.127753718338405e+31</td><td>1.0586088853800525e+34</td><td>1.4602385906827166e+32</td><td>2.449289937868782e+34</td><td>1.2377287476670746e+35</td><td>1.4445636098709249e+35</td><td>3.0351552538253995e+35</td><td>8.204437069985183e+19</td><td>1.0529797838526035e+20</td><td>8.143845901446714e+19</td><td>1.0426596275626009e+20</td><td>4.431583648506871e+19</td><td>8.18935413175139e+19</td><td>1.0187096481908985e+20</td><td>47509671.39846759</td><td>0.08250687597646186</td><td>0.08231304104503881</td><td>0.08250794952934118</td><td>4.290310086798424e+35</td><td>5.237269467005712e+34</td><td>2.758487348173912e+32</td><td>5.209684593523973e+34</td><td>2.1131384200511086e+35</td><td>2.177171666747315e+35</td><td>15063496.811823674</td><td>15020852.833286257</td><td>42643.97853741615</td><td>32446174.59028914</td><td>31663739.069887962</td><td>782435.5204011797</td><td>1.5107177138134206e+52</td><td>1.0462880165649868e+50</td><td>1.5002548336477706e+52</td><td>0.0003653961167376322</td><td>0.0005565548881355248</td><td>0.0006800899028918437</td><td>0.0006510083796315039</td><td>0.0006816452817870551</td></tr>\n",
       "<tr><td>1028871</td><td>6.693458458527068e+20</td><td>3.3467292292635345e+19</td><td>2.124970720324862e+21</td><td>1.0624853601624311e+20</td><td>6.135203881098648e+19</td><td>3.0676019405493243e+18</td><td>6.473250827123938e+20</td><td>3.236625413561969e+19</td><td>1.920333130848931e+21</td><td>9.601665654244655e+19</td><td>21950852556.22788</td><td>1329494222.2815273</td><td>0.0008824172488520311</td><td>1.44869137780582e-05</td><td>0.005121598073853415</td><td>5.334340747546763e-06</td><td>17.413734011339525</td><td>4.353433502834881</td><td>0.33</td><td>0.5</td><td>0.33</td><td>0.5</td><td>0.33</td><td>0.5</td><td>0.66</td><td>0.0</td><td>1.5037329434425022</td><td>0.0</td><td>217.5</td><td>35.0</td><td>0.0</td><td>0.0</td><td>300.0</td><td>-3.0</td><td>1.2601419940421743</td><td>1.2856227188535345</td><td>3.869409793985566</td><td>3.744039392963241</td><td>3.7590386155990636</td><td>1.1864023876296068</td><td>6000.0</td><td>5.0</td><td>6000.0</td><td>0.0</td><td>5.0</td><td>10.0</td><td>5979.981343620561</td><td>1.0</td><td>0.05</td><td>10.0</td><td>10814.07711646036</td><td>3.8863520058171856e+25</td><td>0.25</td><td>4.585898329652832e+33</td><td>6.643053346908642e-220</td><td>1.0080123697666553e+34</td><td>1.438126792663055e-219</td><td>2.4621248922123357e+36</td><td>2.121342574798777e-218</td><td>2.476790914239655e+36</td><td>6.691518203395185e+20</td><td>2.1359026833856607e+21</td><td>5.8235017914457004e+20</td><td>1.9029759556225521e+21</td><td>6.050866117470978e+19</td><td>6.469519629971392e+20</td><td>1.9294476067446383e+21</td><td>43210065466.53524</td><td>7.599166749438194e-255</td><td>1.567716627916173e-251</td><td>1.24045215437972e-254</td><td>6.735631492648689e+36</td><td>3.048385079983507e+34</td><td>3.048385079983507e+34</td><td>2.883792434855072e-219</td><td>6.735631492648689e+36</td><td>2.561540734567076e-218</td><td>20501566688.798397</td><td>20501566688.798397</td><td>1.1297897015765526e-248</td><td>22708498777.73684</td><td>22708498777.73684</td><td>1.1274733692507421e-247</td><td>6.748494996543655e+51</td><td>6.748494996543655e+51</td><td>8.985658034475225e-202</td><td>0.0008746926929163512</td><td>0.0051227440036248646</td><td>0.012565161434035703</td><td>0.018701179540504095</td><td>0.025563995905988485</td></tr>\n",
       "<tr><td>1028872</td><td>2.368801219343151e+19</td><td>1.1844006096715756e+18</td><td>4.663123783653299e+19</td><td>7.797199351733798e+18</td><td>5.315642806960874e+18</td><td>1.8473939108030996e+18</td><td>2.3349839028359004e+19</td><td>1.1674919514179502e+18</td><td>4.398947815733201e+19</td><td>6.863156058676284e+18</td><td>117030468.81889983</td><td>86439900.89218304</td><td>5.7438241700101395e-05</td><td>1.3472838709108585e-05</td><td>0.00017285978073566986</td><td>1.0452235960152837e-05</td><td>0.9757427107902208</td><td>0.32524757026340695</td><td>0.0</td><td>0.0</td><td>0.0</td><td>0.0</td><td>0.0</td><td>0.0</td><td>0.33</td><td>0.0</td><td>-0.0</td><td>0.0</td><td>217.5</td><td>35.0</td><td>0.0</td><td>0.0</td><td>300.0</td><td>-3.0</td><td>0.8830569691398898</td><td>0.9179402021727879</td><td>2.9760798041001273</td><td>2.9050654794206583</td><td>2.9084179220729514</td><td>0.8362578270982179</td><td>6000.0</td><td>5.0</td><td>6000.0</td><td>0.0</td><td>5.0</td><td>126.0</td><td>5747.635764552929</td><td>1.0</td><td>0.05</td><td>10.0</td><td>10814.07711646036</td><td>3.8863520058171856e+25</td><td>0.25</td><td>-0.0</td><td>-0.0</td><td>-0.0</td><td>-0.0</td><td>-0.0</td><td>-0.0</td><td>0.0</td><td>2.395603315051115e+19</td><td>5.403033907799779e+19</td><td>2.1729807664970793e+19</td><td>5.0609490268139545e+19</td><td>3.4850239851309025e+18</td><td>2.3500105360690127e+19</td><td>5.076599939251607e+19</td><td>378499341.4388512</td><td>3.0072002352253125e-19</td><td>4.529386158402556e-19</td><td>3.114978535309254e-19</td><td>6.057273486857454e+34</td><td>2.618135951931689e+32</td><td>2.6181359519316883e+32</td><td>9.934834908168402e+16</td><td>6.057273486857454e+34</td><td>7.630837385618239e+17</td><td>179105752.52602398</td><td>179105752.52602398</td><td>2.4375385989607093e-13</td><td>199393588.91282716</td><td>199393588.91282716</td><td>2.871225157562463e-12</td><td>5.769997758315992e+49</td><td>5.769997758315989e+49</td><td>3.1440862636783144e+34</td><td>4.274652220289295e-05</td><td>0.00017962180600593198</td><td>0.0003333136868138036</td><td>0.0004194528142150232</td><td>0.0005154688670045807</td></tr>\n",
       "<tr><td>1028873</td><td>1.987538501133881e+20</td><td>9.937692505669405e+18</td><td>2.759051955179178e+20</td><td>1.8760760092993552e+19</td><td>1.2434217993247079e+20</td><td>1.853018992700917e+19</td><td>1.984746996407758e+20</td><td>9.92373498203879e+18</td><td>2.663848786070801e+20</td><td>1.5584459727632458e+19</td><td>74296317.98537973</td><td>50083787.68247307</td><td>0.0009817977541016789</td><td>8.956022810892571e-05</td><td>0.0013332566680165953</td><td>5.910087079694599e-05</td><td>2.69148619057931</td><td>0.6728715476448275</td><td>0.165</td><td>0.5</td><td>0.165</td><td>0.5</td><td>0.165</td><td>0.5</td><td>0.33</td><td>0.0</td><td>1.2721739365442664</td><td>0.0</td><td>217.5</td><td>35.0</td><td>0.0</td><td>0.0</td><td>300.0</td><td>-3.0</td><td>0.40289400724063223</td><td>0.3970500014059233</td><td>0.8612722988349848</td><td>0.8443469165806619</td><td>0.814026892358536</td><td>0.35853704321827046</td><td>50.0</td><td>5.0</td><td>50.0</td><td>0.0</td><td>5.0</td><td>15.8</td><td>25.915570608584794</td><td>1.0</td><td>0.02</td><td>10.0</td><td>10814.07711646036</td><td>3.8863520058171856e+25</td><td>0.25</td><td>2.360242780733732e+32</td><td>5.709565077577796e+34</td><td>5.462668766226378e+32</td><td>1.2619406150763738e+35</td><td>5.869865683786189e+35</td><td>1.0271296189925129e+36</td><td>1.7981881908092427e+36</td><td>1.9399149128025027e+20</td><td>2.8115142207004652e+20</td><td>1.920216207690054e+20</td><td>2.7680257864775116e+20</td><td>1.2718367357246667e+20</td><td>1.934760911537276e+20</td><td>2.6917958667477035e+20</td><td>42939604.7283074</td><td>0.4627164835929112</td><td>0.8587920945661481</td><td>0.561346375635684</td><td>2.2244892369712927e+36</td><td>2.389118132166563e+35</td><td>1.016380041353595e+33</td><td>2.378954331753027e+35</td><td>9.147559349016906e+35</td><td>1.3097333020696021e+36</td><td>7656845.714504293</td><td>7295031.973216196</td><td>361813.74128809705</td><td>35282757.3650107</td><td>30031108.998734362</td><td>5251648.366276335</td><td>7.229035320894189e+52</td><td>4.260881340312014e+50</td><td>7.186426507491069e+52</td><td>0.000978259924749206</td><td>0.0013041240491237286</td><td>0.0017973570113661629</td><td>0.0017342078612615688</td><td>0.0019719092606051043</td></tr>\n",
       "<tr><td>1028874</td><td>1.1546945062476517e+20</td><td>5.773472531238259e+18</td><td>1.572173398171029e+20</td><td>7.860866990855145e+18</td><td>5.520057214460545e+19</td><td>9.047513707435749e+18</td><td>1.1512073865100065e+20</td><td>5.756036932550033e+18</td><td>1.522682928304014e+20</td><td>7.613414641520071e+18</td><td>80914085.65340367</td><td>34982330.75965811</td><td>0.0004867085394392079</td><td>4.7271321215324124e-05</td><td>0.0007875970130810332</td><td>3.0471568116809564e-05</td><td>0.5163841350627649</td><td>0.12909603376569123</td><td>0.264</td><td>0.4</td><td>0.264</td><td>0.4</td><td>0.264</td><td>0.4</td><td>0.66</td><td>0.0</td><td>1.2872070727224805</td><td>0.0</td><td>217.5</td><td>35.0</td><td>0.0</td><td>0.0</td><td>300.0</td><td>-3.0</td><td>0.3596205649325229</td><td>0.347692926893431</td><td>1.1414046368963882</td><td>1.1047754453487957</td><td>1.101053191706433</td><td>0.3238238457697152</td><td>100.0</td><td>5.0</td><td>100.0</td><td>0.0</td><td>5.0</td><td>15.8</td><td>68.85489670285959</td><td>1.0</td><td>0.02</td><td>10.0</td><td>10814.07711646036</td><td>3.8863520058171856e+25</td><td>0.25</td><td>4.364813596809476e+31</td><td>6.520816419924867e+33</td><td>9.82440654332374e+31</td><td>1.4454698761554939e+34</td><td>4.377710106537379e+35</td><td>1.2246967950915718e+35</td><td>5.813580975457762e+35</td><td>1.1269353693585483e+20</td><td>1.569449100974295e+20</td><td>1.101585950195035e+20</td><td>1.517384204846743e+20</td><td>5.485110497285119e+19</td><td>1.1222177127980484e+20</td><td>1.5121910297654762e+20</td><td>70757862.12397565</td><td>0.05406344260654647</td><td>0.7075786212397568</td><td>0.06936713100448509</td><td>7.61637370120476e+35</td><td>2.844373385654521e+34</td><td>1.5176917607144066e+32</td><td>2.829196468047377e+34</td><td>6.026812946241233e+35</td><td>1.589560754963526e+35</td><td>17672554.600563157</td><td>17626801.02676531</td><td>45753.573797848156</td><td>53085307.32177586</td><td>52437389.787165515</td><td>647917.5346103463</td><td>8.604623617402896e+51</td><td>6.41740437965869e+49</td><td>8.54044957360631e+51</td><td>0.000484313934758927</td><td>0.0007683335092824615</td><td>0.0009969779121063054</td><td>0.0011005409009065396</td><td>0.0012374170700322304</td></tr>\n",
       "</table></div>"
      ],
      "text/plain": [
       "<Table length=1028875>\n",
       "   id   bayes.param.restframe_Lnu(DECam.g) ...   best.subaru.hsc.y  \n",
       "                        W                  ...          mJy         \n",
       " int64               float64               ...        float64       \n",
       "------- ---------------------------------- ... ---------------------\n",
       "      0             3.2212516947592164e+20 ...  0.011257230667707065\n",
       "      1              3.448749229341818e+20 ...   0.00396975723026221\n",
       "      2              7.405198213291844e+19 ... 0.0012680112732811335\n",
       "      3              9.120112464682695e+19 ... 0.0007808868093532053\n",
       "      4               9.04403462407241e+19 ... 0.0011280568305434557\n",
       "      5             1.8695806703797187e+20 ...  0.005336213163823993\n",
       "      6               7.03670984458206e+20 ...  0.007012842285337626\n",
       "      7              5.657208770254116e+20 ...  0.008094456708431954\n",
       "      8             1.4655830495804596e+20 ... 0.0012915006633102313\n",
       "    ...                                ... ...                   ...\n",
       "1028865              2.407740451984036e+20 ... 0.0030528061761093063\n",
       "1028866              9.120981625140814e+19 ... 0.0021334963833964608\n",
       "1028867              3.893947976518155e+20 ...   0.00508859617364315\n",
       "1028868             1.9261535677252154e+20 ... 0.0019733481397555884\n",
       "1028869             1.4206856432099407e+20 ... 0.0017104136515009596\n",
       "1028870              8.042623663054008e+19 ... 0.0006816452817870551\n",
       "1028871              6.693458458527068e+20 ...  0.025563995905988485\n",
       "1028872              2.368801219343151e+19 ... 0.0005154688670045807\n",
       "1028873              1.987538501133881e+20 ... 0.0019719092606051043\n",
       "1028874             1.1546945062476517e+20 ... 0.0012374170700322304"
      ]
     },
     "execution_count": 4,
     "metadata": {},
     "output_type": "execute_result"
    }
   ],
   "source": [
    "result0"
   ]
  },
  {
   "cell_type": "code",
   "execution_count": 3,
   "id": "fb3a1d0f-3b3d-4e30-a8d7-b445bf555650",
   "metadata": {
    "execution": {
     "iopub.execute_input": "2022-02-21T03:33:15.580857Z",
     "iopub.status.busy": "2022-02-21T03:33:15.579692Z",
     "iopub.status.idle": "2022-02-21T03:33:15.595596Z",
     "shell.execute_reply": "2022-02-21T03:33:15.594547Z",
     "shell.execute_reply.started": "2022-02-21T03:33:15.580796Z"
    },
    "tags": []
   },
   "outputs": [
    {
     "data": {
      "text/html": [
       "&lt;MaskedColumn name=&apos;best.param.restframe_Lnu(subaru.hsc.r)&apos; dtype=&apos;float64&apos; unit=&apos;W&apos; length=5&gt;\n",
       "<table>\n",
       "<tr><td>8.72927396776118e+20</td></tr>\n",
       "<tr><td>5.040943312598491e+20</td></tr>\n",
       "<tr><td>1.2923789037911528e+20</td></tr>\n",
       "<tr><td>2.0665776582476952e+20</td></tr>\n",
       "<tr><td>1.2791197523709243e+20</td></tr>\n",
       "</table>"
      ],
      "text/plain": [
       "<MaskedColumn name='best.param.restframe_Lnu(subaru.hsc.r)' dtype='float64' unit='W' length=5>\n",
       "  8.72927396776118e+20\n",
       " 5.040943312598491e+20\n",
       "1.2923789037911528e+20\n",
       "2.0665776582476952e+20\n",
       "1.2791197523709243e+20"
      ]
     },
     "execution_count": 3,
     "metadata": {},
     "output_type": "execute_result"
    }
   ],
   "source": [
    "result0['best.param.restframe_Lnu(subaru.hsc.r)'][:5]"
   ]
  },
  {
   "cell_type": "code",
   "execution_count": 17,
   "id": "83f3ffa6-415f-4c5f-8141-ccc5732ac816",
   "metadata": {
    "execution": {
     "iopub.execute_input": "2021-12-02T07:23:04.349370Z",
     "iopub.status.busy": "2021-12-02T07:23:04.349060Z",
     "iopub.status.idle": "2021-12-02T07:23:06.292813Z",
     "shell.execute_reply": "2021-12-02T07:23:06.292098Z",
     "shell.execute_reply.started": "2021-12-02T07:23:04.349349Z"
    },
    "tags": []
   },
   "outputs": [],
   "source": [
    "test = Table.read(\"/home/yunzheng/DPPAS/code/SEDfitting/0p25/r.fits\")"
   ]
  },
  {
   "cell_type": "code",
   "execution_count": 18,
   "id": "f5ff44d8-7eb8-4b74-b7aa-1ae4173f7485",
   "metadata": {
    "collapsed": true,
    "execution": {
     "iopub.execute_input": "2021-12-02T07:23:06.294453Z",
     "iopub.status.busy": "2021-12-02T07:23:06.294004Z",
     "iopub.status.idle": "2021-12-02T07:23:06.300180Z",
     "shell.execute_reply": "2021-12-02T07:23:06.298990Z",
     "shell.execute_reply.started": "2021-12-02T07:23:06.294428Z"
    },
    "jupyter": {
     "outputs_hidden": true
    },
    "tags": []
   },
   "outputs": [
    {
     "data": {
      "text/html": [
       "<div><i>Table length=5</i>\n",
       "<table id=\"table47936631373008\" class=\"table-striped table-bordered table-condensed\">\n",
       "<thead><tr><th>best.param.restframe_Lnu(subaru.hsc.r)</th></tr></thead>\n",
       "<thead><tr><th>W</th></tr></thead>\n",
       "<thead><tr><th>float64</th></tr></thead>\n",
       "<tr><td>4.884512632034438e+21</td></tr>\n",
       "<tr><td>1.855724047150226e+21</td></tr>\n",
       "<tr><td>5.565233958356022e+20</td></tr>\n",
       "<tr><td>5.415618868941079e+20</td></tr>\n",
       "<tr><td>5.846735600420537e+20</td></tr>\n",
       "</table></div>"
      ],
      "text/plain": [
       "<Table length=5>\n",
       "best.param.restframe_Lnu(subaru.hsc.r)\n",
       "                  W                   \n",
       "               float64                \n",
       "--------------------------------------\n",
       "                 4.884512632034438e+21\n",
       "                 1.855724047150226e+21\n",
       "                 5.565233958356022e+20\n",
       "                 5.415618868941079e+20\n",
       "                 5.846735600420537e+20"
      ]
     },
     "execution_count": 18,
     "metadata": {},
     "output_type": "execute_result"
    }
   ],
   "source": [
    "test[:5]"
   ]
  },
  {
   "cell_type": "code",
   "execution_count": 53,
   "id": "a1f609fa-0f3f-408a-9b40-802615006703",
   "metadata": {
    "execution": {
     "iopub.execute_input": "2021-11-28T15:07:12.778029Z",
     "iopub.status.busy": "2021-11-28T15:07:12.777871Z",
     "iopub.status.idle": "2021-11-28T15:07:14.200379Z",
     "shell.execute_reply": "2021-11-28T15:07:14.199817Z",
     "shell.execute_reply.started": "2021-11-28T15:07:12.778014Z"
    },
    "tags": []
   },
   "outputs": [],
   "source": [
    "result0 = Table.read(\"/home/yunzheng/PAC/code/hsc_SEDfitting/0p35/0/out/results.fits\")"
   ]
  },
  {
   "cell_type": "code",
   "execution_count": 54,
   "id": "f3ada45a-abe4-40f4-969e-29694f781cbc",
   "metadata": {
    "execution": {
     "iopub.execute_input": "2021-11-28T15:07:18.370527Z",
     "iopub.status.busy": "2021-11-28T15:07:18.370285Z",
     "iopub.status.idle": "2021-11-28T15:07:18.374777Z",
     "shell.execute_reply": "2021-11-28T15:07:18.374395Z",
     "shell.execute_reply.started": "2021-11-28T15:07:18.370495Z"
    },
    "tags": []
   },
   "outputs": [
    {
     "data": {
      "text/html": [
       "&lt;MaskedColumn name=&apos;bayes.param.restframe_Lnu(sdss.up)&apos; dtype=&apos;float64&apos; unit=&apos;W&apos; length=5&gt;\n",
       "<table>\n",
       "<tr><td>1.2531967093922847e+20</td></tr>\n",
       "<tr><td>2.8968302408119547e+20</td></tr>\n",
       "<tr><td>5.365306015645417e+19</td></tr>\n",
       "<tr><td>4.67798429670142e+19</td></tr>\n",
       "<tr><td>1.1496707038448955e+20</td></tr>\n",
       "</table>"
      ],
      "text/plain": [
       "<MaskedColumn name='bayes.param.restframe_Lnu(sdss.up)' dtype='float64' unit='W' length=5>\n",
       "1.2531967093922847e+20\n",
       "2.8968302408119547e+20\n",
       " 5.365306015645417e+19\n",
       "  4.67798429670142e+19\n",
       "1.1496707038448955e+20"
      ]
     },
     "execution_count": 54,
     "metadata": {},
     "output_type": "execute_result"
    }
   ],
   "source": [
    "result0['bayes.param.restframe_Lnu(sdss.up)'][:5]"
   ]
  },
  {
   "cell_type": "code",
   "execution_count": 8,
   "id": "622efe82-a250-4896-8326-4e6d8197f4ec",
   "metadata": {
    "collapsed": true,
    "execution": {
     "iopub.execute_input": "2021-11-29T08:07:15.159676Z",
     "iopub.status.busy": "2021-11-29T08:07:15.159375Z",
     "iopub.status.idle": "2021-11-29T08:07:15.165671Z",
     "shell.execute_reply": "2021-11-29T08:07:15.165200Z",
     "shell.execute_reply.started": "2021-11-29T08:07:15.159650Z"
    },
    "jupyter": {
     "outputs_hidden": true
    },
    "tags": []
   },
   "outputs": [
    {
     "data": {
      "text/html": [
       "&lt;MaskedColumn name=&apos;bayes.param.restframe_Lnu(DECam.r)&apos; dtype=&apos;float64&apos; unit=&apos;W&apos; length=5&gt;\n",
       "<table>\n",
       "<tr><td>2.426781416296346e+21</td></tr>\n",
       "<tr><td>1.089902782581113e+21</td></tr>\n",
       "<tr><td>2.992110075076888e+20</td></tr>\n",
       "<tr><td>3.040501542972804e+20</td></tr>\n",
       "<tr><td>3.0994092485754506e+20</td></tr>\n",
       "</table>"
      ],
      "text/plain": [
       "<MaskedColumn name='bayes.param.restframe_Lnu(DECam.r)' dtype='float64' unit='W' length=5>\n",
       " 2.426781416296346e+21\n",
       " 1.089902782581113e+21\n",
       " 2.992110075076888e+20\n",
       " 3.040501542972804e+20\n",
       "3.0994092485754506e+20"
      ]
     },
     "execution_count": 8,
     "metadata": {},
     "output_type": "execute_result"
    }
   ],
   "source": [
    "result0['bayes.param.restframe_Lnu(DECam.r)'][:5]"
   ]
  },
  {
   "cell_type": "markdown",
   "id": "4020af25-3c8e-4f48-91bb-41d93e5137e9",
   "metadata": {},
   "source": [
    "# Load data\n"
   ]
  },
  {
   "cell_type": "markdown",
   "id": "7ee146cd-5f4a-4957-9624-180ebea18e34",
   "metadata": {},
   "source": [
    "## satlellite original file"
   ]
  },
  {
   "cell_type": "code",
   "execution_count": 2,
   "id": "baac5960-95c8-4aba-953c-6c2c34cc607c",
   "metadata": {
    "execution": {
     "iopub.execute_input": "2022-05-30T01:32:29.867838Z",
     "iopub.status.busy": "2022-05-30T01:32:29.867359Z",
     "iopub.status.idle": "2022-05-30T01:32:57.114144Z",
     "shell.execute_reply": "2022-05-30T01:32:57.112571Z",
     "shell.execute_reply.started": "2022-05-30T01:32:29.867806Z"
    },
    "tags": []
   },
   "outputs": [],
   "source": [
    "satellite = Table.read(\"/home/kunxu/red_disk/PCF/satellite_2.fits\")"
   ]
  },
  {
   "cell_type": "code",
   "execution_count": 3,
   "id": "fb116f8b-4e2a-4960-8a4c-97cee11262a3",
   "metadata": {
    "execution": {
     "iopub.execute_input": "2022-05-30T01:32:57.117256Z",
     "iopub.status.busy": "2022-05-30T01:32:57.116860Z",
     "iopub.status.idle": "2022-05-30T01:32:57.188277Z",
     "shell.execute_reply": "2022-05-30T01:32:57.187320Z",
     "shell.execute_reply.started": "2022-05-30T01:32:57.117228Z"
    },
    "tags": []
   },
   "outputs": [],
   "source": [
    "star = fits.getdata('/home/kunxu/red_disk/PCF/star_flag_sort.fits', 1)"
   ]
  },
  {
   "cell_type": "code",
   "execution_count": 6,
   "id": "869f2bd1-11b8-470d-93d9-9d96f131e359",
   "metadata": {
    "collapsed": true,
    "execution": {
     "iopub.execute_input": "2022-05-29T16:17:11.525175Z",
     "iopub.status.busy": "2022-05-29T16:17:11.524921Z",
     "iopub.status.idle": "2022-05-29T16:17:11.654737Z",
     "shell.execute_reply": "2022-05-29T16:17:11.654342Z",
     "shell.execute_reply.started": "2022-05-29T16:17:11.525151Z"
    },
    "jupyter": {
     "outputs_hidden": true
    },
    "tags": []
   },
   "outputs": [
    {
     "data": {
      "text/plain": [
       "FITS_rec([(36407046198788387, 1., 1., 1., 1.,  1.),\n",
       "          (36407046198788393, 1., 1., 1., 1.,  1.),\n",
       "          (36407046198788394, 1., 1., 1., 1.,  1.), ...,\n",
       "          (74649168714432379, 1., 1., 1., 1.,  1.),\n",
       "          (74649168714432385, 1., 0., 1., 0., nan),\n",
       "          (74649168714432386, 1., 1., 1., 1.,  0.)],\n",
       "         dtype=(numpy.record, [('object_id', '>i8'), ('g_extendedness_value', '>f8'), ('r_extendedness_value', '>f8'), ('i_extendedness_value', '>f8'), ('z_extendedness_value', '>f8'), ('y_extendedness_value', '>f8')]))"
      ]
     },
     "execution_count": 6,
     "metadata": {},
     "output_type": "execute_result"
    }
   ],
   "source": [
    "star"
   ]
  },
  {
   "cell_type": "code",
   "execution_count": 7,
   "id": "e609db49-be76-4606-9f81-6eb511548fd7",
   "metadata": {
    "execution": {
     "iopub.execute_input": "2022-05-29T16:17:18.774398Z",
     "iopub.status.busy": "2022-05-29T16:17:18.774185Z",
     "iopub.status.idle": "2022-05-29T16:17:18.777576Z",
     "shell.execute_reply": "2022-05-29T16:17:18.777254Z",
     "shell.execute_reply.started": "2022-05-29T16:17:18.774375Z"
    }
   },
   "outputs": [
    {
     "data": {
      "text/plain": [
       "(221208319,)"
      ]
     },
     "execution_count": 7,
     "metadata": {},
     "output_type": "execute_result"
    }
   ],
   "source": [
    "star.shape"
   ]
  },
  {
   "cell_type": "markdown",
   "id": "e716641d-d2df-4998-9db3-893b80c76874",
   "metadata": {},
   "source": [
    "## save satellite : 0.2 - 0.4"
   ]
  },
  {
   "cell_type": "code",
   "execution_count": 7,
   "id": "7662bf82-5193-4123-92b0-0ef6eeed8fd6",
   "metadata": {
    "execution": {
     "iopub.execute_input": "2022-05-29T00:07:11.189048Z",
     "iopub.status.busy": "2022-05-29T00:07:11.188784Z",
     "iopub.status.idle": "2022-05-29T00:23:14.511072Z",
     "shell.execute_reply": "2022-05-29T00:23:14.510152Z",
     "shell.execute_reply.started": "2022-05-29T00:07:11.189030Z"
    },
    "tags": []
   },
   "outputs": [],
   "source": [
    "sat2_old = Table.read(\"./results_0p25.fits\")"
   ]
  },
  {
   "cell_type": "code",
   "execution_count": 4,
   "id": "b60a2134-4f2a-4699-a33d-6607368c6a44",
   "metadata": {
    "execution": {
     "iopub.execute_input": "2022-05-30T01:32:57.189120Z",
     "iopub.status.busy": "2022-05-30T01:32:57.189000Z",
     "iopub.status.idle": "2022-05-30T01:33:42.808367Z",
     "shell.execute_reply": "2022-05-30T01:33:42.806980Z",
     "shell.execute_reply.started": "2022-05-30T01:32:57.189108Z"
    },
    "tags": []
   },
   "outputs": [],
   "source": [
    "sat2 = Table.read(\"./results_0p25_new.fits\")"
   ]
  },
  {
   "cell_type": "code",
   "execution_count": 6,
   "id": "adc10a6c-1034-4762-b999-929144587278",
   "metadata": {
    "execution": {
     "iopub.execute_input": "2022-05-30T01:33:42.825834Z",
     "iopub.status.busy": "2022-05-30T01:33:42.825492Z",
     "iopub.status.idle": "2022-05-30T01:34:32.709640Z",
     "shell.execute_reply": "2022-05-30T01:34:32.708625Z",
     "shell.execute_reply.started": "2022-05-30T01:33:42.825814Z"
    },
    "tags": []
   },
   "outputs": [],
   "source": [
    "sat3 = Table.read(\"./results_0p35_new.fits\")"
   ]
  },
  {
   "cell_type": "code",
   "execution_count": 8,
   "id": "52310a52-7586-40cd-883e-d98b0330a712",
   "metadata": {
    "execution": {
     "iopub.execute_input": "2022-05-30T01:34:39.966583Z",
     "iopub.status.busy": "2022-05-30T01:34:39.966206Z",
     "iopub.status.idle": "2022-05-30T01:34:39.970786Z",
     "shell.execute_reply": "2022-05-30T01:34:39.970249Z",
     "shell.execute_reply.started": "2022-05-30T01:34:39.966558Z"
    }
   },
   "outputs": [
    {
     "data": {
      "text/plain": [
       "<TableColumns names=('bayes.param.restframe_Lnu(sdss.gp)','bayes.param.restframe_Lnu(sdss.gp)_err','bayes.param.restframe_Lnu(sdss.rp)','bayes.param.restframe_Lnu(sdss.rp)_err','bayes.param.restframe_Lnu(sdss.up)','bayes.param.restframe_Lnu(sdss.up)_err','bayes.stellar.m_star','bayes.stellar.m_star_err','best.param.restframe_sdss.gp-sdss.rp','best.param.restframe_sdss.up-sdss.rp','best.param.restframe_Lnu(sdss.gp)','best.param.restframe_Lnu(sdss.rp)','best.param.restframe_Lnu(sdss.up)','best.stellar.m_star')>"
      ]
     },
     "execution_count": 8,
     "metadata": {},
     "output_type": "execute_result"
    }
   ],
   "source": [
    "sat3.columns"
   ]
  },
  {
   "cell_type": "markdown",
   "id": "4faf977e-d744-4f22-bbec-309183a8dea0",
   "metadata": {},
   "source": [
    "### mass fits file"
   ]
  },
  {
   "cell_type": "code",
   "execution_count": 5,
   "id": "a50e0d89-dcf3-4403-a3d4-c18050ecc376",
   "metadata": {
    "execution": {
     "iopub.execute_input": "2021-12-05T14:44:05.308146Z",
     "iopub.status.busy": "2021-12-05T14:44:05.307863Z",
     "iopub.status.idle": "2021-12-05T14:44:07.617027Z",
     "shell.execute_reply": "2021-12-05T14:44:07.616233Z",
     "shell.execute_reply.started": "2021-12-05T14:44:05.308121Z"
    },
    "tags": []
   },
   "outputs": [],
   "source": [
    "# mass35 = fits.open(\"/home/yunzheng/PAC/code/hsc_SEDfitting/0p35/mass.fits\")\n",
    "# mass45 = fits.open(\"/home/yunzheng/PAC/code/hsc_SEDfitting/0p45/mass.fits\")"
   ]
  },
  {
   "cell_type": "code",
   "execution_count": 12,
   "id": "3602ac37-ab12-44ae-8689-13a94d758513",
   "metadata": {
    "collapsed": true,
    "execution": {
     "iopub.execute_input": "2021-11-29T08:08:59.042917Z",
     "iopub.status.busy": "2021-11-29T08:08:59.042686Z",
     "iopub.status.idle": "2021-11-29T08:09:17.745546Z",
     "shell.execute_reply": "2021-11-29T08:09:17.745062Z",
     "shell.execute_reply.started": "2021-11-29T08:08:59.042900Z"
    },
    "jupyter": {
     "outputs_hidden": true
    },
    "tags": []
   },
   "outputs": [
    {
     "name": "stderr",
     "output_type": "stream",
     "text": [
      "/tmp/ipykernel_218525/2092486031.py:3: RuntimeWarning: divide by zero encountered in log10\n",
      "  mass35new = np.log10(mass35new,dtype = \"f8\")\n",
      "/tmp/ipykernel_218525/2092486031.py:4: RuntimeWarning: divide by zero encountered in log10\n",
      "  mass45new = np.log10(mass45new,dtype=\"f8\")\n"
     ]
    }
   ],
   "source": [
    "# mass35new = np.array(mass35[1].data,dtype = 'f8')\n",
    "# mass45new = np.array(mass45[1].data,dtype = \"f8\")\n",
    "# mass35new = np.log10(mass35new,dtype = \"f8\")\n",
    "# mass45new = np.log10(mass45new,dtype=\"f8\")"
   ]
  },
  {
   "cell_type": "code",
   "execution_count": 7,
   "id": "be912da6-8e3d-45e5-ad5a-14c04ad8cfd7",
   "metadata": {
    "execution": {
     "iopub.execute_input": "2022-05-30T01:34:32.711166Z",
     "iopub.status.busy": "2022-05-30T01:34:32.710900Z",
     "iopub.status.idle": "2022-05-30T01:34:32.714576Z",
     "shell.execute_reply": "2022-05-30T01:34:32.713680Z",
     "shell.execute_reply.started": "2022-05-30T01:34:32.711145Z"
    },
    "tags": []
   },
   "outputs": [],
   "source": [
    "# mass35 = sat3['best.stellar.m_star']\n",
    "# mass25 = sat2['best.stellar.m_star']\n",
    "mass25 = sat2['bayes.stellar.m_star']\n",
    "mass35 = sat3['bayes.stellar.m_star']"
   ]
  },
  {
   "cell_type": "code",
   "execution_count": 9,
   "id": "5169259c-2f4b-4f54-a850-a3e9e7c01b7b",
   "metadata": {
    "execution": {
     "iopub.execute_input": "2022-05-30T01:34:52.503071Z",
     "iopub.status.busy": "2022-05-30T01:34:52.502344Z",
     "iopub.status.idle": "2022-05-30T01:35:18.533216Z",
     "shell.execute_reply": "2022-05-30T01:35:18.532404Z",
     "shell.execute_reply.started": "2022-05-30T01:34:52.503011Z"
    },
    "tags": []
   },
   "outputs": [
    {
     "name": "stderr",
     "output_type": "stream",
     "text": [
      "/tmp/ipykernel_211201/4249342338.py:1: RuntimeWarning: divide by zero encountered in log10\n",
      "  mass35new = np.array(np.log10(mass35))\n",
      "/tmp/ipykernel_211201/4249342338.py:2: RuntimeWarning: divide by zero encountered in log10\n",
      "  mass25new = np.array(np.log10(mass25))\n"
     ]
    }
   ],
   "source": [
    "mass35new = np.array(np.log10(mass35))\n",
    "mass25new = np.array(np.log10(mass25))"
   ]
  },
  {
   "cell_type": "code",
   "execution_count": 10,
   "id": "725e4724-e839-41c2-99bb-f2f78048d533",
   "metadata": {
    "execution": {
     "iopub.execute_input": "2022-05-30T01:35:52.195250Z",
     "iopub.status.busy": "2022-05-30T01:35:52.194852Z",
     "iopub.status.idle": "2022-05-30T01:35:52.343381Z",
     "shell.execute_reply": "2022-05-30T01:35:52.342931Z",
     "shell.execute_reply.started": "2022-05-30T01:35:52.195226Z"
    },
    "tags": []
   },
   "outputs": [
    {
     "data": {
      "text/plain": [
       "1.0"
      ]
     },
     "execution_count": 10,
     "metadata": {},
     "output_type": "execute_result"
    }
   ],
   "source": [
    "np.min(mass35new)"
   ]
  },
  {
   "cell_type": "code",
   "execution_count": 11,
   "id": "a64a8825-b978-4766-a309-970f64f66a33",
   "metadata": {
    "execution": {
     "iopub.execute_input": "2022-05-30T01:35:53.502390Z",
     "iopub.status.busy": "2022-05-30T01:35:53.501974Z",
     "iopub.status.idle": "2022-05-30T01:35:57.155191Z",
     "shell.execute_reply": "2022-05-30T01:35:57.154360Z",
     "shell.execute_reply.started": "2022-05-30T01:35:53.502337Z"
    },
    "tags": []
   },
   "outputs": [
    {
     "data": {
      "text/plain": [
       "12.924009941011867"
      ]
     },
     "execution_count": 11,
     "metadata": {},
     "output_type": "execute_result"
    }
   ],
   "source": [
    "np.max(mass35new)"
   ]
  },
  {
   "cell_type": "code",
   "execution_count": 17,
   "id": "879e69d7-6368-4566-a422-6f5d4e44d48f",
   "metadata": {
    "execution": {
     "iopub.execute_input": "2022-02-21T04:31:39.736418Z",
     "iopub.status.busy": "2022-02-21T04:31:39.736048Z",
     "iopub.status.idle": "2022-02-21T04:31:40.239906Z",
     "shell.execute_reply": "2022-02-21T04:31:40.239002Z",
     "shell.execute_reply.started": "2022-02-21T04:31:39.736375Z"
    },
    "tags": []
   },
   "outputs": [
    {
     "data": {
      "text/plain": [
       "1.0"
      ]
     },
     "execution_count": 17,
     "metadata": {},
     "output_type": "execute_result"
    }
   ],
   "source": [
    "np.min(mass25new)"
   ]
  },
  {
   "cell_type": "code",
   "execution_count": 18,
   "id": "87cfd483-104a-4e5d-bced-1b1ed4f0c5d1",
   "metadata": {
    "execution": {
     "iopub.execute_input": "2022-02-21T04:31:41.316530Z",
     "iopub.status.busy": "2022-02-21T04:31:41.316167Z",
     "iopub.status.idle": "2022-02-21T04:31:42.726980Z",
     "shell.execute_reply": "2022-02-21T04:31:42.725997Z",
     "shell.execute_reply.started": "2022-02-21T04:31:41.316485Z"
    },
    "tags": []
   },
   "outputs": [
    {
     "data": {
      "text/plain": [
       "12.664886222887455"
      ]
     },
     "execution_count": 18,
     "metadata": {},
     "output_type": "execute_result"
    }
   ],
   "source": [
    "np.max(mass25new)"
   ]
  },
  {
   "cell_type": "markdown",
   "id": "c56f7fe2-f61e-4f28-982c-81ee7171150e",
   "metadata": {},
   "source": [
    "### color"
   ]
  },
  {
   "cell_type": "code",
   "execution_count": 13,
   "id": "8927f06d-d87a-4499-b057-a2eeb661e54d",
   "metadata": {
    "execution": {
     "iopub.execute_input": "2021-11-29T08:09:29.064195Z",
     "iopub.status.busy": "2021-11-29T08:09:29.063937Z",
     "iopub.status.idle": "2021-11-29T08:09:29.168468Z",
     "shell.execute_reply": "2021-11-29T08:09:29.168097Z",
     "shell.execute_reply.started": "2021-11-29T08:09:29.064172Z"
    },
    "tags": []
   },
   "outputs": [],
   "source": [
    "# u35 = fits.open(\"/home/yunzheng/PAC/code/hsc_SEDfitting/0p35/u.fits\")\n",
    "# u45 = fits.open(\"/home/yunzheng/PAC/code/hsc_SEDfitting/0p45/u.fits\")"
   ]
  },
  {
   "cell_type": "code",
   "execution_count": 14,
   "id": "1c527ef5-dc47-42c2-992a-fa7c567a6aae",
   "metadata": {
    "execution": {
     "iopub.execute_input": "2021-11-29T08:09:48.104321Z",
     "iopub.status.busy": "2021-11-29T08:09:48.104131Z",
     "iopub.status.idle": "2021-11-29T08:09:51.824801Z",
     "shell.execute_reply": "2021-11-29T08:09:51.824244Z",
     "shell.execute_reply.started": "2021-11-29T08:09:48.104303Z"
    },
    "tags": []
   },
   "outputs": [],
   "source": [
    "# u35new = np.array(u35[1].data,dtype = 'f8')\n",
    "# u45new = np.array(u45[1].data,dtype = 'f8')"
   ]
  },
  {
   "cell_type": "code",
   "execution_count": 15,
   "id": "6c23a4c5-e2b7-46e8-9f49-9dc4588ccd8a",
   "metadata": {
    "execution": {
     "iopub.execute_input": "2021-11-29T08:10:16.042731Z",
     "iopub.status.busy": "2021-11-29T08:10:16.042277Z",
     "iopub.status.idle": "2021-11-29T08:10:16.273105Z",
     "shell.execute_reply": "2021-11-29T08:10:16.272719Z",
     "shell.execute_reply.started": "2021-11-29T08:10:16.042708Z"
    },
    "tags": []
   },
   "outputs": [],
   "source": [
    "# r35 = fits.open(\"/home/yunzheng/PAC/code/hsc_SEDfitting/0p35/r.fits\")\n",
    "# r45 = fits.open(\"/home/yunzheng/PAC/code/hsc_SEDfitting/0p45/r.fits\")"
   ]
  },
  {
   "cell_type": "code",
   "execution_count": 16,
   "id": "2f426c0c-3210-449b-b668-ac6f3f42de8b",
   "metadata": {
    "execution": {
     "iopub.execute_input": "2021-11-29T08:10:27.043796Z",
     "iopub.status.busy": "2021-11-29T08:10:27.043593Z",
     "iopub.status.idle": "2021-11-29T08:10:30.640551Z",
     "shell.execute_reply": "2021-11-29T08:10:30.640006Z",
     "shell.execute_reply.started": "2021-11-29T08:10:27.043778Z"
    },
    "tags": []
   },
   "outputs": [],
   "source": [
    "# r35new = np.array(r35[1].data,dtype = 'f8')\n",
    "# r45new = np.array(r45[1].data,dtype = 'f8')"
   ]
  },
  {
   "cell_type": "code",
   "execution_count": 17,
   "id": "3237c84b-ef2c-4c9b-aa89-2784accb2ca9",
   "metadata": {
    "execution": {
     "iopub.execute_input": "2021-11-29T08:10:52.207152Z",
     "iopub.status.busy": "2021-11-29T08:10:52.206891Z",
     "iopub.status.idle": "2021-11-29T08:10:52.288091Z",
     "shell.execute_reply": "2021-11-29T08:10:52.287707Z",
     "shell.execute_reply.started": "2021-11-29T08:10:52.207131Z"
    },
    "tags": []
   },
   "outputs": [],
   "source": [
    "# g35 = fits.open(\"/home/yunzheng/PAC/code/hsc_SEDfitting/0p35/g.fits\")\n",
    "# g45 = fits.open(\"/home/yunzheng/PAC/code/hsc_SEDfitting/0p45/g.fits\")"
   ]
  },
  {
   "cell_type": "code",
   "execution_count": 18,
   "id": "204561fd-8bca-44d7-a75c-93c956dbf431",
   "metadata": {
    "execution": {
     "iopub.execute_input": "2021-11-29T08:11:00.115237Z",
     "iopub.status.busy": "2021-11-29T08:11:00.115054Z",
     "iopub.status.idle": "2021-11-29T08:11:04.258366Z",
     "shell.execute_reply": "2021-11-29T08:11:04.257625Z",
     "shell.execute_reply.started": "2021-11-29T08:11:00.115220Z"
    },
    "tags": []
   },
   "outputs": [],
   "source": [
    "# g35new = np.array(g35[1].data,dtype = 'f8')\n",
    "# g45new = np.array(g45[1].data,dtype = 'f8')"
   ]
  },
  {
   "cell_type": "code",
   "execution_count": 19,
   "id": "9504856e-de3b-4a21-90fe-abcbd1f98ff8",
   "metadata": {
    "execution": {
     "iopub.execute_input": "2021-12-05T16:21:57.506569Z",
     "iopub.status.busy": "2021-12-05T16:21:57.505983Z",
     "iopub.status.idle": "2021-12-05T16:21:57.510315Z",
     "shell.execute_reply": "2021-12-05T16:21:57.509720Z",
     "shell.execute_reply.started": "2021-12-05T16:21:57.506534Z"
    },
    "tags": []
   },
   "outputs": [],
   "source": [
    "# u_r35 = -2.5 * np.log10(u35new / r35new)\n",
    "# u_r45 = -2.5 * np.log10(u45new / r45new)\n",
    "\n",
    "# g_r35 = -2.5 * np.log10(g35new / r35new)\n",
    "# g_r45 = -2.5 * np.log10(g45new / r45new)"
   ]
  },
  {
   "cell_type": "code",
   "execution_count": 11,
   "id": "0e7065a8-998f-4903-8f11-924fa9e5618c",
   "metadata": {
    "collapsed": true,
    "execution": {
     "iopub.execute_input": "2022-05-24T15:10:37.283982Z",
     "iopub.status.busy": "2022-05-24T15:10:37.283851Z",
     "iopub.status.idle": "2022-05-24T15:10:37.287251Z",
     "shell.execute_reply": "2022-05-24T15:10:37.286918Z",
     "shell.execute_reply.started": "2022-05-24T15:10:37.283968Z"
    },
    "jupyter": {
     "outputs_hidden": true
    },
    "tags": []
   },
   "outputs": [
    {
     "data": {
      "text/plain": [
       "<TableColumns names=('id','bayes.param.restframe_Lnu(DECam.g)','bayes.param.restframe_Lnu(DECam.g)_err','bayes.param.restframe_Lnu(DECam.r)','bayes.param.restframe_Lnu(DECam.r)_err','bayes.param.restframe_Lnu(sdss.up)','bayes.param.restframe_Lnu(sdss.up)_err','bayes.param.restframe_Lnu(subaru.hsc.g)','bayes.param.restframe_Lnu(subaru.hsc.g)_err','bayes.param.restframe_Lnu(subaru.hsc.r)','bayes.param.restframe_Lnu(subaru.hsc.r)_err','bayes.stellar.m_star','bayes.stellar.m_star_err','bayes.subaru.hsc.g','bayes.subaru.hsc.g_err','bayes.subaru.hsc.r','bayes.subaru.hsc.r_err','best.chi_square','best.reduced_chi_square','best.attenuation.E_BVs.nebular.continuum_old','best.attenuation.E_BVs.nebular.continuum_young','best.attenuation.E_BVs.nebular.lines_old','best.attenuation.E_BVs.nebular.lines_young','best.attenuation.E_BVs.stellar.old','best.attenuation.E_BVs.stellar.young','best.attenuation.ebvs_old_factor','best.attenuation.powerlaw_slope','best.attenuation.subaru.hsc.g','best.attenuation.uv_bump_amplitude','best.attenuation.uv_bump_wavelength','best.attenuation.uv_bump_width','best.nebular.f_dust','best.nebular.f_esc','best.nebular.lines_width','best.nebular.logU','best.param.restframe_DECam.g-DECam.r','best.param.restframe_sdss.gp-sdss.rp','best.param.restframe_sdss.up-DECam.r','best.param.restframe_sdss.up-sdss.rp','best.param.restframe_sdss.up-subaru.hsc.r','best.param.restframe_subaru.hsc.g-subaru.hsc.r','best.sfh.age','best.sfh.age_burst','best.sfh.age_main','best.sfh.f_burst','best.sfh.tau_burst','best.sfh.tau_main','best.stellar.age_m_star','best.stellar.imf','best.stellar.metallicity','best.stellar.old_young_separation_age','best.universe.age','best.universe.luminosity_distance','best.universe.redshift','best.attenuation.nebular.continuum_old','best.attenuation.nebular.continuum_young','best.attenuation.nebular.lines_old','best.attenuation.nebular.lines_young','best.attenuation.stellar.old','best.attenuation.stellar.young','best.dust.luminosity','best.param.restframe_Lnu(DECam.g)','best.param.restframe_Lnu(DECam.r)','best.param.restframe_Lnu(sdss.gp)','best.param.restframe_Lnu(sdss.rp)','best.param.restframe_Lnu(sdss.up)','best.param.restframe_Lnu(subaru.hsc.g)','best.param.restframe_Lnu(subaru.hsc.r)','best.sfh.integrated','best.sfh.sfr','best.sfh.sfr100Myrs','best.sfh.sfr10Myrs','best.stellar.lum','best.stellar.lum_ly','best.stellar.lum_ly_old','best.stellar.lum_ly_young','best.stellar.lum_old','best.stellar.lum_young','best.stellar.m_gas','best.stellar.m_gas_old','best.stellar.m_gas_young','best.stellar.m_star','best.stellar.m_star_old','best.stellar.m_star_young','best.stellar.n_ly','best.stellar.n_ly_old','best.stellar.n_ly_young','best.subaru.hsc.g','best.subaru.hsc.r','best.subaru.hsc.i','best.subaru.hsc.z','best.subaru.hsc.y')>"
      ]
     },
     "execution_count": 11,
     "metadata": {},
     "output_type": "execute_result"
    }
   ],
   "source": [
    "sat2.columns"
   ]
  },
  {
   "cell_type": "code",
   "execution_count": 17,
   "id": "d80d6ac8-f8ab-4764-8a73-7b6b1c6a8c2e",
   "metadata": {
    "execution": {
     "iopub.execute_input": "2022-05-30T01:38:47.190296Z",
     "iopub.status.busy": "2022-05-30T01:38:47.190164Z",
     "iopub.status.idle": "2022-05-30T01:38:49.652898Z",
     "shell.execute_reply": "2022-05-30T01:38:49.652262Z",
     "shell.execute_reply.started": "2022-05-30T01:38:47.190280Z"
    },
    "tags": []
   },
   "outputs": [],
   "source": [
    "u25 = sat2['bayes.param.restframe_Lnu(sdss.up)']\n",
    "r25 = sat2['bayes.param.restframe_Lnu(sdss.rp)']\n",
    "u_r25 = -2.5 * np.log10(u25 / r25)\n",
    "u_r25 = np.array(u_r25)"
   ]
  },
  {
   "cell_type": "code",
   "execution_count": 18,
   "id": "c131ef1e-0e54-490b-ab25-e145d24f11bb",
   "metadata": {
    "execution": {
     "iopub.execute_input": "2022-05-30T01:39:08.766863Z",
     "iopub.status.busy": "2022-05-30T01:39:08.766712Z",
     "iopub.status.idle": "2022-05-30T01:39:09.962362Z",
     "shell.execute_reply": "2022-05-30T01:39:09.961775Z",
     "shell.execute_reply.started": "2022-05-30T01:39:08.766845Z"
    },
    "tags": []
   },
   "outputs": [],
   "source": [
    "u35 = sat3['bayes.param.restframe_Lnu(sdss.up)']\n",
    "r35 = sat3['bayes.param.restframe_Lnu(sdss.rp)']\n",
    "u_r35 = -2.5 * np.log10(u35 / r35)\n",
    "u_r35 = np.array(u_r35)"
   ]
  },
  {
   "cell_type": "code",
   "execution_count": 7,
   "id": "2c8600a7-b6a5-4cd6-8895-4bb0a198acd7",
   "metadata": {
    "execution": {
     "iopub.execute_input": "2022-02-21T04:28:22.189929Z",
     "iopub.status.busy": "2022-02-21T04:28:22.189273Z",
     "iopub.status.idle": "2022-02-21T04:28:47.339184Z",
     "shell.execute_reply": "2022-02-21T04:28:47.338025Z",
     "shell.execute_reply.started": "2022-02-21T04:28:22.189869Z"
    },
    "tags": []
   },
   "outputs": [],
   "source": [
    "# u_r35 = np.array(sat3['best.param.restframe_sdss.up-sdss.rp'])\n",
    "# u_r25 = np.array(sat2['best.param.restframe_sdss.up-sdss.rp'])\n",
    "\n",
    "# g_r35 = np.array(sat3['best.param.restframe_sdss.gp-sdss.rp'])\n",
    "# g_r25 = np.array(sat2['best.param.restframe_sdss.gp-sdss.rp'])"
   ]
  },
  {
   "cell_type": "code",
   "execution_count": 20,
   "id": "aee4e128-5b3f-4a84-b93b-1318820cd65b",
   "metadata": {
    "execution": {
     "iopub.execute_input": "2022-05-30T01:39:27.775963Z",
     "iopub.status.busy": "2022-05-30T01:39:27.775821Z",
     "iopub.status.idle": "2022-05-30T01:39:27.780764Z",
     "shell.execute_reply": "2022-05-30T01:39:27.779906Z",
     "shell.execute_reply.started": "2022-05-30T01:39:27.775948Z"
    },
    "tags": []
   },
   "outputs": [
    {
     "data": {
      "text/plain": [
       "array([3.11285426, 1.41175168])"
      ]
     },
     "execution_count": 20,
     "metadata": {},
     "output_type": "execute_result"
    }
   ],
   "source": [
    "u_r35[:2]"
   ]
  },
  {
   "cell_type": "code",
   "execution_count": 15,
   "id": "e3202800-80b0-4fc3-99bf-9ec9f56c9301",
   "metadata": {
    "collapsed": true,
    "execution": {
     "iopub.execute_input": "2022-05-24T15:17:10.648918Z",
     "iopub.status.busy": "2022-05-24T15:17:10.648737Z",
     "iopub.status.idle": "2022-05-24T15:17:10.653964Z",
     "shell.execute_reply": "2022-05-24T15:17:10.653616Z",
     "shell.execute_reply.started": "2022-05-24T15:17:10.648898Z"
    },
    "jupyter": {
     "outputs_hidden": true
    },
    "tags": []
   },
   "outputs": [
    {
     "data": {
      "text/html": [
       "&lt;MaskedColumn name=&apos;bayes.param.restframe_Lnu(sdss.up)&apos; dtype=&apos;float64&apos; unit=&apos;W&apos; length=221208319&gt;\n",
       "<table>\n",
       "<tr><td>3.620870181605269</td></tr>\n",
       "<tr><td>1.7047509024665561</td></tr>\n",
       "<tr><td>2.1097075736659794</td></tr>\n",
       "<tr><td>1.0497138764847123</td></tr>\n",
       "<tr><td>1.448815943746703</td></tr>\n",
       "<tr><td>3.1114609976769443</td></tr>\n",
       "<tr><td>0.8692232001720713</td></tr>\n",
       "<tr><td>2.118407366993151</td></tr>\n",
       "<tr><td>1.174013765653457</td></tr>\n",
       "<tr><td>2.051194876105438</td></tr>\n",
       "<tr><td>2.293480235814452</td></tr>\n",
       "<tr><td>2.541987126680189</td></tr>\n",
       "<tr><td>...</td></tr>\n",
       "<tr><td>0.3709647589679254</td></tr>\n",
       "<tr><td>0.36801478646503927</td></tr>\n",
       "<tr><td>0.2793455777749956</td></tr>\n",
       "<tr><td>0.5058008304248913</td></tr>\n",
       "<tr><td>0.30148461255687875</td></tr>\n",
       "<tr><td>0.38881790655606435</td></tr>\n",
       "<tr><td>1.0282155851781016</td></tr>\n",
       "<tr><td>0.7051716438851297</td></tr>\n",
       "<tr><td>0.5473600592339382</td></tr>\n",
       "<tr><td>0.6902791717437486</td></tr>\n",
       "<tr><td>0.39555279737118026</td></tr>\n",
       "<tr><td>0.8494814284029004</td></tr>\n",
       "</table>"
      ],
      "text/plain": [
       "<MaskedColumn name='bayes.param.restframe_Lnu(sdss.up)' dtype='float64' unit='W' length=221208319>\n",
       "  3.620870181605269\n",
       " 1.7047509024665561\n",
       " 2.1097075736659794\n",
       " 1.0497138764847123\n",
       "  1.448815943746703\n",
       " 3.1114609976769443\n",
       " 0.8692232001720713\n",
       "  2.118407366993151\n",
       "  1.174013765653457\n",
       "  2.051194876105438\n",
       "  2.293480235814452\n",
       "  2.541987126680189\n",
       "                ...\n",
       " 0.3709647589679254\n",
       "0.36801478646503927\n",
       " 0.2793455777749956\n",
       " 0.5058008304248913\n",
       "0.30148461255687875\n",
       "0.38881790655606435\n",
       " 1.0282155851781016\n",
       " 0.7051716438851297\n",
       " 0.5473600592339382\n",
       " 0.6902791717437486\n",
       "0.39555279737118026\n",
       " 0.8494814284029004"
      ]
     },
     "execution_count": 15,
     "metadata": {},
     "output_type": "execute_result"
    }
   ],
   "source": [
    "u_r25"
   ]
  },
  {
   "cell_type": "code",
   "execution_count": 14,
   "id": "cfc3ad50-d9eb-4ec0-b1f3-391f802639ec",
   "metadata": {
    "execution": {
     "iopub.execute_input": "2022-05-24T15:17:03.918315Z",
     "iopub.status.busy": "2022-05-24T15:17:03.918189Z",
     "iopub.status.idle": "2022-05-24T15:17:04.575877Z",
     "shell.execute_reply": "2022-05-24T15:17:04.575476Z",
     "shell.execute_reply.started": "2022-05-24T15:17:03.918299Z"
    },
    "tags": []
   },
   "outputs": [
    {
     "data": {
      "text/plain": [
       "array([3.62087018, 1.7047509 , 2.10970757, ..., 0.69027917, 0.3955528 ,\n",
       "       0.84948143])"
      ]
     },
     "execution_count": 14,
     "metadata": {},
     "output_type": "execute_result"
    }
   ],
   "source": [
    "np.array(u_r25)"
   ]
  },
  {
   "cell_type": "code",
   "execution_count": 30,
   "id": "a0c9c1d7-fb13-4f5c-bbdd-12b5f4b64b8c",
   "metadata": {
    "execution": {
     "iopub.execute_input": "2021-12-27T10:14:15.748503Z",
     "iopub.status.busy": "2021-12-27T10:14:15.748310Z",
     "iopub.status.idle": "2021-12-27T10:14:16.038176Z",
     "shell.execute_reply": "2021-12-27T10:14:16.037530Z",
     "shell.execute_reply.started": "2021-12-27T10:14:15.748480Z"
    },
    "tags": []
   },
   "outputs": [
    {
     "data": {
      "text/plain": [
       "-0.07136442456318552"
      ]
     },
     "execution_count": 30,
     "metadata": {},
     "output_type": "execute_result"
    }
   ],
   "source": [
    "np.min(u_r35)"
   ]
  },
  {
   "cell_type": "code",
   "execution_count": 32,
   "id": "614391d6-d752-4fc9-864e-2219d9363a52",
   "metadata": {
    "execution": {
     "iopub.execute_input": "2021-12-27T10:14:22.615211Z",
     "iopub.status.busy": "2021-12-27T10:14:22.615071Z",
     "iopub.status.idle": "2021-12-27T10:14:22.904409Z",
     "shell.execute_reply": "2021-12-27T10:14:22.903650Z",
     "shell.execute_reply.started": "2021-12-27T10:14:22.615196Z"
    },
    "tags": []
   },
   "outputs": [
    {
     "data": {
      "text/plain": [
       "3.869409793985566"
      ]
     },
     "execution_count": 32,
     "metadata": {},
     "output_type": "execute_result"
    }
   ],
   "source": [
    "np.max(u_r35)"
   ]
  },
  {
   "cell_type": "code",
   "execution_count": 33,
   "id": "ce7c36ad-02b2-4c78-9a87-26e7f86c5e55",
   "metadata": {
    "execution": {
     "iopub.execute_input": "2021-12-27T10:14:25.857272Z",
     "iopub.status.busy": "2021-12-27T10:14:25.857138Z",
     "iopub.status.idle": "2021-12-27T10:14:25.861988Z",
     "shell.execute_reply": "2021-12-27T10:14:25.861039Z",
     "shell.execute_reply.started": "2021-12-27T10:14:25.857257Z"
    },
    "tags": []
   },
   "outputs": [
    {
     "data": {
      "text/plain": [
       "(221208319,)"
      ]
     },
     "execution_count": 33,
     "metadata": {},
     "output_type": "execute_result"
    }
   ],
   "source": [
    "u_r35.shape"
   ]
  },
  {
   "cell_type": "markdown",
   "id": "8bdd71e4-6260-466a-a7ea-e63b33e8f2bb",
   "metadata": {},
   "source": [
    "# make table"
   ]
  },
  {
   "cell_type": "code",
   "execution_count": 22,
   "id": "e1c9db0b-efce-4c87-ad96-4cd7428f860b",
   "metadata": {
    "execution": {
     "iopub.execute_input": "2022-05-30T01:40:24.680620Z",
     "iopub.status.busy": "2022-05-30T01:40:24.680440Z",
     "iopub.status.idle": "2022-05-30T01:40:42.295040Z",
     "shell.execute_reply": "2022-05-30T01:40:42.294073Z",
     "shell.execute_reply.started": "2022-05-30T01:40:24.680604Z"
    },
    "tags": []
   },
   "outputs": [],
   "source": [
    "targets = Table()\n",
    "targets.add_column(Column(name = 'ra',length = len(satellite),dtype='f8',data = satellite['ra']))\n",
    "targets.add_column(Column(name = 'dec',length = len(satellite),dtype='f8',data = satellite['dec']))\n",
    "targets.add_column(Column(name = 'mass0p25',length = len(satellite),dtype='f8',data = mass25new))\n",
    "targets.add_column(Column(name = 'mass0p35',length = len(satellite),dtype='f8',data = mass35new))\n",
    "targets.add_column(Column(name = 'u_r0p25',length = len(satellite),dtype='f8',data = u_r25))\n",
    "targets.add_column(Column(name = 'u_r0p35',length = len(satellite),dtype='f8',data = u_r35))\n",
    "# targets.add_column(Column(name = 'g_r0p25',length = len(satellite),dtype='f8',data = g_r25))\n",
    "# targets.add_column(Column(name = 'g_r0p35',length = len(satellite),dtype='f8',data = g_r35))\n",
    "\n",
    "\n",
    "targets.add_column(Column(name = 'skymap_id',length = len(satellite),dtype='i4',data = satellite['skymap_id']))"
   ]
  },
  {
   "cell_type": "code",
   "execution_count": 23,
   "id": "1e0bebc6-b91b-4823-9ca8-35a93dba093e",
   "metadata": {
    "execution": {
     "iopub.execute_input": "2022-05-30T01:40:42.297009Z",
     "iopub.status.busy": "2022-05-30T01:40:42.296632Z",
     "iopub.status.idle": "2022-05-30T01:40:42.302752Z",
     "shell.execute_reply": "2022-05-30T01:40:42.301714Z",
     "shell.execute_reply.started": "2022-05-30T01:40:42.296985Z"
    }
   },
   "outputs": [
    {
     "data": {
      "text/html": [
       "<div><i>Table length=2</i>\n",
       "<table id=\"table47581807203136\" class=\"table-striped table-bordered table-condensed\">\n",
       "<thead><tr><th>ra</th><th>dec</th><th>mass0p25</th><th>mass0p35</th><th>u_r0p25</th><th>u_r0p35</th><th>skymap_id</th></tr></thead>\n",
       "<thead><tr><th>float64</th><th>float64</th><th>float64</th><th>float64</th><th>float64</th><th>float64</th><th>int32</th></tr></thead>\n",
       "<tr><td>29.11596307549589</td><td>-6.775140624839325</td><td>9.88635139917353</td><td>10.141131463373675</td><td>3.5038898814149477</td><td>3.112854264069183</td><td>82780004</td></tr>\n",
       "<tr><td>29.097010963966863</td><td>-6.77468933995016</td><td>8.61671881086169</td><td>8.794554684249755</td><td>1.6658369540781568</td><td>1.41175168329629</td><td>82780004</td></tr>\n",
       "</table></div>"
      ],
      "text/plain": [
       "<Table length=2>\n",
       "        ra                dec         ...      u_r0p35      skymap_id\n",
       "     float64            float64       ...      float64        int32  \n",
       "------------------ ------------------ ... ----------------- ---------\n",
       " 29.11596307549589 -6.775140624839325 ... 3.112854264069183  82780004\n",
       "29.097010963966863  -6.77468933995016 ...  1.41175168329629  82780004"
      ]
     },
     "execution_count": 23,
     "metadata": {},
     "output_type": "execute_result"
    }
   ],
   "source": [
    "targets[:2]"
   ]
  },
  {
   "cell_type": "code",
   "execution_count": 20,
   "id": "d8b28aa7-0543-4587-8b48-90e861758c31",
   "metadata": {
    "execution": {
     "iopub.execute_input": "2022-02-21T04:33:07.246306Z",
     "iopub.status.busy": "2022-02-21T04:33:07.245711Z",
     "iopub.status.idle": "2022-02-21T04:33:07.256056Z",
     "shell.execute_reply": "2022-02-21T04:33:07.255120Z",
     "shell.execute_reply.started": "2022-02-21T04:33:07.246262Z"
    },
    "tags": []
   },
   "outputs": [
    {
     "data": {
      "text/html": [
       "<div><i>Table length=2</i>\n",
       "<table id=\"table47797823021744\" class=\"table-striped table-bordered table-condensed\">\n",
       "<thead><tr><th>ra</th><th>dec</th><th>mass0p25</th><th>mass0p35</th><th>u_r0p25</th><th>u_r0p35</th><th>g_r0p25</th><th>g_r0p35</th><th>skymap_id</th></tr></thead>\n",
       "<thead><tr><th>float64</th><th>float64</th><th>float64</th><th>float64</th><th>float64</th><th>float64</th><th>float64</th><th>float64</th><th>int32</th></tr></thead>\n",
       "<tr><td>29.11596307549589</td><td>-6.775140624839325</td><td>9.909622398925</td><td>10.144222931276179</td><td>3.518234938140789</td><td>3.1101710277422496</td><td>1.2242344768064832</td><td>1.1096232821257574</td><td>82780004</td></tr>\n",
       "<tr><td>29.097010963966863</td><td>-6.77468933995016</td><td>8.52394979883879</td><td>8.736175033490216</td><td>1.8268886714287187</td><td>1.427809609715938</td><td>0.40367988224698015</td><td>0.24465291859364696</td><td>82780004</td></tr>\n",
       "</table></div>"
      ],
      "text/plain": [
       "<Table length=2>\n",
       "        ra                dec         ...       g_r0p35       skymap_id\n",
       "     float64            float64       ...       float64         int32  \n",
       "------------------ ------------------ ... ------------------- ---------\n",
       " 29.11596307549589 -6.775140624839325 ...  1.1096232821257574  82780004\n",
       "29.097010963966863  -6.77468933995016 ... 0.24465291859364696  82780004"
      ]
     },
     "execution_count": 20,
     "metadata": {},
     "output_type": "execute_result"
    }
   ],
   "source": [
    "targets[:2]"
   ]
  },
  {
   "cell_type": "code",
   "execution_count": 21,
   "id": "1bbbb902-e4f2-42ad-a516-c1fdcd7f6f30",
   "metadata": {
    "collapsed": true,
    "execution": {
     "iopub.execute_input": "2021-11-29T08:13:58.484806Z",
     "iopub.status.busy": "2021-11-29T08:13:58.484560Z",
     "iopub.status.idle": "2021-11-29T08:13:58.490905Z",
     "shell.execute_reply": "2021-11-29T08:13:58.490538Z",
     "shell.execute_reply.started": "2021-11-29T08:13:58.484784Z"
    },
    "jupyter": {
     "outputs_hidden": true
    },
    "tags": []
   },
   "outputs": [
    {
     "data": {
      "text/html": [
       "<div><i>Table length=221208319</i>\n",
       "<table id=\"table47395725062400\" class=\"table-striped table-bordered table-condensed\">\n",
       "<thead><tr><th>ra</th><th>dec</th><th>mass0p35</th><th>mass0p45</th><th>u_r0p35</th><th>u_r0p45</th><th>g_r0p35</th><th>g_r0p45</th><th>skymap_id</th></tr></thead>\n",
       "<thead><tr><th>float64</th><th>float64</th><th>float64</th><th>float64</th><th>float64</th><th>float64</th><th>float64</th><th>float64</th><th>int32</th></tr></thead>\n",
       "<tr><td>29.11596307549589</td><td>-6.775140624839325</td><td>10.141131463373675</td><td>10.325859070029514</td><td>3.2175285367741164</td><td>2.9658931516222515</td><td>1.0492791555977576</td><td>0.9454237322622155</td><td>82780004</td></tr>\n",
       "<tr><td>29.097010963966863</td><td>-6.77468933995016</td><td>8.794554684249755</td><td>8.962278545755906</td><td>1.4386617895210607</td><td>1.149703114755145</td><td>0.2839947024647446</td><td>0.2498930081367096</td><td>82780004</td></tr>\n",
       "<tr><td>29.126665626064202</td><td>-6.77473359426081</td><td>8.576555889904595</td><td>8.762890349630931</td><td>1.8659576726808296</td><td>1.5984288824123571</td><td>0.5475312517222917</td><td>0.4890256781049667</td><td>82780004</td></tr>\n",
       "<tr><td>29.067357382379907</td><td>-6.774723759969203</td><td>8.7349430906841</td><td>8.873526721542614</td><td>2.0322161713200533</td><td>1.59630362246042</td><td>0.6069852892087171</td><td>0.4984318132766944</td><td>82780004</td></tr>\n",
       "<tr><td>29.11473313855873</td><td>-6.774551113549213</td><td>7.908530707747893</td><td>8.504293016768218</td><td>1.0767636497833244</td><td>1.1106941359190465</td><td>0.5316105672293113</td><td>0.3876115391032776</td><td>82780004</td></tr>\n",
       "<tr><td>29.108439423590077</td><td>-6.773931553803997</td><td>9.616485953947404</td><td>9.795543992783637</td><td>2.8008912391868495</td><td>2.5586976522594003</td><td>0.8900679108025911</td><td>0.7909495001627996</td><td>82780004</td></tr>\n",
       "<tr><td>29.10984648746462</td><td>-6.773631608498949</td><td>8.686898825858908</td><td>8.797989409836493</td><td>0.7341868918631196</td><td>0.5407154846894828</td><td>0.1471816620273401</td><td>0.17058138320457206</td><td>82780004</td></tr>\n",
       "<tr><td>29.096387207795175</td><td>-6.773254081977553</td><td>9.247871873762403</td><td>9.462493607707845</td><td>1.8122404558697278</td><td>1.505254192909165</td><td>0.429226036761604</td><td>0.3840513873965398</td><td>82780004</td></tr>\n",
       "<tr><td>29.049894596351326</td><td>-6.773429459673613</td><td>8.166529519620553</td><td>8.352856118582768</td><td>0.9306927788588854</td><td>0.8147457194699685</td><td>0.20388728774016535</td><td>0.1743095913804441</td><td>82780004</td></tr>\n",
       "<tr><td>29.098610255564555</td><td>-6.773342043991594</td><td>8.543438248129403</td><td>8.734544470345693</td><td>1.6905324728801077</td><td>1.5321007073806094</td><td>0.4915624962894689</td><td>0.4211663753263898</td><td>82780004</td></tr>\n",
       "<tr><td>...</td><td>...</td><td>...</td><td>...</td><td>...</td><td>...</td><td>...</td><td>...</td><td>...</td></tr>\n",
       "<tr><td>213.88924693059377</td><td>53.21989470071096</td><td>6.307311597788188</td><td>6.634382225331621</td><td>0.22615296808207414</td><td>0.28680931507505425</td><td>0.3823261348564549</td><td>0.4160959587666787</td><td>169730806</td></tr>\n",
       "<tr><td>213.88894050180343</td><td>53.22036588520432</td><td>6.953752722646425</td><td>7.085322172593388</td><td>0.44232460509851335</td><td>0.47276042422026465</td><td>0.350510863200404</td><td>0.4096831411552121</td><td>169730806</td></tr>\n",
       "<tr><td>213.87825951856232</td><td>53.24095083437476</td><td>7.446569863199606</td><td>7.405781220937251</td><td>0.19382985415172707</td><td>0.3014587280689843</td><td>0.23771720170459282</td><td>0.42949983156796995</td><td>169730806</td></tr>\n",
       "<tr><td>213.8783457519574</td><td>53.24066073463104</td><td>7.382321940447391</td><td>7.512152159797873</td><td>0.3481337048294276</td><td>0.2866229116380039</td><td>0.39088063478315177</td><td>0.34723096805775855</td><td>169730806</td></tr>\n",
       "<tr><td>213.90558452881055</td><td>53.24710141174297</td><td>7.376913569066137</td><td>7.742168549270994</td><td>0.7603082599631512</td><td>0.8801358289598288</td><td>0.3414536808496054</td><td>0.36998392149278014</td><td>169730806</td></tr>\n",
       "<tr><td>213.90602172554313</td><td>53.24722472245111</td><td>7.171161648680185</td><td>7.334453682695222</td><td>0.6828471325964118</td><td>0.6786928506596837</td><td>0.29952238833732764</td><td>0.36237634725723844</td><td>169730806</td></tr>\n",
       "<tr><td>213.88861027838306</td><td>53.25148278667229</td><td>7.118019315328016</td><td>7.270813694004296</td><td>0.4628494208355294</td><td>0.5207955871907127</td><td>0.326308075543788</td><td>0.4073376567076584</td><td>169730806</td></tr>\n",
       "<tr><td>213.8891779527558</td><td>53.25111281879681</td><td>7.432475453306316</td><td>7.56772936823065</td><td>0.6922270523563984</td><td>0.6310343015802109</td><td>0.26160451955849845</td><td>0.2911381168119879</td><td>169730806</td></tr>\n",
       "<tr><td>213.9124564147628</td><td>53.25727936781461</td><td>6.925651911407258</td><td>6.959937461467922</td><td>0.44384068346525646</td><td>0.40864552507023894</td><td>0.26224252394140757</td><td>0.3502771079846989</td><td>169730806</td></tr>\n",
       "<tr><td>213.91304890213354</td><td>53.2576421336773</td><td>7.4762198663424035</td><td>7.6050549557042</td><td>0.9084294724392552</td><td>0.799402605463857</td><td>0.3434758212004819</td><td>0.3450385934711891</td><td>169730806</td></tr>\n",
       "</table></div>"
      ],
      "text/plain": [
       "<Table length=221208319>\n",
       "        ra                dec         ...       g_r0p45       skymap_id\n",
       "     float64            float64       ...       float64         int32  \n",
       "------------------ ------------------ ... ------------------- ---------\n",
       " 29.11596307549589 -6.775140624839325 ...  0.9454237322622155  82780004\n",
       "29.097010963966863  -6.77468933995016 ...  0.2498930081367096  82780004\n",
       "29.126665626064202  -6.77473359426081 ...  0.4890256781049667  82780004\n",
       "29.067357382379907 -6.774723759969203 ...  0.4984318132766944  82780004\n",
       " 29.11473313855873 -6.774551113549213 ...  0.3876115391032776  82780004\n",
       "29.108439423590077 -6.773931553803997 ...  0.7909495001627996  82780004\n",
       " 29.10984648746462 -6.773631608498949 ... 0.17058138320457206  82780004\n",
       "29.096387207795175 -6.773254081977553 ...  0.3840513873965398  82780004\n",
       "29.049894596351326 -6.773429459673613 ...  0.1743095913804441  82780004\n",
       "29.098610255564555 -6.773342043991594 ...  0.4211663753263898  82780004\n",
       "               ...                ... ...                 ...       ...\n",
       "213.88924693059377  53.21989470071096 ...  0.4160959587666787 169730806\n",
       "213.88894050180343  53.22036588520432 ...  0.4096831411552121 169730806\n",
       "213.87825951856232  53.24095083437476 ... 0.42949983156796995 169730806\n",
       " 213.8783457519574  53.24066073463104 ... 0.34723096805775855 169730806\n",
       "213.90558452881055  53.24710141174297 ... 0.36998392149278014 169730806\n",
       "213.90602172554313  53.24722472245111 ... 0.36237634725723844 169730806\n",
       "213.88861027838306  53.25148278667229 ...  0.4073376567076584 169730806\n",
       " 213.8891779527558  53.25111281879681 ...  0.2911381168119879 169730806\n",
       " 213.9124564147628  53.25727936781461 ...  0.3502771079846989 169730806\n",
       "213.91304890213354   53.2576421336773 ...  0.3450385934711891 169730806"
      ]
     },
     "execution_count": 21,
     "metadata": {},
     "output_type": "execute_result"
    }
   ],
   "source": [
    "targets   #221208319"
   ]
  },
  {
   "cell_type": "markdown",
   "id": "a361d227-b156-433d-b590-00017e3cc002",
   "metadata": {},
   "source": [
    "## 判断是否为恒星"
   ]
  },
  {
   "cell_type": "code",
   "execution_count": 24,
   "id": "04678fd7-c9f4-4648-808b-08d028dea2c3",
   "metadata": {
    "execution": {
     "iopub.execute_input": "2022-05-30T01:41:18.502882Z",
     "iopub.status.busy": "2022-05-30T01:41:18.502739Z",
     "iopub.status.idle": "2022-05-30T01:41:38.800626Z",
     "shell.execute_reply": "2022-05-30T01:41:38.798775Z",
     "shell.execute_reply.started": "2022-05-30T01:41:18.502866Z"
    },
    "tags": []
   },
   "outputs": [],
   "source": [
    "targets = targets[star['z_extendedness_value'] == 1]"
   ]
  },
  {
   "cell_type": "code",
   "execution_count": 37,
   "id": "63f6ae4c-3ec3-4207-a72e-77321be1d831",
   "metadata": {
    "collapsed": true,
    "execution": {
     "iopub.execute_input": "2021-12-27T10:17:46.941741Z",
     "iopub.status.busy": "2021-12-27T10:17:46.941552Z",
     "iopub.status.idle": "2021-12-27T10:17:46.949970Z",
     "shell.execute_reply": "2021-12-27T10:17:46.949467Z",
     "shell.execute_reply.started": "2021-12-27T10:17:46.941721Z"
    },
    "jupyter": {
     "outputs_hidden": true
    },
    "tags": []
   },
   "outputs": [
    {
     "data": {
      "text/html": [
       "<div><i>Table length=174900944</i>\n",
       "<table id=\"table47531453309568\" class=\"table-striped table-bordered table-condensed\">\n",
       "<thead><tr><th>ra</th><th>dec</th><th>mass0p25</th><th>mass0p35</th><th>u_r0p25</th><th>u_r0p35</th><th>g_r0p25</th><th>g_r0p35</th><th>skymap_id</th></tr></thead>\n",
       "<thead><tr><th>float64</th><th>float64</th><th>float64</th><th>float64</th><th>float64</th><th>float64</th><th>float64</th><th>float64</th><th>int32</th></tr></thead>\n",
       "<tr><td>29.11596307549589</td><td>-6.775140624839325</td><td>9.909622398925</td><td>10.144222931276179</td><td>3.6391518241247023</td><td>3.2211671219213707</td><td>1.2039562677521207</td><td>1.0978517439280242</td><td>82780004</td></tr>\n",
       "<tr><td>29.097010963966863</td><td>-6.77468933995016</td><td>8.52394979883879</td><td>8.736175033490216</td><td>1.8599273642388123</td><td>1.4508131057451423</td><td>0.39119504817023587</td><td>0.23920668497952882</td><td>82780004</td></tr>\n",
       "<tr><td>29.126665626064202</td><td>-6.77473359426081</td><td>8.458620546899947</td><td>8.756368942169633</td><td>1.9840998224062134</td><td>1.7303445748512456</td><td>0.7271171848865381</td><td>0.6015726859496093</td><td>82780004</td></tr>\n",
       "<tr><td>29.067357382379907</td><td>-6.774723759969203</td><td>6.998482467403107</td><td>8.475495381824503</td><td>1.554935085390043</td><td>2.289978758540615</td><td>1.1860144768817804</td><td>0.628273950835745</td><td>82780004</td></tr>\n",
       "<tr><td>29.11473313855873</td><td>-6.774551113549213</td><td>7.797659763101538</td><td>7.729646207323806</td><td>1.3509165641111358</td><td>1.2658872889037531</td><td>0.41355160941566266</td><td>0.681161974451798</td><td>82780004</td></tr>\n",
       "<tr><td>29.108439423590077</td><td>-6.773931553803997</td><td>9.50531492150868</td><td>9.78949270814237</td><td>3.0863937238401307</td><td>2.7505292441090807</td><td>1.0397482026111675</td><td>0.9878022116367814</td><td>82780004</td></tr>\n",
       "<tr><td>29.10984648746462</td><td>-6.773631608498949</td><td>8.28415424059352</td><td>8.550582956380607</td><td>0.7116765027245898</td><td>0.5519466357738076</td><td>0.2440776616791389</td><td>0.11861463717177045</td><td>82780004</td></tr>\n",
       "<tr><td>29.096387207795175</td><td>-6.773254081977553</td><td>8.953633537951614</td><td>9.238746795761056</td><td>2.187706554750336</td><td>1.8845017679521225</td><td>0.5567981110832264</td><td>0.4038229629464245</td><td>82780004</td></tr>\n",
       "<tr><td>29.049894596351326</td><td>-6.773429459673613</td><td>7.906227914050909</td><td>8.053678677468012</td><td>1.3724411289165577</td><td>0.973619605543251</td><td>0.14859195572727396</td><td>0.03617095495006989</td><td>82780004</td></tr>\n",
       "<tr><td>29.098610255564555</td><td>-6.773342043991594</td><td>8.20102748594459</td><td>8.49957368281343</td><td>2.145019110808757</td><td>1.7003451492611263</td><td>0.5515300406000713</td><td>0.5367633509141192</td><td>82780004</td></tr>\n",
       "<tr><td>...</td><td>...</td><td>...</td><td>...</td><td>...</td><td>...</td><td>...</td><td>...</td><td>...</td></tr>\n",
       "<tr><td>213.90937654673772</td><td>53.18638864864173</td><td>6.444573630945663</td><td>5.803983308882578</td><td>0.46751609075020617</td><td>0.485912871014477</td><td>-0.07034452495067148</td><td>0.6150128519452457</td><td>169730806</td></tr>\n",
       "<tr><td>213.89235322339857</td><td>53.21437135515517</td><td>5.5721016420858485</td><td>6.7864994391691695</td><td>0.14359966829121498</td><td>0.09022896263611549</td><td>0.446081499605891</td><td>-0.022704927984974976</td><td>169730806</td></tr>\n",
       "<tr><td>213.8921000830188</td><td>53.21376977390978</td><td>6.212988642906501</td><td>6.620126652507205</td><td>0.010187538621048285</td><td>0.017587783278619033</td><td>0.019979216941589138</td><td>-0.043932150694689955</td><td>169730806</td></tr>\n",
       "<tr><td>213.88924693059377</td><td>53.21989470071096</td><td>6.398625798251476</td><td>5.8678744639574925</td><td>0.017587783278619033</td><td>0.1858152012152556</td><td>-0.043932150694689955</td><td>0.5182352951199081</td><td>169730806</td></tr>\n",
       "<tr><td>213.87825951856232</td><td>53.24095083437476</td><td>6.480233640564615</td><td>7.267373203223709</td><td>0.1858152012152556</td><td>0.0330976272641499</td><td>0.5182352951199081</td><td>0.17844791435415144</td><td>169730806</td></tr>\n",
       "<tr><td>213.90558452881055</td><td>53.24710141174297</td><td>6.959470896905065</td><td>5.818806955171027</td><td>1.2226049556603982</td><td>0.3916479753255522</td><td>0.5799200270898135</td><td>0.6203162119262322</td><td>169730806</td></tr>\n",
       "<tr><td>213.90602172554313</td><td>53.24722472245111</td><td>6.458048106157354</td><td>6.746233737699704</td><td>0.5935513105873265</td><td>0.6106474425719958</td><td>0.22680784563243872</td><td>0.32836426914696004</td><td>169730806</td></tr>\n",
       "<tr><td>213.88861027838306</td><td>53.25148278667229</td><td>5.657883772172593</td><td>6.370875896931433</td><td>0.1640615971843356</td><td>0.061779405686704994</td><td>0.5281018137267641</td><td>0.264747505828425</td><td>169730806</td></tr>\n",
       "<tr><td>213.8891779527558</td><td>53.25111281879681</td><td>7.093627743947635</td><td>7.080865978340122</td><td>0.725695761816199</td><td>0.5935513105873265</td><td>0.10057589984167574</td><td>0.22680784563243872</td><td>169730806</td></tr>\n",
       "<tr><td>213.91304890213354</td><td>53.2576421336773</td><td>7.037576440538825</td><td>7.139983258118739</td><td>0.9304794802677188</td><td>0.9136127968701613</td><td>0.2151951412004888</td><td>0.3984637313642877</td><td>169730806</td></tr>\n",
       "</table></div>"
      ],
      "text/plain": [
       "<Table length=174900944>\n",
       "        ra                dec         ...        g_r0p35        skymap_id\n",
       "     float64            float64       ...        float64          int32  \n",
       "------------------ ------------------ ... --------------------- ---------\n",
       " 29.11596307549589 -6.775140624839325 ...    1.0978517439280242  82780004\n",
       "29.097010963966863  -6.77468933995016 ...   0.23920668497952882  82780004\n",
       "29.126665626064202  -6.77473359426081 ...    0.6015726859496093  82780004\n",
       "29.067357382379907 -6.774723759969203 ...     0.628273950835745  82780004\n",
       " 29.11473313855873 -6.774551113549213 ...     0.681161974451798  82780004\n",
       "29.108439423590077 -6.773931553803997 ...    0.9878022116367814  82780004\n",
       " 29.10984648746462 -6.773631608498949 ...   0.11861463717177045  82780004\n",
       "29.096387207795175 -6.773254081977553 ...    0.4038229629464245  82780004\n",
       "29.049894596351326 -6.773429459673613 ...   0.03617095495006989  82780004\n",
       "29.098610255564555 -6.773342043991594 ...    0.5367633509141192  82780004\n",
       "               ...                ... ...                   ...       ...\n",
       "213.90937654673772  53.18638864864173 ...    0.6150128519452457 169730806\n",
       "213.89235322339857  53.21437135515517 ... -0.022704927984974976 169730806\n",
       " 213.8921000830188  53.21376977390978 ... -0.043932150694689955 169730806\n",
       "213.88924693059377  53.21989470071096 ...    0.5182352951199081 169730806\n",
       "213.87825951856232  53.24095083437476 ...   0.17844791435415144 169730806\n",
       "213.90558452881055  53.24710141174297 ...    0.6203162119262322 169730806\n",
       "213.90602172554313  53.24722472245111 ...   0.32836426914696004 169730806\n",
       "213.88861027838306  53.25148278667229 ...     0.264747505828425 169730806\n",
       " 213.8891779527558  53.25111281879681 ...   0.22680784563243872 169730806\n",
       "213.91304890213354   53.2576421336773 ...    0.3984637313642877 169730806"
      ]
     },
     "execution_count": 37,
     "metadata": {},
     "output_type": "execute_result"
    }
   ],
   "source": [
    "targets   #174900944"
   ]
  },
  {
   "cell_type": "code",
   "execution_count": 25,
   "id": "da1ba296-ca7f-4018-930e-4daaab7a6d6d",
   "metadata": {
    "execution": {
     "iopub.execute_input": "2022-05-30T01:41:38.802832Z",
     "iopub.status.busy": "2022-05-30T01:41:38.802639Z",
     "iopub.status.idle": "2022-05-30T01:41:38.808643Z",
     "shell.execute_reply": "2022-05-30T01:41:38.808187Z",
     "shell.execute_reply.started": "2022-05-30T01:41:38.802811Z"
    }
   },
   "outputs": [
    {
     "data": {
      "text/html": [
       "<div><i>Table length=2</i>\n",
       "<table id=\"table47581807205488\" class=\"table-striped table-bordered table-condensed\">\n",
       "<thead><tr><th>ra</th><th>dec</th><th>mass0p25</th><th>mass0p35</th><th>u_r0p25</th><th>u_r0p35</th><th>skymap_id</th></tr></thead>\n",
       "<thead><tr><th>float64</th><th>float64</th><th>float64</th><th>float64</th><th>float64</th><th>float64</th><th>int32</th></tr></thead>\n",
       "<tr><td>29.11596307549589</td><td>-6.775140624839325</td><td>9.88635139917353</td><td>10.141131463373675</td><td>3.5038898814149477</td><td>3.112854264069183</td><td>82780004</td></tr>\n",
       "<tr><td>29.097010963966863</td><td>-6.77468933995016</td><td>8.61671881086169</td><td>8.794554684249755</td><td>1.6658369540781568</td><td>1.41175168329629</td><td>82780004</td></tr>\n",
       "</table></div>"
      ],
      "text/plain": [
       "<Table length=2>\n",
       "        ra                dec         ...      u_r0p35      skymap_id\n",
       "     float64            float64       ...      float64        int32  \n",
       "------------------ ------------------ ... ----------------- ---------\n",
       " 29.11596307549589 -6.775140624839325 ... 3.112854264069183  82780004\n",
       "29.097010963966863  -6.77468933995016 ...  1.41175168329629  82780004"
      ]
     },
     "execution_count": 25,
     "metadata": {},
     "output_type": "execute_result"
    }
   ],
   "source": [
    "targets[:2]"
   ]
  },
  {
   "cell_type": "code",
   "execution_count": 26,
   "id": "8350aa0f-4a8f-400f-a822-aaf9e89a4083",
   "metadata": {
    "execution": {
     "iopub.execute_input": "2022-05-30T01:42:11.553145Z",
     "iopub.status.busy": "2022-05-30T01:42:11.552984Z",
     "iopub.status.idle": "2022-05-30T01:42:23.183334Z",
     "shell.execute_reply": "2022-05-30T01:42:23.182476Z",
     "shell.execute_reply.started": "2022-05-30T01:42:11.553128Z"
    },
    "tags": []
   },
   "outputs": [],
   "source": [
    "targets1 = targets[targets['mass0p35']>0]"
   ]
  },
  {
   "cell_type": "code",
   "execution_count": 27,
   "id": "8492eb0b-8022-4092-8edb-249cd7a36e35",
   "metadata": {
    "collapsed": true,
    "execution": {
     "iopub.execute_input": "2022-05-30T01:42:23.184816Z",
     "iopub.status.busy": "2022-05-30T01:42:23.184460Z",
     "iopub.status.idle": "2022-05-30T01:42:23.190088Z",
     "shell.execute_reply": "2022-05-30T01:42:23.189644Z",
     "shell.execute_reply.started": "2022-05-30T01:42:23.184793Z"
    },
    "jupyter": {
     "outputs_hidden": true
    },
    "tags": []
   },
   "outputs": [
    {
     "data": {
      "text/html": [
       "<div><i>Table length=174900944</i>\n",
       "<table id=\"table47579111038016\" class=\"table-striped table-bordered table-condensed\">\n",
       "<thead><tr><th>ra</th><th>dec</th><th>mass0p25</th><th>mass0p35</th><th>u_r0p25</th><th>u_r0p35</th><th>skymap_id</th></tr></thead>\n",
       "<thead><tr><th>float64</th><th>float64</th><th>float64</th><th>float64</th><th>float64</th><th>float64</th><th>int32</th></tr></thead>\n",
       "<tr><td>29.11596307549589</td><td>-6.775140624839325</td><td>9.88635139917353</td><td>10.141131463373675</td><td>3.5038898814149477</td><td>3.112854264069183</td><td>82780004</td></tr>\n",
       "<tr><td>29.097010963966863</td><td>-6.77468933995016</td><td>8.61671881086169</td><td>8.794554684249755</td><td>1.6658369540781568</td><td>1.41175168329629</td><td>82780004</td></tr>\n",
       "<tr><td>29.126665626064202</td><td>-6.77473359426081</td><td>8.337443861989856</td><td>8.576555889904595</td><td>2.0508939710457588</td><td>1.8160370021082282</td><td>82780004</td></tr>\n",
       "<tr><td>29.067357382379907</td><td>-6.774723759969203</td><td>7.193938188115797</td><td>8.7349430906841</td><td>1.1064047148959764</td><td>1.9757167691941842</td><td>82780004</td></tr>\n",
       "<tr><td>29.11473313855873</td><td>-6.774551113549213</td><td>8.0608114825069</td><td>7.908530707747893</td><td>1.4151183856813305</td><td>1.078428769021884</td><td>82780004</td></tr>\n",
       "<tr><td>29.108439423590077</td><td>-6.773931553803997</td><td>9.366071035344739</td><td>9.616485953947404</td><td>3.013267612494335</td><td>2.714557950795668</td><td>82780004</td></tr>\n",
       "<tr><td>29.10984648746462</td><td>-6.773631608498949</td><td>8.471619921586406</td><td>8.686898825858908</td><td>0.8704239922062511</td><td>0.7282026805228132</td><td>82780004</td></tr>\n",
       "<tr><td>29.096387207795175</td><td>-6.773254081977553</td><td>9.09371645647439</td><td>9.247871873762403</td><td>2.0630126412770173</td><td>1.769857867160542</td><td>82780004</td></tr>\n",
       "<tr><td>29.049894596351326</td><td>-6.773429459673613</td><td>7.968451521624011</td><td>8.166529519620553</td><td>1.155833609606551</td><td>0.9224654649500095</td><td>82780004</td></tr>\n",
       "<tr><td>29.098610255564555</td><td>-6.773342043991594</td><td>8.35171798952198</td><td>8.543438248129403</td><td>1.995493071923766</td><td>1.6478180735128185</td><td>82780004</td></tr>\n",
       "<tr><td>...</td><td>...</td><td>...</td><td>...</td><td>...</td><td>...</td><td>...</td></tr>\n",
       "<tr><td>213.90937654673772</td><td>53.18638864864173</td><td>6.521382554185897</td><td>6.485917739091609</td><td>0.5805078383427725</td><td>0.5125094117592974</td><td>169730806</td></tr>\n",
       "<tr><td>213.89235322339857</td><td>53.21437135515517</td><td>6.577152813115587</td><td>7.041741350491001</td><td>0.4088283940634906</td><td>0.4627276913952718</td><td>169730806</td></tr>\n",
       "<tr><td>213.8921000830188</td><td>53.21376977390978</td><td>6.509544392303487</td><td>6.873706756378558</td><td>0.40022816759664465</td><td>0.4231368663296601</td><td>169730806</td></tr>\n",
       "<tr><td>213.88924693059377</td><td>53.21989470071096</td><td>6.492654890932159</td><td>6.307311597788188</td><td>0.3155675224956042</td><td>0.29028166134643296</td><td>169730806</td></tr>\n",
       "<tr><td>213.87825951856232</td><td>53.24095083437476</td><td>7.081553670981695</td><td>7.446569863199606</td><td>0.36608382465635414</td><td>0.24771072525993443</td><td>169730806</td></tr>\n",
       "<tr><td>213.90558452881055</td><td>53.24710141174297</td><td>7.308969360726451</td><td>7.376913569066137</td><td>1.0214674513129343</td><td>0.7695422223391493</td><td>169730806</td></tr>\n",
       "<tr><td>213.90602172554313</td><td>53.24722472245111</td><td>6.887270213401776</td><td>7.171161648680185</td><td>0.7157363684152968</td><td>0.6956610513411459</td><td>169730806</td></tr>\n",
       "<tr><td>213.88861027838306</td><td>53.25148278667229</td><td>6.915803461514163</td><td>7.118019315328016</td><td>0.5797909698015062</td><td>0.49926810922207665</td><td>169730806</td></tr>\n",
       "<tr><td>213.8891779527558</td><td>53.25111281879681</td><td>7.105402915100818</td><td>7.432475453306316</td><td>0.700000610998839</td><td>0.7014250144496372</td><td>169730806</td></tr>\n",
       "<tr><td>213.91304890213354</td><td>53.2576421336773</td><td>7.118664455121211</td><td>7.4762198663424035</td><td>0.8511632523223285</td><td>0.9087120153443622</td><td>169730806</td></tr>\n",
       "</table></div>"
      ],
      "text/plain": [
       "<Table length=174900944>\n",
       "        ra                dec         ...       u_r0p35       skymap_id\n",
       "     float64            float64       ...       float64         int32  \n",
       "------------------ ------------------ ... ------------------- ---------\n",
       " 29.11596307549589 -6.775140624839325 ...   3.112854264069183  82780004\n",
       "29.097010963966863  -6.77468933995016 ...    1.41175168329629  82780004\n",
       "29.126665626064202  -6.77473359426081 ...  1.8160370021082282  82780004\n",
       "29.067357382379907 -6.774723759969203 ...  1.9757167691941842  82780004\n",
       " 29.11473313855873 -6.774551113549213 ...   1.078428769021884  82780004\n",
       "29.108439423590077 -6.773931553803997 ...   2.714557950795668  82780004\n",
       " 29.10984648746462 -6.773631608498949 ...  0.7282026805228132  82780004\n",
       "29.096387207795175 -6.773254081977553 ...   1.769857867160542  82780004\n",
       "29.049894596351326 -6.773429459673613 ...  0.9224654649500095  82780004\n",
       "29.098610255564555 -6.773342043991594 ...  1.6478180735128185  82780004\n",
       "               ...                ... ...                 ...       ...\n",
       "213.90937654673772  53.18638864864173 ...  0.5125094117592974 169730806\n",
       "213.89235322339857  53.21437135515517 ...  0.4627276913952718 169730806\n",
       " 213.8921000830188  53.21376977390978 ...  0.4231368663296601 169730806\n",
       "213.88924693059377  53.21989470071096 ... 0.29028166134643296 169730806\n",
       "213.87825951856232  53.24095083437476 ... 0.24771072525993443 169730806\n",
       "213.90558452881055  53.24710141174297 ...  0.7695422223391493 169730806\n",
       "213.90602172554313  53.24722472245111 ...  0.6956610513411459 169730806\n",
       "213.88861027838306  53.25148278667229 ... 0.49926810922207665 169730806\n",
       " 213.8891779527558  53.25111281879681 ...  0.7014250144496372 169730806\n",
       "213.91304890213354   53.2576421336773 ...  0.9087120153443622 169730806"
      ]
     },
     "execution_count": 27,
     "metadata": {},
     "output_type": "execute_result"
    }
   ],
   "source": [
    "targets1    #174900944"
   ]
  },
  {
   "cell_type": "code",
   "execution_count": 28,
   "id": "c5722cb7-9195-40ac-b90c-32a762b53df7",
   "metadata": {
    "execution": {
     "iopub.execute_input": "2022-05-30T01:42:27.800579Z",
     "iopub.status.busy": "2022-05-30T01:42:27.800435Z",
     "iopub.status.idle": "2022-05-30T01:42:27.988083Z",
     "shell.execute_reply": "2022-05-30T01:42:27.987633Z",
     "shell.execute_reply.started": "2022-05-30T01:42:27.800565Z"
    },
    "tags": []
   },
   "outputs": [
    {
     "data": {
      "text/plain": [
       "-0.007345698037467119"
      ]
     },
     "execution_count": 28,
     "metadata": {},
     "output_type": "execute_result"
    }
   ],
   "source": [
    "np.min(targets1['u_r0p35'])"
   ]
  },
  {
   "cell_type": "code",
   "execution_count": 29,
   "id": "4e9ec888-753a-4345-b721-4655c2edb979",
   "metadata": {
    "execution": {
     "iopub.execute_input": "2022-05-30T01:42:29.021764Z",
     "iopub.status.busy": "2022-05-30T01:42:29.021610Z",
     "iopub.status.idle": "2022-05-30T01:42:32.299272Z",
     "shell.execute_reply": "2022-05-30T01:42:32.298702Z",
     "shell.execute_reply.started": "2022-05-30T01:42:29.021748Z"
    },
    "tags": []
   },
   "outputs": [
    {
     "data": {
      "text/plain": [
       "3.7393511942419346"
      ]
     },
     "execution_count": 29,
     "metadata": {},
     "output_type": "execute_result"
    }
   ],
   "source": [
    "np.max(targets1['u_r0p35'])"
   ]
  },
  {
   "cell_type": "code",
   "execution_count": 29,
   "id": "d1c2da18-8a06-40ca-a694-5a40065e0c03",
   "metadata": {
    "execution": {
     "iopub.execute_input": "2021-11-29T08:17:01.103891Z",
     "iopub.status.busy": "2021-11-29T08:17:01.103728Z",
     "iopub.status.idle": "2021-11-29T08:18:30.020166Z",
     "shell.execute_reply": "2021-11-29T08:18:30.019066Z",
     "shell.execute_reply.started": "2021-11-29T08:17:01.103876Z"
    }
   },
   "outputs": [],
   "source": [
    "# Table(targets1).write(\"/home/yunzheng/PAC/code/PAC/0.3_0.5/photo.fits\")"
   ]
  },
  {
   "cell_type": "code",
   "execution_count": 31,
   "id": "cb655371-c0d4-4509-ad82-e89fb1b09d14",
   "metadata": {
    "collapsed": true,
    "execution": {
     "iopub.execute_input": "2021-11-29T11:00:53.295351Z",
     "iopub.status.busy": "2021-11-29T11:00:53.295054Z",
     "iopub.status.idle": "2021-11-29T11:00:53.301755Z",
     "shell.execute_reply": "2021-11-29T11:00:53.301316Z",
     "shell.execute_reply.started": "2021-11-29T11:00:53.295333Z"
    },
    "jupyter": {
     "outputs_hidden": true
    },
    "tags": []
   },
   "outputs": [
    {
     "data": {
      "text/html": [
       "<div><i>Table length=174900944</i>\n",
       "<table id=\"table47395724554096\" class=\"table-striped table-bordered table-condensed\">\n",
       "<thead><tr><th>ra</th><th>dec</th><th>mass0p35</th><th>mass0p45</th><th>u_r0p35</th><th>u_r0p45</th><th>g_r0p35</th><th>g_r0p45</th><th>skymap_id</th></tr></thead>\n",
       "<thead><tr><th>float64</th><th>float64</th><th>float64</th><th>float64</th><th>float64</th><th>float64</th><th>float64</th><th>float64</th><th>int32</th></tr></thead>\n",
       "<tr><td>29.11596307549589</td><td>-6.775140624839325</td><td>10.141131463373675</td><td>10.325859070029514</td><td>3.2175285367741164</td><td>2.9658931516222515</td><td>1.0492791555977576</td><td>0.9454237322622155</td><td>82780004</td></tr>\n",
       "<tr><td>29.097010963966863</td><td>-6.77468933995016</td><td>8.794554684249755</td><td>8.962278545755906</td><td>1.4386617895210607</td><td>1.149703114755145</td><td>0.2839947024647446</td><td>0.2498930081367096</td><td>82780004</td></tr>\n",
       "<tr><td>29.126665626064202</td><td>-6.77473359426081</td><td>8.576555889904595</td><td>8.762890349630931</td><td>1.8659576726808296</td><td>1.5984288824123571</td><td>0.5475312517222917</td><td>0.4890256781049667</td><td>82780004</td></tr>\n",
       "<tr><td>29.067357382379907</td><td>-6.774723759969203</td><td>8.7349430906841</td><td>8.873526721542614</td><td>2.0322161713200533</td><td>1.59630362246042</td><td>0.6069852892087171</td><td>0.4984318132766944</td><td>82780004</td></tr>\n",
       "<tr><td>29.11473313855873</td><td>-6.774551113549213</td><td>7.908530707747893</td><td>8.504293016768218</td><td>1.0767636497833244</td><td>1.1106941359190465</td><td>0.5316105672293113</td><td>0.3876115391032776</td><td>82780004</td></tr>\n",
       "<tr><td>29.108439423590077</td><td>-6.773931553803997</td><td>9.616485953947404</td><td>9.795543992783637</td><td>2.8008912391868495</td><td>2.5586976522594003</td><td>0.8900679108025911</td><td>0.7909495001627996</td><td>82780004</td></tr>\n",
       "<tr><td>29.10984648746462</td><td>-6.773631608498949</td><td>8.686898825858908</td><td>8.797989409836493</td><td>0.7341868918631196</td><td>0.5407154846894828</td><td>0.1471816620273401</td><td>0.17058138320457206</td><td>82780004</td></tr>\n",
       "<tr><td>29.096387207795175</td><td>-6.773254081977553</td><td>9.247871873762403</td><td>9.462493607707845</td><td>1.8122404558697278</td><td>1.505254192909165</td><td>0.429226036761604</td><td>0.3840513873965398</td><td>82780004</td></tr>\n",
       "<tr><td>29.049894596351326</td><td>-6.773429459673613</td><td>8.166529519620553</td><td>8.352856118582768</td><td>0.9306927788588854</td><td>0.8147457194699685</td><td>0.20388728774016535</td><td>0.1743095913804441</td><td>82780004</td></tr>\n",
       "<tr><td>29.098610255564555</td><td>-6.773342043991594</td><td>8.543438248129403</td><td>8.734544470345693</td><td>1.6905324728801077</td><td>1.5321007073806094</td><td>0.4915624962894689</td><td>0.4211663753263898</td><td>82780004</td></tr>\n",
       "<tr><td>...</td><td>...</td><td>...</td><td>...</td><td>...</td><td>...</td><td>...</td><td>...</td><td>...</td></tr>\n",
       "<tr><td>213.90937654673772</td><td>53.18638864864173</td><td>6.485917739091609</td><td>6.879495440020261</td><td>0.4727820455668871</td><td>0.5182854762606489</td><td>0.36870230663827724</td><td>0.33646095679932086</td><td>169730806</td></tr>\n",
       "<tr><td>213.89235322339857</td><td>53.21437135515517</td><td>7.041741350491001</td><td>6.952811380778098</td><td>0.43613881654828957</td><td>0.4353909254232799</td><td>0.2099789684283894</td><td>0.38496447021531316</td><td>169730806</td></tr>\n",
       "<tr><td>213.8921000830188</td><td>53.21376977390978</td><td>6.873706756378558</td><td>6.868286482752272</td><td>0.39459300660121255</td><td>0.4033022575703927</td><td>0.1991800111203901</td><td>0.354062304026819</td><td>169730806</td></tr>\n",
       "<tr><td>213.88924693059377</td><td>53.21989470071096</td><td>6.307311597788188</td><td>6.634382225331621</td><td>0.22615296808207414</td><td>0.28680931507505425</td><td>0.3823261348564549</td><td>0.4160959587666787</td><td>169730806</td></tr>\n",
       "<tr><td>213.87825951856232</td><td>53.24095083437476</td><td>7.446569863199606</td><td>7.405781220937251</td><td>0.19382985415172707</td><td>0.3014587280689843</td><td>0.23771720170459282</td><td>0.42949983156796995</td><td>169730806</td></tr>\n",
       "<tr><td>213.90558452881055</td><td>53.24710141174297</td><td>7.376913569066137</td><td>7.742168549270994</td><td>0.7603082599631512</td><td>0.8801358289598288</td><td>0.3414536808496054</td><td>0.36998392149278014</td><td>169730806</td></tr>\n",
       "<tr><td>213.90602172554313</td><td>53.24722472245111</td><td>7.171161648680185</td><td>7.334453682695222</td><td>0.6828471325964118</td><td>0.6786928506596837</td><td>0.29952238833732764</td><td>0.36237634725723844</td><td>169730806</td></tr>\n",
       "<tr><td>213.88861027838306</td><td>53.25148278667229</td><td>7.118019315328016</td><td>7.270813694004296</td><td>0.4628494208355294</td><td>0.5207955871907127</td><td>0.326308075543788</td><td>0.4073376567076584</td><td>169730806</td></tr>\n",
       "<tr><td>213.8891779527558</td><td>53.25111281879681</td><td>7.432475453306316</td><td>7.56772936823065</td><td>0.6922270523563984</td><td>0.6310343015802109</td><td>0.26160451955849845</td><td>0.2911381168119879</td><td>169730806</td></tr>\n",
       "<tr><td>213.91304890213354</td><td>53.2576421336773</td><td>7.4762198663424035</td><td>7.6050549557042</td><td>0.9084294724392552</td><td>0.799402605463857</td><td>0.3434758212004819</td><td>0.3450385934711891</td><td>169730806</td></tr>\n",
       "</table></div>"
      ],
      "text/plain": [
       "<Table length=174900944>\n",
       "        ra                dec         ...       g_r0p45       skymap_id\n",
       "     float64            float64       ...       float64         int32  \n",
       "------------------ ------------------ ... ------------------- ---------\n",
       " 29.11596307549589 -6.775140624839325 ...  0.9454237322622155  82780004\n",
       "29.097010963966863  -6.77468933995016 ...  0.2498930081367096  82780004\n",
       "29.126665626064202  -6.77473359426081 ...  0.4890256781049667  82780004\n",
       "29.067357382379907 -6.774723759969203 ...  0.4984318132766944  82780004\n",
       " 29.11473313855873 -6.774551113549213 ...  0.3876115391032776  82780004\n",
       "29.108439423590077 -6.773931553803997 ...  0.7909495001627996  82780004\n",
       " 29.10984648746462 -6.773631608498949 ... 0.17058138320457206  82780004\n",
       "29.096387207795175 -6.773254081977553 ...  0.3840513873965398  82780004\n",
       "29.049894596351326 -6.773429459673613 ...  0.1743095913804441  82780004\n",
       "29.098610255564555 -6.773342043991594 ...  0.4211663753263898  82780004\n",
       "               ...                ... ...                 ...       ...\n",
       "213.90937654673772  53.18638864864173 ... 0.33646095679932086 169730806\n",
       "213.89235322339857  53.21437135515517 ... 0.38496447021531316 169730806\n",
       " 213.8921000830188  53.21376977390978 ...   0.354062304026819 169730806\n",
       "213.88924693059377  53.21989470071096 ...  0.4160959587666787 169730806\n",
       "213.87825951856232  53.24095083437476 ... 0.42949983156796995 169730806\n",
       "213.90558452881055  53.24710141174297 ... 0.36998392149278014 169730806\n",
       "213.90602172554313  53.24722472245111 ... 0.36237634725723844 169730806\n",
       "213.88861027838306  53.25148278667229 ...  0.4073376567076584 169730806\n",
       " 213.8891779527558  53.25111281879681 ...  0.2911381168119879 169730806\n",
       "213.91304890213354   53.2576421336773 ...  0.3450385934711891 169730806"
      ]
     },
     "execution_count": 31,
     "metadata": {},
     "output_type": "execute_result"
    }
   ],
   "source": [
    "targets1"
   ]
  },
  {
   "cell_type": "markdown",
   "id": "9d1a6422-2a4d-4aa3-9c61-1def738954bf",
   "metadata": {},
   "source": [
    "## ADD zmodel"
   ]
  },
  {
   "cell_type": "code",
   "execution_count": 30,
   "id": "d0cd73e8-66de-4825-8257-f368f263b060",
   "metadata": {
    "execution": {
     "iopub.execute_input": "2022-05-30T01:42:35.549838Z",
     "iopub.status.busy": "2022-05-30T01:42:35.549719Z",
     "iopub.status.idle": "2022-05-30T01:43:00.315171Z",
     "shell.execute_reply": "2022-05-30T01:43:00.313750Z",
     "shell.execute_reply.started": "2022-05-30T01:42:35.549825Z"
    },
    "tags": []
   },
   "outputs": [],
   "source": [
    "photo2 = Table.read(\"/home/kunxu/red_disk/PCF_LS_jack/photo.fits\")"
   ]
  },
  {
   "cell_type": "code",
   "execution_count": 31,
   "id": "8b4232e6-9ae1-4a31-9b97-de1da5e87469",
   "metadata": {
    "collapsed": true,
    "execution": {
     "iopub.execute_input": "2022-05-30T01:43:00.316855Z",
     "iopub.status.busy": "2022-05-30T01:43:00.316543Z",
     "iopub.status.idle": "2022-05-30T01:43:00.327044Z",
     "shell.execute_reply": "2022-05-30T01:43:00.326387Z",
     "shell.execute_reply.started": "2022-05-30T01:43:00.316834Z"
    },
    "jupyter": {
     "outputs_hidden": true
    },
    "tags": []
   },
   "outputs": [
    {
     "data": {
      "text/html": [
       "<div><i>Table length=174900944</i>\n",
       "<table id=\"table47581769557088\" class=\"table-striped table-bordered table-condensed\">\n",
       "<thead><tr><th>ra</th><th>dec</th><th>mass0p525</th><th>mass0p575</th><th>mass0p625</th><th>mass0p675</th><th>skymap_id</th><th>z_cmodel_mag</th></tr></thead>\n",
       "<thead><tr><th>float64</th><th>float64</th><th>float64</th><th>float64</th><th>float64</th><th>float64</th><th>int32</th><th>float32</th></tr></thead>\n",
       "<tr><td>29.11596307549589</td><td>-6.775140624839325</td><td>10.64256286779708</td><td>10.678079696255637</td><td>10.637120849263585</td><td>10.704212339457344</td><td>82780004</td><td>21.563286</td></tr>\n",
       "<tr><td>29.097010963966863</td><td>-6.77468933995016</td><td>8.905168831140513</td><td>8.972707189082614</td><td>9.046553857111551</td><td>9.100615448035434</td><td>82780004</td><td>22.589254</td></tr>\n",
       "<tr><td>29.126665626064202</td><td>-6.77473359426081</td><td>9.023458942835093</td><td>8.8443150645886</td><td>8.790569839151642</td><td>8.82004224544607</td><td>82780004</td><td>23.952927</td></tr>\n",
       "<tr><td>29.067357382379907</td><td>-6.774723759969203</td><td>8.692193266862423</td><td>7.932503204564348</td><td>8.043465787057237</td><td>8.150844502175065</td><td>82780004</td><td>24.229347</td></tr>\n",
       "<tr><td>29.11473313855873</td><td>-6.774551113549213</td><td>9.033286592836433</td><td>9.139869238718434</td><td>9.36395555033106</td><td>9.456687257682011</td><td>82780004</td><td>23.375526</td></tr>\n",
       "<tr><td>29.108439423590077</td><td>-6.773931553803997</td><td>10.058414886746977</td><td>10.116659189303533</td><td>10.007613653631513</td><td>10.189640115600449</td><td>82780004</td><td>22.238329</td></tr>\n",
       "<tr><td>29.10984648746462</td><td>-6.773631608498949</td><td>8.695476584271622</td><td>8.818165148860535</td><td>8.97682828400326</td><td>9.091290677570043</td><td>82780004</td><td>22.054401</td></tr>\n",
       "<tr><td>29.096387207795175</td><td>-6.773254081977553</td><td>9.491089016580537</td><td>9.5056299270349</td><td>9.559425300126087</td><td>9.622768330211176</td><td>82780004</td><td>21.860317</td></tr>\n",
       "<tr><td>29.049894596351326</td><td>-6.773429459673613</td><td>8.307302896442257</td><td>8.399839089202857</td><td>8.447218755236909</td><td>7.983678635933073</td><td>82780004</td><td>23.649101</td></tr>\n",
       "<tr><td>29.098610255564555</td><td>-6.773342043991594</td><td>8.59991398639756</td><td>8.626398935097365</td><td>8.595266109988794</td><td>8.655089298639778</td><td>82780004</td><td>23.587755</td></tr>\n",
       "<tr><td>...</td><td>...</td><td>...</td><td>...</td><td>...</td><td>...</td><td>...</td><td>...</td></tr>\n",
       "<tr><td>213.90937654673772</td><td>53.18638864864173</td><td>6.696451371068264</td><td>6.823980327032494</td><td>6.924424401855642</td><td>6.939095415655635</td><td>169730806</td><td>25.459488</td></tr>\n",
       "<tr><td>213.89235322339857</td><td>53.21437135515517</td><td>6.706967275069844</td><td>7.0525256925442745</td><td>7.124187598030234</td><td>7.3161773588582095</td><td>169730806</td><td>26.247253</td></tr>\n",
       "<tr><td>213.8921000830188</td><td>53.21376977390978</td><td>6.441332159910306</td><td>6.938624333632065</td><td>7.016789732797754</td><td>7.046318885509837</td><td>169730806</td><td>26.30872</td></tr>\n",
       "<tr><td>213.88924693059377</td><td>53.21989470071096</td><td>6.216336800474093</td><td>6.290577573609853</td><td>6.379322110833429</td><td>6.43961977478924</td><td>169730806</td><td>24.824312</td></tr>\n",
       "<tr><td>213.87825951856232</td><td>53.24095083437476</td><td>7.0950880211976965</td><td>7.168828863884012</td><td>7.23896121510795</td><td>7.325726885847805</td><td>169730806</td><td>24.217306</td></tr>\n",
       "<tr><td>213.90558452881055</td><td>53.24710141174297</td><td>8.35813968428709</td><td>8.535493417125588</td><td>8.62372349999638</td><td>8.81703838304109</td><td>169730806</td><td>25.071981</td></tr>\n",
       "<tr><td>213.90602172554313</td><td>53.24722472245111</td><td>6.899353128865722</td><td>7.249837505200762</td><td>7.329479085593028</td><td>7.403205997975418</td><td>169730806</td><td>25.360687</td></tr>\n",
       "<tr><td>213.88861027838306</td><td>53.25148278667229</td><td>6.312994650731437</td><td>6.389455291844724</td><td>6.460106228032526</td><td>6.547922017120791</td><td>169730806</td><td>26.669016</td></tr>\n",
       "<tr><td>213.8891779527558</td><td>53.25111281879681</td><td>7.440249878877039</td><td>7.526323080560802</td><td>7.605771692321061</td><td>7.679190787964554</td><td>169730806</td><td>24.896706</td></tr>\n",
       "<tr><td>213.91304890213354</td><td>53.2576421336773</td><td>6.600263067120526</td><td>7.414809638906181</td><td>6.899714712419918</td><td>6.993223864708865</td><td>169730806</td><td>27.359974</td></tr>\n",
       "</table></div>"
      ],
      "text/plain": [
       "<Table length=174900944>\n",
       "        ra                dec         ... skymap_id z_cmodel_mag\n",
       "     float64            float64       ...   int32     float32   \n",
       "------------------ ------------------ ... --------- ------------\n",
       " 29.11596307549589 -6.775140624839325 ...  82780004    21.563286\n",
       "29.097010963966863  -6.77468933995016 ...  82780004    22.589254\n",
       "29.126665626064202  -6.77473359426081 ...  82780004    23.952927\n",
       "29.067357382379907 -6.774723759969203 ...  82780004    24.229347\n",
       " 29.11473313855873 -6.774551113549213 ...  82780004    23.375526\n",
       "29.108439423590077 -6.773931553803997 ...  82780004    22.238329\n",
       " 29.10984648746462 -6.773631608498949 ...  82780004    22.054401\n",
       "29.096387207795175 -6.773254081977553 ...  82780004    21.860317\n",
       "29.049894596351326 -6.773429459673613 ...  82780004    23.649101\n",
       "29.098610255564555 -6.773342043991594 ...  82780004    23.587755\n",
       "               ...                ... ...       ...          ...\n",
       "213.90937654673772  53.18638864864173 ... 169730806    25.459488\n",
       "213.89235322339857  53.21437135515517 ... 169730806    26.247253\n",
       " 213.8921000830188  53.21376977390978 ... 169730806     26.30872\n",
       "213.88924693059377  53.21989470071096 ... 169730806    24.824312\n",
       "213.87825951856232  53.24095083437476 ... 169730806    24.217306\n",
       "213.90558452881055  53.24710141174297 ... 169730806    25.071981\n",
       "213.90602172554313  53.24722472245111 ... 169730806    25.360687\n",
       "213.88861027838306  53.25148278667229 ... 169730806    26.669016\n",
       " 213.8891779527558  53.25111281879681 ... 169730806    24.896706\n",
       "213.91304890213354   53.2576421336773 ... 169730806    27.359974"
      ]
     },
     "execution_count": 31,
     "metadata": {},
     "output_type": "execute_result"
    }
   ],
   "source": [
    "photo2"
   ]
  },
  {
   "cell_type": "code",
   "execution_count": 33,
   "id": "77d3c8a9-09ac-42ee-a44a-41a8e24e5f33",
   "metadata": {
    "execution": {
     "iopub.execute_input": "2022-05-30T01:43:10.817622Z",
     "iopub.status.busy": "2022-05-30T01:43:10.817153Z",
     "iopub.status.idle": "2022-05-30T01:43:13.653755Z",
     "shell.execute_reply": "2022-05-30T01:43:13.652765Z",
     "shell.execute_reply.started": "2022-05-30T01:43:10.817567Z"
    },
    "tags": []
   },
   "outputs": [],
   "source": [
    "z_cmodel = np.array(photo2['z_cmodel_mag'])"
   ]
  },
  {
   "cell_type": "code",
   "execution_count": 34,
   "id": "4fe6708d-2788-4d8f-aac5-8885d5f8bd15",
   "metadata": {
    "execution": {
     "iopub.execute_input": "2022-05-30T01:43:13.655712Z",
     "iopub.status.busy": "2022-05-30T01:43:13.655252Z",
     "iopub.status.idle": "2022-05-30T01:43:16.435563Z",
     "shell.execute_reply": "2022-05-30T01:43:16.434401Z",
     "shell.execute_reply.started": "2022-05-30T01:43:13.655691Z"
    },
    "tags": []
   },
   "outputs": [],
   "source": [
    "targets1.add_column(Column(name = 'z_cmodel_mag',length = len(targets1),dtype = 'f8',data = z_cmodel))"
   ]
  },
  {
   "cell_type": "code",
   "execution_count": 7,
   "id": "d1e2892f-f4ac-4c79-b9bf-a76d9553d6ab",
   "metadata": {
    "collapsed": true,
    "execution": {
     "iopub.execute_input": "2022-05-30T02:08:27.990243Z",
     "iopub.status.busy": "2022-05-30T02:08:27.989788Z",
     "iopub.status.idle": "2022-05-30T02:08:27.995602Z",
     "shell.execute_reply": "2022-05-30T02:08:27.995152Z",
     "shell.execute_reply.started": "2022-05-30T02:08:27.990220Z"
    },
    "jupyter": {
     "outputs_hidden": true
    },
    "tags": []
   },
   "outputs": [
    {
     "data": {
      "text/html": [
       "<div><i>Table length=174900944</i>\n",
       "<table id=\"table47183433764000\" class=\"table-striped table-bordered table-condensed\">\n",
       "<thead><tr><th>ra</th><th>dec</th><th>mass0p25</th><th>mass0p35</th><th>u_r0p25</th><th>u_r0p35</th><th>skymap_id</th><th>z_cmodel_mag</th></tr></thead>\n",
       "<thead><tr><th>float64</th><th>float64</th><th>float64</th><th>float64</th><th>float64</th><th>float64</th><th>int32</th><th>float64</th></tr></thead>\n",
       "<tr><td>29.11596307549589</td><td>-6.775140624839325</td><td>9.88635139917353</td><td>10.141131463373675</td><td>3.5038898814149477</td><td>3.112854264069183</td><td>82780004</td><td>21.56328582763672</td></tr>\n",
       "<tr><td>29.097010963966863</td><td>-6.77468933995016</td><td>8.61671881086169</td><td>8.794554684249755</td><td>1.6658369540781568</td><td>1.41175168329629</td><td>82780004</td><td>22.58925437927246</td></tr>\n",
       "<tr><td>29.126665626064202</td><td>-6.77473359426081</td><td>8.337443861989856</td><td>8.576555889904595</td><td>2.0508939710457588</td><td>1.8160370021082282</td><td>82780004</td><td>23.952926635742188</td></tr>\n",
       "<tr><td>29.067357382379907</td><td>-6.774723759969203</td><td>7.193938188115797</td><td>8.7349430906841</td><td>1.1064047148959764</td><td>1.9757167691941842</td><td>82780004</td><td>24.229347229003906</td></tr>\n",
       "<tr><td>29.11473313855873</td><td>-6.774551113549213</td><td>8.0608114825069</td><td>7.908530707747893</td><td>1.4151183856813305</td><td>1.078428769021884</td><td>82780004</td><td>23.375526428222656</td></tr>\n",
       "<tr><td>29.108439423590077</td><td>-6.773931553803997</td><td>9.366071035344739</td><td>9.616485953947404</td><td>3.013267612494335</td><td>2.714557950795668</td><td>82780004</td><td>22.23832893371582</td></tr>\n",
       "<tr><td>29.10984648746462</td><td>-6.773631608498949</td><td>8.471619921586406</td><td>8.686898825858908</td><td>0.8704239922062511</td><td>0.7282026805228132</td><td>82780004</td><td>22.054401397705078</td></tr>\n",
       "<tr><td>29.096387207795175</td><td>-6.773254081977553</td><td>9.09371645647439</td><td>9.247871873762403</td><td>2.0630126412770173</td><td>1.769857867160542</td><td>82780004</td><td>21.86031723022461</td></tr>\n",
       "<tr><td>29.049894596351326</td><td>-6.773429459673613</td><td>7.968451521624011</td><td>8.166529519620553</td><td>1.155833609606551</td><td>0.9224654649500095</td><td>82780004</td><td>23.64910125732422</td></tr>\n",
       "<tr><td>29.098610255564555</td><td>-6.773342043991594</td><td>8.35171798952198</td><td>8.543438248129403</td><td>1.995493071923766</td><td>1.6478180735128185</td><td>82780004</td><td>23.58775520324707</td></tr>\n",
       "<tr><td>...</td><td>...</td><td>...</td><td>...</td><td>...</td><td>...</td><td>...</td><td>...</td></tr>\n",
       "<tr><td>213.90937654673772</td><td>53.18638864864173</td><td>6.521382554185897</td><td>6.485917739091609</td><td>0.5805078383427725</td><td>0.5125094117592974</td><td>169730806</td><td>25.459487915039062</td></tr>\n",
       "<tr><td>213.89235322339857</td><td>53.21437135515517</td><td>6.577152813115587</td><td>7.041741350491001</td><td>0.4088283940634906</td><td>0.4627276913952718</td><td>169730806</td><td>26.24725341796875</td></tr>\n",
       "<tr><td>213.8921000830188</td><td>53.21376977390978</td><td>6.509544392303487</td><td>6.873706756378558</td><td>0.40022816759664465</td><td>0.4231368663296601</td><td>169730806</td><td>26.308719635009766</td></tr>\n",
       "<tr><td>213.88924693059377</td><td>53.21989470071096</td><td>6.492654890932159</td><td>6.307311597788188</td><td>0.3155675224956042</td><td>0.29028166134643296</td><td>169730806</td><td>24.824312210083008</td></tr>\n",
       "<tr><td>213.87825951856232</td><td>53.24095083437476</td><td>7.081553670981695</td><td>7.446569863199606</td><td>0.36608382465635414</td><td>0.24771072525993443</td><td>169730806</td><td>24.21730613708496</td></tr>\n",
       "<tr><td>213.90558452881055</td><td>53.24710141174297</td><td>7.308969360726451</td><td>7.376913569066137</td><td>1.0214674513129343</td><td>0.7695422223391493</td><td>169730806</td><td>25.07198143005371</td></tr>\n",
       "<tr><td>213.90602172554313</td><td>53.24722472245111</td><td>6.887270213401776</td><td>7.171161648680185</td><td>0.7157363684152968</td><td>0.6956610513411459</td><td>169730806</td><td>25.360687255859375</td></tr>\n",
       "<tr><td>213.88861027838306</td><td>53.25148278667229</td><td>6.915803461514163</td><td>7.118019315328016</td><td>0.5797909698015062</td><td>0.49926810922207665</td><td>169730806</td><td>26.669015884399414</td></tr>\n",
       "<tr><td>213.8891779527558</td><td>53.25111281879681</td><td>7.105402915100818</td><td>7.432475453306316</td><td>0.700000610998839</td><td>0.7014250144496372</td><td>169730806</td><td>24.896705627441406</td></tr>\n",
       "<tr><td>213.91304890213354</td><td>53.2576421336773</td><td>7.118664455121211</td><td>7.4762198663424035</td><td>0.8511632523223285</td><td>0.9087120153443622</td><td>169730806</td><td>27.359973907470703</td></tr>\n",
       "</table></div>"
      ],
      "text/plain": [
       "<Table length=174900944>\n",
       "        ra                dec         ... skymap_id    z_cmodel_mag   \n",
       "     float64            float64       ...   int32        float64      \n",
       "------------------ ------------------ ... --------- ------------------\n",
       " 29.11596307549589 -6.775140624839325 ...  82780004  21.56328582763672\n",
       "29.097010963966863  -6.77468933995016 ...  82780004  22.58925437927246\n",
       "29.126665626064202  -6.77473359426081 ...  82780004 23.952926635742188\n",
       "29.067357382379907 -6.774723759969203 ...  82780004 24.229347229003906\n",
       " 29.11473313855873 -6.774551113549213 ...  82780004 23.375526428222656\n",
       "29.108439423590077 -6.773931553803997 ...  82780004  22.23832893371582\n",
       " 29.10984648746462 -6.773631608498949 ...  82780004 22.054401397705078\n",
       "29.096387207795175 -6.773254081977553 ...  82780004  21.86031723022461\n",
       "29.049894596351326 -6.773429459673613 ...  82780004  23.64910125732422\n",
       "29.098610255564555 -6.773342043991594 ...  82780004  23.58775520324707\n",
       "               ...                ... ...       ...                ...\n",
       "213.90937654673772  53.18638864864173 ... 169730806 25.459487915039062\n",
       "213.89235322339857  53.21437135515517 ... 169730806  26.24725341796875\n",
       " 213.8921000830188  53.21376977390978 ... 169730806 26.308719635009766\n",
       "213.88924693059377  53.21989470071096 ... 169730806 24.824312210083008\n",
       "213.87825951856232  53.24095083437476 ... 169730806  24.21730613708496\n",
       "213.90558452881055  53.24710141174297 ... 169730806  25.07198143005371\n",
       "213.90602172554313  53.24722472245111 ... 169730806 25.360687255859375\n",
       "213.88861027838306  53.25148278667229 ... 169730806 26.669015884399414\n",
       " 213.8891779527558  53.25111281879681 ... 169730806 24.896705627441406\n",
       "213.91304890213354   53.2576421336773 ... 169730806 27.359973907470703"
      ]
     },
     "execution_count": 7,
     "metadata": {},
     "output_type": "execute_result"
    }
   ],
   "source": [
    "test"
   ]
  },
  {
   "cell_type": "code",
   "execution_count": 37,
   "id": "fd4a8d94-360d-492e-97bf-21c3e18a029b",
   "metadata": {
    "collapsed": true,
    "execution": {
     "iopub.execute_input": "2022-05-30T01:44:55.682937Z",
     "iopub.status.busy": "2022-05-30T01:44:55.682512Z",
     "iopub.status.idle": "2022-05-30T01:44:55.692686Z",
     "shell.execute_reply": "2022-05-30T01:44:55.692052Z",
     "shell.execute_reply.started": "2022-05-30T01:44:55.682908Z"
    },
    "jupyter": {
     "outputs_hidden": true
    },
    "tags": []
   },
   "outputs": [
    {
     "data": {
      "text/html": [
       "<div><i>Table length=174900944</i>\n",
       "<table id=\"table47579111038016\" class=\"table-striped table-bordered table-condensed\">\n",
       "<thead><tr><th>ra</th><th>dec</th><th>mass0p25</th><th>mass0p35</th><th>u_r0p25</th><th>u_r0p35</th><th>skymap_id</th><th>z_cmodel_mag</th></tr></thead>\n",
       "<thead><tr><th>float64</th><th>float64</th><th>float64</th><th>float64</th><th>float64</th><th>float64</th><th>int32</th><th>float64</th></tr></thead>\n",
       "<tr><td>29.11596307549589</td><td>-6.775140624839325</td><td>9.88635139917353</td><td>10.141131463373675</td><td>3.5038898814149477</td><td>3.112854264069183</td><td>82780004</td><td>21.56328582763672</td></tr>\n",
       "<tr><td>29.097010963966863</td><td>-6.77468933995016</td><td>8.61671881086169</td><td>8.794554684249755</td><td>1.6658369540781568</td><td>1.41175168329629</td><td>82780004</td><td>22.58925437927246</td></tr>\n",
       "<tr><td>29.126665626064202</td><td>-6.77473359426081</td><td>8.337443861989856</td><td>8.576555889904595</td><td>2.0508939710457588</td><td>1.8160370021082282</td><td>82780004</td><td>23.952926635742188</td></tr>\n",
       "<tr><td>29.067357382379907</td><td>-6.774723759969203</td><td>7.193938188115797</td><td>8.7349430906841</td><td>1.1064047148959764</td><td>1.9757167691941842</td><td>82780004</td><td>24.229347229003906</td></tr>\n",
       "<tr><td>29.11473313855873</td><td>-6.774551113549213</td><td>8.0608114825069</td><td>7.908530707747893</td><td>1.4151183856813305</td><td>1.078428769021884</td><td>82780004</td><td>23.375526428222656</td></tr>\n",
       "<tr><td>29.108439423590077</td><td>-6.773931553803997</td><td>9.366071035344739</td><td>9.616485953947404</td><td>3.013267612494335</td><td>2.714557950795668</td><td>82780004</td><td>22.23832893371582</td></tr>\n",
       "<tr><td>29.10984648746462</td><td>-6.773631608498949</td><td>8.471619921586406</td><td>8.686898825858908</td><td>0.8704239922062511</td><td>0.7282026805228132</td><td>82780004</td><td>22.054401397705078</td></tr>\n",
       "<tr><td>29.096387207795175</td><td>-6.773254081977553</td><td>9.09371645647439</td><td>9.247871873762403</td><td>2.0630126412770173</td><td>1.769857867160542</td><td>82780004</td><td>21.86031723022461</td></tr>\n",
       "<tr><td>29.049894596351326</td><td>-6.773429459673613</td><td>7.968451521624011</td><td>8.166529519620553</td><td>1.155833609606551</td><td>0.9224654649500095</td><td>82780004</td><td>23.64910125732422</td></tr>\n",
       "<tr><td>29.098610255564555</td><td>-6.773342043991594</td><td>8.35171798952198</td><td>8.543438248129403</td><td>1.995493071923766</td><td>1.6478180735128185</td><td>82780004</td><td>23.58775520324707</td></tr>\n",
       "<tr><td>...</td><td>...</td><td>...</td><td>...</td><td>...</td><td>...</td><td>...</td><td>...</td></tr>\n",
       "<tr><td>213.90937654673772</td><td>53.18638864864173</td><td>6.521382554185897</td><td>6.485917739091609</td><td>0.5805078383427725</td><td>0.5125094117592974</td><td>169730806</td><td>25.459487915039062</td></tr>\n",
       "<tr><td>213.89235322339857</td><td>53.21437135515517</td><td>6.577152813115587</td><td>7.041741350491001</td><td>0.4088283940634906</td><td>0.4627276913952718</td><td>169730806</td><td>26.24725341796875</td></tr>\n",
       "<tr><td>213.8921000830188</td><td>53.21376977390978</td><td>6.509544392303487</td><td>6.873706756378558</td><td>0.40022816759664465</td><td>0.4231368663296601</td><td>169730806</td><td>26.308719635009766</td></tr>\n",
       "<tr><td>213.88924693059377</td><td>53.21989470071096</td><td>6.492654890932159</td><td>6.307311597788188</td><td>0.3155675224956042</td><td>0.29028166134643296</td><td>169730806</td><td>24.824312210083008</td></tr>\n",
       "<tr><td>213.87825951856232</td><td>53.24095083437476</td><td>7.081553670981695</td><td>7.446569863199606</td><td>0.36608382465635414</td><td>0.24771072525993443</td><td>169730806</td><td>24.21730613708496</td></tr>\n",
       "<tr><td>213.90558452881055</td><td>53.24710141174297</td><td>7.308969360726451</td><td>7.376913569066137</td><td>1.0214674513129343</td><td>0.7695422223391493</td><td>169730806</td><td>25.07198143005371</td></tr>\n",
       "<tr><td>213.90602172554313</td><td>53.24722472245111</td><td>6.887270213401776</td><td>7.171161648680185</td><td>0.7157363684152968</td><td>0.6956610513411459</td><td>169730806</td><td>25.360687255859375</td></tr>\n",
       "<tr><td>213.88861027838306</td><td>53.25148278667229</td><td>6.915803461514163</td><td>7.118019315328016</td><td>0.5797909698015062</td><td>0.49926810922207665</td><td>169730806</td><td>26.669015884399414</td></tr>\n",
       "<tr><td>213.8891779527558</td><td>53.25111281879681</td><td>7.105402915100818</td><td>7.432475453306316</td><td>0.700000610998839</td><td>0.7014250144496372</td><td>169730806</td><td>24.896705627441406</td></tr>\n",
       "<tr><td>213.91304890213354</td><td>53.2576421336773</td><td>7.118664455121211</td><td>7.4762198663424035</td><td>0.8511632523223285</td><td>0.9087120153443622</td><td>169730806</td><td>27.359973907470703</td></tr>\n",
       "</table></div>"
      ],
      "text/plain": [
       "<Table length=174900944>\n",
       "        ra                dec         ... skymap_id    z_cmodel_mag   \n",
       "     float64            float64       ...   int32        float64      \n",
       "------------------ ------------------ ... --------- ------------------\n",
       " 29.11596307549589 -6.775140624839325 ...  82780004  21.56328582763672\n",
       "29.097010963966863  -6.77468933995016 ...  82780004  22.58925437927246\n",
       "29.126665626064202  -6.77473359426081 ...  82780004 23.952926635742188\n",
       "29.067357382379907 -6.774723759969203 ...  82780004 24.229347229003906\n",
       " 29.11473313855873 -6.774551113549213 ...  82780004 23.375526428222656\n",
       "29.108439423590077 -6.773931553803997 ...  82780004  22.23832893371582\n",
       " 29.10984648746462 -6.773631608498949 ...  82780004 22.054401397705078\n",
       "29.096387207795175 -6.773254081977553 ...  82780004  21.86031723022461\n",
       "29.049894596351326 -6.773429459673613 ...  82780004  23.64910125732422\n",
       "29.098610255564555 -6.773342043991594 ...  82780004  23.58775520324707\n",
       "               ...                ... ...       ...                ...\n",
       "213.90937654673772  53.18638864864173 ... 169730806 25.459487915039062\n",
       "213.89235322339857  53.21437135515517 ... 169730806  26.24725341796875\n",
       " 213.8921000830188  53.21376977390978 ... 169730806 26.308719635009766\n",
       "213.88924693059377  53.21989470071096 ... 169730806 24.824312210083008\n",
       "213.87825951856232  53.24095083437476 ... 169730806  24.21730613708496\n",
       "213.90558452881055  53.24710141174297 ... 169730806  25.07198143005371\n",
       "213.90602172554313  53.24722472245111 ... 169730806 25.360687255859375\n",
       "213.88861027838306  53.25148278667229 ... 169730806 26.669015884399414\n",
       " 213.8891779527558  53.25111281879681 ... 169730806 24.896705627441406\n",
       "213.91304890213354   53.2576421336773 ... 169730806 27.359973907470703"
      ]
     },
     "execution_count": 37,
     "metadata": {},
     "output_type": "execute_result"
    }
   ],
   "source": [
    "targets1"
   ]
  },
  {
   "cell_type": "code",
   "execution_count": 47,
   "id": "37224d08-f3f3-40bc-9048-56f633c5e959",
   "metadata": {
    "execution": {
     "iopub.execute_input": "2021-12-27T10:21:34.873902Z",
     "iopub.status.busy": "2021-12-27T10:21:34.873724Z",
     "iopub.status.idle": "2021-12-27T10:23:40.735483Z",
     "shell.execute_reply": "2021-12-27T10:23:40.734896Z",
     "shell.execute_reply.started": "2021-12-27T10:21:34.873882Z"
    },
    "tags": []
   },
   "outputs": [],
   "source": [
    "# Table(targets1).write(\"/home/yunzheng/PAC/code/PAC/0.2_0.4/photo.fits\",overwrite = True)"
   ]
  },
  {
   "cell_type": "code",
   "execution_count": null,
   "id": "9a6bac2d-c0d3-4ba3-b408-53de0e61ebcc",
   "metadata": {
    "execution": {
     "iopub.execute_input": "2022-05-30T01:45:04.184889Z",
     "iopub.status.busy": "2022-05-30T01:45:04.184287Z"
    },
    "tags": []
   },
   "outputs": [],
   "source": [
    "Table(targets1).write(\"./photo_bayes_2_4.fits\")"
   ]
  },
  {
   "cell_type": "code",
   "execution_count": 8,
   "id": "753e9ebb-75e9-44b7-b825-d2be060afdd9",
   "metadata": {
    "execution": {
     "iopub.execute_input": "2022-05-30T02:44:23.238695Z",
     "iopub.status.busy": "2022-05-30T02:44:23.238349Z",
     "iopub.status.idle": "2022-05-30T02:44:23.243235Z",
     "shell.execute_reply": "2022-05-30T02:44:23.242537Z",
     "shell.execute_reply.started": "2022-05-30T02:44:23.238672Z"
    }
   },
   "outputs": [
    {
     "data": {
      "text/plain": [
       "'/home/yunzheng/PAC/code/hsc_SEDfitting'"
      ]
     },
     "execution_count": 8,
     "metadata": {},
     "output_type": "execute_result"
    }
   ],
   "source": [
    "pwd"
   ]
  },
  {
   "cell_type": "code",
   "execution_count": 1,
   "id": "c2c6c22b-3a86-473f-9f3e-7389f171b23c",
   "metadata": {
    "execution": {
     "iopub.execute_input": "2022-05-30T02:06:15.317244Z",
     "iopub.status.busy": "2022-05-30T02:06:15.317020Z",
     "iopub.status.idle": "2022-05-30T02:06:15.453229Z",
     "shell.execute_reply": "2022-05-30T02:06:15.452416Z",
     "shell.execute_reply.started": "2022-05-30T02:06:15.317183Z"
    }
   },
   "outputs": [
    {
     "ename": "NameError",
     "evalue": "name 'Table' is not defined",
     "output_type": "error",
     "traceback": [
      "\u001b[0;31m---------------------------------------------------------------------------\u001b[0m",
      "\u001b[0;31mNameError\u001b[0m                                 Traceback (most recent call last)",
      "\u001b[0;32m/tmp/ipykernel_125727/4266859761.py\u001b[0m in \u001b[0;36m<module>\u001b[0;34m\u001b[0m\n\u001b[0;32m----> 1\u001b[0;31m \u001b[0mTable\u001b[0m\u001b[0;34m.\u001b[0m\u001b[0mread\u001b[0m\u001b[0;34m(\u001b[0m\u001b[0;34m\"./photo_bayes_2_4.fits\"\u001b[0m\u001b[0;34m)\u001b[0m\u001b[0;34m\u001b[0m\u001b[0;34m\u001b[0m\u001b[0m\n\u001b[0m",
      "\u001b[0;31mNameError\u001b[0m: name 'Table' is not defined"
     ]
    }
   ],
   "source": [
    "/home/yunzheng/PAC/code/hsc_SEDfitting/photo_bayes_2_4.fits"
   ]
  },
  {
   "cell_type": "code",
   "execution_count": 29,
   "id": "76267245-8413-4d22-9d21-2bc560cf632d",
   "metadata": {
    "execution": {
     "iopub.execute_input": "2022-02-21T14:08:55.700259Z",
     "iopub.status.busy": "2022-02-21T14:08:55.699268Z",
     "iopub.status.idle": "2022-02-21T14:08:55.706161Z",
     "shell.execute_reply": "2022-02-21T14:08:55.705265Z",
     "shell.execute_reply.started": "2022-02-21T14:08:55.700209Z"
    }
   },
   "outputs": [
    {
     "data": {
      "text/plain": [
       "'/home/yunzheng/PAC/code/hsc_SEDfitting'"
      ]
     },
     "execution_count": 29,
     "metadata": {},
     "output_type": "execute_result"
    }
   ],
   "source": [
    "pwd"
   ]
  },
  {
   "cell_type": "code",
   "execution_count": 30,
   "id": "6eaf0501-6fc8-40d4-912a-fa216d2124ef",
   "metadata": {
    "execution": {
     "iopub.execute_input": "2022-02-21T14:09:01.700817Z",
     "iopub.status.busy": "2022-02-21T14:09:01.700254Z",
     "iopub.status.idle": "2022-02-21T14:09:07.959603Z",
     "shell.execute_reply": "2022-02-21T14:09:07.957883Z",
     "shell.execute_reply.started": "2022-02-21T14:09:01.700768Z"
    }
   },
   "outputs": [
    {
     "name": "stdout",
     "output_type": "stream",
     "text": [
      "\u001b[0m\u001b[01;34m0p25\u001b[0m/       append65.e        append_u.pbs             results_0p45.fits\n",
      "\u001b[01;34m0p35\u001b[0m/       append65.o        append_u.py              results_0p55.fits\n",
      "\u001b[01;34m0p45\u001b[0m/       append_g.pbs      create_dic.e             results_0p65.fits\n",
      "\u001b[01;34m0p55\u001b[0m/       append_g.py       create_dic.o             run_sed.pbs\n",
      "\u001b[01;34m0p65\u001b[0m/       append_mass.pbs   create_dic.pbs           run_sed.py\n",
      "append25.e  append_mass.py    create_dic.py            sed_red.fits\n",
      "append25.o  append_r.pbs      hsc_SED_result2_4.ipynb  splittable2.e\n",
      "append35.e  append_r.py       hsc_SED_result3_5.ipynb  splittable2.o\n",
      "append35.o  append_table2.py  hsc_SED_result5_7.ipynb  splittable.e\n",
      "append45.e  appendtable65.e   pcigale.ini              splittable.o\n",
      "append45.o  appendtable65.o   pcigale.ini.spec         split_table.pbs\n",
      "append55.e  append_table.pbs  results_0p25.fits        split_table.py\n",
      "append55.o  append_table.py   results_0p35.fits\n"
     ]
    }
   ],
   "source": [
    "ls"
   ]
  },
  {
   "cell_type": "code",
   "execution_count": null,
   "id": "5067a1c3-756a-4b46-99a2-1a0b9252cce2",
   "metadata": {},
   "outputs": [],
   "source": [
    "/home/yunzheng/PAC/code/hsc_SEDfitting/hsc_SED_result2_4.ipynb"
   ]
  }
 ],
 "metadata": {
  "kernelspec": {
   "display_name": "numba38",
   "language": "python",
   "name": "numba38"
  },
  "language_info": {
   "codemirror_mode": {
    "name": "ipython",
    "version": 3
   },
   "file_extension": ".py",
   "mimetype": "text/x-python",
   "name": "python",
   "nbconvert_exporter": "python",
   "pygments_lexer": "ipython3",
   "version": "3.8.12"
  },
  "toc-autonumbering": true
 },
 "nbformat": 4,
 "nbformat_minor": 5
}
